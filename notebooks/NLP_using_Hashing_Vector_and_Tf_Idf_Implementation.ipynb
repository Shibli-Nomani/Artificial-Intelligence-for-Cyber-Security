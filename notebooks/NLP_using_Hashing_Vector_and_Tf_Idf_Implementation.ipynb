{
  "nbformat": 4,
  "nbformat_minor": 0,
  "metadata": {
    "colab": {
      "provenance": []
    },
    "kernelspec": {
      "name": "python3",
      "display_name": "Python 3"
    },
    "language_info": {
      "name": "python"
    }
  },
  "cells": [
    {
      "cell_type": "code",
      "execution_count": null,
      "metadata": {
        "id": "s8FkF8TT39_V"
      },
      "outputs": [],
      "source": []
    },
    {
      "cell_type": "markdown",
      "source": [
        "# Definition\n",
        "\n",
        "- Vectorization in NLP: 📊 Transforming text data into numerical vectors for machine learning algorithms to process.\n",
        "- Count Vectorizer: 📏 Converts text documents into a matrix where each row represents a document and each column represents a unique word, with values indicating the frequency of each word.\n",
        "  [Learn more about Count Vectorizer](https://www.youtube.com/watch?v=NF_DhVH_I-E)\n",
        "- Hashing Vectorizer: 🔍 Converts text into fixed-size vectors by applying a hashing function to tokenized words.\n",
        "  [Learn more about Hashing Vectorizer](https://www.youtube.com/watch?v=NF_DhVH_I-E)\n",
        "\n",
        "- Benefits: 💡 Efficiently represents text data for machine learning models, enabling analysis and prediction tasks.\n",
        "- Tf-idf Vectorizer: 📈 Converts text documents into numerical vectors based on term frequency-inverse document frequency, emphasizing rare terms that are important in distinguishing documents.\n",
        "[Learn more about Tf-Idf](https://www.youtube.com/watch?v=D2V1okCEsiE)\n",
        "\n",
        "- Hashing Vectorizer vs Tf-idf Vectorizer: 🔄 Hashing Vectorizer is memory-efficient and faster\n",
        "    \n",
        "\n"
      ],
      "metadata": {
        "id": "RVBaiac95E1E"
      }
    },
    {
      "cell_type": "code",
      "source": [
        "from google.colab import drive\n",
        "drive.mount('/content/drive')"
      ],
      "metadata": {
        "colab": {
          "base_uri": "https://localhost:8080/"
        },
        "id": "dY9wG6riAjxX",
        "outputId": "04108a08-7f6b-42e5-bd44-d4f34d90558f"
      },
      "execution_count": 1,
      "outputs": [
        {
          "output_type": "stream",
          "name": "stdout",
          "text": [
            "Mounted at /content/drive\n"
          ]
        }
      ]
    },
    {
      "cell_type": "markdown",
      "source": [
        "# Import Libraries"
      ],
      "metadata": {
        "id": "s83pp8EPGr_U"
      }
    },
    {
      "cell_type": "code",
      "source": [
        "# hashing vectorizer\n",
        "from sklearn.feature_extraction.text import HashingVectorizer\n",
        "\n",
        "from sklearn.feature_extraction.text import TfidfTransformer\n"
      ],
      "metadata": {
        "id": "nygsiDeBGueg"
      },
      "execution_count": 5,
      "outputs": []
    },
    {
      "cell_type": "code",
      "source": [
        "# import text data\n",
        "\n",
        "with open(\"/content/drive/MyDrive/CyberSecurity with AI /anonops_short.txt\", encoding = 'utf8') as f:\n",
        "  annops_chat_log = f.readlines()\n",
        "\n",
        ""
      ],
      "metadata": {
        "id": "OzQuyVa_Fqu5"
      },
      "execution_count": 8,
      "outputs": []
    },
    {
      "cell_type": "code",
      "source": [
        "# Read the file\n",
        "file_path = '/content/drive/MyDrive/CyberSecurity with AI /anonops_short.txt'\n",
        "with open(file_path, 'r') as file:\n",
        "    data = file.read()\n",
        "\n",
        "# Print the content of the file\n",
        "print(data)"
      ],
      "metadata": {
        "colab": {
          "base_uri": "https://localhost:8080/"
        },
        "id": "2aXiXKK0HwqH",
        "outputId": "9b1a1173-dcf2-45a9-bc79-7730b554dcdc"
      },
      "execution_count": 9,
      "outputs": [
        {
          "output_type": "stream",
          "name": "stderr",
          "text": [
            "IOPub data rate exceeded.\n",
            "The notebook server will temporarily stop sending output\n",
            "to the client in order to avoid crashing it.\n",
            "To change this limit, set the config variable\n",
            "`--NotebookApp.iopub_data_rate_limit`.\n",
            "\n",
            "Current values:\n",
            "NotebookApp.iopub_data_rate_limit=1000000.0 (bytes/sec)\n",
            "NotebookApp.rate_limit_window=3.0 (secs)\n",
            "\n"
          ]
        }
      ]
    },
    {
      "cell_type": "code",
      "source": [
        "# Define HashingVectorizer\n",
        "hash_vector = HashingVectorizer(input='content', ngram_range=(1, 2))\n",
        "\n",
        "# Transform text data into a numerical matrix\n",
        "X_train_counts = hash_vector.fit_transform(annops_chat_log)\n",
        "\n",
        "# Calculate TF-IDF\n",
        "tf_transform = TfidfTransformer(use_idf=True).fit(X_train_counts)\n",
        "\n",
        "# Transform count matrix to TF-IDF representation\n",
        "X_train_tf = tf_transform.transform(X_train_counts)"
      ],
      "metadata": {
        "id": "v4cC36XbGhn_"
      },
      "execution_count": 12,
      "outputs": []
    },
    {
      "cell_type": "markdown",
      "source": [
        "**📌note:** we applied n-grams is 1,2 which means single word / two consecutive words count together by applying hashing vectorization. Then we applied Tf-Idf Vectorizer to assign perfect weight to the count of hashing vectorization."
      ],
      "metadata": {
        "id": "WAutXXdDKfHc"
      }
    },
    {
      "cell_type": "code",
      "source": [
        "print(f\"spare matrix representation: \\n{X_train_tf}\")"
      ],
      "metadata": {
        "colab": {
          "base_uri": "https://localhost:8080/"
        },
        "id": "CZ3v_L1dLrdG",
        "outputId": "3e3d559a-0563-4019-aacc-46a6c42580c8"
      },
      "execution_count": 13,
      "outputs": [
        {
          "output_type": "stream",
          "name": "stdout",
          "text": [
            "spare matrix representation: \n",
            "  (0, 938273)\t0.10023429482560929\n",
            "  (0, 871172)\t-0.33044470291777067\n",
            "  (0, 755834)\t-0.2806123960092745\n",
            "  (0, 556974)\t-0.2171490773135763\n",
            "  (0, 548264)\t-0.09851435603064428\n",
            "  (0, 531189)\t-0.2566310842337745\n",
            "  (0, 522961)\t-0.3119912982467716\n",
            "  (0, 514190)\t-0.2527659565181208\n",
            "  (0, 501800)\t-0.33044470291777067\n",
            "  (0, 499727)\t-0.18952297847436425\n",
            "  (0, 488876)\t0.13502094828386488\n",
            "  (0, 377854)\t0.22710724511856722\n",
            "  (0, 334594)\t-0.25581186158424035\n",
            "  (0, 256577)\t0.20949022238574433\n",
            "  (0, 197273)\t-0.30119674850360456\n",
            "  (0, 114899)\t0.09713499033205285\n",
            "  (0, 28523)\t-0.3060506288368513\n",
            "  (1, 960098)\t0.09780838928665199\n",
            "  (1, 955748)\t-0.2747271490090429\n",
            "  (1, 952302)\t0.26070217969901804\n",
            "  (1, 938273)\t0.12095603891963835\n",
            "  (1, 937092)\t-0.2947114257264502\n",
            "  (1, 927866)\t0.21727726371674563\n",
            "  (1, 820768)\t-0.11065660403137358\n",
            "  (1, 772066)\t-0.14344517367198276\n",
            "  :\t:\n",
            "  (180828, 329790)\t0.06808618130417012\n",
            "  (180828, 312887)\t-0.08249409552977467\n",
            "  (180828, 209871)\t0.17685927011939476\n",
            "  (180828, 193711)\t-0.14127016157231428\n",
            "  (180828, 181881)\t-0.11885031537539834\n",
            "  (180828, 180525)\t-0.06925490785130799\n",
            "  (180828, 156500)\t-0.20787461071537122\n",
            "  (180828, 148568)\t0.1963433059906426\n",
            "  (180828, 82508)\t-0.1289257787752738\n",
            "  (180828, 79994)\t0.23121076025389292\n",
            "  (180828, 78098)\t-0.18205107240120946\n",
            "  (180828, 47738)\t0.23121076025389292\n",
            "  (180828, 46353)\t0.1045181919567425\n",
            "  (180828, 45900)\t-0.09537730182105167\n",
            "  (180828, 45419)\t-0.11189579574426382\n",
            "  (180828, 11712)\t-0.16947494737589616\n",
            "  (180829, 1026910)\t0.4082112914772047\n",
            "  (180829, 975831)\t-0.18401193506169794\n",
            "  (180829, 936283)\t0.2472007199039777\n",
            "  (180829, 856299)\t-0.15436175878438183\n",
            "  (180829, 473183)\t-0.41092004816695277\n",
            "  (180829, 464504)\t0.2928849862993687\n",
            "  (180829, 251872)\t-0.4714000763194845\n",
            "  (180829, 189128)\t0.44418614795477124\n",
            "  (180829, 45900)\t-0.20102520636796686\n"
          ]
        }
      ]
    }
  ]
}