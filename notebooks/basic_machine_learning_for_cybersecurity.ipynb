{
  "nbformat": 4,
  "nbformat_minor": 0,
  "metadata": {
    "colab": {
      "provenance": []
    },
    "kernelspec": {
      "name": "python3",
      "display_name": "Python 3"
    },
    "language_info": {
      "name": "python"
    }
  },
  "cells": [
    {
      "cell_type": "markdown",
      "source": [
        "### Import Libraries"
      ],
      "metadata": {
        "id": "vf_e31urexZO"
      }
    },
    {
      "cell_type": "code",
      "execution_count": 1,
      "metadata": {
        "id": "rR2msOwqem2l"
      },
      "outputs": [],
      "source": [
        "import pandas as pd\n",
        "from sklearn.model_selection import train_test_split"
      ]
    },
    {
      "cell_type": "code",
      "source": [
        "# prompt: from google.colab import drive\n",
        "\n",
        "from google.colab import drive\n",
        "drive.mount('/content/drive')\n"
      ],
      "metadata": {
        "colab": {
          "base_uri": "https://localhost:8080/"
        },
        "id": "VuXAhGjEfG0Y",
        "outputId": "d6e103c2-e452-4cf4-9b5b-1ddbd0fa9992"
      },
      "execution_count": 2,
      "outputs": [
        {
          "output_type": "stream",
          "name": "stdout",
          "text": [
            "Mounted at /content/drive\n"
          ]
        }
      ]
    },
    {
      "cell_type": "code",
      "source": [
        "df = pd.read_csv(\"/content/drive/MyDrive/CyberSecurity with AI /north_korea_missile_test_database.csv\")\n",
        "df.head(5)"
      ],
      "metadata": {
        "colab": {
          "base_uri": "https://localhost:8080/",
          "height": 644
        },
        "id": "O0DUEj-Rfj50",
        "outputId": "790b607e-cadc-432c-e669-e8b3b1d1a72a"
      },
      "execution_count": 3,
      "outputs": [
        {
          "output_type": "stream",
          "name": "stderr",
          "text": [
            "/usr/local/lib/python3.10/dist-packages/google/colab/_dataframe_summarizer.py:88: UserWarning: Could not infer format, so each element will be parsed individually, falling back to `dateutil`. To ensure parsing is consistent and as-expected, please specify a format.\n",
            "  cast_date_col = pd.to_datetime(column, errors=\"coerce\")\n"
          ]
        },
        {
          "output_type": "execute_result",
          "data": {
            "text/plain": [
              "   F1      Date Date Entered/Updated Launch Time (UTC) Missile Name  \\\n",
              "0   1  9-Apr-84            23-Dec-16               NaN       Scud-B   \n",
              "1   2  9-Apr-84            23-Dec-16               NaN       Scud-B   \n",
              "2   3  9-Apr-84            23-Dec-16               NaN       Scud-B   \n",
              "3   4    Sep-84            23-Dec-16               NaN       Scud-B   \n",
              "4   5    Sep-84            23-Dec-16               NaN       Scud-B   \n",
              "\n",
              "  Missile Type Launch Agency/Authority                       Facility Name  \\\n",
              "0         SRBM                     NaN  Tonghae Satellite Launching Ground   \n",
              "1         SRBM                     NaN  Tonghae Satellite Launching Ground   \n",
              "2         SRBM                     NaN  Tonghae Satellite Launching Ground   \n",
              "3         SRBM                     NaN  Tonghae Satellite Launching Ground   \n",
              "4         SRBM                     NaN  Tonghae Satellite Launching Ground   \n",
              "\n",
              "                        Facility Location  Other Name Facility Latitude  \\\n",
              "0  Hwadae County, North Hamgyong Province  Musudan-ri        40.8499966   \n",
              "1  Hwadae County, North Hamgyong Province  Musudan-ri        40.8499966   \n",
              "2  Hwadae County, North Hamgyong Province  Musudan-ri        40.8499966   \n",
              "3  Hwadae County, North Hamgyong Province  Musudan-ri        40.8499966   \n",
              "4  Hwadae County, North Hamgyong Province  Musudan-ri        40.8499966   \n",
              "\n",
              "  Facility Longitude Landing Location   Apogee Distance Travelled  \\\n",
              "0         129.666664          Unknown  Unknown            Unknown   \n",
              "1         129.666664          Unknown  Unknown            Unknown   \n",
              "2         129.666664          Unknown   200 km            Unknown   \n",
              "3         129.666664          Unknown  Unknown            Unknown   \n",
              "4         129.666664          Unknown   200 km            Unknown   \n",
              "\n",
              "  Confirmation Status Test Outcome  \\\n",
              "0           Confirmed      Success   \n",
              "1           Confirmed      Success   \n",
              "2           Confirmed      Success   \n",
              "3           Confirmed      Failure   \n",
              "4           Confirmed      Failure   \n",
              "\n",
              "                              Additional Information  \\\n",
              "0  First known test by North Korea of a missile w...   \n",
              "1                                                NaN   \n",
              "2                                                NaN   \n",
              "3                                                NaN   \n",
              "4                                                NaN   \n",
              "\n",
              "                                           Source(s)  \n",
              "0  http://www.nti.org/media/pdfs/north_korea_miss...  \n",
              "1  http://www.nti.org/media/pdfs/north_korea_miss...  \n",
              "2  http://www.astronautix.com/g/gitdaeryung.html;...  \n",
              "3  Joseph S. Bermudez, \"A History of Ballistic Mi...  \n",
              "4  http://www.astronautix.com/g/gitdaeryung.html;...  "
            ],
            "text/html": [
              "\n",
              "  <div id=\"df-7b31d750-0669-4f9e-a6e6-4ff8bfb26ac2\" class=\"colab-df-container\">\n",
              "    <div>\n",
              "<style scoped>\n",
              "    .dataframe tbody tr th:only-of-type {\n",
              "        vertical-align: middle;\n",
              "    }\n",
              "\n",
              "    .dataframe tbody tr th {\n",
              "        vertical-align: top;\n",
              "    }\n",
              "\n",
              "    .dataframe thead th {\n",
              "        text-align: right;\n",
              "    }\n",
              "</style>\n",
              "<table border=\"1\" class=\"dataframe\">\n",
              "  <thead>\n",
              "    <tr style=\"text-align: right;\">\n",
              "      <th></th>\n",
              "      <th>F1</th>\n",
              "      <th>Date</th>\n",
              "      <th>Date Entered/Updated</th>\n",
              "      <th>Launch Time (UTC)</th>\n",
              "      <th>Missile Name</th>\n",
              "      <th>Missile Type</th>\n",
              "      <th>Launch Agency/Authority</th>\n",
              "      <th>Facility Name</th>\n",
              "      <th>Facility Location</th>\n",
              "      <th>Other Name</th>\n",
              "      <th>Facility Latitude</th>\n",
              "      <th>Facility Longitude</th>\n",
              "      <th>Landing Location</th>\n",
              "      <th>Apogee</th>\n",
              "      <th>Distance Travelled</th>\n",
              "      <th>Confirmation Status</th>\n",
              "      <th>Test Outcome</th>\n",
              "      <th>Additional Information</th>\n",
              "      <th>Source(s)</th>\n",
              "    </tr>\n",
              "  </thead>\n",
              "  <tbody>\n",
              "    <tr>\n",
              "      <th>0</th>\n",
              "      <td>1</td>\n",
              "      <td>9-Apr-84</td>\n",
              "      <td>23-Dec-16</td>\n",
              "      <td>NaN</td>\n",
              "      <td>Scud-B</td>\n",
              "      <td>SRBM</td>\n",
              "      <td>NaN</td>\n",
              "      <td>Tonghae Satellite Launching Ground</td>\n",
              "      <td>Hwadae County, North Hamgyong Province</td>\n",
              "      <td>Musudan-ri</td>\n",
              "      <td>40.8499966</td>\n",
              "      <td>129.666664</td>\n",
              "      <td>Unknown</td>\n",
              "      <td>Unknown</td>\n",
              "      <td>Unknown</td>\n",
              "      <td>Confirmed</td>\n",
              "      <td>Success</td>\n",
              "      <td>First known test by North Korea of a missile w...</td>\n",
              "      <td>http://www.nti.org/media/pdfs/north_korea_miss...</td>\n",
              "    </tr>\n",
              "    <tr>\n",
              "      <th>1</th>\n",
              "      <td>2</td>\n",
              "      <td>9-Apr-84</td>\n",
              "      <td>23-Dec-16</td>\n",
              "      <td>NaN</td>\n",
              "      <td>Scud-B</td>\n",
              "      <td>SRBM</td>\n",
              "      <td>NaN</td>\n",
              "      <td>Tonghae Satellite Launching Ground</td>\n",
              "      <td>Hwadae County, North Hamgyong Province</td>\n",
              "      <td>Musudan-ri</td>\n",
              "      <td>40.8499966</td>\n",
              "      <td>129.666664</td>\n",
              "      <td>Unknown</td>\n",
              "      <td>Unknown</td>\n",
              "      <td>Unknown</td>\n",
              "      <td>Confirmed</td>\n",
              "      <td>Success</td>\n",
              "      <td>NaN</td>\n",
              "      <td>http://www.nti.org/media/pdfs/north_korea_miss...</td>\n",
              "    </tr>\n",
              "    <tr>\n",
              "      <th>2</th>\n",
              "      <td>3</td>\n",
              "      <td>9-Apr-84</td>\n",
              "      <td>23-Dec-16</td>\n",
              "      <td>NaN</td>\n",
              "      <td>Scud-B</td>\n",
              "      <td>SRBM</td>\n",
              "      <td>NaN</td>\n",
              "      <td>Tonghae Satellite Launching Ground</td>\n",
              "      <td>Hwadae County, North Hamgyong Province</td>\n",
              "      <td>Musudan-ri</td>\n",
              "      <td>40.8499966</td>\n",
              "      <td>129.666664</td>\n",
              "      <td>Unknown</td>\n",
              "      <td>200 km</td>\n",
              "      <td>Unknown</td>\n",
              "      <td>Confirmed</td>\n",
              "      <td>Success</td>\n",
              "      <td>NaN</td>\n",
              "      <td>http://www.astronautix.com/g/gitdaeryung.html;...</td>\n",
              "    </tr>\n",
              "    <tr>\n",
              "      <th>3</th>\n",
              "      <td>4</td>\n",
              "      <td>Sep-84</td>\n",
              "      <td>23-Dec-16</td>\n",
              "      <td>NaN</td>\n",
              "      <td>Scud-B</td>\n",
              "      <td>SRBM</td>\n",
              "      <td>NaN</td>\n",
              "      <td>Tonghae Satellite Launching Ground</td>\n",
              "      <td>Hwadae County, North Hamgyong Province</td>\n",
              "      <td>Musudan-ri</td>\n",
              "      <td>40.8499966</td>\n",
              "      <td>129.666664</td>\n",
              "      <td>Unknown</td>\n",
              "      <td>Unknown</td>\n",
              "      <td>Unknown</td>\n",
              "      <td>Confirmed</td>\n",
              "      <td>Failure</td>\n",
              "      <td>NaN</td>\n",
              "      <td>Joseph S. Bermudez, \"A History of Ballistic Mi...</td>\n",
              "    </tr>\n",
              "    <tr>\n",
              "      <th>4</th>\n",
              "      <td>5</td>\n",
              "      <td>Sep-84</td>\n",
              "      <td>23-Dec-16</td>\n",
              "      <td>NaN</td>\n",
              "      <td>Scud-B</td>\n",
              "      <td>SRBM</td>\n",
              "      <td>NaN</td>\n",
              "      <td>Tonghae Satellite Launching Ground</td>\n",
              "      <td>Hwadae County, North Hamgyong Province</td>\n",
              "      <td>Musudan-ri</td>\n",
              "      <td>40.8499966</td>\n",
              "      <td>129.666664</td>\n",
              "      <td>Unknown</td>\n",
              "      <td>200 km</td>\n",
              "      <td>Unknown</td>\n",
              "      <td>Confirmed</td>\n",
              "      <td>Failure</td>\n",
              "      <td>NaN</td>\n",
              "      <td>http://www.astronautix.com/g/gitdaeryung.html;...</td>\n",
              "    </tr>\n",
              "  </tbody>\n",
              "</table>\n",
              "</div>\n",
              "    <div class=\"colab-df-buttons\">\n",
              "\n",
              "  <div class=\"colab-df-container\">\n",
              "    <button class=\"colab-df-convert\" onclick=\"convertToInteractive('df-7b31d750-0669-4f9e-a6e6-4ff8bfb26ac2')\"\n",
              "            title=\"Convert this dataframe to an interactive table.\"\n",
              "            style=\"display:none;\">\n",
              "\n",
              "  <svg xmlns=\"http://www.w3.org/2000/svg\" height=\"24px\" viewBox=\"0 -960 960 960\">\n",
              "    <path d=\"M120-120v-720h720v720H120Zm60-500h600v-160H180v160Zm220 220h160v-160H400v160Zm0 220h160v-160H400v160ZM180-400h160v-160H180v160Zm440 0h160v-160H620v160ZM180-180h160v-160H180v160Zm440 0h160v-160H620v160Z\"/>\n",
              "  </svg>\n",
              "    </button>\n",
              "\n",
              "  <style>\n",
              "    .colab-df-container {\n",
              "      display:flex;\n",
              "      gap: 12px;\n",
              "    }\n",
              "\n",
              "    .colab-df-convert {\n",
              "      background-color: #E8F0FE;\n",
              "      border: none;\n",
              "      border-radius: 50%;\n",
              "      cursor: pointer;\n",
              "      display: none;\n",
              "      fill: #1967D2;\n",
              "      height: 32px;\n",
              "      padding: 0 0 0 0;\n",
              "      width: 32px;\n",
              "    }\n",
              "\n",
              "    .colab-df-convert:hover {\n",
              "      background-color: #E2EBFA;\n",
              "      box-shadow: 0px 1px 2px rgba(60, 64, 67, 0.3), 0px 1px 3px 1px rgba(60, 64, 67, 0.15);\n",
              "      fill: #174EA6;\n",
              "    }\n",
              "\n",
              "    .colab-df-buttons div {\n",
              "      margin-bottom: 4px;\n",
              "    }\n",
              "\n",
              "    [theme=dark] .colab-df-convert {\n",
              "      background-color: #3B4455;\n",
              "      fill: #D2E3FC;\n",
              "    }\n",
              "\n",
              "    [theme=dark] .colab-df-convert:hover {\n",
              "      background-color: #434B5C;\n",
              "      box-shadow: 0px 1px 3px 1px rgba(0, 0, 0, 0.15);\n",
              "      filter: drop-shadow(0px 1px 2px rgba(0, 0, 0, 0.3));\n",
              "      fill: #FFFFFF;\n",
              "    }\n",
              "  </style>\n",
              "\n",
              "    <script>\n",
              "      const buttonEl =\n",
              "        document.querySelector('#df-7b31d750-0669-4f9e-a6e6-4ff8bfb26ac2 button.colab-df-convert');\n",
              "      buttonEl.style.display =\n",
              "        google.colab.kernel.accessAllowed ? 'block' : 'none';\n",
              "\n",
              "      async function convertToInteractive(key) {\n",
              "        const element = document.querySelector('#df-7b31d750-0669-4f9e-a6e6-4ff8bfb26ac2');\n",
              "        const dataTable =\n",
              "          await google.colab.kernel.invokeFunction('convertToInteractive',\n",
              "                                                    [key], {});\n",
              "        if (!dataTable) return;\n",
              "\n",
              "        const docLinkHtml = 'Like what you see? Visit the ' +\n",
              "          '<a target=\"_blank\" href=https://colab.research.google.com/notebooks/data_table.ipynb>data table notebook</a>'\n",
              "          + ' to learn more about interactive tables.';\n",
              "        element.innerHTML = '';\n",
              "        dataTable['output_type'] = 'display_data';\n",
              "        await google.colab.output.renderOutput(dataTable, element);\n",
              "        const docLink = document.createElement('div');\n",
              "        docLink.innerHTML = docLinkHtml;\n",
              "        element.appendChild(docLink);\n",
              "      }\n",
              "    </script>\n",
              "  </div>\n",
              "\n",
              "\n",
              "<div id=\"df-4ced8a11-8fd0-44d9-b23d-25f41dac0511\">\n",
              "  <button class=\"colab-df-quickchart\" onclick=\"quickchart('df-4ced8a11-8fd0-44d9-b23d-25f41dac0511')\"\n",
              "            title=\"Suggest charts\"\n",
              "            style=\"display:none;\">\n",
              "\n",
              "<svg xmlns=\"http://www.w3.org/2000/svg\" height=\"24px\"viewBox=\"0 0 24 24\"\n",
              "     width=\"24px\">\n",
              "    <g>\n",
              "        <path d=\"M19 3H5c-1.1 0-2 .9-2 2v14c0 1.1.9 2 2 2h14c1.1 0 2-.9 2-2V5c0-1.1-.9-2-2-2zM9 17H7v-7h2v7zm4 0h-2V7h2v10zm4 0h-2v-4h2v4z\"/>\n",
              "    </g>\n",
              "</svg>\n",
              "  </button>\n",
              "\n",
              "<style>\n",
              "  .colab-df-quickchart {\n",
              "      --bg-color: #E8F0FE;\n",
              "      --fill-color: #1967D2;\n",
              "      --hover-bg-color: #E2EBFA;\n",
              "      --hover-fill-color: #174EA6;\n",
              "      --disabled-fill-color: #AAA;\n",
              "      --disabled-bg-color: #DDD;\n",
              "  }\n",
              "\n",
              "  [theme=dark] .colab-df-quickchart {\n",
              "      --bg-color: #3B4455;\n",
              "      --fill-color: #D2E3FC;\n",
              "      --hover-bg-color: #434B5C;\n",
              "      --hover-fill-color: #FFFFFF;\n",
              "      --disabled-bg-color: #3B4455;\n",
              "      --disabled-fill-color: #666;\n",
              "  }\n",
              "\n",
              "  .colab-df-quickchart {\n",
              "    background-color: var(--bg-color);\n",
              "    border: none;\n",
              "    border-radius: 50%;\n",
              "    cursor: pointer;\n",
              "    display: none;\n",
              "    fill: var(--fill-color);\n",
              "    height: 32px;\n",
              "    padding: 0;\n",
              "    width: 32px;\n",
              "  }\n",
              "\n",
              "  .colab-df-quickchart:hover {\n",
              "    background-color: var(--hover-bg-color);\n",
              "    box-shadow: 0 1px 2px rgba(60, 64, 67, 0.3), 0 1px 3px 1px rgba(60, 64, 67, 0.15);\n",
              "    fill: var(--button-hover-fill-color);\n",
              "  }\n",
              "\n",
              "  .colab-df-quickchart-complete:disabled,\n",
              "  .colab-df-quickchart-complete:disabled:hover {\n",
              "    background-color: var(--disabled-bg-color);\n",
              "    fill: var(--disabled-fill-color);\n",
              "    box-shadow: none;\n",
              "  }\n",
              "\n",
              "  .colab-df-spinner {\n",
              "    border: 2px solid var(--fill-color);\n",
              "    border-color: transparent;\n",
              "    border-bottom-color: var(--fill-color);\n",
              "    animation:\n",
              "      spin 1s steps(1) infinite;\n",
              "  }\n",
              "\n",
              "  @keyframes spin {\n",
              "    0% {\n",
              "      border-color: transparent;\n",
              "      border-bottom-color: var(--fill-color);\n",
              "      border-left-color: var(--fill-color);\n",
              "    }\n",
              "    20% {\n",
              "      border-color: transparent;\n",
              "      border-left-color: var(--fill-color);\n",
              "      border-top-color: var(--fill-color);\n",
              "    }\n",
              "    30% {\n",
              "      border-color: transparent;\n",
              "      border-left-color: var(--fill-color);\n",
              "      border-top-color: var(--fill-color);\n",
              "      border-right-color: var(--fill-color);\n",
              "    }\n",
              "    40% {\n",
              "      border-color: transparent;\n",
              "      border-right-color: var(--fill-color);\n",
              "      border-top-color: var(--fill-color);\n",
              "    }\n",
              "    60% {\n",
              "      border-color: transparent;\n",
              "      border-right-color: var(--fill-color);\n",
              "    }\n",
              "    80% {\n",
              "      border-color: transparent;\n",
              "      border-right-color: var(--fill-color);\n",
              "      border-bottom-color: var(--fill-color);\n",
              "    }\n",
              "    90% {\n",
              "      border-color: transparent;\n",
              "      border-bottom-color: var(--fill-color);\n",
              "    }\n",
              "  }\n",
              "</style>\n",
              "\n",
              "  <script>\n",
              "    async function quickchart(key) {\n",
              "      const quickchartButtonEl =\n",
              "        document.querySelector('#' + key + ' button');\n",
              "      quickchartButtonEl.disabled = true;  // To prevent multiple clicks.\n",
              "      quickchartButtonEl.classList.add('colab-df-spinner');\n",
              "      try {\n",
              "        const charts = await google.colab.kernel.invokeFunction(\n",
              "            'suggestCharts', [key], {});\n",
              "      } catch (error) {\n",
              "        console.error('Error during call to suggestCharts:', error);\n",
              "      }\n",
              "      quickchartButtonEl.classList.remove('colab-df-spinner');\n",
              "      quickchartButtonEl.classList.add('colab-df-quickchart-complete');\n",
              "    }\n",
              "    (() => {\n",
              "      let quickchartButtonEl =\n",
              "        document.querySelector('#df-4ced8a11-8fd0-44d9-b23d-25f41dac0511 button');\n",
              "      quickchartButtonEl.style.display =\n",
              "        google.colab.kernel.accessAllowed ? 'block' : 'none';\n",
              "    })();\n",
              "  </script>\n",
              "</div>\n",
              "\n",
              "    </div>\n",
              "  </div>\n"
            ],
            "application/vnd.google.colaboratory.intrinsic+json": {
              "type": "dataframe",
              "variable_name": "df",
              "summary": "{\n  \"name\": \"df\",\n  \"rows\": 135,\n  \"fields\": [\n    {\n      \"column\": \"F1\",\n      \"properties\": {\n        \"dtype\": \"number\",\n        \"std\": 39,\n        \"min\": 1,\n        \"max\": 136,\n        \"num_unique_values\": 135,\n        \"samples\": [\n          100,\n          69,\n          107\n        ],\n        \"semantic_type\": \"\",\n        \"description\": \"\"\n      }\n    },\n    {\n      \"column\": \"Date\",\n      \"properties\": {\n        \"dtype\": \"object\",\n        \"num_unique_values\": 76,\n        \"samples\": [\n          \"Jun-90\",\n          \"21-Dec-15\",\n          \"5-Jul-06\"\n        ],\n        \"semantic_type\": \"\",\n        \"description\": \"\"\n      }\n    },\n    {\n      \"column\": \"Date Entered/Updated\",\n      \"properties\": {\n        \"dtype\": \"object\",\n        \"num_unique_values\": 13,\n        \"samples\": [\n          \"11-Sep-19\",\n          \"16-Aug-19\",\n          \"23-Dec-16\"\n        ],\n        \"semantic_type\": \"\",\n        \"description\": \"\"\n      }\n    },\n    {\n      \"column\": \"Launch Time (UTC)\",\n      \"properties\": {\n        \"dtype\": \"date\",\n        \"min\": \"2024-05-01 00:29:00\",\n        \"max\": \"2024-05-01 23:16:00\",\n        \"num_unique_values\": 43,\n        \"samples\": [\n          \"11:01:00 PM\",\n          \"12:40:00 AM\",\n          \"02:42:00 PM\"\n        ],\n        \"semantic_type\": \"\",\n        \"description\": \"\"\n      }\n    },\n    {\n      \"column\": \"Missile Name\",\n      \"properties\": {\n        \"dtype\": \"category\",\n        \"num_unique_values\": 21,\n        \"samples\": [\n          \"Scud-B\",\n          \"KN-23\",\n          \"Scud-B MaRV\"\n        ],\n        \"semantic_type\": \"\",\n        \"description\": \"\"\n      }\n    },\n    {\n      \"column\": \"Missile Type\",\n      \"properties\": {\n        \"dtype\": \"category\",\n        \"num_unique_values\": 7,\n        \"samples\": [\n          \"SRBM\",\n          \"Unknown\",\n          \"IRBM\"\n        ],\n        \"semantic_type\": \"\",\n        \"description\": \"\"\n      }\n    },\n    {\n      \"column\": \"Launch Agency/Authority\",\n      \"properties\": {\n        \"dtype\": \"category\",\n        \"num_unique_values\": 1,\n        \"samples\": [\n          \"Hwasong Artillery Units of the KPA Strategic Forces\"\n        ],\n        \"semantic_type\": \"\",\n        \"description\": \"\"\n      }\n    },\n    {\n      \"column\": \"Facility Name\",\n      \"properties\": {\n        \"dtype\": \"category\",\n        \"num_unique_values\": 29,\n        \"samples\": [\n          \"Kaechon Air Base\"\n        ],\n        \"semantic_type\": \"\",\n        \"description\": \"\"\n      }\n    },\n    {\n      \"column\": \"Facility Location\",\n      \"properties\": {\n        \"dtype\": \"category\",\n        \"num_unique_values\": 19,\n        \"samples\": [\n          \"Hwadae County, North Hamgyong Province\"\n        ],\n        \"semantic_type\": \"\",\n        \"description\": \"\"\n      }\n    },\n    {\n      \"column\": \"Other Name\",\n      \"properties\": {\n        \"dtype\": \"category\",\n        \"num_unique_values\": 20,\n        \"samples\": [\n          \"Musudan-ri\"\n        ],\n        \"semantic_type\": \"\",\n        \"description\": \"\"\n      }\n    },\n    {\n      \"column\": \"Facility Latitude\",\n      \"properties\": {\n        \"dtype\": \"category\",\n        \"num_unique_values\": 29,\n        \"samples\": [\n          \"39.752321\"\n        ],\n        \"semantic_type\": \"\",\n        \"description\": \"\"\n      }\n    },\n    {\n      \"column\": \"Facility Longitude\",\n      \"properties\": {\n        \"dtype\": \"category\",\n        \"num_unique_values\": 29,\n        \"samples\": [\n          \"125.899905\"\n        ],\n        \"semantic_type\": \"\",\n        \"description\": \"\"\n      }\n    },\n    {\n      \"column\": \"Landing Location\",\n      \"properties\": {\n        \"dtype\": \"category\",\n        \"num_unique_values\": 4,\n        \"samples\": [\n          \"Sea of Japan or East Sea\"\n        ],\n        \"semantic_type\": \"\",\n        \"description\": \"\"\n      }\n    },\n    {\n      \"column\": \"Apogee\",\n      \"properties\": {\n        \"dtype\": \"category\",\n        \"num_unique_values\": 30,\n        \"samples\": [\n          \"30 km\"\n        ],\n        \"semantic_type\": \"\",\n        \"description\": \"\"\n      }\n    },\n    {\n      \"column\": \"Distance Travelled\",\n      \"properties\": {\n        \"dtype\": \"category\",\n        \"num_unique_values\": 26,\n        \"samples\": [\n          \"400 km\"\n        ],\n        \"semantic_type\": \"\",\n        \"description\": \"\"\n      }\n    },\n    {\n      \"column\": \"Confirmation Status\",\n      \"properties\": {\n        \"dtype\": \"category\",\n        \"num_unique_values\": 2,\n        \"samples\": [\n          \"Unconfirmed\"\n        ],\n        \"semantic_type\": \"\",\n        \"description\": \"\"\n      }\n    },\n    {\n      \"column\": \"Test Outcome\",\n      \"properties\": {\n        \"dtype\": \"category\",\n        \"num_unique_values\": 3,\n        \"samples\": [\n          \"Success\"\n        ],\n        \"semantic_type\": \"\",\n        \"description\": \"\"\n      }\n    },\n    {\n      \"column\": \"Additional Information\",\n      \"properties\": {\n        \"dtype\": \"category\",\n        \"num_unique_values\": 66,\n        \"samples\": [\n          \"After 522 days since the previous missile test, North Korea carried out a test of a new solid fuel missile. Though the test does not violate North Korea's self-imposed missile testing moratorium, it does suggest it may be unwinding. The new missile was first publicly seen at a April 2017 parade and looks similar to an Iskander missile. The test was accompanied with several MLRS missile launches which created significant confusion in the immediate aftermath as to the number and types of missiles tested (the accompanying MLRS launches are too small for this dataset and are excluded). The range of the new missile is still unknown as is its name. This database records it as the KN-23, though this may later be revised after a new name is adopted.\"\n        ],\n        \"semantic_type\": \"\",\n        \"description\": \"\"\n      }\n    },\n    {\n      \"column\": \"Source(s)\",\n      \"properties\": {\n        \"dtype\": \"string\",\n        \"num_unique_values\": 70,\n        \"samples\": [\n          \"http://www.astronautix.com/k/koreanorth.html; http://www.mnd.go.kr/user/mnd_eng/upload/pblictn/PBLICTNEBOOK_201506161152304650.pdf; http://www.cnn.com/2014/07/08/world/asia/north-korea-missiles/; http://www.nytimes.com/2014/07/09/world/asia/north-korea-fires-2-more-ballistic-missiles.html; http://www.mod.go.jp/e/pressconf/2014/07/140709a.html; http://web-uridongpo.com/2014/07/10/%EC%A1%B0%EC%84%A0%EC%9D%B8%EB%AF%BC%EA%B5%B0-%EC%B5%9C%EA%B3%A0%EC%82%AC%EB%A0%B9%EA%B4%80-%EA%B9%80%EC%A0%95%EC%9D%80%EB%8F%99%EC%A7%80%EA%BB%98%EC%84%9C-%EC%A1%B0%EC%84%A0%EC%9D%B8%EB%AF%BC-10/; http://korean.people.com.cn/84966/98347/15430926.html#;\"\n        ],\n        \"semantic_type\": \"\",\n        \"description\": \"\"\n      }\n    }\n  ]\n}"
            }
          },
          "metadata": {},
          "execution_count": 3
        }
      ]
    },
    {
      "cell_type": "markdown",
      "source": [
        "# Data Splitting"
      ],
      "metadata": {
        "id": "8vw1phh3gBMd"
      }
    },
    {
      "cell_type": "code",
      "source": [
        "#Target\n",
        "y = df['Missile Type']\n",
        "#features\n",
        "X = df.drop('Missile Type', axis =1)"
      ],
      "metadata": {
        "id": "7qNNtpyqgSSl"
      },
      "execution_count": 4,
      "outputs": []
    },
    {
      "cell_type": "code",
      "source": [
        "# train and test\n",
        "X_train, X_test, y_train, y_test = train_test_split(X, y, test_size = 0.2, random_state = 42)"
      ],
      "metadata": {
        "id": "-tTOuHApgDqI"
      },
      "execution_count": 5,
      "outputs": []
    },
    {
      "cell_type": "code",
      "source": [
        "# train and val\n",
        "X_train, X_val, y_val, y_test = train_test_split(X_train, y_train, test_size = 0.2, random_state = 42)"
      ],
      "metadata": {
        "id": "HV8ekv49hEKS"
      },
      "execution_count": 6,
      "outputs": []
    },
    {
      "cell_type": "code",
      "source": [
        "print(f\"len of X_train: {len(X_train)}\")\n",
        "print(f\"len of y_train: {len(y_train)}\")\n",
        "\n",
        "print(f\"len of X_test: {len(X_test)}\")\n",
        "print(f\"len of y_test: {len(y_test)}\")\n",
        "\n",
        "print(f\"len of X_val: {len(X_val)}\")\n",
        "print(f\"len of y_val: {len(y_val)}\")"
      ],
      "metadata": {
        "colab": {
          "base_uri": "https://localhost:8080/"
        },
        "id": "MG0M_a-vhTXP",
        "outputId": "618f18c4-82bb-4c10-8029-769c5bd19e08"
      },
      "execution_count": 7,
      "outputs": [
        {
          "output_type": "stream",
          "name": "stdout",
          "text": [
            "len of X_train: 86\n",
            "len of y_train: 108\n",
            "len of X_test: 27\n",
            "len of y_test: 22\n",
            "len of X_val: 22\n",
            "len of y_val: 86\n"
          ]
        }
      ]
    },
    {
      "cell_type": "markdown",
      "source": [
        "# Standardization\n",
        "\n",
        "\n",
        "Standardization in machine learning refers to the process of rescaling features to have a mean of 0 and a standard deviation of 1 σ. It's important for ensuring all features contribute equally to model training and preventing one feature from dominating due to its scale, thus aiding in effective model performance. 🚀"
      ],
      "metadata": {
        "id": "IX6NUshzjoQ_"
      }
    },
    {
      "cell_type": "code",
      "source": [
        "df1 = pd.read_csv(\"/content/drive/MyDrive/CyberSecurity with AI /file_pe_headers.csv\", sep = \",\")\n",
        "df1"
      ],
      "metadata": {
        "colab": {
          "base_uri": "https://localhost:8080/",
          "height": 443
        },
        "id": "OX6oEiyPjsrp",
        "outputId": "dc5a3f15-81a5-4b30-df6f-4cdea12d423a"
      },
      "execution_count": 8,
      "outputs": [
        {
          "output_type": "execute_result",
          "data": {
            "text/plain": [
              "                                              Name  e_magic  e_cblp  e_cp  \\\n",
              "0      VirusShare_a878ba26000edaac5c98eff4432723b3    23117     144     3   \n",
              "1      VirusShare_ef9130570fddc174b312b2047f5f4cf0    23117     144     3   \n",
              "2      VirusShare_ef84cdeba22be72a69b198213dada81a    23117     144     3   \n",
              "3      VirusShare_6bf3608e60ebc16cbcff6ed5467d469e    23117     144     3   \n",
              "4      VirusShare_2cc94d952b2efb13c7d6bbe0dd59d3fb    23117     144     3   \n",
              "...                                            ...      ...     ...   ...   \n",
              "19606                                     clip.exe    23117     144     3   \n",
              "19607                 VNC-Server-6.2.0-Windows.exe    23117     144     3   \n",
              "19608      Microsoft.GroupPolicy.Management.ni.dll    23117       0     0   \n",
              "19609                            cryptuiwizard.dll    23117     144     3   \n",
              "19610                                  winhttp.dll    23117     144     3   \n",
              "\n",
              "       e_crlc  e_cparhdr  e_minalloc  e_maxalloc  e_ss  e_sp  ...  \\\n",
              "0           0          4           0       65535     0   184  ...   \n",
              "1           0          4           0       65535     0   184  ...   \n",
              "2           0          4           0       65535     0   184  ...   \n",
              "3           0          4           0       65535     0   184  ...   \n",
              "4           0          4           0       65535     0   184  ...   \n",
              "...       ...        ...         ...         ...   ...   ...  ...   \n",
              "19606       0          4           0       65535     0   184  ...   \n",
              "19607       0          4           0       65535     0   184  ...   \n",
              "19608       0          0           0           0     0     0  ...   \n",
              "19609       0          4           0       65535     0   184  ...   \n",
              "19610       0          4           0       65535     0   184  ...   \n",
              "\n",
              "       SectionMaxChar  SectionMainChar  DirectoryEntryImport  \\\n",
              "0          3758096608                0                     7   \n",
              "1          3791650880                0                    16   \n",
              "2          3221225536                0                     6   \n",
              "3          3224371328                0                     8   \n",
              "4          3227516992                0                     2   \n",
              "...               ...              ...                   ...   \n",
              "19606      3221225536                0                     8   \n",
              "19607      3221225536                0                    10   \n",
              "19608      3758096448                0                     0   \n",
              "19609      3221225536                0                    12   \n",
              "19610      3221225536                0                    35   \n",
              "\n",
              "       DirectoryEntryImportSize  DirectoryEntryExport  \\\n",
              "0                           152                     0   \n",
              "1                           311                     0   \n",
              "2                           176                     0   \n",
              "3                           155                     0   \n",
              "4                            43                     0   \n",
              "...                         ...                   ...   \n",
              "19606                        85                     0   \n",
              "19607                       391                     0   \n",
              "19608                         0                     0   \n",
              "19609                       162                     8   \n",
              "19610                       226                    58   \n",
              "\n",
              "       ImageDirectoryEntryExport  ImageDirectoryEntryImport  \\\n",
              "0                              0                      54440   \n",
              "1                              0                     262276   \n",
              "2                              0                      36864   \n",
              "3                              0                     356352   \n",
              "4                              0                      61440   \n",
              "...                          ...                        ...   \n",
              "19606                          0                      24948   \n",
              "19607                          0                    1413420   \n",
              "19608                          0                          0   \n",
              "19609                      89008                      94904   \n",
              "19610                       8348                     545812   \n",
              "\n",
              "       ImageDirectoryEntryResource  ImageDirectoryEntryException  \\\n",
              "0                            77824                         73728   \n",
              "1                           294912                             0   \n",
              "2                            40960                             0   \n",
              "3                          1003520                             0   \n",
              "4                            73728                             0   \n",
              "...                            ...                           ...   \n",
              "19606                        28672                             0   \n",
              "19607                      1462272                             0   \n",
              "19608                        61440                             0   \n",
              "19609                       102400                             0   \n",
              "19610                       557056                             0   \n",
              "\n",
              "       ImageDirectoryEntrySecurity  \n",
              "0                                0  \n",
              "1                           346112  \n",
              "2                                0  \n",
              "3                         14109472  \n",
              "4                            90624  \n",
              "...                            ...  \n",
              "19606                            0  \n",
              "19607                     18855424  \n",
              "19608                            0  \n",
              "19609                            0  \n",
              "19610                            0  \n",
              "\n",
              "[19611 rows x 79 columns]"
            ],
            "text/html": [
              "\n",
              "  <div id=\"df-fee33468-8032-4f14-9a1c-a09797658284\" class=\"colab-df-container\">\n",
              "    <div>\n",
              "<style scoped>\n",
              "    .dataframe tbody tr th:only-of-type {\n",
              "        vertical-align: middle;\n",
              "    }\n",
              "\n",
              "    .dataframe tbody tr th {\n",
              "        vertical-align: top;\n",
              "    }\n",
              "\n",
              "    .dataframe thead th {\n",
              "        text-align: right;\n",
              "    }\n",
              "</style>\n",
              "<table border=\"1\" class=\"dataframe\">\n",
              "  <thead>\n",
              "    <tr style=\"text-align: right;\">\n",
              "      <th></th>\n",
              "      <th>Name</th>\n",
              "      <th>e_magic</th>\n",
              "      <th>e_cblp</th>\n",
              "      <th>e_cp</th>\n",
              "      <th>e_crlc</th>\n",
              "      <th>e_cparhdr</th>\n",
              "      <th>e_minalloc</th>\n",
              "      <th>e_maxalloc</th>\n",
              "      <th>e_ss</th>\n",
              "      <th>e_sp</th>\n",
              "      <th>...</th>\n",
              "      <th>SectionMaxChar</th>\n",
              "      <th>SectionMainChar</th>\n",
              "      <th>DirectoryEntryImport</th>\n",
              "      <th>DirectoryEntryImportSize</th>\n",
              "      <th>DirectoryEntryExport</th>\n",
              "      <th>ImageDirectoryEntryExport</th>\n",
              "      <th>ImageDirectoryEntryImport</th>\n",
              "      <th>ImageDirectoryEntryResource</th>\n",
              "      <th>ImageDirectoryEntryException</th>\n",
              "      <th>ImageDirectoryEntrySecurity</th>\n",
              "    </tr>\n",
              "  </thead>\n",
              "  <tbody>\n",
              "    <tr>\n",
              "      <th>0</th>\n",
              "      <td>VirusShare_a878ba26000edaac5c98eff4432723b3</td>\n",
              "      <td>23117</td>\n",
              "      <td>144</td>\n",
              "      <td>3</td>\n",
              "      <td>0</td>\n",
              "      <td>4</td>\n",
              "      <td>0</td>\n",
              "      <td>65535</td>\n",
              "      <td>0</td>\n",
              "      <td>184</td>\n",
              "      <td>...</td>\n",
              "      <td>3758096608</td>\n",
              "      <td>0</td>\n",
              "      <td>7</td>\n",
              "      <td>152</td>\n",
              "      <td>0</td>\n",
              "      <td>0</td>\n",
              "      <td>54440</td>\n",
              "      <td>77824</td>\n",
              "      <td>73728</td>\n",
              "      <td>0</td>\n",
              "    </tr>\n",
              "    <tr>\n",
              "      <th>1</th>\n",
              "      <td>VirusShare_ef9130570fddc174b312b2047f5f4cf0</td>\n",
              "      <td>23117</td>\n",
              "      <td>144</td>\n",
              "      <td>3</td>\n",
              "      <td>0</td>\n",
              "      <td>4</td>\n",
              "      <td>0</td>\n",
              "      <td>65535</td>\n",
              "      <td>0</td>\n",
              "      <td>184</td>\n",
              "      <td>...</td>\n",
              "      <td>3791650880</td>\n",
              "      <td>0</td>\n",
              "      <td>16</td>\n",
              "      <td>311</td>\n",
              "      <td>0</td>\n",
              "      <td>0</td>\n",
              "      <td>262276</td>\n",
              "      <td>294912</td>\n",
              "      <td>0</td>\n",
              "      <td>346112</td>\n",
              "    </tr>\n",
              "    <tr>\n",
              "      <th>2</th>\n",
              "      <td>VirusShare_ef84cdeba22be72a69b198213dada81a</td>\n",
              "      <td>23117</td>\n",
              "      <td>144</td>\n",
              "      <td>3</td>\n",
              "      <td>0</td>\n",
              "      <td>4</td>\n",
              "      <td>0</td>\n",
              "      <td>65535</td>\n",
              "      <td>0</td>\n",
              "      <td>184</td>\n",
              "      <td>...</td>\n",
              "      <td>3221225536</td>\n",
              "      <td>0</td>\n",
              "      <td>6</td>\n",
              "      <td>176</td>\n",
              "      <td>0</td>\n",
              "      <td>0</td>\n",
              "      <td>36864</td>\n",
              "      <td>40960</td>\n",
              "      <td>0</td>\n",
              "      <td>0</td>\n",
              "    </tr>\n",
              "    <tr>\n",
              "      <th>3</th>\n",
              "      <td>VirusShare_6bf3608e60ebc16cbcff6ed5467d469e</td>\n",
              "      <td>23117</td>\n",
              "      <td>144</td>\n",
              "      <td>3</td>\n",
              "      <td>0</td>\n",
              "      <td>4</td>\n",
              "      <td>0</td>\n",
              "      <td>65535</td>\n",
              "      <td>0</td>\n",
              "      <td>184</td>\n",
              "      <td>...</td>\n",
              "      <td>3224371328</td>\n",
              "      <td>0</td>\n",
              "      <td>8</td>\n",
              "      <td>155</td>\n",
              "      <td>0</td>\n",
              "      <td>0</td>\n",
              "      <td>356352</td>\n",
              "      <td>1003520</td>\n",
              "      <td>0</td>\n",
              "      <td>14109472</td>\n",
              "    </tr>\n",
              "    <tr>\n",
              "      <th>4</th>\n",
              "      <td>VirusShare_2cc94d952b2efb13c7d6bbe0dd59d3fb</td>\n",
              "      <td>23117</td>\n",
              "      <td>144</td>\n",
              "      <td>3</td>\n",
              "      <td>0</td>\n",
              "      <td>4</td>\n",
              "      <td>0</td>\n",
              "      <td>65535</td>\n",
              "      <td>0</td>\n",
              "      <td>184</td>\n",
              "      <td>...</td>\n",
              "      <td>3227516992</td>\n",
              "      <td>0</td>\n",
              "      <td>2</td>\n",
              "      <td>43</td>\n",
              "      <td>0</td>\n",
              "      <td>0</td>\n",
              "      <td>61440</td>\n",
              "      <td>73728</td>\n",
              "      <td>0</td>\n",
              "      <td>90624</td>\n",
              "    </tr>\n",
              "    <tr>\n",
              "      <th>...</th>\n",
              "      <td>...</td>\n",
              "      <td>...</td>\n",
              "      <td>...</td>\n",
              "      <td>...</td>\n",
              "      <td>...</td>\n",
              "      <td>...</td>\n",
              "      <td>...</td>\n",
              "      <td>...</td>\n",
              "      <td>...</td>\n",
              "      <td>...</td>\n",
              "      <td>...</td>\n",
              "      <td>...</td>\n",
              "      <td>...</td>\n",
              "      <td>...</td>\n",
              "      <td>...</td>\n",
              "      <td>...</td>\n",
              "      <td>...</td>\n",
              "      <td>...</td>\n",
              "      <td>...</td>\n",
              "      <td>...</td>\n",
              "      <td>...</td>\n",
              "    </tr>\n",
              "    <tr>\n",
              "      <th>19606</th>\n",
              "      <td>clip.exe</td>\n",
              "      <td>23117</td>\n",
              "      <td>144</td>\n",
              "      <td>3</td>\n",
              "      <td>0</td>\n",
              "      <td>4</td>\n",
              "      <td>0</td>\n",
              "      <td>65535</td>\n",
              "      <td>0</td>\n",
              "      <td>184</td>\n",
              "      <td>...</td>\n",
              "      <td>3221225536</td>\n",
              "      <td>0</td>\n",
              "      <td>8</td>\n",
              "      <td>85</td>\n",
              "      <td>0</td>\n",
              "      <td>0</td>\n",
              "      <td>24948</td>\n",
              "      <td>28672</td>\n",
              "      <td>0</td>\n",
              "      <td>0</td>\n",
              "    </tr>\n",
              "    <tr>\n",
              "      <th>19607</th>\n",
              "      <td>VNC-Server-6.2.0-Windows.exe</td>\n",
              "      <td>23117</td>\n",
              "      <td>144</td>\n",
              "      <td>3</td>\n",
              "      <td>0</td>\n",
              "      <td>4</td>\n",
              "      <td>0</td>\n",
              "      <td>65535</td>\n",
              "      <td>0</td>\n",
              "      <td>184</td>\n",
              "      <td>...</td>\n",
              "      <td>3221225536</td>\n",
              "      <td>0</td>\n",
              "      <td>10</td>\n",
              "      <td>391</td>\n",
              "      <td>0</td>\n",
              "      <td>0</td>\n",
              "      <td>1413420</td>\n",
              "      <td>1462272</td>\n",
              "      <td>0</td>\n",
              "      <td>18855424</td>\n",
              "    </tr>\n",
              "    <tr>\n",
              "      <th>19608</th>\n",
              "      <td>Microsoft.GroupPolicy.Management.ni.dll</td>\n",
              "      <td>23117</td>\n",
              "      <td>0</td>\n",
              "      <td>0</td>\n",
              "      <td>0</td>\n",
              "      <td>0</td>\n",
              "      <td>0</td>\n",
              "      <td>0</td>\n",
              "      <td>0</td>\n",
              "      <td>0</td>\n",
              "      <td>...</td>\n",
              "      <td>3758096448</td>\n",
              "      <td>0</td>\n",
              "      <td>0</td>\n",
              "      <td>0</td>\n",
              "      <td>0</td>\n",
              "      <td>0</td>\n",
              "      <td>0</td>\n",
              "      <td>61440</td>\n",
              "      <td>0</td>\n",
              "      <td>0</td>\n",
              "    </tr>\n",
              "    <tr>\n",
              "      <th>19609</th>\n",
              "      <td>cryptuiwizard.dll</td>\n",
              "      <td>23117</td>\n",
              "      <td>144</td>\n",
              "      <td>3</td>\n",
              "      <td>0</td>\n",
              "      <td>4</td>\n",
              "      <td>0</td>\n",
              "      <td>65535</td>\n",
              "      <td>0</td>\n",
              "      <td>184</td>\n",
              "      <td>...</td>\n",
              "      <td>3221225536</td>\n",
              "      <td>0</td>\n",
              "      <td>12</td>\n",
              "      <td>162</td>\n",
              "      <td>8</td>\n",
              "      <td>89008</td>\n",
              "      <td>94904</td>\n",
              "      <td>102400</td>\n",
              "      <td>0</td>\n",
              "      <td>0</td>\n",
              "    </tr>\n",
              "    <tr>\n",
              "      <th>19610</th>\n",
              "      <td>winhttp.dll</td>\n",
              "      <td>23117</td>\n",
              "      <td>144</td>\n",
              "      <td>3</td>\n",
              "      <td>0</td>\n",
              "      <td>4</td>\n",
              "      <td>0</td>\n",
              "      <td>65535</td>\n",
              "      <td>0</td>\n",
              "      <td>184</td>\n",
              "      <td>...</td>\n",
              "      <td>3221225536</td>\n",
              "      <td>0</td>\n",
              "      <td>35</td>\n",
              "      <td>226</td>\n",
              "      <td>58</td>\n",
              "      <td>8348</td>\n",
              "      <td>545812</td>\n",
              "      <td>557056</td>\n",
              "      <td>0</td>\n",
              "      <td>0</td>\n",
              "    </tr>\n",
              "  </tbody>\n",
              "</table>\n",
              "<p>19611 rows × 79 columns</p>\n",
              "</div>\n",
              "    <div class=\"colab-df-buttons\">\n",
              "\n",
              "  <div class=\"colab-df-container\">\n",
              "    <button class=\"colab-df-convert\" onclick=\"convertToInteractive('df-fee33468-8032-4f14-9a1c-a09797658284')\"\n",
              "            title=\"Convert this dataframe to an interactive table.\"\n",
              "            style=\"display:none;\">\n",
              "\n",
              "  <svg xmlns=\"http://www.w3.org/2000/svg\" height=\"24px\" viewBox=\"0 -960 960 960\">\n",
              "    <path d=\"M120-120v-720h720v720H120Zm60-500h600v-160H180v160Zm220 220h160v-160H400v160Zm0 220h160v-160H400v160ZM180-400h160v-160H180v160Zm440 0h160v-160H620v160ZM180-180h160v-160H180v160Zm440 0h160v-160H620v160Z\"/>\n",
              "  </svg>\n",
              "    </button>\n",
              "\n",
              "  <style>\n",
              "    .colab-df-container {\n",
              "      display:flex;\n",
              "      gap: 12px;\n",
              "    }\n",
              "\n",
              "    .colab-df-convert {\n",
              "      background-color: #E8F0FE;\n",
              "      border: none;\n",
              "      border-radius: 50%;\n",
              "      cursor: pointer;\n",
              "      display: none;\n",
              "      fill: #1967D2;\n",
              "      height: 32px;\n",
              "      padding: 0 0 0 0;\n",
              "      width: 32px;\n",
              "    }\n",
              "\n",
              "    .colab-df-convert:hover {\n",
              "      background-color: #E2EBFA;\n",
              "      box-shadow: 0px 1px 2px rgba(60, 64, 67, 0.3), 0px 1px 3px 1px rgba(60, 64, 67, 0.15);\n",
              "      fill: #174EA6;\n",
              "    }\n",
              "\n",
              "    .colab-df-buttons div {\n",
              "      margin-bottom: 4px;\n",
              "    }\n",
              "\n",
              "    [theme=dark] .colab-df-convert {\n",
              "      background-color: #3B4455;\n",
              "      fill: #D2E3FC;\n",
              "    }\n",
              "\n",
              "    [theme=dark] .colab-df-convert:hover {\n",
              "      background-color: #434B5C;\n",
              "      box-shadow: 0px 1px 3px 1px rgba(0, 0, 0, 0.15);\n",
              "      filter: drop-shadow(0px 1px 2px rgba(0, 0, 0, 0.3));\n",
              "      fill: #FFFFFF;\n",
              "    }\n",
              "  </style>\n",
              "\n",
              "    <script>\n",
              "      const buttonEl =\n",
              "        document.querySelector('#df-fee33468-8032-4f14-9a1c-a09797658284 button.colab-df-convert');\n",
              "      buttonEl.style.display =\n",
              "        google.colab.kernel.accessAllowed ? 'block' : 'none';\n",
              "\n",
              "      async function convertToInteractive(key) {\n",
              "        const element = document.querySelector('#df-fee33468-8032-4f14-9a1c-a09797658284');\n",
              "        const dataTable =\n",
              "          await google.colab.kernel.invokeFunction('convertToInteractive',\n",
              "                                                    [key], {});\n",
              "        if (!dataTable) return;\n",
              "\n",
              "        const docLinkHtml = 'Like what you see? Visit the ' +\n",
              "          '<a target=\"_blank\" href=https://colab.research.google.com/notebooks/data_table.ipynb>data table notebook</a>'\n",
              "          + ' to learn more about interactive tables.';\n",
              "        element.innerHTML = '';\n",
              "        dataTable['output_type'] = 'display_data';\n",
              "        await google.colab.output.renderOutput(dataTable, element);\n",
              "        const docLink = document.createElement('div');\n",
              "        docLink.innerHTML = docLinkHtml;\n",
              "        element.appendChild(docLink);\n",
              "      }\n",
              "    </script>\n",
              "  </div>\n",
              "\n",
              "\n",
              "<div id=\"df-6574c947-166b-44db-9a26-ae2b30cb3885\">\n",
              "  <button class=\"colab-df-quickchart\" onclick=\"quickchart('df-6574c947-166b-44db-9a26-ae2b30cb3885')\"\n",
              "            title=\"Suggest charts\"\n",
              "            style=\"display:none;\">\n",
              "\n",
              "<svg xmlns=\"http://www.w3.org/2000/svg\" height=\"24px\"viewBox=\"0 0 24 24\"\n",
              "     width=\"24px\">\n",
              "    <g>\n",
              "        <path d=\"M19 3H5c-1.1 0-2 .9-2 2v14c0 1.1.9 2 2 2h14c1.1 0 2-.9 2-2V5c0-1.1-.9-2-2-2zM9 17H7v-7h2v7zm4 0h-2V7h2v10zm4 0h-2v-4h2v4z\"/>\n",
              "    </g>\n",
              "</svg>\n",
              "  </button>\n",
              "\n",
              "<style>\n",
              "  .colab-df-quickchart {\n",
              "      --bg-color: #E8F0FE;\n",
              "      --fill-color: #1967D2;\n",
              "      --hover-bg-color: #E2EBFA;\n",
              "      --hover-fill-color: #174EA6;\n",
              "      --disabled-fill-color: #AAA;\n",
              "      --disabled-bg-color: #DDD;\n",
              "  }\n",
              "\n",
              "  [theme=dark] .colab-df-quickchart {\n",
              "      --bg-color: #3B4455;\n",
              "      --fill-color: #D2E3FC;\n",
              "      --hover-bg-color: #434B5C;\n",
              "      --hover-fill-color: #FFFFFF;\n",
              "      --disabled-bg-color: #3B4455;\n",
              "      --disabled-fill-color: #666;\n",
              "  }\n",
              "\n",
              "  .colab-df-quickchart {\n",
              "    background-color: var(--bg-color);\n",
              "    border: none;\n",
              "    border-radius: 50%;\n",
              "    cursor: pointer;\n",
              "    display: none;\n",
              "    fill: var(--fill-color);\n",
              "    height: 32px;\n",
              "    padding: 0;\n",
              "    width: 32px;\n",
              "  }\n",
              "\n",
              "  .colab-df-quickchart:hover {\n",
              "    background-color: var(--hover-bg-color);\n",
              "    box-shadow: 0 1px 2px rgba(60, 64, 67, 0.3), 0 1px 3px 1px rgba(60, 64, 67, 0.15);\n",
              "    fill: var(--button-hover-fill-color);\n",
              "  }\n",
              "\n",
              "  .colab-df-quickchart-complete:disabled,\n",
              "  .colab-df-quickchart-complete:disabled:hover {\n",
              "    background-color: var(--disabled-bg-color);\n",
              "    fill: var(--disabled-fill-color);\n",
              "    box-shadow: none;\n",
              "  }\n",
              "\n",
              "  .colab-df-spinner {\n",
              "    border: 2px solid var(--fill-color);\n",
              "    border-color: transparent;\n",
              "    border-bottom-color: var(--fill-color);\n",
              "    animation:\n",
              "      spin 1s steps(1) infinite;\n",
              "  }\n",
              "\n",
              "  @keyframes spin {\n",
              "    0% {\n",
              "      border-color: transparent;\n",
              "      border-bottom-color: var(--fill-color);\n",
              "      border-left-color: var(--fill-color);\n",
              "    }\n",
              "    20% {\n",
              "      border-color: transparent;\n",
              "      border-left-color: var(--fill-color);\n",
              "      border-top-color: var(--fill-color);\n",
              "    }\n",
              "    30% {\n",
              "      border-color: transparent;\n",
              "      border-left-color: var(--fill-color);\n",
              "      border-top-color: var(--fill-color);\n",
              "      border-right-color: var(--fill-color);\n",
              "    }\n",
              "    40% {\n",
              "      border-color: transparent;\n",
              "      border-right-color: var(--fill-color);\n",
              "      border-top-color: var(--fill-color);\n",
              "    }\n",
              "    60% {\n",
              "      border-color: transparent;\n",
              "      border-right-color: var(--fill-color);\n",
              "    }\n",
              "    80% {\n",
              "      border-color: transparent;\n",
              "      border-right-color: var(--fill-color);\n",
              "      border-bottom-color: var(--fill-color);\n",
              "    }\n",
              "    90% {\n",
              "      border-color: transparent;\n",
              "      border-bottom-color: var(--fill-color);\n",
              "    }\n",
              "  }\n",
              "</style>\n",
              "\n",
              "  <script>\n",
              "    async function quickchart(key) {\n",
              "      const quickchartButtonEl =\n",
              "        document.querySelector('#' + key + ' button');\n",
              "      quickchartButtonEl.disabled = true;  // To prevent multiple clicks.\n",
              "      quickchartButtonEl.classList.add('colab-df-spinner');\n",
              "      try {\n",
              "        const charts = await google.colab.kernel.invokeFunction(\n",
              "            'suggestCharts', [key], {});\n",
              "      } catch (error) {\n",
              "        console.error('Error during call to suggestCharts:', error);\n",
              "      }\n",
              "      quickchartButtonEl.classList.remove('colab-df-spinner');\n",
              "      quickchartButtonEl.classList.add('colab-df-quickchart-complete');\n",
              "    }\n",
              "    (() => {\n",
              "      let quickchartButtonEl =\n",
              "        document.querySelector('#df-6574c947-166b-44db-9a26-ae2b30cb3885 button');\n",
              "      quickchartButtonEl.style.display =\n",
              "        google.colab.kernel.accessAllowed ? 'block' : 'none';\n",
              "    })();\n",
              "  </script>\n",
              "</div>\n",
              "\n",
              "  <div id=\"id_e127e5cc-6b4c-4c51-a5f5-b4e1e5178f00\">\n",
              "    <style>\n",
              "      .colab-df-generate {\n",
              "        background-color: #E8F0FE;\n",
              "        border: none;\n",
              "        border-radius: 50%;\n",
              "        cursor: pointer;\n",
              "        display: none;\n",
              "        fill: #1967D2;\n",
              "        height: 32px;\n",
              "        padding: 0 0 0 0;\n",
              "        width: 32px;\n",
              "      }\n",
              "\n",
              "      .colab-df-generate:hover {\n",
              "        background-color: #E2EBFA;\n",
              "        box-shadow: 0px 1px 2px rgba(60, 64, 67, 0.3), 0px 1px 3px 1px rgba(60, 64, 67, 0.15);\n",
              "        fill: #174EA6;\n",
              "      }\n",
              "\n",
              "      [theme=dark] .colab-df-generate {\n",
              "        background-color: #3B4455;\n",
              "        fill: #D2E3FC;\n",
              "      }\n",
              "\n",
              "      [theme=dark] .colab-df-generate:hover {\n",
              "        background-color: #434B5C;\n",
              "        box-shadow: 0px 1px 3px 1px rgba(0, 0, 0, 0.15);\n",
              "        filter: drop-shadow(0px 1px 2px rgba(0, 0, 0, 0.3));\n",
              "        fill: #FFFFFF;\n",
              "      }\n",
              "    </style>\n",
              "    <button class=\"colab-df-generate\" onclick=\"generateWithVariable('df1')\"\n",
              "            title=\"Generate code using this dataframe.\"\n",
              "            style=\"display:none;\">\n",
              "\n",
              "  <svg xmlns=\"http://www.w3.org/2000/svg\" height=\"24px\"viewBox=\"0 0 24 24\"\n",
              "       width=\"24px\">\n",
              "    <path d=\"M7,19H8.4L18.45,9,17,7.55,7,17.6ZM5,21V16.75L18.45,3.32a2,2,0,0,1,2.83,0l1.4,1.43a1.91,1.91,0,0,1,.58,1.4,1.91,1.91,0,0,1-.58,1.4L9.25,21ZM18.45,9,17,7.55Zm-12,3A5.31,5.31,0,0,0,4.9,8.1,5.31,5.31,0,0,0,1,6.5,5.31,5.31,0,0,0,4.9,4.9,5.31,5.31,0,0,0,6.5,1,5.31,5.31,0,0,0,8.1,4.9,5.31,5.31,0,0,0,12,6.5,5.46,5.46,0,0,0,6.5,12Z\"/>\n",
              "  </svg>\n",
              "    </button>\n",
              "    <script>\n",
              "      (() => {\n",
              "      const buttonEl =\n",
              "        document.querySelector('#id_e127e5cc-6b4c-4c51-a5f5-b4e1e5178f00 button.colab-df-generate');\n",
              "      buttonEl.style.display =\n",
              "        google.colab.kernel.accessAllowed ? 'block' : 'none';\n",
              "\n",
              "      buttonEl.onclick = () => {\n",
              "        google.colab.notebook.generateWithVariable('df1');\n",
              "      }\n",
              "      })();\n",
              "    </script>\n",
              "  </div>\n",
              "\n",
              "    </div>\n",
              "  </div>\n"
            ],
            "application/vnd.google.colaboratory.intrinsic+json": {
              "type": "dataframe",
              "variable_name": "df1"
            }
          },
          "metadata": {},
          "execution_count": 8
        }
      ]
    },
    {
      "cell_type": "code",
      "source": [
        "df1.columns"
      ],
      "metadata": {
        "colab": {
          "base_uri": "https://localhost:8080/"
        },
        "id": "lUi7-0Rslsag",
        "outputId": "80588496-8d1c-4d5d-a7b4-c1ee1c1e0357"
      },
      "execution_count": 9,
      "outputs": [
        {
          "output_type": "execute_result",
          "data": {
            "text/plain": [
              "Index(['Name', 'e_magic', 'e_cblp', 'e_cp', 'e_crlc', 'e_cparhdr',\n",
              "       'e_minalloc', 'e_maxalloc', 'e_ss', 'e_sp', 'e_csum', 'e_ip', 'e_cs',\n",
              "       'e_lfarlc', 'e_ovno', 'e_oemid', 'e_oeminfo', 'e_lfanew', 'Machine',\n",
              "       'NumberOfSections', 'TimeDateStamp', 'PointerToSymbolTable',\n",
              "       'NumberOfSymbols', 'SizeOfOptionalHeader', 'Characteristics', 'Magic',\n",
              "       'MajorLinkerVersion', 'MinorLinkerVersion', 'SizeOfCode',\n",
              "       'SizeOfInitializedData', 'SizeOfUninitializedData',\n",
              "       'AddressOfEntryPoint', 'BaseOfCode', 'ImageBase', 'SectionAlignment',\n",
              "       'FileAlignment', 'MajorOperatingSystemVersion',\n",
              "       'MinorOperatingSystemVersion', 'MajorImageVersion', 'MinorImageVersion',\n",
              "       'MajorSubsystemVersion', 'MinorSubsystemVersion', 'SizeOfHeaders',\n",
              "       'CheckSum', 'SizeOfImage', 'Subsystem', 'DllCharacteristics',\n",
              "       'SizeOfStackReserve', 'SizeOfStackCommit', 'SizeOfHeapReserve',\n",
              "       'SizeOfHeapCommit', 'LoaderFlags', 'NumberOfRvaAndSizes', 'Malware',\n",
              "       'SuspiciousImportFunctions', 'SuspiciousNameSection', 'SectionsLength',\n",
              "       'SectionMinEntropy', 'SectionMaxEntropy', 'SectionMinRawsize',\n",
              "       'SectionMaxRawsize', 'SectionMinVirtualsize', 'SectionMaxVirtualsize',\n",
              "       'SectionMaxPhysical', 'SectionMinPhysical', 'SectionMaxVirtual',\n",
              "       'SectionMinVirtual', 'SectionMaxPointerData', 'SectionMinPointerData',\n",
              "       'SectionMaxChar', 'SectionMainChar', 'DirectoryEntryImport',\n",
              "       'DirectoryEntryImportSize', 'DirectoryEntryExport',\n",
              "       'ImageDirectoryEntryExport', 'ImageDirectoryEntryImport',\n",
              "       'ImageDirectoryEntryResource', 'ImageDirectoryEntryException',\n",
              "       'ImageDirectoryEntrySecurity'],\n",
              "      dtype='object')"
            ]
          },
          "metadata": {},
          "execution_count": 9
        }
      ]
    },
    {
      "cell_type": "code",
      "source": [
        "df1.info()"
      ],
      "metadata": {
        "colab": {
          "base_uri": "https://localhost:8080/"
        },
        "id": "RYkev8sAr8uR",
        "outputId": "ca390d5f-1d5a-496f-e659-6b8dc2e8ce12"
      },
      "execution_count": 10,
      "outputs": [
        {
          "output_type": "stream",
          "name": "stdout",
          "text": [
            "<class 'pandas.core.frame.DataFrame'>\n",
            "RangeIndex: 19611 entries, 0 to 19610\n",
            "Data columns (total 79 columns):\n",
            " #   Column                        Non-Null Count  Dtype  \n",
            "---  ------                        --------------  -----  \n",
            " 0   Name                          19611 non-null  object \n",
            " 1   e_magic                       19611 non-null  int64  \n",
            " 2   e_cblp                        19611 non-null  int64  \n",
            " 3   e_cp                          19611 non-null  int64  \n",
            " 4   e_crlc                        19611 non-null  int64  \n",
            " 5   e_cparhdr                     19611 non-null  int64  \n",
            " 6   e_minalloc                    19611 non-null  int64  \n",
            " 7   e_maxalloc                    19611 non-null  int64  \n",
            " 8   e_ss                          19611 non-null  int64  \n",
            " 9   e_sp                          19611 non-null  int64  \n",
            " 10  e_csum                        19611 non-null  int64  \n",
            " 11  e_ip                          19611 non-null  int64  \n",
            " 12  e_cs                          19611 non-null  int64  \n",
            " 13  e_lfarlc                      19611 non-null  int64  \n",
            " 14  e_ovno                        19611 non-null  int64  \n",
            " 15  e_oemid                       19611 non-null  int64  \n",
            " 16  e_oeminfo                     19611 non-null  int64  \n",
            " 17  e_lfanew                      19611 non-null  int64  \n",
            " 18  Machine                       19611 non-null  int64  \n",
            " 19  NumberOfSections              19611 non-null  int64  \n",
            " 20  TimeDateStamp                 19611 non-null  int64  \n",
            " 21  PointerToSymbolTable          19611 non-null  int64  \n",
            " 22  NumberOfSymbols               19611 non-null  int64  \n",
            " 23  SizeOfOptionalHeader          19611 non-null  int64  \n",
            " 24  Characteristics               19611 non-null  int64  \n",
            " 25  Magic                         19611 non-null  int64  \n",
            " 26  MajorLinkerVersion            19611 non-null  int64  \n",
            " 27  MinorLinkerVersion            19611 non-null  int64  \n",
            " 28  SizeOfCode                    19611 non-null  int64  \n",
            " 29  SizeOfInitializedData         19611 non-null  int64  \n",
            " 30  SizeOfUninitializedData       19611 non-null  int64  \n",
            " 31  AddressOfEntryPoint           19611 non-null  int64  \n",
            " 32  BaseOfCode                    19611 non-null  int64  \n",
            " 33  ImageBase                     19611 non-null  int64  \n",
            " 34  SectionAlignment              19611 non-null  int64  \n",
            " 35  FileAlignment                 19611 non-null  int64  \n",
            " 36  MajorOperatingSystemVersion   19611 non-null  int64  \n",
            " 37  MinorOperatingSystemVersion   19611 non-null  int64  \n",
            " 38  MajorImageVersion             19611 non-null  int64  \n",
            " 39  MinorImageVersion             19611 non-null  int64  \n",
            " 40  MajorSubsystemVersion         19611 non-null  int64  \n",
            " 41  MinorSubsystemVersion         19611 non-null  int64  \n",
            " 42  SizeOfHeaders                 19611 non-null  int64  \n",
            " 43  CheckSum                      19611 non-null  int64  \n",
            " 44  SizeOfImage                   19611 non-null  int64  \n",
            " 45  Subsystem                     19611 non-null  int64  \n",
            " 46  DllCharacteristics            19611 non-null  int64  \n",
            " 47  SizeOfStackReserve            19611 non-null  int64  \n",
            " 48  SizeOfStackCommit             19611 non-null  int64  \n",
            " 49  SizeOfHeapReserve             19611 non-null  int64  \n",
            " 50  SizeOfHeapCommit              19611 non-null  int64  \n",
            " 51  LoaderFlags                   19611 non-null  int64  \n",
            " 52  NumberOfRvaAndSizes           19611 non-null  int64  \n",
            " 53  Malware                       19611 non-null  int64  \n",
            " 54  SuspiciousImportFunctions     19611 non-null  int64  \n",
            " 55  SuspiciousNameSection         19611 non-null  int64  \n",
            " 56  SectionsLength                19611 non-null  int64  \n",
            " 57  SectionMinEntropy             19611 non-null  float64\n",
            " 58  SectionMaxEntropy             19611 non-null  int64  \n",
            " 59  SectionMinRawsize             19611 non-null  int64  \n",
            " 60  SectionMaxRawsize             19611 non-null  int64  \n",
            " 61  SectionMinVirtualsize         19611 non-null  int64  \n",
            " 62  SectionMaxVirtualsize         19611 non-null  int64  \n",
            " 63  SectionMaxPhysical            19611 non-null  int64  \n",
            " 64  SectionMinPhysical            19611 non-null  int64  \n",
            " 65  SectionMaxVirtual             19611 non-null  int64  \n",
            " 66  SectionMinVirtual             19611 non-null  int64  \n",
            " 67  SectionMaxPointerData         19611 non-null  int64  \n",
            " 68  SectionMinPointerData         19611 non-null  int64  \n",
            " 69  SectionMaxChar                19611 non-null  int64  \n",
            " 70  SectionMainChar               19611 non-null  int64  \n",
            " 71  DirectoryEntryImport          19611 non-null  int64  \n",
            " 72  DirectoryEntryImportSize      19611 non-null  int64  \n",
            " 73  DirectoryEntryExport          19611 non-null  int64  \n",
            " 74  ImageDirectoryEntryExport     19611 non-null  int64  \n",
            " 75  ImageDirectoryEntryImport     19611 non-null  int64  \n",
            " 76  ImageDirectoryEntryResource   19611 non-null  int64  \n",
            " 77  ImageDirectoryEntryException  19611 non-null  int64  \n",
            " 78  ImageDirectoryEntrySecurity   19611 non-null  int64  \n",
            "dtypes: float64(1), int64(77), object(1)\n",
            "memory usage: 11.8+ MB\n"
          ]
        }
      ]
    },
    {
      "cell_type": "code",
      "source": [
        "X = df1.drop(['Name', 'Malware'], axis =1).to_numpy()\n",
        "\n",
        "X"
      ],
      "metadata": {
        "colab": {
          "base_uri": "https://localhost:8080/"
        },
        "id": "obeq2k6fkIBB",
        "outputId": "2fc5c98f-58d3-42a5-c2ab-c6b92c47849d"
      },
      "execution_count": 11,
      "outputs": [
        {
          "output_type": "execute_result",
          "data": {
            "text/plain": [
              "array([[2.31170e+04, 1.44000e+02, 3.00000e+00, ..., 7.78240e+04,\n",
              "        7.37280e+04, 0.00000e+00],\n",
              "       [2.31170e+04, 1.44000e+02, 3.00000e+00, ..., 2.94912e+05,\n",
              "        0.00000e+00, 3.46112e+05],\n",
              "       [2.31170e+04, 1.44000e+02, 3.00000e+00, ..., 4.09600e+04,\n",
              "        0.00000e+00, 0.00000e+00],\n",
              "       ...,\n",
              "       [2.31170e+04, 0.00000e+00, 0.00000e+00, ..., 6.14400e+04,\n",
              "        0.00000e+00, 0.00000e+00],\n",
              "       [2.31170e+04, 1.44000e+02, 3.00000e+00, ..., 1.02400e+05,\n",
              "        0.00000e+00, 0.00000e+00],\n",
              "       [2.31170e+04, 1.44000e+02, 3.00000e+00, ..., 5.57056e+05,\n",
              "        0.00000e+00, 0.00000e+00]])"
            ]
          },
          "metadata": {},
          "execution_count": 11
        }
      ]
    },
    {
      "cell_type": "code",
      "source": [
        "from sklearn.preprocessing import StandardScaler\n",
        "X_standardized = StandardScaler().fit_transform(X)\n",
        "\n",
        "X_standardized"
      ],
      "metadata": {
        "colab": {
          "base_uri": "https://localhost:8080/"
        },
        "id": "2CcsD6nllKjy",
        "outputId": "8923393a-8316-4c0a-8367-4df93e62ab40"
      },
      "execution_count": 12,
      "outputs": [
        {
          "output_type": "execute_result",
          "data": {
            "text/plain": [
              "array([[ 0.        , -0.03506542, -0.04751096, ..., -0.07054894,\n",
              "        -0.0198525 , -0.04066791],\n",
              "       [ 0.        , -0.03506542, -0.04751096, ..., -0.03849221,\n",
              "        -0.02110877, -0.02469983],\n",
              "       [ 0.        , -0.03506542, -0.04751096, ..., -0.07599254,\n",
              "        -0.02110877, -0.04066791],\n",
              "       ...,\n",
              "       [ 0.        , -0.18093613, -0.04958686, ..., -0.07296832,\n",
              "        -0.02110877, -0.04066791],\n",
              "       [ 0.        , -0.03506542, -0.04751096, ..., -0.06691988,\n",
              "        -0.02110877, -0.04066791],\n",
              "       [ 0.        , -0.03506542, -0.04751096, ...,  0.00021781,\n",
              "        -0.02110877, -0.04066791]])"
            ]
          },
          "metadata": {},
          "execution_count": 12
        }
      ]
    },
    {
      "cell_type": "code",
      "source": [],
      "metadata": {
        "id": "ZflzJUT-snzW"
      },
      "execution_count": 12,
      "outputs": []
    },
    {
      "cell_type": "markdown",
      "source": [
        "# PCA\n",
        "\n",
        "PCA (Principal Component Analysis) is a technique used to reduce the dimensionality of data while preserving its key features. It's important in machine learning to simplify complex datasets and remove redundant information, aiding in better understanding and faster computation. 📉🔍"
      ],
      "metadata": {
        "id": "AjydRbhYxoyN"
      }
    },
    {
      "cell_type": "code",
      "source": [
        "from sklearn.decomposition import PCA\n",
        "from sklearn.preprocessing import StandardScaler\n"
      ],
      "metadata": {
        "id": "hMDf6kl2xr0o"
      },
      "execution_count": 13,
      "outputs": []
    },
    {
      "cell_type": "code",
      "source": [
        "df2 = df1.copy()\n",
        "\n",
        "X = df2.drop(['Name', 'Malware'], axis =1).to_numpy()\n",
        "\n"
      ],
      "metadata": {
        "id": "5hU_NjqlyD1u"
      },
      "execution_count": 14,
      "outputs": []
    },
    {
      "cell_type": "code",
      "source": [
        "X.shape"
      ],
      "metadata": {
        "colab": {
          "base_uri": "https://localhost:8080/"
        },
        "id": "Me3nc14e2Bqn",
        "outputId": "a4e72ce1-356f-4da0-e77a-e1902a3f3889"
      },
      "execution_count": 15,
      "outputs": [
        {
          "output_type": "execute_result",
          "data": {
            "text/plain": [
              "(19611, 77)"
            ]
          },
          "metadata": {},
          "execution_count": 15
        }
      ]
    },
    {
      "cell_type": "code",
      "source": [
        "#standardization before applying PCA\n",
        "\n",
        "X_standardized = StandardScaler().fit_transform(X)\n",
        "print(f\"X_standardized after applying StandardScaler: \\n {X_standardized}\")"
      ],
      "metadata": {
        "colab": {
          "base_uri": "https://localhost:8080/"
        },
        "id": "JkROwASdynBu",
        "outputId": "afe44df5-c377-44b4-c426-53614013d63d"
      },
      "execution_count": 16,
      "outputs": [
        {
          "output_type": "stream",
          "name": "stdout",
          "text": [
            "X_standardized after applying StandardScaler: \n",
            " [[ 0.         -0.03506542 -0.04751096 ... -0.07054894 -0.0198525\n",
            "  -0.04066791]\n",
            " [ 0.         -0.03506542 -0.04751096 ... -0.03849221 -0.02110877\n",
            "  -0.02469983]\n",
            " [ 0.         -0.03506542 -0.04751096 ... -0.07599254 -0.02110877\n",
            "  -0.04066791]\n",
            " ...\n",
            " [ 0.         -0.18093613 -0.04958686 ... -0.07296832 -0.02110877\n",
            "  -0.04066791]\n",
            " [ 0.         -0.03506542 -0.04751096 ... -0.06691988 -0.02110877\n",
            "  -0.04066791]\n",
            " [ 0.         -0.03506542 -0.04751096 ...  0.00021781 -0.02110877\n",
            "  -0.04066791]]\n"
          ]
        }
      ]
    },
    {
      "cell_type": "code",
      "source": [
        "#pca for dimentionality reduction preserving the key components\n",
        "\n",
        "pca = PCA()\n",
        "\n",
        "pca.fit_transform(X_standardized)\n"
      ],
      "metadata": {
        "colab": {
          "base_uri": "https://localhost:8080/"
        },
        "id": "uOQU81xXy7Y8",
        "outputId": "8d07b19f-7c82-4528-83ff-6c4e48a2f85c"
      },
      "execution_count": 17,
      "outputs": [
        {
          "output_type": "execute_result",
          "data": {
            "text/plain": [
              "array([[-1.16886290e-01, -7.15480741e-02,  3.16916194e+00, ...,\n",
              "         0.00000000e+00, -0.00000000e+00,  2.76090667e-14],\n",
              "       [-3.04037254e-01, -1.28517084e-01, -2.40204566e-01, ...,\n",
              "         2.03213188e-18, -1.72355765e-18, -4.02418004e-18],\n",
              "       [-3.07312786e-01, -1.31296697e-01, -1.06253036e+00, ...,\n",
              "         6.25888866e-17,  3.68102585e-17,  6.57093344e-19],\n",
              "       ...,\n",
              "       [ 6.24269798e-01, -5.07561736e-02,  6.13792253e-01, ...,\n",
              "         1.41990224e-18,  3.28819825e-18,  1.59980892e-18],\n",
              "       [-2.54202111e-01, -2.25874904e-02,  1.53710266e-01, ...,\n",
              "        -2.46122714e-18,  4.44410141e-19,  3.19682988e-18],\n",
              "       [-4.06052243e-01, -4.98937892e-02, -3.67792815e-02, ...,\n",
              "         9.56574764e-20, -4.33215635e-18,  7.21827073e-18]])"
            ]
          },
          "metadata": {},
          "execution_count": 17
        }
      ]
    },
    {
      "cell_type": "code",
      "source": [
        "#effectiveness of the dimentionality reduction\n",
        "pca.explained_variance_ratio_"
      ],
      "metadata": {
        "colab": {
          "base_uri": "https://localhost:8080/"
        },
        "id": "YtlYSWHbz7pc",
        "outputId": "3c9d9656-be1e-499a-dab9-f8a039f9276b"
      },
      "execution_count": 18,
      "outputs": [
        {
          "output_type": "execute_result",
          "data": {
            "text/plain": [
              "array([1.13714096e-01, 6.04526312e-02, 5.35847638e-02, 4.95286930e-02,\n",
              "       4.08242868e-02, 3.43687925e-02, 3.32004002e-02, 3.01112226e-02,\n",
              "       2.86901095e-02, 2.81624164e-02, 2.54807940e-02, 2.38845548e-02,\n",
              "       2.22696648e-02, 2.05755591e-02, 1.82485433e-02, 1.73648310e-02,\n",
              "       1.66649078e-02, 1.63647194e-02, 1.52683994e-02, 1.46357930e-02,\n",
              "       1.45790542e-02, 1.45535760e-02, 1.44699413e-02, 1.44154480e-02,\n",
              "       1.42948516e-02, 1.39221004e-02, 1.35338124e-02, 1.33766277e-02,\n",
              "       1.32896667e-02, 1.23472302e-02, 1.20507834e-02, 1.15452214e-02,\n",
              "       1.13731313e-02, 1.10939084e-02, 1.07062189e-02, 1.01649154e-02,\n",
              "       9.90148375e-03, 9.61478385e-03, 9.17627698e-03, 9.04802544e-03,\n",
              "       8.66332999e-03, 6.94752252e-03, 6.84216033e-03, 6.48244001e-03,\n",
              "       5.95005317e-03, 5.91335216e-03, 5.41615029e-03, 5.10640740e-03,\n",
              "       4.83543074e-03, 4.45888820e-03, 4.29104432e-03, 3.82076025e-03,\n",
              "       3.79864324e-03, 3.24146447e-03, 3.18558571e-03, 2.67004617e-03,\n",
              "       2.03201471e-03, 1.73591476e-03, 1.65758475e-03, 1.56708821e-03,\n",
              "       1.38839592e-03, 1.20694096e-03, 8.20896559e-04, 6.92520065e-04,\n",
              "       2.79632267e-04, 1.36614783e-04, 6.56001071e-06, 3.22441346e-07,\n",
              "       1.26534195e-10, 5.64125607e-34, 5.64125607e-34, 5.64125607e-34,\n",
              "       5.64125607e-34, 5.64125607e-34, 5.64125607e-34, 5.64125607e-34,\n",
              "       5.63722303e-34])"
            ]
          },
          "metadata": {},
          "execution_count": 18
        }
      ]
    },
    {
      "cell_type": "markdown",
      "source": [
        "**note: **\n",
        "The first value (0.1137) indicates that the first principal component explains approximately 11.37% of the total variance in the dataset.\n",
        "\n",
        "The second value (0.0605) indicates that the second principal component explains approximately 6.05% of the total variance, and so on.\n",
        "\n",
        "These values help understand how much information each principal component retains from the original dataset, allowing for informed decisions about how many principal components to retain for dimensionality reduction while preserving the most important information."
      ],
      "metadata": {
        "id": "DC0hEw8906JS"
      }
    },
    {
      "cell_type": "code",
      "source": [
        "sum(pca.explained_variance_ratio_)"
      ],
      "metadata": {
        "colab": {
          "base_uri": "https://localhost:8080/"
        },
        "id": "-D3MEQsk2HCJ",
        "outputId": "e83c8d1c-e03b-4fc2-d145-7623837c58a7"
      },
      "execution_count": 19,
      "outputs": [
        {
          "output_type": "execute_result",
          "data": {
            "text/plain": [
              "0.9999999999999993"
            ]
          },
          "metadata": {},
          "execution_count": 19
        }
      ]
    },
    {
      "cell_type": "code",
      "source": [
        "sum(pca.explained_variance_ratio_[0:40])"
      ],
      "metadata": {
        "colab": {
          "base_uri": "https://localhost:8080/"
        },
        "id": "qpo6JjY61BkM",
        "outputId": "5d87cc90-aca8-48bd-9dab-0a987a0f1a26"
      },
      "execution_count": 20,
      "outputs": [
        {
          "output_type": "execute_result",
          "data": {
            "text/plain": [
              "0.9068522354673683"
            ]
          },
          "metadata": {},
          "execution_count": 20
        }
      ]
    },
    {
      "cell_type": "markdown",
      "source": [
        "**note**: here, we reduce the feature 77 to 40 with the variance of 0.906. Higher the variance value is more significantly captured th ekey values. Reducing the feature by preserving the variance 0.906 while it is 0.999 with all features"
      ],
      "metadata": {
        "id": "tAbgqYMe2L9T"
      }
    },
    {
      "cell_type": "markdown",
      "source": [
        "# Markov Chain\n",
        "\n",
        "\n",
        "A Markov chain is a probabilistic model where the likelihood of transitioning from one state to another depends solely on the current state, making it memoryless. Its simplicity and ability to predict future states based on current ones make it valuable in diverse fields like economics, biology, and computer science. Markov chains facilitate the analysis of system behavior over time, aiding in decision-making and understanding complex processes.\n",
        "\n",
        " [Watch Video of Markov Chain:](https://www.youtube.com/watch?v=56mGTszb_iM)"
      ],
      "metadata": {
        "id": "ZQhR8ls35E0j"
      }
    },
    {
      "cell_type": "markdown",
      "source": [
        "#### Generating Fake review in Markov Chain"
      ],
      "metadata": {
        "id": "nxLj1x8Z6hdt"
      }
    },
    {
      "cell_type": "code",
      "source": [
        "!pip install markovify"
      ],
      "metadata": {
        "colab": {
          "base_uri": "https://localhost:8080/"
        },
        "id": "G_tVwIOM662w",
        "outputId": "4a06d598-2ad6-400d-c9b4-6febc698a513"
      },
      "execution_count": 21,
      "outputs": [
        {
          "output_type": "stream",
          "name": "stdout",
          "text": [
            "Collecting markovify\n",
            "  Downloading markovify-0.9.4.tar.gz (27 kB)\n",
            "  Preparing metadata (setup.py) ... \u001b[?25l\u001b[?25hdone\n",
            "Collecting unidecode (from markovify)\n",
            "  Downloading Unidecode-1.3.8-py3-none-any.whl (235 kB)\n",
            "\u001b[2K     \u001b[90m━━━━━━━━━━━━━━━━━━━━━━━━━━━━━━━━━━━━━━━━\u001b[0m \u001b[32m235.5/235.5 kB\u001b[0m \u001b[31m5.3 MB/s\u001b[0m eta \u001b[36m0:00:00\u001b[0m\n",
            "\u001b[?25hBuilding wheels for collected packages: markovify\n",
            "  Building wheel for markovify (setup.py) ... \u001b[?25l\u001b[?25hdone\n",
            "  Created wheel for markovify: filename=markovify-0.9.4-py3-none-any.whl size=18608 sha256=500ecaca5dee0ee31aa9e7355306bc5b262d82d3b3316a9b96a371698580a78e\n",
            "  Stored in directory: /root/.cache/pip/wheels/ca/8c/c5/41413e24c484f883a100c63ca7b3b0362b7c6f6eb6d7c9cc7f\n",
            "Successfully built markovify\n",
            "Installing collected packages: unidecode, markovify\n",
            "Successfully installed markovify-0.9.4 unidecode-1.3.8\n"
          ]
        }
      ]
    },
    {
      "cell_type": "code",
      "source": [
        "#import libraries\n",
        "import markovify\n",
        "import pandas as pd\n"
      ],
      "metadata": {
        "id": "RgIgMtKy6g8T"
      },
      "execution_count": 22,
      "outputs": []
    },
    {
      "cell_type": "code",
      "source": [
        "df3 = pd.read_csv(\"/content/drive/MyDrive/CyberSecurity with AI /airport_reviews.csv\")\n",
        "df3.head(5)"
      ],
      "metadata": {
        "colab": {
          "base_uri": "https://localhost:8080/",
          "height": 206
        },
        "id": "hfKnS3cS2hoS",
        "outputId": "ba230da8-60cb-40a8-f106-b001d2d62974"
      },
      "execution_count": 23,
      "outputs": [
        {
          "output_type": "execute_result",
          "data": {
            "text/plain": [
              "                                             content\n",
              "0  The airport is certainly tiny! Arriving there ...\n",
              "1  Small airports are generally intimate friendly...\n",
              "2  Waited an hour in a corridor for baggage but o...\n",
              "3  The previous comment is so off the mark it mus...\n",
              "4  The airport resulbles a shack. A very bad cafe..."
            ],
            "text/html": [
              "\n",
              "  <div id=\"df-0df9e0a6-0003-445d-9a82-fe015278cb42\" class=\"colab-df-container\">\n",
              "    <div>\n",
              "<style scoped>\n",
              "    .dataframe tbody tr th:only-of-type {\n",
              "        vertical-align: middle;\n",
              "    }\n",
              "\n",
              "    .dataframe tbody tr th {\n",
              "        vertical-align: top;\n",
              "    }\n",
              "\n",
              "    .dataframe thead th {\n",
              "        text-align: right;\n",
              "    }\n",
              "</style>\n",
              "<table border=\"1\" class=\"dataframe\">\n",
              "  <thead>\n",
              "    <tr style=\"text-align: right;\">\n",
              "      <th></th>\n",
              "      <th>content</th>\n",
              "    </tr>\n",
              "  </thead>\n",
              "  <tbody>\n",
              "    <tr>\n",
              "      <th>0</th>\n",
              "      <td>The airport is certainly tiny! Arriving there ...</td>\n",
              "    </tr>\n",
              "    <tr>\n",
              "      <th>1</th>\n",
              "      <td>Small airports are generally intimate friendly...</td>\n",
              "    </tr>\n",
              "    <tr>\n",
              "      <th>2</th>\n",
              "      <td>Waited an hour in a corridor for baggage but o...</td>\n",
              "    </tr>\n",
              "    <tr>\n",
              "      <th>3</th>\n",
              "      <td>The previous comment is so off the mark it mus...</td>\n",
              "    </tr>\n",
              "    <tr>\n",
              "      <th>4</th>\n",
              "      <td>The airport resulbles a shack. A very bad cafe...</td>\n",
              "    </tr>\n",
              "  </tbody>\n",
              "</table>\n",
              "</div>\n",
              "    <div class=\"colab-df-buttons\">\n",
              "\n",
              "  <div class=\"colab-df-container\">\n",
              "    <button class=\"colab-df-convert\" onclick=\"convertToInteractive('df-0df9e0a6-0003-445d-9a82-fe015278cb42')\"\n",
              "            title=\"Convert this dataframe to an interactive table.\"\n",
              "            style=\"display:none;\">\n",
              "\n",
              "  <svg xmlns=\"http://www.w3.org/2000/svg\" height=\"24px\" viewBox=\"0 -960 960 960\">\n",
              "    <path d=\"M120-120v-720h720v720H120Zm60-500h600v-160H180v160Zm220 220h160v-160H400v160Zm0 220h160v-160H400v160ZM180-400h160v-160H180v160Zm440 0h160v-160H620v160ZM180-180h160v-160H180v160Zm440 0h160v-160H620v160Z\"/>\n",
              "  </svg>\n",
              "    </button>\n",
              "\n",
              "  <style>\n",
              "    .colab-df-container {\n",
              "      display:flex;\n",
              "      gap: 12px;\n",
              "    }\n",
              "\n",
              "    .colab-df-convert {\n",
              "      background-color: #E8F0FE;\n",
              "      border: none;\n",
              "      border-radius: 50%;\n",
              "      cursor: pointer;\n",
              "      display: none;\n",
              "      fill: #1967D2;\n",
              "      height: 32px;\n",
              "      padding: 0 0 0 0;\n",
              "      width: 32px;\n",
              "    }\n",
              "\n",
              "    .colab-df-convert:hover {\n",
              "      background-color: #E2EBFA;\n",
              "      box-shadow: 0px 1px 2px rgba(60, 64, 67, 0.3), 0px 1px 3px 1px rgba(60, 64, 67, 0.15);\n",
              "      fill: #174EA6;\n",
              "    }\n",
              "\n",
              "    .colab-df-buttons div {\n",
              "      margin-bottom: 4px;\n",
              "    }\n",
              "\n",
              "    [theme=dark] .colab-df-convert {\n",
              "      background-color: #3B4455;\n",
              "      fill: #D2E3FC;\n",
              "    }\n",
              "\n",
              "    [theme=dark] .colab-df-convert:hover {\n",
              "      background-color: #434B5C;\n",
              "      box-shadow: 0px 1px 3px 1px rgba(0, 0, 0, 0.15);\n",
              "      filter: drop-shadow(0px 1px 2px rgba(0, 0, 0, 0.3));\n",
              "      fill: #FFFFFF;\n",
              "    }\n",
              "  </style>\n",
              "\n",
              "    <script>\n",
              "      const buttonEl =\n",
              "        document.querySelector('#df-0df9e0a6-0003-445d-9a82-fe015278cb42 button.colab-df-convert');\n",
              "      buttonEl.style.display =\n",
              "        google.colab.kernel.accessAllowed ? 'block' : 'none';\n",
              "\n",
              "      async function convertToInteractive(key) {\n",
              "        const element = document.querySelector('#df-0df9e0a6-0003-445d-9a82-fe015278cb42');\n",
              "        const dataTable =\n",
              "          await google.colab.kernel.invokeFunction('convertToInteractive',\n",
              "                                                    [key], {});\n",
              "        if (!dataTable) return;\n",
              "\n",
              "        const docLinkHtml = 'Like what you see? Visit the ' +\n",
              "          '<a target=\"_blank\" href=https://colab.research.google.com/notebooks/data_table.ipynb>data table notebook</a>'\n",
              "          + ' to learn more about interactive tables.';\n",
              "        element.innerHTML = '';\n",
              "        dataTable['output_type'] = 'display_data';\n",
              "        await google.colab.output.renderOutput(dataTable, element);\n",
              "        const docLink = document.createElement('div');\n",
              "        docLink.innerHTML = docLinkHtml;\n",
              "        element.appendChild(docLink);\n",
              "      }\n",
              "    </script>\n",
              "  </div>\n",
              "\n",
              "\n",
              "<div id=\"df-08d26df7-d432-4b18-9cb6-ccc218c392bf\">\n",
              "  <button class=\"colab-df-quickchart\" onclick=\"quickchart('df-08d26df7-d432-4b18-9cb6-ccc218c392bf')\"\n",
              "            title=\"Suggest charts\"\n",
              "            style=\"display:none;\">\n",
              "\n",
              "<svg xmlns=\"http://www.w3.org/2000/svg\" height=\"24px\"viewBox=\"0 0 24 24\"\n",
              "     width=\"24px\">\n",
              "    <g>\n",
              "        <path d=\"M19 3H5c-1.1 0-2 .9-2 2v14c0 1.1.9 2 2 2h14c1.1 0 2-.9 2-2V5c0-1.1-.9-2-2-2zM9 17H7v-7h2v7zm4 0h-2V7h2v10zm4 0h-2v-4h2v4z\"/>\n",
              "    </g>\n",
              "</svg>\n",
              "  </button>\n",
              "\n",
              "<style>\n",
              "  .colab-df-quickchart {\n",
              "      --bg-color: #E8F0FE;\n",
              "      --fill-color: #1967D2;\n",
              "      --hover-bg-color: #E2EBFA;\n",
              "      --hover-fill-color: #174EA6;\n",
              "      --disabled-fill-color: #AAA;\n",
              "      --disabled-bg-color: #DDD;\n",
              "  }\n",
              "\n",
              "  [theme=dark] .colab-df-quickchart {\n",
              "      --bg-color: #3B4455;\n",
              "      --fill-color: #D2E3FC;\n",
              "      --hover-bg-color: #434B5C;\n",
              "      --hover-fill-color: #FFFFFF;\n",
              "      --disabled-bg-color: #3B4455;\n",
              "      --disabled-fill-color: #666;\n",
              "  }\n",
              "\n",
              "  .colab-df-quickchart {\n",
              "    background-color: var(--bg-color);\n",
              "    border: none;\n",
              "    border-radius: 50%;\n",
              "    cursor: pointer;\n",
              "    display: none;\n",
              "    fill: var(--fill-color);\n",
              "    height: 32px;\n",
              "    padding: 0;\n",
              "    width: 32px;\n",
              "  }\n",
              "\n",
              "  .colab-df-quickchart:hover {\n",
              "    background-color: var(--hover-bg-color);\n",
              "    box-shadow: 0 1px 2px rgba(60, 64, 67, 0.3), 0 1px 3px 1px rgba(60, 64, 67, 0.15);\n",
              "    fill: var(--button-hover-fill-color);\n",
              "  }\n",
              "\n",
              "  .colab-df-quickchart-complete:disabled,\n",
              "  .colab-df-quickchart-complete:disabled:hover {\n",
              "    background-color: var(--disabled-bg-color);\n",
              "    fill: var(--disabled-fill-color);\n",
              "    box-shadow: none;\n",
              "  }\n",
              "\n",
              "  .colab-df-spinner {\n",
              "    border: 2px solid var(--fill-color);\n",
              "    border-color: transparent;\n",
              "    border-bottom-color: var(--fill-color);\n",
              "    animation:\n",
              "      spin 1s steps(1) infinite;\n",
              "  }\n",
              "\n",
              "  @keyframes spin {\n",
              "    0% {\n",
              "      border-color: transparent;\n",
              "      border-bottom-color: var(--fill-color);\n",
              "      border-left-color: var(--fill-color);\n",
              "    }\n",
              "    20% {\n",
              "      border-color: transparent;\n",
              "      border-left-color: var(--fill-color);\n",
              "      border-top-color: var(--fill-color);\n",
              "    }\n",
              "    30% {\n",
              "      border-color: transparent;\n",
              "      border-left-color: var(--fill-color);\n",
              "      border-top-color: var(--fill-color);\n",
              "      border-right-color: var(--fill-color);\n",
              "    }\n",
              "    40% {\n",
              "      border-color: transparent;\n",
              "      border-right-color: var(--fill-color);\n",
              "      border-top-color: var(--fill-color);\n",
              "    }\n",
              "    60% {\n",
              "      border-color: transparent;\n",
              "      border-right-color: var(--fill-color);\n",
              "    }\n",
              "    80% {\n",
              "      border-color: transparent;\n",
              "      border-right-color: var(--fill-color);\n",
              "      border-bottom-color: var(--fill-color);\n",
              "    }\n",
              "    90% {\n",
              "      border-color: transparent;\n",
              "      border-bottom-color: var(--fill-color);\n",
              "    }\n",
              "  }\n",
              "</style>\n",
              "\n",
              "  <script>\n",
              "    async function quickchart(key) {\n",
              "      const quickchartButtonEl =\n",
              "        document.querySelector('#' + key + ' button');\n",
              "      quickchartButtonEl.disabled = true;  // To prevent multiple clicks.\n",
              "      quickchartButtonEl.classList.add('colab-df-spinner');\n",
              "      try {\n",
              "        const charts = await google.colab.kernel.invokeFunction(\n",
              "            'suggestCharts', [key], {});\n",
              "      } catch (error) {\n",
              "        console.error('Error during call to suggestCharts:', error);\n",
              "      }\n",
              "      quickchartButtonEl.classList.remove('colab-df-spinner');\n",
              "      quickchartButtonEl.classList.add('colab-df-quickchart-complete');\n",
              "    }\n",
              "    (() => {\n",
              "      let quickchartButtonEl =\n",
              "        document.querySelector('#df-08d26df7-d432-4b18-9cb6-ccc218c392bf button');\n",
              "      quickchartButtonEl.style.display =\n",
              "        google.colab.kernel.accessAllowed ? 'block' : 'none';\n",
              "    })();\n",
              "  </script>\n",
              "</div>\n",
              "\n",
              "    </div>\n",
              "  </div>\n"
            ],
            "application/vnd.google.colaboratory.intrinsic+json": {
              "type": "dataframe",
              "variable_name": "df3",
              "summary": "{\n  \"name\": \"df3\",\n  \"rows\": 2959,\n  \"fields\": [\n    {\n      \"column\": \"content\",\n      \"properties\": {\n        \"dtype\": \"string\",\n        \"num_unique_values\": 2957,\n        \"samples\": [\n          \"CPH worked very efficiently on my recent visit although I can see what people mean about the long distances you have to walk. Be sure to leave yourself plenty of time to get to your gate if you're arriving at the airport on the train especially if you're departure is from anywhere other than terminal 3. Security was busy but relatively quick. Loads of facilities airside but pricey.\",\n          \"I write just to warn those dropping off rental cars so that they can then fly from Terminal 1: Ask the car hire agency in advance about drop-off location because there are zero signs on the airport circular road for T1 car hire return only T2. Otherwise I mostly like Dublin Airport\",\n          \"I found airport to be crowded and lacking in the number of rest rooms needed for the passenger traffic. The security lines after getting off the bus seemed daunting but use of looping lines seem to lessen the chaos. There were quite a few duty free shops but food and sundry outlets non-existent. Will not transfer in Qatar until the new terminal has been in use for at least a year.\"\n        ],\n        \"semantic_type\": \"\",\n        \"description\": \"\"\n      }\n    }\n  ]\n}"
            }
          },
          "metadata": {},
          "execution_count": 23
        }
      ]
    },
    {
      "cell_type": "code",
      "source": [
        "df3.shape"
      ],
      "metadata": {
        "colab": {
          "base_uri": "https://localhost:8080/"
        },
        "id": "EaHPpzdL8Kfn",
        "outputId": "254d051c-9ee4-42dc-aa92-03977e72cffb"
      },
      "execution_count": 24,
      "outputs": [
        {
          "output_type": "execute_result",
          "data": {
            "text/plain": [
              "(2959, 1)"
            ]
          },
          "metadata": {},
          "execution_count": 24
        }
      ]
    },
    {
      "cell_type": "code",
      "source": [
        "#join all the reviews into a large text\n",
        "from itertools import chain\n",
        "N = 100\n",
        "\n",
        "#1st 100 sentences\n",
        "review_subsets = df3[\"content\"][0:N]\n",
        "\n",
        "text = \"\".join(chain.from_iterable(review_subsets))\n",
        "\n",
        "markov_chain_model = markovify.Text(text)"
      ],
      "metadata": {
        "id": "HXURvLuz7jPf"
      },
      "execution_count": 25,
      "outputs": []
    },
    {
      "cell_type": "markdown",
      "source": [
        "**note:** It takes one or more iterables as arguments and returns an iterator that produces items from the first iterable until it's exhausted, then continues producing items from the next iterable, and so on, until all iterables are exhausted.\n",
        "\n",
        "```\n",
        "# Chaining two lists\n",
        "list1 = [1, 2, 3]\n",
        "list2 = ['a', 'b', 'c']\n",
        "\n",
        "chained_iterable = chain(list1, list2)\n",
        "\n",
        "# Iterating over the chained iterable\n",
        "for item in chained_iterable:\n",
        "    print(item)\n",
        "\n",
        "```"
      ],
      "metadata": {
        "id": "9wbVH8d-9ZZl"
      }
    },
    {
      "cell_type": "code",
      "source": [
        "markov_chain_model"
      ],
      "metadata": {
        "colab": {
          "base_uri": "https://localhost:8080/"
        },
        "id": "n4YzuqyeJvvO",
        "outputId": "b9006b56-c0c5-4b80-e0ee-2d89b0200bbf"
      },
      "execution_count": 26,
      "outputs": [
        {
          "output_type": "execute_result",
          "data": {
            "text/plain": [
              "<markovify.text.Text at 0x7bba883c5b40>"
            ]
          },
          "metadata": {},
          "execution_count": 26
        }
      ]
    },
    {
      "cell_type": "code",
      "source": [
        "for i in range(8):\n",
        "  print(markov_chain_model.make_sentence())"
      ],
      "metadata": {
        "colab": {
          "base_uri": "https://localhost:8080/"
        },
        "id": "HR-HZPBOJePQ",
        "outputId": "bd9b9225-746b-480c-d38e-18e839afe1da"
      },
      "execution_count": 27,
      "outputs": [
        {
          "output_type": "stream",
          "name": "stdout",
          "text": [
            "Terminal B is a small airport quite modern.\n",
            "Seems that I almost missed my plane, in spite of arriving at the luggage claim area.\n",
            "Fly taxi is to arrive late in the check-in zone but once you pass security fantastic shopping plenty of seating areas.\n",
            "I arrived at about 7.30 am for our connecting flight to New York.\n",
            "Never check your bags at BRU again next June when I'll have a nice espresso and pastry in one of its main duties.\n",
            "In short the ground staff are not so good.\n",
            "The cafe was nice and friendly airport staff.\n",
            "There does not involve passing through Brussels airport.This is one of the strike.\n"
          ]
        }
      ]
    },
    {
      "cell_type": "code",
      "source": [
        "# generate 3 sentences not more than 100 character\n",
        "for i in range(3):\n",
        "  print(markov_chain_model.make_short_sentence(100))"
      ],
      "metadata": {
        "colab": {
          "base_uri": "https://localhost:8080/"
        },
        "id": "4Rg-wbpYKM8y",
        "outputId": "fd39b597-0a76-4add-d266-97e58eb6954e"
      },
      "execution_count": 28,
      "outputs": [
        {
          "output_type": "stream",
          "name": "stdout",
          "text": [
            "Altogether a very bad experience and no indication at all same nice officers and off to the driver.\n",
            "Limited calls for airline lucky to board my flight.\n",
            "Staff are not present so we could have walked quicker to town centre.\n"
          ]
        }
      ]
    },
    {
      "cell_type": "markdown",
      "source": [
        "# Perform Clustering with sklearn\n",
        "\n",
        "Clustering is unsupervised machine learning approach where label data is unknown grouping the data based on similarities at n-dims. We use Euclidian distance and Manhattan distance to measure that.\n",
        "\n",
        "In cyber security, it will use to distinguise between normal and anomalous network activities.\n",
        "\n",
        "![image.png](data:image/png;base64,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)"
      ],
      "metadata": {
        "id": "kSvnpHz18nOS"
      }
    },
    {
      "cell_type": "code",
      "source": [
        "# import libraries\n",
        "import pandas as pd\n",
        "#visualization\n",
        "import plotly.express as px"
      ],
      "metadata": {
        "id": "JmH-ylzu-cXs"
      },
      "execution_count": 29,
      "outputs": []
    },
    {
      "cell_type": "code",
      "source": [
        "df4 = pd.read_csv(\"/content/drive/MyDrive/CyberSecurity with AI /file_pe_headers.csv\", sep = \",\")\n",
        "df4.head(5)"
      ],
      "metadata": {
        "colab": {
          "base_uri": "https://localhost:8080/",
          "height": 255
        },
        "id": "e_szbsEn-xqv",
        "outputId": "a8bc691e-c07f-42be-96c7-ac5c4df265a7"
      },
      "execution_count": 30,
      "outputs": [
        {
          "output_type": "execute_result",
          "data": {
            "text/plain": [
              "                                          Name  e_magic  e_cblp  e_cp  e_crlc  \\\n",
              "0  VirusShare_a878ba26000edaac5c98eff4432723b3    23117     144     3       0   \n",
              "1  VirusShare_ef9130570fddc174b312b2047f5f4cf0    23117     144     3       0   \n",
              "2  VirusShare_ef84cdeba22be72a69b198213dada81a    23117     144     3       0   \n",
              "3  VirusShare_6bf3608e60ebc16cbcff6ed5467d469e    23117     144     3       0   \n",
              "4  VirusShare_2cc94d952b2efb13c7d6bbe0dd59d3fb    23117     144     3       0   \n",
              "\n",
              "   e_cparhdr  e_minalloc  e_maxalloc  e_ss  e_sp  ...  SectionMaxChar  \\\n",
              "0          4           0       65535     0   184  ...      3758096608   \n",
              "1          4           0       65535     0   184  ...      3791650880   \n",
              "2          4           0       65535     0   184  ...      3221225536   \n",
              "3          4           0       65535     0   184  ...      3224371328   \n",
              "4          4           0       65535     0   184  ...      3227516992   \n",
              "\n",
              "   SectionMainChar  DirectoryEntryImport  DirectoryEntryImportSize  \\\n",
              "0                0                     7                       152   \n",
              "1                0                    16                       311   \n",
              "2                0                     6                       176   \n",
              "3                0                     8                       155   \n",
              "4                0                     2                        43   \n",
              "\n",
              "   DirectoryEntryExport  ImageDirectoryEntryExport  ImageDirectoryEntryImport  \\\n",
              "0                     0                          0                      54440   \n",
              "1                     0                          0                     262276   \n",
              "2                     0                          0                      36864   \n",
              "3                     0                          0                     356352   \n",
              "4                     0                          0                      61440   \n",
              "\n",
              "   ImageDirectoryEntryResource  ImageDirectoryEntryException  \\\n",
              "0                        77824                         73728   \n",
              "1                       294912                             0   \n",
              "2                        40960                             0   \n",
              "3                      1003520                             0   \n",
              "4                        73728                             0   \n",
              "\n",
              "   ImageDirectoryEntrySecurity  \n",
              "0                            0  \n",
              "1                       346112  \n",
              "2                            0  \n",
              "3                     14109472  \n",
              "4                        90624  \n",
              "\n",
              "[5 rows x 79 columns]"
            ],
            "text/html": [
              "\n",
              "  <div id=\"df-03637b37-72ec-4b6e-a7ce-48cc0d5756c1\" class=\"colab-df-container\">\n",
              "    <div>\n",
              "<style scoped>\n",
              "    .dataframe tbody tr th:only-of-type {\n",
              "        vertical-align: middle;\n",
              "    }\n",
              "\n",
              "    .dataframe tbody tr th {\n",
              "        vertical-align: top;\n",
              "    }\n",
              "\n",
              "    .dataframe thead th {\n",
              "        text-align: right;\n",
              "    }\n",
              "</style>\n",
              "<table border=\"1\" class=\"dataframe\">\n",
              "  <thead>\n",
              "    <tr style=\"text-align: right;\">\n",
              "      <th></th>\n",
              "      <th>Name</th>\n",
              "      <th>e_magic</th>\n",
              "      <th>e_cblp</th>\n",
              "      <th>e_cp</th>\n",
              "      <th>e_crlc</th>\n",
              "      <th>e_cparhdr</th>\n",
              "      <th>e_minalloc</th>\n",
              "      <th>e_maxalloc</th>\n",
              "      <th>e_ss</th>\n",
              "      <th>e_sp</th>\n",
              "      <th>...</th>\n",
              "      <th>SectionMaxChar</th>\n",
              "      <th>SectionMainChar</th>\n",
              "      <th>DirectoryEntryImport</th>\n",
              "      <th>DirectoryEntryImportSize</th>\n",
              "      <th>DirectoryEntryExport</th>\n",
              "      <th>ImageDirectoryEntryExport</th>\n",
              "      <th>ImageDirectoryEntryImport</th>\n",
              "      <th>ImageDirectoryEntryResource</th>\n",
              "      <th>ImageDirectoryEntryException</th>\n",
              "      <th>ImageDirectoryEntrySecurity</th>\n",
              "    </tr>\n",
              "  </thead>\n",
              "  <tbody>\n",
              "    <tr>\n",
              "      <th>0</th>\n",
              "      <td>VirusShare_a878ba26000edaac5c98eff4432723b3</td>\n",
              "      <td>23117</td>\n",
              "      <td>144</td>\n",
              "      <td>3</td>\n",
              "      <td>0</td>\n",
              "      <td>4</td>\n",
              "      <td>0</td>\n",
              "      <td>65535</td>\n",
              "      <td>0</td>\n",
              "      <td>184</td>\n",
              "      <td>...</td>\n",
              "      <td>3758096608</td>\n",
              "      <td>0</td>\n",
              "      <td>7</td>\n",
              "      <td>152</td>\n",
              "      <td>0</td>\n",
              "      <td>0</td>\n",
              "      <td>54440</td>\n",
              "      <td>77824</td>\n",
              "      <td>73728</td>\n",
              "      <td>0</td>\n",
              "    </tr>\n",
              "    <tr>\n",
              "      <th>1</th>\n",
              "      <td>VirusShare_ef9130570fddc174b312b2047f5f4cf0</td>\n",
              "      <td>23117</td>\n",
              "      <td>144</td>\n",
              "      <td>3</td>\n",
              "      <td>0</td>\n",
              "      <td>4</td>\n",
              "      <td>0</td>\n",
              "      <td>65535</td>\n",
              "      <td>0</td>\n",
              "      <td>184</td>\n",
              "      <td>...</td>\n",
              "      <td>3791650880</td>\n",
              "      <td>0</td>\n",
              "      <td>16</td>\n",
              "      <td>311</td>\n",
              "      <td>0</td>\n",
              "      <td>0</td>\n",
              "      <td>262276</td>\n",
              "      <td>294912</td>\n",
              "      <td>0</td>\n",
              "      <td>346112</td>\n",
              "    </tr>\n",
              "    <tr>\n",
              "      <th>2</th>\n",
              "      <td>VirusShare_ef84cdeba22be72a69b198213dada81a</td>\n",
              "      <td>23117</td>\n",
              "      <td>144</td>\n",
              "      <td>3</td>\n",
              "      <td>0</td>\n",
              "      <td>4</td>\n",
              "      <td>0</td>\n",
              "      <td>65535</td>\n",
              "      <td>0</td>\n",
              "      <td>184</td>\n",
              "      <td>...</td>\n",
              "      <td>3221225536</td>\n",
              "      <td>0</td>\n",
              "      <td>6</td>\n",
              "      <td>176</td>\n",
              "      <td>0</td>\n",
              "      <td>0</td>\n",
              "      <td>36864</td>\n",
              "      <td>40960</td>\n",
              "      <td>0</td>\n",
              "      <td>0</td>\n",
              "    </tr>\n",
              "    <tr>\n",
              "      <th>3</th>\n",
              "      <td>VirusShare_6bf3608e60ebc16cbcff6ed5467d469e</td>\n",
              "      <td>23117</td>\n",
              "      <td>144</td>\n",
              "      <td>3</td>\n",
              "      <td>0</td>\n",
              "      <td>4</td>\n",
              "      <td>0</td>\n",
              "      <td>65535</td>\n",
              "      <td>0</td>\n",
              "      <td>184</td>\n",
              "      <td>...</td>\n",
              "      <td>3224371328</td>\n",
              "      <td>0</td>\n",
              "      <td>8</td>\n",
              "      <td>155</td>\n",
              "      <td>0</td>\n",
              "      <td>0</td>\n",
              "      <td>356352</td>\n",
              "      <td>1003520</td>\n",
              "      <td>0</td>\n",
              "      <td>14109472</td>\n",
              "    </tr>\n",
              "    <tr>\n",
              "      <th>4</th>\n",
              "      <td>VirusShare_2cc94d952b2efb13c7d6bbe0dd59d3fb</td>\n",
              "      <td>23117</td>\n",
              "      <td>144</td>\n",
              "      <td>3</td>\n",
              "      <td>0</td>\n",
              "      <td>4</td>\n",
              "      <td>0</td>\n",
              "      <td>65535</td>\n",
              "      <td>0</td>\n",
              "      <td>184</td>\n",
              "      <td>...</td>\n",
              "      <td>3227516992</td>\n",
              "      <td>0</td>\n",
              "      <td>2</td>\n",
              "      <td>43</td>\n",
              "      <td>0</td>\n",
              "      <td>0</td>\n",
              "      <td>61440</td>\n",
              "      <td>73728</td>\n",
              "      <td>0</td>\n",
              "      <td>90624</td>\n",
              "    </tr>\n",
              "  </tbody>\n",
              "</table>\n",
              "<p>5 rows × 79 columns</p>\n",
              "</div>\n",
              "    <div class=\"colab-df-buttons\">\n",
              "\n",
              "  <div class=\"colab-df-container\">\n",
              "    <button class=\"colab-df-convert\" onclick=\"convertToInteractive('df-03637b37-72ec-4b6e-a7ce-48cc0d5756c1')\"\n",
              "            title=\"Convert this dataframe to an interactive table.\"\n",
              "            style=\"display:none;\">\n",
              "\n",
              "  <svg xmlns=\"http://www.w3.org/2000/svg\" height=\"24px\" viewBox=\"0 -960 960 960\">\n",
              "    <path d=\"M120-120v-720h720v720H120Zm60-500h600v-160H180v160Zm220 220h160v-160H400v160Zm0 220h160v-160H400v160ZM180-400h160v-160H180v160Zm440 0h160v-160H620v160ZM180-180h160v-160H180v160Zm440 0h160v-160H620v160Z\"/>\n",
              "  </svg>\n",
              "    </button>\n",
              "\n",
              "  <style>\n",
              "    .colab-df-container {\n",
              "      display:flex;\n",
              "      gap: 12px;\n",
              "    }\n",
              "\n",
              "    .colab-df-convert {\n",
              "      background-color: #E8F0FE;\n",
              "      border: none;\n",
              "      border-radius: 50%;\n",
              "      cursor: pointer;\n",
              "      display: none;\n",
              "      fill: #1967D2;\n",
              "      height: 32px;\n",
              "      padding: 0 0 0 0;\n",
              "      width: 32px;\n",
              "    }\n",
              "\n",
              "    .colab-df-convert:hover {\n",
              "      background-color: #E2EBFA;\n",
              "      box-shadow: 0px 1px 2px rgba(60, 64, 67, 0.3), 0px 1px 3px 1px rgba(60, 64, 67, 0.15);\n",
              "      fill: #174EA6;\n",
              "    }\n",
              "\n",
              "    .colab-df-buttons div {\n",
              "      margin-bottom: 4px;\n",
              "    }\n",
              "\n",
              "    [theme=dark] .colab-df-convert {\n",
              "      background-color: #3B4455;\n",
              "      fill: #D2E3FC;\n",
              "    }\n",
              "\n",
              "    [theme=dark] .colab-df-convert:hover {\n",
              "      background-color: #434B5C;\n",
              "      box-shadow: 0px 1px 3px 1px rgba(0, 0, 0, 0.15);\n",
              "      filter: drop-shadow(0px 1px 2px rgba(0, 0, 0, 0.3));\n",
              "      fill: #FFFFFF;\n",
              "    }\n",
              "  </style>\n",
              "\n",
              "    <script>\n",
              "      const buttonEl =\n",
              "        document.querySelector('#df-03637b37-72ec-4b6e-a7ce-48cc0d5756c1 button.colab-df-convert');\n",
              "      buttonEl.style.display =\n",
              "        google.colab.kernel.accessAllowed ? 'block' : 'none';\n",
              "\n",
              "      async function convertToInteractive(key) {\n",
              "        const element = document.querySelector('#df-03637b37-72ec-4b6e-a7ce-48cc0d5756c1');\n",
              "        const dataTable =\n",
              "          await google.colab.kernel.invokeFunction('convertToInteractive',\n",
              "                                                    [key], {});\n",
              "        if (!dataTable) return;\n",
              "\n",
              "        const docLinkHtml = 'Like what you see? Visit the ' +\n",
              "          '<a target=\"_blank\" href=https://colab.research.google.com/notebooks/data_table.ipynb>data table notebook</a>'\n",
              "          + ' to learn more about interactive tables.';\n",
              "        element.innerHTML = '';\n",
              "        dataTable['output_type'] = 'display_data';\n",
              "        await google.colab.output.renderOutput(dataTable, element);\n",
              "        const docLink = document.createElement('div');\n",
              "        docLink.innerHTML = docLinkHtml;\n",
              "        element.appendChild(docLink);\n",
              "      }\n",
              "    </script>\n",
              "  </div>\n",
              "\n",
              "\n",
              "<div id=\"df-9b24308c-22aa-42b7-9c77-a79456a79d19\">\n",
              "  <button class=\"colab-df-quickchart\" onclick=\"quickchart('df-9b24308c-22aa-42b7-9c77-a79456a79d19')\"\n",
              "            title=\"Suggest charts\"\n",
              "            style=\"display:none;\">\n",
              "\n",
              "<svg xmlns=\"http://www.w3.org/2000/svg\" height=\"24px\"viewBox=\"0 0 24 24\"\n",
              "     width=\"24px\">\n",
              "    <g>\n",
              "        <path d=\"M19 3H5c-1.1 0-2 .9-2 2v14c0 1.1.9 2 2 2h14c1.1 0 2-.9 2-2V5c0-1.1-.9-2-2-2zM9 17H7v-7h2v7zm4 0h-2V7h2v10zm4 0h-2v-4h2v4z\"/>\n",
              "    </g>\n",
              "</svg>\n",
              "  </button>\n",
              "\n",
              "<style>\n",
              "  .colab-df-quickchart {\n",
              "      --bg-color: #E8F0FE;\n",
              "      --fill-color: #1967D2;\n",
              "      --hover-bg-color: #E2EBFA;\n",
              "      --hover-fill-color: #174EA6;\n",
              "      --disabled-fill-color: #AAA;\n",
              "      --disabled-bg-color: #DDD;\n",
              "  }\n",
              "\n",
              "  [theme=dark] .colab-df-quickchart {\n",
              "      --bg-color: #3B4455;\n",
              "      --fill-color: #D2E3FC;\n",
              "      --hover-bg-color: #434B5C;\n",
              "      --hover-fill-color: #FFFFFF;\n",
              "      --disabled-bg-color: #3B4455;\n",
              "      --disabled-fill-color: #666;\n",
              "  }\n",
              "\n",
              "  .colab-df-quickchart {\n",
              "    background-color: var(--bg-color);\n",
              "    border: none;\n",
              "    border-radius: 50%;\n",
              "    cursor: pointer;\n",
              "    display: none;\n",
              "    fill: var(--fill-color);\n",
              "    height: 32px;\n",
              "    padding: 0;\n",
              "    width: 32px;\n",
              "  }\n",
              "\n",
              "  .colab-df-quickchart:hover {\n",
              "    background-color: var(--hover-bg-color);\n",
              "    box-shadow: 0 1px 2px rgba(60, 64, 67, 0.3), 0 1px 3px 1px rgba(60, 64, 67, 0.15);\n",
              "    fill: var(--button-hover-fill-color);\n",
              "  }\n",
              "\n",
              "  .colab-df-quickchart-complete:disabled,\n",
              "  .colab-df-quickchart-complete:disabled:hover {\n",
              "    background-color: var(--disabled-bg-color);\n",
              "    fill: var(--disabled-fill-color);\n",
              "    box-shadow: none;\n",
              "  }\n",
              "\n",
              "  .colab-df-spinner {\n",
              "    border: 2px solid var(--fill-color);\n",
              "    border-color: transparent;\n",
              "    border-bottom-color: var(--fill-color);\n",
              "    animation:\n",
              "      spin 1s steps(1) infinite;\n",
              "  }\n",
              "\n",
              "  @keyframes spin {\n",
              "    0% {\n",
              "      border-color: transparent;\n",
              "      border-bottom-color: var(--fill-color);\n",
              "      border-left-color: var(--fill-color);\n",
              "    }\n",
              "    20% {\n",
              "      border-color: transparent;\n",
              "      border-left-color: var(--fill-color);\n",
              "      border-top-color: var(--fill-color);\n",
              "    }\n",
              "    30% {\n",
              "      border-color: transparent;\n",
              "      border-left-color: var(--fill-color);\n",
              "      border-top-color: var(--fill-color);\n",
              "      border-right-color: var(--fill-color);\n",
              "    }\n",
              "    40% {\n",
              "      border-color: transparent;\n",
              "      border-right-color: var(--fill-color);\n",
              "      border-top-color: var(--fill-color);\n",
              "    }\n",
              "    60% {\n",
              "      border-color: transparent;\n",
              "      border-right-color: var(--fill-color);\n",
              "    }\n",
              "    80% {\n",
              "      border-color: transparent;\n",
              "      border-right-color: var(--fill-color);\n",
              "      border-bottom-color: var(--fill-color);\n",
              "    }\n",
              "    90% {\n",
              "      border-color: transparent;\n",
              "      border-bottom-color: var(--fill-color);\n",
              "    }\n",
              "  }\n",
              "</style>\n",
              "\n",
              "  <script>\n",
              "    async function quickchart(key) {\n",
              "      const quickchartButtonEl =\n",
              "        document.querySelector('#' + key + ' button');\n",
              "      quickchartButtonEl.disabled = true;  // To prevent multiple clicks.\n",
              "      quickchartButtonEl.classList.add('colab-df-spinner');\n",
              "      try {\n",
              "        const charts = await google.colab.kernel.invokeFunction(\n",
              "            'suggestCharts', [key], {});\n",
              "      } catch (error) {\n",
              "        console.error('Error during call to suggestCharts:', error);\n",
              "      }\n",
              "      quickchartButtonEl.classList.remove('colab-df-spinner');\n",
              "      quickchartButtonEl.classList.add('colab-df-quickchart-complete');\n",
              "    }\n",
              "    (() => {\n",
              "      let quickchartButtonEl =\n",
              "        document.querySelector('#df-9b24308c-22aa-42b7-9c77-a79456a79d19 button');\n",
              "      quickchartButtonEl.style.display =\n",
              "        google.colab.kernel.accessAllowed ? 'block' : 'none';\n",
              "    })();\n",
              "  </script>\n",
              "</div>\n",
              "\n",
              "    </div>\n",
              "  </div>\n"
            ],
            "application/vnd.google.colaboratory.intrinsic+json": {
              "type": "dataframe",
              "variable_name": "df4"
            }
          },
          "metadata": {},
          "execution_count": 30
        }
      ]
    },
    {
      "cell_type": "code",
      "source": [
        "df4.columns"
      ],
      "metadata": {
        "colab": {
          "base_uri": "https://localhost:8080/"
        },
        "id": "MD7K9i0U_LSX",
        "outputId": "7ee6cce9-9e6f-4a06-900b-f29e7de535c0"
      },
      "execution_count": 31,
      "outputs": [
        {
          "output_type": "execute_result",
          "data": {
            "text/plain": [
              "Index(['Name', 'e_magic', 'e_cblp', 'e_cp', 'e_crlc', 'e_cparhdr',\n",
              "       'e_minalloc', 'e_maxalloc', 'e_ss', 'e_sp', 'e_csum', 'e_ip', 'e_cs',\n",
              "       'e_lfarlc', 'e_ovno', 'e_oemid', 'e_oeminfo', 'e_lfanew', 'Machine',\n",
              "       'NumberOfSections', 'TimeDateStamp', 'PointerToSymbolTable',\n",
              "       'NumberOfSymbols', 'SizeOfOptionalHeader', 'Characteristics', 'Magic',\n",
              "       'MajorLinkerVersion', 'MinorLinkerVersion', 'SizeOfCode',\n",
              "       'SizeOfInitializedData', 'SizeOfUninitializedData',\n",
              "       'AddressOfEntryPoint', 'BaseOfCode', 'ImageBase', 'SectionAlignment',\n",
              "       'FileAlignment', 'MajorOperatingSystemVersion',\n",
              "       'MinorOperatingSystemVersion', 'MajorImageVersion', 'MinorImageVersion',\n",
              "       'MajorSubsystemVersion', 'MinorSubsystemVersion', 'SizeOfHeaders',\n",
              "       'CheckSum', 'SizeOfImage', 'Subsystem', 'DllCharacteristics',\n",
              "       'SizeOfStackReserve', 'SizeOfStackCommit', 'SizeOfHeapReserve',\n",
              "       'SizeOfHeapCommit', 'LoaderFlags', 'NumberOfRvaAndSizes', 'Malware',\n",
              "       'SuspiciousImportFunctions', 'SuspiciousNameSection', 'SectionsLength',\n",
              "       'SectionMinEntropy', 'SectionMaxEntropy', 'SectionMinRawsize',\n",
              "       'SectionMaxRawsize', 'SectionMinVirtualsize', 'SectionMaxVirtualsize',\n",
              "       'SectionMaxPhysical', 'SectionMinPhysical', 'SectionMaxVirtual',\n",
              "       'SectionMinVirtual', 'SectionMaxPointerData', 'SectionMinPointerData',\n",
              "       'SectionMaxChar', 'SectionMainChar', 'DirectoryEntryImport',\n",
              "       'DirectoryEntryImportSize', 'DirectoryEntryExport',\n",
              "       'ImageDirectoryEntryExport', 'ImageDirectoryEntryImport',\n",
              "       'ImageDirectoryEntryResource', 'ImageDirectoryEntryException',\n",
              "       'ImageDirectoryEntrySecurity'],\n",
              "      dtype='object')"
            ]
          },
          "metadata": {},
          "execution_count": 31
        }
      ]
    },
    {
      "cell_type": "code",
      "source": [
        "df4['SuspiciousImportFunctions'][0:10]"
      ],
      "metadata": {
        "colab": {
          "base_uri": "https://localhost:8080/"
        },
        "id": "8Dj5eKA2_kbK",
        "outputId": "93f9d412-d63d-4157-a393-508d14161c39"
      },
      "execution_count": 32,
      "outputs": [
        {
          "output_type": "execute_result",
          "data": {
            "text/plain": [
              "0     0\n",
              "1     0\n",
              "2     0\n",
              "3    14\n",
              "4     2\n",
              "5    22\n",
              "6     9\n",
              "7    22\n",
              "8    18\n",
              "9     4\n",
              "Name: SuspiciousImportFunctions, dtype: int64"
            ]
          },
          "metadata": {},
          "execution_count": 32
        }
      ]
    },
    {
      "cell_type": "code",
      "source": [
        "df4['SectionsLength'][0:10]"
      ],
      "metadata": {
        "colab": {
          "base_uri": "https://localhost:8080/"
        },
        "id": "xDmC1NDe_5uV",
        "outputId": "14863dce-f594-42cb-e3da-b699bafecb02"
      },
      "execution_count": 33,
      "outputs": [
        {
          "output_type": "execute_result",
          "data": {
            "text/plain": [
              "0    6\n",
              "1    5\n",
              "2    6\n",
              "3    7\n",
              "4    7\n",
              "5    8\n",
              "6    5\n",
              "7    8\n",
              "8    4\n",
              "9    7\n",
              "Name: SectionsLength, dtype: int64"
            ]
          },
          "metadata": {},
          "execution_count": 33
        }
      ]
    },
    {
      "cell_type": "code",
      "source": [
        "df4['SuspiciousNameSection'][0:10]"
      ],
      "metadata": {
        "colab": {
          "base_uri": "https://localhost:8080/"
        },
        "id": "MPKi9E0wAQDl",
        "outputId": "b67ab9e5-c2d6-4e8c-d316-44a7694d56e2"
      },
      "execution_count": 34,
      "outputs": [
        {
          "output_type": "execute_result",
          "data": {
            "text/plain": [
              "0    0\n",
              "1    0\n",
              "2    0\n",
              "3    0\n",
              "4    0\n",
              "5    0\n",
              "6    0\n",
              "7    0\n",
              "8    0\n",
              "9    0\n",
              "Name: SuspiciousNameSection, dtype: int64"
            ]
          },
          "metadata": {},
          "execution_count": 34
        }
      ]
    },
    {
      "cell_type": "code",
      "source": [
        "df4['SuspiciousNameSection'].value_counts()"
      ],
      "metadata": {
        "colab": {
          "base_uri": "https://localhost:8080/"
        },
        "id": "LWrSY8CSAdeG",
        "outputId": "de363020-f294-4025-8b54-be58ba7c6b8e"
      },
      "execution_count": 35,
      "outputs": [
        {
          "output_type": "execute_result",
          "data": {
            "text/plain": [
              "SuspiciousNameSection\n",
              "0    19366\n",
              "1      173\n",
              "2       37\n",
              "3       31\n",
              "4        4\n",
              "Name: count, dtype: int64"
            ]
          },
          "metadata": {},
          "execution_count": 35
        }
      ]
    },
    {
      "cell_type": "code",
      "source": [
        "df4['Malware'][0:10]"
      ],
      "metadata": {
        "colab": {
          "base_uri": "https://localhost:8080/"
        },
        "id": "1gKcsCvXAh5F",
        "outputId": "040d8bd5-7d40-45ed-87c7-28bdd0100212"
      },
      "execution_count": 36,
      "outputs": [
        {
          "output_type": "execute_result",
          "data": {
            "text/plain": [
              "0    1\n",
              "1    1\n",
              "2    1\n",
              "3    1\n",
              "4    1\n",
              "5    1\n",
              "6    1\n",
              "7    1\n",
              "8    1\n",
              "9    1\n",
              "Name: Malware, dtype: int64"
            ]
          },
          "metadata": {},
          "execution_count": 36
        }
      ]
    },
    {
      "cell_type": "code",
      "source": [
        "df4['Malware'].value_counts()"
      ],
      "metadata": {
        "colab": {
          "base_uri": "https://localhost:8080/"
        },
        "id": "Qy7e1GjoArMo",
        "outputId": "9bd026b2-3d9f-4352-82cb-47406a9b2252"
      },
      "execution_count": 37,
      "outputs": [
        {
          "output_type": "execute_result",
          "data": {
            "text/plain": [
              "Malware\n",
              "1    14599\n",
              "0     5012\n",
              "Name: count, dtype: int64"
            ]
          },
          "metadata": {},
          "execution_count": 37
        }
      ]
    },
    {
      "cell_type": "code",
      "source": [
        "fig = px.scatter_3d(\n",
        "    df4, x ='SuspiciousImportFunctions',\n",
        "    y = 'SectionsLength' ,\n",
        "    z = 'SuspiciousNameSection',\n",
        "    color = \"Malware\",\n",
        ")\n",
        "fig.show()"
      ],
      "metadata": {
        "colab": {
          "base_uri": "https://localhost:8080/",
          "height": 542
        },
        "id": "4OwhwunvAwB_",
        "outputId": "8a6b3457-9ac6-423b-e850-66afe1c56767"
      },
      "execution_count": 38,
      "outputs": [
        {
          "output_type": "display_data",
          "data": {
            "text/html": [
              "<html>\n",
              "<head><meta charset=\"utf-8\" /></head>\n",
              "<body>\n",
              "    <div>            <script src=\"https://cdnjs.cloudflare.com/ajax/libs/mathjax/2.7.5/MathJax.js?config=TeX-AMS-MML_SVG\"></script><script type=\"text/javascript\">if (window.MathJax && window.MathJax.Hub && window.MathJax.Hub.Config) {window.MathJax.Hub.Config({SVG: {font: \"STIX-Web\"}});}</script>                <script type=\"text/javascript\">window.PlotlyConfig = {MathJaxConfig: 'local'};</script>\n",
              "        <script charset=\"utf-8\" src=\"https://cdn.plot.ly/plotly-2.24.1.min.js\"></script>                <div id=\"c5778b54-24fd-4f57-a2af-70392e8eaf74\" class=\"plotly-graph-div\" style=\"height:525px; width:100%;\"></div>            <script type=\"text/javascript\">                                    window.PLOTLYENV=window.PLOTLYENV || {};                                    if (document.getElementById(\"c5778b54-24fd-4f57-a2af-70392e8eaf74\")) {                    Plotly.newPlot(                        \"c5778b54-24fd-4f57-a2af-70392e8eaf74\",                        [{\"hovertemplate\":\"SuspiciousImportFunctions=%{x}\\u003cbr\\u003eSectionsLength=%{y}\\u003cbr\\u003eSuspiciousNameSection=%{z}\\u003cbr\\u003eMalware=%{marker.color}\\u003cextra\\u003e\\u003c\\u002fextra\\u003e\",\"legendgroup\":\"\",\"marker\":{\"color\":[1,1,1,1,1,1,1,1,1,1,1,1,1,1,1,1,1,1,1,1,1,1,1,1,1,1,1,1,1,1,1,1,1,1,1,1,1,1,1,1,1,1,1,1,1,1,1,1,1,1,1,1,1,1,1,1,1,1,1,1,1,1,1,1,1,1,1,1,1,1,1,1,1,1,1,1,1,1,1,1,1,1,1,1,1,1,1,1,1,1,1,1,1,1,1,1,1,1,1,1,1,1,1,1,1,1,1,1,1,1,1,1,1,1,1,1,1,1,1,1,1,1,1,1,1,1,1,1,1,1,1,1,1,1,1,1,1,1,1,1,1,1,1,1,1,1,1,1,1,1,1,1,1,1,1,1,1,1,1,1,1,1,1,1,1,1,1,1,1,1,1,1,1,1,1,1,1,1,1,1,1,1,1,1,1,1,1,1,1,1,1,1,1,1,1,1,1,1,1,1,1,1,1,1,1,1,1,1,1,1,1,1,1,1,1,1,1,1,1,1,1,1,1,1,1,1,1,1,1,1,1,1,1,1,1,1,1,1,1,1,1,1,1,1,1,1,1,1,1,1,1,1,1,1,1,1,1,1,1,1,1,1,1,1,1,1,1,1,1,1,1,1,1,1,1,1,1,1,1,1,1,1,1,1,1,1,1,1,1,1,1,1,1,1,1,1,1,1,1,1,1,1,1,1,1,1,1,1,1,1,1,1,1,1,1,1,1,1,1,1,1,1,1,1,1,1,1,1,1,1,1,1,1,1,1,1,1,1,1,1,1,1,1,1,1,1,1,1,1,1,1,1,1,1,1,1,1,1,1,1,1,1,1,1,1,1,1,1,1,1,1,1,1,1,1,1,1,1,1,1,1,1,1,1,1,1,1,1,1,1,1,1,1,1,1,1,1,1,1,1,1,1,1,1,1,1,1,1,1,1,1,1,1,1,1,1,1,1,1,1,1,1,1,1,1,1,1,1,1,1,1,1,1,1,1,1,1,1,1,1,1,1,1,1,1,1,1,1,1,1,1,1,1,1,1,1,1,1,1,1,1,1,1,1,1,1,1,1,1,1,1,1,1,1,1,1,1,1,1,1,1,1,1,1,1,1,1,1,1,1,1,1,1,1,1,1,1,1,1,1,1,1,1,1,1,1,1,1,1,1,1,1,1,1,1,1,1,1,1,1,1,1,1,1,1,1,1,1,1,1,1,1,1,1,1,1,1,1,1,1,1,1,1,1,1,1,1,1,1,1,1,1,1,1,1,1,1,1,1,1,1,1,1,1,1,1,1,1,1,1,1,1,1,1,1,1,1,1,1,1,1,1,1,1,1,1,1,1,1,1,1,1,1,1,1,1,1,1,1,1,1,1,1,1,1,1,1,1,1,1,1,1,1,1,1,1,1,1,1,1,1,1,1,1,1,1,1,1,1,1,1,1,1,1,1,1,1,1,1,1,1,1,1,1,1,1,1,1,1,1,1,1,1,1,1,1,1,1,1,1,1,1,1,1,1,1,1,1,1,1,1,1,1,1,1,1,1,1,1,1,1,1,1,1,1,1,1,1,1,1,1,1,1,1,1,1,1,1,1,1,1,1,1,1,1,1,1,1,1,1,1,1,1,1,1,1,1,1,1,1,1,1,1,1,1,1,1,1,1,1,1,1,1,1,1,1,1,1,1,1,1,1,1,1,1,1,1,1,1,1,1,1,1,1,1,1,1,1,1,1,1,1,1,1,1,1,1,1,1,1,1,1,1,1,1,1,1,1,1,1,1,1,1,1,1,1,1,1,1,1,1,1,1,1,1,1,1,1,1,1,1,1,1,1,1,1,1,1,1,1,1,1,1,1,1,1,1,1,1,1,1,1,1,1,1,1,1,1,1,1,1,1,1,1,1,1,1,1,1,1,1,1,1,1,1,1,1,1,1,1,1,1,1,1,1,1,1,1,1,1,1,1,1,1,1,1,1,1,1,1,1,1,1,1,1,1,1,1,1,1,1,1,1,1,1,1,1,1,1,1,1,1,1,1,1,1,1,1,1,1,1,1,1,1,1,1,1,1,1,1,1,1,1,1,1,1,1,1,1,1,1,1,1,1,1,1,1,1,1,1,1,1,1,1,1,1,1,1,1,1,1,1,1,1,1,1,1,1,1,1,1,1,1,1,1,1,1,1,1,1,1,1,1,1,1,1,1,1,1,1,1,1,1,1,1,1,1,1,1,1,1,1,1,1,1,1,1,1,1,1,1,1,1,1,1,1,1,1,1,1,1,1,1,1,1,1,1,1,1,1,1,1,1,1,1,1,1,1,1,1,1,1,1,1,1,1,1,1,1,1,1,1,1,1,1,1,1,1,1,1,1,1,1,1,1,1,1,1,1,1,1,1,1,1,1,1,1,1,1,1,1,1,1,1,1,1,1,1,1,1,1,1,1,1,1,1,1,1,1,1,1,1,1,1,1,1,1,1,1,1,1,1,1,1,1,1,1,1,1,1,1,1,1,1,1,1,1,1,1,1,1,1,1,1,1,1,1,1,1,1,1,1,1,1,1,1,1,1,1,1,1,1,1,1,1,1,1,1,1,1,1,1,1,1,1,1,1,1,1,1,1,1,1,1,1,1,1,1,1,1,1,1,1,1,1,1,1,1,1,1,1,1,1,1,1,1,1,1,1,1,1,1,1,1,1,1,1,1,1,1,1,1,1,1,1,1,1,1,1,1,1,1,1,1,1,1,1,1,1,1,1,1,1,1,1,1,1,1,1,1,1,1,1,1,1,1,1,1,1,1,1,1,1,1,1,1,1,1,1,1,1,1,1,1,1,1,1,1,1,1,1,1,1,1,1,1,1,1,1,1,1,1,1,1,1,1,1,1,1,1,1,1,1,1,1,1,1,1,1,1,1,1,1,1,1,1,1,1,1,1,1,1,1,1,1,1,1,1,1,1,1,1,1,1,1,1,1,1,1,1,1,1,1,1,1,1,1,1,1,1,1,1,1,1,1,1,1,1,1,1,1,1,1,1,1,1,1,1,1,1,1,1,1,1,1,1,1,1,1,1,1,1,1,1,1,1,1,1,1,1,1,1,1,1,1,1,1,1,1,1,1,1,1,1,1,1,1,1,1,1,1,1,1,1,1,1,1,1,1,1,1,1,1,1,1,1,1,1,1,1,1,1,1,1,1,1,1,1,1,1,1,1,1,1,1,1,1,1,1,1,1,1,1,1,1,1,1,1,1,1,1,1,1,1,1,1,1,1,1,1,1,1,1,1,1,1,1,1,1,1,1,1,1,1,1,1,1,1,1,1,1,1,1,1,1,1,1,1,1,1,1,1,1,1,1,1,1,1,1,1,1,1,1,1,1,1,1,1,1,1,1,1,1,1,1,1,1,1,1,1,1,1,1,1,1,1,1,1,1,1,1,1,1,1,1,1,1,1,1,1,1,1,1,1,1,1,1,1,1,1,1,1,1,1,1,1,1,1,1,1,1,1,1,1,1,1,1,1,1,1,1,1,1,1,1,1,1,1,1,1,1,1,1,1,1,1,1,1,1,1,1,1,1,1,1,1,1,1,1,1,1,1,1,1,1,1,1,1,1,1,1,1,1,1,1,1,1,1,1,1,1,1,1,1,1,1,1,1,1,1,1,1,1,1,1,1,1,1,1,1,1,1,1,1,1,1,1,1,1,1,1,1,1,1,1,1,1,1,1,1,1,1,1,1,1,1,1,1,1,1,1,1,1,1,1,1,1,1,1,1,1,1,1,1,1,1,1,1,1,1,1,1,1,1,1,1,1,1,1,1,1,1,1,1,1,1,1,1,1,1,1,1,1,1,1,1,1,1,1,1,1,1,1,1,1,1,1,1,1,1,1,1,1,1,1,1,1,1,1,1,1,1,1,1,1,1,1,1,1,1,1,1,1,1,1,1,1,1,1,1,1,1,1,1,1,1,1,1,1,1,1,1,1,1,1,1,1,1,1,1,1,1,1,1,1,1,1,1,1,1,1,1,1,1,1,1,1,1,1,1,1,1,1,1,1,1,1,1,1,1,1,1,1,1,1,1,1,1,1,1,1,1,1,1,1,1,1,1,1,1,1,1,1,1,1,1,1,1,1,1,1,1,1,1,1,1,1,1,1,1,1,1,1,1,1,1,1,1,1,1,1,1,1,1,1,1,1,1,1,1,1,1,1,1,1,1,1,1,1,1,1,1,1,1,1,1,1,1,1,1,1,1,1,1,1,1,1,1,1,1,1,1,1,1,1,1,1,1,1,1,1,1,1,1,1,1,1,1,1,1,1,1,1,1,1,1,1,1,1,1,1,1,1,1,1,1,1,1,1,1,1,1,1,1,1,1,1,1,1,1,1,1,1,1,1,1,1,1,1,1,1,1,1,1,1,1,1,1,1,1,1,1,1,1,1,1,1,1,1,1,1,1,1,1,1,1,1,1,1,1,1,1,1,1,1,1,1,1,1,1,1,1,1,1,1,1,1,1,1,1,1,1,1,1,1,1,1,1,1,1,1,1,1,1,1,1,1,1,1,1,1,1,1,1,1,1,1,1,1,1,1,1,1,1,1,1,1,1,1,1,1,1,1,1,1,1,1,1,1,1,1,1,1,1,1,1,1,1,1,1,1,1,1,1,1,1,1,1,1,1,1,1,1,1,1,1,1,1,1,1,1,1,1,1,1,1,1,1,1,1,1,1,1,1,1,1,1,1,1,1,1,1,1,1,1,1,1,1,1,1,1,1,1,1,1,1,1,1,1,1,1,1,1,1,1,1,1,1,1,1,1,1,1,1,1,1,1,1,1,1,1,1,1,1,1,1,1,1,1,1,1,1,1,1,1,1,1,1,1,1,1,1,1,1,1,1,1,1,1,1,1,1,1,1,1,1,1,1,1,1,1,1,1,1,1,1,1,1,1,1,1,1,1,1,1,1,1,1,1,1,1,1,1,1,1,1,1,1,1,1,1,1,1,1,1,1,1,1,1,1,1,1,1,1,1,1,1,1,1,1,1,1,1,1,1,1,1,1,1,1,1,1,1,1,1,1,1,1,1,1,1,1,1,1,1,1,1,1,1,1,1,1,1,1,1,1,1,1,1,1,1,1,1,1,1,1,1,1,1,1,1,1,1,1,1,1,1,1,1,1,1,1,1,1,1,1,1,1,1,1,1,1,1,1,1,1,1,1,1,1,1,1,1,1,1,1,1,1,1,1,1,1,1,1,1,1,1,1,1,1,1,1,1,1,1,1,1,1,1,1,1,1,1,1,1,1,1,1,1,1,1,1,1,1,1,1,1,1,1,1,1,1,1,1,1,1,1,1,1,1,1,1,1,1,1,1,1,1,1,1,1,1,1,1,1,1,1,1,1,1,1,1,1,1,1,1,1,1,1,1,1,1,1,1,1,1,1,1,1,1,1,1,1,1,1,1,1,1,1,1,1,1,1,1,1,1,1,1,1,1,1,1,1,1,1,1,1,1,1,1,1,1,1,1,1,1,1,1,1,1,1,1,1,1,1,1,1,1,1,1,1,1,1,1,1,1,1,1,1,1,1,1,1,1,1,1,1,1,1,1,1,1,1,1,1,1,1,1,1,1,1,1,1,1,1,1,1,1,1,1,1,1,1,1,1,1,1,1,1,1,1,1,1,1,1,1,1,1,1,1,1,1,1,1,1,1,1,1,1,1,1,1,1,1,1,1,1,1,1,1,1,1,1,1,1,1,1,1,1,1,1,1,1,1,1,1,1,1,1,1,1,1,1,1,1,1,1,1,1,1,1,1,1,1,1,1,1,1,1,1,1,1,1,1,1,1,1,1,1,1,1,1,1,1,1,1,1,1,1,1,1,1,1,1,1,1,1,1,1,1,1,1,1,1,1,1,1,1,1,1,1,1,1,1,1,1,1,1,1,1,1,1,1,1,1,1,1,1,1,1,1,1,1,1,1,1,1,1,1,1,1,1,1,1,1,1,1,1,1,1,1,1,1,1,1,1,1,1,1,1,1,1,1,1,1,1,1,1,1,1,1,1,1,1,1,1,1,1,1,1,1,1,1,1,1,1,1,1,1,1,1,1,1,1,1,1,1,1,1,1,1,1,1,1,1,1,1,1,1,1,1,1,1,1,1,1,1,1,1,1,1,1,1,1,1,1,1,1,1,1,1,1,1,1,1,1,1,1,1,1,1,1,1,1,1,1,1,1,1,1,1,1,1,1,1,1,1,1,1,1,1,1,1,1,1,1,1,1,1,1,1,1,1,1,1,1,1,1,1,1,1,1,1,1,1,1,1,1,1,1,1,1,1,1,1,1,1,1,1,1,1,1,1,1,1,1,1,1,1,1,1,1,1,1,1,1,1,1,1,1,1,1,1,1,1,1,1,1,1,1,1,1,1,1,1,1,1,1,1,1,1,1,1,1,1,1,1,1,1,1,1,1,1,1,1,1,1,1,1,1,1,1,1,1,1,1,1,1,1,1,1,1,1,1,1,1,1,1,1,1,1,1,1,1,1,1,1,1,1,1,1,1,1,1,1,1,1,1,1,1,1,1,1,1,1,1,1,1,1,1,1,1,1,1,1,1,1,1,1,1,1,1,1,1,1,1,1,1,1,1,1,1,1,1,1,1,1,1,1,1,1,1,1,1,1,1,1,1,1,1,1,1,1,1,1,1,1,1,1,1,1,1,1,1,1,1,1,1,1,1,1,1,1,1,1,1,1,1,1,1,1,1,1,1,1,1,1,1,1,1,1,1,1,1,1,1,1,1,1,1,1,1,1,1,1,1,1,1,1,1,1,1,1,1,1,1,1,1,1,1,1,1,1,1,1,1,1,1,1,1,1,1,1,1,1,1,1,1,1,1,1,1,1,1,1,1,1,1,1,1,1,1,1,1,1,1,1,1,1,1,1,1,1,1,1,1,1,1,1,1,1,1,1,1,1,1,1,1,1,1,1,1,1,1,1,1,1,1,1,1,1,1,1,1,1,1,1,1,1,1,1,1,1,1,1,1,1,1,1,1,1,1,1,1,1,1,1,1,1,1,1,1,1,1,1,1,1,1,1,1,1,1,1,1,1,1,1,1,1,1,1,1,1,1,1,1,1,1,1,1,1,1,1,1,1,1,1,1,1,1,1,1,1,1,1,1,1,1,1,1,1,1,1,1,1,1,1,1,1,1,1,1,1,1,1,1,1,1,1,1,1,1,1,1,1,1,1,1,1,1,1,1,1,1,1,1,1,1,1,1,1,1,1,1,1,1,1,1,1,1,1,1,1,1,1,1,1,1,1,1,1,1,1,1,1,1,1,1,1,1,1,1,1,1,1,1,1,1,1,1,1,1,1,1,1,1,1,1,1,1,1,1,1,1,1,1,1,1,1,1,1,1,1,1,1,1,1,1,1,1,1,1,1,1,1,1,1,1,1,1,1,1,1,1,1,1,1,1,1,1,1,1,1,1,1,1,1,1,1,1,1,1,1,1,1,1,1,1,1,1,1,1,1,1,1,1,1,1,1,1,1,1,1,1,1,1,1,1,1,1,1,1,1,1,1,1,1,1,1,1,1,1,1,1,1,1,1,1,1,1,1,1,1,1,1,1,1,1,1,1,1,1,1,1,1,1,1,1,1,1,1,1,1,1,1,1,1,1,1,1,1,1,1,1,1,1,1,1,1,1,1,1,1,1,1,1,1,1,1,1,1,1,1,1,1,1,1,1,1,1,1,1,1,1,1,1,1,1,1,1,1,1,1,1,1,1,1,1,1,1,1,1,1,1,1,1,1,1,1,1,1,1,1,1,1,1,1,1,1,1,1,1,1,1,1,1,1,1,1,1,1,1,1,1,1,1,1,1,1,1,1,1,1,1,1,1,1,1,1,1,1,1,1,1,1,1,1,1,1,1,1,1,1,1,1,1,1,1,1,1,1,1,1,1,1,1,1,1,1,1,1,1,1,1,1,1,1,1,1,1,1,1,1,1,1,1,1,1,1,1,1,1,1,1,1,1,1,1,1,1,1,1,1,1,1,1,1,1,1,1,1,1,1,1,1,1,1,1,1,1,1,1,1,1,1,1,1,1,1,1,1,1,1,1,1,1,1,1,1,1,1,1,1,1,1,1,1,1,1,1,1,1,1,1,1,1,1,1,1,1,1,1,1,1,1,1,1,1,1,1,1,1,1,1,1,1,1,1,1,1,1,1,1,1,1,1,1,1,1,1,1,1,1,1,1,1,1,1,1,1,1,1,1,1,1,1,1,1,1,1,1,1,1,1,1,1,1,1,1,1,1,1,1,1,1,1,1,1,1,1,1,1,1,1,1,1,1,1,1,1,1,1,1,1,1,1,1,1,1,1,1,1,1,1,1,1,1,1,1,1,1,1,1,1,1,1,1,1,1,1,1,1,1,1,1,1,1,1,1,1,1,1,1,1,1,1,1,1,1,1,1,1,1,1,1,1,1,1,1,1,1,1,1,1,1,1,1,1,1,1,1,1,1,1,1,1,1,1,1,1,1,1,1,1,1,1,1,1,1,1,1,1,1,1,1,1,1,1,1,1,1,1,1,1,1,1,1,1,1,1,1,1,1,1,1,1,1,1,1,1,1,1,1,1,1,1,1,1,1,1,1,1,1,1,1,1,1,1,1,1,1,1,1,1,1,1,1,1,1,1,1,1,1,1,1,1,1,1,1,1,1,1,1,1,1,1,1,1,1,1,1,1,1,1,1,1,1,1,1,1,1,1,1,1,1,1,1,1,1,1,1,1,1,1,1,1,1,1,1,1,1,1,1,1,1,1,1,1,1,1,1,1,1,1,1,1,1,1,1,1,1,1,1,1,1,1,1,1,1,1,1,1,1,1,1,1,1,1,1,1,1,1,1,1,1,1,1,1,1,1,1,1,1,1,1,1,1,1,1,1,1,1,1,1,1,1,1,1,1,1,1,1,1,1,1,1,1,1,1,1,1,1,1,1,1,1,1,1,1,1,1,1,1,1,1,1,1,1,1,1,1,1,1,1,1,1,1,1,1,1,1,1,1,1,1,1,1,1,1,1,1,1,1,1,1,1,1,1,1,1,1,1,1,1,1,1,1,1,1,1,1,1,1,1,1,1,1,1,1,1,1,1,1,1,1,1,1,1,1,1,1,1,1,1,1,1,1,1,1,1,1,1,1,1,1,1,1,1,1,1,1,1,1,1,1,1,1,1,1,1,1,1,1,1,1,1,1,1,1,1,1,1,1,1,1,1,1,1,1,1,1,1,1,1,1,1,1,1,1,1,1,1,1,1,1,1,1,1,1,1,1,1,1,1,1,1,1,1,1,1,1,1,1,1,1,1,1,1,1,1,1,1,1,1,1,1,1,1,1,1,1,1,1,1,1,1,1,1,1,1,1,1,1,1,1,1,1,1,1,1,1,1,1,1,1,1,1,1,1,1,1,1,1,1,1,1,1,1,1,1,1,1,1,1,1,1,1,1,1,1,1,1,1,1,1,1,1,1,1,1,1,1,1,1,1,1,1,1,1,1,1,1,1,1,1,1,1,1,1,1,1,1,1,1,1,1,1,1,1,1,1,1,1,1,1,1,1,1,1,1,1,1,1,1,1,1,1,1,1,1,1,1,1,1,1,1,1,1,1,1,1,1,1,1,1,1,1,1,1,1,1,1,1,1,1,1,1,1,1,1,1,1,1,1,1,1,1,1,1,1,1,1,1,1,1,1,1,1,1,1,1,1,1,1,1,1,1,1,1,1,1,1,1,1,1,1,1,1,1,1,1,1,1,1,1,1,1,1,1,1,1,1,1,1,1,1,1,1,1,1,1,1,1,1,1,1,1,1,1,1,1,1,1,1,1,1,1,1,1,1,1,1,1,1,1,1,1,1,1,1,1,1,1,1,1,1,1,1,1,1,1,1,1,1,1,1,1,1,1,1,1,1,1,1,1,1,1,1,1,1,1,1,1,1,1,1,1,1,1,1,1,1,1,1,1,1,1,1,1,1,1,1,1,1,1,1,1,1,1,1,1,1,1,1,1,1,1,1,1,1,1,1,1,1,1,1,1,1,1,1,1,1,1,1,1,1,1,1,1,1,1,1,1,1,1,1,1,1,1,1,1,1,1,1,1,1,1,1,1,1,1,1,1,1,1,1,1,1,1,1,1,1,1,1,1,1,1,1,1,1,1,1,1,1,1,1,1,1,1,1,1,1,1,1,1,1,1,1,1,1,1,1,1,1,1,1,1,1,1,1,1,1,1,1,1,1,1,1,1,1,1,1,1,1,1,1,1,1,1,1,1,1,1,1,1,1,1,1,1,1,1,1,1,1,1,1,1,1,1,1,1,1,1,1,1,1,1,1,1,1,1,1,1,1,1,1,1,1,1,1,1,1,1,1,1,1,1,1,1,1,1,1,1,1,1,1,1,1,1,1,1,1,1,1,1,1,1,1,1,1,1,1,1,1,1,1,1,1,1,1,1,1,1,1,1,1,1,1,1,1,1,1,1,1,1,1,1,1,1,1,1,1,1,1,1,1,1,1,1,1,1,1,1,1,1,1,1,1,1,1,1,1,1,1,1,1,1,1,1,1,1,1,1,1,1,1,1,1,1,1,1,1,1,1,1,1,1,1,1,1,1,1,1,1,1,1,1,1,1,1,1,1,1,1,1,1,1,1,1,1,1,1,1,1,1,1,1,1,1,1,1,1,1,1,1,1,1,1,1,1,1,1,1,1,1,1,1,1,1,1,1,1,1,1,1,1,1,1,1,1,1,1,1,1,1,1,1,1,1,1,1,1,1,1,1,1,1,1,1,1,1,1,1,1,1,1,1,1,1,1,1,1,1,1,1,1,1,1,1,1,1,1,1,1,1,1,1,1,1,1,1,1,1,1,1,1,1,1,1,1,1,1,1,1,1,1,1,1,1,1,1,1,1,1,1,1,1,1,1,1,1,1,1,1,1,1,1,1,1,1,1,1,1,1,1,1,1,1,1,1,1,1,1,1,1,1,1,1,1,1,1,1,1,1,1,1,1,1,1,1,1,1,1,1,1,1,1,1,1,1,1,1,1,1,1,1,1,1,1,1,1,1,1,1,1,1,1,1,1,1,1,1,1,1,1,1,1,1,1,1,1,1,1,1,1,1,1,1,1,1,1,1,1,1,1,1,1,1,1,1,1,1,1,1,1,1,1,1,1,1,1,1,1,1,1,1,1,1,1,1,1,1,1,1,1,1,1,1,1,1,1,1,1,1,1,1,1,1,1,1,1,1,1,1,1,1,1,1,1,1,1,1,1,1,1,1,1,1,1,1,1,1,1,1,1,1,1,1,1,1,1,1,1,1,1,1,1,1,1,1,1,1,1,1,1,1,1,1,1,1,1,1,1,1,1,1,1,1,1,1,1,1,1,1,1,1,1,1,1,1,1,1,1,1,1,1,1,1,1,1,1,1,1,1,1,1,1,1,1,1,1,1,1,1,1,1,1,1,1,1,1,1,1,1,1,1,1,1,1,1,1,1,1,1,1,1,1,1,1,1,1,1,1,1,1,1,1,1,1,1,1,1,1,1,1,1,1,1,1,1,1,1,1,1,1,1,1,1,1,1,1,1,1,1,1,1,1,1,1,1,1,1,1,1,1,1,1,1,1,1,1,1,1,1,1,1,1,1,1,1,1,1,1,1,1,1,1,1,1,1,1,1,1,1,1,1,1,1,1,1,1,1,1,1,1,1,1,1,1,1,1,1,1,1,1,1,1,1,1,1,1,1,1,1,1,1,1,1,1,1,1,1,1,1,1,1,1,1,1,1,1,1,1,1,1,1,1,1,1,1,1,1,1,1,1,1,1,1,1,1,1,1,1,1,1,1,1,1,1,1,1,1,1,1,1,1,1,1,1,1,1,1,1,1,1,1,1,1,1,1,1,1,1,1,1,1,1,1,1,1,1,1,1,1,1,1,1,1,1,1,1,1,1,1,1,1,1,1,1,1,1,1,1,1,1,1,1,1,1,1,1,1,1,1,1,1,1,1,1,1,1,1,1,1,1,1,1,1,1,1,1,1,1,1,1,1,1,1,1,1,1,1,1,1,1,1,1,1,1,1,1,1,1,1,1,1,1,1,1,1,1,1,1,1,1,1,1,1,1,1,1,1,1,1,1,1,1,1,1,1,1,1,1,1,1,1,1,1,1,1,1,1,1,1,1,1,1,1,1,1,1,1,1,1,1,1,1,1,1,1,1,1,1,1,1,1,1,1,1,1,1,1,1,1,1,1,1,1,1,1,1,1,1,1,1,1,1,1,1,1,1,1,1,1,1,1,1,1,1,1,1,1,1,1,1,1,1,1,1,1,1,1,1,1,1,1,1,1,1,1,1,1,1,1,1,1,1,1,1,1,1,1,1,1,1,1,1,1,1,1,1,1,1,1,1,1,1,1,1,1,1,1,1,1,1,1,1,1,1,1,1,1,1,1,1,1,1,1,1,1,1,1,1,1,1,1,1,1,1,1,1,1,1,1,1,1,1,1,1,1,1,1,1,1,1,1,1,1,1,1,1,1,1,1,1,1,1,1,1,1,1,1,1,1,1,1,1,1,1,1,1,1,1,1,1,1,1,1,1,1,1,1,1,1,1,1,1,1,1,1,1,1,1,1,1,1,1,1,1,1,1,1,1,1,1,1,1,1,1,1,1,1,1,1,1,1,1,1,1,1,1,1,1,1,1,1,1,1,1,1,1,1,1,1,1,1,1,1,1,1,1,1,1,1,1,1,1,1,1,1,1,1,1,1,1,1,1,1,1,1,1,1,1,1,1,1,1,1,1,1,1,1,1,1,1,1,1,1,1,1,1,1,1,1,1,1,1,1,1,1,1,1,1,1,1,1,1,1,1,1,1,1,1,1,1,1,1,1,1,1,1,1,1,1,1,1,1,1,1,1,1,1,1,1,1,1,1,1,1,1,1,1,1,1,1,1,1,1,1,1,1,1,1,1,1,1,1,1,1,1,1,1,1,1,1,1,1,1,1,1,1,1,1,1,1,1,1,1,1,1,1,1,1,1,1,1,1,1,1,1,1,1,1,1,1,1,1,1,1,1,1,1,1,1,1,1,1,1,1,1,1,1,1,1,1,1,1,1,1,1,1,1,1,1,1,1,1,1,1,1,1,1,1,1,1,1,1,1,1,1,1,1,1,1,1,1,1,1,1,1,1,1,1,1,1,1,1,1,1,1,1,1,1,1,1,1,1,1,1,1,1,1,1,1,1,1,1,1,1,1,1,1,1,1,1,1,1,1,1,1,1,1,1,1,1,1,1,1,1,1,1,1,1,1,1,1,1,1,1,1,1,1,1,1,1,1,1,1,1,1,1,1,1,1,1,1,1,1,1,1,1,1,1,1,1,1,1,1,1,1,1,1,1,1,1,1,1,1,1,1,1,1,1,1,1,1,1,1,1,1,1,1,1,1,1,1,1,1,1,1,1,1,1,1,1,1,1,1,1,1,1,1,1,1,1,1,1,1,1,1,1,1,1,1,1,1,1,1,1,1,1,1,1,1,1,1,1,1,1,1,1,1,1,1,1,1,1,1,1,1,1,1,1,1,1,1,1,1,1,1,1,1,1,1,1,1,1,1,1,1,1,1,1,1,1,1,1,1,1,1,1,1,1,1,1,1,1,1,1,1,1,1,1,1,1,1,1,1,1,1,1,1,1,1,1,1,1,1,1,1,1,1,1,1,1,1,1,1,1,1,1,1,1,1,1,1,1,1,1,1,1,1,1,1,1,1,1,1,1,1,1,1,1,1,1,1,1,1,1,1,1,1,1,1,1,1,1,1,1,1,1,1,1,1,1,1,1,1,1,1,1,1,1,1,1,1,1,1,1,1,1,1,1,1,1,1,1,1,1,1,1,1,1,1,1,1,1,1,1,1,1,1,1,1,1,1,1,1,1,1,1,1,1,1,1,1,1,1,1,1,1,1,1,1,1,1,1,1,1,1,1,1,1,1,1,1,1,1,1,1,1,1,1,1,1,1,1,1,1,1,1,1,1,1,1,1,1,1,1,1,1,1,1,1,1,1,1,1,1,1,1,1,1,1,1,1,1,1,1,1,1,1,1,1,1,1,1,1,1,1,1,1,1,1,1,1,1,1,1,1,1,1,1,1,1,1,1,1,1,1,1,1,1,1,1,1,1,1,1,1,1,1,1,1,1,1,1,1,1,1,1,1,1,1,1,1,1,1,1,1,1,1,1,1,1,1,1,1,1,1,1,1,1,1,1,1,1,1,1,1,1,1,1,1,1,1,1,1,1,1,1,1,1,1,1,1,1,1,1,1,1,1,1,1,1,1,1,1,1,1,1,1,1,1,1,1,1,1,1,1,1,1,1,1,1,1,1,1,1,1,1,1,1,1,1,1,1,1,1,1,1,1,1,1,1,1,1,1,1,1,1,1,1,1,1,1,1,1,1,1,1,1,1,1,1,1,1,1,1,1,1,1,1,1,1,1,1,1,1,1,1,1,1,1,1,1,1,1,1,1,1,1,1,1,1,1,1,1,1,1,1,1,1,1,1,1,1,1,1,1,1,1,1,1,1,1,1,1,1,1,1,1,1,1,1,1,1,1,1,1,1,1,1,1,1,1,1,1,1,1,1,1,1,1,1,1,1,1,1,1,1,1,1,1,1,1,1,1,1,1,1,1,1,1,1,1,1,1,1,1,1,1,1,1,1,1,1,1,1,1,1,1,1,1,1,1,1,1,1,1,1,1,1,1,1,1,1,1,1,1,1,1,1,1,1,1,1,1,1,1,1,1,1,1,1,1,1,1,1,1,1,1,1,1,1,1,1,1,1,1,1,1,1,1,1,1,1,1,1,1,1,1,1,1,1,1,1,1,1,1,1,1,1,1,1,1,1,1,1,1,1,1,1,1,1,1,1,1,1,1,1,1,1,1,1,1,1,1,1,1,1,1,1,1,1,1,1,1,1,1,1,1,1,1,1,1,1,1,1,1,1,1,1,1,1,1,1,1,1,1,1,1,1,1,1,1,1,1,1,1,1,1,1,1,1,1,1,1,1,1,1,1,1,1,1,1,1,1,1,1,1,1,1,1,1,1,1,1,1,1,1,1,1,1,1,1,1,1,1,1,1,1,1,1,1,1,1,1,1,1,1,1,1,1,1,1,1,1,1,1,1,1,1,1,1,1,1,1,1,1,1,1,1,1,1,1,1,1,1,1,1,1,1,1,1,1,1,1,1,1,1,1,1,1,1,1,1,1,1,1,1,1,1,1,1,1,1,1,1,1,1,1,1,1,1,1,1,1,1,1,1,1,1,1,1,1,1,1,1,1,1,1,1,1,1,1,1,1,1,1,1,1,1,1,1,1,1,1,1,1,1,1,1,1,1,1,1,1,1,1,1,1,1,1,1,1,1,1,1,1,1,1,1,1,1,1,1,1,1,1,1,1,1,1,1,1,1,1,1,1,1,1,1,1,1,1,1,1,1,1,1,1,1,1,1,1,1,1,1,1,1,1,1,1,1,1,1,1,1,1,1,1,1,1,1,1,1,1,1,1,1,1,1,1,1,1,1,1,1,1,1,1,1,1,1,1,1,1,1,1,1,1,1,1,1,1,1,1,1,1,1,1,1,1,1,1,1,1,1,1,1,1,1,1,1,1,1,1,1,1,1,1,1,1,1,1,1,1,1,1,1,1,1,1,1,1,1,1,1,1,1,1,1,1,1,1,1,1,1,1,1,1,1,1,1,1,1,1,1,1,1,1,1,1,1,1,1,1,1,1,1,1,1,1,1,1,1,1,1,1,1,1,1,1,1,1,1,1,1,1,1,1,1,1,1,1,1,1,1,1,1,1,1,1,1,1,1,1,1,1,1,1,1,1,1,1,1,1,1,1,1,1,1,1,1,1,1,1,1,1,1,1,1,1,1,1,1,1,1,1,1,1,1,1,1,1,1,1,1,1,1,1,1,1,1,1,1,1,1,1,1,1,1,1,1,1,1,1,1,1,1,1,1,1,1,1,1,1,1,1,1,1,1,1,1,1,1,1,1,1,1,1,1,1,1,1,1,1,1,1,1,1,1,1,1,1,1,1,1,1,1,1,1,1,1,1,1,1,1,1,1,1,1,1,1,1,1,1,1,1,1,1,1,1,1,1,1,1,1,1,1,1,1,1,1,1,1,1,1,1,1,1,1,1,1,1,1,1,1,1,1,1,1,1,1,1,1,1,1,1,1,1,1,1,1,1,1,1,1,1,1,1,1,1,1,1,1,1,1,1,1,1,1,1,1,1,1,1,1,1,1,1,1,1,1,1,1,1,1,1,1,1,1,1,1,1,1,1,1,1,1,1,1,1,1,1,1,1,1,1,1,1,1,1,1,1,1,1,1,1,1,1,1,1,1,1,1,1,1,1,1,1,1,1,1,1,1,1,1,1,1,1,1,1,1,1,1,1,1,1,1,1,1,1,1,1,1,1,1,1,1,1,1,1,1,1,1,1,1,1,1,1,1,1,1,1,1,1,1,1,1,1,1,1,1,1,1,1,1,1,1,1,1,1,1,1,1,1,1,1,1,1,1,1,1,1,1,1,1,1,1,1,1,1,1,1,1,1,1,1,1,1,1,1,1,1,1,1,1,1,1,1,1,1,1,1,1,1,1,1,1,1,1,1,1,1,1,1,1,1,1,1,1,1,1,1,1,1,1,1,1,1,1,1,1,1,1,1,1,1,1,1,1,1,1,1,1,1,1,1,1,1,1,1,1,1,1,1,1,1,1,1,1,1,1,1,1,1,1,1,1,1,1,1,1,1,1,1,1,1,1,1,1,1,1,1,1,1,1,1,1,1,1,1,1,1,1,1,1,1,1,1,1,1,1,1,1,1,1,1,1,1,1,1,1,1,1,1,1,1,1,1,1,1,1,1,1,1,1,1,1,1,1,1,1,1,1,1,1,1,1,1,1,1,1,1,1,1,1,1,1,1,1,1,1,1,1,1,1,1,1,1,1,1,1,1,1,1,1,1,1,1,1,1,1,1,1,1,1,1,1,1,1,1,1,1,1,1,1,1,1,1,1,1,1,1,1,1,1,1,1,1,1,1,1,1,1,1,1,1,1,1,1,1,1,1,1,1,1,1,1,1,1,1,1,1,1,1,1,1,1,1,1,1,1,1,1,1,1,1,1,1,1,1,1,1,1,1,1,1,1,1,1,1,1,1,1,1,1,1,1,1,1,1,1,1,1,1,1,1,1,1,1,1,1,1,1,1,1,1,1,1,1,1,1,1,1,1,1,1,1,1,1,1,1,1,1,1,1,1,1,1,1,1,1,1,1,1,1,1,1,1,1,1,1,1,1,1,1,1,1,1,1,1,1,1,1,1,1,1,1,1,1,1,1,1,1,1,1,1,1,1,1,1,1,1,1,1,1,1,1,1,1,1,1,1,1,1,1,1,1,1,1,1,1,1,1,1,1,1,1,1,1,1,1,1,1,1,1,1,1,1,1,1,1,1,1,1,1,1,1,1,1,1,1,1,1,1,1,1,1,1,1,1,1,1,1,1,1,1,1,1,1,1,1,1,1,1,1,1,1,1,1,1,1,1,1,1,1,1,1,1,1,1,1,1,1,1,1,1,1,1,1,1,1,1,1,1,1,1,1,1,1,1,1,1,1,1,1,1,1,1,1,1,1,1,1,1,1,1,1,1,1,1,1,1,1,1,1,1,1,1,1,1,1,1,1,1,1,1,1,1,1,1,1,1,1,1,1,1,1,1,1,1,1,1,1,1,1,1,1,1,1,1,1,1,1,1,1,1,1,1,1,1,1,1,1,1,1,1,1,1,1,1,1,1,1,1,1,1,1,1,1,1,1,1,1,1,1,1,1,1,1,1,1,1,1,1,1,1,1,1,1,1,1,1,1,1,1,1,1,1,1,1,1,1,1,1,1,1,1,1,1,1,1,1,1,1,1,1,1,1,1,1,1,1,1,1,1,1,1,1,1,1,1,1,1,1,1,1,1,1,1,1,1,1,1,1,1,1,1,1,1,1,1,1,1,1,1,1,1,1,1,1,1,1,1,1,1,1,1,1,1,1,1,1,1,1,1,1,1,1,1,1,1,1,1,1,1,1,1,1,1,1,1,1,1,1,1,1,1,1,1,1,1,1,1,1,1,1,1,1,1,1,1,1,1,1,1,1,1,1,1,1,1,1,1,1,1,1,1,1,1,1,1,1,1,1,1,1,1,1,1,1,1,1,1,1,1,1,1,1,1,1,1,1,1,1,1,1,1,1,1,1,1,1,1,1,1,1,1,1,1,1,1,1,1,1,1,1,1,1,1,1,1,1,1,1,1,1,1,1,1,1,1,1,1,1,1,1,1,1,1,1,1,1,1,1,1,1,1,1,1,1,1,1,1,1,1,1,1,1,1,1,1,1,1,1,1,1,1,1,1,1,1,1,1,1,1,1,1,1,1,1,1,1,1,1,1,1,1,1,1,1,1,1,1,1,1,1,1,1,1,1,1,1,1,1,1,1,1,1,1,1,1,1,1,1,1,1,1,1,1,1,1,1,1,1,1,1,1,1,1,1,1,1,1,1,1,1,1,1,1,1,1,1,1,1,1,1,1,1,1,1,1,1,1,1,1,1,1,1,1,1,1,1,1,1,1,1,1,1,1,1,1,1,1,1,1,1,1,1,1,1,1,1,1,1,1,1,1,1,1,1,1,1,1,1,1,1,1,1,1,1,1,1,1,1,1,1,1,1,1,1,1,1,1,1,1,1,1,1,1,1,1,1,1,1,1,1,1,1,1,1,1,1,1,1,1,1,1,1,1,1,1,1,1,1,1,1,1,1,1,1,1,1,1,1,1,1,1,1,1,1,1,1,1,1,1,1,1,1,1,1,1,1,1,1,1,1,1,1,1,1,1,1,1,1,1,1,1,1,1,1,1,1,1,1,1,1,1,1,1,1,1,1,1,1,1,1,1,1,1,1,1,1,1,1,1,1,1,1,1,1,1,1,1,1,1,1,1,1,1,1,1,1,1,1,1,1,1,1,1,1,1,1,1,1,1,1,1,1,1,1,1,1,1,1,1,1,1,1,1,1,1,1,1,1,1,1,1,1,1,1,1,1,1,1,1,1,1,1,1,1,1,1,1,1,1,1,1,1,1,1,1,1,1,1,1,1,1,1,1,1,1,1,1,1,1,1,1,1,1,1,1,1,1,1,1,1,1,1,1,1,1,1,1,1,1,1,1,1,1,1,1,1,1,1,1,1,1,1,1,1,1,1,1,1,1,1,1,1,1,1,1,1,1,1,1,1,1,1,1,1,1,1,1,1,1,1,1,1,1,1,1,1,1,1,1,1,1,1,1,1,1,1,1,1,1,1,1,1,1,1,1,1,1,1,1,1,1,1,1,1,1,1,1,1,1,1,1,1,1,1,1,1,1,1,1,1,1,1,1,1,1,1,1,1,1,1,1,1,1,1,1,1,1,1,1,1,1,1,1,1,1,1,1,1,1,1,1,1,1,1,1,1,1,1,1,1,1,1,1,1,1,1,1,1,1,1,1,1,1,1,1,1,1,1,1,1,1,1,1,1,1,1,1,1,1,1,1,1,1,1,1,1,1,1,1,1,1,1,1,1,1,1,1,1,1,1,1,1,1,1,1,1,1,1,1,1,1,1,1,1,1,1,1,1,1,1,1,1,1,1,1,1,1,1,1,1,1,1,1,1,1,1,1,1,1,1,1,1,1,1,1,1,1,1,1,1,1,1,1,1,1,1,1,1,1,1,1,1,1,1,1,1,1,1,1,1,1,1,1,1,1,1,1,1,1,1,1,1,1,1,1,1,1,1,1,1,1,1,1,1,1,1,1,1,1,1,1,1,1,1,1,1,1,1,1,1,1,1,1,1,1,1,1,1,1,1,1,1,1,1,1,1,1,1,1,1,1,1,1,1,1,1,1,1,1,1,1,1,1,1,1,1,1,1,1,1,1,1,1,1,1,1,1,1,1,1,1,1,1,1,1,1,1,1,1,1,1,1,1,1,1,1,1,1,1,1,1,1,1,1,1,1,1,1,1,1,1,1,1,1,1,1,1,1,1,1,1,1,1,1,1,1,1,1,1,1,1,1,1,1,1,1,1,1,1,1,1,1,1,1,1,1,1,1,1,1,1,1,1,1,1,1,1,1,1,1,1,1,1,1,1,1,1,1,1,1,1,1,1,1,1,1,1,1,1,1,1,1,1,1,1,1,1,1,1,1,1,1,1,1,1,1,1,1,1,1,1,1,1,1,1,1,1,1,1,1,1,1,1,1,1,1,1,1,1,1,1,1,1,1,1,1,1,1,1,1,1,1,1,1,1,1,1,1,1,1,1,1,1,1,1,1,1,1,1,1,1,1,1,1,1,1,1,1,1,1,1,1,1,1,1,1,1,1,1,1,1,1,1,1,1,1,1,1,1,1,1,1,1,1,1,1,1,1,1,1,1,1,1,1,1,1,1,1,1,1,1,1,1,1,1,1,1,1,1,1,1,1,1,1,1,1,1,1,1,1,1,1,1,1,1,1,1,1,1,1,1,1,1,1,1,1,1,1,1,1,1,1,1,1,1,1,1,1,1,1,1,1,1,1,1,1,1,1,1,1,1,1,1,1,1,1,1,1,1,1,1,1,1,1,1,1,1,1,1,1,1,1,1,1,1,1,1,1,1,1,1,1,1,1,1,1,1,1,1,1,1,1,1,1,1,1,1,1,1,1,1,1,1,1,1,1,1,1,1,1,1,1,1,1,1,1,1,1,1,1,1,1,1,1,1,1,1,1,1,1,1,1,1,1,1,1,1,1,1,1,1,1,1,1,1,1,1,1,1,1,1,1,1,1,1,1,1,1,1,1,1,1,1,1,1,1,1,1,1,1,1,1,1,1,1,1,1,1,1,1,1,1,1,1,1,1,1,1,1,1,1,1,1,1,1,1,1,1,1,1,1,1,1,1,1,1,1,1,1,1,1,1,1,1,1,1,1,1,1,1,1,1,1,1,1,1,1,1,1,1,1,1,1,1,1,1,1,1,1,1,1,1,1,1,1,1,1,1,1,1,1,1,1,1,1,1,1,1,1,1,1,1,1,1,1,1,1,1,1,1,1,1,1,1,1,1,1,1,1,1,1,1,1,1,1,1,1,1,1,1,1,1,1,1,1,1,1,1,1,1,1,1,1,1,1,1,1,1,1,1,1,1,1,1,1,1,1,1,1,1,1,1,1,1,1,1,1,1,1,1,1,1,1,1,1,1,1,1,1,1,1,1,1,1,1,1,1,1,1,1,1,1,1,1,1,1,1,1,1,1,1,1,1,1,1,1,1,1,1,1,1,1,1,1,1,1,1,1,1,1,1,1,1,1,1,1,1,1,1,1,1,1,1,1,1,1,1,1,1,1,1,1,1,1,1,1,1,1,1,1,1,1,1,1,1,1,1,1,1,1,1,1,1,1,1,1,1,1,1,1,1,1,1,1,1,1,1,1,1,1,1,1,1,1,1,1,1,1,1,1,1,1,1,1,1,1,1,1,1,1,1,1,1,1,1,1,1,1,1,1,1,1,1,1,1,1,1,1,1,1,1,1,1,1,1,1,1,1,1,1,1,1,1,1,1,1,1,1,1,1,1,1,1,1,1,1,1,1,1,1,1,1,1,1,1,1,1,1,1,1,1,1,1,1,1,1,1,1,1,1,1,1,1,1,1,1,1,1,1,1,1,1,1,1,1,1,1,1,1,1,1,1,1,1,1,1,1,1,1,1,1,1,1,1,1,1,1,1,1,1,1,1,1,1,1,1,1,1,1,1,1,1,1,1,1,1,1,1,1,1,1,1,1,1,1,1,1,1,1,1,1,1,1,1,1,1,1,1,1,1,1,1,1,1,1,1,1,1,1,1,1,1,1,1,1,1,1,1,1,1,1,1,1,1,1,1,1,1,1,1,1,1,1,1,1,1,1,1,1,1,1,1,1,1,1,1,1,1,1,1,1,1,1,1,1,1,1,1,1,1,1,1,1,1,1,1,1,1,1,1,1,1,1,1,1,1,1,1,1,1,1,1,1,1,1,1,1,1,1,1,1,1,1,1,1,1,1,1,1,1,1,1,1,1,1,1,1,1,1,1,1,1,1,1,1,1,1,1,1,1,1,1,1,1,1,1,1,1,1,1,1,1,1,1,1,1,1,1,1,1,1,1,1,1,1,1,1,1,1,1,1,1,1,1,1,1,1,1,1,1,1,1,1,1,1,1,1,1,1,1,1,1,1,1,1,1,1,1,1,1,1,1,1,1,1,1,1,1,1,1,1,1,1,1,1,1,1,1,1,1,1,1,1,1,1,1,1,1,1,1,1,1,1,1,1,1,1,1,1,1,1,1,1,1,1,1,1,1,1,1,1,1,1,1,1,1,1,1,1,1,1,1,1,1,1,1,1,1,1,1,1,1,1,1,1,1,1,1,1,1,1,1,1,1,1,1,1,1,1,1,1,1,1,1,1,1,1,1,1,1,1,1,1,1,1,1,1,1,1,1,1,1,1,1,1,1,1,1,1,1,1,1,1,1,1,1,1,1,1,1,1,1,1,1,1,1,1,1,1,1,1,1,1,1,1,1,1,1,1,1,1,1,1,1,1,1,1,1,1,1,1,1,1,1,1,1,1,1,1,1,1,1,1,1,1,1,1,1,1,1,1,1,1,1,1,1,1,1,1,1,1,1,1,1,1,1,1,1,1,1,1,1,1,1,1,1,1,1,1,1,1,1,1,1,1,1,1,1,1,1,1,1,1,1,1,1,1,1,1,1,1,1,1,1,1,1,1,1,1,1,1,1,1,1,1,1,1,1,1,1,1,1,1,1,1,1,1,1,1,1,1,1,1,1,1,1,1,1,1,1,1,1,1,1,1,1,1,1,1,1,1,1,1,1,1,1,1,1,1,1,1,1,1,1,1,1,1,1,1,1,1,1,1,1,1,1,1,1,1,1,1,1,1,1,1,1,1,1,1,1,1,1,1,1,1,1,1,1,1,1,1,1,1,1,1,1,1,1,1,1,1,1,1,1,1,1,1,1,1,1,1,1,1,1,1,1,1,1,1,1,1,1,1,1,1,1,1,1,1,1,1,1,1,1,1,1,1,1,1,1,1,1,1,1,1,1,1,1,1,1,1,1,1,1,1,1,1,1,1,1,1,1,1,1,1,1,1,1,1,1,1,1,1,1,1,1,1,1,1,1,1,1,1,1,1,1,1,1,1,1,1,1,1,1,1,1,1,1,1,1,1,1,1,1,1,1,1,1,1,1,1,1,1,1,1,1,1,1,1,1,1,1,1,1,1,1,1,1,1,1,1,1,1,1,1,1,1,1,1,1,1,1,1,1,1,1,1,1,1,1,1,1,1,1,1,1,1,1,1,1,1,1,1,1,1,1,1,1,1,1,1,1,1,1,1,1,1,1,1,1,1,1,1,1,1,1,1,1,1,1,1,1,1,1,1,1,1,1,1,1,1,1,1,1,1,1,1,1,1,1,1,1,1,1,1,1,1,1,1,1,1,1,1,1,1,1,1,1,1,1,1,1,1,1,1,1,1,1,1,1,1,1,1,1,1,1,1,1,1,1,1,1,1,1,1,1,1,1,1,1,1,1,1,1,1,1,1,1,1,1,1,1,1,1,1,1,1,1,1,1,1,1,1,1,1,1,1,1,1,1,1,1,1,1,1,1,1,1,1,1,1,1,1,1,1,1,1,1,1,1,1,1,1,1,1,1,1,1,1,1,1,1,1,1,1,1,1,1,1,1,1,1,1,1,1,1,1,1,1,1,1,1,1,1,1,1,1,1,1,1,1,1,1,1,1,1,1,1,1,1,1,1,1,1,1,1,1,1,1,1,1,1,1,1,1,1,1,1,1,1,1,1,1,1,1,1,1,1,1,1,1,1,1,1,1,1,1,1,1,1,1,1,1,1,1,1,1,1,1,1,1,1,1,1,1,1,1,1,1,1,1,1,1,1,1,1,1,1,1,1,1,1,1,1,1,1,1,1,1,1,1,1,1,1,1,1,1,1,1,1,1,1,1,1,1,1,1,1,1,1,1,1,1,1,1,1,1,1,1,1,1,1,1,1,1,1,1,1,1,1,1,1,1,1,1,1,1,1,1,1,1,1,1,1,1,1,1,1,1,1,1,1,1,1,1,1,1,1,1,1,1,1,1,1,1,1,1,1,1,1,1,1,1,1,1,1,1,1,1,1,1,1,1,1,1,1,1,1,1,1,1,1,1,1,1,1,1,1,1,1,1,1,1,1,1,1,1,1,1,1,1,1,1,1,1,1,1,1,1,1,1,1,1,1,1,1,1,1,1,1,1,1,1,1,1,1,1,1,1,1,1,1,1,1,1,1,1,1,1,1,1,1,1,1,1,1,1,1,1,1,1,1,1,1,1,1,1,1,1,1,1,1,1,1,1,1,1,1,1,1,1,1,1,1,1,1,1,1,1,1,1,1,1,1,1,1,1,1,1,1,1,1,1,1,1,1,1,1,1,1,1,1,1,1,1,1,1,1,1,1,1,1,1,1,1,1,1,1,1,1,1,1,1,1,1,1,1,1,1,1,1,1,1,1,1,1,1,1,1,1,1,1,1,1,1,1,1,1,1,1,1,1,1,1,1,1,1,1,1,1,1,1,1,1,1,1,1,1,1,1,1,1,1,1,1,1,1,1,1,1,1,1,1,1,1,1,1,1,1,1,1,1,1,1,1,1,1,1,1,1,1,1,1,1,1,1,1,1,1,1,1,1,1,1,1,1,1,1,1,1,1,1,1,1,1,1,1,1,1,1,1,1,1,1,1,1,1,1,1,1,1,1,1,1,1,1,1,1,1,1,1,1,1,1,1,1,1,1,1,1,1,1,1,1,1,1,1,1,1,1,1,1,1,1,1,1,1,1,1,1,1,1,1,1,1,1,1,1,1,1,1,1,1,1,1,1,1,1,1,1,1,1,1,1,1,1,1,1,1,1,1,1,1,1,1,1,1,1,1,1,1,1,1,1,1,1,1,1,1,1,1,1,1,1,1,1,1,1,1,1,1,1,1,1,1,1,1,1,1,1,1,1,1,1,1,1,1,1,1,1,1,1,1,1,1,1,1,1,1,1,1,1,1,1,1,1,1,1,1,1,1,1,1,1,1,1,1,1,1,1,1,1,1,1,1,1,1,1,1,1,1,1,1,1,1,1,1,1,1,1,1,1,1,1,1,1,1,1,1,1,1,1,1,1,1,1,1,1,1,1,1,1,1,1,1,1,1,1,1,1,1,1,1,1,1,1,1,1,1,1,1,1,1,1,1,1,1,1,1,1,1,1,1,1,1,1,1,1,1,1,1,1,1,1,1,1,1,1,1,1,1,1,1,1,1,1,1,1,1,1,1,1,1,1,1,1,1,1,1,1,1,1,1,1,1,1,1,1,1,1,1,1,1,1,1,1,1,1,1,1,1,1,1,1,1,1,1,1,1,1,1,1,1,1,1,1,1,1,1,1,1,1,1,1,1,1,1,1,1,1,1,1,1,1,1,1,1,1,1,1,1,1,1,1,1,1,1,1,1,1,1,1,1,1,1,1,1,1,1,1,1,1,1,1,1,1,1,1,1,1,1,1,1,1,1,1,1,1,1,1,1,1,1,1,1,1,1,1,1,1,1,1,1,1,1,1,1,1,1,1,1,1,1,1,1,1,1,1,1,1,1,1,1,1,1,1,1,1,1,1,1,1,1,1,1,1,1,1,1,1,1,1,1,1,1,1,1,1,1,1,1,1,1,1,1,1,1,1,1,1,1,1,1,1,1,1,1,1,1,1,1,1,1,1,1,1,1,1,1,1,1,1,1,1,1,1,1,1,1,1,1,1,1,1,1,1,1,1,1,1,1,1,1,1,1,1,1,1,1,1,1,1,1,1,1,1,1,1,1,1,1,1,1,1,1,1,1,1,1,1,1,1,1,1,1,1,1,1,1,1,1,1,1,1,1,1,1,1,1,1,1,1,1,1,1,1,1,1,1,1,1,1,1,1,1,1,1,1,1,1,1,1,1,1,1,1,1,1,1,1,1,1,1,1,1,1,1,1,1,1,1,1,1,1,1,1,1,1,1,1,1,1,1,1,1,1,1,1,1,1,1,1,1,1,1,1,1,1,1,1,1,1,1,1,1,1,1,1,1,1,1,1,1,1,1,1,1,1,1,1,1,1,1,1,1,1,1,1,1,1,1,1,1,1,1,1,1,1,1,1,1,1,1,1,1,1,1,1,1,1,1,1,1,1,1,1,1,1,1,1,1,1,1,1,1,1,1,1,1,1,1,1,1,1,1,1,1,1,1,1,1,1,1,1,1,1,1,1,1,1,1,1,1,1,1,1,1,1,1,1,1,1,1,1,1,1,1,1,1,1,1,1,1,1,1,1,1,1,1,1,1,1,1,1,1,1,1,1,1,1,1,1,1,1,1,1,1,1,1,1,1,1,1,1,1,1,1,1,1,1,1,1,1,1,1,1,1,1,1,1,1,1,1,1,1,1,1,1,1,1,1,1,1,1,1,1,1,1,1,1,1,1,1,1,1,1,1,1,1,1,1,1,1,1,1,1,1,1,1,1,1,1,1,1,1,1,1,1,1,1,1,1,1,1,1,1,1,1,1,1,1,1,1,1,1,1,1,1,1,1,1,1,1,1,1,1,1,1,1,1,1,1,1,1,1,1,1,1,1,1,1,1,1,1,1,1,1,1,1,1,1,1,1,1,1,1,1,1,1,1,1,1,1,1,1,1,1,1,1,1,1,1,1,1,1,1,1,1,1,1,1,1,1,1,1,1,1,1,1,1,1,1,1,1,1,1,1,1,1,1,1,1,1,1,1,1,1,1,1,1,1,1,1,1,1,1,1,1,1,1,1,1,1,1,1,1,1,1,1,1,1,1,1,1,1,1,1,1,1,1,1,1,1,1,1,1,1,1,1,1,1,1,1,1,1,1,1,1,1,1,1,1,1,1,1,1,1,1,1,1,1,1,1,1,1,1,1,1,1,1,1,1,1,1,1,1,1,1,1,1,1,1,1,1,1,1,1,1,1,1,1,1,1,1,1,1,1,1,1,1,1,1,1,1,1,1,1,1,1,1,1,1,1,1,1,1,1,1,1,1,1,1,1,1,1,1,1,1,1,1,1,1,1,1,1,1,1,1,1,1,1,1,1,1,1,1,1,1,1,1,1,1,1,1,1,1,1,1,1,1,1,1,1,1,1,1,1,1,1,1,1,1,1,1,1,1,1,1,1,1,1,1,1,1,1,1,1,1,1,1,1,1,1,1,1,1,1,1,1,1,1,1,1,1,1,1,1,1,1,1,1,1,1,1,1,1,1,1,1,1,1,1,1,1,1,1,1,1,1,1,1,1,1,1,1,1,1,1,1,1,1,1,1,1,1,1,1,1,1,1,1,1,1,1,1,1,1,1,1,1,1,1,1,1,1,1,1,1,1,1,1,1,1,1,1,1,1,1,1,1,1,1,1,1,1,1,1,1,1,1,1,1,1,1,1,1,1,1,1,1,1,1,1,1,1,1,1,1,1,1,1,1,1,1,1,1,1,1,1,1,1,1,1,1,1,1,1,1,1,1,1,1,1,1,1,1,1,1,1,1,1,1,1,1,1,1,1,1,1,1,1,1,1,1,1,1,1,1,1,1,1,1,1,1,1,1,1,1,1,1,1,1,1,1,1,1,1,1,1,1,1,1,1,1,1,1,1,1,1,1,1,1,1,1,1,1,1,1,1,1,1,1,1,1,1,1,1,1,1,1,1,1,1,1,1,1,1,1,1,1,1,1,1,1,1,1,1,1,1,1,1,1,1,1,1,1,1,1,1,1,1,1,1,1,1,1,1,1,1,1,1,1,1,1,1,1,1,1,1,1,1,1,1,1,1,1,1,1,1,1,1,1,1,1,1,1,1,1,1,1,1,1,1,1,1,1,1,1,1,1,1,1,1,1,1,1,1,1,1,1,1,1,1,1,1,1,1,1,1,1,1,1,1,1,1,1,1,1,1,1,1,1,1,1,1,1,1,1,1,1,1,1,1,1,1,1,1,1,1,1,1,1,1,1,1,1,1,1,1,1,1,1,1,1,1,1,1,1,1,1,1,1,1,1,1,1,1,1,1,1,1,1,1,1,1,1,1,1,1,1,1,1,1,1,1,1,1,1,1,1,1,1,1,1,1,1,1,1,1,1,1,1,1,1,1,1,1,1,1,1,1,1,1,1,1,1,1,1,1,1,1,1,1,1,1,1,1,1,1,1,1,1,1,1,1,1,1,1,1,1,1,1,1,1,1,1,1,1,1,1,1,1,1,1,1,1,1,1,1,1,1,1,1,1,1,1,1,1,1,1,1,1,1,1,1,1,1,1,1,1,1,1,1,1,1,1,1,1,1,1,1,1,1,1,1,1,1,1,1,1,1,1,1,1,1,1,1,1,1,1,1,1,1,1,1,1,1,1,1,1,1,1,1,1,1,1,1,1,1,1,1,1,1,1,1,1,1,1,1,1,1,1,1,1,1,1,1,1,1,1,1,1,1,1,1,1,1,1,1,1,1,1,1,1,1,1,1,1,1,1,1,1,1,1,1,1,1,1,1,1,1,1,1,1,1,1,1,1,1,1,1,1,1,1,1,1,1,1,1,1,1,1,1,1,1,1,1,1,1,1,1,1,1,1,1,1,1,1,1,1,1,1,1,1,1,1,1,1,1,1,1,1,1,1,1,1,1,1,1,1,1,1,1,1,1,1,1,1,1,1,1,1,1,1,1,1,1,1,1,1,1,1,1,1,1,1,1,1,1,1,1,1,1,1,1,1,1,1,1,1,1,1,1,1,1,1,1,1,1,1,1,1,1,1,1,1,1,1,1,1,1,1,1,1,1,1,1,1,1,1,1,1,1,1,1,1,1,1,1,1,1,1,1,1,1,1,1,1,1,1,1,1,1,1,1,1,1,1,1,1,1,1,1,1,1,1,1,1,1,1,1,1,1,1,1,1,1,1,1,1,1,1,1,1,1,1,1,1,1,1,1,1,1,1,1,1,1,1,1,1,1,1,1,1,1,1,1,1,1,1,1,1,1,1,1,1,1,1,1,1,1,1,1,1,1,1,1,1,1,1,1,1,1,1,1,1,1,1,1,1,1,1,1,1,1,1,1,1,1,1,1,1,1,1,1,1,1,1,1,1,1,1,1,1,1,1,1,1,1,1,1,1,1,1,1,1,1,1,1,1,1,1,1,1,1,1,1,1,1,1,1,1,1,1,1,1,1,1,1,1,1,1,1,1,1,1,1,1,1,1,1,1,1,1,1,1,1,1,1,1,1,1,1,1,1,1,1,1,1,1,1,1,1,1,1,1,1,1,1,1,1,1,1,1,1,1,1,1,1,1,1,1,1,1,1,1,1,1,1,1,1,1,1,1,1,1,1,1,1,1,1,1,1,1,1,1,1,1,1,1,1,1,1,1,1,1,1,1,1,1,1,1,1,1,1,1,1,1,1,1,1,1,1,1,1,1,1,1,1,1,1,1,1,1,1,1,1,1,1,1,1,1,1,1,1,1,1,1,1,1,1,1,1,1,1,1,1,1,1,1,1,1,1,1,1,1,1,1,1,1,1,1,1,1,1,1,1,1,1,1,1,1,1,1,1,1,1,1,1,1,1,1,1,1,1,1,1,1,1,1,1,1,1,1,1,1,1,1,1,1,1,1,1,1,1,1,1,1,1,1,1,1,1,1,1,1,1,1,1,1,1,1,1,1,1,1,1,1,1,1,1,1,1,1,1,1,1,1,1,1,1,1,1,1,1,1,1,1,1,1,1,1,1,1,1,1,1,1,1,1,1,1,1,1,1,1,1,1,1,1,1,1,1,1,1,1,1,1,1,1,1,1,1,1,1,1,1,1,1,1,1,1,1,1,1,1,1,1,1,1,1,1,1,1,1,1,1,1,1,1,1,1,1,1,1,1,1,1,1,1,1,1,1,1,1,1,1,1,1,1,1,1,1,1,1,1,1,1,1,1,1,1,1,1,1,1,1,1,1,1,1,1,1,1,1,1,1,1,1,1,1,1,1,1,1,1,1,1,1,1,1,1,1,1,1,1,1,1,1,1,1,1,1,1,1,1,1,1,1,1,1,1,1,1,1,1,1,1,1,1,1,1,1,1,1,1,1,1,1,1,1,1,1,1,1,1,1,1,1,1,1,1,1,1,1,1,1,1,1,1,1,1,1,1,1,1,1,1,1,1,1,1,1,1,1,1,1,1,1,1,1,1,1,1,1,1,1,1,1,1,1,1,1,1,1,1,1,1,1,1,1,1,1,1,1,1,1,1,1,1,1,1,1,1,1,1,1,1,1,1,1,1,1,1,1,1,1,1,1,1,1,1,1,1,1,1,1,1,1,1,1,1,1,1,1,1,1,1,1,1,1,1,1,1,1,1,1,1,1,1,1,1,1,1,1,1,1,1,1,1,1,1,1,1,1,1,1,1,1,1,1,1,1,1,1,1,1,1,1,1,1,1,1,1,1,1,1,1,1,1,1,1,1,1,1,1,1,1,1,1,1,1,1,1,1,1,1,1,1,1,1,1,1,1,1,1,1,1,1,1,1,1,1,1,1,1,1,1,1,1,1,1,1,1,1,1,1,1,1,1,1,1,1,1,1,1,1,1,1,1,1,1,1,1,1,1,1,1,1,1,1,1,1,1,1,1,1,1,1,1,1,1,1,1,1,1,1,1,1,1,1,1,1,1,1,1,1,1,1,1,1,1,1,1,1,1,1,1,1,1,1,1,1,1,1,1,1,1,1,1,1,1,1,1,1,1,1,1,1,1,1,1,1,1,1,1,1,1,1,1,1,1,1,1,1,1,1,1,1,1,1,1,1,1,1,1,1,1,1,1,1,1,1,1,1,1,1,1,1,1,1,1,1,1,1,1,1,1,1,1,1,1,1,1,1,1,1,1,1,1,1,1,1,1,1,1,1,1,1,1,1,1,1,1,1,1,1,1,1,1,1,1,1,1,1,1,1,1,1,1,1,1,1,1,1,1,1,1,1,1,1,1,1,1,1,1,1,1,1,1,1,1,1,1,1,1,1,1,1,1,1,1,1,1,1,1,1,1,1,1,1,1,1,1,1,1,1,1,1,1,1,1,1,1,1,1,1,1,1,1,1,1,1,1,1,1,1,1,1,1,1,1,1,1,1,1,1,1,1,1,1,1,1,1,1,1,1,1,1,1,1,1,1,1,1,1,1,1,1,1,1,1,1,1,1,1,1,1,1,1,1,1,1,1,1,1,1,1,1,1,1,1,1,1,1,1,1,1,1,1,1,1,1,1,1,1,1,1,1,1,1,1,1,1,1,1,1,1,1,1,1,1,1,1,1,1,1,1,1,1,1,1,1,1,1,1,1,1,1,1,1,1,1,1,1,1,1,1,1,1,1,1,1,1,1,1,1,1,1,1,1,1,1,1,1,1,1,1,1,1,1,1,1,1,1,1,1,1,1,1,1,1,1,1,1,1,1,1,1,1,1,1,1,1,1,1,1,1,1,1,1,1,1,1,1,1,1,1,1,1,1,1,1,1,1,1,1,1,1,1,1,1,1,1,1,1,1,1,1,1,1,1,1,1,1,1,1,1,1,1,1,1,1,1,1,1,1,1,1,1,1,1,1,1,1,1,1,1,1,1,1,1,1,1,1,1,1,1,1,1,1,1,1,1,1,1,1,1,1,1,1,1,1,1,1,1,1,1,1,1,1,1,1,1,1,1,1,1,1,1,1,1,1,1,1,1,1,1,1,1,1,1,1,1,1,1,1,1,1,1,1,1,1,1,1,1,1,1,1,1,1,1,1,1,1,1,1,1,1,1,1,1,1,1,1,1,1,1,1,1,1,1,1,1,1,1,1,1,1,1,1,1,1,1,1,1,1,1,1,1,1,1,1,1,1,1,1,1,1,1,1,1,1,1,1,1,1,1,1,1,1,1,1,1,1,1,1,1,1,1,1,1,1,1,1,1,1,1,1,1,1,1,1,1,1,1,1,1,1,1,1,1,1,1,1,1,1,1,1,1,1,1,1,1,1,1,1,1,1,1,1,1,1,1,1,1,1,1,1,1,1,1,1,1,1,1,1,1,1,1,1,1,1,1,1,1,1,1,1,1,1,1,1,1,1,1,1,1,1,1,1,1,1,1,1,1,1,1,1,1,1,1,1,1,1,1,1,1,1,1,1,1,1,1,1,1,1,1,1,1,1,1,1,1,1,1,1,1,1,1,1,1,1,1,1,1,1,1,1,1,1,1,1,1,1,1,1,1,1,1,1,1,1,1,1,1,1,1,1,1,1,1,1,1,1,1,1,1,1,1,1,1,1,1,1,1,1,1,1,1,1,1,1,1,1,1,1,1,1,1,1,1,1,1,1,1,1,1,1,1,1,1,1,1,1,1,1,1,1,1,1,1,1,1,1,1,1,1,1,1,1,1,1,1,1,1,1,1,1,1,1,1,1,1,1,1,1,1,1,1,1,1,1,1,1,1,1,1,1,1,1,1,1,1,1,1,1,1,1,1,1,1,1,1,1,1,1,1,1,1,1,1,1,1,1,1,1,1,1,1,1,1,1,1,1,1,1,1,1,1,1,1,1,1,1,1,1,1,1,1,1,1,1,1,1,1,1,1,1,1,1,1,1,1,1,1,1,1,1,1,1,1,1,1,1,1,1,1,1,1,1,1,1,1,1,1,1,1,1,1,1,1,1,1,1,1,1,1,1,1,1,1,1,1,1,1,1,1,1,1,1,1,1,1,1,1,1,1,1,0,0,0,0,0,0,0,0,0,0,0,0,0,0,0,0,0,0,0,0,0,0,0,0,0,0,0,0,0,0,0,0,0,0,0,0,0,0,0,0,0,0,0,0,0,0,0,0,0,0,0,0,0,0,0,0,0,0,0,0,0,0,0,0,0,0,0,0,0,0,0,0,0,0,0,0,0,0,0,0,0,0,0,0,0,0,0,0,0,0,0,0,0,0,0,0,0,0,0,0,0,0,0,0,0,0,0,0,0,0,0,0,0,0,0,0,0,0,0,0,0,0,0,0,0,0,0,0,0,0,0,0,0,0,0,0,0,0,0,0,0,0,0,0,0,0,0,0,0,0,0,0,0,0,0,0,0,0,0,0,0,0,0,0,0,0,0,0,0,0,0,0,0,0,0,0,0,0,0,0,0,0,0,0,0,0,0,0,0,0,0,0,0,0,0,0,0,0,0,0,0,0,0,0,0,0,0,0,0,0,0,0,0,0,0,0,0,0,0,0,0,0,0,0,0,0,0,0,0,0,0,0,0,0,0,0,0,0,0,0,0,0,0,0,0,0,0,0,0,0,0,0,0,0,0,0,0,0,0,0,0,0,0,0,0,0,0,0,0,0,0,0,0,0,0,0,0,0,0,0,0,0,0,0,0,0,0,0,0,0,0,0,0,0,0,0,0,0,0,0,0,0,0,0,0,0,0,0,0,0,0,0,0,0,0,0,0,0,0,0,0,0,0,0,0,0,0,0,0,0,0,0,0,0,0,0,0,0,0,0,0,0,0,0,0,0,0,0,0,0,0,0,0,0,0,0,0,0,0,0,0,0,0,0,0,0,0,0,0,0,0,0,0,0,0,0,0,0,0,0,0,0,0,0,0,0,0,0,0,0,0,0,0,0,0,0,0,0,0,0,0,0,0,0,0,0,0,0,0,0,0,0,0,0,0,0,0,0,0,0,0,0,0,0,0,0,0,0,0,0,0,0,0,0,0,0,0,0,0,0,0,0,0,0,0,0,0,0,0,0,0,0,0,0,0,0,0,0,0,0,0,0,0,0,0,0,0,0,0,0,0,0,0,0,0,0,0,0,0,0,0,0,0,0,0,0,0,0,0,0,0,0,0,0,0,0,0,0,0,0,0,0,0,0,0,0,0,0,0,0,0,0,0,0,0,0,0,0,0,0,0,0,0,0,0,0,0,0,0,0,0,0,0,0,0,0,0,0,0,0,0,0,0,0,0,0,0,0,0,0,0,0,0,0,0,0,0,0,0,0,0,0,0,0,0,0,0,0,0,0,0,0,0,0,0,0,0,0,0,0,0,0,0,0,0,0,0,0,0,0,0,0,0,0,0,0,0,0,0,0,0,0,0,0,0,0,0,0,0,0,0,0,0,0,0,0,0,0,0,0,0,0,0,0,0,0,0,0,0,0,0,0,0,0,0,0,0,0,0,0,0,0,0,0,0,0,0,0,0,0,0,0,0,0,0,0,0,0,0,0,0,0,0,0,0,0,0,0,0,0,0,0,0,0,0,0,0,0,0,0,0,0,0,0,0,0,0,0,0,0,0,0,0,0,0,0,0,0,0,0,0,0,0,0,0,0,0,0,0,0,0,0,0,0,0,0,0,0,0,0,0,0,0,0,0,0,0,0,0,0,0,0,0,0,0,0,0,0,0,0,0,0,0,0,0,0,0,0,0,0,0,0,0,0,0,0,0,0,0,0,0,0,0,0,0,0,0,0,0,0,0,0,0,0,0,0,0,0,0,0,0,0,0,0,0,0,0,0,0,0,0,0,0,0,0,0,0,0,0,0,0,0,0,0,0,0,0,0,0,0,0,0,0,0,0,0,0,0,0,0,0,0,0,0,0,0,0,0,0,0,0,0,0,0,0,0,0,0,0,0,0,0,0,0,0,0,0,0,0,0,0,0,0,0,0,0,0,0,0,0,0,0,0,0,0,0,0,0,0,0,0,0,0,0,0,0,0,0,0,0,0,0,0,0,0,0,0,0,0,0,0,0,0,0,0,0,0,0,0,0,0,0,0,0,0,0,0,0,0,0,0,0,0,0,0,0,0,0,0,0,0,0,0,0,0,0,0,0,0,0,0,0,0,0,0,0,0,0,0,0,0,0,0,0,0,0,0,0,0,0,0,0,0,0,0,0,0,0,0,0,0,0,0,0,0,0,0,0,0,0,0,0,0,0,0,0,0,0,0,0,0,0,0,0,0,0,0,0,0,0,0,0,0,0,0,0,0,0,0,0,0,0,0,0,0,0,0,0,0,0,0,0,0,0,0,0,0,0,0,0,0,0,0,0,0,0,0,0,0,0,0,0,0,0,0,0,0,0,0,0,0,0,0,0,0,0,0,0,0,0,0,0,0,0,0,0,0,0,0,0,0,0,0,0,0,0,0,0,0,0,0,0,0,0,0,0,0,0,0,0,0,0,0,0,0,0,0,0,0,0,0,0,0,0,0,0,0,0,0,0,0,0,0,0,0,0,0,0,0,0,0,0,0,0,0,0,0,0,0,0,0,0,0,0,0,0,0,0,0,0,0,0,0,0,0,0,0,0,0,0,0,0,0,0,0,0,0,0,0,0,0,0,0,0,0,0,0,0,0,0,0,0,0,0,0,0,0,0,0,0,0,0,0,0,0,0,0,0,0,0,0,0,0,0,0,0,0,0,0,0,0,0,0,0,0,0,0,0,0,0,0,0,0,0,0,0,0,0,0,0,0,0,0,0,0,0,0,0,0,0,0,0,0,0,0,0,0,0,0,0,0,0,0,0,0,0,0,0,0,0,0,0,0,0,0,0,0,0,0,0,0,0,0,0,0,0,0,0,0,0,0,0,0,0,0,0,0,0,0,0,0,0,0,0,0,0,0,0,0,0,0,0,0,0,0,0,0,0,0,0,0,0,0,0,0,0,0,0,0,0,0,0,0,0,0,0,0,0,0,0,0,0,0,0,0,0,0,0,0,0,0,0,0,0,0,0,0,0,0,0,0,0,0,0,0,0,0,0,0,0,0,0,0,0,0,0,0,0,0,0,0,0,0,0,0,0,0,0,0,0,0,0,0,0,0,0,0,0,0,0,0,0,0,0,0,0,0,0,0,0,0,0,0,0,0,0,0,0,0,0,0,0,0,0,0,0,0,0,0,0,0,0,0,0,0,0,0,0,0,0,0,0,0,0,0,0,0,0,0,0,0,0,0,0,0,0,0,0,0,0,0,0,0,0,0,0,0,0,0,0,0,0,0,0,0,0,0,0,0,0,0,0,0,0,0,0,0,0,0,0,0,0,0,0,0,0,0,0,0,0,0,0,0,0,0,0,0,0,0,0,0,0,0,0,0,0,0,0,0,0,0,0,0,0,0,0,0,0,0,0,0,0,0,0,0,0,0,0,0,0,0,0,0,0,0,0,0,0,0,0,0,0,0,0,0,0,0,0,0,0,0,0,0,0,0,0,0,0,0,0,0,0,0,0,0,0,0,0,0,0,0,0,0,0,0,0,0,0,0,0,0,0,0,0,0,0,0,0,0,0,0,0,0,0,0,0,0,0,0,0,0,0,0,0,0,0,0,0,0,0,0,0,0,0,0,0,0,0,0,0,0,0,0,0,0,0,0,0,0,0,0,0,0,0,0,0,0,0,0,0,0,0,0,0,0,0,0,0,0,0,0,0,0,0,0,0,0,0,0,0,0,0,0,0,0,0,0,0,0,0,0,0,0,0,0,0,0,0,0,0,0,0,0,0,0,0,0,0,0,0,0,0,0,0,0,0,0,0,0,0,0,0,0,0,0,0,0,0,0,0,0,0,0,0,0,0,0,0,0,0,0,0,0,0,0,0,0,0,0,0,0,0,0,0,0,0,0,0,0,0,0,0,0,0,0,0,0,0,0,0,0,0,0,0,0,0,0,0,0,0,0,0,0,0,0,0,0,0,0,0,0,0,0,0,0,0,0,0,0,0,0,0,0,0,0,0,0,0,0,0,0,0,0,0,0,0,0,0,0,0,0,0,0,0,0,0,0,0,0,0,0,0,0,0,0,0,0,0,0,0,0,0,0,0,0,0,0,0,0,0,0,0,0,0,0,0,0,0,0,0,0,0,0,0,0,0,0,0,0,0,0,0,0,0,0,0,0,0,0,0,0,0,0,0,0,0,0,0,0,0,0,0,0,0,0,0,0,0,0,0,0,0,0,0,0,0,0,0,0,0,0,0,0,0,0,0,0,0,0,0,0,0,0,0,0,0,0,0,0,0,0,0,0,0,0,0,0,0,0,0,0,0,0,0,0,0,0,0,0,0,0,0,0,0,0,0,0,0,0,0,0,0,0,0,0,0,0,0,0,0,0,0,0,0,0,0,0,0,0,0,0,0,0,0,0,0,0,0,0,0,0,0,0,0,0,0,0,0,0,0,0,0,0,0,0,0,0,0,0,0,0,0,0,0,0,0,0,0,0,0,0,0,0,0,0,0,0,0,0,0,0,0,0,0,0,0,0,0,0,0,0,0,0,0,0,0,0,0,0,0,0,0,0,0,0,0,0,0,0,0,0,0,0,0,0,0,0,0,0,0,0,0,0,0,0,0,0,0,0,0,0,0,0,0,0,0,0,0,0,0,0,0,0,0,0,0,0,0,0,0,0,0,0,0,0,0,0,0,0,0,0,0,0,0,0,0,0,0,0,0,0,0,0,0,0,0,0,0,0,0,0,0,0,0,0,0,0,0,0,0,0,0,0,0,0,0,0,0,0,0,0,0,0,0,0,0,0,0,0,0,0,0,0,0,0,0,0,0,0,0,0,0,0,0,0,0,0,0,0,0,0,0,0,0,0,0,0,0,0,0,0,0,0,0,0,0,0,0,0,0,0,0,0,0,0,0,0,0,0,0,0,0,0,0,0,0,0,0,0,0,0,0,0,0,0,0,0,0,0,0,0,0,0,0,0,0,0,0,0,0,0,0,0,0,0,0,0,0,0,0,0,0,0,0,0,0,0,0,0,0,0,0,0,0,0,0,0,0,0,0,0,0,0,0,0,0,0,0,0,0,0,0,0,0,0,0,0,0,0,0,0,0,0,0,0,0,0,0,0,0,0,0,0,0,0,0,0,0,0,0,0,0,0,0,0,0,0,0,0,0,0,0,0,0,0,0,0,0,0,0,0,0,0,0,0,0,0,0,0,0,0,0,0,0,0,0,0,0,0,0,0,0,0,0,0,0,0,0,0,0,0,0,0,0,0,0,0,0,0,0,0,0,0,0,0,0,0,0,0,0,0,0,0,0,0,0,0,0,0,0,0,0,0,0,0,0,0,0,0,0,0,0,0,0,0,0,0,0,0,0,0,0,0,0,0,0,0,0,0,0,0,0,0,0,0,0,0,0,0,0,0,0,0,0,0,0,0,0,0,0,0,0,0,0,0,0,0,0,0,0,0,0,0,0,0,0,0,0,0,0,0,0,0,0,0,0,0,0,0,0,0,0,0,0,0,0,0,0,0,0,0,0,0,0,0,0,0,0,0,0,0,0,0,0,0,0,0,0,0,0,0,0,0,0,0,0,0,0,0,0,0,0,0,0,0,0,0,0,0,0,0,0,0,0,0,0,0,0,0,0,0,0,0,0,0,0,0,0,0,0,0,0,0,0,0,0,0,0,0,0,0,0,0,0,0,0,0,0,0,0,0,0,0,0,0,0,0,0,0,0,0,0,0,0,0,0,0,0,0,0,0,0,0,0,0,0,0,0,0,0,0,0,0,0,0,0,0,0,0,0,0,0,0,0,0,0,0,0,0,0,0,0,0,0,0,0,0,0,0,0,0,0,0,0,0,0,0,0,0,0,0,0,0,0,0,0,0,0,0,0,0,0,0,0,0,0,0,0,0,0,0,0,0,0,0,0,0,0,0,0,0,0,0,0,0,0,0,0,0,0,0,0,0,0,0,0,0,0,0,0,0,0,0,0,0,0,0,0,0,0,0,0,0,0,0,0,0,0,0,0,0,0,0,0,0,0,0,0,0,0,0,0,0,0,0,0,0,0,0,0,0,0,0,0,0,0,0,0,0,0,0,0,0,0,0,0,0,0,0,0,0,0,0,0,0,0,0,0,0,0,0,0,0,0,0,0,0,0,0,0,0,0,0,0,0,0,0,0,0,0,0,0,0,0,0,0,0,0,0,0,0,0,0,0,0,0,0,0,0,0,0,0,0,0,0,0,0,0,0,0,0,0,0,0,0,0,0,0,0,0,0,0,0,0,0,0,0,0,0,0,0,0,0,0,0,0,0,0,0,0,0,0,0,0,0,0,0,0,0,0,0,0,0,0,0,0,0,0,0,0,0,0,0,0,0,0,0,0,0,0,0,0,0,0,0,0,0,0,0,0,0,0,0,0,0,0,0,0,0,0,0,0,0,0,0,0,0,0,0,0,0,0,0,0,0,0,0,0,0,0,0,0,0,0,0,0,0,0,0,0,0,0,0,0,0,0,0,0,0,0,0,0,0,0,0,0,0,0,0,0,0,0,0,0,0,0,0,0,0,0,0,0,0,0,0,0,0,0,0,0,0,0,0,0,0,0,0,0,0,0,0,0,0,0,0,0,0,0,0,0,0,0,0,0,0,0,0,0,0,0,0,0,0,0,0,0,0,0,0,0,0,0,0,0,0,0,0,0,0,0,0,0,0,0,0,0,0,0,0,0,0,0,0,0,0,0,0,0,0,0,0,0,0,0,0,0,0,0,0,0,0,0,0,0,0,0,0,0,0,0,0,0,0,0,0,0,0,0,0,0,0,0,0,0,0,0,0,0,0,0,0,0,0,0,0,0,0,0,0,0,0,0,0,0,0,0,0,0,0,0,0,0,0,0,0,0,0,0,0,0,0,0,0,0,0,0,0,0,0,0,0,0,0,0,0,0,0,0,0,0,0,0,0,0,0,0,0,0,0,0,0,0,0,0,0,0,0,0,0,0,0,0,0,0,0,0,0,0,0,0,0,0,0,0,0,0,0,0,0,0,0,0,0,0,0,0,0,0,0,0,0,0,0,0,0,0,0,0,0,0,0,0,0,0,0,0,0,0,0,0,0,0,0,0,0,0,0,0,0,0,0,0,0,0,0,0,0,0,0,0,0,0,0,0,0,0,0,0,0,0,0,0,0,0,0,0,0,0,0,0,0,0,0,0,0,0,0,0,0,0,0,0,0,0,0,0,0,0,0,0,0,0,0,0,0,0,0,0,0,0,0,0,0,0,0,0,0,0,0,0,0,0,0,0,0,0,0,0,0,0,0,0,0,0,0,0,0,0,0,0,0,0,0,0,0,0,0,0,0,0,0,0,0,0,0,0,0,0,0,0,0,0,0,0,0,0,0,0,0,0,0,0,0,0,0,0,0,0,0,0,0,0,0,0,0,0,0,0,0,0,0,0,0,0,0,0,0,0,0,0,0,0,0,0,0,0,0,0,0,0,0,0,0,0,0,0,0,0,0,0,0,0,0,0,0,0,0,0,0,0,0,0,0,0,0,0,0,0,0,0,0,0,0,0,0,0,0,0,0,0,0,0,0,0,0,0,0,0,0,0,0,0,0,0,0,0,0,0,0,0,0,0,0,0,0,0,0,0,0,0,0,0,0,0,0,0,0,0,0,0,0,0,0,0,0,0,0,0,0,0,0,0,0,0,0,0,0,0,0,0,0,0,0,0,0,0,0,0,0,0,0,0,0,0,0,0,0,0,0,0,0,0,0,0,0,0,0,0,0,0,0,0,0,0,0,0,0,0,0,0,0,0,0,0,0,0,0,0,0,0,0,0,0,0,0,0,0,0,0,0,0,0,0,0,0,0,0,0,0,0,0,0,0,0,0,0,0,0,0,0,0,0,0,0,0,0,0,0,0,0,0,0,0,0,0,0,0,0,0,0,0,0,0,0,0,0,0,0,0,0,0,0,0,0,0,0,0,0,0,0,0,0,0,0,0,0,0,0,0,0,0,0,0,0,0,0,0,0,0,0,0,0,0,0,0,0,0,0,0,0,0,0,0,0,0,0,0,0,0,0,0,0,0,0,0,0,0,0,0,0,0,0,0,0,0,0,0,0,0,0,0,0,0,0,0,0,0,0,0,0,0,0,0,0,0,0,0,0,0,0,0,0,0,0,0,0,0,0,0,0,0,0,0,0,0,0,0,0,0,0,0,0,0,0,0,0,0,0,0,0,0,0,0,0,0,0,0,0,0,0,0,0,0,0,0,0,0,0,0,0,0,0,0,0,0,0,0,0,0,0,0,0,0,0,0,0,0,0,0,0,0,0,0,0,0,0,0,0,0,0,0,0,0,0,0,0,0,0,0,0,0,0,0,0,0,0,0,0,0,0,0,0,0,0,0,0,0,0,0,0,0,0,0,0,0,0,0,0,0,0,0,0,0,0,0,0,0,0,0,0,0,0,0,0,0,0,0,0,0,0,0,0,0,0,0,0,0,0,0,0,0,0,0,0,0,0,0,0,0,0,0,0,0,0,0,0,0,0,0,0,0,0,0,0,0,0,0,0,0,0,0,0,0,0,0,0,0,0,0,0,0,0,0,0,0,0,0,0,0,0,0,0,0,0,0,0,0,0,0,0,0,0,0,0,0,0,0,0,0,0,0,0,0,0,0,0,0,0,0,0,0,0,0,0,0,0,0,0,0,0,0,0,0,0,0,0,0,0,0,0,0,0,0,0,0,0,0,0,0,0,0,0,0,0,0,0,0,0,0,0,0,0,0,0,0,0,0,0,0,0,0,0,0,0,0,0,0,0,0,0,0,0,0,0,0,0,0,0,0,0,0,0,0,0,0,0,0,0,0,0,0,0,0,0,0,0,0,0,0,0,0,0,0,0,0,0,0,0,0,0,0,0,0,0,0,0,0,0,0,0,0,0,0,0,0,0,0,0,0,0,0,0,0,0,0,0,0,0,0,0,0,0,0,0,0,0,0,0,0,0,0,0,0,0,0,0,0,0,0,0,0,0,0,0,0,0,0,0,0,0,0,0,0,0,0,0,0,0,0,0,0,0,0,0,0,0,0,0,0,0,0,0,0,0,0,0,0,0,0,0,0,0,0,0,0,0,0,0,0,0,0,0,0,0,0,0,0,0,0,0,0,0,0,0,0,0,0,0,0,0,0,0,0,0,0,0,0,0,0,0,0,0,0,0,0,0,0,0,0,0,0,0,0,0,0,0,0,0,0,0,0,0,0,0,0,0,0,0,0,0,0,0,0,0,0,0,0,0,0,0,0,0,0,0,0,0,0,0,0,0,0,0,0,0,0,0,0,0,0,0,0,0,0,0,0,0,0,0,0,0,0,0,0,0,0,0,0,0,0,0,0,0,0,0,0,0,0,0,0,0,0,0,0,0,0,0,0,0,0,0,0,0,0,0,0,0,0,0,0,0,0,0,0,0,0,0,0,0,0,0,0,0,0,0,0,0,0,0,0,0,0,0,0,0,0,0,0,0,0,0,0,0,0,0,0,0,0,0,0,0,0,0,0,0,0,0,0,0,0,0,0,0,0,0,0,0,0,0,0,0,0,0,0,0,0,0,0,0,0,0,0,0,0,0,0,0,0,0,0,0,0,0,0,0,0,0,0,0,0,0,0,0,0,0,0,0,0,0,0,0,0,0,0,0,0,0,0,0,0,0,0,0,0,0,0,0,0,0,0,0,0,0,0,0,0,0,0,0,0,0,0,0,0,0,0,0,0,0,0,0,0,0,0,0,0,0,0,0,0,0,0,0,0,0,0,0,0,0,0,0,0,0,0,0,0,0,0,0,0,0,0,0,0,0,0,0,0,0,0,0,0,0,0,0,0,0,0,0,0,0,0,0,0,0,0,0,0,0,0,0,0,0,0,0,0,0,0,0,0,0,0,0,0,0,0,0,0,0,0,0,0,0,0,0,0,0,0,0,0,0,0,0,0,0,0,0,0,0,0,0,0,0,0,0,0,0,0,0,0,0,0,0,0,0,0,0,0,0,0,0,0,0,0,0,0,0,0,0,0,0,0,0,0,0,0,0,0,0,0,0,0,0,0,0,0,0,0,0,0,0,0,0,0,0,0,0,0,0,0,0,0,0,0,0,0,0,0,0,0,0,0,0,0,0,0,0,0,0,0,0,0,0,0,0,0,0,0,0,0,0,0,0,0,0,0,0,0,0,0,0,0,0,0,0,0,0,0,0,0,0,0,0,0,0,0,0,0,0,0,0,0,0,0,0,0,0,0,0,0,0,0,0,0,0,0,0,0,0,0,0,0,0,0,0,0,0,0,0,0,0,0,0,0,0,0,0,0,0,0,0,0,0,0,0,0,0,0,0,0,0,0,0,0,0,0,0,0,0,0,0,0,0,0,0,0,0,0,0,0,0,0,0,0,0,0,0,0,0,0,0,0,0,0,0,0,0,0,0,0,0,0,0,0,0,0,0,0,0,0,0,0,0,0,0,0,0,0,0,0,0,0,0,0,0,0,0,0,0,0,0,0,0,0,0,0,0,0,0,0,0,0,0,0,0,0,0,0,0,0,0,0,0,0,0,0,0,0,0,0,0,0,0,0,0,0,0,0,0,0,0,0,0,0,0,0,0,0,0,0,0,0,0,0,0,0,0,0,0,0,0,0,0,0,0,0,0,0,0,0,0,0,0,0,0,0,0,0,0,0,0,0,0,0,0,0,0,0,0,0,0,0,0,0,0,0,0,0,0,0,0,0,0,0,0,0,0,0,0,0,0,0,0,0,0,0,0,0,0,0,0,0,0,0,0,0,0,0,0,0,0,0,0,0,0,0,0,0,0,0,0,0,0,0,0,0,0,0,0,0,0,0,0,0,0,0,0,0,0,0,0,0,0,0,0,0,0,0,0,0,0,0,0,0,0,0,0,0,0,0,0,0,0,0,0,0,0,0,0,0,0,0,0,0,0,0,0,0,0,0,0,0,0,0,0,0,0,0,0,0,0,0,0,0,0,0,0,0,0,0,0,0,0,0,0,0,0,0,0,0,0,0,0,0,0,0,0,0,0,0,0,0,0,0,0,0,0,0,0,0,0,0,0,0,0,0,0,0,0,0,0,0,0,0,0,0,0,0,0,0,0,0,0,0,0,0,0,0,0,0,0,0,0,0,0,0,0,0,0,0,0,0,0,0,0,0,0,0,0,0,0,0,0,0,0,0,0,0,0,0,0,0,0,0,0,0,0,0,0,0,0,0,0,0,0,0,0,0,0,0,0,0,0,0,0,0,0,0,0,0,0,0,0,0,0,0,0,0,0,0,0,0,0],\"coloraxis\":\"coloraxis\",\"symbol\":\"circle\"},\"mode\":\"markers\",\"name\":\"\",\"scene\":\"scene\",\"showlegend\":false,\"x\":[0,0,0,14,2,22,9,22,18,4,0,0,8,1,2,0,18,1,14,0,2,1,0,1,1,0,2,22,0,2,13,9,11,18,0,6,1,0,15,3,10,12,1,0,0,1,4,15,11,1,5,16,8,9,9,8,24,24,4,0,0,12,0,4,0,1,0,17,9,0,1,4,2,10,14,12,6,0,22,14,24,9,22,0,7,6,0,0,1,12,12,0,11,22,3,13,21,8,5,0,1,0,0,0,4,0,19,24,0,22,14,11,0,12,8,12,0,0,14,24,9,6,3,22,12,0,24,0,4,0,0,8,16,25,1,1,12,2,6,9,12,1,22,0,2,2,2,10,0,0,14,4,4,5,0,1,0,23,2,5,5,7,13,1,7,1,0,8,9,25,12,26,0,6,1,0,11,4,12,1,1,0,1,6,1,4,10,0,3,0,6,12,11,1,14,1,8,10,5,4,0,9,0,22,0,0,2,0,1,11,0,1,14,0,19,4,9,24,8,9,0,3,1,0,11,14,0,10,1,4,18,0,8,11,2,5,0,22,5,5,9,4,12,12,1,0,1,0,0,1,0,0,24,0,8,1,24,11,0,0,14,0,15,22,12,0,0,0,0,0,24,5,0,0,0,20,12,11,0,7,2,19,10,26,4,24,0,5,1,18,4,1,12,0,12,0,0,4,0,4,1,0,22,0,0,0,2,0,0,12,11,1,2,6,0,0,0,9,0,0,3,12,1,6,22,0,1,2,7,4,4,22,0,9,6,8,1,0,0,0,1,10,4,4,19,4,0,0,12,4,4,9,0,1,0,12,11,0,0,11,3,0,1,19,1,7,4,0,21,4,8,2,10,0,15,0,3,0,3,0,3,12,8,0,0,4,4,4,0,1,0,8,0,0,9,0,0,2,2,7,6,17,3,14,1,0,0,11,12,11,1,10,6,4,0,8,1,2,11,14,22,0,3,2,0,0,0,2,11,6,14,1,8,0,0,0,12,12,0,0,1,4,22,1,14,13,2,0,4,1,0,5,11,4,0,8,0,4,5,0,12,10,2,0,0,12,11,1,4,10,0,4,0,1,0,0,0,4,12,0,16,8,6,0,31,2,0,22,4,4,0,12,0,0,27,0,0,2,10,28,1,0,13,1,0,18,8,0,12,0,0,4,22,9,0,18,0,2,0,1,10,0,9,4,12,0,14,0,1,22,12,10,0,0,1,0,12,0,0,1,0,8,23,1,17,0,9,8,5,5,12,1,24,9,12,4,5,6,0,0,4,19,8,19,2,0,1,0,4,22,2,10,0,2,16,0,7,1,7,0,0,0,12,0,12,2,0,1,0,0,0,11,6,2,6,8,3,14,12,17,12,1,1,8,4,12,2,2,0,2,24,0,15,17,0,0,11,0,0,0,2,4,0,6,4,8,0,0,18,6,0,4,1,0,2,22,0,0,1,0,1,0,4,5,3,12,2,0,1,0,2,6,0,9,9,0,0,24,0,0,3,4,6,1,19,16,5,2,0,1,13,4,4,12,2,7,2,21,1,0,7,27,3,1,5,1,14,5,8,0,14,0,0,2,12,4,12,0,16,8,0,0,12,2,14,9,0,31,24,4,8,1,4,11,0,25,27,0,1,0,0,4,0,0,6,0,1,2,1,2,22,0,0,8,28,0,23,1,11,0,27,0,0,12,0,2,0,22,0,8,7,11,1,11,12,22,0,5,0,0,2,4,0,1,1,11,8,19,4,7,9,11,12,0,0,19,0,19,0,1,0,19,8,22,5,14,13,1,1,0,14,6,0,2,0,0,1,0,0,0,0,0,0,11,0,2,4,1,12,9,3,0,3,7,22,3,0,2,12,14,0,0,8,12,6,22,8,11,0,0,1,0,12,0,0,0,10,11,1,0,8,2,12,4,0,0,2,0,0,0,0,12,0,0,12,4,0,0,9,22,29,5,12,0,1,4,0,0,11,11,22,24,1,4,0,19,2,3,2,0,9,6,0,11,14,12,23,0,13,5,7,9,0,4,14,5,0,19,12,0,0,0,2,2,2,10,14,11,13,0,11,12,4,0,2,0,5,5,9,1,2,24,2,2,6,24,0,1,8,1,2,0,0,0,4,25,0,0,2,7,9,0,0,0,19,19,0,0,9,1,2,0,0,9,11,0,1,4,12,1,1,6,0,0,6,1,1,2,1,22,1,24,11,4,25,0,0,2,14,12,0,2,8,0,4,1,1,9,0,0,22,22,4,10,0,3,2,0,0,11,0,10,7,1,0,12,6,0,0,0,0,12,1,0,0,4,0,0,2,28,0,0,7,2,1,4,22,0,0,0,9,26,2,14,0,0,9,4,1,24,21,0,6,9,1,22,6,0,14,6,14,6,12,14,23,1,13,1,0,10,0,22,19,22,2,31,0,0,3,0,12,4,0,0,22,24,0,0,22,9,31,8,9,0,0,0,0,22,0,9,1,4,0,0,14,0,4,9,0,4,0,2,8,10,1,3,0,0,6,19,1,0,0,0,0,22,19,11,6,13,0,0,1,14,0,0,1,5,0,14,0,7,0,12,0,0,0,1,0,2,12,22,2,13,12,1,0,22,0,0,0,0,0,0,0,31,0,5,2,5,4,0,22,22,1,4,0,2,11,6,9,1,24,0,0,1,5,0,0,0,0,11,2,11,0,11,9,0,0,4,0,0,6,0,8,0,6,2,0,2,0,0,0,12,2,8,22,0,3,8,2,1,20,1,14,3,0,11,1,1,11,0,0,0,4,0,4,9,2,32,3,0,2,0,0,1,4,1,24,12,4,9,2,0,1,14,4,6,16,8,7,0,22,1,5,9,24,0,0,10,0,10,0,8,6,0,15,14,0,2,4,1,0,0,0,0,0,0,0,22,2,24,14,0,22,0,8,0,0,0,12,0,0,14,1,3,0,4,22,0,1,23,2,12,0,0,2,15,11,5,11,7,10,8,0,19,4,19,10,1,0,0,5,9,0,3,1,4,2,0,19,9,0,4,0,0,0,2,4,11,9,12,22,14,0,1,9,0,8,8,22,0,0,0,7,0,0,11,16,6,0,0,0,6,11,19,4,4,24,2,22,11,14,1,4,0,22,0,0,1,9,0,0,0,12,14,0,4,0,1,21,0,7,2,12,1,2,0,0,0,0,0,0,6,6,0,19,12,14,7,22,8,0,0,1,0,1,4,0,10,0,0,3,17,8,4,0,1,6,4,10,5,0,2,11,9,6,12,0,0,6,0,14,0,4,0,0,0,4,4,6,7,11,2,14,6,0,0,1,0,16,7,0,2,10,7,3,4,0,0,1,0,23,14,0,9,2,0,1,12,0,1,22,11,6,9,5,4,0,6,19,0,11,0,0,14,0,0,0,0,0,8,0,1,1,4,1,1,22,14,22,22,0,12,0,22,22,4,12,11,1,0,2,5,0,1,8,22,8,22,9,0,4,21,1,6,12,22,0,22,1,11,15,1,15,0,2,0,19,2,11,0,7,8,4,8,4,4,0,22,14,8,0,18,0,4,8,0,5,0,4,1,0,0,12,4,0,0,1,2,1,8,12,19,10,0,14,24,27,2,12,8,4,14,12,12,0,2,28,0,1,0,0,1,4,4,12,0,22,0,11,0,0,0,3,19,1,14,12,0,0,6,5,1,0,0,6,0,1,6,0,24,2,0,22,0,0,0,7,26,5,6,8,0,22,13,8,6,0,2,0,8,0,11,1,0,0,21,6,12,9,0,4,1,24,2,1,1,4,12,4,0,3,14,0,0,1,6,13,11,0,0,26,16,16,0,4,10,4,1,0,32,0,3,0,9,0,11,17,0,0,11,9,12,4,4,12,11,0,4,21,3,0,4,7,0,12,2,1,2,11,14,0,0,1,0,19,4,11,5,0,11,0,4,8,1,19,0,0,4,9,0,1,6,0,0,2,14,6,1,1,0,2,0,9,5,0,19,2,0,12,5,0,11,5,4,1,0,12,9,0,0,2,4,14,8,19,0,0,12,4,8,3,4,19,22,12,0,1,0,15,0,8,0,11,11,2,2,0,1,0,12,0,2,0,11,0,0,0,0,0,0,0,1,22,4,4,4,0,12,0,0,8,4,8,0,1,31,22,2,6,18,0,0,1,8,13,0,22,0,0,0,22,0,12,1,2,22,1,0,0,6,0,0,2,3,19,9,0,2,0,15,4,0,0,5,8,4,10,14,2,14,0,0,16,0,9,22,0,15,2,8,2,2,0,24,0,5,4,4,0,3,16,2,0,7,4,2,0,7,8,9,0,11,9,10,12,18,1,11,0,8,0,9,12,27,0,8,1,0,0,0,0,12,8,7,0,0,0,4,8,12,12,22,14,4,0,4,1,2,0,5,6,4,28,0,7,6,1,24,0,22,4,1,11,0,1,0,5,2,1,4,4,4,1,10,12,14,1,0,29,24,4,22,4,24,22,21,4,5,1,0,4,0,9,0,0,4,3,1,1,1,12,5,0,0,12,3,0,5,12,8,4,5,4,0,7,0,1,0,0,12,0,0,4,12,0,0,18,4,6,28,0,2,4,1,16,0,0,2,24,0,4,12,0,2,0,0,11,4,12,9,0,1,0,25,4,14,0,2,10,0,9,0,14,0,11,9,0,1,5,7,0,0,0,1,0,2,1,0,15,1,3,0,0,4,2,4,1,14,0,20,0,0,0,6,19,0,6,14,4,19,7,4,0,4,8,0,23,3,0,0,9,0,19,0,21,9,20,0,3,0,0,0,4,2,0,1,2,3,1,22,12,0,14,22,2,10,22,14,1,24,2,5,1,24,11,19,19,8,0,0,29,0,0,0,2,0,23,4,2,5,11,0,12,17,0,29,1,1,6,0,12,1,11,0,0,11,0,8,0,0,0,11,0,11,4,0,3,11,2,0,12,2,1,0,0,0,12,12,5,14,0,14,0,7,12,0,0,31,9,0,0,2,1,12,0,0,11,0,9,0,0,0,1,4,0,1,0,0,0,12,5,0,4,12,0,1,0,0,1,0,0,0,12,14,0,1,10,0,0,2,6,11,10,8,14,0,2,22,4,2,0,12,11,8,0,2,4,7,0,0,0,12,22,5,0,2,12,5,0,9,14,9,1,0,8,14,22,3,19,1,8,8,14,8,4,0,2,11,2,5,22,0,5,2,1,0,24,0,12,0,3,12,1,5,1,14,1,0,22,8,4,14,14,0,0,4,10,8,6,12,12,4,0,11,8,9,0,4,14,0,3,1,0,11,19,22,4,4,22,19,0,0,14,9,4,0,0,7,0,22,0,0,9,0,0,16,4,17,7,1,0,0,14,11,0,11,0,0,1,1,4,0,0,2,8,0,5,0,2,2,0,9,1,4,24,0,0,0,24,0,4,2,0,12,1,10,9,1,12,0,0,0,4,0,0,2,9,0,2,22,0,9,0,1,0,0,4,0,21,0,11,4,14,4,25,6,7,8,4,4,0,7,0,4,8,0,0,11,0,8,0,0,11,0,0,3,0,0,6,10,24,14,1,0,8,2,5,0,0,7,0,0,7,22,0,0,9,22,7,12,0,0,0,0,9,0,0,4,14,1,2,0,2,0,4,14,11,1,8,1,4,0,12,1,24,0,4,0,1,5,9,0,0,12,0,0,7,0,15,1,0,0,0,0,19,2,0,0,0,0,1,4,1,0,1,9,15,16,22,2,0,0,11,7,11,0,14,2,0,9,0,0,19,4,0,6,1,0,14,0,19,0,1,2,12,2,0,7,8,1,0,22,0,0,1,8,0,1,8,0,0,0,2,0,0,11,7,24,15,1,0,9,5,4,2,0,22,9,15,13,0,0,0,0,0,0,4,8,8,6,19,0,5,0,12,0,4,0,14,1,0,11,0,10,7,0,0,2,14,0,0,6,0,22,0,1,11,6,0,6,13,0,0,0,12,0,0,6,1,1,7,0,1,0,5,2,0,0,14,8,14,1,0,12,4,2,26,0,11,4,22,0,6,0,14,9,11,0,14,1,14,2,5,24,0,0,0,1,1,13,0,0,0,5,4,0,0,0,2,0,0,1,9,1,0,0,14,0,7,0,6,2,5,5,2,6,0,6,5,3,0,1,0,2,0,23,3,0,0,1,1,4,13,19,1,0,0,22,0,0,3,0,11,0,19,11,0,2,14,0,0,10,0,0,0,14,14,0,25,11,0,19,22,0,4,7,6,0,22,24,2,5,2,0,8,8,12,0,11,1,22,5,0,0,0,2,0,0,6,4,0,4,8,0,12,14,0,0,0,2,2,0,6,14,1,0,0,0,14,0,14,14,0,2,0,8,10,13,0,0,2,9,9,0,15,0,2,22,0,0,10,0,8,9,2,1,12,0,31,0,9,0,12,14,12,9,19,4,0,9,0,8,26,0,0,0,22,1,0,0,0,0,11,2,4,22,9,12,0,0,3,11,0,13,11,9,11,5,0,14,0,20,6,7,5,9,4,22,0,4,0,2,1,0,6,1,0,4,14,1,30,14,0,0,22,0,0,0,22,0,0,0,1,0,10,14,1,0,24,8,7,1,22,22,0,1,0,24,2,0,9,0,8,10,19,0,4,2,1,0,0,14,0,13,22,10,12,7,14,1,22,0,0,0,12,8,0,12,2,14,19,1,2,22,19,22,0,8,2,13,0,0,3,0,30,1,2,5,0,4,12,7,18,1,0,0,8,1,0,1,0,0,8,0,8,1,11,0,6,0,0,1,4,24,15,0,0,11,13,2,22,3,29,0,0,0,0,8,4,3,0,2,1,0,20,4,4,2,0,32,0,14,14,2,8,15,8,0,0,22,0,7,5,22,14,0,14,8,4,2,0,0,22,6,4,22,0,8,11,12,0,0,2,0,24,0,1,0,8,0,22,2,0,0,0,0,0,0,1,7,4,0,0,14,8,8,22,8,0,12,0,3,12,0,0,0,6,2,4,0,22,14,20,0,1,0,12,0,12,0,0,2,0,0,4,19,12,2,0,4,2,2,10,0,4,0,2,8,18,0,14,8,1,8,24,0,0,20,0,12,12,14,4,0,0,2,19,2,22,8,0,0,19,0,19,4,0,0,19,0,11,0,6,11,2,21,14,9,0,4,9,12,4,22,12,22,0,2,8,0,10,12,0,2,0,0,9,0,0,22,0,11,14,14,12,0,0,2,0,0,6,3,4,10,8,2,0,9,24,2,22,6,2,3,4,2,0,0,11,1,5,0,2,0,1,16,0,1,0,24,5,1,0,0,22,2,4,10,22,22,22,2,4,1,0,0,0,1,0,0,9,0,8,0,0,12,3,6,0,19,0,9,0,0,6,14,3,4,10,3,17,11,22,4,5,8,0,3,8,9,4,6,0,0,0,0,11,0,0,1,0,2,1,1,12,1,0,9,15,0,0,14,22,4,0,14,22,1,24,1,19,1,0,4,22,7,11,22,0,0,12,22,11,15,1,0,9,0,1,8,11,22,1,4,6,4,21,2,8,10,12,22,1,0,13,0,5,4,0,13,0,8,0,9,1,0,24,1,0,8,14,9,24,4,0,0,24,8,0,0,1,0,14,8,1,12,24,1,0,9,29,0,0,0,4,2,9,0,0,0,0,15,0,0,22,0,8,4,24,0,0,0,30,8,14,8,0,1,24,0,2,4,1,2,7,0,5,1,0,1,14,1,0,8,4,8,0,3,1,3,12,0,11,8,12,12,11,7,4,0,0,0,6,29,14,8,4,1,2,8,0,0,0,5,0,4,31,0,9,8,0,1,0,1,12,0,2,16,0,3,0,12,10,14,0,14,2,6,0,2,0,0,8,9,0,0,2,0,19,23,0,8,0,0,31,0,17,8,0,0,12,20,11,0,4,0,2,3,27,0,0,8,0,9,0,0,0,18,4,0,14,0,4,11,12,1,19,8,0,4,0,8,0,0,0,3,1,9,7,0,0,0,1,0,2,0,19,0,0,4,3,13,9,0,9,0,0,0,24,0,22,4,0,0,7,0,1,6,1,22,22,22,0,14,9,8,0,4,0,12,11,5,8,2,0,11,0,0,0,1,0,7,0,0,2,0,0,0,0,6,6,5,9,4,1,1,0,22,2,22,4,0,1,0,4,0,0,0,7,4,0,2,0,5,9,9,0,0,30,1,4,0,2,22,4,0,11,20,0,8,4,0,1,6,8,7,2,20,0,0,0,0,4,4,14,0,5,14,24,22,5,4,0,2,0,6,0,2,8,1,1,0,8,1,2,31,6,0,0,13,0,12,24,9,0,0,0,0,4,12,19,0,0,0,8,4,0,12,9,2,20,18,6,22,0,11,1,8,7,0,0,1,0,0,11,22,9,4,12,22,4,9,1,8,8,0,14,1,8,0,0,24,8,4,0,8,9,1,0,0,22,0,4,1,11,0,0,4,22,1,0,0,4,14,27,3,25,0,0,0,11,9,2,0,0,0,1,8,0,4,22,12,0,1,1,22,0,0,2,4,11,0,0,0,9,0,0,9,4,1,24,8,0,0,22,6,4,10,1,1,0,0,0,9,3,2,2,2,12,5,4,16,9,12,0,7,8,0,0,0,0,0,0,7,0,7,10,24,24,10,0,6,0,0,0,22,1,0,5,0,1,0,8,2,2,0,0,0,4,22,12,0,3,19,0,1,12,19,11,0,3,24,0,0,1,7,12,0,4,0,1,9,8,0,9,1,0,0,7,4,1,0,11,0,10,2,11,0,1,1,7,0,19,10,2,31,6,6,0,9,0,17,3,0,14,0,0,11,12,0,11,5,22,9,0,0,1,0,5,3,18,5,0,4,22,0,2,4,0,0,4,31,11,6,0,1,5,23,0,1,4,0,19,0,10,0,14,0,1,0,5,22,5,9,23,0,0,0,0,0,0,8,5,6,9,0,0,16,1,1,0,15,0,4,7,5,4,0,9,0,5,8,9,0,1,0,16,7,22,1,22,24,14,1,12,4,0,0,14,2,0,0,1,0,12,0,0,0,0,0,11,0,0,28,12,2,2,0,0,24,2,4,0,1,0,0,0,1,7,1,15,0,0,1,0,12,0,1,1,0,0,0,0,1,4,0,5,0,0,4,0,9,9,2,5,7,0,7,4,4,0,14,12,11,1,4,1,6,2,22,0,0,0,14,2,0,0,1,2,14,2,7,0,0,0,1,0,1,1,14,9,4,7,0,7,22,8,8,0,32,4,0,0,3,22,0,0,11,14,7,0,0,1,6,12,0,0,0,2,24,0,0,0,0,1,0,4,0,19,6,0,0,4,4,4,23,0,2,1,0,0,8,6,0,10,5,3,2,22,24,1,3,14,9,4,0,0,0,1,35,9,4,0,1,4,9,22,22,22,8,0,9,2,14,9,8,0,19,8,11,0,10,9,0,11,5,22,6,1,0,24,11,0,22,31,0,0,7,0,0,0,11,0,2,0,9,13,1,9,5,12,3,8,16,24,0,2,0,0,31,9,12,0,2,4,11,0,14,10,19,0,17,22,7,12,0,2,16,0,0,0,3,22,1,11,0,0,9,0,0,8,19,11,9,1,0,22,0,0,2,1,2,0,0,11,22,14,0,0,1,7,0,0,0,31,1,0,19,22,0,0,22,0,1,13,4,22,1,8,8,2,4,0,0,8,19,1,9,5,2,8,0,0,7,19,22,4,1,7,0,0,1,0,6,13,11,16,0,4,25,0,8,0,4,2,0,11,22,0,22,3,14,10,19,0,9,2,10,0,3,18,1,11,7,10,2,0,0,0,9,33,1,14,0,16,8,5,16,4,4,2,2,0,4,12,0,0,6,0,2,0,22,0,9,4,7,5,2,0,14,2,8,4,0,0,0,0,2,1,9,15,8,12,0,5,5,1,0,1,0,1,0,1,0,0,9,11,14,13,11,11,4,1,0,0,1,24,1,0,12,0,8,0,19,22,0,0,9,22,0,0,0,0,0,7,4,2,6,19,0,2,1,4,11,2,11,2,4,4,6,5,2,0,4,0,2,0,12,0,12,2,0,22,4,2,18,22,0,14,14,4,0,0,0,2,6,0,0,0,0,22,0,0,6,0,6,8,2,22,5,0,0,12,0,0,1,19,0,8,0,9,19,25,12,0,14,3,9,0,1,24,14,5,0,2,0,0,5,1,24,32,1,2,22,10,24,0,1,4,1,0,0,0,0,1,5,8,12,0,25,0,0,0,3,0,24,22,1,2,0,2,0,5,24,0,0,3,6,0,4,4,0,8,5,14,1,4,1,8,0,0,2,0,0,0,22,1,4,2,0,5,0,0,16,0,1,0,0,0,19,22,14,4,15,1,4,0,11,0,4,0,0,9,8,0,0,9,2,1,0,3,1,0,22,7,1,24,1,1,19,2,1,0,0,19,4,14,14,0,0,0,8,0,24,14,0,1,24,1,6,1,3,2,0,2,14,0,4,22,24,7,10,0,0,8,5,0,0,2,0,11,6,0,8,0,3,9,2,0,11,11,24,12,11,8,1,2,5,22,14,0,14,0,19,0,6,5,10,11,18,0,14,12,1,2,0,0,23,12,12,1,0,0,0,0,16,22,0,0,5,15,1,11,0,0,3,9,0,2,11,11,12,24,0,0,4,4,22,0,0,19,0,0,4,8,6,10,6,0,5,24,0,0,8,4,1,1,21,0,1,0,8,14,0,4,0,0,4,19,8,0,6,4,2,0,2,0,0,0,0,0,2,15,4,0,13,0,1,8,2,0,1,14,0,4,0,0,0,4,1,7,24,5,0,2,4,0,19,0,11,0,5,12,8,12,0,1,0,1,0,0,1,0,0,12,24,0,0,4,19,4,1,4,0,0,1,8,0,3,4,4,4,14,7,0,14,0,12,12,0,0,1,0,0,0,0,12,4,0,0,1,4,0,0,0,2,30,24,2,0,2,8,7,1,10,12,9,31,14,8,9,0,10,0,10,0,0,0,4,23,2,2,0,4,0,0,4,5,14,13,14,0,21,8,2,0,0,0,6,0,22,11,1,0,0,0,1,0,0,8,0,2,0,9,0,2,0,4,1,8,9,2,6,4,4,23,0,0,0,0,0,0,2,12,16,9,5,14,0,5,12,0,0,26,0,0,2,0,0,0,5,0,0,0,14,13,0,14,15,0,1,0,0,14,9,0,0,22,5,1,2,12,12,24,4,0,16,0,1,4,0,5,2,1,24,20,6,0,0,1,16,3,17,4,4,0,5,0,14,1,4,24,1,1,1,1,9,2,2,11,14,0,14,0,0,0,9,0,7,2,7,0,19,7,9,1,1,15,2,0,1,4,0,22,8,0,6,4,13,3,12,0,2,13,12,5,2,11,0,0,5,6,0,22,0,1,16,9,4,8,8,14,2,26,0,0,14,0,0,4,2,10,0,0,2,8,0,8,2,12,2,1,0,8,0,0,12,1,1,1,3,0,2,12,22,3,0,11,0,0,0,6,0,3,7,1,9,8,1,4,8,12,0,0,0,8,19,4,0,2,0,2,2,1,5,0,22,0,8,24,14,11,14,10,24,0,19,12,0,9,0,22,0,0,8,0,0,9,1,0,0,19,12,19,0,0,1,0,8,0,1,9,2,1,0,0,24,1,10,0,22,12,12,0,14,0,0,8,0,4,0,11,12,6,0,0,4,0,0,22,12,1,6,14,0,13,22,3,0,0,24,5,24,14,0,13,0,0,1,18,31,0,8,0,0,8,1,4,11,0,0,0,8,0,14,2,2,24,8,2,4,0,9,0,22,1,16,0,0,9,1,12,0,11,2,12,0,12,1,2,6,0,0,18,2,4,0,3,0,0,9,0,0,0,0,5,9,24,4,0,1,0,13,2,0,0,29,0,14,15,0,4,0,0,0,3,8,0,22,1,14,2,0,2,4,14,0,5,0,3,0,0,0,1,0,1,6,1,7,2,0,0,0,0,9,0,0,9,0,0,4,6,8,0,9,8,7,11,1,4,12,4,11,12,9,1,22,0,13,19,11,0,13,12,1,0,2,7,14,2,0,0,24,0,0,12,0,4,14,0,8,8,0,23,0,7,6,0,14,22,5,0,0,0,0,9,6,0,19,5,5,21,0,1,13,5,1,0,0,0,1,0,0,18,22,0,6,9,13,6,6,8,0,0,24,3,10,0,9,0,9,0,14,2,14,4,4,5,0,16,22,0,0,4,1,1,0,23,0,4,1,0,0,14,29,7,1,0,0,7,23,5,11,0,2,0,5,1,6,0,0,0,24,18,12,0,9,0,9,0,0,9,0,0,0,8,8,3,0,2,0,0,0,10,22,0,0,5,0,16,24,0,29,14,0,6,0,6,0,12,1,1,5,0,0,5,1,5,5,0,0,1,0,0,0,0,1,1,5,9,0,1,0,0,2,22,1,0,17,32,9,0,6,3,1,0,0,3,4,2,0,0,1,12,3,8,4,25,0,0,0,0,1,21,0,4,24,1,25,25,0,12,1,0,1,12,0,2,1,1,5,11,3,3,2,3,2,8,7,0,8,15,2,3,0,14,11,6,12,0,4,9,14,4,8,0,2,0,3,8,0,18,22,16,6,0,4,9,12,10,3,9,24,2,12,0,0,0,0,0,4,0,8,0,0,0,11,8,0,14,2,0,6,24,1,0,24,11,2,18,0,0,12,11,4,0,0,3,9,1,12,12,18,0,2,11,0,8,0,8,0,2,0,7,0,0,3,1,1,0,0,7,2,8,5,10,0,3,0,12,5,11,0,0,24,1,0,0,11,0,9,9,6,8,0,22,2,4,14,0,0,4,9,0,0,1,9,8,24,5,6,22,4,0,11,0,26,4,30,0,12,0,7,14,16,18,24,0,0,8,0,8,0,8,12,4,0,0,31,2,13,12,0,4,12,5,0,24,0,10,3,15,11,1,21,11,2,0,0,7,0,3,8,8,2,0,0,0,19,0,0,0,8,12,0,0,0,14,8,9,8,0,4,0,0,1,0,8,8,5,4,0,0,2,0,8,1,2,11,11,9,11,11,12,0,0,18,12,0,9,4,6,2,0,0,0,0,9,7,15,1,19,2,0,1,1,25,8,0,13,8,14,0,12,0,7,19,8,0,22,12,0,9,6,1,22,0,0,1,0,0,0,11,0,0,12,0,23,0,0,0,14,0,11,0,4,23,26,11,8,11,0,0,10,0,8,12,2,1,4,0,0,9,0,6,16,1,0,8,0,22,6,0,0,12,0,1,12,0,0,13,0,8,18,19,0,9,11,24,1,22,0,13,4,5,0,12,0,13,0,1,14,12,22,0,0,5,0,4,9,24,0,26,8,22,16,0,5,0,4,14,0,0,0,9,0,0,9,2,1,9,22,14,12,0,0,4,3,4,16,9,22,0,6,5,19,8,0,11,9,1,2,2,14,12,22,0,2,8,2,11,16,9,0,14,4,0,22,1,1,4,0,0,5,0,2,0,2,4,0,2,13,0,11,3,4,1,6,0,4,0,8,0,0,0,9,11,19,1,2,0,15,4,14,0,0,0,33,1,19,12,11,14,18,1,4,2,27,4,11,0,19,12,24,0,24,14,1,4,7,2,24,7,2,12,0,4,0,0,0,0,0,0,0,8,8,22,4,0,8,0,0,2,1,0,11,0,9,0,1,12,1,0,4,0,1,0,3,2,8,0,1,18,0,0,8,1,1,14,0,0,5,0,1,12,10,8,19,6,9,0,4,4,11,16,0,1,16,0,2,0,24,8,2,0,6,4,24,2,0,0,2,0,2,10,0,2,3,0,0,11,0,11,0,11,0,1,0,0,0,1,1,12,8,7,4,12,0,10,2,12,8,14,0,1,1,1,22,0,0,12,0,0,0,7,0,14,0,24,2,4,1,7,12,14,0,18,13,0,8,4,8,4,8,7,0,22,0,2,12,2,10,4,0,0,10,0,0,12,1,2,12,10,14,1,4,4,0,11,0,4,22,1,7,16,1,0,14,8,8,0,12,8,0,4,21,4,0,0,2,1,0,11,16,0,4,22,0,0,6,1,0,9,4,1,9,5,0,12,4,15,0,11,2,0,9,0,5,14,11,11,4,2,18,24,4,8,0,2,11,2,1,14,0,15,0,0,4,24,24,4,2,12,11,9,11,0,0,0,8,9,0,0,22,6,6,0,9,1,0,0,0,6,6,17,0,2,11,4,14,9,0,1,12,7,9,0,1,9,29,2,14,7,0,0,4,24,0,4,1,0,24,24,26,22,12,12,6,0,0,0,8,30,12,30,0,0,7,4,2,4,2,4,13,4,2,0,4,11,3,2,8,14,0,3,0,5,12,0,0,0,12,17,1,14,10,2,2,4,0,5,1,0,0,0,18,0,4,0,0,0,1,14,2,0,12,12,1,0,4,4,4,4,17,11,0,0,0,11,5,0,0,0,0,16,28,0,2,4,0,1,24,19,1,0,0,12,3,7,9,23,22,0,24,12,11,0,4,0,0,0,8,13,0,10,9,2,0,21,10,0,14,0,10,0,3,22,0,9,0,1,0,0,0,4,0,0,6,8,0,0,0,8,12,0,9,0,19,0,8,8,1,0,5,14,0,4,0,0,0,1,15,0,4,21,2,4,5,0,0,4,8,16,19,0,0,0,0,0,2,22,10,2,0,0,0,8,9,6,22,1,2,8,0,0,0,0,4,0,0,0,1,4,0,4,5,0,0,6,2,8,0,0,5,4,14,12,12,1,0,4,0,5,0,0,9,2,4,4,0,25,7,15,0,1,4,0,0,4,4,31,11,0,2,0,0,0,2,30,7,5,14,0,0,9,0,0,0,0,12,11,2,9,10,2,3,0,14,14,0,19,4,4,22,0,19,0,7,11,1,0,2,0,18,8,22,1,0,1,0,8,0,4,9,22,22,7,22,1,4,14,0,9,24,2,4,14,0,0,0,5,1,0,0,0,0,12,0,0,14,4,5,0,0,4,9,5,22,1,0,2,11,8,16,1,1,0,1,7,1,0,8,0,0,1,11,3,0,2,11,0,0,0,12,6,1,0,5,0,2,0,0,8,14,2,0,0,1,0,1,6,19,7,0,6,0,0,4,1,4,9,0,0,1,11,22,0,0,11,0,8,22,8,11,0,0,1,0,9,0,0,0,9,0,1,1,0,0,22,0,18,22,0,7,0,0,4,3,0,22,3,0,4,4,0,0,0,0,1,31,0,4,12,1,2,0,0,1,9,0,24,7,13,6,0,0,13,8,0,22,22,22,29,22,1,8,3,4,0,4,8,0,11,2,6,12,6,0,22,1,6,0,14,2,10,0,4,19,4,0,0,22,14,5,1,1,22,22,0,8,2,0,0,0,6,2,2,0,33,2,1,1,4,9,9,4,2,12,8,0,0,4,0,0,4,0,5,0,12,5,0,10,10,22,0,11,2,0,0,0,14,12,4,14,2,2,4,0,16,13,9,0,1,0,15,0,19,12,0,0,0,4,0,1,0,8,19,3,0,22,0,0,0,12,14,5,0,22,10,11,12,0,0,4,20,0,0,3,0,0,11,0,4,1,14,0,8,5,0,2,0,8,11,0,8,15,0,8,10,2,0,0,7,22,0,33,13,1,22,2,2,0,0,6,22,2,1,0,1,14,8,0,18,4,0,26,0,0,8,14,3,4,0,24,0,1,12,11,12,6,4,5,4,20,4,5,0,9,1,3,12,0,1,0,0,4,2,5,0,9,11,10,0,9,25,0,0,2,5,4,0,14,8,0,0,0,22,14,5,12,14,4,0,0,0,12,9,22,0,4,0,8,11,1,0,1,1,0,0,12,8,14,3,6,14,8,8,15,8,2,0,24,5,0,0,21,0,0,5,0,6,4,1,4,14,8,1,2,3,7,4,14,0,12,0,23,0,4,22,4,2,0,1,22,4,0,0,8,8,15,3,9,0,11,22,0,19,0,0,11,10,2,2,21,0,14,15,0,0,2,7,2,9,4,2,12,15,8,0,0,0,10,8,2,22,0,2,20,22,0,4,1,0,13,4,0,0,0,0,2,0,2,0,1,0,0,0,1,0,0,3,6,19,0,0,1,12,8,4,1,24,0,12,0,0,0,8,0,8,0,11,0,0,12,0,0,16,0,2,13,8,14,27,22,5,24,2,2,2,0,0,6,11,14,23,0,0,2,0,7,0,0,6,2,16,1,11,12,0,0,0,7,6,22,2,1,4,0,2,21,9,0,4,0,4,0,9,1,22,24,2,3,2,0,6,5,1,1,27,0,30,0,6,0,0,18,19,6,14,1,0,0,5,0,0,19,4,17,0,0,0,4,14,0,0,12,1,19,14,5,8,11,0,15,6,0,7,0,0,0,2,0,1,14,2,6,14,22,4,7,0,2,12,0,16,14,0,30,0,4,9,0,5,0,13,2,0,0,6,0,24,1,22,0,3,1,8,2,0,12,11,8,0,1,4,0,9,14,0,2,0,0,0,8,0,2,0,4,5,1,0,0,4,4,4,26,1,1,6,6,4,1,2,1,0,0,3,11,0,7,2,12,12,12,12,5,14,22,22,9,9,12,0,7,1,11,1,0,1,5,15,0,0,0,8,2,15,0,9,0,12,0,22,1,1,11,9,0,8,5,12,24,1,22,0,1,22,6,8,2,13,4,24,0,1,8,9,1,22,2,0,4,24,6,0,0,15,0,2,0,0,4,8,0,0,22,10,18,0,10,1,0,13,1,33,0,14,0,0,2,0,0,1,24,19,1,4,19,12,9,10,0,0,8,1,0,4,14,32,29,0,7,12,6,0,24,0,0,22,0,0,0,0,0,6,0,0,0,0,9,0,3,6,0,7,0,22,4,0,9,0,2,11,4,1,0,0,0,0,1,4,14,0,1,22,0,0,6,0,9,2,7,12,19,0,7,11,0,5,2,2,0,0,0,4,4,8,0,4,0,22,0,0,4,8,12,2,0,6,0,0,24,0,0,2,11,6,0,2,0,1,0,1,0,22,12,1,1,12,0,7,11,14,11,22,9,0,0,10,4,0,1,0,12,0,2,1,8,0,18,1,0,0,0,8,2,4,1,1,0,0,24,24,4,0,2,21,11,2,0,13,1,2,14,1,0,4,0,0,0,22,0,11,8,0,2,5,4,0,0,0,4,0,10,14,10,0,29,0,2,0,0,0,27,5,9,17,0,5,0,12,12,6,0,0,0,11,0,22,0,1,22,0,0,6,1,4,0,8,12,0,0,9,4,4,0,0,1,27,0,5,14,0,12,6,16,0,8,23,2,0,0,4,1,2,23,12,10,4,1,9,0,24,12,9,4,25,15,5,4,0,0,1,11,24,11,22,0,6,4,12,1,12,22,9,0,8,12,0,0,4,1,0,0,0,1,0,6,0,3,8,22,1,12,24,1,11,0,22,0,28,24,19,12,0,30,0,0,0,0,12,7,0,24,0,0,7,5,0,4,0,0,10,0,0,8,0,2,5,5,11,11,2,0,1,4,8,21,27,0,4,1,7,0,22,15,4,5,2,0,2,0,2,29,11,22,0,0,7,0,11,14,0,0,0,0,8,5,0,0,0,13,24,26,0,15,0,0,4,22,6,24,0,11,0,23,0,11,0,22,0,14,8,22,0,14,0,8,5,2,0,27,3,22,14,0,0,14,0,6,4,4,22,2,16,22,4,0,0,21,0,8,1,6,2,14,1,22,8,1,0,0,0,7,12,20,0,1,0,0,15,0,3,1,14,6,0,3,0,3,4,1,18,0,8,0,15,0,24,0,0,5,10,4,4,1,0,24,12,1,2,0,12,0,1,11,0,0,13,14,14,7,13,4,16,4,14,2,12,5,22,0,4,0,12,2,0,6,18,0,5,3,1,0,8,0,14,3,0,11,3,0,8,9,9,5,0,12,7,4,26,4,0,12,1,22,2,8,5,0,17,9,23,10,19,3,11,11,0,4,3,0,0,12,0,5,0,22,0,22,2,0,1,0,1,14,0,19,1,0,4,24,0,4,1,13,0,0,0,0,5,12,2,0,0,17,3,0,4,4,15,0,0,2,15,0,0,0,1,24,0,1,2,0,32,2,11,0,0,0,19,2,2,0,4,9,1,7,0,11,12,1,0,0,11,6,8,0,0,2,0,0,1,0,5,0,22,16,5,2,33,2,12,0,0,7,0,0,11,5,1,0,4,4,12,10,2,0,8,7,4,0,0,11,0,4,0,0,14,0,1,0,6,0,1,0,2,2,4,14,9,4,0,0,1,0,2,1,2,0,2,5,2,2,4,2,1,24,17,2,2,22,9,0,0,12,1,0,0,0,2,2,2,12,19,11,24,1,2,12,5,16,8,12,0,0,0,19,14,2,13,0,12,0,0,2,9,0,8,13,0,6,2,14,5,0,0,0,12,4,19,2,7,0,19,9,0,1,0,0,4,15,19,14,0,22,22,0,19,14,1,10,0,1,11,13,10,1,21,4,14,0,0,2,4,8,0,22,0,9,1,0,0,0,5,8,12,0,0,1,0,0,11,9,0,0,2,2,1,6,12,1,1,10,7,2,8,0,19,9,2,0,14,4,8,5,0,0,2,22,11,3,0,9,4,1,22,6,24,0,10,22,19,2,14,8,0,1,0,1,2,31,22,0,3,1,0,22,2,2,0,25,4,0,9,0,0,0,4,0,19,2,0,7,14,0,0,18,13,0,2,0,0,7,26,8,1,4,4,0,0,12,13,5,7,4,0,19,25,9,1,1,0,0,0,19,0,13,0,1,0,9,4,14,21,7,26,14,0,0,16,2,0,2,22,0,3,0,0,1,5,2,1,14,0,1,5,21,4,0,5,2,0,0,28,0,7,8,2,4,0,22,0,0,12,9,22,0,13,0,11,2,22,0,4,0,0,12,4,2,3,0,4,0,0,8,22,0,11,10,2,13,0,0,14,0,8,22,10,0,5,0,0,24,10,11,0,0,0,2,12,0,14,0,4,0,11,9,19,1,22,12,0,4,1,4,0,21,8,6,29,0,14,8,1,4,2,12,0,0,0,4,0,8,0,6,12,0,3,4,31,0,0,19,0,22,0,8,14,12,12,7,8,22,4,11,9,0,0,0,0,3,12,9,5,2,5,12,18,9,0,6,4,1,9,5,22,0,0,0,0,0,0,0,0,1,0,12,0,11,22,12,17,14,14,7,0,8,2,11,0,24,12,12,2,4,1,12,7,3,12,4,0,0,6,0,16,12,22,1,11,22,6,0,2,4,0,8,1,22,0,2,4,2,2,0,4,2,4,8,1,0,0,9,7,22,0,4,4,6,1,0,0,6,2,17,18,1,0,1,3,2,0,1,2,5,6,12,12,24,0,6,4,1,0,14,14,24,2,8,6,0,0,0,0,1,2,0,15,0,6,24,12,0,0,0,4,7,4,3,10,1,19,1,6,4,1,7,0,5,13,0,5,4,1,12,0,2,10,2,12,12,0,0,1,2,14,2,29,2,4,2,25,16,0,4,31,0,0,9,8,8,11,9,3,7,2,0,11,22,14,0,9,14,1,7,7,0,0,22,2,24,14,1,2,2,19,5,2,12,0,5,6,0,1,0,4,0,22,22,0,11,4,8,22,1,17,7,14,0,5,6,0,0,9,4,0,0,12,22,0,0,26,1,14,4,0,19,14,24,4,2,22,0,12,0,11,15,0,1,2,0,2,11,1,0,0,10,4,1,0,0,1,19,0,0,0,0,8,12,10,22,22,4,6,0,0,8,6,13,14,0,24,0,0,22,12,1,0,12,0,22,0,13,8,2,14,0,11,9,0,0,1,2,0,11,0,1,0,11,1,0,0,0,0,0,14,4,5,0,1,4,6,0,15,0,0,0,0,6,1,11,4,19,3,14,1,0,8,6,10,0,24,12,4,0,14,12,1,9,8,1,2,0,2,0,8,2,0,12,0,19,9,27,0,0,9,0,0,8,6,8,0,0,11,0,4,1,12,0,0,8,4,3,12,0,1,0,2,2,5,14,1,0,12,2,1,15,3,0,9,14,0,12,20,6,0,2,5,8,8,11,19,0,0,8,0,14,2,14,0,4,8,11,0,0,12,7,0,0,0,12,12,9,0,1,0,0,0,4,7,12,8,0,0,1,9,0,1,3,0,0,8,0,0,6,0,0,7,10,6,0,3,1,33,16,0,2,22,24,0,1,1,6,8,11,0,5,2,0,14,0,0,0,21,0,0,7,11,9,0,0,24,0,30,12,1,1,9,1,5,3,0,0,1,14,11,0,2,2,14,0,1,12,16,19,0,0,1,10,0,11,6,0,13,5,2,10,0,2,5,0,6,1,12,0,4,0,4,0,22,8,11,0,6,13,3,0,19,0,5,0,10,1,11,22,0,5,0,13,4,4,0,9,0,0,0,24,4,2,0,1,3,12,5,0,5,0,31,16,1,7,6,22,0,0,0,6,14,21,4,0,0,4,0,0,28,14,2,23,1,22,0,26,9,14,9,4,13,14,0,8,0,5,0,1,3,0,0,0,0,7,0,0,1,3,7,8,9,14,20,12,22,17,1,22,0,22,1,5,6,0,6,1,0,11,12,1,0,9,10,14,0,3,0,0,12,0,0,22,16,8,1,0,8,11,3,2,0,0,0,22,0,0,0,22,24,12,22,1,2,0,4,2,10,0,0,0,3,12,9,0,4,4,4,6,1,4,4,2,8,2,17,9,4,2,6,0,3,0,2,24,2,5,21,1,5,1,2,1,0,0,0,22,9,6,4,12,12,0,0,0,0,0,6,0,4,14,0,0,0,14,3,12,0,14,0,9,3,15,17,1,19,9,33,0,9,5,8,0,0,14,0,1,0,12,9,0,0,2,15,4,2,9,0,1,19,2,2,14,6,7,10,9,0,1,12,0,6,2,0,4,2,22,0,1,0,1,0,5,13,1,5,2,0,24,2,0,1,9,7,16,0,4,2,0,0,0,0,0,9,2,22,8,29,10,0,9,3,13,19,1,11,14,12,26,32,11,2,0,14,0,0,0,2,14,9,1,0,8,24,9,29,0,0,1,19,21,12,5,1,21,22,0,19,4,1,5,15,0,0,7,24,22,30,0,14,6,4,0,11,0,14,2,0,11,0,0,0,0,0,0,0,10,0,7,6,21,12,23,12,0,0,8,14,2,22,11,0,8,0,6,19,22,1,0,10,22,8,22,22,0,16,1,2,22,0,24,6,14,5,2,15,6,7,0,8,12,4,8,14,9,2,2,0,8,0,4,12,9,10,6,1,0,1,0,24,0,0,22,0,12,16,2,12,1,0,0,6,5,0,0,6,2,0,2,0,2,12,0,6,10,1,3,0,0,2,0,0,4,12,0,2,24,1,2,1,4,0,8,19,4,10,3,0,6,31,12,4,24,0,14,19,1,0,8,11,0,0,0,4,0,0,1,5,11,4,1,0,33,24,31,1,0,15,14,22,2,0,0,22,6,0,4,0,2,0,5,8,18,5,1,0,11,7,4,0,6,0,17,12,1,2,0,0,0,24,16,0,6,2,1,4,1,20,0,28,0,2,0,15,12,4,0,0,3,9,0,0,0,0,0,5,2,22,1,9,1,0,0,0,5,7,0,22,14,3,19,15,9,11,4,22,5,2,7,6,0,20,0,1,12,0,11,8,1,14,22,0,14,0,0,12,0,15,14,1,7,0,0,0,3,7,4,2,0,18,7,12,0,5,10,0,0,0,0,12,22,4,0,9,4,0,0,0,16,0,24,0,7,0,19,0,0,0,0,0,0,1,25,15,0,0,12,0,6,22,1,22,22,4,0,11,8,22,0,14,24,3,4,0,0,6,9,22,12,5,0,1,2,0,19,13,20,0,19,0,22,0,0,1,13,16,1,8,0,6,0,1,8,12,6,4,2,0,0,14,9,0,22,7,23,15,0,0,4,0,22,0,0,0,14,0,4,9,0,8,0,0,9,0,5,9,24,0,2,24,13,0,24,8,1,2,11,0,2,24,12,12,5,2,24,5,0,1,3,9,9,4,8,25,22,4,11,0,8,0,3,10,6,0,12,16,1,0,1,0,0,0,0,0,1,24,12,0,4,0,10,0,5,4,2,0,0,5,18,4,22,5,8,14,2,19,22,0,9,8,7,0,22,0,0,0,3,14,2,3,0,26,9,4,0,1,0,0,0,2,24,14,0,0,0,4,11,1,0,27,0,1,2,0,1,18,0,9,0,0,10,0,0,12,24,4,3,5,0,23,10,9,1,0,11,24,14,0,3,4,1,27,1,10,7,0,2,1,0,0,8,0,0,0,14,8,14,4,0,4,14,4,1,0,0,8,4,0,22,8,5,0,15,2,7,0,14,1,5,8,3,0,0,0,22,0,4,14,0,0,28,1,6,4,0,13,0,0,1,29,0,0,0,1,12,8,0,12,14,19,8,0,22,22,11,14,2,0,11,0,4,9,0,22,1,1,7,4,1,3,22,0,9,13,3,2,22,6,0,11,3,11,3,12,0,1,4,0,6,0,1,0,1,2,4,6,0,0,4,11,6,9,9,11,1,14,0,8,12,14,12,22,12,9,7,4,4,10,0,1,19,14,0,5,19,0,21,12,0,0,1,0,0,11,31,2,9,14,3,1,1,9,0,8,3,22,16,1,1,3,5,32,5,31,2,0,4,1,24,2,8,2,2,12,4,4,9,24,0,9,8,0,0,0,0,0,0,15,2,24,1,2,0,1,1,0,0,10,1,0,14,0,0,0,22,4,0,0,0,9,3,0,0,0,0,4,12,0,22,11,0,0,11,1,0,0,1,0,6,7,11,0,0,14,1,0,2,21,0,12,0,9,6,0,0,0,12,0,0,0,4,1,4,0,10,9,0,6,4,0,13,4,16,4,0,0,13,22,6,0,0,5,0,0,24,1,0,22,1,2,2,6,1,8,0,24,14,0,0,24,24,8,1,2,0,11,0,0,0,7,2,8,4,0,12,12,2,4,4,4,19,0,0,2,4,22,16,0,31,2,4,4,0,4,0,0,12,0,0,0,11,2,0,4,0,2,0,22,2,1,23,0,11,1,22,0,14,9,0,24,0,1,0,5,11,2,1,4,0,5,1,0,0,1,12,0,0,10,19,15,25,11,9,4,20,16,5,14,4,0,29,2,0,6,1,0,0,0,19,0,0,0,1,0,2,0,10,11,0,11,1,2,19,6,0,11,2,32,4,11,6,4,13,1,0,0,14,2,4,2,3,0,0,0,0,18,1,0,0,19,22,11,12,4,0,4,0,0,1,14,11,11,11,12,9,22,18,4,24,1,12,0,0,2,6,20,0,6,0,0,3,13,0,0,14,13,0,2,4,6,0,1,0,12,1,0,0,0,11,24,1,6,7,4,0,12,0,8,1,18,4,4,0,0,9,11,4,0,8,5,0,0,0,0,0,0,2,1,4,3,0,5,4,1,4,0,22,16,14,12,4,19,0,0,16,0,4,18,1,8,1,10,0,16,2,0,0,21,6,0,0,22,4,1,0,0,0,6,8,4,14,0,3,4,0,25,4,1,0,14,0,0,0,0,0,1,4,0,0,2,31,0,0,8,19,4,8,4,5,14,11,15,0,0,0,2,0,0,4,5,1,1,1,9,10,9,8,12,9,3,0,20,12,0,10,4,14,0,12,1,5,1,11,0,22,0,18,0,1,1,4,0,5,1,0,0,12,1,19,0,0,8,24,1,0,4,9,6,6,0,0,12,7,8,0,0,0,2,22,18,9,0,4,22,0,19,7,0,19,0,0,2,8,3,0,1,0,0,0,28,4,14,0,7,0,8,16,0,0,0,11,7,0,9,27,24,8,7,13,2,7,0,2,0,2,8,0,0,12,0,11,0,4,2,22,1,11,19,2,2,0,12,2,0,0,24,10,11,0,0,0,19,0,10,0,12,10,0,18,0,1,22,8,4,19,1,1,1,0,10,11,2,14,19,1,8,22,0,0,2,0,14,2,0,16,12,4,0,4,0,0,8,0,19,1,0,11,4,0,4,0,0,15,0,0,0,0,2,12,4,0,0,0,27,0,0,15,1,19,4,8,1,24,8,0,16,4,14,5,0,8,22,0,2,7,23,3,12,0,22,12,4,1,1,14,0,22,0,0,0,8,21,18,22,0,0,0,13,0,1,3,11,22,1,0,0,0,10,11,8,19,0,1,11,5,12,4,8,4,0,0,2,0,12,2,6,12,22,0,0,11,0,28,2,22,0,7,9,8,1,6,0,3,1,8,0,23,0,0,8,0,2,0,2,11,0,23,5,14,11,4,2,0,0,1,1,2,1,0,0,4,0,1,1,0,1,12,1,0,0,0,22,5,4,0,4,4,6,0,0,8,2,4,2,12,19,6,0,4,0,2,5,1,5,2,7,12,1,0,0,1,0,0,5,12,16,12,0,11,18,3,0,12,1,9,10,1,19,0,0,0,0,0,12,0,6,12,8,2,0,4,2,0,5,2,14,22,1,15,0,0,4,4,4,1,2,0,3,24,0,13,22,8,5,14,7,1,0,1,3,2,12,18,4,0,22,0,22,3,0,2,25,12,0,0,0,0,14,9,12,5,0,1,0,5,0,2,8,8,9,11,28,12,2,7,8,14,22,22,0,2,1,9,0,2,0,15,1,1,0,2,22,1,1,13,9,0,1,11,18,0,12,22,1,11,1,4,1,21,12,0,9,9,7,9,31,2,0,4,0,0,4,5,0,4,0,12,4,11,0,19,2,16,14,1,0,0,12,9,22,4,1,24,11,24,0,0,12,1,5,1,2,0,21,5,12,9,0,12,0,3,13,1,11,0,8,2,2,0,1,4,3,0,0,4,0,14,9,22,0,12,8,7,8,0,4,0,0,6,0,0,5,0,0,1,12,1,7,14,8,0,0,1,0,7,0,1,1,0,2,12,0,1,16,22,14,13,1,2,0,14,12,0,0,31,12,11,19,0,4,1,0,1,0,0,2,8,0,6,9,12,19,8,0,0,0,0,4,12,0,8,0,0,12,0,2,8,0,4,12,9,22,9,5,7,4,0,1,8,23,0,22,0,5,8,0,0,12,4,0,4,0,14,20,5,4,4,0,5,2,33,0,0,31,1,18,8,0,0,21,0,16,12,0,1,22,22,9,0,3,6,1,0,4,7,0,0,1,4,2,7,12,0,8,11,12,8,9,4,12,0,11,18,8,0,1,2,20,12,9,0,0,11,0,6,2,4,1,0,1,12,8,0,4,0,0,12,2,1,0,0,2,7,0,2,2,12,16,3,0,14,8,0,22,5,8,1,0,8,11,4,0,5,0,5,8,0,19,6,9,18,0,1,0,1,0,0,1,4,11,6,12,10,0,12,0,0,0,9,6,11,8,0,1,3,2,8,14,0,1,0,1,6,22,15,24,2,0,3,22,4,0,0,11,0,1,14,0,0,22,2,1,24,1,5,1,0,0,14,0,0,14,4,7,6,0,24,5,6,2,0,5,8,6,12,0,0,12,3,9,8,2,1,15,24,0,11,0,8,5,12,12,6,0,0,19,4,0,1,0,8,22,4,7,0,0,2,2,0,22,18,2,0,4,0,0,5,0,4,16,0,4,0,0,0,12,10,12,4,4,0,8,0,20,0,8,9,2,1,16,12,0,14,0,4,0,0,4,0,0,0,8,12,0,0,9,22,0,2,8,8,0,2,9,0,0,19,22,16,30,0,14,2,10,4,4,0,22,0,1,0,1,1,1,0,32,0,0,7,24,4,0,5,0,7,0,4,2,3,12,0,14,0,2,12,0,0,0,1,0,2,0,2,1,4,0,0,30,22,2,1,2,4,6,14,9,0,22,0,10,7,22,0,0,0,24,0,0,0,8,9,15,22,16,4,0,0,2,6,0,0,3,9,0,12,4,4,0,0,4,0,13,1,0,7,0,11,8,14,1,22,13,3,0,1,32,5,2,0,0,0,12,12,0,1,0,0,0,0,9,7,0,0,0,2,4,1,1,6,8,22,0,0,11,8,0,0,0,18,0,12,0,9,4,0,1,0,5,0,1,0,0,0,2,13,5,17,4,0,33,0,1,22,14,5,9,1,14,3,8,3,7,31,5,12,0,2,0,0,0,0,1,1,4,5,0,8,0,12,11,0,2,2,6,0,7,0,0,0,0,2,24,11,5,22,13,0,11,0,2,13,0,2,9,0,21,5,1,8,0,1,14,0,4,0,12,4,19,21,7,0,13,4,0,0,0,9,19,7,4,23,6,2,4,4,19,23,0,22,6,22,24,5,2,5,5,2,9,0,0,0,14,14,0,0,26,3,10,0,0,0,14,12,4,0,0,0,8,0,0,4,22,0,22,1,2,6,7,2,1,1,0,1,0,0,0,4,1,14,7,4,0,9,14,2,22,19,0,1,2,12,12,11,1,12,0,4,12,10,15,9,12,5,2,0,4,12,0,0,1,10,1,0,9,0,7,22,9,0,0,4,22,1,8,2,0,0,0,14,0,4,22,0,0,12,0,9,14,24,6,14,0,22,11,11,24,9,4,18,0,7,19,11,0,4,5,14,0,15,0,14,13,0,11,14,17,11,24,14,22,14,11,0,12,1,8,0,1,0,13,0,0,7,0,1,16,0,0,4,5,8,8,1,0,14,22,1,26,19,0,11,8,0,0,5,4,0,14,24,9,4,0,5,0,1,6,0,17,8,3,1,6,0,10,14,11,0,0,0,1,13,11,4,4,8,0,5,0,10,0,0,8,5,0,2,0,15,22,14,4,8,0,0,0,0,12,0,2,2,0,12,10,21,0,26,1,0,23,0,2,10,24,8,4,0,2,7,4,1,0,29,0,0,5,0,1,19,8,10,1,17,11,22,0,2,1,9,0,0,4,4,2,14,11,8,8,6,0,22,14,9,2,1,5,4,5,0,0,0,11,1,1,14,22,24,0,0,0,0,1,0,1,1,0,1,0,12,2,31,9,4,0,10,2,1,10,0,14,4,3,4,14,8,7,22,14,19,2,5,1,1,12,14,6,0,9,3,1,4,10,0,1,0,2,12,9,0,2,0,12,0,4,19,0,0,15,2,0,22,1,6,0,4,0,0,0,4,0,5,1,5,2,1,22,2,0,0,13,0,15,0,1,6,9,2,17,11,1,2,0,0,10,0,12,5,0,0,4,26,12,4,8,0,22,16,2,8,1,14,0,0,2,9,12,4,4,14,8,22,11,2,1,19,4,0,24,0,12,0,11,2,2,2,0,2,2,2,5,1,0,9,1,2,1,2,0,6,4,0,22,12,0,22,0,1,22,0,0,0,4,19,4,12,7,8,4,11,11,0,9,5,10,0,1,4,3,0,2,36,0,2,0,5,2,24,0,0,0,0,0,0,12,14,0,14,7,0,9,5,7,11,2,11,7,0,24,27,1,1,29,0,1,3,4,24,11,0,0,0,0,0,0,0,1,0,4,0,22,2,0,0,12,4,4,1,0,4,0,2,2,14,0,10,0,5,0,0,0,0,0,9,4,0,4,9,0,1,30,0,0,2,7,4,0,14,0,0,0,0,1,0,22,5,9,7,0,0,15,0,5,24,1,4,10,5,7,12,11,12,5,0,24,0,16,0,14,0,0,21,0,12,4,8,4,9,1,22,0,14,0,11,0,2,5,22,8,2,12,4,0,8,0,8,12,4,0,8,2,9,1,1,12,10,0,8,18,1,23,4,0,0,6,0,1,14,0,4,24,12,1,4,13,0,12,4,0,0,22,12,0,19,18,0,0,17,7,1,0,3,8,9,8,10,12,0,3,2,0,4,6,1,3,0,4,9,4,0,9,0,11,13,0,13,2,15,4,8,1,0,22,0,4,1,0,6,8,14,8,22,0,0,14,0,0,3,24,0,19,22,6,0,11,14,11,2,7,9,0,6,1,8,11,2,1,2,0,23,2,11,10,22,0,18,11,0,8,8,0,22,1,9,0,24,1,6,0,0,1,24,1,1,0,2,0,2,8,0,6,2,0,2,4,14,0,0,20,8,1,9,14,16,0,8,0,12,0,1,0,3,12,2,0,26,0,14,8,2,0,4,17,4,0,1,12,1,2,0,18,2,27,0,0,8,0,11,4,0,0,0,0,14,2,0,0,11,16,19,0,0,19,14,10,8,3,24,1,4,14,0,4,0,14,24,21,0,19,4,10,7,8,0,2,21,0,6,4,9,9,15,1,4,1,0,10,6,0,0,9,0,6,0,14,11,0,1,1,0,0,1,9,5,11,8,2,0,19,0,2,0,4,8,8,0,0,14,2,1,0,1,5,9,9,0,0,1,0,16,6,9,2,0,2,19,1,1,0,0,1,19,0,0,4,14,0,5,0,0,5,8,0,15,0,8,6,0,9,2,10,5,14,1,9,0,2,0,4,14,0,4,3,2,2,0,2,4,2,2,0,22,4,22,0,4,6,22,8,4,1,22,5,0,0,14,14,1,9,0,6,0,0,24,2,1,9,4,1,6,5,0,13,6,2,5,12,1,0,0,0,4,6,0,2,12,12,0,0,1,8,0,0,10,20,4,4,2,18,7,0,4,0,3,4,8,18,4,0,1,0,8,11,16,0,2,22,2,0,0,11,8,0,5,3,4,2,8,9,16,0,0,0,0,14,6,32,11,2,1,9,0,4,0,0,0,14,21,0,8,1,3,1,22,0,0,17,8,14,0,0,11,12,8,22,22,0,4,1,0,13,0,22,6,0,14,4,9,0,11,0,0,1,5,2,7,0,0,1,11,2,3,0,0,5,4,20,0,0,0,0,0,6,2,6,3,0,5,22,0,0,0,24,7,1,19,0,0,12,22,0,0,0,24,3,14,0,2,4,8,5,23,5,12,0,0,22,8,0,1,2,4,0,0,0,8,12,1,2,12,1,0,23,11,22,0,0,0,0,0,0,12,0,0,5,0,4,29,0,9,8,0,2,0,26,1,20,12,0,0,4,4,2,15,0,0,5,4,0,10,0,4,3,0,0,3,12,5,0,32,22,3,4,0,0,2,0,3,9,4,4,1,8,10,3,8,22,0,0,1,1,0,4,0,0,22,0,8,0,2,1,0,0,12,11,5,1,0,6,0,2,4,22,2,0,0,0,0,2,0,0,20,0,14,0,0,0,3,23,4,0,0,18,0,12,6,0,14,0,0,4,0,0,1,30,6,1,1,0,1,0,14,11,5,0,1,1,22,12,7,0,5,18,2,10,6,19,0,9,2,1,0,12,2,11,13,4,0,13,9,13,1,0,19,0,24,12,8,6,0,8,0,7,0,14,0,2,0,1,1,22,4,1,0,14,0,11,3,1,8,0,12,12,24,11,31,29,9,4,2,4,1,0,8,0,21,0,22,22,0,4,0,1,0,2,14,0,2,2,1,0,2,0,14,0,11,7,17,5,1,6,9,7,6,0,4,11,9,2,4,10,15,1,2,1,0,0,1,6,4,0,0,0,11,25,0,14,1,0,0,11,0,0,9,0,7,8,1,0,4,15,10,13,7,9,22,14,0,12,17,11,11,0,14,0,0,0,10,0,4,0,14,4,0,0,1,10,1,0,5,9,0,6,0,5,10,0,0,9,5,4,4,5,2,14,0,12,19,2,3,1,0,5,12,9,9,22,4,13,22,0,4,19,1,22,22,2,12,0,13,13,0,2,2,0,4,0,1,2,9,0,8,1,3,2,0,13,1,12,1,4,1,6,11,16,1,12,5,2,0,1,0,6,4,0,12,0,0,1,16,1,0,4,12,1,4,5,1,0,0,0,1,1,0,5,25,0,0,8,11,0,14,0,11,12,27,0,14,0,2,2,6,1,0,32,6,0,0,12,11,4,20,7,1,4,2,0,8,5,5,2,0,1,24,0,3,0,0,19,22,12,11,22,6,22,5,2,0,0,14,8,11,4,0,0,1,34,0,10,24,0,1,9,0,9,3,19,7,1,18,0,0,12,11,0,6,1,10,4,1,30,12,8,4,19,7,0,4,11,19,4,4,7,0,4,9,19,1,1,6,22,0,9,2,0,1,0,14,0,11,5,11,0,7,19,4,0,27,0,0,12,4,0,1,4,10,19,6,0,0,6,0,16,0,0,3,7,4,1,1,4,0,18,13,12,0,15,21,1,12,15,10,4,1,0,1,0,0,14,25,1,4,0,0,4,1,12,2,7,6,0,8,8,0,12,0,0,4,7,9,31,2,14,0,5,2,11,0,0,13,12,0,1,1,31,11,0,0,1,0,8,10,4,4,2,0,31,22,0,0,0,3,19,0,1,12,0,0,0,0,4,0,0,6,13,2,24,16,1,8,1,0,0,24,0,0,4,17,6,0,14,0,0,0,0,0,13,23,4,23,0,9,1,2,12,12,10,22,2,0,0,0,12,0,7,1,12,9,1,0,0,22,0,9,5,11,0,0,12,0,1,5,0,4,0,2,0,0,1,4,5,0,24,0,8,6,0,2,6,2,0,33,1,6,4,2,0,7,9,0,0,0,0,22,0,5,0,4,1,8,0,1,0,12,2,0,17,26,0,4,6,0,0,11,6,22,7,0,24,24,0,0,24,8,15,3,2,23,24,6,0,0,0,0,0,9,10,0,0,0,12,14,14,0,1,0,6,1,6,0,22,2,2,0,0,0,0,4,0,11,11,0,13,0,0,6,10,1,4,2,0,7,13,0,8,2,31,9,0,21,0,5,2,0,0,12,0,0,2,24,0,18,8,0,4,1,0,8,4,22,0,1,19,2,4,0,2,2,0,0,1,1,6,13,12,0,22,11,0,0,4,4,27,22,0,12,0,0,1,4,0,0,0,0,0,2,3,17,0,12,13,5,0,0,22,0,0,1,0,8,0,0,14,0,1,12,1,24,24,0,0,5,3,22,11,9,1,1,5,0,2,13,1,4,12,0,0,14,1,19,6,0,14,0,14,12,10,5,0,0,8,17,18,0,14,0,4,1,8,8,22,22,4,14,0,1,11,12,0,14,11,4,12,20,0,0,0,0,6,11,5,24,6,0,1,1,9,14,14,4,5,45,0,23,0,9,1,0,2,5,4,9,14,11,0,0,0,17,8,4,22,1,11,11,22,0,0,12,22,0,4,0,0,14,2,12,0,0,2,0,1,4,2,1,0,5,0,12,24,6,2,6,8,0,0,4,18,12,4,0,0,8,26,22,0,24,7,11,4,13,1,1,0,18,14,0,0,0,0,0,0,1,0,26,12,6,0,0,24,1,0,9,8,0,0,11,5,0,6,8,4,24,24,0,0,1,6,11,0,0,1,1,12,0,12,0,14,6,1,1,0,11,0,14,2,0,2,12,0,11,9,19,1,2,22,1,11,13,7,11,1,1,6,24,6,10,0,2,10,11,2,1,8,0,8,8,4,0,0,0,6,6,1,0,10,0,0,4,4,1,6,0,2,8,0,12,11,6,0,0,1,4,8,2,0,0,8,5,0,1,2,21,2,0,22,13,14,16,15,1,19,0,17,15,14,4,3,18,0,24,0,22,4,9,0,14,2,21,0,22,12,14,6,9,0,12,1,16,0,14,17,5,5,0,1,6,7,7,0,2,12,0,0,2,0,0,0,1,1,8,0,1,22,16,0,0,1,0,4,0,7,10,2,3,1,4,14,2,22,0,0,0,0,8,0,1,2,24,0,12,0,2,6,2,0,1,0,12,0,1,9,0,11,11,0,0,1,9,4,11,19,15,5,0,10,4,11,0,0,0,22,8,0,4,2,12,0,1,0,0,2,0,0,0,4,8,0,2,24,0,24,4,8,0,22,9,0,0,0,22,4,12,5,0,22,0,2,0,0,12,0,20,2,4,5,1,12,10,0,16,8,2,0,4,4,9,0,8,0,22,4,0,14,4,4,0,4,0,0,0,5,0,1,0,4,9,2,9,0,7,6,0,8,9,1,14,14,3,0,2,0,0,0,2,0,4,0,24,14,4,0,2,4,4,4,12,2,11,14,5,13,6,2,22,22,11,4,0,5,8,2,0,31,1,1,22,0,0,4,22,0,0,11,22,4,12,18,14,14,2,1,11,0,28,6,1,0,2,0,0,0,0,0,1,0,0,21,18,22,0,0,14,8,24,10,13,0,0,0,12,4,4,22,1,0,13,8,0,8,2,8,2,5,12,1,5,12,0,0,1,0,0,23,12,12,14,1,12,22,3,0,4,7,0,14,14,15,4,0,14,0,9,12,0,2,4,0,8,2,19,0,1,22,14,6,0,1,12,9,0,0,4,0,8,0,6,4,0,0,0,0,0,0,4,0,0,0,12,19,1,0,8,0,0,0,0,0,4,2,22,0,22,0,14,11,12,0,11,0,0,1,0,1,14,1,19,24,14,7,0,8,1,7,0,3,0,5,1,0,1,0,0,14,2,4,0,0,0,4,4,3,0,1,12,9,7,10,12,0,10,0,1,0,3,14,7,0,0,4,7,22,1,4,2,12,12,15,2,13,2,8,0,0,8,10,4,22,2,4,0,4,0,1,4,12,10,11,0,14,5,4,0,0,0,6,11,8,0,22,0,2,20,8,24,0,14,7,5,22,0,30,4,20,4,0,9,1,17,0,12,2,12,0,0,0,0,0,4,8,22,4,0,0,0,5,6,4,4,1,5,0,0,11,24,1,16,1,9,0,12,0,0,1,2,11,0,0,0,9,0,6,12,0,5,19,0,9,7,0,0,14,22,1,0,6,12,2,0,10,0,0,0,4,14,16,13,10,0,4,9,0,14,2,5,0,12,12,0,0,22,0,0,0,8,22,8,30,2,7,0,6,1,11,22,4,1,0,6,1,27,0,24,4,1,1,8,2,12,4,0,13,14,0,1,1,15,0,19,22,6,0,24,4,8,0,2,2,0,0,1,0,0,11,0,0,0,7,0,0,0,0,0,0,0,4,0,7,8,0,0,0,5,0,9,0,4,0,7,0,0,0,0,0,0,0,4,0,0,5,0,0,6,7,0,0,16,0,2,0,11,21,0,7,4,8,7,15,4,0,2,20,0,0,19,0,0,6,9,6,0,6,17,14,0,0,0,10,6,0,0,11,0,10,5,10,0,5,4,4,11,0,1,7,0,0,7,0,0,0,7,0,7,0,0,0,0,0,13,0,0,9,10,0,8,4,0,7,0,0,0,2,12,0,0,8,0,0,0,0,0,4,3,0,1,0,0,8,2,12,13,8,22,10,4,0,4,0,1,0,0,0,7,4,0,1,1,0,0,0,0,4,0,0,0,0,0,0,0,0,0,0,6,0,1,8,0,3,3,6,10,6,4,12,0,27,11,24,0,12,4,0,2,0,0,5,2,0,0,0,0,0,0,5,0,0,0,2,0,7,16,1,13,0,0,0,1,0,0,0,0,6,0,0,13,0,0,0,0,4,0,0,0,7,1,0,3,5,0,0,15,9,0,11,0,5,0,0,5,8,0,0,0,0,9,0,9,9,1,0,0,2,6,0,0,0,3,1,5,0,3,0,13,0,0,0,0,0,5,0,19,0,0,6,6,7,2,0,0,22,5,0,3,2,0,0,13,0,0,0,9,0,4,0,4,10,2,0,0,0,0,0,14,0,8,4,0,9,0,0,0,0,7,0,0,4,11,0,0,17,0,0,10,10,5,5,0,2,0,7,7,16,0,0,2,0,0,10,7,4,0,0,5,10,15,0,0,0,12,0,0,0,0,0,0,0,3,0,0,2,0,0,0,0,0,0,3,0,0,9,4,0,1,0,4,0,0,0,0,0,0,0,2,0,1,5,0,0,0,0,5,0,0,0,0,8,22,11,0,5,9,0,0,0,0,0,5,0,0,0,0,0,8,11,13,0,0,1,0,0,0,0,0,4,0,0,0,0,0,0,5,0,10,6,0,0,0,0,0,4,5,8,0,0,0,0,4,8,4,4,0,11,0,7,0,11,3,0,0,0,9,0,8,0,0,0,0,0,1,11,22,0,2,7,0,0,2,0,8,0,0,1,0,0,4,0,0,4,0,0,4,0,0,1,10,22,0,0,5,0,0,4,0,1,0,0,0,0,0,0,7,0,0,0,18,6,5,0,15,19,0,0,0,5,0,0,11,5,6,0,4,2,7,4,0,0,0,0,1,0,0,0,0,0,0,0,0,6,0,7,5,0,0,0,0,0,7,0,0,0,0,0,11,2,7,0,0,2,3,8,5,1,4,0,4,6,2,0,0,6,0,19,0,4,0,12,0,0,12,5,0,1,7,0,6,1,0,2,0,5,9,3,0,2,0,0,7,0,0,0,0,0,3,0,0,7,7,0,0,1,0,0,0,0,0,0,0,0,12,0,0,9,4,4,5,0,2,1,0,0,0,10,0,0,0,2,7,1,6,0,0,0,0,0,0,0,0,0,1,1,0,7,0,0,0,0,0,0,0,1,0,8,14,0,0,0,0,1,0,0,3,0,0,0,0,5,0,0,1,4,0,0,4,22,0,4,0,6,0,0,0,1,0,0,0,9,1,0,10,0,0,7,0,0,7,0,0,0,0,8,0,4,0,4,1,0,0,5,0,0,0,6,16,1,4,8,0,7,0,0,9,0,5,5,0,4,0,0,0,0,0,0,0,10,2,1,0,0,0,6,10,4,4,4,1,3,5,0,0,11,6,5,0,2,4,14,1,20,11,0,1,23,0,4,0,0,6,5,0,0,0,0,2,0,19,0,3,12,0,0,4,0,0,11,6,5,0,3,5,1,0,0,5,5,0,0,5,9,22,0,4,0,4,0,1,6,6,4,0,2,11,4,0,0,3,13,3,5,1,0,8,0,0,12,0,0,5,0,0,1,0,0,0,6,0,1,0,0,0,0,1,0,0,0,4,10,15,0,0,5,2,0,9,8,11,0,0,3,0,0,0,6,0,0,1,0,12,0,7,3,0,6,0,0,10,0,0,6,3,6,0,12,0,5,1,0,0,0,10,0,7,0,0,0,0,3,0,0,0,0,10,0,0,0,0,21,3,0,1,0,11,0,1,1,0,0,0,0,0,4,0,0,8,0,1,0,3,0,0,17,0,0,0,0,5,4,0,0,3,0,0,6,0,16,1,0,0,0,0,0,5,14,11,0,7,0,0,0,2,12,4,0,7,0,0,0,0,3,12,8,0,6,0,0,0,12,0,0,0,17,0,0,5,0,0,0,9,0,19,0,0,13,0,5,0,0,8,0,4,0,7,0,2,4,0,1,0,0,0,0,0,0,19,4,4,17,0,0,0,0,0,0,3,0,2,0,0,1,3,0,12,0,0,0,0,0,0,0,0,0,6,8,0,1,0,4,0,0,0,0,5,0,0,0,2,0,0,0,0,3,0,10,7,3,0,19,0,0,0,0,0,0,0,3,0,12,0,19,0,0,7,0,1,5,11,0,0,3,12,0,0,6,7,4,15,6,0,4,0,0,0,0,0,0,0,0,7,0,0,6,0,0,0,14,0,0,0,0,0,0,0,0,0,0,5,0,5,0,0,0,0,0,0,0,0,1,0,0,0,0,0,0,0,0,6,0,0,0,2,0,0,0,0,0,3,0,6,16,4,6,18,0,0,0,19,6,0,6,0,0,9,0,0,8,3,0,0,0,0,0,8,12,0,0,0,13,7,7,0,0,3,0,17,10,1,3,8,0,0,0,3,0,0,5,4,5,7,18,0,1,0,0,0,0,5,0,0,0,0,0,0,7,1,0,0,0,0,7,9,0,0,0,0,16,0,0,0,0,7,15,0,5,0,0,0,0,0,0,0,0,13,10,3,0,0,0,0,11,0,7,9,0,0,0,6,0,0,0,8,2,0,0,0,0,3,0,11,0,7,0,0,5,0,0,6,0,1,0,0,0,1,1,0,0,0,0,0,7,5,9,0,0,0,0,0,0,0,0,0,0,15,0,0,0,0,21,2,0,0,5,0,1,0,6,0,3,0,0,0,0,5,4,0,6,0,0,2,4,2,0,9,0,0,0,0,0,0,0,0,5,0,0,0,7,9,2,0,0,0,0,1,2,0,0,10,8,3,8,1,1,2,0,0,4,11,12,5,0,0,0,7,2,1,2,0,0,9,22,0,0,6,15,0,0,0,0,4,0,4,0,0,0,0,0,0,8,0,1,5,16,0,0,0,0,0,0,0,0,0,0,22,0,0,11,0,3,4,4,4,0,0,7,0,4,4,0,0,0,0,1,0,0,7,0,4,0,5,1,0,0,0,0,0,0,8,0,0,2,0,0,0,13,11,0,0,0,8,0,0,0,0,11,0,22,0,7,0,8,0,0,0,2,0,16,0,5,0,0,0,5,0,6,0,5,0,0,9,0,0,2,0,0,0,0,0,1,2,0,0,0,19,5,0,0,1,11,0,12,9,0,3,0,0,0,7,22,0,5,0,1,0,2,0,0,0,0,5,0,0,5,4,8,21,8,0,0,0,2,0,0,2,0,4,15,0,0,7,20,0,5,0,0,0,0,0,0,0,0,0,4,0,0,0,0,5,10,6,0,0,0,0,0,0,3,0,4,0,22,0,3,2,0,0,0,4,11,0,0,0,0,15,0,0,0,4,11,0,0,0,0,0,2,4,8,3,4,3,0,0,0,0,0,0,13,0,3,0,0,0,0,0,0,0,0,0,0,0,2,0,0,8,5,0,19,0,4,0,0,0,4,6,0,0,0,0,11,0,5,2,0,0,11,1,0,0,2,4,1,8,0,0,0,0,0,0,0,10,0,0,0,5,0,0,3,0,0,0,9,6,0,0,0,2,0,0,5,4,0,0,0,0,11,0,0,0,4,10,0,0,11,0,8,0,6,0,0,0,22,0,0,18,0,0,0,2,4,0,0,0,0,0,0,11,0,0,0,5,16,0,0,0,1,2,1,3,0,0,0,0,9,0,0,22,0,1,0,4,0,0,3,0,0,5,0,0,2,3,6,0,0,1,0,0,1,0,0,0,0,5,1,0,0,12,0,0,0,1,0,0,0,0,0,0,10,11,0,0,0,0,4,0,2,0,0,4,0,4,0,8,16,19,0,0,0,3,0,0,0,0,0,1,0,0,0,0,0,0,3,0,0,0,5,0,0,5,0,15,0,0,15,1,0,4,0,0,0,11,0,6,5,10,1,0,0,0,0,5,0,12,4,0,9,0,0,0,0,0,22,7,0,0,0,0,3,0,8,2,9,0,0,0,12,0,4,0,0,0,5,6,9,10,0,12,0,0,0,0,1,0,0,14,0,5,6,0,0,0,9,0,21,19,0,0,0,0,9,3,0,0,1,4,0,0,10,1,0,0,0,9,0,8,0,1,5,0,0,16,10,0,0,0,0,0,8,6,5,14,0,0,0,0,0,3,0,2,0,0,4,4,0,0,0,7,11,0,0,5,17,0,10,0,4,7,0,0,0,0,0,0,2,5,1,0,2,19,0,0,1,3,0,9,0,1,3,0,1,0,16,0,0,0,0,0,15,0,0,7,4,2,18,0,5,0,0,0,0,0,11,0,3,0,8,4,12,14,0,0,0,0,0,0,0,0,10,7,0,0,2,0,1,0,8,0,1,0,0,4,14,1,0,0,8,0,14,0,10,6,4,4,0,0,9,0,0,0,0,17,0,0,0,0,7,1,0,9,0,5,4,0,0,0,0,0,4,0,0,0,0,0,0,0,0,0,0,5,0,0,0,3,0,0,0,1,9,4,0,0,0,0,0,0,0,0,8,0,7,6,0,4,0,0,0,0,0,6,0,0,0,0,0,0,0,5,0,0,0,0,0,0,9,0,0,5,8,13,3,0,0,8,2,0,0,0,0,0,0,0,1,4,0,6,0,0,9,8,0,0,0,0,0,6,0,0,19,2,0,5,0,0,5,0,15,0,0,1,6,0,0,0,2,0,0,0,13,0,3,0,7,0,0,0,4,0,0,11,5,7,5,0,0,0,1,0,2,0,9,0,0,0,0,16,1,6,6,0,0,3,0,0,4,0,0,0,0,0,10,0,0,0,0,0,4,0,0,0,0,5,0,0,4,0,0,0,0,0,5,2,1,0,0,18,0,0,0,0,5,9,5,0,10,17,0,4,0,0,0,0,5,0,4,0,0,0,0,0,18,5,6,0,0,2,1,0,2,15,0,10,0,1,4,0,0,0,3,4,4,0,0,0,13,4,0,0,5,0,12,3,0,0,0,0,9,9,8,8,3,5,0,4,0,0,0,0,18,8,0,0,2,0,14,0,0,14,0,0,0,0,0,0,0,0,6,0,0,4,0,0,0,0,1,0,0,0,0,0,2,2,0,6,0,12,3,10,8,6,0,0,6,0,1,2,8,10,2,0,8,0,0,0,0,9,0,0,0,0,4,0,0,0,0,1,0,5,19,0,0,0,14,0,0,0,0,0,5,0,4,0,0,0,0,14,5,1,0,5,0,0,0,0,1,0,0,0,0,0,0,0,0,0,0,0,0,3,2,8,15,0,0,6,0,13,0,2,0,0,0,0,2,12,0,0,0,0,0,12,7,6,0,0,7,5,12,8,0,15,0,0,1,5,0,0,0,0,0,1,6,0,4,0,9,0,0,0,2,0,10,7,0,0,1,0,0,0,0,0,0,0,0,4,3,5,7,0,0,19,5,0,0,9,0,5,2,25,0,0,0,7,0,13,0,6,0,1,0,1,1,0,7,2,0,0,0,9,0,0,6,0,0,0,3,2,0,0,1,0,0,2,0,1,0,0,0,4,0,0,7,5,0,0,1,0,3,0,8,0,6,0,13,0,0,14,0,0,6,0,17,0,0,0,3,0,0,0,9,10,15,0,0,0,0,0,0,0,0,0,0,1,0,0,0,0,0,2,0,0,0,13,0,18,0,0,0,0,0,12,5,0,0,0,0,0,0,0,0,15,0,0,1,1,4,0,4,0,3,0,0,1,0,0,7,0,2,0,0,3,0,4,0,0,10,0,0,20,0,0,0,0,15,0,10,0,0,8,0,16,10,0,0,0,0,0,0,5,5,0,0,0,4,0,5,4,6,0,0,0,0,0,6,0,0,6,0,0,1,2,6,6,0,0,25,0,6,2,0,0,4,17,0,1,6,4,14,0,0,0,0,0,5,0,4,0,0,7,2,0,0,22,2,0,0,3,0,0,0,0,5,0,9,1,0,4,0,0,0,0,0,1,1,0,0,13,0,4,0,4,0,7,9,0,0,12,11,8,0,3,5,0,9,10,0,7,0,0,10,0,0,12,0,5,5,0,1,0,0,0,0,0,4,0,4,0,6,0,0,0,6,0,0,0,11,9,5,0,6,0,5,8,0,10,0,0,1,0,0,4,12,0,0,2,24,0,0,11,1,4,14,0,3,0,22,0,0,0,0,9,0,0,15,13,0,0,0,0,11,11,7,0,7,0,0,5,0,0,0,0,3,0,5,0,0,0,0,0,0,0,11,4,12,22,0,0,2,0,3,0,5,0,0,2,0,0,0,0,0,0,0,0,2,0,3,0,0,0,0,1,1,0,8,0,0,0,0,0,0,0,3,7,11,0,0,0,0,5,0,0,0,7,3,6,0,0,0,0,0,0,0,0,0,0,4,1,6,3,5,12,12,0,0,0,0,9,3,8,3,3,0,2,0,10,0,7,7,0,4,0,0,0,0,0,0,0,0,0,0,0,1,16,4,0,0,1,17,15,0,0,12,3,0,5,5,12,0,0,0,2,9,0,0,1,0,0,6,0,8,1,1,0,12,0,0,5,0,2,5,7,0,0,0,0,0,6,3,0,0,0,0,16,0,1,4,0,0,10,4,7,0,0,0,2,3,0,4,0,0,0,3,5,0,0,4,2,5,0,0,0,0,0,0,0,2,0,1,9,0,9,0,0,0,5,1,0,11,0,10,5,0,2,0,0,0,0,15,0,0,14,6,4,0,0,12,0,0,4,0,0,0,0,0,0,0,2,10,0,5,0,0,11,0,0,0,12,0,10,0,8,5,14,6,8,0,0,11,0,0,0,19,7,0,1,0,0,0,0,0,0,0,1,0,0,0,9,0,0,0,1,0,2,0,9,6,0,0,0,0,0,22,6,0,0,0,0,0,0,5,5,0,7,3,11,8,1,0,2,0,12,3,0,0,6,5,0,0,0,5,0,0,0,0,0,0,0,0,1,1,0,0,3,0,12,0,0,0,4,9,0,0,0,0,0,0,0,0,4,13,0,0,0,6,0,15,5,0,0,0,0,0,0,0,0,0,0,12,3,0,9,4,0,0,0,2,8,0,0,1,0,1,0,3,1,10,0,0,8,0,1,7,13,1,0,0,0,1,0,0,0,0,0,0,0,2,5,2,0,0,0,0,0,0,0,0,0,7,0,12,0,11,1,2,0,0,0,0,0,0,12,1,0,0,1,0,0,0,0,0,0,0,0,0,7,0,5,0,7,5,0,7,0,0,6,0,5,0,2,1,11,0,0,0,1,5,5,1,4,0,0,0,0,0,0,0,0,0,0,0,0,0,10,4,2,0,2,0,0,2,0,7,10,1,10,0,0,0,0,0,0,0,4,0,0,7,0,1,11,0,0,0,0,0,6,0,0,0,0,1,0,0,5,0,1,0,0,0,0,7,14,16,2,0,4,2,0,13,0,0,6,0,0,0,6,7,0,0,14,3,3,0,0,2,17,0,0,2,0,0,0,0,5,1,0,0,0,0,0,0,0,4,0,0,0,0,3,8,0,0,0,0,0,15,0,0,0,6,0,4,7,18,8,0,0,0,0,2,5,0,0,0,0,0,0,3,0,0,0,0,0,4,0,0,0,7,0,4,10,0,1,0,1,0,0,0,9,0,4,2,0,8,0,19,0,0,0,10,0,0,0,0,0,0,0,0,0,1,2,0,8,0,6,0,2,0,0,22,0,22,8,6,0,0,0,0,3,5,0,0,4,0,6,0,0,0,6,0,4,0,0,6,13,0,3,0,0,18,0,0,9,0,0,0,0,6,0,2,0,2,9,0,13,0,0,0,13,1,0,0,12,3,8,0,4,0,4,0,0,0,2,0,2,1,0,0,0,2,4,0,1,3,6,0,0,8,0,0,0,5,0,0,0,11,0,0,0,4,0,1,0,10,4,2,0,1,4,0,0,0,0,0,0,0,0,0,0,7,0,0,5,0,6,0,0,7,0,0,0,0,0,14,0,0,10,0,5,0,0,0,0,14,14,0,3,0,0,4,0,0,9,7,6,7,0,0,0,0,0,8,9,0,3,0,0,4,4,0,1,0,0,0,0,0,0,0,1,0,0,0,8,4,18,0,8,12,1,0,0,1,0,3,5,0,0,12,7,5,0,5,0,0,0,14,9,0,0,0,8,8,4,3,0,0,0,0,0,0,0,0,0,0,0,9,0,0,0,0,0,0,2,0,1,0,0,0,0,1,0,0,0,0,0,0,0,0,1,0,14,0,0,0,0,0,0,0,0,0,0,0,0,4,5,1,0,0,0,0,0,0,0,1,2,0,0,9,0,0,0,0,4,0,0,0,0,12,0,0,0,0,0,0,21,1,8,0,0,7,0,0,13,14,0,1,0,1,0,0,0,0,0,5,0,0,14,5,4,0,1,16,0,0,0,0,5,0,6,0,0,0,4,10,0,13,7,13,0,0,1,0,0,0,5,0,1,0,0,8,0,0,0,0,0,0,10,0,0,0,0,0,3,0,0,0,12,0,0,0,2,0,1,0,5,10,9,4,0,7,0,7,5,6,10,0,0,0,0,0,1,0,9,2,0,4,2,0,0,0,0,0,4,0,2,0,0,0,0,10,9,0,5,0,0,0,5,0,0,0,0,0,0,5,0,3,0,0,0,3,0,0,0,0,0,0,4,5,0,0,0,11,0,17,0,13,0,0,0,0,0,0,0,8,0,0,4,0,3,4,10,0,0,0,0,0,0,0,1,0,0,0,3,0,0,7,0,5,1,0,0,0,0,7,0,0,0,9,0,0,0,0,15,1,0,0,0,0,0,1,2,4,0,0,7,0,0,0,0,5,2,6,0,0,0,13,0,0,0,1,0,7,0,5,0,0,6,3,1,0,0,7,0,12,0,4,4,0,0,0,0,2,15,0,5,0,0,0,2,0,0,0,0,0,6,13,0,0,14,0,0,0,0,5,0,3,0,0,0,1,0,0,3,0,0,0,10,12,0,0,0,0,1,0,0,0,0,10,0,14,0,0,26,8,7,5,0,0,2,0,0,8,0,0,0,0,9,0,2,8,0,0,0,5,0,5,21,0,0,0,7,0,1,0,5,4,13,0,1,0,7,4,0,0,0,7,0,0,0,0,0,0,8,0,0,0,6,0,0,0,0,7,18,0,0,4,0,11,0,0,3,0,0,0,5,15,0,4,0,1,0,3,0,5,2,0,1,11,0,0,0,0,19,5,9,5,0,0,0,0,0,1,5,19,18,23,0,0,1,5,0,1,0,13,11,5,2,5,0,0,0,0,0,0,0,0,1,0,0,0,6,4,0,0,0,1,5,0,0,0,5,0,0,0,0,10,0,5,13,9,1,5,0,15,0,0,6,0,12,0,5,11,0,11,0,7,1,0,4,0,0,8,0,0,6,0,2,13,0,0,7,9,0,4,8,0,0,6,1,6,0,0,0,22,0,3,0,0,0,5,0,0,0,3,2,0,4,6,4,0,0,0,2,0,8,8,0,0,0,7,3,0,12,0,0,9,0,7,0,0,6,0,3,0,0,0,0,22,12,12,0,2,0,3,5,1,4,0,0,16,2,9,0,0,5,0,9,0,6,6,1,0,0,0,0,0,4,0,0,0,6,0,0,0,0,0,0,0,0,0,13,0,5,5,0,6,8,0,0,1,0,0,14,5,0,0,0,0,0,0,0,0,4,0,14,0,0,0,0,1,0,8,0,8,4,0,5,3,7,0,0,0,7,5,1,4,0,0,0,0,0,8,0,13,0,0,0,7,0,2,0,0,0,0,6,8,0,0,0,4,10,0,7,6,0,0,0,0,0,1,4,2,2,0,0,7,0,17,6,0,8,0,7,0,2,0,0,4,5,0,0,0,3,0,1,2,1,0,0,0,0,0,0,4,0,12,0,0,6,9,0,0,0,0,16,0,0,0,0,0,0,13,10,2,7,7,1,0,3,0,2,0,0,0,0,0,0,0,0,5,0,0,0,1,0,0,0,0,0,0,0,0,0,0,5,0,0,1,2,0,0,0,0,0,5,8,0,0,0,12,0,5,0,0,12,0,0,7,3,8,0,19,0,0,0,0,0,0,0,5,0,0,0,0,2,0,0,4,5,2,0,8,0,0,0,0,7,0,9,0,0,0,11,0,0,11,0,6,22,5,0,0,5,0,22,0,4,4,0,7,0,0,1,1,0,0,0,0,9,7,0,13,0,5,0,5,0,0,0,11,0,0,10,0,0,22,0,0,0,0,11,12,6,0,4,0,9,0,0,0,0,0,0,0,0,0,3,0,1,0,0,0,0,0,2,9,3,4,10,5,0,0,0,5,7,0,0,5,9,0,0,8,7,0,0,12,0,0,9,14,0,2,2,1,0,0,0,0,0,0,0,0,0,0,0,0,0,0,0,5,0,0,0,0,0,0,1,0,0,7,0,0,1,0,0,0,0,0,5,2,6,1,2,0,0,0,1,0,0,0,6,0,5,0,5,0,0,5,0,0,0,10,3,0,0,0,14,13,2,0,9,0,4,0,0,7,0,0,4,0,0,8,0,4,0,5,10,7,0,0,2,4,0,0,0,2,1,5,0,0,0,17,6,0,0,4,1,5,8,0,8,0,0,0,0,0,11,0,3,5,0,0,0,0,16,3,10,4,2,0,0,0,0,0,0,0,0,0,21,0,0,0,8,10,0,4,0,0,3,0,0,0,0,0,9,0,1,0,0,1,1,12,8,3,0,2,6,0,0,0,0,5,7,24,5,0,0,1,0,3,6,0,12,0,0,0,0,0,4,0,0,1,0,8,0,17,8,0,0,0,0,9,4,4,8,0,0,0,0,5,8,11,0,0,11,0,0,0,5,0,14,18,14,0,0,0,3,0,0,1,4,0,0,0,2,5,0,0,7,0,0,8,0,3,0,5,0,4,2,1,0,8,0,0,8,0,0,0,5,5,2,5,0,4,0,0,0,10,0,3,25,0,0,10],\"y\":[6,5,6,7,7,8,5,8,4,7,7,4,6,8,3,5,3,1,5,3,3,4,5,8,3,3,6,8,4,4,5,5,6,4,5,4,3,3,4,3,5,5,5,4,5,2,7,5,4,3,4,5,5,5,5,5,8,8,7,4,3,5,3,7,5,10,3,6,4,3,3,7,5,5,5,6,5,4,8,5,8,4,8,5,5,6,5,5,8,4,5,5,4,8,3,4,5,6,6,5,4,5,4,4,7,4,8,8,5,8,5,5,3,5,5,6,2,5,5,3,5,5,4,8,5,3,8,10,7,3,4,5,6,10,3,3,5,3,4,5,5,3,8,6,3,3,7,5,6,3,5,7,7,6,5,6,5,5,7,5,5,5,6,8,5,2,5,4,5,10,6,8,5,8,2,5,4,7,5,3,5,5,4,5,11,7,4,4,6,5,8,5,5,3,5,10,5,4,8,3,4,5,5,8,3,3,3,5,5,5,5,3,7,3,8,7,5,8,4,5,5,5,2,5,5,5,5,5,2,4,6,5,5,5,3,5,6,8,5,6,5,7,5,6,2,3,5,3,5,2,5,3,8,5,5,8,8,5,5,5,7,8,8,8,5,3,6,3,5,3,8,5,6,3,5,8,4,5,5,4,3,8,3,5,7,5,6,7,11,6,7,3,1,3,5,5,5,7,5,6,3,5,8,5,5,3,3,5,5,6,5,7,3,4,5,5,5,5,3,4,5,5,8,8,8,5,3,3,5,7,7,8,3,5,5,4,3,5,5,3,3,4,7,7,8,7,3,5,5,7,7,6,5,3,6,5,5,5,3,4,3,5,2,8,3,6,7,2,5,4,4,3,5,5,5,4,5,5,4,6,3,5,5,5,5,5,7,7,3,3,5,5,5,2,5,5,3,7,7,4,6,5,6,5,7,3,4,5,5,5,3,5,5,3,5,5,6,3,5,5,8,5,6,13,3,4,4,7,5,3,5,4,5,4,5,5,5,5,4,12,11,7,8,2,5,5,3,5,7,1,5,8,5,7,4,5,5,7,8,9,6,4,18,4,4,5,5,3,7,3,6,7,3,3,4,5,3,7,5,4,5,5,8,5,5,3,5,8,7,7,4,5,9,3,4,5,5,3,5,8,8,5,5,2,4,5,5,5,5,5,3,7,8,4,5,8,4,4,5,6,5,2,5,7,5,5,7,8,4,7,5,6,5,3,6,6,6,5,5,3,5,5,4,3,5,3,5,4,5,8,5,7,8,4,6,7,5,8,3,4,7,8,5,8,3,3,3,6,7,8,3,5,5,7,5,3,5,8,4,5,3,4,5,4,6,3,5,13,5,3,3,5,3,3,6,5,4,4,5,4,4,3,2,5,7,5,3,5,3,3,8,4,8,6,3,5,5,5,5,4,3,2,5,5,7,3,5,3,3,5,3,6,3,6,8,8,5,3,5,5,7,3,7,5,3,5,6,3,1,3,3,8,3,5,5,5,4,8,3,5,5,7,4,7,3,6,8,3,5,7,5,4,7,5,3,5,7,5,8,3,6,8,3,5,8,3,5,5,4,5,5,5,5,3,5,7,6,5,5,4,2,8,6,3,4,5,5,5,8,7,5,6,7,5,4,5,3,4,2,3,6,4,5,5,1,5,2,3,2,3,8,3,6,5,5,4,4,8,5,5,3,7,5,5,3,7,7,8,3,5,5,5,8,5,7,8,6,5,6,3,3,7,6,8,4,5,6,8,7,4,5,5,6,4,18,8,3,8,4,2,6,5,5,8,5,5,6,3,5,5,7,8,5,10,5,5,2,5,5,3,3,6,6,4,5,3,7,5,5,5,4,4,3,5,8,3,4,3,5,4,5,5,4,4,5,8,5,5,3,5,4,6,5,6,5,5,7,5,8,4,4,3,5,7,5,6,3,3,3,6,7,5,3,3,5,7,3,6,4,8,7,8,6,5,6,7,5,3,5,5,8,8,4,7,5,8,3,4,3,5,7,3,6,5,5,5,8,6,4,5,5,5,5,5,5,8,5,8,5,4,4,2,3,7,3,2,5,5,8,7,3,4,5,5,7,5,6,4,5,4,4,3,3,3,6,8,3,2,4,3,5,3,5,5,7,8,4,6,6,4,5,4,5,5,8,8,5,4,5,4,6,3,5,5,5,10,2,7,5,4,3,8,4,3,4,3,6,7,3,4,1,8,5,5,2,3,4,3,5,5,8,3,5,3,7,5,5,5,6,3,8,8,7,4,5,3,3,5,2,5,4,4,6,2,3,5,5,3,5,4,5,6,9,3,5,3,3,4,3,8,5,5,5,3,3,7,8,5,11,10,4,8,3,5,3,6,5,7,6,8,4,5,5,5,4,8,8,5,5,8,6,8,5,5,5,3,2,3,5,4,3,8,8,8,3,5,5,3,3,3,5,4,3,7,8,8,4,5,8,5,5,4,5,2,6,5,5,8,4,5,1,7,3,9,8,3,7,5,5,7,5,3,5,6,7,5,6,5,6,8,2,4,3,5,3,8,8,5,7,19,8,5,2,7,3,3,3,6,5,5,5,5,5,4,3,3,7,6,5,3,4,8,3,3,11,6,3,3,4,5,5,5,5,5,4,8,5,4,5,4,7,3,8,8,2,7,3,3,5,6,5,6,8,3,5,2,5,10,4,4,5,5,5,5,5,5,5,5,3,7,2,5,8,3,5,5,5,3,4,4,3,5,3,5,3,5,8,5,3,4,3,8,5,6,5,9,6,5,4,6,8,4,5,4,5,3,7,4,3,8,4,5,3,3,5,2,7,3,8,6,7,5,6,3,5,7,7,8,4,5,5,7,8,4,5,5,8,5,4,6,3,5,4,4,6,5,5,7,3,3,7,6,3,5,4,7,3,4,5,8,3,8,5,5,8,4,6,3,5,8,5,5,4,7,3,6,3,7,8,4,9,5,3,4,3,5,3,8,5,4,5,4,4,4,4,8,6,8,4,7,3,4,4,5,5,3,4,7,4,5,8,5,6,8,4,6,4,3,7,5,4,5,9,5,4,7,5,5,4,6,8,3,11,8,6,5,4,5,8,8,3,3,8,5,6,8,7,7,8,3,8,5,5,6,7,3,8,3,3,8,5,5,4,3,5,5,5,5,4,1,8,5,3,3,6,6,3,5,3,3,3,5,5,5,6,10,8,5,4,5,3,5,3,3,8,5,1,7,5,4,3,4,3,5,5,5,5,6,5,7,7,5,3,4,5,5,6,5,3,4,8,3,5,3,7,4,5,3,7,4,5,4,5,3,7,5,5,4,2,3,5,5,5,3,7,3,3,7,5,4,8,5,8,6,4,5,3,5,5,6,6,5,8,4,5,5,5,7,4,8,8,5,5,5,3,5,5,4,3,3,4,5,9,7,6,7,3,3,5,7,8,8,3,4,5,8,8,7,5,5,3,5,3,4,6,2,4,8,5,8,4,5,7,5,8,5,5,8,5,8,2,5,5,3,3,5,3,5,8,6,5,4,5,3,7,5,7,7,4,8,7,4,3,4,4,6,5,5,5,4,7,6,3,2,5,7,3,4,4,3,3,5,5,8,3,11,5,3,4,3,5,8,7,5,5,5,3,3,8,5,8,5,3,4,6,4,5,3,8,3,5,5,6,7,3,8,3,7,5,4,3,6,8,3,5,3,5,5,2,5,4,8,4,5,8,5,6,3,10,10,5,8,5,3,8,5,5,8,4,4,4,5,6,5,2,5,1,10,6,5,5,5,7,6,8,3,5,6,7,5,7,5,3,7,5,4,1,5,7,4,4,4,4,4,5,5,7,4,7,5,6,9,6,4,4,5,5,5,6,2,5,5,5,5,7,7,5,4,5,7,8,3,3,5,6,4,5,4,9,3,5,7,3,4,4,3,5,7,5,8,5,5,3,7,5,2,8,4,3,7,4,3,10,11,3,5,13,5,5,10,2,4,4,3,5,7,9,8,3,3,5,5,3,5,8,5,3,5,6,5,5,5,7,7,5,5,8,3,6,5,7,5,4,7,8,8,5,4,5,5,8,3,5,5,5,4,7,3,5,2,3,5,3,5,3,5,4,3,5,7,5,5,5,2,8,7,7,7,3,5,4,3,5,7,4,6,5,5,8,11,6,8,6,5,4,4,5,5,8,5,5,3,8,3,6,3,3,8,9,5,6,5,3,5,4,3,8,5,5,3,3,5,7,3,5,5,4,7,4,5,4,5,7,4,5,4,4,8,5,5,3,5,3,4,5,8,3,4,7,7,5,3,5,5,4,5,7,3,5,5,4,5,5,5,5,3,4,4,2,5,4,5,5,2,5,4,3,5,3,3,3,4,5,4,5,5,5,3,3,4,5,6,5,8,5,7,5,7,7,8,5,5,5,7,11,12,5,8,11,3,4,8,7,4,5,5,3,5,4,5,5,5,7,4,4,3,4,5,5,5,9,8,3,8,7,8,8,5,7,8,5,5,7,5,5,5,3,7,3,6,6,6,5,6,3,7,5,4,3,5,5,5,7,7,6,6,6,6,3,5,3,5,5,4,7,6,6,3,5,7,3,4,5,3,7,6,5,3,4,7,8,5,7,5,5,7,5,5,5,7,4,5,5,10,4,8,7,7,5,3,8,3,5,5,6,3,5,5,5,6,5,5,3,5,5,3,4,6,7,5,5,3,4,4,5,7,3,7,10,5,6,4,5,4,3,5,12,3,4,5,7,8,5,7,6,7,5,5,11,6,5,5,5,6,8,5,4,5,4,5,3,4,5,2,7,3,5,3,9,3,4,8,5,3,7,8,6,5,8,5,4,8,6,6,2,8,5,8,8,5,3,4,7,5,3,4,3,4,8,7,3,8,5,4,5,4,5,7,6,3,8,4,4,2,5,4,5,5,4,6,6,3,4,5,6,5,7,5,3,5,6,5,5,4,3,3,5,3,5,5,6,7,5,7,5,4,5,5,5,5,5,2,2,3,8,4,5,3,5,5,5,4,5,5,4,7,5,3,6,5,5,5,5,3,7,5,5,5,5,3,9,4,3,4,6,5,3,2,8,5,5,3,5,5,5,3,7,5,3,8,6,9,4,5,5,5,3,7,7,4,4,5,3,4,8,4,4,7,4,5,5,5,7,5,4,3,5,5,9,6,10,3,5,5,5,5,7,3,6,5,3,5,8,3,5,3,7,4,8,3,5,4,5,5,8,6,3,5,13,4,8,4,7,5,5,2,5,7,5,5,4,5,5,5,5,5,5,5,3,7,5,3,3,11,3,5,5,8,7,7,8,8,5,5,5,5,7,4,6,5,4,6,3,5,5,6,6,5,5,5,5,3,7,3,7,5,3,5,3,6,9,7,7,5,4,3,4,3,5,5,3,3,3,5,2,7,7,4,3,5,8,3,7,5,3,5,2,4,3,10,4,5,3,14,7,3,3,3,5,3,6,4,3,9,5,4,5,2,7,3,3,3,5,7,5,7,10,8,5,5,7,7,5,8,5,7,5,5,6,4,5,5,5,3,5,5,5,3,3,3,4,4,8,5,6,4,5,7,3,9,4,4,5,3,5,8,5,5,5,8,5,5,5,3,3,5,5,5,5,7,5,2,3,3,4,5,7,5,5,6,5,3,7,3,5,8,8,3,7,3,3,5,5,4,5,6,3,5,3,5,8,9,3,4,5,4,8,6,5,5,5,6,3,5,5,6,3,5,5,6,8,3,3,3,5,3,6,6,7,7,5,5,4,4,8,7,3,5,8,5,5,5,8,3,5,3,5,3,5,4,4,4,5,8,4,3,1,5,3,3,5,3,5,6,3,3,3,5,4,8,5,5,3,6,5,7,5,4,8,4,4,8,7,4,3,5,2,4,7,5,5,4,5,5,5,5,5,3,7,5,5,7,4,5,4,4,6,4,5,3,5,6,4,6,3,8,5,5,5,5,5,6,5,6,3,5,4,3,5,8,2,5,6,4,2,4,5,7,4,5,5,5,5,5,5,5,7,3,10,5,5,5,8,5,6,5,7,5,4,3,5,8,5,3,6,12,4,4,4,12,7,5,5,5,3,8,7,5,5,4,7,3,3,10,4,6,4,3,5,5,4,10,3,3,8,5,7,5,3,6,8,3,4,3,6,8,5,4,5,5,4,2,3,7,21,8,3,3,3,8,12,4,3,3,5,5,8,5,5,6,5,3,5,2,4,5,5,5,5,5,8,5,5,8,8,5,7,7,8,5,9,8,4,4,3,5,6,5,5,4,7,3,8,5,7,5,5,3,5,5,6,7,3,7,5,5,5,5,5,3,3,5,3,5,8,6,2,5,4,3,5,4,5,10,4,3,5,5,8,8,4,5,7,5,5,2,6,5,3,8,5,5,4,5,4,4,7,7,4,5,5,2,4,3,4,5,5,5,8,7,5,5,6,5,3,4,3,8,8,2,8,5,3,5,5,3,7,8,5,6,4,3,5,5,5,5,5,5,5,8,3,5,4,10,6,5,6,5,7,8,5,7,3,3,6,6,8,2,5,7,7,6,8,2,3,3,5,4,3,5,8,5,5,5,6,5,4,5,5,5,8,4,6,2,8,8,3,3,3,8,5,8,5,9,5,8,9,5,7,3,3,5,3,7,4,6,8,4,5,3,5,3,8,3,3,3,5,5,3,5,3,5,5,1,3,8,8,8,5,5,3,5,3,5,3,5,8,2,7,3,6,7,5,5,4,4,5,3,5,6,5,5,3,5,4,3,5,3,5,4,3,4,5,6,7,8,8,5,5,8,4,3,10,5,7,5,5,4,5,5,7,5,3,3,2,3,4,12,5,3,3,8,3,5,7,7,4,8,6,3,5,8,3,4,9,8,6,4,5,5,7,3,2,5,8,5,4,8,3,5,4,5,5,3,3,6,8,4,9,5,4,4,8,3,3,5,5,6,5,3,5,3,7,4,5,7,5,5,5,5,3,5,4,4,5,3,5,3,5,3,7,3,8,7,4,5,5,2,5,5,5,5,5,3,3,3,7,8,5,3,3,7,3,3,5,4,7,3,3,5,4,4,5,5,3,4,8,5,3,3,5,6,5,7,7,3,6,3,5,7,8,5,5,2,8,6,8,5,3,4,8,5,5,2,4,5,5,4,5,5,5,3,5,5,7,8,4,8,3,3,5,3,4,5,3,3,4,5,5,4,5,8,4,5,5,7,4,5,5,3,5,6,5,4,7,4,5,3,5,5,5,3,8,8,3,3,7,3,3,5,5,5,5,5,3,5,6,5,5,3,5,8,5,8,5,5,8,3,7,4,8,6,8,3,5,10,3,5,4,4,3,5,5,3,5,5,4,5,4,8,5,8,5,3,3,5,6,5,5,7,4,6,9,5,8,7,8,3,5,3,4,5,7,4,5,3,5,5,5,4,3,2,3,2,10,8,5,4,5,5,5,4,5,5,8,7,5,5,8,2,8,7,8,10,5,5,8,6,5,8,3,5,5,9,5,6,5,3,5,5,5,3,4,8,6,7,8,7,4,13,5,5,5,8,5,3,4,5,5,7,5,3,5,5,5,5,2,4,8,4,3,5,5,5,8,7,6,3,8,5,3,5,6,5,7,5,2,7,8,6,4,4,7,5,9,5,7,7,5,5,10,5,3,5,5,8,8,6,4,7,8,3,3,3,5,6,7,6,5,8,8,5,3,7,3,6,6,5,6,3,5,4,4,3,5,4,4,4,7,5,2,3,6,6,5,5,5,4,6,5,7,5,3,5,8,7,5,5,7,3,3,5,4,3,5,6,5,7,5,5,5,6,8,7,5,2,5,3,5,5,5,6,8,5,5,7,3,5,3,8,5,3,5,3,5,5,5,3,6,5,8,4,4,4,6,4,5,3,7,5,10,3,5,3,5,3,7,8,3,3,5,3,5,5,3,5,5,3,5,4,7,5,7,5,12,4,5,3,8,7,5,7,3,5,32,4,2,3,3,5,5,6,3,6,5,4,5,5,4,9,5,5,5,4,6,4,5,5,5,3,8,4,8,7,2,4,4,4,4,5,3,8,8,8,6,5,5,5,5,7,5,5,5,5,4,3,5,6,5,5,5,2,5,4,6,3,3,3,3,3,6,4,6,5,5,7,5,11,3,8,3,8,7,3,12,6,7,5,5,8,5,7,3,4,4,5,4,5,5,5,8,2,7,6,3,8,7,8,5,4,3,7,7,3,5,6,5,5,3,6,3,6,5,5,7,7,5,5,5,7,8,8,8,7,3,3,5,8,6,3,5,3,8,5,5,2,3,5,8,5,7,4,3,5,3,4,8,5,5,3,7,5,8,5,3,5,5,7,4,5,5,3,12,4,5,8,5,5,8,5,5,6,3,8,5,6,3,8,5,7,5,8,7,5,3,4,5,5,7,3,4,5,6,8,6,7,9,3,5,13,3,3,8,3,7,8,5,2,5,5,4,8,4,3,7,5,5,3,10,5,8,4,4,8,3,3,3,5,2,4,5,6,8,5,3,4,12,8,5,5,3,4,5,3,5,4,5,5,3,5,5,3,8,5,6,3,8,5,7,4,3,8,5,4,5,5,5,7,3,3,5,6,7,4,3,5,5,5,5,5,4,5,5,5,5,4,5,4,5,5,8,5,8,5,3,3,3,8,6,3,4,2,2,3,5,3,3,5,6,4,7,8,5,5,7,8,5,10,5,8,5,4,7,8,4,3,5,5,5,5,7,5,6,5,4,5,5,5,5,5,8,7,5,5,5,4,5,3,8,5,2,4,5,4,8,5,4,5,8,3,5,4,5,6,3,4,5,4,5,5,5,5,4,5,8,4,3,3,4,5,12,3,5,6,5,7,8,2,3,7,5,5,7,5,4,6,5,2,4,8,6,7,7,5,8,14,5,5,7,5,3,6,3,8,6,5,5,5,3,3,6,3,3,6,8,5,5,3,5,3,2,1,3,4,5,7,5,4,7,7,5,3,4,6,5,7,4,4,5,5,8,3,8,8,7,4,4,5,5,6,5,3,4,2,9,4,5,5,5,5,4,3,5,3,5,8,5,3,7,5,4,8,3,7,3,3,3,3,4,12,4,5,3,5,4,6,5,5,4,2,3,6,5,3,3,12,7,5,8,5,3,7,5,5,4,3,8,5,6,5,7,7,5,7,5,5,5,7,19,3,6,8,5,5,3,5,4,2,3,3,7,7,3,6,4,4,6,5,5,2,2,7,5,7,6,3,5,8,5,3,5,9,7,2,3,3,8,3,3,9,5,5,4,4,1,5,5,4,5,5,3,8,4,5,5,5,3,5,12,6,8,4,4,6,7,7,10,5,3,7,3,5,4,5,8,5,5,5,3,3,8,8,6,4,7,5,3,3,5,3,8,3,5,7,5,2,7,5,8,8,8,5,6,5,14,5,5,5,3,8,7,5,3,6,5,5,5,3,8,8,3,4,9,2,5,8,5,2,2,5,5,5,3,5,5,4,5,4,4,3,4,8,5,5,4,4,5,3,3,4,5,5,5,5,4,3,6,5,6,5,5,8,5,5,8,4,5,4,4,4,5,5,3,6,8,4,3,5,5,5,5,5,8,6,5,5,4,5,8,3,5,3,3,3,4,5,5,8,5,3,8,6,4,3,5,4,5,5,5,8,8,5,5,8,5,3,6,7,8,3,5,4,3,7,3,3,6,8,4,5,5,7,5,5,4,6,8,8,7,11,4,5,5,2,5,8,6,5,5,3,7,10,4,17,3,7,9,4,5,8,1,8,4,5,5,8,5,5,3,4,4,4,4,3,8,5,3,3,2,4,5,4,9,3,7,5,5,4,4,5,7,7,3,4,5,7,5,6,7,5,3,5,3,8,4,5,5,5,4,3,3,5,3,5,7,5,4,4,4,3,3,7,5,5,5,5,5,8,3,3,6,3,8,5,3,5,5,5,5,5,4,5,5,7,2,5,5,4,8,6,6,5,5,4,5,6,8,6,5,5,5,5,5,2,5,5,4,5,3,5,4,5,7,2,7,5,3,5,4,7,7,5,6,3,3,7,5,3,3,5,5,5,3,3,8,5,3,8,8,5,7,7,7,8,3,5,4,5,5,5,5,5,8,3,6,5,5,5,4,3,8,6,5,5,5,3,4,3,8,4,5,6,4,8,10,5,5,5,6,5,5,3,8,7,5,5,4,3,5,8,3,8,9,2,3,8,4,8,3,5,7,6,4,7,6,4,6,4,4,5,1,10,5,5,3,4,3,8,8,6,3,6,7,4,6,8,5,6,2,5,4,7,7,3,5,8,7,12,7,1,5,5,5,6,5,4,3,8,6,7,3,4,5,4,5,5,3,3,3,5,2,8,8,6,7,6,2,7,5,5,3,4,3,5,5,8,3,3,6,3,5,3,5,3,3,8,6,2,8,5,5,8,3,2,3,4,4,7,5,5,5,3,4,5,3,8,5,2,8,8,3,5,8,3,7,5,3,7,5,7,8,8,5,9,5,5,5,4,3,3,4,5,4,5,3,5,5,4,5,3,5,5,5,8,5,8,3,5,3,8,8,5,5,5,6,8,4,8,5,6,5,4,5,5,5,7,7,6,4,9,5,6,4,3,5,5,3,5,8,5,5,5,4,6,5,4,7,4,5,3,3,5,5,5,8,5,5,7,7,8,3,5,5,3,4,4,5,8,4,8,3,5,8,5,4,5,7,5,4,5,7,5,4,4,5,9,7,3,7,7,8,5,8,4,7,4,5,3,5,5,4,4,6,3,5,7,3,4,3,8,5,3,5,2,5,4,6,4,5,5,7,6,5,8,5,3,4,7,5,8,3,5,4,5,5,4,7,5,10,60,7,4,2,5,5,6,5,8,3,5,7,9,7,3,7,3,4,11,4,4,4,6,4,7,5,5,4,5,5,4,5,3,5,3,4,3,7,4,5,7,5,6,2,6,5,5,5,5,5,8,3,5,3,4,5,10,4,5,5,5,5,5,5,3,10,3,4,5,5,4,7,4,3,7,7,7,5,6,7,6,6,4,5,3,5,5,7,3,3,5,5,5,8,6,4,3,5,3,7,6,5,5,4,3,4,5,5,3,10,7,10,5,5,6,8,7,7,4,5,5,3,5,3,3,3,5,5,2,5,5,5,5,5,6,3,9,5,3,3,3,6,3,5,3,3,3,5,6,3,7,5,5,1,5,6,5,5,4,5,8,6,8,3,5,5,8,7,5,5,4,3,7,4,4,3,4,8,9,6,5,5,3,9,9,4,3,7,1,5,6,4,3,7,8,8,3,4,3,5,6,7,5,5,3,5,3,3,5,5,8,6,3,5,3,6,4,4,8,5,5,3,5,6,7,4,8,5,5,5,7,4,4,5,3,7,5,5,5,7,4,5,5,8,3,6,5,6,2,5,5,7,3,5,5,5,8,3,5,7,5,3,7,3,5,3,5,6,4,4,4,3,5,3,8,5,4,7,7,5,7,2,3,3,4,4,4,8,5,5,4,3,4,4,8,5,9,5,10,3,10,3,7,4,5,6,4,6,5,8,7,5,3,5,5,3,4,4,5,8,5,5,8,5,4,5,4,12,3,8,5,3,5,3,9,5,4,4,9,6,5,5,5,3,6,5,8,5,4,4,4,4,6,8,5,3,7,3,5,8,2,7,5,8,17,5,5,5,5,5,4,5,7,5,5,5,5,5,4,7,4,4,8,5,2,6,5,3,7,8,5,5,3,8,4,9,5,4,7,5,6,9,5,5,6,5,6,3,5,3,6,5,5,5,5,5,5,5,3,3,8,6,3,7,4,4,3,8,10,7,5,3,5,6,5,5,5,3,5,5,5,3,7,5,5,6,4,3,4,3,3,3,3,5,4,3,3,5,5,6,8,7,4,12,5,5,3,5,5,9,3,5,8,6,5,5,3,3,4,9,3,8,8,6,3,5,3,7,5,3,5,5,3,4,5,5,5,5,2,5,3,6,3,5,4,5,3,5,5,1,5,4,3,7,8,3,4,5,5,4,5,2,5,5,7,5,6,5,1,8,3,7,8,5,5,6,4,5,5,3,6,3,4,5,3,8,5,5,4,3,7,5,5,5,4,5,8,4,5,11,4,5,8,8,4,3,3,4,5,5,3,11,8,5,6,3,3,8,4,3,3,5,3,2,5,5,8,8,4,3,4,5,8,3,5,6,6,8,4,3,6,9,6,5,5,5,3,5,7,7,5,5,5,5,5,3,7,2,5,3,8,5,7,4,5,3,5,9,3,3,4,4,5,6,3,5,5,3,5,3,3,4,5,5,5,5,6,5,3,5,7,5,5,5,5,4,3,5,4,6,3,5,3,3,3,17,4,8,3,4,4,5,5,3,5,8,8,4,6,4,8,3,4,12,3,8,5,6,5,6,5,5,4,6,2,4,3,5,5,3,2,5,5,6,8,3,3,5,8,4,5,5,10,5,4,8,15,4,5,5,3,7,3,5,4,2,5,5,5,7,10,3,9,5,6,4,4,5,3,8,9,10,8,3,5,6,3,6,5,2,3,7,3,5,5,3,3,3,3,3,5,5,3,6,4,3,3,6,3,4,6,5,6,7,5,5,5,5,5,3,6,6,6,4,4,8,5,5,3,7,5,4,9,5,5,8,3,5,4,5,7,4,5,7,6,5,5,5,4,5,5,8,5,7,3,6,8,7,3,8,5,7,5,4,5,4,5,7,5,5,3,5,10,5,5,5,5,3,5,5,4,5,5,8,3,6,5,3,3,3,3,3,4,4,5,7,5,4,5,3,3,5,5,5,5,3,6,8,6,6,4,5,3,5,4,10,4,3,8,3,7,7,5,5,7,3,3,5,4,5,5,8,8,6,8,7,4,5,4,4,7,8,3,5,6,5,5,5,8,8,5,3,4,5,3,5,5,5,6,4,5,5,3,8,6,6,7,5,5,3,8,6,5,7,5,5,2,4,5,7,3,5,6,5,5,5,5,9,3,5,3,8,5,5,6,5,6,5,4,3,5,4,6,5,4,7,4,4,3,3,5,5,8,5,4,5,5,5,4,6,4,5,5,10,5,4,5,4,5,6,5,3,5,6,5,7,5,5,5,5,4,4,4,10,5,3,3,5,5,8,4,2,6,5,5,5,5,5,5,8,4,5,8,5,5,5,8,6,8,3,5,2,5,5,5,5,3,5,5,3,4,5,4,5,7,3,6,4,7,4,8,4,5,5,5,5,4,5,4,5,3,3,6,3,5,5,3,8,5,2,3,2,5,8,4,5,4,5,3,10,5,5,5,5,8,5,4,8,3,5,5,3,4,8,6,21,7,6,3,4,5,6,5,6,5,5,8,5,6,8,6,7,5,8,4,4,4,8,4,3,8,4,7,5,5,3,5,4,5,3,5,5,5,5,8,7,6,5,2,7,3,7,6,5,8,5,8,5,8,5,3,5,5,10,3,3,5,5,8,5,4,5,3,5,5,5,3,5,7,5,8,3,3,7,5,6,5,6,3,5,6,7,3,7,4,5,5,3,7,6,8,6,7,5,5,5,5,5,3,4,8,3,3,3,3,7,7,2,4,6,9,3,8,5,5,7,4,2,7,7,5,7,5,5,8,4,8,5,8,5,3,3,3,3,8,5,7,5,5,7,5,5,6,4,3,3,5,5,4,8,7,5,5,5,5,6,3,2,5,4,5,3,4,5,2,5,7,5,8,5,4,8,4,5,4,6,3,3,5,1,6,7,1,5,5,4,8,5,5,5,8,8,5,5,7,6,5,5,4,6,5,5,6,5,8,5,3,5,8,7,8,3,3,3,5,3,3,4,4,3,3,5,5,5,5,5,1,5,4,6,5,4,5,4,3,4,4,6,7,7,5,4,6,5,5,7,6,2,11,2,8,3,5,5,3,5,6,5,3,5,4,8,7,7,2,4,5,4,5,8,7,5,4,7,5,6,5,3,6,8,5,4,5,3,4,7,9,3,4,5,7,6,3,7,6,6,5,4,7,7,4,3,3,7,8,3,5,7,2,4,7,5,6,5,5,5,2,7,8,7,5,5,3,6,3,5,9,5,7,8,7,3,5,6,5,4,7,1,5,5,4,4,7,5,3,4,3,5,5,3,4,7,5,5,7,3,4,5,7,5,5,4,5,6,4,5,3,8,5,3,7,8,8,4,2,5,4,6,5,3,3,6,4,5,5,3,4,4,4,5,6,3,3,5,3,8,4,5,3,3,5,7,7,5,5,1,5,5,5,4,11,5,7,5,5,5,4,5,6,8,3,7,2,4,8,8,4,8,6,5,8,3,3,5,8,5,5,5,3,5,4,4,7,7,5,7,6,7,3,3,7,5,3,3,5,7,5,6,3,6,6,4,6,4,5,9,2,5,4,7,3,6,5,5,3,5,3,5,4,5,7,6,5,5,6,5,4,3,6,5,1,5,7,7,7,7,8,5,5,4,5,4,8,5,3,3,4,5,8,3,3,7,8,8,8,8,2,5,3,5,3,5,5,9,5,5,8,5,5,5,5,6,2,5,5,4,5,5,5,3,4,5,5,3,7,3,4,8,5,8,3,4,5,6,8,4,3,5,6,3,5,5,4,5,5,7,5,5,9,4,8,5,4,5,3,5,6,5,3,7,5,6,5,5,5,5,7,8,3,5,5,5,5,4,5,5,8,5,3,5,5,4,5,8,4,7,6,4,5,4,5,8,10,4,3,5,3,6,3,4,7,3,2,5,6,7,5,4,5,3,5,4,7,5,3,3,3,7,5,5,5,2,4,3,5,8,5,5,5,3,4,7,5,10,5,10,5,7,7,3,5,7,7,5,5,3,3,5,3,5,3,3,4,6,5,3,5,5,6,2,4,5,6,5,3,5,4,4,3,5,5,7,3,8,7,7,8,4,8,5,4,5,9,5,3,3,11,4,8,2,5,3,8,4,3,7,4,8,8,5,8,2,7,5,3,3,5,5,7,4,5,3,5,6,7,4,5,3,5,5,4,3,7,7,8,6,3,7,7,4,8,6,6,7,5,5,5,3,10,6,5,5,6,6,5,4,3,3,5,3,3,7,5,4,5,5,5,8,11,5,4,3,3,3,2,5,5,5,3,5,8,5,2,8,8,6,6,5,10,4,7,2,7,5,4,4,6,4,8,3,5,4,5,5,8,5,3,5,5,4,4,6,3,4,4,5,4,4,6,5,3,8,5,4,8,5,3,6,3,7,3,8,8,6,5,7,7,5,4,5,3,1,5,5,7,5,8,5,6,5,3,5,4,8,6,4,3,3,3,8,5,4,9,8,8,7,8,6,5,6,7,3,7,5,3,5,3,8,5,8,4,8,5,12,3,7,3,4,3,7,8,7,3,5,8,5,5,6,3,8,8,5,5,3,5,5,3,8,6,4,5,9,6,6,8,7,5,5,4,3,5,3,5,5,7,5,4,5,4,5,8,5,5,5,5,5,8,3,5,4,6,4,6,7,6,9,5,3,16,6,6,6,7,5,8,2,5,5,4,8,5,5,5,5,7,5,3,4,5,8,3,4,8,1,3,5,5,5,5,3,8,5,5,5,3,5,7,4,3,4,3,3,5,4,5,7,3,7,5,6,3,4,3,6,5,5,3,5,8,5,7,5,3,3,7,5,8,4,9,7,3,8,3,5,5,4,6,9,3,2,5,3,5,5,5,5,7,3,7,5,5,4,7,4,7,3,8,5,3,5,5,5,5,7,4,7,4,7,4,3,5,4,6,5,5,5,5,5,7,3,5,5,5,3,4,10,5,9,4,8,3,6,7,10,7,3,3,5,5,8,5,4,5,6,5,5,3,3,4,5,8,3,7,5,4,5,2,5,2,4,13,5,5,5,7,5,5,5,4,5,4,5,3,4,8,5,3,5,5,3,4,5,3,5,7,2,7,7,5,9,3,3,6,6,7,5,5,5,8,3,7,8,7,7,5,1,8,7,3,4,5,5,4,3,6,3,5,9,5,8,5,5,4,9,3,3,4,3,5,6,5,5,3,5,3,5,7,7,6,5,5,5,3,5,5,5,5,8,3,3,3,8,5,7,4,4,7,7,3,3,4,6,3,8,3,4,3,5,5,5,3,4,5,3,5,8,3,5,3,5,4,4,8,8,5,5,3,6,4,5,3,5,5,4,5,5,5,3,5,4,2,4,4,5,5,7,8,4,8,7,3,3,4,3,5,5,7,4,4,3,3,3,5,5,6,8,6,5,7,5,5,3,4,3,7,5,8,3,11,7,5,3,8,6,4,5,5,6,5,5,6,8,8,3,5,3,4,6,5,2,3,9,5,5,5,8,3,5,4,8,2,5,3,4,5,5,3,5,3,7,8,3,3,4,7,7,5,3,5,3,8,6,8,5,5,5,5,4,8,4,4,4,3,5,9,2,5,3,6,7,8,7,5,5,3,5,8,6,5,2,7,2,7,5,6,5,3,6,3,3,4,8,4,8,2,8,5,5,3,11,3,6,5,5,5,6,5,7,4,6,7,5,3,5,3,5,4,5,3,3,4,3,2,3,4,7,7,7,4,3,8,5,5,7,4,3,2,4,4,3,4,5,4,3,5,5,5,5,5,7,8,8,5,6,5,3,6,4,5,5,5,3,8,4,4,5,4,4,7,5,4,5,5,5,5,3,6,2,5,5,5,5,5,5,8,3,8,5,3,8,5,5,3,5,7,8,3,11,4,5,3,8,6,4,7,8,4,5,5,4,3,3,5,5,7,5,3,3,8,5,5,3,5,1,5,5,8,9,3,5,5,3,3,3,6,6,8,8,3,7,8,5,5,6,5,6,5,8,3,7,5,8,7,10,4,4,14,5,5,3,3,8,7,3,5,3,5,3,3,3,5,3,5,3,3,3,5,4,3,8,7,3,5,5,3,5,7,3,3,3,5,3,3,7,5,5,10,8,3,5,3,3,5,3,4,4,4,2,4,3,3,5,3,3,4,3,3,7,7,5,3,7,3,8,5,5,4,5,6,3,5,5,5,8,8,2,3,3,5,8,3,3,5,5,3,2,5,8,5,3,3,5,4,5,5,5,3,8,5,4,5,4,7,4,2,3,5,5,4,3,4,7,9,5,5,4,12,5,4,7,3,4,5,5,8,8,7,5,3,4,5,7,6,5,2,3,5,6,5,7,5,3,5,8,3,5,5,3,3,6,7,4,5,4,7,5,5,7,5,8,8,5,3,5,1,3,8,5,5,6,3,3,2,5,5,5,4,5,2,5,5,5,6,10,8,5,4,5,3,4,5,5,5,5,5,5,7,7,5,5,3,3,2,5,3,3,5,5,10,4,5,10,3,3,5,7,8,7,5,5,4,7,3,5,5,8,5,5,7,10,5,5,7,3,5,3,5,8,3,8,5,8,7,5,6,4,8,5,5,7,5,3,5,7,8,3,5,5,8,4,8,4,3,5,8,4,4,8,8,5,3,8,5,4,8,8,4,5,5,5,2,5,3,5,5,3,8,5,4,5,8,3,7,5,5,4,4,3,5,5,3,8,5,5,5,3,8,5,7,4,6,26,3,6,1,4,7,8,5,7,11,4,5,4,3,3,8,5,8,5,5,4,3,5,5,4,5,3,2,5,5,5,6,5,6,8,5,7,5,5,6,7,8,6,8,4,4,4,4,4,2,6,8,4,5,5,8,4,5,6,6,5,3,7,9,4,8,4,3,5,5,3,5,7,7,6,3,5,8,6,3,5,5,4,5,5,6,5,5,5,8,5,11,4,3,5,5,5,7,2,3,5,3,5,6,4,4,5,8,5,8,3,6,4,2,8,4,5,4,5,4,8,5,3,6,5,7,7,3,1,5,5,3,3,4,5,4,1,5,5,6,4,5,5,5,7,7,5,5,6,3,5,5,8,5,4,5,5,6,5,5,5,2,9,3,4,2,4,5,7,4,4,5,3,3,8,5,6,4,6,4,5,7,5,7,5,5,5,8,3,5,5,3,4,8,8,5,8,3,5,5,5,7,3,5,4,5,5,4,5,8,5,6,8,4,4,4,6,5,5,8,2,3,7,8,5,7,8,4,5,3,3,4,3,5,7,4,5,4,4,3,7,5,8,10,8,5,5,3,3,5,4,8,4,3,5,3,8,11,5,5,3,3,8,3,7,5,5,5,6,5,4,5,6,6,3,3,5,5,5,5,5,3,64,3,5,3,8,4,8,4,5,4,9,3,5,5,3,5,5,5,5,8,8,4,7,7,5,6,3,4,5,5,7,5,3,5,2,6,4,3,5,4,6,3,6,5,5,3,3,3,5,6,5,7,3,3,1,6,3,3,3,5,3,8,5,3,7,6,1,8,8,7,7,8,5,3,6,5,3,3,3,5,3,6,3,5,8,5,8,10,5,5,5,5,4,5,8,4,3,8,7,3,5,5,5,4,4,3,5,5,5,7,5,5,3,5,5,3,5,3,4,6,8,3,4,5,8,4,5,9,5,3,7,5,8,5,5,8,8,5,8,5,3,3,3,6,5,7,6,5,5,7,5,5,3,4,7,4,4,8,5,5,5,5,5,4,6,4,5,3,3,4,3,6,5,5,4,5,3,3,6,8,5,6,6,4,6,6,5,5,8,5,3,3,5,7,6,4,5,6,5,8,5,5,3,5,7,3,8,6,3,6,6,8,8,3,7,5,5,2,5,8,3,5,8,8,3,12,5,8,9,3,3,10,7,3,5,3,5,3,7,7,8,3,5,6,5,5,5,4,5,5,3,5,4,5,4,5,3,5,7,6,5,5,4,4,7,7,5,8,8,5,4,5,7,5,5,8,5,6,5,3,3,5,5,5,4,5,7,5,4,5,5,6,5,3,8,5,3,8,3,11,8,3,1,5,16,4,4,5,7,5,5,3,5,7,8,5,5,4,3,7,5,8,5,5,5,5,8,8,6,4,5,3,8,3,7,3,5,5,7,2,3,5,5,3,5,5,5,3,5,4,6,5,5,6,7,3,5,5,18,6,5,5,4,9,4,5,5,5,6,3,5,3,7,3,7,5,5,5,8,5,6,5,4,7,6,7,4,8,3,5,8,4,7,5,8,7,3,5,3,5,5,7,5,4,5,8,5,4,5,7,5,3,6,8,5,8,3,3,5,5,5,5,5,8,7,5,5,5,3,5,6,3,5,5,5,6,4,5,8,4,3,5,4,6,5,5,8,5,2,5,3,5,32,5,5,2,7,5,3,8,8,5,5,7,5,5,3,2,3,5,4,8,5,8,5,7,3,5,4,4,5,7,3,5,8,3,10,5,8,7,4,5,5,3,7,7,2,5,4,8,3,3,7,7,3,3,7,3,7,4,3,6,5,5,5,8,5,5,7,5,2,5,5,5,3,5,5,8,4,3,5,4,3,3,3,4,5,5,3,8,5,3,3,6,1,5,5,8,3,4,7,5,4,6,5,8,7,3,5,3,6,8,5,3,5,5,7,5,4,6,8,6,8,2,8,7,3,5,6,6,7,5,5,7,8,5,3,6,6,3,5,5,6,5,7,3,4,3,8,3,7,3,10,5,5,4,5,3,3,6,4,10,6,4,3,5,3,5,5,8,5,5,5,4,3,4,4,3,5,8,7,9,5,2,3,5,8,6,3,5,3,3,5,3,2,3,7,5,8,5,9,5,7,5,8,3,5,4,7,3,8,6,3,5,4,7,3,5,5,8,5,3,8,3,5,7,5,8,7,8,7,3,8,4,5,4,5,4,3,2,3,3,6,3,7,4,5,5,7,5,3,6,4,8,4,5,3,5,7,5,6,8,8,7,8,3,3,5,8,4,5,5,8,5,3,8,6,7,3,3,4,8,4,6,5,3,5,5,5,6,3,5,8,3,8,5,3,8,8,5,2,5,4,5,5,3,6,7,6,5,8,5,5,3,8,6,5,5,6,8,6,4,7,9,3,4,1,6,5,4,14,3,9,4,7,5,5,5,3,5,4,3,3,3,3,5,5,4,6,5,6,8,5,7,5,5,5,4,8,5,8,5,2,5,5,5,7,2,5,3,4,5,6,5,6,3,7,5,3,3,8,5,5,5,5,6,6,5,3,4,5,5,6,5,8,3,3,3,5,5,4,5,8,7,3,6,5,7,4,7,4,7,5,5,5,3,5,3,5,3,5,3,5,5,4,2,1,5,6,6,4,5,5,4,5,4,5,3,3,3,5,3,5,4,4,3,6,3,5,3,15,5,5,8,9,5,3,6,8,8,5,2,10,6,5,5,4,5,3,5,5,5,5,5,6,5,3,5,5,5,5,3,8,5,8,5,2,7,5,1,5,5,3,4,6,7,5,3,5,3,5,5,2,5,10,8,5,5,4,5,2,4,4,4,5,6,6,6,5,3,5,3,6,3,5,3,7,5,7,6,8,5,5,8,5,6,4,5,8,5,8,5,5,4,5,8,3,5,4,5,7,7,2,5,4,4,5,8,7,4,5,3,2,5,5,5,5,3,5,6,5,6,6,8,5,3,5,5,7,5,7,5,3,7,3,3,8,5,3,5,3,8,5,4,5,6,4,3,5,5,5,4,5,4,9,6,3,3,3,5,5,7,5,4,4,5,7,4,5,7,7,5,8,6,3,8,5,8,3,6,4,5,3,4,3,5,4,2,6,5,3,5,4,5,8,5,5,6,3,8,4,4,5,3,5,5,6,3,5,5,4,8,5,4,5,8,8,5,8,5,3,3,7,3,4,5,5,5,5,5,4,3,7,5,7,8,5,7,7,5,4,3,6,5,5,3,6,5,3,4,6,8,4,4,5,6,5,1,3,3,5,3,3,8,5,5,7,5,5,3,5,3,3,3,6,5,7,5,4,5,3,5,5,4,6,5,5,5,3,5,5,3,4,4,9,3,5,5,5,5,3,4,4,6,3,5,5,3,6,7,5,5,3,6,2,8,8,3,3,5,5,5,4,5,5,5,5,4,4,5,5,5,3,8,5,3,6,3,5,4,5,7,6,3,3,8,8,5,2,4,6,11,3,7,6,5,3,7,3,5,5,3,8,5,7,5,5,5,4,7,8,3,4,7,5,4,9,8,3,3,7,1,4,3,3,6,5,2,5,4,8,5,7,3,5,10,8,6,5,8,3,8,8,4,5,7,2,5,4,5,5,5,8,8,8,6,7,8,7,6,5,5,5,3,3,5,3,3,5,13,5,3,5,5,4,6,8,5,5,5,5,5,5,6,5,3,8,5,3,4,5,5,4,6,2,4,4,8,4,8,8,5,5,2,3,8,9,8,5,7,8,3,5,5,5,5,5,5,7,4,5,4,7,3,3,2,5,7,5,4,5,8,3,5,3,5,12,3,5,8,3,5,5,3,4,3,5,4,6,5,4,5,5,7,3,3,5,4,5,3,5,4,2,3,6,5,3,3,3,4,5,5,5,9,8,3,5,7,4,2,8,7,5,6,3,3,5,5,7,8,5,5,6,6,4,5,5,5,5,3,7,5,5,4,8,5,7,3,3,9,5,5,8,6,5,7,8,3,5,3,8,6,5,5,3,3,3,5,5,5,5,3,3,3,4,7,5,3,5,4,5,3,3,3,3,3,8,5,5,3,4,4,7,5,6,5,8,3,4,5,5,5,7,5,3,3,6,5,3,5,5,8,6,7,8,8,5,2,3,5,5,5,5,3,8,5,4,8,5,5,3,7,8,4,3,6,5,4,8,4,11,4,4,5,5,3,7,8,5,7,3,3,5,3,5,7,2,4,5,3,3,3,4,7,8,5,8,5,5,6,5,4,5,3,35,3,6,9,5,3,5,7,4,5,5,8,5,8,4,6,4,8,3,3,5,5,3,5,5,4,5,5,5,4,5,8,8,5,8,8,7,5,4,6,8,4,5,8,3,7,5,5,5,5,8,5,5,4,1,3,3,8,6,5,4,8,3,8,3,3,7,6,6,3,4,5,5,3,12,4,5,6,7,3,5,2,7,5,5,8,5,4,5,5,5,7,5,8,5,5,5,5,3,7,5,3,5,5,4,5,4,6,5,8,3,3,8,5,6,8,4,8,4,5,6,3,8,5,6,5,6,8,8,5,3,3,5,5,5,79,8,8,7,5,5,4,4,4,5,4,4,7,5,3,3,5,3,2,3,3,3,3,8,5,5,7,5,5,2,4,7,3,6,5,8,4,6,8,5,5,7,5,8,8,3,5,5,6,4,8,3,5,4,10,5,3,3,5,5,5,7,5,3,5,5,3,3,3,4,5,3,3,4,6,4,3,4,3,5,3,3,6,5,5,5,5,9,4,5,13,5,8,7,3,8,5,4,6,5,6,3,5,8,6,5,4,7,5,5,6,5,8,5,7,17,5,5,4,3,5,5,5,5,5,7,3,4,5,7,6,5,6,5,7,5,8,5,6,4,5,7,5,3,7,6,5,2,3,3,5,5,8,5,7,5,5,5,5,6,5,4,5,4,3,5,3,7,3,5,4,4,3,5,3,5,7,6,4,5,8,8,5,6,3,3,5,6,6,3,5,8,3,3,7,5,3,9,8,3,5,7,3,5,8,5,5,5,6,4,4,5,5,11,9,6,6,5,10,6,3,7,7,5,3,5,7,4,5,5,5,5,6,5,5,5,4,5,5,8,3,5,5,7,7,3,4,3,8,10,3,5,8,5,4,5,3,4,2,5,6,5,5,3,5,5,11,3,6,5,5,4,4,8,5,3,5,4,8,59,5,5,3,2,7,9,8,7,5,3,3,5,7,7,5,8,4,5,5,5,5,7,5,3,4,5,2,8,5,4,5,3,6,3,5,6,8,3,5,5,3,5,8,7,5,3,2,5,5,4,3,5,3,7,4,5,8,5,3,5,5,4,5,6,1,5,5,5,5,5,3,5,7,5,4,5,5,5,3,5,5,4,4,3,5,5,5,3,7,9,7,6,4,5,6,6,4,4,7,7,5,7,6,5,4,8,4,4,5,8,3,4,8,3,3,8,1,3,3,6,6,5,4,8,5,3,6,8,5,5,4,3,5,4,8,7,6,4,5,5,7,5,5,5,3,5,7,7,8,4,4,3,7,8,5,4,5,3,7,7,6,7,4,3,5,3,6,5,5,7,5,7,7,3,4,8,4,3,5,3,5,7,8,3,5,5,3,9,6,3,5,8,5,4,1,7,3,5,4,3,7,2,4,3,4,5,8,5,8,5,5,7,5,5,8,7,7,5,7,3,5,5,11,5,6,4,9,11,4,6,3,5,3,6,5,5,2,5,5,5,8,8,3,3,3,5,7,5,2,5,5,3,3,4,5,3,7,7,4,5,4,3,5,4,8,5,4,8,8,5,5,3,5,7,6,5,7,7,5,8,5,5,4,8,4,7,4,2,5,4,4,3,3,5,4,5,8,3,5,3,5,3,7,5,5,3,7,7,5,7,5,5,3,5,5,5,5,8,4,6,4,6,5,5,5,5,3,8,7,7,5,3,5,7,7,5,5,10,3,5,6,5,5,5,3,7,5,3,5,5,7,3,7,5,8,5,7,4,7,8,3,5,6,3,6,3,4,5,8,5,4,5,3,5,3,5,6,1,5,8,7,5,5,5,5,8,5,7,5,3,4,3,5,10,7,4,5,7,3,4,4,5,6,5,7,8,3,3,5,4,5,5,8,7,4,7,4,5,8,5,5,3,5,3,6,5,7,5,3,3,9,5,5,5,5,5,4,4,5,6,5,5,5,5,5,3,5,3,8,5,5,4,8,5,8,5,3,6,7,6,5,5,6,3,5,2,8,4,3,5,8,3,5,7,5,4,5,3,3,6,5,5,5,3,5,3,8,4,5,4,5,8,3,8,5,5,5,5,4,6,5,4,5,7,3,3,1,9,7,5,3,6,5,5,5,3,5,5,5,5,5,5,8,8,5,3,8,3,3,5,3,5,3,5,5,4,6,4,5,4,7,3,8,6,5,8,3,3,5,5,7,3,5,8,3,5,5,3,3,8,5,5,4,6,6,7,4,5,5,8,5,7,8,5,4,3,5,4,4,7,5,8,4,5,8,3,5,3,3,7,3,5,5,5,7,6,7,3,3,5,3,8,6,6,5,7,5,7,6,12,5,4,3,3,5,4,5,7,3,5,5,9,5,5,5,4,8,12,5,3,8,4,11,5,7,7,5,5,5,8,5,7,5,9,4,5,3,8,5,7,3,3,4,5,8,8,4,8,6,5,4,8,5,3,5,8,5,6,5,5,8,2,5,5,3,5,5,5,6,4,8,5,5,5,7,5,5,3,3,3,3,5,3,8,5,9,4,5,6,5,4,3,8,5,5,4,5,1,5,5,3,2,5,5,8,5,5,5,3,4,5,3,4,6,5,5,7,5,7,8,6,6,3,6,10,5,5,5,5,5,4,6,5,5,5,11,5,5,3,8,3,7,6,7,7,4,5,3,4,3,7,7,5,8,5,5,7,7,6,5,4,5,3,5,5,6,5,3,4,5,5,5,5,5,5,4,5,4,3,3,5,10,5,4,4,8,3,5,6,5,5,4,5,5,5,5,3,3,7,6,4,6,3,5,8,7,5,5,4,7,7,15,2,7,3,3,8,5,7,8,5,8,5,5,2,5,7,3,7,6,4,7,5,8,6,8,3,5,3,10,5,5,4,5,5,5,6,5,6,5,11,5,5,5,4,5,4,5,4,4,5,3,4,5,5,8,8,5,6,6,5,6,7,2,4,6,3,3,3,8,4,5,4,4,5,3,3,4,5,5,8,7,5,9,7,4,5,9,5,4,5,5,4,5,3,2,7,3,5,7,4,3,7,5,5,7,5,4,8,7,10,7,1,5,3,5,5,8,7,12,8,5,8,6,3,6,3,5,6,3,5,5,8,5,5,5,4,5,3,8,8,5,4,5,3,7,5,3,7,3,5,2,7,3,5,4,8,4,5,5,5,5,5,7,5,5,6,5,5,5,3,5,2,5,3,10,5,5,6,3,6,4,3,3,6,2,3,3,5,4,3,5,9,7,5,5,3,5,7,5,5,4,5,6,5,8,2,7,4,5,5,2,2,3,9,3,4,5,5,8,5,4,10,5,5,5,5,5,5,6,5,5,4,3,4,5,7,4,5,8,5,5,5,7,3,2,5,8,3,8,5,8,5,6,3,5,7,2,7,4,5,5,8,7,7,3,5,7,9,5,5,5,4,6,5,4,4,7,3,10,5,3,5,8,8,5,4,3,8,3,2,7,5,3,5,3,7,3,5,5,6,4,5,5,3,5,7,5,6,5,8,4,5,3,3,5,4,5,3,3,5,3,4,3,7,3,3,2,6,3,5,4,5,5,9,4,6,3,5,3,5,5,3,10,5,3,5,5,5,5,5,8,5,4,3,3,5,5,7,4,5,4,8,4,2,8,6,5,3,5,3,3,3,6,5,4,7,5,5,4,6,5,5,3,3,3,5,4,4,5,6,3,5,3,4,3,3,2,5,3,3,8,8,7,3,2,3,8,7,5,5,6,5,8,5,5,4,8,7,4,8,3,4,4,3,3,5,3,5,5,7,3,2,4,8,5,5,3,6,4,5,8,6,3,4,6,3,5,5,3,3,5,8,6,5,3,3,8,5,5,6,5,3,6,7,4,5,5,6,8,7,5,5,3,3,3,5,8,5,3,3,7,6,3,8,8,7,4,3,7,5,5,5,5,5,5,7,7,5,4,5,5,3,5,5,3,5,10,5,3,5,3,7,3,3,7,3,5,6,5,5,2,4,6,9,5,7,5,6,5,4,4,5,5,8,8,5,8,11,7,6,5,5,7,3,8,3,8,3,6,3,3,5,8,3,5,6,8,7,5,10,5,4,5,7,6,3,5,5,5,4,5,5,3,3,3,8,4,7,5,4,12,4,5,3,5,8,3,3,5,7,8,5,5,5,8,4,4,6,8,3,5,5,8,3,3,4,4,5,4,8,5,7,5,3,5,5,5,3,3,5,6,5,7,7,5,6,7,4,7,3,5,5,6,4,4,5,1,8,6,4,5,12,8,5,8,4,4,5,5,5,5,3,4,5,4,5,5,5,5,6,6,3,5,5,3,8,5,8,5,5,5,5,5,5,4,8,7,5,5,5,4,5,3,1,5,3,6,5,5,4,3,6,8,5,7,5,9,3,5,8,5,5,6,4,5,3,6,6,4,5,5,5,6,3,3,3,3,3,10,2,7,8,5,5,5,5,5,3,3,3,6,6,5,5,5,5,5,3,8,5,5,8,6,4,8,5,5,21,4,3,6,5,8,4,3,5,5,4,5,4,6,5,5,7,8,6,5,3,7,7,5,5,4,5,8,4,6,8,5,4,7,5,8,7,3,8,4,8,8,4,7,3,4,3,5,6,4,5,5,5,5,3,4,5,5,3,5,5,5,4,7,6,5,3,4,3,5,7,8,5,8,8,3,5,5,7,2,3,5,1,5,3,3,7,5,5,6,7,5,5,7,9,8,8,5,3,6,5,5,5,4,5,5,7,5,4,4,5,5,5,3,8,7,5,5,4,3,5,6,5,5,5,4,8,5,4,5,7,8,6,4,3,5,5,3,7,6,7,8,5,5,5,3,5,7,8,8,3,4,8,4,5,8,5,7,4,4,7,4,5,5,7,6,7,5,5,5,7,4,5,5,7,8,4,8,6,10,7,5,4,5,6,5,5,5,10,5,8,5,4,6,2,5,3,8,7,5,5,5,8,3,6,8,3,4,8,5,4,4,4,3,8,6,5,7,8,5,7,5,5,5,6,4,4,4,6,4,4,8,6,5,5,5,5,6,5,4,6,5,7,7,4,5,8,5,6,3,5,3,5,3,7,3,8,8,5,7,2,8,5,5,6,5,3,3,3,3,5,4,9,5,8,2,6,4,6,7,5,8,4,7,6,5,4,7,3,3,8,3,2,4,5,3,8,5,5,2,5,5,8,5,3,8,5,3,5,7,7,3,5,5,4,5,3,3,8,7,5,3,10,5,7,8,5,5,4,3,2,15,5,8,8,5,5,5,3,2,4,6,3,5,2,5,5,3,5,5,7,5,5,3,11,4,5,6,4,4,7,5,5,4,8,5,5,4,5,6,3,5,5,5,5,5,3,4,7,5,5,3,4,3,5,5,4,5,5,6,3,7,6,5,3,8,3,5,8,4,8,5,5,3,3,3,7,3,5,7,8,3,8,8,3,5,5,7,4,3,3,9,5,5,4,5,4,4,5,5,4,4,5,5,8,4,3,4,8,5,5,4,5,8,5,7,5,4,5,3,5,3,5,5,7,7,5,5,8,4,5,5,8,7,5,10,4,5,3,5,4,7,3,5,3,4,3,4,3,4,5,4,3,6,6,3,8,7,5,8,5,3,8,3,3,5,6,5,5,7,8,7,5,4,5,7,5,6,3,4,4,5,4,4,7,3,3,7,8,5,3,4,7,5,8,5,3,3,4,5,5,5,7,5,5,3,3,5,5,5,5,5,5,4,4,8,4,2,3,3,5,5,3,7,8,5,5,3,3,3,5,3,6,3,35,7,3,8,3,3,5,5,5,7,2,5,7,3,3,7,7,5,4,1,5,5,4,4,5,4,4,7,4,7,5,5,5,5,3,3,3,4,7,5,5,4,5,3,5,3,5,8,4,4,5,3,3,5,4,4,8,4,7,5,5,5,5,5,5,5,5,8,5,5,4,5,3,3,5,6,5,7,2,3,5,6,8,4,7,3,5,5,3,6,8,6,3,5,7,3,5,4,4,5,5,5,11,3,5,11,3,5,4,5,5,6,5,4,7,3,5,6,5,3,4,5,7,8,5,3,7,7,5,5,3,4,3,8,5,5,8,4,3,5,3,6,2,6,3,5,5,4,4,4,4,4,3,4,7,6,8,3,5,7,6,7,5,5,5,8,7,3,7,3,4,7,5,3,3,8,4,7,6,5,3,5,5,5,8,4,5,5,3,3,8,8,5,8,8,8,5,5,7,8,3,5,5,6,5,1,4,4,7,6,3,3,5,3,5,7,8,3,7,5,4,5,5,5,8,8,5,3,8,3,5,3,3,5,8,4,1,3,3,5,3,5,5,6,5,5,4,7,5,4,4,3,4,3,5,5,5,5,5,8,5,5,8,3,3,5,7,6,4,5,5,4,3,5,9,5,7,3,3,5,6,4,6,8,3,4,5,5,4,6,6,7,4,6,5,6,7,3,5,3,5,4,8,4,5,8,5,6,3,5,8,8,7,7,4,6,5,5,8,8,3,8,5,5,4,5,5,3,5,5,6,6,2,5,4,2,7,9,3,5,8,3,6,5,3,8,5,7,5,4,4,3,8,5,6,5,5,5,5,7,5,8,3,9,5,7,5,5,5,5,7,3,3,5,2,5,5,5,4,5,5,3,5,6,5,3,4,3,5,1,2,5,5,5,8,5,5,7,7,2,8,5,3,8,5,5,8,3,5,8,5,5,3,9,5,5,10,5,6,7,5,7,5,3,7,4,3,3,3,5,4,7,5,4,8,7,8,5,7,5,8,4,7,5,8,4,5,3,5,5,3,5,3,6,3,6,8,7,5,4,7,6,8,4,5,4,6,3,5,5,8,3,5,3,7,7,5,3,5,5,5,5,2,5,6,3,5,8,7,5,5,4,4,3,7,7,3,6,5,5,7,4,2,5,5,5,5,5,7,8,3,3,3,5,9,5,8,4,7,3,6,5,5,2,4,4,5,7,6,5,5,8,4,8,3,7,3,5,5,5,8,5,4,3,3,6,8,5,5,5,5,5,3,5,5,5,4,8,8,5,7,4,5,2,3,8,5,5,5,7,4,5,5,1,5,6,4,3,4,5,3,5,5,6,3,5,4,8,6,5,5,5,5,5,4,3,3,4,4,3,5,8,4,3,6,8,5,3,8,4,6,5,8,3,5,5,8,3,5,5,5,7,4,5,4,5,5,5,4,8,5,5,6,3,7,5,5,5,5,5,3,6,5,9,5,4,5,8,8,5,6,3,3,5,5,12,3,5,5,7,7,4,6,5,3,3,3,8,5,10,5,4,5,4,7,3,5,5,5,6,7,3,6,2,7,3,4,3,6,5,5,3,9,8,3,7,5,3,7,5,3,5,7,7,5,5,4,5,5,8,5,4,3,2,5,7,3,5,8,4,3,5,3,3,5,5,5,3,8,4,3,8,5,7,7,8,5,4,3,9,3,3,6,5,4,5,7,5,5,3,3,5,7,3,5,3,6,5,5,5,7,3,3,7,5,5,6,8,3,4,5,5,2,1,5,4,8,5,1,3,8,5,3,3,8,4,3,6,6,8,4,4,6,5,7,5,4,6,4,5,5,7,4,6,4,5,4,5,8,5,5,6,5,5,2,5,3,7,5,3,5,5,1,8,7,7,7,5,3,5,3,8,4,3,4,6,5,6,5,7,5,7,3,7,5,4,5,5,3,5,8,8,5,5,3,7,3,3,5,6,3,3,8,5,3,5,5,3,5,4,5,5,6,5,5,5,8,2,7,5,5,3,5,5,8,6,7,8,5,5,7,8,7,5,7,4,4,10,3,5,3,4,5,5,5,5,5,4,4,5,5,4,7,5,5,5,5,5,8,5,5,5,5,5,5,5,5,3,3,5,5,5,6,5,7,7,4,5,2,6,6,3,8,5,5,6,9,5,5,5,6,6,3,7,4,8,3,10,4,5,8,3,4,2,5,3,5,5,5,8,4,8,8,5,7,6,8,8,8,3,5,3,5,8,5,3,5,3,7,4,2,3,6,5,4,5,6,7,3,4,5,5,5,5,2,8,5,1,3,4,4,3,5,2,3,8,7,5,5,5,5,8,5,5,5,7,5,8,7,8,11,4,5,3,2,2,6,5,10,5,5,3,5,3,7,3,5,5,8,3,5,3,3,3,6,9,6,5,5,3,4,5,7,7,3,5,3,7,4,6,5,5,5,3,3,8,8,4,5,5,1,3,8,5,5,8,5,8,5,3,5,4,5,2,5,7,4,5,5,10,6,6,8,4,11,5,4,4,3,8,7,3,5,5,5,5,5,3,6,5,5,7,6,9,5,4,7,8,5,5,5,5,8,7,7,7,5,7,5,8,6,3,6,8,5,6,3,5,2,3,7,6,5,8,5,4,4,8,6,6,8,6,3,5,7,7,1,6,5,8,4,3,3,5,3,10,3,5,4,6,7,4,2,7,4,8,5,5,5,5,12,2,5,5,5,7,6,5,2,4,4,4,4,2,7,4,5,5,4,5,8,6,6,3,5,4,4,5,5,5,7,6,5,5,3,3,5,6,7,8,3,5,6,5,3,3,5,5,5,5,5,6,4,4,4,6,7,7,5,5,8,3,3,5,3,8,5,2,5,5,3,5,5,7,5,4,8,2,15,8,6,6,4,10,5,3,8,5,5,7,5,3,5,7,5,4,6,3,3,6,11,7,9,5,5,3,3,5,5,4,8,3,6,5,5,5,3,5,3,5,4,2,5,3,8,3,5,5,4,5,5,5,4,1,5,4,7,4,6,3,3,8,4,5,7,3,5,5,5,3,3,4,3,5,9,4,3,7,8,5,5,5,5,5,5,5,8,5,5,3,5,5,5,3,3,4,5,5,5,8,11,1,7,5,5,5,5,8,5,3,5,8,8,6,3,8,3,6,3,3,5,8,4,6,5,5,5,3,5,5,3,4,5,5,5,7,6,4,5,5,4,8,5,8,6,3,6,5,5,6,7,5,5,5,3,4,5,3,8,4,5,7,3,5,5,6,6,5,6,5,5,5,5,4,5,3,6,5,6,4,3,7,8,5,8,7,3,7,6,4,4,7,8,5,8,8,3,6,5,8,3,5,4,3,6,8,4,5,3,8,3,3,5,7,7,3,8,5,5,3,5,5,7,3,5,5,4,3,3,4,5,6,5,5,6,5,5,8,4,7,12,5,5,5,5,5,5,5,5,3,8,8,10,3,5,3,5,4,5,8,2,5,5,3,7,4,7,5,5,5,4,3,8,8,5,7,3,5,5,5,5,3,11,4,8,4,3,7,3,7,5,4,4,8,8,6,6,5,5,5,5,6,5,4,7,4,5,6,4,3,3,8,4,5,8,5,4,2,2,3,5,7,3,6,10,3,9,5,4,2,5,3,5,7,5,5,5,5,5,3,5,5,7,8,2,5,6,9,6,5,5,8,5,5,3,3,5,3,5,5,6,4,5,5,7,3,7,3,8,3,5,8,5,7,9,5,5,5,7,3,5,7,4,5,5,8,8,9,8,5,5,7,8,4,3,3,8,5,6,5,3,5,5,5,3,5,7,5,4,4,5,5,2,6,5,5,4,6,5,5,3,5,4,7,5,8,3,3,5,5,5,66,5,5,6,5,3,5,4,5,6,8,2,5,5,5,7,6,5,3,8,9,5,5,4,5,3,8,3,5,5,5,5,9,2,6,8,5,5,8,6,6,5,3,5,5,3,5,5,11,6,5,6,9,3,10,8,5,7,3,7,7,3,6,5,3,5,4,5,5,4,4,5,7,7,5,6,5,5,5,8,3,5,3,5,3,4,8,8,5,5,5,11,8,5,5,5,6,7,3,4,3,8,5,8,7,5,4,7,5,4,3,8,5,5,8,5,3,5,9,5,4,5,5,5,5,5,14,8,6,5,3,3,5,2,5,3,4,5,5,4,5,5,3,3,8,5,5,5,5,3,5,6,3,5,7,4,3,5,7,7,8,6,3,4,3,5,5,7,5,5,5,5,4,7,6,5,5,6,4,5,3,3,5,4,5,5,5,3,7,5,7,5,8,6,5,3,5,6,5,5,5,4,8,4,3,7,3,6,5,3,6,6,3,5,4,5,7,4,4,3,8,3,8,7,5,5,8,5,3,4,5,8,5,5,5,3,8,4,3,5,4,5,5,5,2,7,5,6,5,11,3,4,5,4,5,7,7,8,6,5,3,6,7,3,5,7,7,3,7,4,3,5,5,3,8,8,7,5,3,5,3,4,4,5,8,5,2,7,5,3,6,3,4,3,5,3,6,7,2,8,5,7,4,3,7,7,7,5,3,8,5,8,5,4,3,3,8,5,7,3,5,5,7,5,5,4,10,8,3,5,7,8,5,4,6,8,7,5,5,5,7,6,3,5,4,5,3,2,3,3,5,3,5,6,4,5,3,5,4,8,8,3,5,7,5,8,5,6,3,6,3,7,7,7,10,8,3,4,4,3,5,3,6,3,6,5,3,8,4,5,5,15,3,5,5,5,5,5,3,5,8,3,3,7,4,4,5,7,8,7,3,7,4,5,5,3,5,7,4,3,3,8,5,3,8,5,5,5,6,6,4,4,5,7,3,5,5,4,7,5,5,3,6,3,3,7,3,5,3,5,8,5,5,5,3,3,5,6,3,7,5,8,3,8,5,7,5,5,3,5,5,6,10,5,3,7,6,4,8,5,5,3,5,2,3,6,3,5,4,4,5,4,5,5,8,3,7,6,5,3,7,5,3,3,2,5,4,4,4,5,5,5,5,5,5,4,5,4,3,4,7,5,8,5,7,3,6,4,7,4,7,3,5,5,6,4,4,7,8,4,7,8,7,3,2,7,6,5,4,5,5,4,7,3,5,5,8,5,5,4,8,4,3,6,5,8,5,5,5,6,8,3,8,7,5,7,4,5,5,5,4,5,3,5,5,3,4,3,5,7,5,8,7,5,5,4,5,3,6,7,3,5,4,5,5,8,4,5,4,5,3,5,5,4,3,3,5,5,5,4,8,5,6,6,4,5,8,4,5,5,2,5,5,8,2,5,5,6,3,5,5,5,6,6,7,5,6,4,4,5,7,5,5,7,3,5,3,6,5,3,3,8,8,5,5,5,8,5,5,5,5,8,6,10,5,8,5,2,3,4,6,5,3,8,7,9,3,6,4,5,7,3,4,6,5,6,8,5,3,3,8,8,6,8,3,7,3,5,5,5,3,10,6,5,6,6,6,5,6,2,5,5,1,2,3,4,6,4,4,6,3,5,3,6,4,6,3,5,3,6,5,3,7,2,3,3,3,6,5,6,5,3,3,5,5,2,5,5,3,5,2,6,5,4,6,5,6,4,6,6,3,5,6,6,5,8,5,5,5,6,5,3,6,5,6,3,2,3,5,6,3,3,5,5,6,5,6,5,5,6,6,6,3,6,5,2,5,6,4,5,7,6,6,5,5,2,1,6,4,6,6,3,6,5,3,6,5,5,6,3,1,5,5,5,7,3,5,3,1,1,6,5,7,5,3,5,5,3,6,5,8,6,5,8,6,6,6,6,3,7,4,6,2,5,5,5,5,5,5,3,3,5,6,5,5,3,6,3,3,3,6,5,3,6,1,4,5,5,5,6,5,6,6,7,6,3,5,6,6,6,5,5,6,5,2,6,6,5,1,6,7,3,5,3,6,3,1,1,5,5,6,6,5,6,3,1,8,7,6,5,6,6,6,7,6,6,4,5,3,5,6,6,2,6,5,5,5,5,6,3,5,6,5,3,5,4,5,3,3,6,5,6,2,5,1,6,3,5,6,5,5,3,5,6,3,1,7,5,5,5,3,5,3,5,4,3,3,5,2,5,1,8,5,6,7,5,4,5,5,6,8,5,3,5,5,1,2,5,5,1,7,7,5,5,6,5,5,5,3,3,3,1,5,6,5,7,6,5,6,6,3,1,3,5,5,5,8,6,4,6,5,6,3,7,7,6,6,3,5,3,5,5,6,3,3,5,4,5,5,5,7,6,4,6,8,5,2,5,3,6,4,3,4,1,6,2,4,5,6,4,5,3,3,6,5,3,5,5,10,3,6,5,3,5,3,5,1,3,3,3,3,2,5,5,2,5,5,8,5,3,3,5,4,6,5,5,5,5,6,3,5,6,4,3,4,5,3,6,4,6,5,6,5,6,7,6,3,6,5,3,2,3,3,3,6,5,6,4,4,4,3,6,2,6,5,2,5,6,3,3,5,6,7,3,5,3,5,6,6,6,6,8,6,6,6,3,8,5,3,5,1,5,3,5,3,5,5,5,3,5,6,6,5,5,5,4,2,5,3,6,3,3,5,4,3,5,3,6,5,6,6,5,6,2,5,6,8,5,2,6,3,3,6,4,6,4,2,3,5,6,3,5,4,5,5,4,6,6,4,6,8,6,5,6,5,5,5,5,5,7,5,6,5,5,5,6,5,1,1,5,4,5,6,4,6,7,2,6,6,5,6,6,2,3,3,5,5,5,5,8,6,1,3,11,5,6,4,4,5,5,7,5,5,5,4,6,5,5,3,7,7,6,8,3,7,8,6,4,5,5,5,6,5,6,7,6,5,6,5,1,5,5,5,1,3,5,3,4,2,5,5,3,1,5,5,3,6,6,3,4,5,6,9,3,2,6,4,5,2,5,7,4,5,6,6,6,6,5,5,6,4,5,6,7,3,5,5,5,5,4,7,5,3,2,7,5,6,4,5,5,5,6,6,5,4,1,5,3,4,3,5,4,6,6,5,6,5,3,5,6,2,5,2,3,3,3,6,3,3,7,6,3,7,5,8,5,5,3,7,3,7,3,5,3,6,2,5,5,7,6,3,3,6,5,5,5,3,5,5,5,6,3,5,3,6,5,1,5,5,3,9,6,6,5,5,6,6,3,6,6,4,5,5,6,5,4,6,3,5,5,1,3,7,3,8,5,5,3,1,3,6,6,6,7,6,5,5,5,3,3,6,6,6,3,5,6,7,8,6,6,1,5,8,4,6,3,1,6,6,3,5,6,3,6,3,6,5,5,6,6,3,6,6,3,4,6,5,3,5,5,5,4,2,5,6,3,1,6,5,8,3,5,3,6,4,5,5,5,6,3,5,6,8,1,3,5,6,5,6,5,3,5,7,6,6,3,6,5,3,3,7,5,3,5,5,3,5,2,4,3,2,5,7,5,3,5,5,6,6,6,6,5,2,5,6,6,5,3,5,6,4,3,6,3,6,5,3,6,3,6,5,3,6,6,6,4,5,4,4,9,6,3,4,4,5,6,5,4,3,6,6,6,4,5,5,3,5,3,4,6,3,5,4,3,3,2,7,5,6,5,3,6,5,5,5,5,4,5,2,6,6,3,3,6,3,5,3,5,3,5,5,5,1,5,5,6,6,3,6,5,1,5,6,3,7,5,3,6,4,2,5,5,7,6,5,6,6,2,4,5,6,5,4,7,6,4,6,5,5,6,6,5,7,3,5,5,5,4,5,3,6,6,3,5,6,10,3,6,5,8,3,4,6,5,5,3,3,5,3,6,5,6,6,5,8,5,5,4,7,6,4,6,8,8,6,5,7,6,3,6,6,3,1,5,4,5,6,4,7,5,2,5,3,2,3,1,5,3,3,5,6,6,6,6,5,3,6,5,3,5,3,6,1,3,3,5,2,5,3,1,5,3,5,5,5,3,6,8,1,5,3,3,4,1,5,3,5,3,8,3,5,5,4,5,5,6,6,6,5,6,3,5,6,5,6,5,6,4,6,5,3,7,6,3,1,3,7,6,3,1,5,4,5,5,8,3,3,2,6,5,5,5,7,5,5,5,3,5,6,5,7,3,6,6,5,4,6,5,5,3,5,1,1,1,5,6,4,6,2,5,6,5,3,3,6,5,6,5,6,6,6,4,2,3,5,8,6,2,6,6,1,5,8,3,6,5,3,5,5,5,6,6,5,6,2,6,6,6,6,3,5,5,4,7,5,5,5,6,4,3,3,5,5,6,5,5,6,5,7,1,5,4,5,8,1,6,3,6,6,6,5,1,5,5,5,3,6,3,6,6,6,3,5,3,5,6,1,3,1,5,7,6,4,8,1,4,3,6,4,3,6,6,6,5,3,3,3,3,5,3,5,6,2,3,1,5,5,3,5,6,6,6,2,5,3,5,4,6,1,6,6,3,5,3,4,7,8,5,3,4,4,5,5,6,2,1,4,1,6,6,5,5,5,3,6,3,5,5,6,4,3,5,8,5,3,6,6,6,6,2,5,2,5,1,8,3,5,5,5,4,1,6,6,7,6,3,3,5,5,5,1,5,5,3,1,5,3,3,3,4,5,6,6,3,5,6,5,4,1,5,2,5,5,5,1,5,6,5,6,5,5,5,6,5,6,6,5,6,5,7,5,6,5,5,5,6,12,6,8,3,3,6,6,3,7,3,6,5,5,6,2,7,3,3,5,6,6,1,8,6,5,5,6,5,3,1,5,2,5,5,5,8,3,6,6,3,5,5,8,5,5,3,5,1,6,5,3,3,5,4,5,4,1,6,7,7,6,6,5,5,4,3,7,7,4,6,1,3,5,5,3,1,5,5,7,3,4,7,6,2,8,6,6,1,8,4,7,5,6,3,2,5,5,3,6,3,7,5,6,5,6,3,6,7,6,5,3,7,4,4,5,5,1,1,6,3,5,5,5,6,3,8,5,4,6,8,5,4,5,8,6,5,2,3,5,6,6,3,6,3,5,4,5,5,3,1,3,6,4,1,5,5,5,6,5,3,6,5,5,5,1,6,1,6,5,5,3,5,5,3,5,6,3,5,5,5,7,6,5,3,6,3,5,7,3,6,7,6,5,5,2,7,5,6,5,3,6,4,8,3,6,5,1,3,1,5,5,3,3,4,3,6,5,11,5,5,6,4,3,5,3,4,5,6,6,5,5,5,5,3,1,3,3,6,7,6,5,6,5,5,5,3,4,5,4,5,4,6,5,4,6,8,7,6,8,6,6,5,3,3,6,6,3,2,5,4,5,3,5,5,5,3,6,5,1,5,5,6,5,5,6,5,4,2,6,3,6,6,5,3,3,5,3,3,5,1,5,2,6,5,3,3,6,5,3,3,5,6,1,3,5,5,6,3,3,7,5,6,3,6,6,3,6,4,5,6,6,5,8,5,4,6,5,3,6,5,6,3,7,1,2,3,5,6,4,1,5,5,7,5,3,3,5,5,6,5,1,4,3,3,3,3,4,8,1,5,3,5,4,3,5,1,2,5,3,5,5,6,5,5,1,7,2,3,6,4,7,5,3,4,5,5,5,6,5,5,3,5,6,3,3,6,1,6,6,6,2,2,4,5,6,6,5,22,1,6,3,6,3,6,6,6,2,4,3,6,6,6,5,1,3,5,5,1,1,3,5,4,5,6,3,6,5,6,5,5,5,7,3,4,5,5,3,5,5,4,3,6,3,5,5,5,5,3,5,5,3,6,6,5,5,3,6,4,3,3,3,5,8,5,5,2,4,5,5,3,6,5,6,4,5,4,6,6,6,3,5,5,6,6,4,5,1,6,5,3,5,3,5,3,5,6,4,6,5,5,3,1,6,3,6,8,6,6,4,1,6,5,6,6,5,5,6,4,5,5,6,1,3,5,4,5,3,4,5,1,6,6,8,2,5,2,3,8,6,6,5,5,6,5,3,3,1,5,4,5,3,6,5,5,2,4,3,5,6,3,6,6,5,4,6,4,5,6,4,4,3,3,3,7,6,5,5,5,5,8,1,2,5,5,3,5,7,6,5,5,5,1,6,3,4,5,3,3,6,5,3,6,6,5,6,2,6,2,5,6,3,5,6,3,5,5,6,5,5,6,5,2,4,3,6,3,3,4,6,5,3,3,5,5,6,6,5,5,5,6,5,6,6,5,2,5,7,6,5,6,6,6,5,6,3,3,3,3,1,3,3,6,6,5,3,3,8,5,7,7,3,7,6,6,5,3,6,3,7,2,6,7,1,3,5,5,5,3,3,6,5,6,6,5,4,3,3,8,6,6,4,3,1,5,3,3,1,6,6,3,6,6,6,6,1,6,5,6,3,5,3,3,4,3,6,4,3,5,6,5,5,6,5,1,5,3,3,5,6,6,5,1,1,6,5,5,6,5,5,5,3,5,5,6,6,6,3,1,7,5,1,6,5,3,3,6,6,8,8,5,1,5,3,4,5,5,6,3,5,5,6,3,6,2,5,2,2,5,8,3,5,5,5,5,2,6,5,5,3,6,6,6,5,1,5,1,5,3,5,5,6,3,4,6,3,6,5,6,5,5,6,5,3,7,5,3,5,3,6,4,5,5,3,1,5,4,6,3,3,5,5,6,5,1,6,5,5,1,3,3,6,5,5,5,3,8,3,4,5,3,5,6,6,3,6,6,1,6,5,3,5,3,6,4,5,7,3,6,7,4,7,6,5,5,5,5,5,6,5,8,3,5,1,5,5,5,5,5,5,6,6,5,5,6,6,6,7,5,8,5,6,5,1,5,1,3,7,5,5,6,5,7,2,6,5,3,3,3,6,6,4,3,6,1,5,3,9,6,3,4,5,6,5,5,1,3,5,6,5,7,4,5,8,4,6,3,4,6,3,3,5,5,3,5,4,6,5,6,6,6,5,3,6,5,6,5,7,6,5,5,5,3,7,7,5,5,5,5,1,4,5,3,5,3,7,5,3,6,8,1,5,3,6,3,3,3,3,6,5,1,6,3,3,3,5,6,5,5,5,6,3,5,5,5,5,3,3,3,1,6,5,3,7,5,5,1,4,5,5,6,6,7,5,6,5,6,2,6,2,3,5,5,5,6,7,4,3,6,6,5,6,6,3,5,5,5,6,6,3,6,5,3,5,6,1,5,3,3,5,8,6,2,6,5,5,5,3,3,5,3,5,7,3,3,5,3,4,1,4,1,5,3,3,5,5,6,6,4,1,8,6,3,3,5,3,6,5,6,5,5,6,5,5,7,2,5,7,5,3,5,5,5,5,5,3,5,4,6,5,6,6,3,3,5,5,5,5,5,5,6,2,3,1,6,3,3,5,6,3,5,5,6,3,6,5,3,5,3,5,1,5,3,5,4,4,6,6,6,5,3,6,5,6,5,5,6,6,3,6,6,5,2,2,5,5,3,3,3,6,4,6,5,5,5,5,5,3,5,1,2,3,6,2,6,7,3,5,5,3,6,5,3,1,5,6,1,5,2,6,6,5,3,5,5,7,5,7,1,5,3,3,5,3,3,5,4,8,6,5,5,3,5,1,5,8,7,4,6,3,2,4,2,6,5,6,5,5,6,7,6,6,6,3,5,6,3,5,5,5,5,5,3,5,3,5,7,6,3,5,1,5,5,7,6,1,5,6,3,5,5,6,5,3,6,6,3,5,5,4,7,6,8,3,5,6,6,6,3,6,3,3,3,6,3,5,1,3,6,5,3,6,5,5,3,3,5,1,3,6,3,7,1,6,6,7,5,2,4,6,4,3,5,8,7,3,6,3,6,3,5,6,6,6,1,6,6,5,5,3,5,5,7,6,5,5,5,5,3,6,5,5,6,5,5,6,1,5,2,2,2,5,3,5,6,5,5,6,5,3,2,6,3,5,5,5,3,6,2,5,4,6,5,5,6,5,2,5,3,5,5,5,3,3,5,8,5,4,4,8,5,6,1,5,5,8,5,6,1,6,5,4,3,6,6,7,4,5,4,6,8,5,5,7,2,4,5,5,3,3,2,5,5,6,1,4,5,4,4,4,3,6,5,6,8,1,3,5,5,5,4,6,3,8,5,7,6,6,5,3,6,3,3,5,5,5,2,1,3,4,5,5,1,7,3,4,3,1,4,6,3,5,5,6,5,3,6,3,5,6,3,2,6,5,6,3,3,3,1,3,4,5,3,3,3,6,8,6,5,6,6,5,7,1,1,5,6,5,6,4,5,5,5,5,5,4,5,5,5,5,3,5,1,3,3,6,6,2,5,3,5,5,6,5,7,3,5,6,6,3,6,5,5,5,6,5,5,3,1,8,5,6,3,5,5,7,3,6,6,6,5,5,1,5,5,3,5,5,5,7,6,1,6,2,4,4,6,5,1,5,3,3,5,5,5,6,5,5,5,6,5,3,5,6,5,5,5,5,5,3,7,6,5,1,3,6,5,6,5,3,1,6,5,4,4,3,4,5,6,5,5,5,3,3,5,8,4,7,6,4,6,5,5,6,5,6,3,5,3,6,7,6,6,6,6,5,5,6,5,3,6,5,5,7,3,3,5,5,5,5,5,6,5,7,3,3,6,5,6,1,6,6,5,5,6,3,5,8,3,1,3,8,6,5,5,1,3,6,1,4,5,4,5,7,5,5,6,6,3,4,5,3,5,3,6,5,3,6,7,3,2,8,6,5,6,2,5,4,5,5,5,7,5,5,6,6,5,5,5,3,6,5,6,7,5,5,5,5,5,7,3,6,3,6,1,3,1,3,5,5,2,5,5,5,5,3,5,6,5,5,5,3,5,3,3,5,2,8,5,9,5,4,6,5,3,6,5,1,3,5,4,2,7,1,4,3,2,4,5,3,7,5,3,5,3,5,5,3,5,5,4,5,5,5,5,6,3,3,5,3,5,5,5,7,5,3,3,5,5,3,6,5,6,3,6,5,5,5,9,5,3,3,5,5,3,3,1,6,3,6,6,6,5,5,4,5,4,5,4,3,7,5,5,5,5,5,4,4,3,3,6,4,1,6,7,5,6,6,5,6,1,5,6,7,6,3,5,5,5,5,6,6,1,5,5,6,5,5,6,5,3,3,2,6,3,5,3,6,3,5,6,5,7,6,5,5,5,3,5,5,1,3,5,7,6,3,6,2,3,4,3,1,6,5,6,5,3,5,7,3,5,5,1,3,5,3,4,7,3,5,3,5,5,3,5,4,4,6,6,6,5,5,5,3,6,5,5,5,4,5,6,6,6,3,6,5,3,5,5,5,5,4,6,6,6,5,2,5,5,3,7,6,6,6,3,4,3,3,1,6,1,6,6,6,5,3,6,5,6,5,3,6,4,6,1,2,5,5,3,6,6,6,5,1,3,4,3,5,6,5,3,6,3,3,4,5,3,3,1,5,3,6,7,2,3,6,3,6,6,4,5,3,6,5,3,6,6,6,5,5,3,6,2,8,3,5,1,6,6,1,2,3,4,6,1,3,4,4,5,3,5,7,6,5,5,3,3,8,3,5,5,6,6,6,4,3,6,5,6,5,5,3,5,3,4,7,5,1,6,4,5,5,5,4,5,1,2,6,1,1,6,3,5,3,5,6,3,5,3,5,5,6,5,5,3,5,6,5,3,3,5,5,6,3,7,3,5,3,3,7,5,4,5,5,5,6,4,5,5,5,5,5,6,5,3,5,4,4,5,5,5,3,5,5,5,4,5,7,3,5,5,7,6,6,3,7,5,5,3,3,3,3,5,3,4,3,4,5,5,2,5,4,6,5,3,5,6,4,7,5,6,8,4,5,6,1,5,6,3,5,1,5,15,5,5,5,5,5,5,1,5,7,6,6,1,5,5,5,3,5,5,3,5,5,4,5,6,5,5,3,3,4,3,3,3,5,5,7,6,5,5,6,5,7,6,4,5,6,5,5,6,5,6,1,5,5,6,5,3,5,1,5,3,7,6,6,3,4,6,8,5,5,5,7,4,5,7,3,5,5,1,1,6,5,5,3,5,5,2,3,5,6,5,4,1,2,6,5,5,1,6,3,3,5,3,5,5,3,6,3,6,5,3,2,5,3,3,3,3,2,5,6,5,5,5,3,5,5,6,5,6,5,5,6,7,7,3,5,3,3,6,3,3,3,6,5,5,1,7,1,6,3,5,8,5,3,3,5,5,1,5,6,1,5,5,5,5,7,3,5,3,6,3,3,5,7,6,1,5,6,4,6,3,1,5,6,6,5,5,3,5,5,7,6,6,6,5,3,5,3,3,3,6,3,5,5,1,6,1,3,6,1,5,3,6,6,3,7,5,5,5,3,3,6,5,3,3,3,5,3,5,6,5,6,6,5,3,6,3,6,5,5,6,3,3,6,5,3,5,4,7,5,6,5,5,7,3,3,5,5,6,3,5,5,7,6,6,5,6,3,5,3,6,6,6,7,3,5,1,3,6,5,7,5,3,6,2,5,1,5,1,3,3,6,7,6,6,6,3,6,5,5,3,6,5,5,3,3,4,4,5,5,3,5,7,3,5,6,9,3,7,3,6,5,3,5,8,5,6,3,6,1,4,4,3,6,8,3,5,5,7,5,3,3,2,5,3,5,6,5,7,5,5,5,3,4,5,5,5,5,5,1,5,5,10,3,6,6,5,5,5,3,4,5,5,2,3,8,3,5,6,5,7,2,5,5,5,5,4,5,3,6,3,6,5,5,6,4,8,5,6,5,6,4,5,3,5,3,6,5,5,6,6,5,2,5,7,3,5,3,4,6,5,5,4,6,3,5,5,3,4,3,3,3,6,6,3,5,3,3,5,3,6,5,5,6,5,6,1,6,8,7,5,5,4,5,5,3,3,5,3,6,7,5,6,6,5,4,4,3,5,6,6,6,7,10,2,3,6,4,5,3,5,6,6,5,6,1,6,8,6,5,3,5,1,3,5,3,3,3,6,6,5,5,6,4,3,5,3,5,7,3,2,6,5,5,3,6,6,6,5,3,5,6,5,5,6,8,7,5,3,5,5,4,5,6,3,3,3,6,8,5,5,6,5,3,5,1,3,6,6,8,4,8,3,3,5,6,3,5,1,6,6,6,5,6,2,6,1,5,4,6,3,7,5,3,3,1,6,5,3,5,1,7,5,5,6,3,6,6,5,3,6,6,3,5,9,6,5,6,2,6,8,3,7,6,6,5,5,6,3,5,5,5,5,3,6,1,7,5,7,7,6,3,5,6,3,2,6,5,3,6,7,5,5,5,5,6,1,3,3,8,5,5,6,3,4,6,1,8,2,5,5,4,5,6,6,6,1,3,5,6,7,5,5,3,5,6,5,3,6,5,3,6,6,6,5,3,6,4,5,5,3,4,5,8,6,6,4,5,5,5,5,5,5,6,3,6,5,5,3,3,5,4,7,3,6,5,5,5,5,6,5,5,6,5,1,1,5,5,1,6,5,3,1,2,3,6,5,5,5,5,6,6,5,3,3,5,4,2,6,5,3,2,3,3,3,3,6,6,6,1,6,3,3,3,4,5,3,5,3,6,7,6,5,5,7,5,6,4,5,5,5,6,5,3,7,3,3,5,5,5,3,5,5,5,3,5,3,2,4,1,6,5,5,5,3,6,7,1,7,5,3,6,3,5,7,5,5,3,5,5,3,6,3,5,6,5,5,3,6,5,6,5,5,5,5,5,4,6,6,5,5,5,5,5,5,3,3,3,3,6,3,5,3,6,5,5,5,3,4,4,5,4,1,3,5,3,7,5,5,5,5,7,5,1,5,3,5,5,4,2,3,3,3,1,1,5,6,2,6,7,2,5,2,5,1,3,3,3,3,5,6,3,3,5,5,5,6,4,3,3,5,6,4,3,3,6,1,7,2,2,5,3,1,5,5,6,1,8,5,3,5,3,5,3,4,6,5,5,4,1,5,2,5,5,6,5,5,6,3,6,7,5,6,3,6,5,3,4,6,4,7,6,3,6,8,6,5,5,4,5,8,4,6,5,6,6,5,6,5,5,6,4,4,1,5,5,4,6,1,6,5,5,4,2,3,6,5,3,7,3,3,8,5,6,3,5,6,5,5,3,5,4,3,5,3,3,5,1,3,7,5,5,6,1,11,6,5,6,5,3,5,6,7,7,6,6,5,3,6,5,6,5,4,6,7,5,2,6,5,1,5,6,5,4,6,5,3,5,5,5,3,3,1,3,3,3,4,3,1,4,3,3,5,3,3,5,3,5,7,6,3,6,5,2,8,5,5,6,5,3,7,5,3,4,5,5,6,5,5,4,5,3,6,3,6,6,6,5,5,5,5,3,5,6,3,5,7,5,5,3,6,3,7,4,5,5,5,6,5,3,4,6,3,4,6,5,3,5,3,5,5,5,6,6,3,5,5,8,5,3,4,5,8,5,3,3,5,5,6,3,6,5,5,6,6,2,6,6,2,4,5,5,5,5,6,5,3,3,5,3,8,6,5,6,5,3,5,3,3,3,1,5,3,5,6,5,5,2,6,6,5,6,3,5,6,3,2,3,4,1,7,2,5,5,5,7,9,6,6,5,3,5,6,3,1,3,6,5,6,6,5,3,6,5,2,5,5,3,5,8,6,4,5,3,6,4,3,5,5,6,6,6,4,5,3,5,4,5,6,6,5,5,4,4,3,6,6,5,8,3,5,3,1,3,6,6,6,6,5,6,5,1,6,4,5,6,6,6,5,6,6,6,5,4,8,3,4,5,4,5,5,7,5,5,5,5,5,5,3,4,5,5,3,3,5,6,5,5,5,5,1,3,5,6,3,5,5,4,5,6],\"z\":[0,0,0,0,0,0,0,0,0,0,0,0,0,0,0,0,0,0,0,0,0,0,0,0,0,0,0,0,0,0,0,0,0,0,0,0,0,0,0,0,0,0,0,3,0,0,0,0,0,0,0,0,0,0,0,0,0,0,0,0,0,0,0,0,0,0,0,1,0,0,0,0,0,0,0,0,0,0,0,0,0,0,0,0,0,0,0,0,0,0,0,0,1,0,0,0,0,0,0,1,0,0,0,0,0,0,0,0,0,0,0,0,0,0,0,0,0,0,0,0,0,1,0,0,0,0,0,0,0,0,0,0,0,0,0,0,0,0,0,0,0,0,0,0,0,0,0,0,0,0,0,0,0,0,0,0,0,0,0,0,0,0,0,0,0,0,0,0,0,0,0,0,0,0,0,0,0,0,0,0,0,0,0,0,0,0,0,0,0,0,0,0,0,0,0,0,0,0,0,0,0,0,0,0,0,0,0,0,0,0,0,0,0,0,0,0,0,0,0,0,0,0,0,0,0,0,0,0,0,0,0,0,0,0,0,0,4,0,0,0,0,0,0,0,0,0,0,0,0,0,0,0,0,0,0,0,0,0,0,1,0,0,0,0,0,0,0,0,0,0,0,0,0,0,0,0,0,0,0,0,0,0,0,1,0,0,0,0,0,0,0,0,0,0,0,0,0,0,0,0,0,0,0,0,0,0,0,0,0,0,0,0,0,0,0,0,0,0,0,0,0,0,0,0,0,0,0,0,0,0,0,0,0,0,0,0,0,0,0,0,0,0,0,0,0,0,0,0,0,0,0,0,0,0,0,0,0,0,0,0,0,0,0,0,0,1,0,0,0,0,0,0,0,0,0,0,0,0,0,0,0,0,0,0,0,0,0,0,0,0,0,0,0,0,0,0,0,0,0,0,0,0,0,0,0,0,0,0,0,0,0,0,0,0,0,0,0,0,0,0,0,0,0,0,0,0,0,0,0,0,0,0,0,0,0,0,0,0,0,0,0,0,0,0,0,0,0,0,0,0,0,0,0,0,0,0,0,0,0,0,0,0,0,0,0,0,0,0,0,0,0,0,0,0,1,0,0,0,0,0,0,0,0,0,0,3,0,0,0,0,0,0,0,0,0,0,0,0,0,0,0,0,0,0,0,0,0,0,0,0,0,0,0,0,0,0,0,0,0,0,0,0,0,0,0,0,0,0,0,0,0,0,0,0,0,0,0,0,0,0,0,0,0,0,0,0,0,0,0,0,0,0,0,0,0,0,0,0,3,0,0,0,0,0,0,0,0,0,0,0,0,0,0,0,0,0,0,0,0,0,0,0,0,0,0,0,0,0,0,0,0,0,0,0,0,0,0,0,0,0,0,0,0,0,0,0,0,0,0,0,0,0,0,0,0,0,0,0,0,0,0,0,0,0,0,0,0,0,0,0,0,0,0,0,0,0,0,0,0,0,0,0,0,0,0,0,0,0,0,0,0,0,0,0,0,0,1,0,0,0,0,0,0,0,0,0,0,0,0,0,0,0,0,0,2,0,0,0,0,0,0,0,0,0,0,0,0,0,0,0,0,0,0,0,0,0,0,0,0,0,0,0,0,0,0,0,0,0,0,0,0,0,0,0,0,0,0,0,0,0,0,0,0,0,0,0,0,0,0,0,0,0,0,0,0,0,0,0,0,0,0,0,0,0,3,0,0,0,0,0,0,0,0,0,0,0,0,0,0,0,0,0,0,0,0,0,0,0,0,0,0,0,0,0,0,0,0,0,0,0,0,0,0,0,0,0,0,0,0,0,0,0,0,0,0,0,0,0,0,0,0,0,0,0,0,0,0,0,0,0,0,0,0,0,0,1,0,0,0,0,0,0,0,0,0,0,0,0,0,0,0,0,0,0,0,0,0,0,0,0,0,0,0,0,0,0,0,0,3,4,1,0,0,0,1,0,0,0,0,0,0,0,0,0,0,3,0,0,0,0,0,0,0,0,0,0,0,0,0,0,0,0,0,0,0,0,0,0,0,0,0,0,0,0,0,0,0,0,0,0,0,0,0,0,0,0,0,0,0,0,0,0,0,0,0,0,0,0,0,0,0,0,0,0,0,0,2,0,0,0,0,0,0,0,0,0,0,0,0,0,0,0,0,0,0,0,0,0,0,0,0,0,0,0,0,0,0,0,0,0,0,0,0,0,0,0,0,0,0,0,0,0,0,0,0,0,0,0,0,0,0,0,0,0,0,0,0,0,3,0,0,0,0,0,0,0,0,0,0,0,0,0,0,0,0,0,0,0,0,0,0,0,0,0,0,0,0,0,1,0,0,0,0,0,0,0,0,0,0,0,0,0,0,0,0,0,0,0,0,0,0,0,0,0,0,0,0,0,0,0,0,0,0,0,0,0,0,0,0,0,2,0,0,0,0,0,0,0,0,0,0,0,0,0,0,0,0,0,0,0,0,0,0,0,0,0,0,0,0,0,0,0,0,0,0,0,0,0,0,0,0,0,0,0,0,0,0,0,1,0,0,0,0,0,0,0,0,0,0,0,0,0,0,0,0,0,0,0,0,0,0,0,0,0,1,0,0,0,0,0,0,0,0,0,0,0,0,0,0,0,0,0,0,0,0,0,0,0,0,0,0,0,0,0,0,0,0,0,0,0,0,0,0,0,0,0,0,0,0,0,0,0,0,0,0,0,0,0,0,0,0,0,0,0,0,0,0,0,0,0,0,0,0,0,0,0,0,0,0,0,0,0,0,0,0,0,0,0,0,0,0,0,0,0,0,0,0,0,0,0,0,0,0,0,0,0,0,0,0,0,0,0,0,0,0,0,0,0,0,0,0,0,0,0,0,0,0,0,0,1,0,0,1,0,0,0,0,0,0,0,0,0,0,0,0,0,0,0,0,0,0,0,0,0,0,0,0,0,0,0,0,0,0,0,0,0,0,0,0,0,0,0,0,0,0,0,0,0,0,0,0,0,0,0,0,0,0,0,0,0,0,0,0,0,0,0,0,0,0,0,0,0,0,0,0,0,0,0,0,0,0,0,1,0,0,0,0,0,0,0,0,0,0,0,0,0,0,0,0,0,0,0,0,0,0,0,0,0,0,0,0,0,0,0,0,0,0,0,0,0,0,0,0,0,0,0,0,0,0,0,0,0,0,2,0,0,0,0,0,0,0,0,0,0,0,0,0,0,0,0,0,0,0,0,0,0,0,0,0,0,0,0,0,0,0,0,0,0,0,0,0,0,0,0,0,0,0,0,0,0,0,0,0,0,0,0,0,0,0,0,0,0,0,0,0,0,0,0,0,0,0,0,0,0,0,0,0,0,0,0,0,0,0,0,0,0,0,0,0,0,0,0,0,0,0,0,0,0,0,0,0,0,0,0,0,0,0,0,0,0,0,0,0,0,0,0,0,0,0,0,0,0,0,0,0,0,0,0,0,0,0,0,0,0,0,0,0,0,0,0,0,0,0,0,0,0,0,0,0,0,0,0,0,0,0,0,0,0,0,0,0,0,0,0,0,0,0,0,0,0,0,0,0,0,0,0,0,0,0,0,0,0,0,0,0,0,0,0,0,0,0,0,0,0,1,0,0,0,0,0,0,0,0,0,0,0,0,0,0,0,0,0,0,0,0,0,0,1,0,0,0,0,0,0,0,0,0,0,0,0,0,0,0,0,0,0,0,0,0,0,0,0,0,0,0,0,0,0,0,0,0,0,0,0,0,1,0,0,0,0,0,0,0,0,0,0,0,0,0,0,0,0,0,0,0,0,0,0,0,0,0,0,0,0,0,0,0,0,0,0,1,0,0,0,0,0,0,0,0,0,0,0,0,0,0,0,0,0,1,0,0,0,0,0,0,0,0,0,0,0,0,0,0,0,0,0,0,0,0,0,0,0,0,0,0,0,0,0,0,0,0,0,0,0,0,0,0,0,0,0,0,0,0,0,0,0,0,0,0,0,0,0,0,0,0,0,0,0,2,0,0,0,0,0,0,0,0,0,0,0,0,0,0,0,0,0,0,0,0,0,0,0,0,0,0,0,0,0,0,0,0,0,0,0,0,0,0,0,0,0,0,0,0,0,0,0,0,0,0,0,0,0,0,0,0,0,0,0,0,0,0,0,0,0,0,0,0,0,0,0,0,1,0,0,0,0,1,0,0,0,0,0,0,0,0,0,0,0,0,0,0,0,0,0,0,0,0,0,0,0,0,0,0,0,0,0,0,0,0,0,0,0,0,0,0,0,0,0,0,0,0,0,0,0,0,0,0,0,0,0,0,0,0,0,0,0,0,0,0,0,0,0,1,0,0,0,0,0,0,0,0,0,0,0,0,0,0,0,0,0,0,0,0,0,0,0,0,0,0,2,0,0,0,0,0,0,0,0,0,0,0,0,0,0,0,0,0,0,0,0,0,0,0,0,0,0,0,0,0,0,0,0,0,0,0,0,0,0,0,0,0,0,0,0,0,0,0,0,0,0,0,0,0,0,0,0,0,0,0,0,0,0,0,0,0,0,0,0,0,0,0,0,0,0,0,0,0,0,0,0,0,0,0,0,0,0,1,0,0,0,0,0,0,0,0,0,0,0,0,0,0,0,0,0,0,0,0,0,0,0,0,0,0,0,0,0,0,0,0,0,0,0,0,0,0,0,0,0,0,0,0,0,0,0,0,0,0,0,0,0,0,0,0,0,0,0,0,0,0,0,0,0,0,0,0,0,0,0,0,0,0,0,0,0,0,0,0,0,0,0,0,0,0,0,0,0,0,0,0,0,0,0,0,0,0,0,0,0,0,0,0,0,0,0,0,0,0,0,0,0,0,0,0,0,0,0,0,0,0,0,0,0,0,0,0,0,0,0,0,0,0,0,0,0,0,0,0,0,0,0,0,0,0,0,0,0,0,0,0,0,0,0,0,0,0,0,0,0,0,0,0,0,1,0,0,0,0,0,0,0,0,0,0,0,0,0,0,0,0,0,0,0,0,0,0,0,0,0,0,0,0,0,0,0,0,0,0,0,0,0,0,0,0,0,0,0,0,0,0,0,0,0,0,0,0,0,0,0,0,0,0,0,0,0,1,0,0,0,0,0,0,0,0,0,0,0,0,0,0,0,0,0,0,0,0,0,0,0,0,0,0,0,0,0,0,0,0,0,0,0,0,0,0,0,0,0,0,0,0,0,0,0,0,0,0,0,0,0,0,0,0,0,0,0,0,0,0,0,0,0,0,0,0,0,0,0,0,0,0,0,0,1,0,0,0,0,0,0,0,0,0,0,0,0,0,0,0,0,0,0,0,0,0,0,0,0,0,0,0,0,0,0,0,0,0,0,0,0,0,0,0,0,0,0,0,0,0,0,0,0,0,0,0,0,0,0,0,0,0,0,0,0,0,0,0,0,0,0,0,0,0,0,0,0,0,0,0,0,0,0,0,0,0,0,0,0,0,0,0,0,0,0,0,0,0,0,0,0,0,0,0,0,0,0,0,0,0,0,0,0,0,0,0,0,0,0,0,0,0,0,0,0,0,0,0,0,0,0,0,0,0,1,0,0,0,0,0,0,0,0,0,0,0,0,0,0,0,0,0,0,0,0,0,0,0,0,0,0,0,0,0,0,0,0,0,0,0,0,0,0,0,0,0,0,0,0,0,0,0,0,0,0,0,0,0,0,0,0,0,0,0,0,0,0,0,0,0,0,0,0,0,0,0,0,0,0,0,0,0,0,0,0,0,0,0,0,0,0,0,0,0,0,0,0,0,0,0,0,0,0,0,0,0,0,0,0,0,0,0,0,0,0,0,0,0,0,0,0,0,0,0,0,0,0,0,0,0,0,0,0,1,0,0,0,0,0,0,0,0,0,0,0,0,0,0,0,1,0,0,0,0,0,0,0,0,0,0,0,0,0,0,0,0,0,0,0,0,1,0,0,0,0,0,0,0,0,0,0,0,0,0,0,0,0,0,0,0,0,0,0,0,0,0,0,0,0,0,0,0,0,0,0,0,0,0,0,0,0,0,0,0,0,0,0,0,0,0,0,0,0,0,0,0,0,0,0,0,0,0,0,0,0,0,0,0,0,0,0,0,0,0,0,0,0,0,0,0,0,0,0,0,0,0,0,0,0,0,0,0,0,0,0,0,0,0,0,0,0,0,0,0,0,0,0,0,0,0,0,0,0,0,0,0,0,0,0,0,0,0,0,0,0,0,0,1,0,0,0,0,0,0,0,0,0,0,0,0,0,0,0,0,0,0,0,0,0,0,0,0,0,0,0,0,0,0,0,0,0,0,0,0,0,0,0,0,0,0,0,0,0,0,0,0,0,0,0,0,0,0,0,0,0,0,0,0,0,0,0,0,0,0,0,0,0,0,0,0,0,0,0,0,0,0,0,0,0,0,0,0,0,0,0,0,0,0,0,0,0,0,0,0,0,0,0,0,0,0,0,0,0,0,0,0,0,0,0,0,0,0,0,0,0,0,0,0,0,0,0,0,0,0,0,0,0,0,0,0,0,0,0,0,0,0,0,0,0,0,0,0,0,0,0,0,0,0,0,0,0,0,0,0,0,0,1,0,0,0,0,0,0,0,0,1,0,0,0,0,0,0,0,0,0,0,0,0,0,0,0,0,0,0,0,0,0,0,0,0,0,0,0,0,0,0,0,0,0,0,0,0,0,0,0,0,0,0,0,0,0,0,0,0,0,0,0,0,0,0,0,0,1,0,0,0,0,0,0,0,0,0,0,0,0,0,0,0,0,0,1,0,0,0,0,0,0,0,0,0,0,0,0,0,0,0,0,0,0,0,0,0,0,0,0,0,0,0,0,0,0,0,0,0,0,0,0,0,0,0,1,0,0,0,0,0,0,0,0,0,0,0,0,0,0,0,0,0,0,0,0,0,0,0,0,0,0,0,0,0,0,0,0,0,0,0,0,0,0,0,0,0,0,0,0,0,0,0,0,0,0,1,0,0,0,0,0,0,0,0,0,0,0,0,0,0,0,0,0,0,0,0,0,0,0,0,0,0,0,0,0,0,0,0,0,0,0,0,0,0,0,0,0,0,0,0,0,0,0,0,0,0,0,0,0,0,0,0,0,0,0,1,0,0,0,0,0,0,0,0,0,0,0,0,0,0,0,0,0,0,0,0,0,0,0,0,0,0,0,0,0,0,0,0,0,0,0,0,0,0,0,0,0,0,0,2,0,0,0,0,0,0,0,0,0,0,0,0,0,0,0,0,0,0,0,0,0,0,0,0,0,0,0,0,0,0,0,0,0,0,0,0,0,0,0,0,0,0,0,0,0,0,0,0,0,0,0,0,0,0,0,0,0,0,0,0,0,0,0,0,0,0,0,0,0,0,0,0,0,0,0,0,0,0,0,0,0,0,0,0,0,0,2,0,0,0,0,0,0,0,0,0,0,0,0,0,0,0,0,1,0,0,0,0,0,0,0,0,0,0,0,0,0,0,0,0,0,0,0,0,0,0,0,0,0,0,0,0,1,0,0,0,0,0,0,0,0,0,0,0,0,0,0,0,0,0,0,0,0,0,0,0,0,0,0,0,0,0,0,0,0,0,0,0,0,0,0,0,0,0,0,0,0,0,0,0,0,0,0,0,0,0,0,0,0,0,0,0,0,0,0,0,0,0,0,0,0,0,0,0,0,0,0,0,0,0,0,0,0,0,0,0,0,0,0,0,0,0,0,0,0,0,0,0,0,0,0,0,0,0,0,0,0,0,0,0,0,0,0,0,0,0,0,0,0,0,0,0,0,0,0,0,0,0,0,0,0,0,0,0,0,0,0,0,0,0,0,0,0,0,0,0,0,0,0,0,0,0,0,0,0,0,0,0,0,0,0,0,0,0,0,0,0,0,0,0,0,0,0,0,0,0,0,0,0,0,0,0,0,0,0,0,0,1,0,0,0,0,0,0,0,0,0,0,0,0,0,0,0,0,0,0,0,0,0,0,0,0,0,0,0,0,0,0,0,0,0,0,0,0,0,0,0,0,0,0,0,0,0,0,0,0,0,0,0,0,0,0,0,0,0,0,0,0,0,0,0,0,0,0,0,0,0,0,0,0,0,0,2,0,0,0,0,0,0,0,0,0,0,0,0,3,0,0,0,0,0,0,0,0,0,0,0,0,0,0,0,0,0,0,0,0,0,0,0,0,0,0,0,0,0,0,0,0,0,0,0,0,0,0,0,0,0,0,0,0,0,0,0,0,0,0,0,0,0,0,0,0,0,0,0,0,0,0,0,0,0,0,0,1,0,0,0,0,0,0,0,0,0,0,0,0,0,0,0,0,0,0,0,0,0,0,0,0,0,0,0,0,0,0,0,0,0,0,0,0,0,0,0,0,0,0,0,0,0,0,0,0,0,0,0,0,0,0,0,0,0,0,0,0,0,0,0,0,0,0,0,0,0,0,0,0,0,0,0,0,0,0,0,0,0,0,0,0,0,0,0,0,0,0,0,0,0,0,0,0,0,0,0,0,0,0,0,0,0,0,0,0,0,0,0,0,0,0,0,0,0,0,0,0,0,0,0,0,0,0,0,0,0,0,0,0,0,0,0,0,0,0,0,0,0,0,0,0,0,0,1,0,0,0,0,0,0,0,0,0,0,0,0,0,0,0,0,0,0,0,0,0,0,0,0,0,0,0,0,0,0,0,0,0,0,0,0,0,0,0,0,0,0,0,0,0,0,0,0,0,0,0,0,0,0,0,0,0,0,0,0,0,0,0,0,0,0,0,0,0,0,0,0,0,0,0,0,0,0,0,0,0,0,0,0,0,0,0,0,0,0,0,1,0,0,0,0,0,0,0,0,0,0,0,0,0,0,0,0,0,0,0,0,0,0,0,0,0,0,0,0,0,0,0,0,0,0,0,0,0,0,0,0,0,0,0,0,0,3,0,0,0,0,0,0,0,0,0,0,0,0,0,0,0,0,0,0,0,0,0,0,0,0,0,0,0,0,0,0,0,0,0,0,0,0,0,0,0,0,0,0,0,0,0,0,0,0,0,0,0,0,0,0,0,0,0,0,0,0,0,0,0,0,0,0,0,0,0,0,0,0,0,0,0,0,0,0,0,0,0,0,0,0,0,0,0,0,0,0,0,0,0,0,0,0,0,0,0,0,0,0,0,0,0,0,0,0,0,0,0,0,0,0,0,0,0,0,0,0,0,0,0,0,0,0,0,0,0,0,0,0,0,0,0,0,0,0,0,0,0,0,0,0,0,0,0,0,0,0,0,0,0,0,0,0,0,0,0,0,0,0,0,0,0,0,0,0,0,0,0,0,0,0,0,0,0,0,0,0,0,0,0,0,0,0,0,0,0,0,0,0,0,0,0,0,0,0,0,0,0,0,0,0,0,0,0,0,0,0,0,0,0,0,0,0,0,0,0,0,0,0,0,0,0,0,0,0,0,0,0,0,0,0,0,0,0,0,0,0,0,0,0,0,0,0,0,0,0,0,0,0,1,0,0,0,0,0,0,0,0,0,0,0,0,0,0,0,0,0,0,0,0,0,0,0,0,0,0,0,0,0,0,0,0,0,1,0,0,0,0,0,0,0,0,0,0,0,0,0,0,0,0,0,0,0,0,0,0,0,0,0,0,0,0,0,0,0,0,0,0,0,0,2,0,0,0,0,0,0,0,0,0,0,0,0,0,0,0,0,0,0,0,0,0,0,0,0,0,0,0,0,0,0,0,0,0,0,0,0,0,0,0,0,0,0,0,0,0,0,0,0,0,0,0,0,0,0,0,0,0,0,0,0,0,0,0,0,0,0,0,0,0,0,0,0,0,0,0,0,0,0,0,0,0,0,0,0,0,0,0,0,0,0,0,0,0,0,0,0,0,0,0,0,0,0,0,0,0,0,0,0,0,0,0,0,0,0,0,0,0,0,0,0,0,0,0,0,0,0,0,0,0,0,0,0,0,0,0,0,0,0,0,0,0,0,0,0,0,0,0,0,0,0,0,3,0,0,0,0,0,0,0,0,0,0,0,1,0,0,0,0,0,0,0,0,0,0,0,0,0,0,0,0,0,0,0,0,0,0,0,0,0,0,0,0,0,0,0,0,0,0,0,0,0,0,0,0,0,0,0,0,0,0,0,0,0,0,0,0,0,0,0,0,0,0,0,0,0,0,0,0,0,0,0,0,0,0,0,0,0,0,0,0,0,0,0,0,0,0,0,0,0,0,0,0,0,0,0,0,0,0,3,0,0,0,0,0,0,0,0,0,0,0,0,0,0,0,0,0,0,0,0,0,0,0,0,0,0,0,0,0,0,0,0,0,0,0,0,0,0,0,0,0,0,0,0,0,0,0,0,0,0,0,0,0,0,0,2,0,0,0,0,1,0,0,0,0,0,0,0,0,0,0,0,0,0,0,0,0,0,0,0,0,0,0,0,0,0,0,0,0,0,0,0,0,0,0,0,0,0,0,0,0,0,0,0,0,0,0,0,0,0,0,0,0,0,0,0,0,0,0,0,0,0,0,0,0,0,0,0,0,0,0,0,0,0,0,0,0,0,0,0,0,0,0,0,0,0,0,0,0,1,0,0,0,0,0,0,0,0,0,0,0,0,0,0,0,0,0,0,0,0,0,0,0,0,0,0,0,0,0,0,0,0,0,0,0,0,0,0,0,0,0,0,0,0,0,0,0,0,0,0,0,0,0,0,0,0,0,0,0,0,0,0,0,0,0,0,0,0,0,0,0,0,0,0,0,0,0,0,0,0,0,0,0,0,0,1,0,0,0,0,0,0,0,0,0,0,0,0,0,0,0,0,0,0,0,0,0,0,0,0,0,0,0,0,0,1,0,0,0,0,0,0,0,0,0,0,0,0,0,0,0,0,0,0,0,0,0,0,0,0,0,0,0,0,0,0,0,0,0,0,0,0,0,0,0,0,0,0,0,0,0,0,0,0,0,0,0,0,0,0,0,0,0,0,0,0,0,0,0,0,0,0,0,0,0,0,0,0,0,0,0,1,0,0,0,0,0,0,0,0,0,0,1,0,0,0,0,0,0,0,0,0,0,0,0,0,0,0,0,0,0,0,1,0,4,0,0,0,2,0,0,0,0,0,0,0,0,0,0,0,0,0,0,0,0,0,0,0,0,0,0,0,0,0,0,0,0,0,0,0,0,0,0,0,0,0,0,0,0,0,0,0,0,0,0,0,0,0,0,0,0,0,0,0,0,0,0,0,0,0,0,0,0,0,0,0,0,1,0,0,0,0,0,0,0,0,0,0,0,0,0,0,0,0,0,0,0,0,0,0,0,0,0,0,0,0,0,0,0,0,0,0,0,0,0,0,0,0,0,1,0,0,0,0,0,0,0,0,0,0,0,0,0,0,0,0,0,0,0,0,0,0,0,0,0,0,0,0,0,0,0,0,0,0,0,0,0,0,0,0,0,0,0,0,0,0,0,0,0,0,0,0,0,0,0,0,0,0,0,0,0,0,0,0,0,0,0,0,0,0,0,0,0,0,0,0,0,0,0,0,0,0,0,0,0,0,0,0,0,0,0,0,0,0,0,0,0,0,0,0,0,0,0,0,0,0,0,0,0,0,0,0,0,0,0,0,0,0,0,0,0,0,0,1,0,0,0,0,0,0,0,0,0,0,2,0,0,0,0,0,0,0,0,0,0,0,0,0,0,0,0,0,0,0,0,0,0,0,0,0,0,0,0,0,0,0,0,0,0,0,0,0,0,0,0,0,0,0,0,0,0,0,0,0,0,0,0,0,0,0,0,0,0,0,0,0,0,0,0,0,0,0,0,0,0,0,0,0,0,0,0,0,0,0,0,0,0,0,0,0,0,0,0,0,0,0,0,0,0,0,0,0,0,0,0,0,0,0,0,0,0,0,0,0,0,0,0,0,0,0,0,0,0,0,0,0,0,0,0,0,0,0,0,0,0,0,0,0,0,0,0,0,0,0,0,0,0,0,0,0,0,0,0,0,0,0,0,0,0,0,0,0,0,0,0,0,0,0,0,0,0,0,0,0,0,0,0,0,0,0,0,0,0,0,0,0,0,0,0,0,0,0,0,0,0,0,0,0,0,0,0,0,0,0,0,0,0,0,0,0,0,0,0,0,0,0,0,0,0,0,0,0,0,3,0,0,0,0,0,0,0,0,0,0,0,0,0,0,0,0,0,0,0,0,0,0,0,0,0,0,0,0,0,0,3,0,0,0,0,0,0,0,0,0,0,0,0,0,0,0,0,0,0,0,0,0,0,0,0,0,0,0,0,0,0,0,0,0,0,0,0,0,0,0,0,0,0,0,0,0,0,0,0,0,0,0,0,0,0,0,0,0,0,0,0,0,0,0,0,0,0,0,0,0,0,0,0,0,0,0,0,0,0,0,0,0,0,0,0,0,0,0,0,0,0,0,1,0,0,0,0,0,0,0,0,0,0,0,0,0,0,0,0,0,0,0,0,0,1,0,0,0,0,0,0,0,0,0,0,0,0,0,0,0,0,0,0,0,0,0,0,0,0,0,0,0,0,0,0,0,0,0,0,0,0,0,0,0,0,0,0,0,0,0,0,0,0,0,0,0,0,0,0,1,0,0,3,0,0,0,0,0,0,0,3,0,0,1,0,0,0,0,0,0,0,1,0,0,0,0,0,0,0,0,0,0,0,0,0,0,0,0,0,0,0,0,0,0,0,0,0,0,0,0,0,0,0,0,0,0,0,0,0,0,0,0,0,0,0,0,0,0,0,0,0,0,0,0,0,0,0,0,0,0,0,0,0,0,0,0,0,0,0,0,0,0,0,0,0,0,0,0,0,0,0,0,0,0,0,0,0,0,0,0,0,0,0,0,0,0,0,0,0,0,0,0,0,0,0,0,0,0,0,0,0,0,0,0,0,0,0,0,0,0,0,0,0,0,0,0,0,0,0,0,0,0,0,0,0,0,0,0,0,0,0,0,0,0,0,0,0,0,0,0,0,0,0,0,0,0,0,0,0,0,0,0,0,0,0,0,0,0,2,0,0,0,0,0,0,0,0,0,0,0,0,0,0,0,0,0,0,0,0,0,0,0,0,0,0,0,0,0,0,0,0,0,0,0,0,0,0,0,0,0,0,0,0,0,0,0,0,0,0,0,0,0,0,0,0,0,0,0,0,0,0,0,0,0,0,0,0,0,0,0,0,0,0,0,0,0,0,0,0,0,0,0,1,0,0,0,0,0,0,0,0,0,0,0,0,0,0,0,0,0,0,0,0,0,0,0,0,0,0,0,0,0,0,0,0,0,0,0,0,0,0,0,0,0,0,0,0,0,0,0,0,0,0,0,0,0,0,0,0,0,0,1,0,0,0,0,0,0,0,0,0,0,0,0,0,0,0,0,0,0,0,0,0,0,0,0,0,0,0,0,0,0,0,0,0,0,0,0,0,0,0,0,0,0,0,0,0,0,0,0,0,0,0,0,0,0,0,0,0,0,0,0,0,0,0,0,0,0,0,0,0,0,0,0,0,1,0,0,0,0,0,0,0,0,0,0,0,0,0,0,0,0,0,0,0,0,1,0,0,0,0,0,0,0,0,0,0,0,0,3,0,0,0,0,0,0,0,0,0,0,0,0,0,0,0,0,0,0,0,0,0,0,0,0,0,0,0,0,0,0,0,0,0,0,0,0,0,0,0,0,0,0,0,0,0,0,0,0,0,0,0,0,0,0,0,0,0,0,0,1,0,0,0,0,0,0,0,0,0,0,0,0,0,0,0,0,0,0,0,0,0,0,0,0,0,0,0,0,0,0,0,0,0,0,0,0,0,0,0,0,0,0,0,0,0,0,0,0,0,0,0,0,0,0,0,0,0,0,0,0,0,0,0,0,0,0,0,0,0,0,0,0,0,0,0,0,0,0,0,0,0,0,0,0,0,0,0,0,0,0,0,0,0,0,0,0,0,0,0,0,0,0,0,0,0,0,0,0,0,0,0,0,0,0,0,0,0,0,0,0,0,0,0,0,0,0,0,0,0,0,0,0,0,0,0,0,0,0,0,0,0,0,0,0,0,0,0,0,0,0,0,0,0,0,0,0,0,0,0,0,0,0,0,0,0,0,0,0,0,0,0,0,0,0,0,0,0,0,0,0,0,0,0,0,0,0,0,0,0,0,0,0,0,0,0,0,0,0,0,0,0,0,0,0,0,0,0,1,0,0,0,0,0,0,0,0,0,0,1,0,0,0,0,0,0,0,0,0,0,0,0,0,0,0,0,0,0,0,0,0,0,0,0,0,0,0,0,0,0,0,0,0,0,0,0,0,0,0,0,0,0,0,0,0,0,0,0,0,0,0,0,0,0,0,0,0,1,0,0,0,0,0,0,0,0,0,0,0,0,0,0,0,0,0,0,0,0,0,1,0,0,0,0,0,0,0,0,0,0,0,0,0,0,0,0,0,0,0,0,0,0,0,0,0,0,0,0,0,0,0,0,0,0,0,0,0,0,0,0,0,0,0,0,0,0,0,0,0,0,0,0,0,0,0,0,0,0,0,0,0,0,0,0,0,0,0,0,0,0,0,0,0,0,0,0,0,0,0,0,0,0,0,0,0,0,0,0,0,0,0,0,0,0,0,0,0,0,0,0,0,0,0,0,0,0,0,0,0,0,0,0,0,0,0,0,0,0,0,0,0,0,0,0,0,0,1,0,0,0,0,0,0,0,0,0,0,0,0,0,0,0,0,0,0,0,0,0,0,0,0,0,0,0,0,0,0,0,0,0,0,0,0,0,0,0,0,0,0,0,0,0,0,0,0,0,0,0,0,0,0,0,0,0,0,0,0,0,0,0,0,0,0,0,0,0,0,0,0,0,0,0,0,0,0,0,0,0,0,0,0,0,0,0,0,0,0,0,0,0,0,0,0,0,0,0,0,0,0,0,0,0,0,0,0,0,0,1,0,0,0,0,0,0,0,0,0,0,0,0,1,0,0,0,0,0,0,1,0,0,0,0,0,0,0,0,0,0,0,0,0,1,0,0,0,0,0,0,0,0,0,0,1,0,0,0,0,0,0,0,0,0,0,0,0,0,0,0,0,0,0,0,0,0,0,0,0,0,0,0,0,0,0,0,0,0,0,0,0,0,0,0,0,0,0,0,0,0,0,0,0,0,0,0,0,0,0,0,0,0,0,0,1,0,0,0,0,0,0,0,0,0,0,0,0,0,0,0,0,0,0,0,0,0,0,0,0,0,3,0,0,0,0,0,0,0,0,0,0,0,0,0,0,0,0,0,0,0,0,0,0,0,0,0,0,0,0,0,0,0,0,0,0,1,0,0,0,0,0,0,0,0,0,0,0,0,0,0,0,0,0,0,0,0,0,0,0,0,0,0,0,0,0,0,0,0,0,0,0,0,0,0,0,0,0,0,0,0,0,0,0,0,0,0,0,0,0,0,0,0,0,0,0,0,0,0,0,0,0,0,0,0,0,0,0,0,0,0,0,0,0,0,1,0,0,0,0,0,0,0,0,0,0,0,0,0,0,0,0,0,0,0,0,0,0,0,0,0,0,0,0,0,0,0,0,0,0,0,0,0,0,0,0,0,0,0,0,0,0,0,0,0,0,0,0,0,0,0,0,0,0,0,0,0,0,0,0,0,0,0,0,0,0,0,0,0,0,0,0,0,0,0,0,0,0,0,0,0,0,0,0,0,0,0,0,0,0,0,0,0,0,0,0,0,0,0,0,0,0,0,0,0,0,0,0,0,0,0,0,0,0,0,0,0,0,0,0,0,0,0,0,0,0,0,0,0,0,0,0,0,0,0,0,0,0,0,0,0,0,0,0,0,0,0,0,0,0,0,0,0,0,0,0,0,0,0,0,0,0,0,0,0,0,0,0,0,0,0,0,0,0,0,0,0,0,0,0,0,0,0,0,0,0,0,0,0,0,0,0,0,0,0,0,0,0,0,0,0,0,0,0,0,0,0,0,0,0,0,0,0,0,0,0,0,0,0,0,0,0,0,0,0,0,0,0,0,0,0,0,0,0,0,0,0,0,0,0,0,0,0,0,0,0,0,0,0,0,0,0,0,0,0,0,0,0,0,0,0,0,0,0,0,0,0,0,0,0,0,0,0,0,0,0,0,0,0,0,0,0,0,0,0,0,0,0,0,0,0,0,0,0,0,0,0,0,0,0,0,0,0,0,0,0,0,0,0,0,0,0,0,0,0,0,0,0,0,0,0,0,0,0,0,0,0,0,0,0,0,0,0,0,0,0,0,0,0,0,0,0,0,0,0,0,0,0,0,0,0,0,0,0,0,0,0,0,0,0,0,0,0,0,0,0,0,0,0,0,0,0,0,0,0,0,0,0,0,0,0,0,0,0,0,0,0,0,0,0,0,0,0,0,0,0,0,0,0,0,0,0,0,0,0,0,0,0,0,0,0,0,0,0,0,0,0,0,0,0,0,0,0,0,0,0,0,0,0,0,0,0,0,0,0,0,0,0,0,0,0,0,0,0,0,0,0,0,0,0,0,0,0,0,0,0,0,0,0,0,0,0,0,0,1,0,0,0,0,0,0,0,0,0,0,0,0,0,0,0,0,0,0,0,0,0,0,0,0,0,0,0,0,0,0,0,0,0,0,0,0,0,0,0,0,0,0,0,0,0,0,0,0,0,0,0,0,0,0,0,0,0,0,0,0,0,0,0,0,0,0,0,0,0,0,0,0,0,0,0,0,0,0,0,0,0,0,0,0,0,0,0,0,0,0,0,0,0,0,0,0,0,0,0,0,0,0,0,0,0,0,0,0,0,0,0,0,0,0,0,0,0,0,0,0,1,0,1,0,0,0,0,0,0,0,0,0,0,0,0,0,0,0,0,0,0,0,1,0,3,0,0,0,0,0,0,0,0,0,0,0,0,0,0,0,0,0,0,0,0,0,0,0,0,0,0,0,0,0,0,1,0,0,0,0,0,0,0,0,0,0,0,0,0,0,0,0,0,0,0,0,0,0,0,0,0,0,0,0,0,0,0,0,0,0,0,0,0,0,0,0,0,0,0,0,0,0,0,0,0,0,0,0,0,0,0,0,0,0,0,0,0,0,0,0,0,0,0,0,0,0,0,0,0,0,0,0,0,0,0,0,0,0,0,0,0,0,0,0,0,0,0,0,0,0,0,0,0,0,0,0,0,0,0,1,0,0,0,0,0,0,0,0,0,0,0,0,0,0,0,0,0,0,0,0,0,0,0,0,0,0,0,0,0,0,0,0,0,0,0,0,0,0,0,0,0,0,0,0,0,0,0,0,0,0,0,0,0,0,0,0,0,0,0,0,0,0,0,0,0,0,0,0,0,0,0,0,0,0,0,0,0,0,0,0,0,0,0,0,0,0,0,0,0,0,0,0,0,1,0,0,0,0,0,0,0,0,0,0,0,0,0,0,0,0,0,0,0,0,0,0,0,0,0,0,0,0,0,0,0,0,0,0,0,0,0,0,0,0,0,0,0,0,0,0,0,0,0,0,0,0,0,0,0,0,0,0,0,0,0,0,0,0,0,0,0,0,0,0,0,0,0,0,0,1,0,0,0,0,0,0,0,0,0,0,0,0,0,0,0,0,0,0,0,0,0,0,0,0,0,0,0,0,0,0,0,0,0,0,0,1,0,0,0,0,0,0,0,0,0,0,0,0,0,0,0,0,0,0,0,0,0,0,0,0,0,0,0,0,0,0,0,0,0,0,0,0,0,0,1,0,0,0,0,0,0,0,0,0,0,0,0,0,0,0,0,0,0,0,0,0,0,0,0,0,0,0,0,0,0,0,0,0,0,0,0,0,0,0,0,0,0,0,0,0,0,0,0,0,0,0,0,0,0,0,0,0,0,0,0,0,0,0,0,0,0,0,0,0,0,0,0,0,0,0,0,0,0,0,0,0,0,0,0,0,0,0,0,0,0,0,0,0,0,0,0,0,0,0,0,0,0,0,0,0,0,0,1,0,0,0,0,0,0,0,0,0,0,0,0,0,0,0,0,0,0,0,0,0,0,0,0,0,0,0,0,0,0,0,0,0,0,0,0,0,0,0,0,0,0,0,0,0,0,0,0,0,0,0,0,0,0,0,0,0,0,0,0,0,0,0,0,0,0,0,0,0,0,0,0,0,0,0,0,0,0,0,0,0,0,0,0,0,0,0,0,0,0,0,0,0,0,0,0,0,0,0,0,0,0,0,0,0,0,0,0,0,0,0,0,0,0,0,0,0,0,0,0,0,0,0,0,1,0,0,0,0,0,0,0,0,0,0,0,0,0,0,0,0,0,0,0,0,0,0,0,0,0,0,0,0,0,0,0,0,0,0,0,0,0,0,0,0,0,0,0,0,0,0,0,0,0,0,0,0,0,0,2,0,0,0,0,0,0,0,0,0,0,0,0,0,0,3,0,0,0,0,0,0,0,0,0,0,0,0,0,0,0,0,0,0,0,0,0,0,0,0,0,0,0,0,0,0,0,0,0,0,0,1,0,0,0,0,0,0,0,0,0,0,0,0,0,0,0,0,0,0,0,0,0,0,0,0,0,0,0,0,0,0,0,0,0,0,0,0,0,0,0,0,0,0,0,0,0,0,0,0,0,0,0,1,0,0,0,0,0,0,0,0,0,0,0,0,0,0,0,0,0,0,0,0,0,0,0,0,0,0,0,0,0,0,0,0,0,0,0,0,0,0,0,0,0,0,0,0,0,0,0,0,0,0,0,0,0,0,0,0,0,0,0,0,0,0,0,0,0,0,0,0,0,0,0,0,0,0,0,0,0,0,0,0,0,0,0,0,0,0,0,0,0,0,0,0,0,0,0,0,0,0,1,0,0,0,0,0,0,0,0,0,0,0,0,0,0,0,0,0,0,0,0,0,0,0,0,0,0,0,0,0,0,0,0,0,0,0,0,0,0,0,0,0,0,0,0,0,0,1,0,0,0,0,0,0,0,0,0,0,0,0,0,0,0,0,0,0,0,0,0,0,0,0,0,0,0,0,0,0,0,0,1,0,0,0,0,1,0,0,0,0,0,0,0,0,0,0,0,0,0,0,0,0,0,0,0,0,0,0,0,0,0,0,0,0,2,0,0,0,0,0,0,0,0,0,0,0,0,0,0,0,0,0,0,0,0,0,0,0,0,0,0,0,0,0,0,0,0,0,0,0,0,0,0,0,0,0,0,0,0,0,0,0,0,0,0,0,0,0,0,0,0,0,0,0,0,0,0,0,0,0,0,0,0,0,0,0,0,0,1,0,0,0,0,0,0,0,0,0,0,0,0,0,0,0,0,0,0,0,0,0,0,0,0,0,0,0,0,0,0,0,0,0,0,0,0,0,0,0,0,0,0,0,0,0,0,0,0,0,0,0,0,0,0,0,0,0,0,0,0,0,3,0,0,0,0,0,0,0,0,0,0,0,0,0,0,0,0,0,0,0,0,0,0,0,0,0,0,0,0,0,0,0,0,0,0,0,0,0,0,0,0,0,0,0,0,0,0,0,0,0,0,0,0,0,0,0,0,0,0,0,0,0,0,0,0,0,0,0,0,0,0,0,0,0,0,0,0,0,0,0,0,0,0,0,0,0,0,0,0,0,0,0,0,0,0,0,0,0,0,0,0,0,0,0,0,0,0,0,0,0,0,0,0,0,0,0,0,0,0,0,0,0,0,0,0,0,0,0,0,0,0,0,0,0,0,0,0,0,0,0,0,0,0,0,0,0,0,0,0,0,0,0,0,0,0,0,0,0,0,0,0,0,0,0,0,1,0,0,0,0,0,0,3,0,0,0,0,0,0,0,0,0,0,0,0,0,0,0,0,0,0,0,0,0,0,0,0,0,0,0,0,0,0,0,0,0,0,0,0,0,0,0,0,0,0,0,0,0,0,0,0,0,0,0,0,0,0,0,0,0,0,0,0,0,0,0,0,0,0,0,0,0,0,0,0,0,0,0,0,0,0,0,0,0,0,0,0,0,0,0,0,0,0,0,0,0,0,0,0,0,0,0,0,0,0,1,0,0,0,1,0,0,0,0,0,0,0,0,0,0,0,0,0,0,0,0,0,0,0,0,0,0,0,0,0,0,0,0,0,0,0,0,0,0,0,2,0,0,0,0,0,0,0,0,0,0,0,0,0,0,0,0,0,0,0,0,0,0,0,0,0,0,0,0,0,0,0,0,0,0,0,0,0,0,0,0,0,0,0,0,0,0,0,0,0,0,0,0,0,0,0,0,0,0,0,0,0,0,0,0,0,0,0,0,1,0,0,0,0,0,0,0,0,0,0,0,0,0,0,0,0,0,0,0,0,0,0,0,0,0,0,0,0,0,0,0,0,0,0,0,0,0,0,0,0,0,0,0,0,0,0,0,0,0,0,0,0,0,0,0,0,0,0,0,0,0,0,0,0,0,0,0,0,0,0,0,0,0,0,0,1,0,0,0,0,0,0,0,0,0,0,0,0,0,0,0,0,0,0,0,0,0,0,0,0,0,0,0,0,0,0,0,0,0,0,0,0,0,0,0,0,0,0,0,0,0,0,0,0,0,1,0,0,0,0,0,0,0,0,0,0,0,0,0,0,0,0,0,0,0,0,1,0,0,0,0,0,0,0,0,0,0,0,0,0,0,0,0,0,0,0,0,0,1,0,0,0,0,0,0,0,0,0,0,0,3,0,0,0,0,0,0,0,0,0,0,0,0,0,0,0,0,0,0,0,0,0,0,0,0,0,0,0,0,0,0,0,0,0,0,0,0,0,0,0,0,0,0,0,0,0,0,0,0,0,0,0,0,0,0,0,0,0,0,0,0,0,0,0,0,0,0,0,0,0,0,0,0,0,0,0,0,0,0,0,0,0,0,0,0,0,1,0,0,0,0,0,0,0,0,0,0,0,0,0,0,0,0,0,0,0,0,0,0,0,0,0,0,0,0,0,0,0,0,0,0,0,0,0,0,0,0,0,0,0,0,0,0,1,0,0,0,0,0,3,0,0,0,0,0,0,0,0,0,0,0,0,0,0,0,0,0,0,0,0,0,0,0,0,0,0,0,0,0,0,0,0,0,0,0,0,0,0,0,0,0,0,0,0,0,0,0,0,0,0,0,0,0,0,0,0,0,0,0,0,0,0,0,0,0,0,0,0,0,2,0,0,0,0,0,0,0,0,0,0,0,0,1,1,0,0,0,0,0,0,0,0,0,0,0,0,0,0,0,0,0,0,0,0,0,0,0,0,0,0,0,0,0,0,0,0,0,0,0,0,0,0,0,0,0,0,0,0,0,0,0,0,0,0,0,0,0,0,0,0,0,0,0,0,0,0,0,0,0,0,0,0,0,1,0,0,0,0,0,0,0,0,0,0,0,0,0,0,0,0,0,0,0,0,0,0,0,0,0,0,0,0,0,0,0,0,0,0,0,0,0,0,0,0,0,0,0,0,0,0,0,0,0,0,0,0,0,0,0,0,0,0,0,0,0,0,0,0,0,0,0,0,0,0,0,0,0,0,0,0,0,0,0,0,0,0,0,0,0,0,0,0,0,0,0,0,0,0,0,0,0,0,0,0,0,0,0,0,0,0,0,0,0,0,0,0,0,0,0,0,0,0,0,0,0,0,0,0,0,0,0,0,0,1,0,0,0,0,0,0,0,0,0,0,0,0,0,0,0,0,0,0,0,0,0,0,0,0,0,0,0,0,0,0,0,0,0,2,0,0,0,0,0,0,0,0,0,0,0,0,0,0,0,0,0,0,0,0,0,0,0,0,0,3,0,0,0,0,0,0,0,0,3,0,0,0,0,0,0,0,0,0,3,0,0,0,0,0,0,0,0,0,0,0,0,0,0,0,0,0,0,0,0,0,0,0,0,0,0,0,0,0,0,0,0,0,0,0,0,0,0,0,0,0,0,0,0,0,0,0,0,0,0,0,0,0,0,0,0,0,0,0,0,0,0,0,0,0,0,0,0,0,0,0,0,0,0,0,0,0,0,0,0,0,0,0,0,0,0,0,0,0,0,0,1,0,0,0,0,0,0,0,0,0,0,0,0,0,0,0,0,0,0,0,0,0,0,0,0,0,0,0,0,0,0,0,0,0,0,0,0,0,0,0,0,0,0,0,0,0,0,0,0,0,0,0,0,0,0,0,0,0,0,0,0,0,0,0,0,0,0,0,0,0,0,0,0,0,0,0,0,0,0,0,0,0,0,0,0,0,0,0,0,0,0,0,0,0,0,0,0,0,0,0,0,0,0,0,0,0,0,0,0,0,0,0,1,0,0,0,0,0,0,1,0,0,0,0,0,0,0,0,0,0,0,0,0,0,0,0,0,0,0,0,0,0,0,0,0,0,0,0,0,0,0,0,0,0,0,0,0,0,0,0,0,0,0,0,0,0,0,0,0,0,0,0,0,0,0,0,0,0,0,0,0,0,0,0,0,0,0,0,0,0,0,0,0,0,0,0,0,0,0,0,0,0,0,0,0,0,0,0,0,0,0,0,0,0,0,0,0,0,0,0,0,0,0,0,0,0,0,0,0,0,0,0,0,0,0,0,0,0,0,0,0,0,0,0,0,0,0,0,0,0,0,0,0,0,0,0,0,0,0,0,0,0,0,0,0,0,0,0,0,0,0,0,0,0,0,0,0,0,0,0,0,0,0,0,0,0,0,0,0,0,0,0,0,0,0,0,0,0,0,0,0,0,0,0,0,0,0,0,0,0,0,0,0,0,0,0,0,0,0,0,0,0,0,0,0,0,0,0,0,0,0,0,0,0,0,0,0,0,0,0,0,0,0,0,0,0,0,0,0,0,0,0,1,0,0,0,0,0,0,0,0,0,0,0,0,0,0,0,0,0,0,0,0,0,0,0,0,0,0,0,0,0,0,0,0,0,0,0,0,0,0,0,0,0,0,0,0,0,0,0,0,0,0,0,0,0,0,0,0,0,0,0,0,0,0,0,0,0,0,0,0,0,0,0,0,0,0,0,0,0,0,0,0,0,0,0,0,0,0,0,0,0,0,0,0,0,0,0,0,0,0,0,0,0,0,0,0,0,0,0,0,0,0,0,0,0,0,0,0,0,0,0,0,0,0,0,0,0,0,0,0,0,0,0,0,0,0,0,0,0,0,0,0,0,0,0,0,0,0,0,0,0,0,0,0,0,0,0,0,0,0,0,0,0,0,0,0,0,0,0,0,0,0,0,0,0,0,0,0,0,0,0,0,0,0,0,0,2,0,0,0,0,0,0,0,0,0,0,0,0,0,0,0,0,0,0,0,0,0,0,0,1,0,0,0,0,0,0,0,0,0,0,0,0,0,0,0,0,0,0,0,0,0,0,0,0,0,0,0,0,0,0,0,0,1,0,0,0,0,0,0,0,0,0,0,0,0,0,0,0,0,0,0,0,0,0,0,0,0,0,0,0,0,0,0,0,0,0,0,0,0,0,0,0,0,0,0,0,0,0,0,0,0,0,0,0,0,0,0,0,0,0,0,0,0,0,0,0,0,0,0,0,0,0,0,0,0,0,0,0,0,0,0,0,0,0,0,0,0,0,0,3,0,0,0,0,0,0,0,0,0,0,0,0,0,0,0,0,0,0,0,0,0,0,0,0,0,0,0,0,0,0,0,0,0,0,0,0,0,0,0,0,0,0,0,0,0,0,0,0,0,0,0,0,0,0,0,0,0,0,0,0,0,0,0,0,0,0,0,0,0,0,0,0,0,0,0,0,0,0,0,0,0,0,0,0,0,0,0,0,0,0,0,0,0,0,0,0,0,0,0,3,0,0,0,0,0,0,0,0,0,0,0,0,0,0,0,0,0,0,0,0,0,0,0,0,0,0,0,0,0,0,0,0,0,0,0,0,0,0,0,0,0,0,0,0,0,0,0,0,0,0,0,0,0,0,0,0,0,0,0,0,0,2,0,0,0,0,2,0,0,0,1,0,0,0,0,0,0,0,0,0,0,0,0,0,0,0,0,0,0,0,0,0,0,0,0,0,0,0,0,0,0,0,0,0,0,0,0,0,0,0,0,0,0,0,0,0,0,0,0,0,0,0,0,0,0,0,0,0,0,0,0,0,0,0,0,0,0,0,0,0,0,0,0,0,0,0,0,0,0,0,0,0,0,0,0,0,0,0,0,0,0,0,0,0,0,0,0,0,0,0,0,0,0,0,0,0,0,0,0,0,0,0,0,0,0,0,0,0,0,0,0,0,0,0,0,0,0,0,0,0,0,0,0,0,0,0,0,0,0,0,0,0,0,0,0,0,0,0,0,0,0,0,0,0,0,0,0,0,0,0,0,0,0,0,0,0,0,0,0,1,0,0,0,0,0,0,0,0,0,0,0,0,0,0,0,0,0,0,0,0,0,0,0,0,0,0,0,0,0,0,0,0,0,0,0,0,0,0,0,0,0,0,0,0,0,0,0,0,1,0,0,0,0,0,0,0,0,0,0,0,0,0,0,0,0,0,0,0,0,0,0,0,0,0,0,0,0,0,0,0,0,0,0,0,0,0,0,0,0,0,0,0,0,0,0,0,0,0,0,0,0,0,0,0,0,0,0,0,0,0,0,0,0,0,0,0,0,0,0,0,0,0,0,0,0,0,0,0,0,0,0,0,0,0,0,0,0,0,0,0,0,0,0,0,0,0,0,0,0,0,0,0,0,0,0,0,0,0,0,0,0,0,0,0,0,0,0,0,0,0,0,0,0,0,0,0,0,0,0,0,0,0,1,0,0,0,0,0,0,0,0,0,0,0,0,0,0,0,0,0,0,0,0,0,0,0,0,0,0,0,0,0,0,0,0,0,0,0,0,0,0,0,0,0,0,0,0,0,0,0,0,0,0,0,0,0,0,0,0,0,0,0,0,0,0,0,0,0,0,0,0,0,0,0,0,0,0,0,0,0,0,0,0,0,0,0,0,0,0,0,0,0,0,0,0,0,0,0,0,0,0,0,0,0,0,0,0,0,0,0,0,0,0,0,0,0,0,0,0,0,0,0,0,0,0,0,0,0,1,0,1,0,0,0,0,0,0,0,0,0,0,0,0,0,0,0,0,0,0,0,0,0,0,0,0,0,0,0,0,0,0,0,0,0,0,0,0,0,0,0,0,0,0,0,0,0,0,0,0,0,0,0,0,0,0,0,0,0,0,0,0,0,0,0,0,0,0,0,0,0,0,0,0,0,0,0,0,0,0,0,0,0,0,0,0,0,0,0,0,0,0,0,0,0,0,0,0,0,0,0,0,0,0,0,0,0,0,0,0,0,0,0,0,0,0,0,0,0,0,0,0,0,0,0,0,0,0,0,0,0,0,0,0,0,0,0,0,0,0,0,0,0,0,0,0,0,0,0,0,0,0,0,0,0,0,0,0,0,0,0,0,0,0,0,0,0,0,0,0,0,0,0,0,0,0,0,0,0,0,0,0,0,0,0,0,0,0,0,0,0,0,0,0,0,0,0,0,0,0,0,0,0,0,0,0,0,0,0,0,0,0,0,0,0,0,0,0,0,0,0,0,0,0,0,0,0,0,0,0,0,0,0,0,0,0,0,0,0,0,0,0,0,0,0,0,0,0,0,0,0,0,0,0,0,0,0,0,0,0,0,0,0,0,0,0,0,0,0,0,0,0,3,0,0,0,0,0,0,0,0,0,0,0,0,0,0,0,0,0,0,0,0,0,1,0,0,0,0,0,0,0,0,0,0,0,0,0,0,0,0,0,0,0,0,0,0,0,0,0,0,0,0,0,0,0,0,0,0,0,0,1,0,0,0,0,0,0,0,0,0,0,0,0,0,0,0,0,0,0,0,0,0,0,0,0,0,0,0,0,0,0,0,0,0,0,0,0,0,0,0,0,0,0,0,0,0,1,0,1,0,0,0,0,0,0,0,0,0,0,0,0,0,0,0,0,0,0,0,0,0,0,0,0,0,0,0,0,0,0,0,0,0,0,0,0,0,0,0,0,0,0,0,0,0,0,0,0,0,0,0,0,0,0,0,0,0,0,0,0,0,0,0,0,0,0,1,0,0,0,0,0,0,0,0,0,0,0,0,0,0,0,0,0,0,0,0,0,0,0,0,0,0,0,0,0,0,0,0,0,0,0,0,0,0,0,0,0,0,0,0,0,0,0,0,0,0,0,0,0,0,0,0,0,0,0,0,0,0,0,0,0,0,2,0,0,0,0,0,0,0,0,0,0,0,0,0,0,0,0,0,0,0,0,0,0,0,0,0,0,0,0,0,0,0,0,0,0,0,0,0,0,0,0,0,0,0,0,0,0,0,0,0,0,0,0,0,0,0,0,0,0,0,0,0,0,0,0,0,0,0,0,0,0,0,0,0,0,0,0,0,0,0,0,0,0,0,0,0,0,0,0,0,0,0,0,0,0,0,0,0,0,0,0,0,0,0,0,0,0,0,0,0,0,0,0,0,0,0,0,0,0,0,0,0,0,0,0,0,0,1,0,0,0,0,0,0,0,0,0,0,0,0,0,0,0,0,0,0,0,0,0,0,0,0,0,0,0,0,0,0,0,0,0,0,0,0,0,0,0,0,0,0,0,0,0,0,0,0,0,0,0,0,0,0,0,0,0,0,0,0,0,0,0,0,0,0,0,0,0,0,0,0,0,1,0,0,0,0,0,0,0,0,0,0,0,0,0,0,0,0,0,0,0,0,0,0,0,0,0,0,0,0,0,0,0,0,2,0,0,0,0,0,0,0,0,0,0,1,0,0,0,0,0,0,0,0,2,0,0,0,0,0,0,0,0,0,0,0,0,0,0,0,1,0,0,0,0,0,0,0,0,0,0,0,0,0,0,0,0,0,0,0,0,0,0,0,0,0,0,0,0,0,0,0,0,0,0,0,0,0,0,0,0,0,0,0,0,0,0,2,0,0,0,0,0,0,0,0,0,0,0,0,0,0,0,0,1,0,0,0,0,0,0,0,0,0,0,0,0,0,0,0,0,0,0,0,0,0,0,0,0,0,0,0,0,0,0,0,0,0,0,0,0,0,0,0,0,0,0,1,0,0,0,0,0,0,0,0,0,0,0,0,0,0,0,0,0,0,0,0,0,0,0,0,0,0,0,0,0,0,0,0,0,0,0,0,0,0,0,0,0,0,0,0,0,0,0,0,0,0,0,0,0,0,0,0,0,0,0,0,0,0,0,0,0,0,0,0,0,0,0,0,0,0,0,0,0,0,0,0,0,0,2,0,0,0,0,0,0,0,0,0,0,0,0,0,0,0,0,1,0,0,0,0,0,0,0,0,0,0,0,0,0,0,0,0,0,0,0,0,0,0,0,0,0,0,0,0,0,0,0,0,0,0,0,0,0,0,0,0,0,0,0,0,0,0,0,0,0,1,0,0,0,0,0,0,0,0,0,0,0,0,0,0,0,0,0,0,0,0,0,0,0,0,0,0,0,0,0,0,0,0,0,0,0,0,0,0,0,0,0,0,0,0,0,0,0,0,0,0,0,0,0,0,0,0,0,0,0,0,0,0,0,0,0,0,0,0,0,0,0,0,0,0,0,0,0,0,0,0,0,0,0,0,0,0,0,0,0,0,0,0,0,0,0,0,0,0,0,0,0,0,0,0,0,0,0,0,0,0,2,0,0,0,0,0,0,0,0,0,0,0,0,0,0,0,0,0,0,0,0,0,0,0,0,0,0,0,2,0,0,0,0,0,0,0,0,0,0,0,0,0,0,0,0,0,0,0,0,0,0,1,0,0,0,0,0,0,0,0,0,0,0,0,0,0,0,0,0,0,0,0,0,0,0,0,0,0,0,0,0,0,0,0,0,0,0,0,0,0,0,0,0,0,0,0,0,0,0,0,0,0,0,0,0,0,0,0,0,0,0,0,0,0,0,0,0,0,1,0,0,0,0,0,0,0,0,0,0,0,0,0,0,0,0,0,0,0,0,0,0,0,0,0,0,0,0,0,0,0,0,0,0,0,0,0,0,0,0,0,0,0,0,0,0,0,0,0,0,0,0,0,0,0,0,0,0,0,0,0,0,0,0,0,0,0,0,0,0,0,0,0,0,0,0,0,0,0,0,0,0,0,0,0,0,0,0,0,0,0,0,0,0,0,0,0,0,0,0,0,0,0,0,0,0,0,0,0,0,0,0,0,0,0,0,0,0,0,1,0,0,0,0,0,0,0,0,0,0,0,0,0,0,0,0,0,0,0,0,0,0,0,0,0,0,0,0,0,0,0,0,0,0,0,0,0,0,0,0,0,0,0,0,0,0,0,0,0,0,0,0,0,0,0,0,0,0,0,0,0,0,0,0,2,0,0,0,0,0,0,0,0,0,0,0,0,0,0,0,0,0,0,0,0,0,0,0,0,0,0,0,0,0,0,0,0,0,0,0,0,0,0,0,0,0,0,0,0,0,0,0,0,0,0,0,0,1,0,0,0,0,0,0,0,0,0,0,0,0,0,0,0,0,0,0,0,0,0,0,0,0,0,0,0,0,0,0,0,0,0,0,0,0,0,0,0,0,0,0,0,0,0,0,0,0,0,0,0,0,0,0,0,0,0,0,0,0,0,0,0,0,0,0,0,0,0,0,0,0,0,0,0,0,0,0,0,0,0,0,0,0,0,0,0,0,0,0,0,0,0,0,0,0,0,0,0,0,0,0,0,0,0,0,0,0,0,0,0,0,0,0,0,0,0,0,0,0,0,0,0,0,0,0,0,0,0,0,0,0,0,0,0,0,0,0,0,0,0,0,0,0,0,0,0,0,0,0,1,0,0,0,0,0,0,0,0,0,0,0,0,0,0,0,0,0,0,0,0,0,0,0,0,0,0,0,0,0,0,0,0,0,0,0,0,0,0,0,0,0,0,0,0,0,0,0,0,0,0,0,0,0,0,0,0,0,0,0,0,0,0,0,0,0,0,0,0,0,0,0,0,0,0,0,0,0,0,0,0,0,0,0,0,0,0,0,0,0,0,0,0,0,0,0,0,0,0,0,0,0,0,0,0,0,0,0,0,0,0,2,0,0,0,0,0,0,0,0,0,0,0,0,0,0,0,0,0,0,0,0,0,0,0,0,0,0,0,0,0,0,0,0,0,0,0,0,0,0,0,0,0,0,0,0,0,0,0,0,0,0,0,0,0,0,0,0,0,0,0,0,0,0,0,0,0,0,0,0,0,0,0,0,0,0,0,0,0,0,0,0,0,0,0,0,0,0,0,0,0,0,0,0,0,0,0,0,0,0,0,0,0,0,0,0,0,0,0,0,0,0,0,0,0,0,0,0,0,0,0,0,0,0,0,0,0,0,0,0,0,0,1,0,0,0,0,0,0,0,0,0,0,0,0,0,0,0,0,0,0,1,0,0,0,0,0,0,0,0,0,0,0,0,0,0,0,0,0,0,0,0,0,0,0,0,0,0,0,0,0,0,0,0,0,0,0,0,0,0,0,0,0,0,0,0,0,0,0,0,0,0,0,0,0,0,0,0,0,0,0,0,0,0,0,0,0,0,0,0,0,0,0,0,0,0,0,0,0,0,0,0,0,0,0,0,0,0,0,0,0,0,0,0,0,0,0,1,0,0,0,0,2,0,0,0,0,0,0,0,0,0,0,0,0,0,0,0,0,0,0,0,0,0,0,0,0,0,0,0,0,0,0,0,0,0,0,0,0,0,0,0,0,0,0,0,1,0,0,0,0,0,0,0,0,0,0,0,0,0,0,0,0,0,0,0,0,0,0,0,0,0,0,0,0,0,0,0,0,0,0,0,0,0,0,0,0,0,0,0,0,0,0,0,0,0,0,0,0,0,0,0,0,0,0,0,0,0,0,0,0,0,0,0,0,0,0,0,0,0,0,0,0,0,0,0,0,0,0,0,0,0,0,0,0,0,0,0,0,0,0,0,0,0,0,0,0,0,0,0,0,0,0,0,0,0,0,0,0,1,0,0,0,0,0,0,0,0,0,0,0,0,0,0,0,0,0,0,0,0,0,0,0,0,0,0,0,0,0,0,0,0,0,0,0,0,0,0,0,0,0,0,0,0,0,0,0,0,0,0,0,0,0,0,0,0,0,0,0,0,0,0,0,0,0,0,0,0,0,0,0,0,0,0,0,0,0,0,0,0,0,0,0,0,0,0,0,0,0,0,0,0,0,0,0,0,2,0,0,0,0,0,0,0,0,0,0,0,0,0,0,0,0,0,0,0,0,0,0,0,0,0,0,2,0,0,0,0,0,0,0,0,0,0,0,0,0,0,0,0,0,0,0,0,0,0,0,0,0,0,0,0,0,1,0,0,0,0,0,0,0,0,1,0,0,0,0,0,0,0,0,0,0,0,0,0,0,0,0,0,0,0,0,0,0,0,0,0,0,0,0,0,0,0,0,0,0,0,0,0,0,0,0,0,0,0,0,0,0,0,0,0,0,0,0,0,0,0,0,0,0,0,0,0,0,0,0,2,0,0,0,0,0,0,0,0,0,0,0,0,0,0,0,0,0,0,0,0,0,0,0,0,0,0,0,0,0,0,0,0,0,1,0,0,0,0,0,0,0,0,0,0,0,0,0,0,0,0,0,0,0,0,0,0,0,0,0,1,0,0,0,0,0,0,0,0,0,0,0,0,0,0,0,0,0,0,0,0,0,0,0,0,0,0,0,0,0,0,0,0,0,0,0,0,0,0,0,0,0,0,0,0,0,0,0,0,0,0,0,0,0,0,0,0,0,0,0,0,0,0,0,0,0,0,0,0,0,0,0,0,0,0,0,0,0,0,0,0,0,0,0,0,0,0,0,0,1,0,0,0,0,0,0,1,0,0,0,0,0,0,0,0,0,0,0,0,0,0,0,0,0,0,0,0,0,0,0,0,0,0,0,0,0,0,0,0,0,0,0,0,0,0,0,0,0,0,0,0,0,0,0,0,0,0,0,0,0,0,0,0,0,1,2,0,0,0,0,0,0,0,0,0,0,0,0,0,0,0,0,0,0,0,0,0,0,0,0,0,0,0,0,0,0,0,0,0,0,0,0,0,0,0,0,0,0,0,0,0,0,0,0,0,0,0,0,0,0,0,0,0,0,0,0,0,0,0,0,0,0,0,0,0,0,0,0,0,0,0,0,0,0,0,0,0,0,0,0,0,0,0,0,0,0,0,0,0,0,0,0,0,0,0,0,0,0,0,0,0,0,0,3,0,0,0,0,0,1,0,0,0,0,0,0,0,0,0,0,0,0,0,0,0,0,0,0,0,0,0,0,0,0,0,0,0,0,0,0,0,0,0,0,0,0,0,0,0,0,0,0,0,0,0,0,0,0,0,0,0,0,0,0,0,0,0,0,0,0,0,0,0,0,0,0,2,0,0,0,0,0,0,0,0,0,0,0,0,0,0,0,0,0,0,0,0,0,0,0,0,1,0,0,0,0,0,0,0,0,0,0,0,0,0,0,0,0,0,0,0,0,0,0,0,0,0,0,0,1,0,0,0,0,0,0,0,0,0,0,0,0,0,0,0,0,0,0,0,0,0,0,0,0,0,0,0,0,0,0,0,0,0,0,0,0,0,0,0,0,0,0,0,0,0,0,0,0,1,0,0,0,0,0,0,0,0,0,0,0,0,0,0,0,0,0,0,0,0,0,0,0,0,0,0,0,0,0,0,0,0,0,0,0,0,0,0,0,0,0,0,0,0,4,0,0,0,0,1,0,0,0,0,0,0,0,0,0,0,0,0,0,0,0,0,0,0,0,0,0,0,0,0,0,0,0,0,0,0,0,0,1,0,0,0,0,0,0,0,0,0,0,0,0,0,0,0,0,0,0,0,0,0,0,0,0,0,0,0,0,0,0,0,0,0,0,0,0,1,0,0,0,0,0,0,0,3,0,0,0,0,0,0,0,0,0,0,0,0,0,0,0,0,0,1,0,0,0,0,0,0,0,0,0,0,0,0,0,1,0,0,0,0,0,0,0,1,0,0,0,0,0,0,0,0,0,0,0,0,0,0,0,0,0,0,0,0,0,0,0,0,0,0,0,0,0,0,0,0,0,0,0,0,1,0,0,0,0,0,0,0,0,0,0,0,0,0,0,0,0,0,0,0,0,0,0,0,0,0,0,0,0,0,0,0,0,0,0,0,0,0,0,0,0,0,0,0,0,0,0,0,0,0,0,0,0,0,0,0,0,0,0,0,0,0,0,0,0,0,0,0,0,0,0,0,0,0,0,0,0,0,0,0,0,0,0,0,0,0,0,0,0,0,0,0,0,0,0,0,0,0,0,0,0,0,0,0,0,0,0,0,0,0,0,0,0,0,0,0,0,0,0,0,0,0,0,0,0,0,0,0,0,0,1,0,0,0,0,0,0,0,0,0,0,0,0,0,0,0,0,0,0,0,0,0,0,0,0,0,0,0,0,0,0,0,0,0,0,0,0,0,0,0,0,0,0,0,0,0,0,0,0,0,0,0,1,0,0,0,0,0,0,0,0,0,0,0,0,0,0,0,0,0,0,0,0,0,0,0,0,0,0,0,0,0,0,0,0,0,0,0,0,0,0,0,0,0,0,0,0,0,0,0,0,0,0,0,0,0,0,0,0,0,0,0,0,0,0,0,0,0,0,0,0,0,0,0,0,0,0,0,0,0,0,0,0,0,0,0,0,0,0,0,0,0,0,0,0,0,0,0,0,0,0,0,0,0,0,0,0,0,0,0,0,0,0,0,0,0,0,0,0,0,0,0,0,0,0,0,0,0,0,0,0,0,0,0,0,0,0,0,0,0,0,0,0,0,0,0,0,0,0,0,0,0,0,0,0,0,0,0,0,0,0,0,0,0,0,0,0,0,0,0,0,0,0,0,0,0,0,0,0,0,0,0,0,0,0,0,0,0,0,0,0,0,0,0,0,0,0,0,0,0,0,0,0,0,0,0,0,0,0,0,0,0,0,1,0,0,0,0,0,0,0,0,0,0,0,0,0,0,0,0,0,0,0,0,0,0,0,0,0,0,0,0,0,0,0,0,0,0,0,0,0,0,0,0,0,0,0,0,0,0,0,0,0,0,0,0,0,0,0,0,0,0,0,0,0,0,0,0,0,0,0,0,0,0,0,0,0,0,0,0,0,0,0,0,0,0,0,0,0,0,0,0,0,0,0,0,0,0,0,0,0,0,0,0,0,0,0,0,0,0,0,0,0,0,0,0,0,0,0,0,0,0,0,0,0,0,0,0,0,0,0,0,0,0,0,0,0,0,0,0,0,0,0,0,0,0,0,0,0,0,0,0,0,0,0,0,0,0,0,0,0,0,0,0,0,0,0,0,0,0,0,0,0,0,0,0,0,0,0,0,0,0,0,0,0,0,0,0,0,0,0,0,0,0,0,0,0,0,0,0,0,0,0,0,0,0,0,0,0,0,0,0,0,0,0,0,0,0,0,0,0,0,0,0,0,0,0,0,0,0,0,0,0,0,0,0,0,0,0,0,0,0,0,0,0,0,0,0,0,0,0,0,0,0,0,0,0,0,0,0,0,0,0,0,0,0,0,0,0,0,0,0,0,0,0,0,0,0,0,0,0,0,0,0,0,0,0,0,0,0,0,0,0,0,0,0,0,0,0,0,0,0,0,0,0,0,0,0,0,0,0,0,0,0,0,0,0,0,0,0,0,0,0,0,0,0,0,0,0,0,0,0,0,0,0,0,0,0,0,0,0,0,0,0,0,0,0,0,0,0,0,0,0,0,0,0,0,0,0,0,0,0,0,0,0,0,0,0,0,0,0,0,0,0,0,0,0,0,0,0,0,0,0,0,0,0,0,0,0,0,0,0,0,0,0,0,0,0,0,0,0,0,0,0,0,0,0,0,0,0,0,0,0,0,0,0,0,0,0,0,0,0,0,0,0,0,0,0,0,0,0,0,0,0,0,0,0,0,0,0,0,0,0,0,0,0,0,0,0,0,0,0,0,0,0,0,0,0,0,0,0,0,0,0,0,0,0,0,0,0,0,0,0,0,0,0,0,0,0,0,0,0,0,0,0,0,0,0,0,0,0,0,0,0,0,0,0,0,0,0,0,0,0,0,0,0,0,0,0,0,0,0,0,0,0,0,0,0,0,0,0,0,0,0,0,0,0,0,0,0,0,0,0,0,0,0,0,0,0,0,0,0,0,0,0,0,0,0,0,0,0,0,0,0,0,0,0,0,0,0,0,0,0,0,0,0,0,0,0,0,0,0,0,0,0,0,0,0,0,0,0,0,0,0,0,0,0,0,0,0,0,0,0,0,0,0,0,0,0,0,0,0,0,0,0,0,0,0,0,0,0,0,0,0,0,0,0,0,0,0,0,0,0,0,0,0,0,0,0,0,0,0,0,0,0,0,0,0,0,0,0,0,0,0,0,0,0,0,0,0,0,0,0,0,0,0,0,0,0,0,0,0,0,0,0,0,0,0,0,0,0,0,0,0,0,0,0,0,0,0,0,0,0,0,0,0,0,0,0,0,0,0,0,0,0,0,0,0,0,0,0,0,0,0,0,0,0,0,0,0,0,0,0,0,0,0,0,0,0,0,0,0,0,0,0,0,0,0,0,0,0,0,0,0,0,0,0,0,0,0,0,0,0,0,0,0,0,0,0,0,0,0,0,0,0,0,0,0,0,0,0,0,0,0,0,0,0,0,0,0,0,0,0,0,0,0,0,0,0,0,0,0,0,0,0,0,0,0,0,0,0,0,0,0,0,0,0,0,0,0,0,0,0,0,0,0,0,0,0,0,0,0,0,0,0,0,0,0,0,0,0,0,0,0,0,0,0,0,0,0,0,0,0,0,0,0,0,0,0,0,0,0,0,0,0,0,0,0,0,0,0,0,0,0,0,0,0,0,0,0,0,0,0,0,0,0,0,0,0,0,0,0,0,0,0,0,0,0,0,0,0,0,0,0,0,0,0,0,0,0,0,0,0,0,0,0,0,0,0,0,0,0,0,0,0,0,0,0,0,0,0,0,0,0,0,0,0,0,0,0,0,0,0,0,0,0,0,0,0,0,0,0,0,0,0,0,0,0,0,0,0,0,0,0,0,0,0,0,0,0,0,0,0,0,0,0,0,0,0,0,0,0,0,0,0,0,0,0,0,0,0,0,0,0,0,0,0,0,0,0,0,0,0,0,0,0,0,0,0,0,0,0,0,0,0,0,0,0,0,0,0,0,0,0,0,0,0,0,0,0,0,0,0,0,0,0,0,0,0,0,0,0,0,0,0,0,0,0,0,0,0,0,0,0,0,0,0,0,0,0,0,0,0,0,0,0,0,0,0,0,0,0,0,0,0,0,0,0,0,0,0,0,0,0,0,0,0,0,0,0,0,0,0,0,0,0,0,0,0,0,0,0,0,0,0,0,0,0,0,0,0,0,0,0,0,0,0,0,0,0,0,0,0,0,0,0,0,0,0,0,0,0,0,0,0,0,0,0,0,0,0,0,0,0,0,0,0,0,0,0,0,0,0,0,0,0,0,0,0,0,0,0,0,0,0,0,0,0,0,0,0,0,0,0,0,0,0,0,0,0,0,0,0,0,0,0,0,0,0,0,0,0,0,0,0,0,0,0,0,0,0,0,0,0,0,0,0,0,0,0,0,0,0,0,0,0,0,0,0,0,0,0,0,0,0,0,0,0,0,0,0,0,0,0,0,0,0,0,0,0,0,0,0,0,0,0,0,0,0,0,0,0,0,0,0,0,0,0,0,0,0,0,0,0,0,0,0,0,0,0,0,0,0,0,0,0,0,0,0,0,0,0,0,0,0,0,0,0,0,0,0,0,0,0,0,0,0,0,0,0,0,0,0,0,0,0,0,0,0,0,0,0,0,0,0,0,0,0,0,0,0,0,0,0,0,0,0,0,0,0,0,0,0,0,0,0,0,0,0,0,0,0,0,0,0,0,0,0,0,0,0,0,0,0,0,0,0,0,0,0,0,0,0,0,0,0,0,0,0,0,0,0,0,0,0,0,0,0,0,0,0,0,0,0,0,0,0,0,0,0,0,0,0,0,0,0,0,0,0,0,0,0,0,0,0,0,0,0,0,0,0,0,0,0,0,0,0,0,0,0,0,0,0,0,0,0,0,0,0,0,0,0,0,0,0,0,0,0,0,0,0,0,0,0,0,0,0,0,0,0,0,0,0,0,0,0,0,0,0,0,0,0,0,0,0,0,0,0,0,0,0,0,0,0,0,0,0,0,0,0,0,0,0,0,0,0,0,0,0,0,0,0,0,0,0,0,0,0,0,0,0,0,0,0,0,0,0,0,0,0,0,0,0,0,0,0,0,0,0,0,0,0,0,0,0,0,0,0,0,0,0,0,0,0,0,0,0,0,0,0,0,0,0,0,0,0,0,0,0,0,0,0,0,0,0,0,0,0,0,0,0,0,0,0,0,0,0,0,0,0,0,0,0,0,0,0,0,0,0,0,0,0,0,0,0,0,0,0,0,0,0,0,0,0,0,0,0,0,0,0,0,0,0,0,0,0,0,0,0,0,0,0,0,0,0,0,0,0,0,0,0,0,0,0,0,0,0,0,0,0,0,0,0,0,0,0,0,0,0,0,0,0,0,0,0,0,0,0,0,0,0,0,0,0,0,0,0,0,0,0,0,0,0,0,0,0,0,0,0,0,0,0,0,0,0,0,0,0,0,0,0,0,0,0,0,0,0,0,0,0,0,0,0,0,0,0,0,0,0,0,0,0,0,0,0,0,0,0,0,0,0,0,0,0,0,0,0,0,0,0,0,0,0,0,0,0,0,0,0,0,0,0,0,0,0,0,0,0,0,0,0,0,0,0,0,0,0,0,0,0,0,0,0,0,0,0,0,0,0,0,0,0,0,0,0,0,0,0,0,0,0,0,0,0,0,0,0,0,0,0,0,0,0,0,0,0,0,0,0,0,0,0,0,0,0,0,0,0,0,0,0,0,0,0,0,0,0,0,0,0,0,0,0,0,0,0,0,0,0,0,0,0,0,0,0,0,0,0,0,0,0,0,0,0,0,0,0,0,0,0,0,0,0,0,0,0,0,0,0,0,0,0,0,0,0,0,0,0,0,0,0,0,0,0,0,0,0,0,0,0,0,0,0,0,0,0,0,0,0,0,0,0,0,0,0,0,0,0,0,0,0,0,0,0,0,0,0,0,0,0,0,0,0,0,0,0,0,0,0,0,0,0,0,0,0,0,0,0,0,0,0,0,0,0,0,0,0,0,0,0,0,0,0,0,0,0,0,0,0,0,0,0,0,0,0,0,0,0,0,0,0,0,0,0,0,0,0,0,0,0,0,0,0,0,0,0,0,0,0,0,0,0,0,0,0,0,0,0,0,0,0,0,0,0,0,0,0,0,0,0,0,0,0,0,0,0,0,0,0,0,0,0,0,0,0,0,0,0,0,0,0,0,0,0,0,0,0,0,0,0,0,0,0,0,0,0,0,0,0,0,0,0,0,0,0,0,0,0,0,0,0,0,0,0,0,0,0,0,0,0,0,0,0,0,0,0,0,0,0,0,0,0,0,0,0,0,0,0,0,0,0,0,0,0,0,0,0,0,0,0,0,0,0,0,0,0,0,0,0,0,0,0,0,0,0,0,0,0,0,0,0,0,0,0,0,0,0,0,0,0,0,0,0,0,0,0,0,0,0,0,0,0,0,0,0,0,0,0,0,0,0,0,0,0,0,0,0,0,0,0,0,0,0,0,0,0,0,0,0,0,0,0,0,0,0,0,0,0,0,0,0,0,0,0,0,0,0,0,0,0,0,0,0,0,0,0,0,0,0,0,0,0,0,0,0,0,0,0,0,0,0,0,0,0,0,0,0,0,0,0,0,0,0,0,0,0,0,0,0,0,0,0,0,0,0,0,0,0,0,0,0,0,0,0,0,0,0,0,0,0,0,0,0,0,0,0,0,0,0,0,0,0,0,0,0,0,0,0,0,0,0,0,0,0,0,0,0,0,0,0,0,0,0,0,0,0,0,0,0,0,0,0,0,0,0,0,0,0,0,0,0,0,0,0,0,0,0,0,0,0,0,0,0,0,0,0,0,0,0,0,0,0,0,0,0,0,0,0,0,0,0,0,0,0,0,0,0,0,0,0,0,0,0,0,0,0,0,0,0,0,0,0,0,0,0,0,0,0,0,0,0,0,0,0,0,0,0,0,0,0,0,0,0,0,0,0,0,0,0,0,0,0,0,0,0,0,0,0,0,0,0,0,0,0,0,0,0,0,0,0,0,0,0,0,0,0,0,0,0,0,0,0,0,0,0,0,0,0,0,0,0,0,0,0,0,0,0,0,0,0,0,0,0,0,0,0,0,0,0,0,0,0,0,0,0,0,0,0,0,0,0,0,0,0,0,0,0,0,0,0,0,0,0,0,0,0,0,0,0,0,0,0,0,0,0,0,0,0,0,0,0,0,0,0,0,0,0,0,0,0,0,0,0,0,0,0,0,0,0,0,0,0,0,0,0,0,0,0,0,0,0,0,0,0,0,0,0,0,0,0,0,0,0,0,0,0,0,0,0,0,0,0,0,0,0,0,0,0,0,0,0,0,0,0,0,0,0,0,0,0,0,0,0,0,0,0,0,0,0,0,0,0,0,0,0,0,0,0,0,0,0,0,0,0,0,0,0,0,0,0,0,0,0,0,0,0,0,0,0,0,0,0,0,0,0,0,0,0,0,0,0,0,0,0,0,0,0,0,0,0,0,0,0,0,0,0,0,0,0,0,0,0,0,0,0,0,0,0,0,0,0,0,0,0,0,0,0,0,0,0,0,0,0,0,0,0,0,0,0,0,0,0,0,0,0,0,0,0,0,0,0,0,0,0,0,0,0,0,0,0,0,0,0,0,0,0,0,0,0,0,0,0,0,0,0,0,0,0,0,0,0,0,0,0,0,0,0,0,0,0,0,0,0,0,0,0,0,0,0,0,0,0,0,0,0,0,0,0,0,0,0,0,0,0,0,0,0,0,0,0,0,0,0,0,0,0,0,0,0,0,0,0,0,0,0,0,0,0,0,0,0,0,0,0,0,0,0,0,0,0,0,0,0,0,0,0,0,0,0,0,0,0,0,0,0,0,0,0,0,0,0,0,0,0,0,0,0,0,0,0,0,0,0,0,0,0,0,0,0,0,0,0,0,0,0,0,0,0,0,0,0,0,0,0,0,0,0,0,0,0,0,0,0,0,0,0,0,0,0,0,0,0,0,0,0,0,0,0,0,0,0,0,0,0,0,0,0,0,0,0,0,0,0,0,0,0,0,0,0,0,0,0,0,0,0,0,0,0,0,0,0,0,0,0,0,0,0,0,0,0,0,0,0,0,0,0,0,0,0,0,0,0,0,0,0,0,0,0,0,0,0,0,0,0,0,0,0,0,0,0,0,0,0,0,0,0,0,0,0,0,0,0,0,0,0,0,0,0,0,0,0,0,0,0,0,0,0,0,0,0,0,0,0,0,0,0,0,0,0,0,0,0,0,0,0,0,0,0,0,0,0,0,0,0,0,0,0,0,0,0,0,0,0,0,0,0,0,0,0,0,0,0,0,0,0,0,0,0,0,0,0,0,0,0,0,0,0,0,0,0,0,0,0,0,0,0,0,0,0,0,0,0,0,0,0,0,0,0,0,0,0,0,0,0,0,0,0,0,0,0,0,0,0,0,0,0,0,0,0,0,0,0,0,0,0,0,0,0,0,0,0,0,0,0,0,0,0,0,0,0,0,0,0,0,0,0,0,0,0,0,0,0,0,0,0,0,0,0,0,0,0,0,0,0,0,0,0,0,0,0,0,0,0,0,0,0,0,0,0,0,0,0,0,0,0,0,0,0,0,0,0,0,0,0,0,0,0,0,0,0,0,0,0,0,0,0,0,0,0,0,0,0,0,0,0,0,0,0,0,0,0,0,0,0,0,0,0,0,0,0,0,0,0,0,0,0,0,0,0,0,0,0,0,0,0,0,0,0,0,0,0,0,0,0,0,0,0,0,0,0,0,0,0,0,0,0,0,0,0,0,0,0,0,0,0,0,0,0,0,0,0,0,0,0,0,0,0,0,0,0,0,0,0,0,0,0,0,0,0,0,0,0,0,0,0,0,0,0,0,0,0,0,0,0,0,0,0,0,0,0,0,0,0,0,0,0,0,0,0,0,0,0,0,0,0,0,0,0,0,0,0,0,0,0,0,0,0,0,0,0,0,0,0,0,0,0,0,0,0,0,0,0,0,0,0,0,0,0,0,0,0,0,0,0,0,0,0,0,0,0,0,0,0,0,0,0,0,0,0,0,0,0,0,0,0,0,0,0,0,0,0,0,0,0,0,0,0,0,0,0,0,0,0,0,0,0,0,0,0,0,0,0,0,0,0,0,0,0,0,0,0,0,0,0,0,0,0,0,0,0,0,0,0,0,0,0,0,0,0,0,0,0,0,0,0,0,0,0,0,0,0,0,0,0,0,0,0,0,0,0,0,0,0,0,0,0,0,0,0,0,0,0,0,0,0,0,0,0,0,0,0,0,0,0,0,0,0,0,0,0,0,0,0,0,0,0,0,0,0,0,0,0,0,0,0,0,0,0,0,0,0,0,0,0,0,0,0,0,0,0,0,0,0,0,0,0,0,0,0,0,0,0,0,0,0,0,0,0,0,0,0,0,0,0,0,0,0,0,0,0,0,0,0,0,0,0,0,0,0,0,0,0,0,0,0,0,0,0,0,0,0,0,0,0,0,0,0,0,0,0,0,0,0,0,0,0,0,0,0,0,0,0,0,0,0,0,0,0,0,0,0,0,0,0,0,0,0,0,0,0,0,0,0,0,0,0,0,0,0,0,0,0,0,0,0,0,0,0,0,0,0,0,0,0,0,0,0,0,0,0,0,0,0,0,0,0,0,0,0,0,0,0,0,0,0,0,0,0,0,0,0,0,0,0,0,0,0,0,0,0,0,0,0,0,0,0,0,0,0,0,0,0,0,0,0,0,0,0,0,0,0,0,0,0,0,0,0,0,0,0,0,0,0,0,0,0,0,0,0,0,0,0,0,0,0,0,0,0,0,0,0,0,0,0,0,0,0,0,0,0,0,0,0,0,0,0,0,0,0,0,0,0,0,0,0,0,0,0,0,0,0,0,0,0,0,0,0,0,0,0,0,0,0,0,0,0,0,0,0,0,0,0,0,0,0,0,0,0,0,0,0,0,0,0,0,0,0,0,0,0,0,0,0,0,0,0,0,0,0,0,0,0,0,0,0,0,0,0,0,0,0,0,0,0,0,0,0,0,0,0,0,0,0,0,0,0,0,0,0,0,0,0,0,0,0,0,0,0,0,0,0,0,0,0,0,0,0,0,0,0,0,0,0,0,0,0,0,0,0,0,0,0,0,0,0,0,0,0,0,0,0,0,0,0,0,0,0,0,0,0,0,0,0,0,0,0,0,0,0,0,0,0,0,0,0,0,0,0,0,0,0,0,0,0,0,0,0,0,0,0,0,0,0,0,0,0,0,0,0,0,0,0,0,0,0,0,0,0,0,0,0,0,0,0,0,0,0,0,0,0,0,0,0,0,0,0,0,0,0,0,0,0,0,0,0,0,0,0,0,0,0,0,0,0,0,0,0,0,0,0,0,0,0,0,0,0,0,0,0,0,0,0,0,0,0,0,0,0,0,0,0,0,0,0,0,0,0,0,0,0,0,0,0,0,0,0,0,0,0,0,0,0,0,0,0,0,0,0,0,0,0,0,0,0,0,0,0,0,0,0,0,0,0,0,0,0,0,0,0,0,0,0,0,0,0,0,0,0,0,0,0,0,0,0,0,0,0,0,0,0,0,0,0,0,0,0,0,0,0,0,0,0,0,0,0,0,0,0,0,0,0,0,0,0,0,0,0,0,0,0,0,0,0,0,0,0,0,0,0,0,0,0,0,0,0,0,0,0,0,0,0,0,0,0,0,0,0,0,0,0,0,0,0,0,0,0,0,0,0,0,0,0,0,0,0,0,0,0,0,0,0,0,0,0,0,0,0,0,0,0,0,0,0,0,0,0,0,0,0,0,0,0,0,0,0,0,0,0,0,0,0,0,0,0,0,0,0,0,0,0,0,0,0,0,0,0,0,0,0,0,0,0,0,0,0,0,0,0,0,0,0,0,0,0,0,0,0,0,0,0,0,0,0,0,0,0,0,0,0,0,0,0,0,0,0,0,0,0,0,0,0,0,0,0,0,0,0,0,0,0,0,0,0,0,0,0,0,0,0,0,0,0,0,0,0,0,0,0,0,0,0,0,0,0,0,0,0,0,0,0,0,0,0,0,0,0,0,0,0,0,0,0,0,0,0,0,0,0,0,0,0,0,0,0,0,0,0,0,0,0,0,0,0,0,0,0,0,0,0,0,0,0,0,0,0,0,0,0,0,0,0,0,0,0,0,0,0,0,0,0,0,0,0,0,0,0,0,0,0,0,0,0,0,0,0,0,0,0,0,0,0,0,0,0,0,0,0,0,0,0,0,0,0,0,0,0,0,0,0,0,0,0,0,0,0,0,0,0,0,0,0,0,0,0,0,0,0,0,0,0,0,0,0,0,0,0,0,0,0,0,0,0,0,0,0,0,0,0,0,0,0,0,0,0,0,0,0,0,0,0,0,0,0,0,0,0,0,0,0,0,0,0,0,0,0,0,0,0,0,0,0,0,0,0,0,0,0,0,0,0,0,0,0,0,0,0,0,0,0,0,0,0,0,0,0,0,0,0,0,0,0,0,0,0,0,0,0,0,0,0,0,0,0,0,0,0,0,0,0,0,0,0,0,0,0,0,0,0,0,0,0,0,0,0,0,0,0,0,0,0,0,0,0,0,0,0,0,0,0,0,0,0,0,0,0,0,0,0,0,0,0,0,0,0,0,0,0,0,0,0,0,0,0,0,0,0,0,0,0,0,0,0,0,0,0,0,0,0,0,0,0,0,0,0,0,0,0,0,0,0,0,0,0,0,0,0,0,0,0,0,0,0,0,0,0,0,0,0,0,0,0,0,0,0,0,0,0,0,0,0,0,0,0,0,0,0,0,0,0,0,0,0,0,0,0,0,0,0,0,0,0,0,0,0,0,0,0,0,0,0,0,0,0,0,0,0,0,0,0,0,0,0,0,0,0,0,0,0,0,0,0,0,0,0,0,0,0,0,0,0,0,0,0,0,0,0,0,0,0,0,0,0,0,0,0,0,0,0,0,0,0,0,0,0,0,0,0,0,0,0,0,0,0,0,0,0,0,0,0,0,0,0,0,0,0,0,0,0,0,0,0,0,0,0,0,0,0,0,0,0,0,0,0,0,0,0,0,0,0,0,0,0,0,0,0,0,0,0,0,0,0,0,0,0,0,0,0,0,0,0,0,0,0,0,0,0,0,0,0,0,0,0,0,0,0,0,0,0,0,0,0,0,0,0,0,0,0,0,0,0,0,0,0,0,0,0,0,0,0,0,0,0,0,0,0,0,0,0,0,0,0,0,0,0,0,0,0,0,0,0,0,0,0,0,0,0,0,0,0,0,0,0,0,0,0,0,0,0,0,0,0,0,0,0,0,0,0,0,0,0,0,0,0,0,0,0,0,0,0,0,0,0,0,0,0,0,0,0,0,0,0,0,0,0,0,0,0,0,0,0,0,0,0,0,0,0,0,0,0,0,0,0,0,0,0,0,0,0,0,0,0,0,0,0,0,0,0,0,0,0,0,0,0,0,0,0,0,0,0,0,0,0,0,0,0,0,0,0,0,0,0,0,0,0,0,0,0,0,0,0,0,0,0,0,0,0,0,0,0,0,0,0,0,0,0,0,0,0,0,0,0,0,0,0,0,0,0,0,0,0,0,0,0,0,0,0,0,0,0,0,0,0,0,0,0,0,0,0,0,0,0,0,0,0,0,0,0,0,0,0,0,0,0,0,0,0,0,0,0,0,0,0,0,0,0,0,0,0,0,0,0,0,0,0,0,0,0,0,0,0,0,0,0,0,0,0,0,0,0,0,0,0,0,0,0,0,0,0,0,0,0,0,0,0,0,0,0,0,0,0,0,0,0,0,0,0,0,0,0,0,0,0,0,0,0,0,0,0,0,0,0,0,0,0,0,0,0,0,0,0,0,0,0,0,0,0,0,0,0,0,0,0,0,0,0,0,0,0,0,0,0,0,0,0,0,0,0,0,0,0,0,0,0,0,0,0,0,0,0,0,0,0,0,0,0,0,0,0,0,0,0,0,0,0,0,0,0,0,0,0,0,0,0,0,0,0,0,0,0],\"type\":\"scatter3d\"}],                        {\"template\":{\"data\":{\"histogram2dcontour\":[{\"type\":\"histogram2dcontour\",\"colorbar\":{\"outlinewidth\":0,\"ticks\":\"\"},\"colorscale\":[[0.0,\"#0d0887\"],[0.1111111111111111,\"#46039f\"],[0.2222222222222222,\"#7201a8\"],[0.3333333333333333,\"#9c179e\"],[0.4444444444444444,\"#bd3786\"],[0.5555555555555556,\"#d8576b\"],[0.6666666666666666,\"#ed7953\"],[0.7777777777777778,\"#fb9f3a\"],[0.8888888888888888,\"#fdca26\"],[1.0,\"#f0f921\"]]}],\"choropleth\":[{\"type\":\"choropleth\",\"colorbar\":{\"outlinewidth\":0,\"ticks\":\"\"}}],\"histogram2d\":[{\"type\":\"histogram2d\",\"colorbar\":{\"outlinewidth\":0,\"ticks\":\"\"},\"colorscale\":[[0.0,\"#0d0887\"],[0.1111111111111111,\"#46039f\"],[0.2222222222222222,\"#7201a8\"],[0.3333333333333333,\"#9c179e\"],[0.4444444444444444,\"#bd3786\"],[0.5555555555555556,\"#d8576b\"],[0.6666666666666666,\"#ed7953\"],[0.7777777777777778,\"#fb9f3a\"],[0.8888888888888888,\"#fdca26\"],[1.0,\"#f0f921\"]]}],\"heatmap\":[{\"type\":\"heatmap\",\"colorbar\":{\"outlinewidth\":0,\"ticks\":\"\"},\"colorscale\":[[0.0,\"#0d0887\"],[0.1111111111111111,\"#46039f\"],[0.2222222222222222,\"#7201a8\"],[0.3333333333333333,\"#9c179e\"],[0.4444444444444444,\"#bd3786\"],[0.5555555555555556,\"#d8576b\"],[0.6666666666666666,\"#ed7953\"],[0.7777777777777778,\"#fb9f3a\"],[0.8888888888888888,\"#fdca26\"],[1.0,\"#f0f921\"]]}],\"heatmapgl\":[{\"type\":\"heatmapgl\",\"colorbar\":{\"outlinewidth\":0,\"ticks\":\"\"},\"colorscale\":[[0.0,\"#0d0887\"],[0.1111111111111111,\"#46039f\"],[0.2222222222222222,\"#7201a8\"],[0.3333333333333333,\"#9c179e\"],[0.4444444444444444,\"#bd3786\"],[0.5555555555555556,\"#d8576b\"],[0.6666666666666666,\"#ed7953\"],[0.7777777777777778,\"#fb9f3a\"],[0.8888888888888888,\"#fdca26\"],[1.0,\"#f0f921\"]]}],\"contourcarpet\":[{\"type\":\"contourcarpet\",\"colorbar\":{\"outlinewidth\":0,\"ticks\":\"\"}}],\"contour\":[{\"type\":\"contour\",\"colorbar\":{\"outlinewidth\":0,\"ticks\":\"\"},\"colorscale\":[[0.0,\"#0d0887\"],[0.1111111111111111,\"#46039f\"],[0.2222222222222222,\"#7201a8\"],[0.3333333333333333,\"#9c179e\"],[0.4444444444444444,\"#bd3786\"],[0.5555555555555556,\"#d8576b\"],[0.6666666666666666,\"#ed7953\"],[0.7777777777777778,\"#fb9f3a\"],[0.8888888888888888,\"#fdca26\"],[1.0,\"#f0f921\"]]}],\"surface\":[{\"type\":\"surface\",\"colorbar\":{\"outlinewidth\":0,\"ticks\":\"\"},\"colorscale\":[[0.0,\"#0d0887\"],[0.1111111111111111,\"#46039f\"],[0.2222222222222222,\"#7201a8\"],[0.3333333333333333,\"#9c179e\"],[0.4444444444444444,\"#bd3786\"],[0.5555555555555556,\"#d8576b\"],[0.6666666666666666,\"#ed7953\"],[0.7777777777777778,\"#fb9f3a\"],[0.8888888888888888,\"#fdca26\"],[1.0,\"#f0f921\"]]}],\"mesh3d\":[{\"type\":\"mesh3d\",\"colorbar\":{\"outlinewidth\":0,\"ticks\":\"\"}}],\"scatter\":[{\"fillpattern\":{\"fillmode\":\"overlay\",\"size\":10,\"solidity\":0.2},\"type\":\"scatter\"}],\"parcoords\":[{\"type\":\"parcoords\",\"line\":{\"colorbar\":{\"outlinewidth\":0,\"ticks\":\"\"}}}],\"scatterpolargl\":[{\"type\":\"scatterpolargl\",\"marker\":{\"colorbar\":{\"outlinewidth\":0,\"ticks\":\"\"}}}],\"bar\":[{\"error_x\":{\"color\":\"#2a3f5f\"},\"error_y\":{\"color\":\"#2a3f5f\"},\"marker\":{\"line\":{\"color\":\"#E5ECF6\",\"width\":0.5},\"pattern\":{\"fillmode\":\"overlay\",\"size\":10,\"solidity\":0.2}},\"type\":\"bar\"}],\"scattergeo\":[{\"type\":\"scattergeo\",\"marker\":{\"colorbar\":{\"outlinewidth\":0,\"ticks\":\"\"}}}],\"scatterpolar\":[{\"type\":\"scatterpolar\",\"marker\":{\"colorbar\":{\"outlinewidth\":0,\"ticks\":\"\"}}}],\"histogram\":[{\"marker\":{\"pattern\":{\"fillmode\":\"overlay\",\"size\":10,\"solidity\":0.2}},\"type\":\"histogram\"}],\"scattergl\":[{\"type\":\"scattergl\",\"marker\":{\"colorbar\":{\"outlinewidth\":0,\"ticks\":\"\"}}}],\"scatter3d\":[{\"type\":\"scatter3d\",\"line\":{\"colorbar\":{\"outlinewidth\":0,\"ticks\":\"\"}},\"marker\":{\"colorbar\":{\"outlinewidth\":0,\"ticks\":\"\"}}}],\"scattermapbox\":[{\"type\":\"scattermapbox\",\"marker\":{\"colorbar\":{\"outlinewidth\":0,\"ticks\":\"\"}}}],\"scatterternary\":[{\"type\":\"scatterternary\",\"marker\":{\"colorbar\":{\"outlinewidth\":0,\"ticks\":\"\"}}}],\"scattercarpet\":[{\"type\":\"scattercarpet\",\"marker\":{\"colorbar\":{\"outlinewidth\":0,\"ticks\":\"\"}}}],\"carpet\":[{\"aaxis\":{\"endlinecolor\":\"#2a3f5f\",\"gridcolor\":\"white\",\"linecolor\":\"white\",\"minorgridcolor\":\"white\",\"startlinecolor\":\"#2a3f5f\"},\"baxis\":{\"endlinecolor\":\"#2a3f5f\",\"gridcolor\":\"white\",\"linecolor\":\"white\",\"minorgridcolor\":\"white\",\"startlinecolor\":\"#2a3f5f\"},\"type\":\"carpet\"}],\"table\":[{\"cells\":{\"fill\":{\"color\":\"#EBF0F8\"},\"line\":{\"color\":\"white\"}},\"header\":{\"fill\":{\"color\":\"#C8D4E3\"},\"line\":{\"color\":\"white\"}},\"type\":\"table\"}],\"barpolar\":[{\"marker\":{\"line\":{\"color\":\"#E5ECF6\",\"width\":0.5},\"pattern\":{\"fillmode\":\"overlay\",\"size\":10,\"solidity\":0.2}},\"type\":\"barpolar\"}],\"pie\":[{\"automargin\":true,\"type\":\"pie\"}]},\"layout\":{\"autotypenumbers\":\"strict\",\"colorway\":[\"#636efa\",\"#EF553B\",\"#00cc96\",\"#ab63fa\",\"#FFA15A\",\"#19d3f3\",\"#FF6692\",\"#B6E880\",\"#FF97FF\",\"#FECB52\"],\"font\":{\"color\":\"#2a3f5f\"},\"hovermode\":\"closest\",\"hoverlabel\":{\"align\":\"left\"},\"paper_bgcolor\":\"white\",\"plot_bgcolor\":\"#E5ECF6\",\"polar\":{\"bgcolor\":\"#E5ECF6\",\"angularaxis\":{\"gridcolor\":\"white\",\"linecolor\":\"white\",\"ticks\":\"\"},\"radialaxis\":{\"gridcolor\":\"white\",\"linecolor\":\"white\",\"ticks\":\"\"}},\"ternary\":{\"bgcolor\":\"#E5ECF6\",\"aaxis\":{\"gridcolor\":\"white\",\"linecolor\":\"white\",\"ticks\":\"\"},\"baxis\":{\"gridcolor\":\"white\",\"linecolor\":\"white\",\"ticks\":\"\"},\"caxis\":{\"gridcolor\":\"white\",\"linecolor\":\"white\",\"ticks\":\"\"}},\"coloraxis\":{\"colorbar\":{\"outlinewidth\":0,\"ticks\":\"\"}},\"colorscale\":{\"sequential\":[[0.0,\"#0d0887\"],[0.1111111111111111,\"#46039f\"],[0.2222222222222222,\"#7201a8\"],[0.3333333333333333,\"#9c179e\"],[0.4444444444444444,\"#bd3786\"],[0.5555555555555556,\"#d8576b\"],[0.6666666666666666,\"#ed7953\"],[0.7777777777777778,\"#fb9f3a\"],[0.8888888888888888,\"#fdca26\"],[1.0,\"#f0f921\"]],\"sequentialminus\":[[0.0,\"#0d0887\"],[0.1111111111111111,\"#46039f\"],[0.2222222222222222,\"#7201a8\"],[0.3333333333333333,\"#9c179e\"],[0.4444444444444444,\"#bd3786\"],[0.5555555555555556,\"#d8576b\"],[0.6666666666666666,\"#ed7953\"],[0.7777777777777778,\"#fb9f3a\"],[0.8888888888888888,\"#fdca26\"],[1.0,\"#f0f921\"]],\"diverging\":[[0,\"#8e0152\"],[0.1,\"#c51b7d\"],[0.2,\"#de77ae\"],[0.3,\"#f1b6da\"],[0.4,\"#fde0ef\"],[0.5,\"#f7f7f7\"],[0.6,\"#e6f5d0\"],[0.7,\"#b8e186\"],[0.8,\"#7fbc41\"],[0.9,\"#4d9221\"],[1,\"#276419\"]]},\"xaxis\":{\"gridcolor\":\"white\",\"linecolor\":\"white\",\"ticks\":\"\",\"title\":{\"standoff\":15},\"zerolinecolor\":\"white\",\"automargin\":true,\"zerolinewidth\":2},\"yaxis\":{\"gridcolor\":\"white\",\"linecolor\":\"white\",\"ticks\":\"\",\"title\":{\"standoff\":15},\"zerolinecolor\":\"white\",\"automargin\":true,\"zerolinewidth\":2},\"scene\":{\"xaxis\":{\"backgroundcolor\":\"#E5ECF6\",\"gridcolor\":\"white\",\"linecolor\":\"white\",\"showbackground\":true,\"ticks\":\"\",\"zerolinecolor\":\"white\",\"gridwidth\":2},\"yaxis\":{\"backgroundcolor\":\"#E5ECF6\",\"gridcolor\":\"white\",\"linecolor\":\"white\",\"showbackground\":true,\"ticks\":\"\",\"zerolinecolor\":\"white\",\"gridwidth\":2},\"zaxis\":{\"backgroundcolor\":\"#E5ECF6\",\"gridcolor\":\"white\",\"linecolor\":\"white\",\"showbackground\":true,\"ticks\":\"\",\"zerolinecolor\":\"white\",\"gridwidth\":2}},\"shapedefaults\":{\"line\":{\"color\":\"#2a3f5f\"}},\"annotationdefaults\":{\"arrowcolor\":\"#2a3f5f\",\"arrowhead\":0,\"arrowwidth\":1},\"geo\":{\"bgcolor\":\"white\",\"landcolor\":\"#E5ECF6\",\"subunitcolor\":\"white\",\"showland\":true,\"showlakes\":true,\"lakecolor\":\"white\"},\"title\":{\"x\":0.05},\"mapbox\":{\"style\":\"light\"}}},\"scene\":{\"domain\":{\"x\":[0.0,1.0],\"y\":[0.0,1.0]},\"xaxis\":{\"title\":{\"text\":\"SuspiciousImportFunctions\"}},\"yaxis\":{\"title\":{\"text\":\"SectionsLength\"}},\"zaxis\":{\"title\":{\"text\":\"SuspiciousNameSection\"}}},\"coloraxis\":{\"colorbar\":{\"title\":{\"text\":\"Malware\"}},\"colorscale\":[[0.0,\"#0d0887\"],[0.1111111111111111,\"#46039f\"],[0.2222222222222222,\"#7201a8\"],[0.3333333333333333,\"#9c179e\"],[0.4444444444444444,\"#bd3786\"],[0.5555555555555556,\"#d8576b\"],[0.6666666666666666,\"#ed7953\"],[0.7777777777777778,\"#fb9f3a\"],[0.8888888888888888,\"#fdca26\"],[1.0,\"#f0f921\"]]},\"legend\":{\"tracegroupgap\":0},\"margin\":{\"t\":60}},                        {\"responsive\": true}                    ).then(function(){\n",
              "                            \n",
              "var gd = document.getElementById('c5778b54-24fd-4f57-a2af-70392e8eaf74');\n",
              "var x = new MutationObserver(function (mutations, observer) {{\n",
              "        var display = window.getComputedStyle(gd).display;\n",
              "        if (!display || display === 'none') {{\n",
              "            console.log([gd, 'removed!']);\n",
              "            Plotly.purge(gd);\n",
              "            observer.disconnect();\n",
              "        }}\n",
              "}});\n",
              "\n",
              "// Listen for the removal of the full notebook cells\n",
              "var notebookContainer = gd.closest('#notebook-container');\n",
              "if (notebookContainer) {{\n",
              "    x.observe(notebookContainer, {childList: true});\n",
              "}}\n",
              "\n",
              "// Listen for the clearing of the current output cell\n",
              "var outputEl = gd.closest('.output');\n",
              "if (outputEl) {{\n",
              "    x.observe(outputEl, {childList: true});\n",
              "}}\n",
              "\n",
              "                        })                };                            </script>        </div>\n",
              "</body>\n",
              "</html>"
            ]
          },
          "metadata": {}
        }
      ]
    },
    {
      "cell_type": "markdown",
      "source": [
        "# Apply Clustering Algorithm"
      ],
      "metadata": {
        "id": "2HewII2hCewn"
      }
    },
    {
      "cell_type": "code",
      "source": [
        "#target\n",
        "y = df4['Malware']\n",
        "#features\n",
        "x = df4.drop(['Name', 'Malware'], axis =1).to_numpy()\n",
        "\n",
        "\n"
      ],
      "metadata": {
        "id": "qgg3ycRlCh_s"
      },
      "execution_count": 39,
      "outputs": []
    },
    {
      "cell_type": "code",
      "source": [
        "from sklearn.cluster import KMeans\n",
        "\n",
        "# Assuming 'x' is your feature matrix and 'y' is your target labels\n",
        "estimator = KMeans(n_clusters=len(set(y)))\n",
        "estimator.fit(x)\n"
      ],
      "metadata": {
        "colab": {
          "base_uri": "https://localhost:8080/",
          "height": 147
        },
        "id": "BO-IVduKDExC",
        "outputId": "c57589b8-2fd9-4072-9657-536345540be3"
      },
      "execution_count": 40,
      "outputs": [
        {
          "output_type": "stream",
          "name": "stderr",
          "text": [
            "/usr/local/lib/python3.10/dist-packages/sklearn/cluster/_kmeans.py:870: FutureWarning:\n",
            "\n",
            "The default value of `n_init` will change from 10 to 'auto' in 1.4. Set the value of `n_init` explicitly to suppress the warning\n",
            "\n"
          ]
        },
        {
          "output_type": "execute_result",
          "data": {
            "text/plain": [
              "KMeans(n_clusters=2)"
            ],
            "text/html": [
              "<style>#sk-container-id-1 {color: black;background-color: white;}#sk-container-id-1 pre{padding: 0;}#sk-container-id-1 div.sk-toggleable {background-color: white;}#sk-container-id-1 label.sk-toggleable__label {cursor: pointer;display: block;width: 100%;margin-bottom: 0;padding: 0.3em;box-sizing: border-box;text-align: center;}#sk-container-id-1 label.sk-toggleable__label-arrow:before {content: \"▸\";float: left;margin-right: 0.25em;color: #696969;}#sk-container-id-1 label.sk-toggleable__label-arrow:hover:before {color: black;}#sk-container-id-1 div.sk-estimator:hover label.sk-toggleable__label-arrow:before {color: black;}#sk-container-id-1 div.sk-toggleable__content {max-height: 0;max-width: 0;overflow: hidden;text-align: left;background-color: #f0f8ff;}#sk-container-id-1 div.sk-toggleable__content pre {margin: 0.2em;color: black;border-radius: 0.25em;background-color: #f0f8ff;}#sk-container-id-1 input.sk-toggleable__control:checked~div.sk-toggleable__content {max-height: 200px;max-width: 100%;overflow: auto;}#sk-container-id-1 input.sk-toggleable__control:checked~label.sk-toggleable__label-arrow:before {content: \"▾\";}#sk-container-id-1 div.sk-estimator input.sk-toggleable__control:checked~label.sk-toggleable__label {background-color: #d4ebff;}#sk-container-id-1 div.sk-label input.sk-toggleable__control:checked~label.sk-toggleable__label {background-color: #d4ebff;}#sk-container-id-1 input.sk-hidden--visually {border: 0;clip: rect(1px 1px 1px 1px);clip: rect(1px, 1px, 1px, 1px);height: 1px;margin: -1px;overflow: hidden;padding: 0;position: absolute;width: 1px;}#sk-container-id-1 div.sk-estimator {font-family: monospace;background-color: #f0f8ff;border: 1px dotted black;border-radius: 0.25em;box-sizing: border-box;margin-bottom: 0.5em;}#sk-container-id-1 div.sk-estimator:hover {background-color: #d4ebff;}#sk-container-id-1 div.sk-parallel-item::after {content: \"\";width: 100%;border-bottom: 1px solid gray;flex-grow: 1;}#sk-container-id-1 div.sk-label:hover label.sk-toggleable__label {background-color: #d4ebff;}#sk-container-id-1 div.sk-serial::before {content: \"\";position: absolute;border-left: 1px solid gray;box-sizing: border-box;top: 0;bottom: 0;left: 50%;z-index: 0;}#sk-container-id-1 div.sk-serial {display: flex;flex-direction: column;align-items: center;background-color: white;padding-right: 0.2em;padding-left: 0.2em;position: relative;}#sk-container-id-1 div.sk-item {position: relative;z-index: 1;}#sk-container-id-1 div.sk-parallel {display: flex;align-items: stretch;justify-content: center;background-color: white;position: relative;}#sk-container-id-1 div.sk-item::before, #sk-container-id-1 div.sk-parallel-item::before {content: \"\";position: absolute;border-left: 1px solid gray;box-sizing: border-box;top: 0;bottom: 0;left: 50%;z-index: -1;}#sk-container-id-1 div.sk-parallel-item {display: flex;flex-direction: column;z-index: 1;position: relative;background-color: white;}#sk-container-id-1 div.sk-parallel-item:first-child::after {align-self: flex-end;width: 50%;}#sk-container-id-1 div.sk-parallel-item:last-child::after {align-self: flex-start;width: 50%;}#sk-container-id-1 div.sk-parallel-item:only-child::after {width: 0;}#sk-container-id-1 div.sk-dashed-wrapped {border: 1px dashed gray;margin: 0 0.4em 0.5em 0.4em;box-sizing: border-box;padding-bottom: 0.4em;background-color: white;}#sk-container-id-1 div.sk-label label {font-family: monospace;font-weight: bold;display: inline-block;line-height: 1.2em;}#sk-container-id-1 div.sk-label-container {text-align: center;}#sk-container-id-1 div.sk-container {/* jupyter's `normalize.less` sets `[hidden] { display: none; }` but bootstrap.min.css set `[hidden] { display: none !important; }` so we also need the `!important` here to be able to override the default hidden behavior on the sphinx rendered scikit-learn.org. See: https://github.com/scikit-learn/scikit-learn/issues/21755 */display: inline-block !important;position: relative;}#sk-container-id-1 div.sk-text-repr-fallback {display: none;}</style><div id=\"sk-container-id-1\" class=\"sk-top-container\"><div class=\"sk-text-repr-fallback\"><pre>KMeans(n_clusters=2)</pre><b>In a Jupyter environment, please rerun this cell to show the HTML representation or trust the notebook. <br />On GitHub, the HTML representation is unable to render, please try loading this page with nbviewer.org.</b></div><div class=\"sk-container\" hidden><div class=\"sk-item\"><div class=\"sk-estimator sk-toggleable\"><input class=\"sk-toggleable__control sk-hidden--visually\" id=\"sk-estimator-id-1\" type=\"checkbox\" checked><label for=\"sk-estimator-id-1\" class=\"sk-toggleable__label sk-toggleable__label-arrow\">KMeans</label><div class=\"sk-toggleable__content\"><pre>KMeans(n_clusters=2)</pre></div></div></div></div></div>"
            ]
          },
          "metadata": {},
          "execution_count": 40
        }
      ]
    },
    {
      "cell_type": "code",
      "source": [
        "y_pred = estimator.predict(X)\n",
        "df4['ypred'] = y_pred\n",
        "\n",
        "df4['ypred'].astype(\"category\")"
      ],
      "metadata": {
        "colab": {
          "base_uri": "https://localhost:8080/"
        },
        "id": "5B_YY5OoDeAM",
        "outputId": "86caae1e-5474-4b04-9bee-a57b49d6f844"
      },
      "execution_count": 41,
      "outputs": [
        {
          "output_type": "execute_result",
          "data": {
            "text/plain": [
              "0        0\n",
              "1        0\n",
              "2        0\n",
              "3        0\n",
              "4        0\n",
              "        ..\n",
              "19606    0\n",
              "19607    0\n",
              "19608    0\n",
              "19609    0\n",
              "19610    0\n",
              "Name: ypred, Length: 19611, dtype: category\n",
              "Categories (2, int32): [0, 1]"
            ]
          },
          "metadata": {},
          "execution_count": 41
        }
      ]
    },
    {
      "cell_type": "code",
      "source": [
        "fig = px.scatter_3d(\n",
        "    df4, x ='SuspiciousImportFunctions',\n",
        "    y = 'SectionsLength' ,\n",
        "    z = 'SuspiciousNameSection',\n",
        "    color = \"ypred\",\n",
        ")\n",
        "fig.show()"
      ],
      "metadata": {
        "colab": {
          "base_uri": "https://localhost:8080/",
          "height": 542
        },
        "id": "yiRsYebuD8u6",
        "outputId": "1832dede-617c-492d-d343-8d5c17edfdf2"
      },
      "execution_count": 42,
      "outputs": [
        {
          "output_type": "display_data",
          "data": {
            "text/html": [
              "<html>\n",
              "<head><meta charset=\"utf-8\" /></head>\n",
              "<body>\n",
              "    <div>            <script src=\"https://cdnjs.cloudflare.com/ajax/libs/mathjax/2.7.5/MathJax.js?config=TeX-AMS-MML_SVG\"></script><script type=\"text/javascript\">if (window.MathJax && window.MathJax.Hub && window.MathJax.Hub.Config) {window.MathJax.Hub.Config({SVG: {font: \"STIX-Web\"}});}</script>                <script type=\"text/javascript\">window.PlotlyConfig = {MathJaxConfig: 'local'};</script>\n",
              "        <script charset=\"utf-8\" src=\"https://cdn.plot.ly/plotly-2.24.1.min.js\"></script>                <div id=\"cb8fc9c5-d43d-49e7-bbe2-0f8e0ed7281f\" class=\"plotly-graph-div\" style=\"height:525px; width:100%;\"></div>            <script type=\"text/javascript\">                                    window.PLOTLYENV=window.PLOTLYENV || {};                                    if (document.getElementById(\"cb8fc9c5-d43d-49e7-bbe2-0f8e0ed7281f\")) {                    Plotly.newPlot(                        \"cb8fc9c5-d43d-49e7-bbe2-0f8e0ed7281f\",                        [{\"hovertemplate\":\"SuspiciousImportFunctions=%{x}\\u003cbr\\u003eSectionsLength=%{y}\\u003cbr\\u003eSuspiciousNameSection=%{z}\\u003cbr\\u003eypred=%{marker.color}\\u003cextra\\u003e\\u003c\\u002fextra\\u003e\",\"legendgroup\":\"\",\"marker\":{\"color\":[0,0,0,0,0,0,0,0,0,0,0,0,0,0,0,0,0,0,0,0,0,0,0,0,0,0,0,0,0,0,0,0,0,0,0,0,0,0,0,0,0,0,0,0,0,0,0,0,0,0,0,0,0,0,0,0,0,0,0,0,0,0,0,0,0,0,0,0,0,0,0,0,0,0,0,0,0,0,0,0,0,0,0,0,0,0,0,0,0,0,0,0,0,0,0,0,0,0,0,0,0,0,0,0,0,0,0,0,0,0,0,0,0,0,0,0,0,0,0,0,0,0,0,0,0,0,0,0,0,0,0,0,0,0,0,0,0,0,0,0,0,0,0,0,0,0,0,0,0,0,0,0,0,0,0,0,0,0,0,0,0,0,0,0,0,0,0,0,0,0,0,0,0,0,0,0,0,0,0,0,0,0,0,0,0,0,0,0,0,0,0,0,0,0,0,0,0,0,0,0,0,0,0,0,0,0,0,0,0,0,0,0,0,0,0,0,0,0,0,0,0,0,0,0,0,0,0,0,0,0,0,0,0,0,0,0,0,0,0,0,0,0,0,0,0,0,0,0,0,0,0,0,0,0,0,0,0,0,0,0,0,0,0,0,0,0,0,0,0,0,0,0,0,0,0,0,0,0,0,0,0,0,0,0,0,0,0,0,0,0,0,0,0,0,0,0,0,0,0,0,0,0,0,0,0,0,0,0,0,0,0,0,0,0,0,0,0,0,0,0,0,0,0,0,0,0,0,0,0,0,0,0,0,0,0,0,0,0,0,0,0,0,0,0,0,0,0,0,0,0,0,0,0,0,0,0,0,0,0,0,0,0,0,0,0,0,0,0,0,0,0,0,0,0,0,0,0,0,0,0,0,0,0,0,0,0,0,0,0,0,0,0,0,0,0,0,0,0,0,0,0,0,0,0,0,0,0,0,0,0,0,0,0,0,0,0,0,0,0,0,0,0,0,0,0,0,0,0,0,0,0,0,0,0,0,0,0,0,0,0,0,0,0,0,0,0,0,0,0,0,0,0,0,0,0,0,0,0,0,0,0,0,0,0,0,0,0,0,0,0,0,0,0,0,0,0,0,0,0,0,0,0,0,0,0,0,0,0,0,0,0,0,0,0,0,0,0,0,0,0,0,0,0,0,0,0,0,0,0,0,0,0,0,0,0,0,0,0,0,0,0,0,0,0,0,0,0,0,0,0,0,0,0,0,0,0,0,0,0,0,0,0,0,0,0,0,0,0,0,0,0,0,0,0,0,0,0,0,0,0,0,0,0,0,0,0,0,0,0,0,0,0,0,0,0,0,0,0,0,0,0,0,0,0,0,0,0,0,0,0,0,0,0,0,0,0,0,0,0,0,0,0,0,0,0,0,0,0,0,0,0,0,0,0,0,0,0,0,0,0,0,0,0,0,0,0,0,0,0,0,0,0,0,0,0,0,0,0,0,0,0,0,0,0,0,0,0,0,0,0,0,0,0,0,0,0,0,0,0,0,0,0,0,0,0,0,0,0,0,0,0,0,0,0,0,0,0,0,0,0,0,0,0,0,0,0,0,0,0,0,0,0,0,0,0,0,0,0,0,0,0,0,0,0,0,0,0,0,0,0,0,0,0,0,0,0,0,0,0,0,0,0,0,0,0,0,0,0,0,0,0,0,0,0,0,0,0,0,0,0,0,0,0,0,0,0,0,0,0,0,0,0,0,0,0,0,0,0,0,0,0,0,0,0,0,0,0,0,0,0,0,0,0,0,0,0,0,0,0,0,0,0,0,0,0,0,0,0,0,0,0,0,0,0,0,0,0,0,0,0,0,0,0,0,0,0,0,0,0,0,0,0,0,0,0,0,0,0,0,0,0,0,0,0,0,0,0,0,0,0,0,0,0,0,0,0,0,0,0,0,0,0,0,0,0,0,0,0,0,0,0,0,0,0,0,0,0,0,0,0,0,0,0,0,0,0,0,0,0,0,0,0,0,0,0,0,0,0,0,0,0,0,0,0,0,0,0,0,0,0,0,0,0,0,0,0,0,0,0,0,0,0,0,0,0,0,0,0,0,0,0,0,0,0,0,0,0,0,0,0,0,0,0,0,0,0,0,0,0,0,0,0,0,0,0,0,0,0,0,0,0,0,0,0,0,0,0,0,0,0,0,0,0,0,0,0,0,0,0,0,0,0,0,0,0,0,0,0,0,0,0,0,0,0,0,0,0,0,0,0,0,0,0,0,0,0,0,0,0,0,0,0,0,0,0,0,0,0,0,0,0,0,0,0,0,0,0,0,0,0,0,0,0,0,0,0,0,0,0,0,0,0,0,0,0,0,0,0,0,0,0,0,0,0,0,0,0,0,0,0,0,0,0,0,0,0,0,0,0,0,0,0,0,0,0,0,0,0,0,0,0,0,0,0,0,0,0,0,0,0,0,0,0,0,0,0,0,0,0,0,0,0,0,0,0,0,0,0,0,0,0,0,0,0,0,0,0,0,0,0,0,0,0,0,0,0,0,0,0,0,0,0,0,0,0,0,0,0,0,0,0,0,0,0,0,0,0,0,0,0,0,0,0,0,0,0,0,0,0,0,0,0,0,0,0,0,0,0,0,0,0,0,0,0,0,0,0,0,0,0,0,0,0,0,0,0,0,0,0,0,0,0,0,0,0,0,0,0,0,0,0,0,0,0,0,0,0,0,0,0,0,0,0,0,0,0,0,0,0,0,0,0,0,0,0,0,0,0,0,0,0,0,0,0,0,0,0,0,0,0,0,0,0,0,0,0,0,0,0,0,0,0,0,0,0,0,0,0,0,0,0,0,0,0,0,0,0,0,0,0,0,0,0,0,0,0,0,0,0,0,0,0,0,0,0,0,0,0,0,0,0,0,0,0,0,0,0,0,0,0,0,0,0,0,0,0,0,0,0,0,0,0,0,0,0,0,0,0,0,0,0,0,0,0,0,0,0,0,0,0,0,0,0,0,0,0,0,0,0,0,0,0,0,0,0,0,0,0,0,0,0,0,0,0,0,0,0,0,0,0,0,0,0,0,0,0,0,0,0,0,0,0,0,0,0,0,0,0,0,0,0,0,0,0,0,0,0,0,0,0,0,0,0,0,0,0,0,0,0,0,0,0,0,0,0,0,0,0,0,0,0,0,0,0,0,0,0,0,0,0,0,0,0,0,0,0,0,0,0,0,0,0,0,0,0,0,0,0,0,0,0,0,0,0,0,0,0,0,0,0,0,0,0,0,0,0,0,0,0,0,0,0,0,0,0,0,0,0,0,0,0,0,0,0,0,0,0,0,0,0,0,0,0,0,0,0,0,0,0,0,0,0,0,0,0,0,0,0,0,0,0,0,0,0,0,0,0,0,0,0,0,0,0,0,0,0,0,0,0,0,0,0,0,0,0,0,0,0,0,0,0,0,0,0,0,0,0,0,0,0,0,0,0,0,0,0,0,0,0,0,0,0,0,0,0,0,0,0,0,0,0,0,0,0,0,0,0,0,0,0,0,0,0,0,0,0,0,0,0,0,0,0,0,0,0,0,0,0,0,0,0,0,0,0,0,0,0,0,0,0,0,0,0,0,0,0,0,0,0,0,0,0,0,0,0,0,0,0,0,0,0,0,0,0,0,0,0,0,0,0,0,0,0,0,0,0,0,0,0,0,0,0,0,0,0,0,0,0,0,0,0,0,0,0,0,0,0,0,0,0,0,0,0,0,0,0,0,0,0,0,0,0,0,0,0,0,0,0,0,0,0,0,0,0,0,0,0,0,0,0,0,0,0,0,0,0,0,0,0,0,0,0,0,0,0,0,0,0,0,0,0,0,0,0,0,0,0,0,0,0,0,0,0,0,0,0,0,0,0,0,0,0,0,0,0,0,0,0,0,0,0,0,0,0,0,0,0,0,0,0,0,0,0,0,0,0,0,0,0,0,0,0,0,0,0,0,0,0,0,0,0,0,0,0,0,0,0,0,0,0,0,0,0,0,0,0,0,0,0,0,0,0,0,0,0,0,0,0,0,0,0,0,0,0,0,0,0,0,0,0,0,0,0,0,0,0,0,0,0,0,0,0,0,0,0,0,0,0,0,0,0,0,0,0,0,0,0,0,0,0,0,0,0,0,0,0,0,0,0,0,0,0,0,0,0,0,0,0,0,0,0,0,0,0,0,0,0,0,0,0,0,0,0,0,0,0,0,0,0,0,0,0,0,0,0,0,0,0,0,0,0,0,0,0,0,0,0,0,0,0,0,0,0,0,0,0,0,0,0,0,0,0,0,0,0,0,0,0,0,0,0,0,0,0,0,0,0,0,0,0,0,0,0,0,0,0,0,0,0,0,0,0,0,0,0,0,0,0,0,0,0,0,0,0,0,0,0,0,0,0,0,0,0,0,0,0,0,0,0,0,0,0,0,0,0,0,0,0,0,0,0,0,0,0,0,0,0,0,0,0,0,0,0,0,0,0,0,0,0,0,0,0,0,0,0,0,0,0,0,0,0,0,0,0,0,0,0,0,0,0,0,0,0,0,0,0,0,0,0,0,0,0,0,0,0,0,0,0,0,0,0,0,0,0,0,0,0,0,0,0,0,0,0,0,0,0,0,0,0,0,0,0,0,0,0,0,0,0,0,0,0,0,0,0,0,0,0,0,0,0,0,0,0,0,0,0,0,0,0,0,0,0,0,0,0,0,0,0,0,0,0,0,0,0,0,0,0,0,0,0,0,0,0,0,0,0,0,0,0,0,0,0,0,0,0,0,0,0,0,0,0,0,0,0,0,0,0,0,0,0,0,0,0,0,0,0,0,0,0,0,0,0,0,0,0,0,0,0,0,0,0,0,0,0,0,0,0,0,0,0,0,0,0,0,0,0,0,0,0,0,0,0,0,0,0,0,0,0,0,0,0,0,0,0,0,0,0,0,0,0,0,0,0,0,0,0,0,0,0,0,0,0,0,0,0,0,0,0,0,0,0,0,0,0,0,0,0,0,0,0,0,0,0,0,0,0,0,0,0,0,0,0,0,0,0,0,0,0,0,0,0,0,0,0,0,0,0,0,0,0,0,0,0,0,0,0,0,0,0,0,0,0,0,0,0,0,0,0,0,0,0,0,0,0,0,0,0,0,0,0,0,0,0,0,0,0,0,0,0,0,0,0,0,0,0,0,0,0,0,0,0,0,0,0,0,0,0,0,0,0,0,0,0,0,0,0,0,0,0,0,0,0,0,0,0,0,0,0,0,0,0,0,0,0,0,0,0,0,0,0,0,0,0,0,0,0,0,0,0,0,0,0,0,0,0,0,0,0,0,0,0,0,0,0,0,0,0,0,0,0,0,0,0,0,0,0,0,0,0,0,0,0,0,0,0,0,0,0,0,0,0,0,0,0,0,0,0,0,0,0,0,0,0,0,0,0,0,0,0,0,0,0,0,0,0,0,0,0,0,0,0,0,0,0,0,0,0,0,0,0,0,0,0,0,0,0,0,0,0,0,0,0,0,0,0,0,0,0,0,0,0,0,0,0,0,0,0,0,0,0,0,0,0,0,0,0,0,0,0,0,0,0,0,0,0,0,0,0,0,0,0,0,0,0,0,0,0,0,0,0,0,0,0,0,0,0,0,0,0,0,0,0,0,0,0,0,0,0,0,0,0,0,0,0,0,0,0,0,0,0,0,0,0,0,0,0,0,0,0,0,0,0,0,0,0,0,0,0,0,0,0,0,0,0,0,0,0,0,0,0,0,0,0,0,0,0,0,0,0,0,0,0,0,0,0,0,0,0,0,0,0,0,0,0,0,0,0,0,0,0,0,0,0,0,0,0,0,0,0,0,0,0,0,0,0,0,0,0,0,0,0,0,0,0,0,0,0,0,0,0,0,0,0,0,0,0,0,0,0,0,0,0,0,0,0,0,0,0,0,0,0,0,0,0,0,0,0,0,0,0,0,0,0,0,0,0,0,0,0,0,0,0,0,0,0,0,0,0,0,0,0,0,0,0,0,0,0,0,0,0,0,0,0,0,0,0,0,0,0,0,0,0,0,0,0,0,0,0,0,0,0,0,0,0,0,0,0,0,0,0,0,0,0,0,0,0,0,0,0,0,0,0,0,0,0,0,0,0,0,0,0,0,0,0,0,0,0,0,0,0,0,0,0,0,0,0,0,0,0,0,0,0,0,0,0,0,0,0,0,0,0,0,0,0,0,0,0,0,0,0,0,0,0,0,0,0,0,0,0,0,0,0,0,0,0,0,0,0,0,0,0,0,0,0,0,0,0,0,0,0,0,0,0,0,0,0,0,0,0,0,0,0,0,0,0,0,0,0,0,0,0,0,0,0,0,0,0,0,0,0,0,0,0,0,0,0,0,0,0,0,0,0,0,0,0,0,0,0,0,0,0,0,0,0,0,0,0,0,0,0,0,0,0,0,0,0,0,0,0,0,0,0,0,0,0,0,0,0,0,0,0,0,0,0,0,0,0,0,0,0,0,0,0,0,0,0,0,0,0,0,0,0,0,0,0,0,0,0,0,0,0,0,0,0,0,0,0,0,0,0,0,0,0,0,0,0,0,0,0,0,0,0,0,0,0,0,0,0,0,0,0,0,0,0,0,0,0,0,0,0,0,0,0,0,0,0,0,0,0,0,0,0,0,0,0,0,0,0,0,0,0,0,0,0,0,0,0,0,0,0,0,0,0,0,0,0,0,0,0,0,0,0,0,0,0,0,0,0,0,0,0,0,0,0,0,0,0,0,0,0,0,0,0,0,0,0,0,0,0,0,0,0,0,0,0,0,0,0,0,0,0,0,0,0,0,0,0,0,0,0,0,0,0,0,0,0,0,0,0,0,0,0,0,0,0,0,0,0,0,0,0,0,0,0,0,0,0,0,0,0,0,0,0,0,0,0,0,0,0,0,0,0,0,0,0,0,0,0,0,0,0,0,0,0,0,0,0,0,0,0,0,0,0,0,0,0,0,0,0,0,0,0,0,0,0,0,0,0,0,0,0,0,0,0,0,0,0,0,0,0,0,0,0,0,0,0,0,0,0,0,0,0,0,0,0,0,0,0,0,0,0,0,0,0,0,0,0,0,0,0,0,0,0,0,0,0,0,0,0,0,0,0,0,0,0,0,0,0,0,0,0,0,0,0,0,0,0,0,0,0,0,0,0,0,0,0,0,0,0,0,0,0,0,0,0,0,0,0,0,0,0,0,0,0,0,0,0,0,0,0,0,0,0,0,0,0,0,0,0,0,0,0,0,0,0,0,0,0,0,0,0,0,0,0,0,0,0,0,0,0,0,0,0,0,0,0,0,0,0,0,0,0,0,0,0,0,0,0,0,0,0,0,0,0,0,0,0,0,0,0,0,0,0,0,0,0,0,0,0,0,0,0,0,0,0,0,0,0,0,0,0,0,0,0,0,0,0,0,0,0,0,0,0,0,0,0,0,0,0,0,0,0,0,0,0,0,0,0,0,0,0,0,0,0,0,0,0,0,0,0,0,0,0,0,0,0,0,0,0,0,0,0,0,0,0,0,0,0,0,0,0,0,0,0,0,0,0,0,0,0,0,0,0,0,0,0,0,0,0,0,0,0,0,0,0,0,0,0,0,0,0,0,0,0,0,0,0,0,0,0,0,0,0,0,0,0,0,0,0,0,0,0,0,0,0,0,0,0,0,0,0,0,0,0,0,0,0,0,0,0,0,0,0,0,0,0,0,0,0,0,0,0,0,0,0,0,0,0,0,0,0,0,0,0,0,0,0,0,0,0,0,0,0,0,0,0,0,0,0,0,0,0,0,0,0,0,0,0,0,0,0,0,0,0,0,0,0,0,0,0,0,0,0,0,0,0,0,0,0,0,0,0,0,0,0,0,0,0,0,0,0,0,0,0,0,0,0,0,0,0,0,0,0,0,0,0,0,0,0,0,0,0,0,0,0,0,0,0,0,0,0,0,0,0,0,0,0,0,0,0,0,0,0,0,0,0,0,0,0,0,0,0,0,0,0,0,0,0,0,0,0,0,0,0,0,0,0,0,0,0,0,0,0,0,0,0,0,0,0,0,0,0,0,0,0,0,0,0,0,0,0,0,0,0,0,0,0,0,0,0,0,0,0,0,0,0,0,0,0,0,0,0,0,0,0,0,0,0,0,0,0,0,0,0,0,0,0,0,0,0,0,0,0,0,0,0,0,0,0,0,0,0,0,0,0,0,0,0,0,0,0,0,0,0,0,0,0,0,0,0,0,0,0,0,0,0,0,0,0,0,0,0,0,0,0,0,0,0,0,0,0,0,0,0,0,0,0,0,0,0,0,0,0,0,0,0,0,0,0,0,0,0,0,0,0,0,0,0,0,0,0,0,0,0,0,0,0,0,0,0,0,0,0,0,0,0,0,0,0,0,0,0,0,0,0,0,0,0,0,0,0,0,0,0,0,0,0,0,0,0,0,0,0,0,0,0,0,0,0,0,0,0,0,0,0,0,0,0,0,0,0,0,0,0,0,0,0,0,0,0,0,0,0,0,0,0,0,0,0,0,0,0,0,0,0,0,0,0,0,0,0,0,0,0,0,0,0,0,0,0,0,0,0,0,0,0,0,0,0,0,0,0,0,0,0,0,0,0,0,0,0,0,0,0,0,0,0,0,0,0,0,0,0,0,0,0,0,0,0,0,0,0,0,0,0,0,0,0,0,0,0,0,0,0,0,0,0,0,0,0,0,0,0,0,0,0,0,0,0,0,0,0,0,0,0,0,0,0,0,0,0,0,0,0,0,0,0,0,0,0,0,0,0,0,0,0,0,0,0,0,0,0,0,0,0,0,0,0,0,0,0,0,0,0,0,0,0,0,0,0,0,0,0,0,0,0,0,0,0,0,0,0,0,0,0,0,0,0,0,0,0,0,0,0,0,0,0,0,0,0,0,0,0,0,0,0,0,0,0,0,0,0,0,0,0,0,0,0,0,0,0,0,0,0,0,0,0,0,0,0,0,0,0,0,0,0,0,0,0,0,0,0,0,0,0,0,0,0,0,0,0,0,0,0,0,0,0,0,0,0,0,0,0,0,0,0,0,0,0,0,0,0,0,0,0,0,0,0,0,0,0,0,0,0,0,0,0,0,0,0,0,0,0,0,0,0,0,0,0,0,0,0,0,0,0,0,0,0,0,0,0,0,0,0,0,0,0,0,0,0,0,0,0,0,0,0,0,0,0,0,0,0,0,0,0,0,0,0,0,0,0,0,0,0,0,0,0,0,0,0,0,0,0,0,0,0,0,0,0,0,0,0,0,0,0,0,0,0,0,0,0,0,0,0,0,0,0,0,0,0,0,0,0,0,0,0,0,0,0,0,0,0,0,0,0,0,0,0,0,0,0,0,0,0,0,0,0,0,0,0,0,0,0,0,0,0,0,0,0,0,0,0,0,0,0,0,0,0,0,0,0,0,0,0,0,0,0,0,0,0,0,0,0,0,0,0,0,0,0,0,0,0,0,0,0,0,0,0,0,0,0,0,0,0,0,0,0,0,0,0,0,0,0,0,0,0,0,0,0,0,0,0,0,0,0,0,0,0,0,0,0,0,0,0,0,0,0,0,0,0,0,0,0,0,0,0,0,0,0,0,0,0,0,0,0,0,0,0,0,0,0,0,0,0,0,0,0,0,0,0,0,0,0,0,0,0,0,0,0,0,0,0,0,0,0,0,0,0,0,0,0,0,0,0,0,0,0,0,0,0,0,0,0,0,0,0,0,0,0,0,0,0,0,0,0,0,0,0,0,0,0,0,0,0,0,0,0,0,0,0,0,0,0,0,0,0,0,0,0,0,0,0,0,0,0,0,0,0,0,0,0,0,0,0,0,0,0,0,0,0,0,0,0,0,0,0,0,0,0,0,0,0,0,0,0,0,0,0,0,0,0,0,0,0,0,0,0,0,0,0,0,0,0,0,0,0,0,0,0,0,0,0,0,0,0,0,0,0,0,0,0,0,0,0,0,0,0,0,0,0,0,0,0,0,0,0,0,0,0,0,0,0,0,0,0,0,0,0,0,0,0,0,0,0,0,0,0,0,0,0,0,0,0,0,0,0,0,0,0,0,0,0,0,0,0,0,0,0,0,0,0,0,0,0,0,0,0,0,0,0,0,0,0,0,0,0,0,0,0,0,0,0,0,0,0,0,0,0,0,0,0,0,0,0,0,0,0,0,0,0,0,0,0,0,0,0,0,0,0,0,0,0,0,0,0,0,0,0,0,0,0,0,0,0,0,0,0,0,0,0,0,0,0,0,0,0,0,0,0,0,0,0,0,0,0,0,0,0,0,0,0,0,0,0,0,0,0,0,0,0,0,0,0,0,0,0,0,0,0,0,0,0,0,0,0,0,0,0,0,0,0,0,0,0,0,0,0,0,0,0,0,0,0,0,0,0,0,0,0,0,0,0,0,0,0,0,0,0,0,0,0,0,0,0,0,0,0,0,0,0,0,0,0,0,0,0,0,0,0,0,0,0,0,0,0,0,0,0,0,0,0,0,0,0,0,0,0,0,0,0,0,0,0,0,0,0,0,0,0,0,0,0,0,0,0,0,0,0,0,0,0,0,0,0,0,0,0,0,0,0,0,0,0,0,0,0,0,0,0,0,0,0,0,0,0,0,0,0,0,0,0,0,0,0,0,0,0,0,0,0,0,0,0,0,0,0,0,0,0,0,0,0,0,0,0,0,0,0,0,0,0,0,0,0,0,0,0,0,0,0,0,0,0,0,0,0,0,0,0,0,0,0,0,0,0,0,0,0,0,0,0,0,0,0,0,0,0,0,0,0,0,0,0,0,0,0,0,0,0,0,0,0,0,0,0,0,0,0,0,0,0,0,0,0,0,0,0,0,0,0,0,0,0,0,0,0,0,0,0,0,0,0,0,0,0,0,0,0,0,0,0,0,0,0,0,0,0,0,0,0,0,0,0,0,0,0,0,0,0,0,0,0,0,0,0,0,0,0,0,0,0,0,0,0,0,0,0,0,0,0,0,0,0,0,0,0,0,0,0,0,0,0,0,0,0,0,0,0,0,0,0,0,0,0,0,0,0,0,0,0,0,0,0,0,0,0,0,0,0,0,0,0,0,0,0,0,0,0,0,0,0,0,0,0,0,0,0,0,0,0,0,0,0,0,0,0,0,0,0,0,0,0,0,0,0,0,0,0,0,0,0,0,0,0,0,0,0,0,0,0,0,0,0,0,0,0,0,0,0,0,0,0,0,0,0,0,0,0,0,0,0,0,0,0,0,0,0,0,0,0,0,0,0,0,0,0,0,0,0,0,0,0,0,0,0,0,0,0,0,0,0,0,0,0,0,0,0,0,0,0,0,0,0,0,0,0,0,0,0,0,0,0,0,0,0,0,0,0,0,0,0,0,0,0,0,0,0,0,0,0,0,0,0,0,0,0,0,0,0,0,0,0,0,0,0,0,0,0,0,0,0,0,0,0,0,0,0,0,0,0,0,0,0,0,0,0,0,0,0,0,0,0,0,0,0,0,0,0,0,0,0,0,0,0,0,0,0,0,0,0,0,0,0,0,0,0,0,0,0,0,0,0,0,0,0,0,0,0,0,0,0,0,0,0,0,0,0,0,0,0,0,0,0,0,0,0,0,0,0,0,0,0,0,0,0,0,0,0,0,0,0,0,0,0,0,0,0,0,0,0,0,0,0,0,0,0,0,0,0,0,0,0,0,0,0,0,0,0,0,0,0,0,0,0,0,0,0,0,0,0,0,0,0,0,0,0,0,0,0,0,0,0,0,0,0,0,0,0,0,0,0,0,0,0,0,0,0,0,0,0,0,0,0,0,0,0,0,0,0,0,0,0,0,0,0,0,0,0,0,0,0,0,0,0,0,0,0,0,0,0,0,0,0,0,0,0,0,0,0,0,0,0,0,0,0,0,0,0,0,0,0,0,0,0,0,0,0,0,0,0,0,0,0,0,0,0,0,0,0,0,0,0,0,0,0,0,0,0,0,0,0,0,0,0,0,0,0,0,0,0,0,0,0,0,0,0,0,0,0,0,0,0,0,0,0,0,0,0,0,0,0,0,0,0,0,0,0,0,0,0,0,0,0,0,0,0,0,0,0,0,0,0,0,0,0,0,0,0,0,0,0,0,0,0,0,0,0,0,0,0,0,0,0,0,0,0,0,0,0,0,0,0,0,0,0,0,0,0,0,0,0,0,0,0,0,0,0,0,0,0,0,0,0,0,0,0,0,0,0,0,0,0,0,0,0,0,0,0,0,0,0,0,0,0,0,0,0,0,0,0,0,0,0,0,0,0,0,0,0,0,0,0,0,0,0,0,0,0,0,0,0,0,0,0,0,0,0,0,0,0,0,0,0,0,0,0,0,0,0,0,0,0,0,0,0,0,0,0,0,0,0,0,0,0,0,0,0,0,0,0,0,0,0,0,0,0,0,0,0,0,0,0,0,0,0,0,0,0,0,0,0,0,0,0,0,0,0,0,0,0,0,0,0,0,0,0,0,0,0,0,0,0,0,0,0,0,0,0,0,0,0,0,0,0,0,0,0,0,0,0,0,0,0,0,0,0,0,0,0,0,0,0,0,0,0,0,0,0,0,0,0,0,0,0,0,0,0,0,0,0,0,0,0,0,0,0,0,0,0,0,0,0,0,0,0,0,0,0,0,0,0,0,0,0,0,0,0,0,0,0,0,0,0,0,0,0,0,0,0,0,0,0,0,0,0,0,0,0,0,0,0,0,0,0,0,0,0,0,0,0,0,0,0,0,0,0,0,0,0,0,0,0,0,0,0,0,0,0,0,0,0,0,0,0,0,0,0,0,0,0,0,0,0,0,0,0,0,0,0,0,0,0,0,0,0,0,0,0,0,0,0,0,0,0,0,0,0,0,0,0,0,0,0,0,0,0,0,0,0,0,0,0,0,0,0,0,0,0,0,0,0,0,0,0,0,0,0,0,0,0,0,0,0,0,0,0,0,0,0,0,0,0,0,0,0,0,0,0,0,0,0,0,0,0,0,0,0,0,0,0,0,0,0,0,0,0,0,0,0,0,0,0,0,0,0,0,0,0,0,0,0,0,0,0,0,0,0,0,0,0,0,0,0,0,0,0,0,0,0,0,0,0,0,0,0,0,0,0,0,0,0,0,0,0,0,0,0,0,0,0,0,0,0,0,0,0,0,0,0,0,0,0,0,0,0,0,0,0,0,0,0,0,0,0,0,0,0,0,0,0,0,0,0,0,0,0,0,0,0,0,0,0,0,0,0,0,0,0,0,0,0,0,0,0,0,0,0,0,0,0,0,0,0,0,0,0,0,0,0,0,0,0,0,0,0,0,0,0,0,0,0,0,0,0,0,0,0,0,0,0,0,0,0,0,0,0,0,0,0,0,0,0,0,0,0,0,0,0,0,0,0,0,0,0,0,0,0,0,0,0,0,0,0,0,0,0,0,0,0,0,0,0,0,0,0,0,0,0,0,0,0,0,0,0,0,0,0,0,0,0,0,0,0,0,0,0,0,0,0,0,0,0,0,0,0,0,0,0,0,0,0,0,0,0,0,0,0,0,0,0,0,0,0,0,0,0,0,0,0,0,0,0,0,0,0,0,0,0,0,0,0,0,0,0,0,0,0,0,0,0,0,0,0,0,0,0,0,0,0,0,0,0,0,0,0,0,0,0,0,0,0,0,0,0,0,0,0,0,0,0,0,0,0,0,0,0,0,0,0,0,0,0,0,0,0,0,0,0,0,0,0,0,0,0,0,0,0,0,0,0,0,0,0,0,0,0,0,0,0,0,0,0,0,0,0,0,0,0,0,0,0,0,0,0,0,0,0,0,0,0,0,0,0,0,0,0,0,0,0,0,0,0,0,0,0,0,0,0,0,0,0,0,0,0,0,0,0,0,0,0,0,0,0,0,0,0,0,0,0,0,0,0,0,0,0,0,0,0,0,0,0,0,0,0,0,0,0,0,0,0,0,0,0,0,0,0,0,0,0,0,0,0,0,0,0,0,0,0,0,0,0,0,0,0,0,0,0,0,0,0,0,0,0,0,0,0,0,0,0,0,0,0,0,0,0,0,0,0,0,0,0,0,0,0,0,0,0,0,0,0,0,0,0,0,0,0,0,0,0,0,0,0,0,0,0,0,0,0,0,0,0,0,0,0,0,0,0,0,0,0,0,0,0,0,0,0,0,0,0,0,0,0,0,0,0,0,0,0,0,0,0,0,0,0,0,0,0,0,0,0,0,0,0,0,0,0,0,0,0,0,0,0,0,0,0,0,0,0,0,0,0,0,0,0,0,0,0,0,0,0,0,0,0,0,0,0,0,0,0,0,0,0,0,0,0,0,0,0,0,0,0,0,0,0,0,0,0,0,0,0,0,0,0,0,0,0,0,0,0,0,0,0,0,0,0,0,0,0,0,0,0,0,0,0,0,0,0,0,0,0,0,0,0,0,0,0,0,0,0,0,0,0,0,0,0,0,0,0,0,0,0,0,0,0,0,0,0,0,0,0,0,0,0,0,0,0,0,0,0,0,0,0,0,0,0,0,0,0,0,0,0,0,0,0,0,0,0,0,0,0,0,0,0,0,0,0,0,0,0,0,0,0,0,0,0,0,0,0,0,0,0,0,0,0,0,0,0,0,0,0,0,0,0,0,0,0,0,0,0,0,0,0,0,0,0,0,0,0,0,0,0,0,0,0,0,0,0,0,0,0,0,0,0,0,0,0,0,0,0,0,0,0,0,0,0,0,0,0,0,0,0,0,0,0,0,0,0,0,0,0,0,0,0,0,0,0,0,0,0,0,0,0,0,0,0,0,0,0,0,0,0,0,0,0,0,0,0,0,0,0,0,0,0,0,0,0,0,0,0,0,0,0,0,0,0,0,0,0,0,0,0,0,0,0,0,0,0,0,0,0,0,0,0,0,0,0,0,0,0,0,0,0,0,0,0,0,0,0,0,0,0,0,0,0,0,0,0,0,0,0,0,0,0,0,0,0,0,0,0,0,0,0,0,0,0,0,0,0,0,0,0,0,0,0,0,0,0,0,0,0,0,0,0,0,0,0,0,0,0,0,0,0,0,0,0,0,0,0,0,0,0,0,0,0,0,0,0,0,0,0,0,0,0,0,0,0,0,0,0,0,0,0,0,0,0,0,0,0,0,0,0,0,0,0,0,0,0,0,0,0,0,0,0,0,0,0,0,0,0,0,0,0,0,0,0,0,0,0,0,0,0,0,0,0,0,0,0,0,0,0,0,0,0,0,0,0,0,0,0,0,0,0,0,0,0,0,0,0,0,0,0,0,0,0,0,0,0,0,0,0,0,0,0,0,0,0,0,0,0,0,0,0,0,0,0,0,0,0,0,0,0,0,0,0,0,0,0,0,0,0,0,0,0,0,0,0,0,0,0,0,0,0,0,0,0,0,0,0,0,0,0,0,0,0,0,0,0,0,0,0,0,0,0,0,0,0,0,0,0,0,0,0,0,0,0,0,0,0,0,0,0,0,0,0,0,0,0,0,0,0,0,0,0,0,0,0,0,0,0,0,0,0,0,0,0,0,0,0,0,0,0,0,0,0,0,0,0,0,0,0,0,0,0,0,0,0,0,0,0,0,0,0,0,0,0,0,0,0,0,0,0,0,0,0,0,0,0,0,0,0,0,0,0,0,0,0,0,0,0,0,0,0,0,0,0,0,0,0,0,0,0,0,0,0,0,0,0,0,0,0,0,0,0,0,0,0,0,0,0,0,0,0,0,0,0,0,0,0,0,0,0,0,0,0,0,0,0,0,0,0,0,0,0,0,0,0,0,0,0,0,0,0,0,0,0,0,0,0,0,0,0,0,0,0,0,0,0,0,0,0,0,0,0,0,0,0,0,0,0,0,0,0,0,0,0,0,0,0,0,0,0,0,0,0,0,0,0,0,0,0,0,0,0,1,0,0,0,0,0,0,0,0,0,0,0,0,0,0,0,0,0,0,0,0,0,0,0,0,0,0,0,0,0,0,0,0,0,0,0,0,0,0,0,0,0,0,0,0,0,0,0,0,0,0,0,0,0,0,0,0,0,0,0,0,0,0,0,0,0,0,0,0,0,0,0,0,0,0,0,0,0,0,0,0,0,0,0,0,0,0,0,0,0,0,0,0,0,0,0,0,0,0,0,0,0,0,0,0,0,0,0,0,0,0,0,0,0,0,0,0,0,0,0,0,0,0,0,0,0,0,0,0,1,0,0,0,0,0,0,0,0,0,0,0,0,0,0,0,0,0,0,0,0,0,0,0,0,0,0,0,0,0,0,0,0,0,0,0,0,0,0,0,0,0,0,0,0,0,0,0,0,0,0,0,0,0,0,0,0,0,0,0,0,0,0,0,0,0,0,0,0,0,0,0,0,0,0,0,0,0,0,0,0,0,0,0,0,0,0,0,0,0,0,0,0,0,0,0,0,0,0,0,0,0,0,0,0,0,0,0,0,0,0,0,0,0,0,0,0,0,0,0,0,0,0,0,0,0,0,0,0,0,0,0,0,0,0,0,0,0,0,0,0,0,0,0,0,0,0,0,0,0,0,0,0,0,0,0,0,0,0,0,0,0,0,0,0,0,0,0,0,0,0,0,0,0,0,0,0,0,0,0,0,0,0,0,0,0,0,0,0,0,0,0,0,0,0,0,0,0,0,0,0,0,0,0,0,0,0,0,0,0,0,0,0,0,0,0,0,0,0,0,0,0,0,0,0,0,0,0,0,0,0,0,0,0,0,0,0,0,0,0,0,0,0,0,0,0,0,0,0,0,0,0,0,0,0,0,0,0,0,0,0,0,0,0,0,0,0,0,0,0,0,0,0,0,0,0,0,0,0,0,0,0,0,0,0,0,0,0,0,0,0,0,0,0,0,0,0,0,0,0,0,0,0,0,0,0,0,0,0,0,0,0,0,0,0,0,0,0,0,0,0,0,0,0,0,0,0,0,0,0,0,0,0,0,0,0,0,0,0,0,0,0,0,0,0,0,0,0,0,0,0,0,0,0,0,0,0,0,0,0,0,0,0,0,0,0,0,0,0,0,0,0,0,0,0,0,0,0,0,0,0,0,0,0,0,0,0,0,0,0,0,0,0,0,0,0,0,0,0,0,0,0,0,0,0,0,0,0,0,0,0,0,0,0,0,0,0,0,0,0,0,0,0,0,0,0,0,0,0,0,0,0,0,0,0,0,0,0,0,0,0,0,0,0,0,0,0,0,0,0,0,0,0,0,0,0,0,0,0,0,0,0,0,0,0,0,0,0,0,0,0,0,0,0,0,0,0,0,0,0,0,0,0,0,0,0,0,0,0,0,0,0,0,0,0,0,0,0,0,0,0,0,0,0,0,0,0,0,0,0,0,0,0,0,0,0,0,0,0,0,0,0,0,0,0,0,0,0,0,0,0,0,0,0,0,0,0,0,0,0,0,0,0,0,0,0,0,0,0,0,0,0,0,0,0,0,0,0,0,0,0,0,0,0,0,0,0,0,0,0,0,0,0,0,0,0,0,0,0,0,0,0,0,0,0,0,0,0,0,0,0,0,0,0,0,0,0,0,0,0,0,0,0,0,0,0,0,0,0,0,0,0,0,0,0,0,0,0,0,0,0,0,0,0,0,0,0,0,0,0,0,0,0,0,0,0,0,0,0,0,0,0,0,0,0,0,0,0,0,0,0,0,0,0,0,0,0,0,0,0,0,0,0,0,0,0,0,0,0,0,0,0,0,0,0,0,0,0,0,0,0,0,0,0,0,0,0,0,0,0,0,0,0,0,0,0,0,0,0,0,0,0,0,0,0,0,0,0,0,0,0,0,0,0,0,0,0,0,0,0,0,0,0,0,0,0,0,0,0,0,0,0,0,0,0,0,0,0,0,0,0,0,0,0,0,0,0,0,0,0,0,0,0,0,0,0,0,0,0,0,0,0,0,0,0,0,0,0,0,0,0,0,0,0,0,0,0,0,0,0,0,0,0,0,0,0,0,0,0,0,0,0,0,0,0,0,0,0,0,0,0,0,0,0,0,0,0,0,0,0,0,0,0,0,0,0,0,0,0,0,0,0,0,0,0,0,0,0,0,0,0,0,0,0,0,0,0,0,0,0,0,0,0,0,0,0,0,0,0,0,0,0,0,0,0,0,0,0,0,0,0,0,0,0,0,0,0,0,0,0,0,0,0,0,0,0,0,0,0,0,0,0,0,0,0,0,0,0,0,0,0,0,0,0,0,0,0,0,0,0,0,0,0,0,0,0,0,0,0,0,0,0,0,0,0,0,0,0,0,0,0,0,0,0,0,0,0,0,0,0,0,0,0,0,0,0,0,0,0,0,0,0,0,0,0,0,0,0,0,0,0,0,0,0,0,0,0,0,0,0,0,0,0,0,0,0,0,0,0,0,0,0,0,0,0,0,0,0,0,0,0,0,0,0,0,0,0,0,0,0,0,0,0,0,0,0,0,0,0,0,0,0,0,0,0,0,0,0,0,0,0,0,0,0,0,0,0,0,0,0,0,0,0,0,0,0,0,0,0,0,0,0,0,0,0,0,0,0,0,0,0,0,0,0,0,0,0,0,0,0,0,0,0,0,0,0,0,0,0,0,0,0,0,0,0,0,0,0,0,0,0,0,0,0,0,0,0,0,0,0,0,0,0,0,0,0,0,0,0,0,0,0,0,0,0,0,0,0,0,0,0,0,0,0,0,0,0,0,0,0,0,0,0,0,0,0,0,0,0,0,0,0,0,0,0,0,0,0,0,0,0,0,0,0,0,0,0,0,0,0,0,0,0,0,0,0,0,0,0,0,0,0,0,0,0,0,0,0,0,0,0,0,0,0,0,0,0,0,0,0,0,0,0,0,0,0,0,0,0,0,0,0,0,0,0,0,0,0,0,0,0,0,0,0,0,0,0,0,0,0,0,0,0,0,0,0,0,0,0,0,0,0,0,0,0,0,0,0,0,0,0,0,0,0,0,0,0,0,0,0,0,0,0,0,0,0,0,0,0,0,0,0,0,0,0,0,0,0,0,0,0,0,0,0,0,0,0,0,0,0,0,0,0,0,0,0,0,0,0,0,0,0,0,0,0,0,0,0,0,0,0,0,0,0,0,0,0,0,0,0,0,0,0,0,0,0,0,0,0,0,0,0,0,0,0,0,0,0,0,0,0,0,0,0,0,0,0,0,0,0,0,0,0,0,0,0,0,0,0,0,0,0,0,0,0,0,0,0,0,0,0,0,0,0,0,0,0,0,0,0,0,0,0,0,0,0,0,0,0,0,0,0,0,0,0,0,0,0,0,0,0,0,0,0,0,0,0,0,0,0,0,0,0,0,0,0,0,0,0,0,0,0,0,0,0,0,0,0,0,0,0,0,0,0,0,0,0,0,0,0,0,0,0,0,0,0,0,0,0,0,0,0,0,0,0,0,0,0,0,0,0,0,0,0,0,0,0,0,0,0,0,0,0,0,0,0,0,0,0,0,0,0,0,0,0,0,0,0,0,0,0,0,0,0,0,0,0,0,0,0,0,0,0,0,0,0,0,0,0,0,0,0,0,0,0,0,0,0,0,0,0,0,0,0,0,0,0,0,0,0,0,0,0,0,0,0,0,0,0,0,0,0,0,0,0,0,0,0,0,0,0,0,0,0,0,0,0,0,0,0,0,0,0,0,0,0,0,0,0,0,0,0,0,0,0,0,0,0,0,0,0,0,0,0,0,0,0,0,0,0,0,0,0,0,0,0,0,0,0,0,0,0,0,0,0,0,0,0,0,0,0,0,0,0,0,0,0,0,0,0,0,0,0,0,0,0,0,0,0,0,0,0,0,0,0,0,0,0,0,0,0,0,0,0,0,0,0,0,0,0,0,0,0,0,0,0,0,0,0,0,0,0,0,0,0,0,0,0,0,0,0,0,0,0,0,0,0,0,0,0,0,0,0,0,0,0,0,0,0,0,0,0,0,0,0,0,0,0,0,0,0,0,0,0,0,0,0,0,0,0,0,0,0,0,0,0,0,0,0,0,0,0,0,0,0,0,0,0,0,0,0,0,0,0,0,0,0,0,0,0,0,0,0,0,0,0,0,0,0,0,0,0,0,0,0,0,0,0,0,0,0,0,0,0,0,0,0,0,0,0,0,0,0,0,0,0,0,0,0,0,0,0,0,0,0,0,0,0,0,0,0,0,0,0,0,0,0,0,0,0,0,0,0,0,0,0,0,0,0,0,0,0,0,0,0,0,0,0,0,0,0,0,0,0,0,0,0,0,0,0,0,0,0,0,0,0,0,0,0,0,0,0,0,0,0,0,0,0,0,0,0,0,0,0,0,0,0,0,0,0,0,0,0,0,0,0,0,0,0,0,0,0,0,0,0,0,0,0,0,0,0,0,0,0,0,0,0,0,0,0,0,0,0,0,0,0,0,0,0,0,0,0,0,0,0,0,0,0,0,0,0,0,0,0,0,0,0,0,0,0,0,0,0,0,0,0,0,0,0,0,0,0,0,0,0,0,0,0,0,0,0,0,0,0,0,0,0,0,0,0,0,0,0,0,0,0,0,0,0,0,0,0,0,0,0,0,0,0,0,0,0,0,0,0,0,0,0,0,0,0,0,0,0,0,0,0,0,0,0,0,0,0,0,0,0,0,0,0,0,0,0,0,0,0,0,0,0,0,0,0,0,0,0,0,0,0,0,0,0,0,0,0,0,0,0,0,0,0,0,0,0,0,0,0,0,0,0,0,0,0,0,0,0,0,0,0,0,0,0,0,0,0,0,0,0,0,0,0,0,0,0,0,0,0,0,0,0,0,0,0,0,0,0,0,0,0,0,0,0,0,0,0,0,0,0,0,0,0,0,0,0,0,0,0,0,0,0,0,0,0,0,0,0,0,0,0,0,0,0,0,0,0,0,0,0,0,0,0,0,0,0,0,0,0,0,0,0,0,0,0,0,0,0,0,0,0,0,0,0,0,0,0,0,0,0,0,0,0,0,0,0,0,0,0,0,0,0,0,0,0,0,0,0,0,0,0,0,0,0,0,0,0,0,0,0,0,0,0,0,0,0,0,0,0,0,0,0,0,0,0,0,0,0,0,0,0,0,0,0,0,0,0,0,0,0,0,0,0,0,0,0,0,0,0,0,0,0,0,0,0,0,0,0,0,0,0,0,0,0,0,0,0,0,0,0,0,0,0,0,0,0,0,0,0,0,0,0,0,0,0,0,0,0,0,0,0,0,0,0,0,0,0,0,0,0,0,0,0,0,0,0,0,0,0,0,0,0,0,0,0,0,0,0,0,0,0,0,0,0,0,0,0,0,0,0,0,0,0,0,0,0,0,0,0,0,0,0,0,0,0,0,0,0,0,0,0,0,0,0,0,0,0,0,0,0,0,0,0,0,0,0,0,0,0,0,0,0,0,0,0,0,0,0,0,0,0,0,0,0,0,0,0,0,0,0,0,0,0,0,0,0,0,0,0,0,0,0,0,0,0,0,0,0,0,0,0,0,0,0,0,0,0,0,0,0,0,0,0,0,0,0,0,0,0,0,0,0,0,0,0,0,0,0,0,0,0,0,0,0,0,0,0,0,0,0,0,0,0,0,0,0,0,0,0,0,0,0,0,0,0,0,0,0,0,0,0,0,0,0,0,0,0,0,0,0,0,0,0,0,0,0,0,0,0,0,0,0,0,0,0,0,0,0,0,0,0,0,0,0,0,0,0,0,0,0,0,0,0,0,0,0,0,0,0,0,0,0,0,0,0,0,0,0,0,0,0,0,0,0,0,0,0,0,0,0,0,0,0,0,0,0,0,0,0,0,0,0,0,0,0,0,0,0,0,0,0,0,0,0,0,0,0,0,0,0,0,0,0,0,0,0,0,0,0,0,0,0,0,0,0,0,0,0,0,0,0,0,0,0,0,0,0,0,0,0,0,0,0,0,0,0,0,0,0,0,0,0,0,0,0,0,0,0,0,0,0,0,0,0,0,0,0,0,0,0,0,0,0,0,0,0,0,0,0,0,0,0,0,0,0,0,0,0,0,0,0,0,0,0,0,0,0,0,0,0,0,0,0,0,0,0,0,0,0,0,0,0,0,0,0,0,0,0,0,0,0,0,0,0,0,0,0,0,0,0,0,0,0,0,0,0,0,0,0,0,0,0,0,0,0,0,0,0,0,0,0,0,0,0,0,0,0,0,0,0,0,0,0,0,0,0,0,0,0,0,0,0,0,0,0,0,0,0,0,0,0,0,0,0,0,0,0,0,0,0,0,0,0,0,0,0,0,0,0,0,0,0,0,0,0,0,0,0,0,0,0,0,0,0,0,0,0,0,0,0,0,0,0,0,0,0,0,0,0,0,0,0,0,0,0,0,0,0,0,0,0,0,0,0,0,0,0,0,0,0,0,0,0,0,0,0,0,0,0,0,0,0,0,0,0,0,0,0,0,0,0,0,0,0,0,0,0,0,0,0,0,0,0,0,0,0,0,0,0,0,0,0,0,0,0,0,0,0,0,0,0,0,0,0,0,0,0,0,0,0,0,0,0,0,0,0,0,0,0,0,0,0,0,0,0,0,0,0,0,0,0,0,0,0,0,0,0,0,0,0,0,0,0,0,0,0,0,0,0,0,0,0,0,0,0,0,0,0,0,0,0,0,0,0,0,0,0,0,0,0,0,0,0,0,0,0,0,0,0,0,0,0,0,0,0,0,0,0,0,0,0,0,0,0,0,0,0,0,0,0,0,0,0,0,0,0,0,0,0,0,0,0,0,0,0,0,0,0,0,0,0,0,0,0,0,0,0,0,0,0,0,0,0,0,0,0,0,0,0,0,0,0,0,0,0,0,0,0,0,0,0,0,0,0,0,0,0,0,0,0,0,0,0,0,0,0,0,0,0,0,0,0,0,0,0,0,0,0,0,0,0,0,0,0,0,0,0,0,0,0,0,0,0,0,0,0,0,0,0,0,0,0,0,0,0,0,0,0,0,0,0,0,0,0,0,0,0,0,0,0,0,0,0,0,0,0,0,0,0,0,0,0,0,0,0,0,0,0,0,0,0,0,0,0,0,0,0,0,0,0,0,0,0,0,0,0,0,0,0,0,0,0,0,0,0,0,0,0,0,0,0,0,0,0,0,0,0,0,0,0,0,0,0,0,0,0,0,0,0,0,0,0,0,0,0,0,0,0,0,0,0,0,0,0,0,0,0,0,0,0,0,0,0,0,0,0,0,0,0,0,0,0,0,0,0,0,0,0,0,0,0,0,0,0,0,0,0,0,0,0,0,0,0,0,0,0,0,0,0,0,0,0,0,0,0,0,0,0,0,0,0,0,0,0,0,0,0,0,0,0,0,0,0,0,0,0,0,0,0,0,0,0,0,0,0,0,0,0,0,0,0,0,0,0,0,0,0,0,0,0,0,0,0,0,0,0,0,0,0,0,0,0,0,0,0,0,0,0,0,0,0,0,0,0,0,0,0,0,0,0,0,0,0,0,0,0,0,0,0,0,0,0,0,0,0,0,0,0,0,0,0,0,0,0,0,0,0,0,0,0,0,0,0,0,0,0,0,0,0,0,0,0,0,0,0,0,0,0,0,0,0,0,0,0,0,0,0,0,0,0,0,0,0,0,0,0,0,0,0,0,0,0,0,0,0,0,0,0,0,0,0,0,0,0,0,0,0,0,0,0,0,0,0,0,0,0,0,0,0,0,0,0,0,0,0,0,0,0,0,0,0,0,0,0,0,0,0,0,0,0,0,0,0,0,0,0,0,0,0,0,0,0,0,0,0,0,0,0,0,0,0,0,0,0,0,0,0,0,0,0,0,0,0,0,0,0,0,0,0,0,0,0,0,0,0,0,0,0,0,0,0,0,0,0,0,0,0,0,0,0,0,0,0,0,0,0,0,0,0,0,0,0,0,0,0,0,0,0,0,0,0,0,0,0,0,0,0,0,0,0,0,0,0,0,0,0,0,0,0,0,0,0,0,0,0,0,0,0,0,0,0,0,0,0,0,0,0,0,0,0,0,0,0,0,0,0,0,0,0,0,0,0,0,0,0,0,0,0,0,0,0,0,0,0,0,0,0,0,0,0,0,0,0,0,0,0,0,0,0,0,0,0,0,0,0,0,0,0,0,0,0,0,0,0,0,0,0,0,0,0,0,0,0,0,0,0,0,0,0,0,0,0,0,0,0,0,0,0,0,0,0,0,0,0,0,0,0,0,0,0,0,0,0,0,0,0,0,0,0,0,0,0,0,0,0,0,0,0,0,0,0,0,0,0,0,0,0,0,0,0,0,0,0,0,0,0,0,0,0,0,0,0,0,0,0,0,0,0,0,0,0,0,0,0,0,0,0,0,0,0,0,0,0,0,0,0,0,0,0,0,0,0,0,0,0,0,0,0,0,0,0,0,0,0,0,0,0,0,0,0,0,0,0,0,0,0,0,0,0,0,0,0,0,0,0,0,0,0,0,0,0,0,0,0,0,0,0,0,0,0,0,0,0,0,0,0,0,0,0,0,0,0,0,0,0,0,0,0,0,0,0,0,0,0,0,0,0,0,0,0,0,0,0,0,0,0,0,0,0,0,0,0,0,0,0,0,0,0,0,0,0,0,0,0,0,0,0,0,0,0,0,0,0,0,0,0,0,0,0,0,0,0,0,0,0,0,0,0,0,0,0,0,0,0,0,0,0,0,0,0,0,0,0,0,0,0,0,0,0,0,0,0,0,0,0,0,0,0,0,0,0,0,0,0,0,0,0,0,0,0,0,0,0,0,0,0,0,0,0,0,0,0,0,0,0,0,0,0,0,0,0,0,0,0,0,0,0,0,0,0,0,0,0,0,0,0,0,0,0,0,0,0,0,0,0,0,0,0,0,0,0,0,0,0,0,0,0,0,0,0,0,0,0,0,0,0,0,0,0,0,0,0,0,0,0,0,0,0,0,0,0,0,0,0,0,0,0,0,0,0,0,0,0,0,0,0,0,0,0,0,0,0,0,0,0,0,0,0,0,0,0,0,0,0,0,0,0,0,0,0,0,0,0,0,0,0,0,0,0,0,0,0,0,0,0,0,0,0,0,0,0,0,0,0,0,0,0,0,0,0,0,0,0,0,0,0,0,0,0,0,0,0,0,0,0,0,0,0,0,0,0,0,0,0,0,0,0,0,0,0,0,0,0,0,0,0,0,0,0,0,0,0,0,0,0,0,0,0,0,0,0,0,0,0,0,0,0,0,0,0,0,0,0,0,0,0,0,0,0,0,0,0,0,0,0,0,0,0,0,0,0,0,0,0,0,0,0,0,0,0,0,0,0,0,0,0,0,0,0,0,0,0,0,0,0,0,0,0,0,0,0,0,0,0,0,0,0,0,0,0,0,0,0,0,0,0,0,0,0,0,0,0,0,0,0,0,0,0,0,0,0,0,0,0,0,0,0,0,0,0,0,0,0,0,0,0,0,0,0,0,0,0,0,0,0,0,0,0,0,0,0,0,0,0,0,0,0,0,0,0,0,0,0,0,0,0,0,0,0,0,0,0,0,0,0,0,0,0,0,0,0,0,0,0,0,0,0,0,0,0,0,0,0,0,0,0,0,0,0,0,0,0,0,0,0,0,0,0,0,0,0,0,0,0,0,0,0,0,0,0,0,0,0,0,0,0,0,0,0,0,0,0,0,0,0,0,0,0,0,0,0,0,0,0,0,0,0,0,0,0,0,0,0,0,0,0,0,0,0,0,0,0,0,0,0,0,0,0,0,0,0,0,0,0,0,0,0,0,0,0,0,0,0,0,0,0,0,0,0,0,0,0,0,0,0,0,0,0,0,0,0,0,0,0,0,0,0,0,0,0,0,0,0,0,0,0,0,0,0,0,0,0,0,0,0,0,0,0,0,0,0,0,0,0,0,0,0,0,0,0,0,0,0,0,0,0,0,0,0,0,0,0,0,0,0,0,0,0,0,0,0,0,0,0,0,0,0,0,0,0,0,0,0,0,0,0,0,0,0,0,0,0,0,0,0,0,0,0,0,0,0,0,0,0,0,0,0,0,0,0,0,0,0,0,0,0,0,0,0,0,0,0,0,0,0,0,0,0,0,0,0,0,0,0,0,0,0,0,0,0,0,0,0,0,0,0,0,0,0,0,0,0,0,0,0,0,0,0,0,0,0,0,0,0,0,0,0,0,0,0,0,0,0,0,0,0,0,0,0,0,0,0,0,0,0,0,0,0,0,0,0,0,0,0,0,0,0,0,0,0,0,0,0,0,0,0,0,0,0,0,0,0,0,0,0,0,0,0,0,0,0,0,0,0,0,0,0,0,0,0,0,0,0,0,0,0,0,0,0,0,0,0,0,0,0,0,0,0,0,0,0,0,0,0,0,0,0,0,0,0,0,0,0,0,0,0,0,0,0,0,0,0,0,0,0,0,0,0,0,0,0,0,0,0,0,0,0,0,0,0,0,0,0,0,0,0,0,0,0,0,0,0,0,0,0,0,0,0,0,0,0,0,0,0,0,0,0,0,0,0,0,0,0,0,0,0,0,0,0,0,0,0,0,0,0,0,0,0,0,0,0,0,0,0,0,0,0,0,0,0,0,0,0,0,0,0,0,0,0,0,0,0,0,0,0,0,0,0,0,0,0,0,0,0,0,0,0,0,0,0,0,0,0,0,0,0,0,0,0,0,0,0,0,0,0,0,0,0,0,0,0,0,0,0,0,0,0,0,0,0,0,0,0,0,0,0,0,0,0,0,0,0,0,0,0,0,0,0,0,0,0,0,0,0,0,0,0,0,0,0,0,0,0,0,0,0,0,0,0,0,0,0,0,0,0,0,0,0,0,0,0,0,0,0,0,0,0,0,0,0,0,0,0,0,0,0,0,0,0,0,0,0,0,0,0,0,0,0,0,0,0,0,0,0,0,0,0,0,0,0,0,0,0,0,0,0,0,0,0,0,0,0,0,0,0,0,0,0,0,0,0,0,0,0,0,0,0,0,0,0,0,0,0,0,0,0,0,0,0,0,0,0,0,0,0,0,0,0,0,0,0,0,0,0,0,0,0,0,0,0,0,0,0,0,0,0,0,0,0,0,0,0,0,0,0,0,0,0,0,0,0,0,0,0,0,0,0,0,0,0,0,0,0,0,0,0,0,0,0,0,0,0,0,0,0,0,0,0,0,0,0,0,0,0,0,0,0,0,0,0,0,0,0,0,0,0,0,0,0,0,0,0,0,0,0,0,0,0,0,0,0,0,0,0,0,0,0,0,0,0,0,0,0,0,0,0,0,0,0,0,0,0,0,0,0,0,0,0,0,0,0,0,0,0,0,0,0,0,0,0,0,0,0,0,0,0,0,0,0,0,0,0,0,0,0,0,0,0,0,0,0,0,0,0,0,0,0,0,0,0,0,0,0,0,0,0,0,0,0,0,0,0,0,0,0,0,0,0,0,0,0,0,0,0,0,0,0,0,0,0,0,0,0,0,0,0,0,0,0,0,0,0,0,0,0,0,0,0,0,0,0,0,0,0,0,0,0,0,0,0,0,0,0,0,0,0,0,0,0,0,0,0,0,0,0,0,0,0,0,0,0,0,0,0,0,0,0,0,0,0,0,0,0,0,0,0,0,0,0,0,0,0,0,0,0,0,0,0,0,0,0,0,0,0,0,0,0,0,0,0,0,0,0,0,0,0,0,0,0,0,0,0,0,0,0,0,0,0,0,0,0,0,0,0,0,0,0,0,0,0,0,0,0,0,0,0,0,0,0,0,0,0,0,0,0,0,0,0,0,0,0,0,0,0,0,0,0,0,0,0,0,0,0,0,0,0,0,0,0,0,0,0,0,0,0,0,0,0,0,0,0,0,0,0,0,0,0,0,0,0,0,0,0,0,0,0,0,0,0,0,0,0,0,0,0,0,0,0,0,0,0,0,0,0,0,0,0,0,0,0,0,0,0,0,0,0,0,0,0,0,0,0,0,0,0,0,0,0,0,0,0,0,0,0,0,0,0,0,0,0,0,0,0,0,0,0,0,0,0,0,0,0,0,0,0,0,0,0,0,0,0,0,0,0,0,0,0,0,0,0,0,0,0,0,0,0,0,0,0,0,0,0,0,0,0,0,0,0,0,0,0,0,0,0,0,0,0,0,0,0,0,0,0,0,0,0,0,0,0,0,0,0,0,0,0,0,0,0,0,0,0,0,0,0,0,0,0,0,0,0,0,0,0,0,0,0,0,0,0,0,0,0,0,0,0,0,0,0,0,0,0,0,0,0,0,0,0,0,0,0,0,0,0,0,0,0,0,0,0,0,0,0,0,0,0,0,0,0,0,0,0,0,0,0,0,0,0,0,0,0,0,0,0,0,0,0,0,0,0,0,0,0,0,0,0,0,0,0,0,0,0,0,0,0,0,0,0,0,0,0,0,0,0,0,0,0,0,0,0,0,0,0,0,0,0,0,0,0,0,0,0,0,0,0,0,0,0,0,0,0,0,0,0,0,0,0,0,0,0,0,0,0,0,0,0,0,0,0,0,0,0,0,0,0,0,0,0,0,0,0,0,0,0,0,0,0,0,0,0,0,0,0,0,0,0,0,0,0,0,0,0,0,0,0,0,0,0,0,0,0,0,0,0,0,0,0,0,0,0,0,0,0,0,0,0,0,0,0,0,0,0,0,0,0,0,0,0,0,0,0,0,0,0,0,0,0,0,0,0,0,0,0,0,0,0,0,0,0,0,0,0,0,0,0,0,0,0,0,0,0,0,0,0,0,0,0,0,0,0,0,0,0,0,0,0,0,0,0,0,0,0,0,0,0,0,0,0,0,0,0,0,0,0,0,0,0,0,0,0,0,0,0,0,0,0,0,0,0,0,0,0,0,0,0,0,0,0,0,0,0,0,0,0,0,0,0,0,0,0,0,0,0,0,0,0,0,0,0,0,0,0,0,0,0,0,0,0,0,0,0,0,0,0,0,0,0,0,0,0,0,0,0,0,0,0,0,0,0,0,0,0,0,0,0,0,0,0,0,0,0,0,0,0,0,0,0,0,0,0,0,0,0,0,0,0,0,0,0,0,0,0,0,0,0,0,0,0,0,0,0,0,0,0,0,0,0,0,0,0,0,0,0,0,0,0,0,0,0,0,0,0,0,0,0,0,0,0,0,0,0,0,0,0,0,0,0,0,0,0,0,0,0,0,0,0,0,0,0,0,0,0,0,0,0,0,0,0,0,0,0,0,0,0,0,0,0,0,0,0,0,0,0,0,0,0,0,0,0,0,0,0,0,0,0,0,0,0,0,0,0,0,0,0,0,0,0,0,0,0,0,0,0,0,0,0,0,0,0,0,0,0,0,0,0,0,0,0,0,0,0,0,0,0,0,0,0,0,0,0,0,0,0,0,0,0,0,0,0,0,0,0,0,0,0,0,0,0,0,0,0,0,0,0,0,0,0,0,0,0,0,0,0,0,0,0,0,0,0,0,0,0,0,0,0,0,0,0,0,0,0,0,0,0,0,0,0,0,0,0,0,0,0,0,0,0,0,0,0,0,0,0,0,0,0,0,0,0,0,0,0,0,0,0,0,0,0,0,0,0,0,0,0,0,0,0,0,0,0,0,0,0,0,0,0,0,0,0,0,0,0,0,0,0,0,0,0,0,0,0,0,0,0,0,0,0,0,0,0,0,0,0,0,0,0,0,0,0,0,0,0,0,0,0,0,0,0,0,0,0,0,0,0,0,0,0,0,0,0,0,0,0,0,0,0,0,0,0,0,0,0,0,0,0,0,0,0,0,0,0,0,0,0,0,0,0,0,0,0,0,0,0,0,0,0,0,0,0,0,0,0,0,0,0,0,0,0,0,0,0,0,0,0,0,0,0,0,0,0,0,0,0,0,0,0,0,0,0,0,0,0,0,0,0,0,0,0,0,0,0,0,0,0,0,0,0,0,0,0,0,0,0,0,0,0,0,0,0,0,0,0,0,0,0,0,0,0,0,0,0,0,0,0,0,0,0,0,0,0,0,0,0,0,0,0,0,0,0,0,0,0,0,0,0,0,0,0,0,0,0,0,0,0,0,0,0,0,0,0,0,0,0,0,0,0,0,0,0,0,0,0,0,0,0,0,0,0,0,0,0,0,0,0,0,0,0,0,0,0,0,0,0,0,0,0,0,0,0,0,0,0,0,0,0,0,0,0,0,0,0,0,0,0,0,0,0,0,0,0,0,0,0,0,0,0,0,0,0,0,0,0,0,0,0,0,0,0,0,0,0,0,0,0,0,0,0,0,0,0,0,0,0,0,0,0,0,0,0,0,0,0,0,0,0,0,0,0,1,0,0,0,0,0,0,0,0,0,0,0,0,0,0,0,0,0,0,0,0,0,0,0,0,0,0,0,0,0,0,0,0,0,0,0,0,0,0,0,0,0,0,0,0,0,0,0,0,0,0,0,0,0,0,0,0,0,0,0,0,0,0,0,0,0,0,0,0,0,0,0,0,0,0,0,0,0,0,0,0,0,0,0,0,0,0,0,0,0,0,0,0,0,0,0,0,0,0,0,0,0,0,0,0,0,0,0,0,0,0,0,0,0,0,0,0,0,0,0,0,0,0,0,0,0,0,0,0,0,0,0,0,0,0,0,0,0,0,0,0,0,0,0,0,0,0,0,0,0,0,0,0,0,0,0,0,0,0,0,0,0,0,0,0,0,0,0,0,0,0,0,0,0,0,0,0,0,0,0,0,0,0,0,0,0,0,0,0,0,0,0,0,0,0,0,0,0,0,0,0,0,0,0,0,0,0,0,0,0,0,0,0,0,0,0,0,0,0,0,0,0,0,0,0,0,0,0,0,0,0,0,0,0,0,0,0,0,0,0,0,0,0,0,0,0,0,0,0,0,0,0,0,0,0,0,0,0,0,0,0,0,0,0,0,0,0,0,0,0,0,0,0,0,0,0,0,0,0,0,0,0,0,0,0,0,0,0,0,0,0,0,0,0,0,0,0,0,0,0,0,0,0,0,0,0,0,0,0,0,0,0,0,0,0,0,0,0,0,0,0,0,0,0,0,0,0,0,0,0,0,0,0,0,0,0,0,0,0,0,0,0,0,0,0,0,0,0,0,0,0,0,0,0,0,0,0,0,0,0,0,0,0,0,0,0,0,0,0,0,0,0,0,0,0,0,0,0,0,0,0,0,0,0,0,0,0,0,0,0,0,0,0,0,0,0,0,0,0,0,0,0,0,0,0,0,0,0,0,0,0,0,0,0,0,0,0,0,0,0,0,0,0,0,0,0,0,0,0,0,0,0,0,0,0,0,0,0,0,0,0,0,0,0,0,0,0,0,0,0,0,0,0,0,0,0,0,0,0,0,0,0,0,0,0,0,0,0,0,0,0,0,0,0,0,0,0,0,0,0,0,0,0,0,0,0,0,0,0,0,0,0,0,0,0,0,0,0,0,0,0,0,0,0,0,0,0,0,0,0,0,0,0,0,0,0,0,0,0,0,0,0,0,0,0,0,0,0,0,0,0,0,0,0,0,0,0,0,0,0,0,0,0,0,0,0,0,0,0,0,0,0,0,0,0,0,0,0,0,0,0,0,0,0,0,0,0,0,0,0,0,0,0,0,0,0,0,0,0,0,0,0,0,0,0,0,0,0,0,0,0,0,0,0,0,0,0,0,0,0,0,0,0,0,0,0,0,0,0,0,0,0,0,0,0,0,0,0,0,0,0,0,0,0,0,0,0,0,0,0,0,0,0,0,0,0,0,0,0,0,0,0,0,0,0,0,0,0,0,0,0,0,0,0,0,0,0,0,0,0,0,0,0,0,0,0,0,0,0,0,0,0,0,0,0,0,0,0,0,0,0,0,0,0,0,0,0,0,0,0,0,0,0,0,0,0,0,0,0,0,0,0,0,0,0,0,0,0,0,0,0,0,0,0,0,0,0,0,0,0,0,0,0,0,0,0,0,0,0,0,0,0,0,0,0,0,0,0,0,0,0,0,0,0,0,0,0,0,0,0,0,0,0,0,0,0,0,0,0,0,0,0,0,0,0,0,0,0,0,0,0,0,0,0,0,0,0,0,0,0,0,0,0,0,0,0,0,0,0,0,0,0,0,0,0,0,0,0,0,0,0,0,0,0,0,0,0,0,0,0,0,0,0,0,0,0,0,0,0,0,0,0,0,0,0,0,0,0,0,0,0,0,0,0,0,0,0,0,0,0,0,0,0,0,0,0,0,0,0,0,0,0,0,0,0,0,0,0,0,0,0,0,0,0,0,0,0,0,0,0,0,0,0,0,0,0,0,0,0,0,0,0,0,0,0,0,0,0,0,0,0,0,0,0,0,0,0,0,0,0,0,0,0,0,0,0,0,0,0,0,0,0,0,0,0,0,0,0,0,0,0,0,0,0,0,0,0,0,0,0,0,0,0,0,0,0,0,0,0,0,0,0,0,0,0,0,0,0,0,0,0,0,0,0,0,0,0,0,0,0,0,0,0,0,0,0,0,0,0,0,0,0,0,0,0,0,0,0,0,0,0,0,0,0,0,0,0,0,0,0,0,0,0,0,0,0,0,0,0,0,0,0,0,0,0,0,0,0,0,0,0,0,0,0,0,0,0,0,0,0,0,0,0,0,0,0,0,0,0,0,0,0,0,0,0,0,0,0,0,0,0,0,0,0,0,0,0,0,0,0,0,0,0,0,0,0,0,0,0,0,0,0,0,0,0,0,0,0,0,0,0,0,0,0,0,0,0,0,0,0,0,0,0,0,0,0,0,0,0,0,0,0,0,0,0,0,0,0,0,0,0,0,0,0,0,0,0,0,0,0,0,0,0,0,0,0,0,0,0,0,0,0,0,0,0,0,0,0,0,0,0,0,0,0,0,0,0,0,0,0,0,0,0,0,0,0,0,0,0,0,0,0,0,0,0,0,0,0,1,0,0,0,0,0,0,0,0,0,0,0,0,0,0,0,0,0,0,0,0,0,0,0,0,0,0,0,0,0,0,0,0,0,0,0,0,0,0,0,0,0,0,0,0,0,0,0,0,0,0,0,0,0,0,0,0,0,0,0,0,0,0,0,0,0,0,0,0,0,0,0,0,0,0,0,0,0,0,0,0,0,0,0,0,0,0,0,0,0,0,0,0,0,0,0,0,0,0,0,0,0,0,0,0,0,0,0,0,0,0,0,0,0,0,0,0,0,0,0,0,0,0,0,0,0,0,0,0,0,0,0,0,0,0,0,0,0,0,0,0,0,0,0,0,0,0,0,0,0,0,0,0,0,0,0,0,0,0,0,0,0,0,0,0,0,0,0,0,0,0,0,0,0,0,0,0,0,0,0,0,0,0,0,0,0,0,0,0,0,0,0,0,0,0,0,0,0,0,0,0,0,0,0,0,0,0,0,0,0,0,0,0,0,0,0,0,0,0,0,0,0,0,0,0,0,0,0,0,0,0,0,0,0,0,0,0,0,0,0,0,0,0,0,0,0,0,0,0,0,0,0,0,0,0,0,1,0,0,0,0,0,0,0,0,0,0,0,0,0,0,0,0,0,0,0,0,0,0,0,0,0,0,0,0,0,0,0,0,0,0,0,0,0,0,0,0,0,0,0,0,0,0,0,0,0,0,0,0,0,0,0,0,0,0,0,0,0,0,0,0,0,0,0,0,0,0,0,0,0,0,0,0,0,0,1,0,0,0,0,0,0,0,1,0,0,0,0,0,1,0,0,0,0,0,0,0,0,0,0,0,0,0,0,0,0,0,0,0,0,0,0,0,0,0,0,0,0,0,0,0,0,0,0,0,0,0,0,0,0,0,0,0,0,0,0,0,1,0,0,0,0,0,0,0,0,0,0,0,0,0,0,0,0,0,0,0,0,0,0,0,1,1,0,0,0,0,0,0,0,0,0,0,0,0,0,0,0,0,0,0,0,0,0,0,0,0,0,0,0,0,0,0,0,0,0,0,0,0,0,0,0,0,0,0,0,0,0,0,0,0,0,0,0,0,0,0,0,0,0,0,0,0,0,0,0,0,0,0,0,0,0,0,0,0,0,0,0,0,0,0,0,0,0,0,0,0,0,0,0,0,0,0,0,0,0,0,0,0,0,0,0,0,0,0,0,0,0,0,0,0,0,0,0,0,0,0,0,0,0,0,0,0,0,0,0,0,0,0,0,0,0,0,0,0,0,0,0,0,0,1,0,0,0,0,0,0,0,0,0,0,0,0,0,0,0,0,0,0,0,0,0,0,0,0,0,0,0,0,0,0,0,0,0,0,0,0,0,0,0,0,0,0,0,0,0,0,0,0,0,0,0,0,0,0,0,0,0,0,0,0,0,0,0,0,0,0,0,0,0,0,0,0,0,0,0,0,0,0,0,0,0,0,0,0,0,0,0,0,0,0,0,0,0,0,0,0,0,0,0,0,0,0,0,0,0,0,0,0,0,0,0,0,0,0,0,0,0,0,0,0,0,0,0,0,0,0,0,0,0,0,0,0,0,0,0,0,0,0,0,0,0,0,0,0,0,0,0,0,0,0,0,0,0,0,0,0,0,0,0,0,0,0,0,0,0,0,0,0,0,0,0,0,0,0,0,0,0,0,0,0,0,0,0,0,0,0,0,0,0,0,0,0,0,0,0,0,0,0,0,0,0,0,0,0,0,0,0,0,0,0,0,0,0,0,0,0,0,0,0,0,0,0,0,0,0,0,0,0,0,0,0,0,0,0,0,0,0,0,0,0,0,0,0,0,0,0,0,0,0,0,0,0,0,0,0,0,1,0,0,0,0,0,0,0,0,0,0,0,0,0,0,0,0,0,0,0,0,0,0,0,0,0,0,0,0,0,0,0,0,0,0,0,0,0,0,0,0,0,0,0,0,0,0,0,0,0,0,0,0,0,0,0,1,0,0,0,0,0,0,0,0,0,0,0,0,0,0,0,0,0,0,0,0,0,0,0,0,0,0,0,0,0,0,0,0,0,0,0,0,0,0,0,0,0,0,0,0,0,0,0,0,0,0,0,0,0,0,0,0,0,1,0,0,0,0,0,0,0,0,0,0,0,0,0,0,0,0,0,0,0,0,0,0,0,0,0,0,0,0,0,0,0,0,0,0,0,0,0,0,0,0,0,0,0,0,0,0,0,0,0,0,0,0,0,0,0,0,0,0,0,0,0,0,0,0,0,0,0,0,0,0,0,0,0,0,0,0,0,0,0,0,0,0,0,0,0,0,0,0,0,0,0,0,0,0,0,0,0,0,0,0,0,0,0,0,0,0,0,0,0,0,0,0,0,0,0,0,0,0,0,0,0,0,0,0,0,0,0,0,0,0,0,0,0,0,0,0,0,0,0,0,0,0,0,0,0,0,0,0,0,0,0,0,0,0,0,0,0,0,0,0,0,0,0,0,0,0,0,0,0,0,0,0,0,0,0,0,0,0,0,0,0,0,0,0,0,0,0,0,0,0,0,0,1,0,0,0,0,0,0,0,0,0,0,0,0,0,0,0,0,0,0,0,0,0,0,0,0,0,0,0,0,0,0,0,0,0,0,0,0,0,0,0,0,0,0,0,0,0,0,0,0,0,0,0,0,0,0,0,0,0,0,0,0,0,0,0,0,0,0,0,0,0,0,0,0,0,0,0,0,0,0,0,0,1,0,0,0,0,0,0,0,0,0,0,0,0,0,0,0,0,0,0,0,0,0,0,0,0,0,0,0,0,0,0,0,0,0,0,0,0,0,0,0,0,0,0,0,0,0,0,0,0,0,0,0,0,0,0,0,0,0,0,0,0,0,0,0,0,0,0,0,0,0,0,0,0,0,0,0,0,0,0,0,0,0,0,0,0,0,0,0,0,0,0,0,0,0,0,0,0,0,0,0,0,0,0,0,0,0,0,0,0,0,0,0,0,0,0,0,0,0,0,0,0,0,0,0,0,0,0,0,0,0,0,0,0,0,0,0,0,0,0,0,0,0,0,0,0,0,0,0,0,0,0,0,0,0,0,0,0,0,0,0,0,0,0,0,0,0,0,0,0,0,0,0,0,0,0,0,0,0,0,0,0,0,0,0,0,0,0,0,0,0,0,0,0,0,0,0,0,0,0,0,0,0,0,0,0,0,0,0,0,0,0,0,0,0,0,0,0,0,0,0,0,0,0,0,0,0,0,0,0,0,0,0,0,0,0,0,0,0,0,0,0,0,0,0,0,0,0,1,0,0,0,0,0,1,0,0,0,0,0,0,0,0,0,0,0,0,0,0,0,0,0,0,0,0,1,0,0,0,0,0,0,0,0,1,0,0,0,0,0,0,0,0,0,0,0,0,0,0,0,0,0,0,0,0,0,0,0,0,0,0,0,0,0,0,0,0,0,0,0,0,0,1,0,0,0,1,0,0,0,0,0,0,0,0,0,0,0,0,0,0,0,0,0,0,0,0,0,0,0,0,0,0,0,0,0,0,0,0,0,0,0,0,0,0,0,0,0,0,0,0,0,0,0,0,0,0,0,0,0,0,0,0,0,0,0,0,0,0,0,0,0,0,0,0,0,0,0,0,0,0,0,0,0,0,0,0,0,0,0,0,0,0,0,0,0,0,0,0,0,0,0,0,0,0,0,0,0,0,0,0,0,0,0,0,0,0,0,0,0,0,0,0,0,0,1,0,0,0,0,0,0,0,0,0,0,0,0,0,0,0,0,0,0,0,0,0,0,0,0,0,0,0,0,0,0,0,0,0,0,0,0,0,0,0,0,0,0,0,0,0,0,0,0,0,0,0,0,0,0,0,0,0,0,0,0,0,0,0,0,0,0,0,0,0,0,0,0,0,0,0,0,1,0,0,0,0,0,0,0,0,0,0,0,0,0,0,0,0,0,0,0,0,0,0,0,0,0,0,0,0,0,0,0,0,0,0,0,0,0,0,0,0,0,0,0,0,0,0,0,0,0,0,0,0,0,0,0,0,0,0,0,0,0,0,0,0,0,0,0,0,0,0,0,0,0,0,0,0,0,0,0,0,0,0,0,0,0,0,0,0,0,0,0,0,0,0,0,0,0,0,0,0,0,0,0,0,0,0,0,0,0,0,0,0,0,0,0,0,0,0,0,0,0,0,0,0,0,0,0,0,0,0,0,0,0,0,0,0,0,0,0,0,0,0,0,0,0,0,0,0,0,0,0,0,0,0,0,0,0,0,0,0,0,0,0,0,0,0,0,0,0,0,0,0,0,0,0,0,0,0,0,0,0,0,0,0,0,0,0,0,0,0,0,0,0,0,0,0,0,0,0,0,0,0,0,0,0,0,0,0,0,0,0,0,0,0,0,0,1,0,0,0,0,0,0,0,0,0,0,0,0,0,0,0,0,0,0,0,0,0,0,0,0,0,0,0,0,0,0,1,0,0,0,0,0,0,0,0,0,1,0,0,0,0,0,0,0,0,0,0,0,0,0,0,0,0,0,0,0,0,0,0,0,0,0,0,0,0,0,0,0,0,0,0,0,0,0,0,0,0,0,0,0,0,0,0,0,0,0,0,0,0,0,0,0,0,0,0,0,0,0,0,0,0,0,0,0,0,0,0,0,0,0,0,0,0,0,0,0,0,0,0,0,0,0,0,0,0,0,0,0,0,0,0,0,0,0,0,0,0,0,0,0,0,0,0,0,0,0,0,0,0,0,0,0,0,0,0,0,0,0,0,0,0,0,0,0,0,0,0,0,0,0,0,0,0,0,0,0,0,0,0,0,0,0,0,0,0,0,0,0,0,0,0,0,0,0,0,0,0,0,0,0,0,0,0,0,0,0,0,0,0,0,0,0,0,0,0,0,0,0,0,0,0,0,0,0,0,0,0,0,0,0,0,0,0,0,0,0,0,0,0,0,0,0,0,0,0,0,0,0,0,0,0,0,0,0,0,0,0,0,0,0,0,0,0,0,0,0,0,0,0,0,0,0,0,0,0,0,0,0,0,0,0,0,0,0,0,0,0,0,0,0,0,0,0,0,0,0,0,0,0,0,0,0,0,0,0,0,1,0,0,0,0,0,0,0,0,0,0,0,0,0,0,0,0,0,0,0,0,0,0,0,0,0,0,0,0,0,0,0,0,0,0,0,0,0,1,0,0,0,0,0,1,0,0,0,0,0,0,0,0,0,0,0,0,0,0,0,0,0,0,0,0,0,0,0,0,0,0,0,0,0,0,0,0,0,0,0,0,0,0,0,0,0,0,0,0,0,0,0,0,0,0,0,0,0,0,0,0,0,0,0,0,0,0,0,0,0,0,0,0,0,0,1,0,0,0,0,0,0,0,0,0,0,0,0,0,0,0,0,0,0,0,0,0,0,0,0,0,0,0,0,0,0,0,0,0,0,0,0,0,0,0,0,0,0,0,0,0,0,0,0,0,0,0,0,0,0,0,0,0,0,0,0,0,0,0,0,0,0,0,0,0,0,0,0,0,0,0,0,0,0,0,0,0,0,0,0,0,0,0,0,0,0,0,0,0,0,0,0,0,0,0,0,0,0,0,0,0,0,0,0,0,0,0,0,0,0,0,0,0,0,0,0,0,0,0,0,0,0,0,0,0,0,0,0,0,0,0,0,0,0,0,0,0,0,0,0,0,0,0,0,0,0,0,0,0,0,0,0,0,0,0,0,0,0,0,0,0,0,0,0,0,0,0,0,0,0,0,0,0,0,0,0,0,0,0,0,0,0,0,0,0,0,0,0,0,0,0,0,0,0,0,0,0,0,0,0,0,0,0,0,0,0,0,0,0,0,0,0,0,0,0,0,0,0,0,1,0,0,0,0,0,0,0,0,0,0,0,0,0,0,0,0,0,0,0,0,0,0,0,0,0,0,0,0,0,0,0,0,0,0,0,0,0,0,0,0,0,0,0,0,0,0,0,0,0,0,0,0,0,0,0,0,0,0,0,0,0,0,0,0,0,0,0,0,0,0,0,0,0,0,0,0,0,0,0,0,0,0,0,0,0,0,0,0,0,0,0,0,0,0,0,0,0,0,0,0,0,0,0,0,0,0,0,0,0,0,0,0,0,0,0,0,0,0,0,0,0,0,0,0,0,0,0,0,0,0,0,0,0,1,0,0,0,0,0,0,0,0,0,0,0,0,0,0,0,0,0,0,0,0,0,0,0,0,0,0,0,0,0,0,0,0,0,0,0,0,0,0,0,0,0,0,0,0,0,0,0,0,0,0,0,0,0,0,0,0,0,0,0,0,0,0,0,0,0,0,0,0,0,0,0,0,0,0,0,0,0,0,0,0,0,0,0,0,0,0,0,0,0,0,0,0,0,0,0,0,0,0,0,0,1,0,0,0,0,0,0,0,0,0,0,0,0,0,0,0,0,1,0,0,0,0,0,0,0,0,0,0,0,0,0,0,0,0,0,0,0,0,0,0,0,0,0,0,0,1,0,0,0,0,0,0,0,0,0,1,0,0,0,0,0,0,0,0,0,0,0,0,0,0,0,0,0,0,0,0,0,0,0,0,0,0,0,0,0,0,0,0,0,0,0,0,0,0,0,0,0,0,0,0,0,0,0,0,0,0,0,0,0,0,0,0,0,0,0,0,0,0,0,0,0,0,0,0,0,0,0,0,0,0,0,0,0,0,0,0,0,0,0,0,0,0,0,0,0,0,0,0,0,0,0,0,0,0,0,0,0,0,0,0,0,0,0,0,0,0,0,0,0,0,0,0,0,0,0,0,0,0,0,0,0,0,0,0,0,0,0,0,0,0,0,0,0,0,0,0,0,0,0,0,0,0,0,0,0,1,0,0,0,0,0,0,0,0,0,0,0,0,0,0,0,0,0,0,0,0,0,0,0,0,0,0,0,0,0,0,0,0,0,0,0,0,0,0,0,0,1,0,0,0,0,0,0,0,0,0,1,0,0,0,0,0,0,0,0,0,0,0,0,0,0,0,0,0,0,0,0,0,0,0,0,0,0,0,0,0,0,0,0,0,0,0,0,0,0,0,0,0,0,0,0,0,0,0,0,0,0,0,0,0,0,0,0,0,0,0,0,0,0,0,0,0,0,0,0,0,0,0,0,1,0,0,0,0,0,0,0,0,0,0,0,0,0,0,0,0,0,1,0,0,0,0,0,0,0,0,0,0,0,0,0,0,0,0,0,0,0,0,0,0,0,0,0,0,0,0,0,0,0,0,0,0,0,0,0,0,0,0,0,0,0,0,0,0,0,0,0,0,0,0,0,1,0,0,0,0,0,0,0,0,0,0,0,0,0,0,0,0,0,0,0,0,0,0,0,0,0,0,0,0,0,0,0,0,0,0,0,0,0,0,0,0,0,0,0,0,0,0,0,0,0,0,0,0,0,0,0,0,0,0,0,0,0,0,0,0,0,0,0,0,0,0,0,0,1,0,0,0,1,0,0,0,0,0,0,0,0,1,0,0,0,0,0,0,0,0,0,0,0,0,0,0,0,0,0,0,0,0,0,0,0,0,0,0,0,0,0,0,0,0,0,0,0,0,0,0,0,0,0,0,0,0,0,0,0,0,0,0,0,0,0,0,0,0,0,0,0,0,0,0,0,0,0,0,0,0,0,0,0,0,0,0,0,0,0,0,1,0,0,0,0,0,0,0,0,1,0,0,0,0,0,0,0,0,0,0,0,0,1,0,0,0,0,0,0,0,0,0,0,0,0,1,0,0,0,0,0,0,0,0,0,0,0,0,0,1,0,0,0,0,0,0,0,0,0,0,0,0,0,0,0,0,1,0,0,0,0,0,0,0,0,0,0,0,0,0,0,0,0,0,0,0,0,0,0,0,0,0,0,0,0,0,0,0,0,0,0,0,0,0,0,0,0,0,0,0,0,0,0,0,0,0,0,0,0,0,0,0,0,0,0,0,0,0,0,0,0,0,0,0,0,0,0,0,0,0,0,0,0,0,0,0,0,0,0,0,0,0,0,0,0,0,0,0,1,0,0,0,0,0,0,0,0,0,0,0,0,0,0,0,0,0,0,0,0,0,0,0,0,0,0,0,0,0,0,0,0,0,0,0,0,0,0,0,0,0,0,0,0,0,0,0,0,0,0,0,0,0,0,0,0,0,0,0,0,0,0,0,0,0,0,0,0,0,0,0,0,0,0,0,0,0,0,0,0,1,0,0,0,0,0,0,0,0,0,0,0,0,0,0,0,0,0,0,0,0,0,0,0,0,0,0,0,0,0,0,0,0,0,0,0,0,0,0,0,0,0,0,0,0,0,0,0,0,0,0,0,0,0,0,0,0,0,0,0,0,0,0,0,0,0,1,0,0,0,0,0,0,0,0,0,0,0,0,0,0,0,0,0,0,0,0,0,0,0,0,0,0,0,0,0,0,0,0,0,0,0,1,0,0,0,0,0,0,0,0,0,0,0,0,0,0,0,0,0,0,0,0,0,0,0,0,0,0,0,1,0,0,0,0,0,0,0,0,0,0,0,0,0,0,0,0,0,0,0,0,0,0,0,0,0,0,0,0,0,1,0,0,0,0,0,0,0,0,0,0,0,0,0,0,0,0,0,0,0,0,0,0,0,0,0,0,0,0,0,0,0,0,0,0,0,0,0,0,0,0,0,0,0,0,0,0,0,0,0,0,0,0,0,0,1,0,0,0,0,0,0,0,0,0,0,0,0,0,0,0,0,0,0,0,0,0,0,0,0,0,0,0,0,0,0,0,0,0,0,0,0,0,0,0,0,0,0,0,0,0,0,0,0,0,0,0,0,0,0,0,0,0,0,0,0,0,0,0,0,0,0,0,0,0,0,0,0,0,0,0,0,0,0,0,0,0,0,0,0,0,0,0,0,0,0,0,0,0,0,0,0,0,0,0,0,0,1,0,0,0,0,0,0,0,0,0,0,0,0,0,0,0,0,0,0,0,0,0,0,0,0,0,0,0,0,0,0,0,0,0,0,0,0,0,0,1,0,0,0,0,0,0,0,0,0,0,0,0,0,0,0,0,0,0,0,0,0,0,0,0,0,0,0,0,0,0,0,0,0,0,0,0,0,0,0,0,0,0,0,0,0,0,0,0,0,0,0,0,0,0,0,0,0,0,0,0,0,0,0,0,0,0,1,0,0,0,0,0,0,0,0,1,0,0,0,0,0,0,0,0,0,0,0,0,0,0,0,0,0,0,0,0,0,0,0,0,0,0,0,0,0,0,0,0,0,0,0,0,0,0,0,0,0,0,0,0,0,0,0,0,0,0,0,0,0,0,0,0,1,0,0,0,0,0,0,0,0,0,0,0,0,0,0,0,0,0,0,0,0,0,0,0,0,0,0,0,0,0,0,0,0,0,0,0,0,0,0,0,0,0,0,0,0,0,0,0,0,0,0,1,0,0,0,0,0,0,0,0,0,0,0,0,0,0,0,0,0,0,0,0,0,0,0,0,0,0,0,1,0,0,0,0,0,0,0,0,0,0,0,0,0,0,0,0,0,0,0,0,0,0,0,0,0,0,0,0,0,0,0,0,0,0,0,0,0,0,0,0,0,0,0,0,0,0,0,0,0,0,0,0,0,0,0,0,0,0,0,0,0,0,0,0,0,0,0,0,1,0,0,0,0,0,0,0,0,0,0,0,0,0,0,0,0,0,0,0,0,0,0,0,0,0,0,0,0,0,0,0,0,0,0,0,0,0,0,0,0,0,0,0,1,0,0,0,0,0,0,0,0,0,0,0,0,0,0,0,0,0,0,0,0,0,0,0,0,0,0,0,0,0,0,0,0,0,0,0,0,0,0,0,0,0,0,0,0,0,0,0,0,0,0,0,0,0,0,0,0,0,0,0,0,0,0,0,0,0,0,0,0,0,0,0,0,0,0,0,0,0,0,0,0,0,0,0,0,0,0,0,0,0,0,0,1,0,0,0,0,0,0,0,0,0,0,0,0,0,0,0,0,0,1,0,0,0,0,0,0,0,0,0,0,0,0,0,0,0,0,0,0,0,0,0,0,0,0,0,0,0,0,0,0,0,0,0,0,0,0,0,0,0,0,0,0,0,0,0,0,0,0,0,0,0,0,0,0,0,0,0,0,0,0,0,0,0,0,0,0,0,0,0,0,0,0,0,0,0,0,0,0,0,0,0,0,0,0,0,0,0,0,1,0,0,0,0,1,1,0,1,0,0,0,0,0,0,0,0,0,0,0,0,0,0,0,0,1,0,0,0,0,0,0,0,0,0,0,0,0,0,0,0,0,0,0,0,0,0,0,0,0,0,0,0,0,0,0,0,0,0,0,0,0,0,0,0,0,0,0,0,0,0,0,0,0,0,0,0,0,0,0,0,1,0,0,0,0,0,0,0,0,0,0,0,0,0,0,0,0,0,0,0,0,0,0,1,0,0,0,0,0,0,0,0,0,0,0,0,0,1,0,0,0,0,0,0,0,0,0,1,0,0,0,0,0,0,0,0,0,0,1,0,0,0,0,0,0,0,0,0,0,0,0,0,0,0,0,0,0,1,0,0,0,0,0,0,0,0,0,0,0,0,0,0,0,0,0,0,0,0,0,0,0,0,0,0,0,0,0,0,0,0,0,0,0,0,0,0,0,0,0,0,0,0,0,0,0,0,0,0,0,0,0,0,0,0,0,0,0,0,0,0,0,0,0,0,0,0,0,0,0,1,0,0,0,0,0,0,0,0,0,0,0,0,0,0,0,0,0,0,0,0,0,0,0,0,0,0,0,0,0,0,0,0,0,0,0,0,0,0,0,0,0,0,0,0,0,0,0,0,0,0,0,0,0,0,0,0,0,0,0,0,0,0,0,0,0,0,0,0,0,0,0,0,0,0,0,0,0,0,0,0,0,0,0,0,0,0,0,0,0,0,0,0,0,0,0,0,0,0,0,0,0,0,0,0,0,0,0,0,0,0,0,0,0,0,0,0,0,0,0,0,0,0,0,0,1,0,0,0,0,0,0,0,0,0,0,0,0,0,0,0,0,0,0,0,0,0,0,0,0,0,0,0,0,0,0,0,0,0,0,0,0,0,0,0,0,0,0,0,0,0,0,0,0,0,0,0,0,0,0,0,0,0,0,0,0,0,0,0,0,0,0,0,0,0,0,0,0,0,0,0,0,0,0,0,0,0,0,0,0,0,0,0,0,0,1,0,0,0,0,0,0,0,0,0,0,0,0,0,0,0,0,0,0,0,0,0,0,0,0,0,0,0,0,0,0,0],\"coloraxis\":\"coloraxis\",\"symbol\":\"circle\"},\"mode\":\"markers\",\"name\":\"\",\"scene\":\"scene\",\"showlegend\":false,\"x\":[0,0,0,14,2,22,9,22,18,4,0,0,8,1,2,0,18,1,14,0,2,1,0,1,1,0,2,22,0,2,13,9,11,18,0,6,1,0,15,3,10,12,1,0,0,1,4,15,11,1,5,16,8,9,9,8,24,24,4,0,0,12,0,4,0,1,0,17,9,0,1,4,2,10,14,12,6,0,22,14,24,9,22,0,7,6,0,0,1,12,12,0,11,22,3,13,21,8,5,0,1,0,0,0,4,0,19,24,0,22,14,11,0,12,8,12,0,0,14,24,9,6,3,22,12,0,24,0,4,0,0,8,16,25,1,1,12,2,6,9,12,1,22,0,2,2,2,10,0,0,14,4,4,5,0,1,0,23,2,5,5,7,13,1,7,1,0,8,9,25,12,26,0,6,1,0,11,4,12,1,1,0,1,6,1,4,10,0,3,0,6,12,11,1,14,1,8,10,5,4,0,9,0,22,0,0,2,0,1,11,0,1,14,0,19,4,9,24,8,9,0,3,1,0,11,14,0,10,1,4,18,0,8,11,2,5,0,22,5,5,9,4,12,12,1,0,1,0,0,1,0,0,24,0,8,1,24,11,0,0,14,0,15,22,12,0,0,0,0,0,24,5,0,0,0,20,12,11,0,7,2,19,10,26,4,24,0,5,1,18,4,1,12,0,12,0,0,4,0,4,1,0,22,0,0,0,2,0,0,12,11,1,2,6,0,0,0,9,0,0,3,12,1,6,22,0,1,2,7,4,4,22,0,9,6,8,1,0,0,0,1,10,4,4,19,4,0,0,12,4,4,9,0,1,0,12,11,0,0,11,3,0,1,19,1,7,4,0,21,4,8,2,10,0,15,0,3,0,3,0,3,12,8,0,0,4,4,4,0,1,0,8,0,0,9,0,0,2,2,7,6,17,3,14,1,0,0,11,12,11,1,10,6,4,0,8,1,2,11,14,22,0,3,2,0,0,0,2,11,6,14,1,8,0,0,0,12,12,0,0,1,4,22,1,14,13,2,0,4,1,0,5,11,4,0,8,0,4,5,0,12,10,2,0,0,12,11,1,4,10,0,4,0,1,0,0,0,4,12,0,16,8,6,0,31,2,0,22,4,4,0,12,0,0,27,0,0,2,10,28,1,0,13,1,0,18,8,0,12,0,0,4,22,9,0,18,0,2,0,1,10,0,9,4,12,0,14,0,1,22,12,10,0,0,1,0,12,0,0,1,0,8,23,1,17,0,9,8,5,5,12,1,24,9,12,4,5,6,0,0,4,19,8,19,2,0,1,0,4,22,2,10,0,2,16,0,7,1,7,0,0,0,12,0,12,2,0,1,0,0,0,11,6,2,6,8,3,14,12,17,12,1,1,8,4,12,2,2,0,2,24,0,15,17,0,0,11,0,0,0,2,4,0,6,4,8,0,0,18,6,0,4,1,0,2,22,0,0,1,0,1,0,4,5,3,12,2,0,1,0,2,6,0,9,9,0,0,24,0,0,3,4,6,1,19,16,5,2,0,1,13,4,4,12,2,7,2,21,1,0,7,27,3,1,5,1,14,5,8,0,14,0,0,2,12,4,12,0,16,8,0,0,12,2,14,9,0,31,24,4,8,1,4,11,0,25,27,0,1,0,0,4,0,0,6,0,1,2,1,2,22,0,0,8,28,0,23,1,11,0,27,0,0,12,0,2,0,22,0,8,7,11,1,11,12,22,0,5,0,0,2,4,0,1,1,11,8,19,4,7,9,11,12,0,0,19,0,19,0,1,0,19,8,22,5,14,13,1,1,0,14,6,0,2,0,0,1,0,0,0,0,0,0,11,0,2,4,1,12,9,3,0,3,7,22,3,0,2,12,14,0,0,8,12,6,22,8,11,0,0,1,0,12,0,0,0,10,11,1,0,8,2,12,4,0,0,2,0,0,0,0,12,0,0,12,4,0,0,9,22,29,5,12,0,1,4,0,0,11,11,22,24,1,4,0,19,2,3,2,0,9,6,0,11,14,12,23,0,13,5,7,9,0,4,14,5,0,19,12,0,0,0,2,2,2,10,14,11,13,0,11,12,4,0,2,0,5,5,9,1,2,24,2,2,6,24,0,1,8,1,2,0,0,0,4,25,0,0,2,7,9,0,0,0,19,19,0,0,9,1,2,0,0,9,11,0,1,4,12,1,1,6,0,0,6,1,1,2,1,22,1,24,11,4,25,0,0,2,14,12,0,2,8,0,4,1,1,9,0,0,22,22,4,10,0,3,2,0,0,11,0,10,7,1,0,12,6,0,0,0,0,12,1,0,0,4,0,0,2,28,0,0,7,2,1,4,22,0,0,0,9,26,2,14,0,0,9,4,1,24,21,0,6,9,1,22,6,0,14,6,14,6,12,14,23,1,13,1,0,10,0,22,19,22,2,31,0,0,3,0,12,4,0,0,22,24,0,0,22,9,31,8,9,0,0,0,0,22,0,9,1,4,0,0,14,0,4,9,0,4,0,2,8,10,1,3,0,0,6,19,1,0,0,0,0,22,19,11,6,13,0,0,1,14,0,0,1,5,0,14,0,7,0,12,0,0,0,1,0,2,12,22,2,13,12,1,0,22,0,0,0,0,0,0,0,31,0,5,2,5,4,0,22,22,1,4,0,2,11,6,9,1,24,0,0,1,5,0,0,0,0,11,2,11,0,11,9,0,0,4,0,0,6,0,8,0,6,2,0,2,0,0,0,12,2,8,22,0,3,8,2,1,20,1,14,3,0,11,1,1,11,0,0,0,4,0,4,9,2,32,3,0,2,0,0,1,4,1,24,12,4,9,2,0,1,14,4,6,16,8,7,0,22,1,5,9,24,0,0,10,0,10,0,8,6,0,15,14,0,2,4,1,0,0,0,0,0,0,0,22,2,24,14,0,22,0,8,0,0,0,12,0,0,14,1,3,0,4,22,0,1,23,2,12,0,0,2,15,11,5,11,7,10,8,0,19,4,19,10,1,0,0,5,9,0,3,1,4,2,0,19,9,0,4,0,0,0,2,4,11,9,12,22,14,0,1,9,0,8,8,22,0,0,0,7,0,0,11,16,6,0,0,0,6,11,19,4,4,24,2,22,11,14,1,4,0,22,0,0,1,9,0,0,0,12,14,0,4,0,1,21,0,7,2,12,1,2,0,0,0,0,0,0,6,6,0,19,12,14,7,22,8,0,0,1,0,1,4,0,10,0,0,3,17,8,4,0,1,6,4,10,5,0,2,11,9,6,12,0,0,6,0,14,0,4,0,0,0,4,4,6,7,11,2,14,6,0,0,1,0,16,7,0,2,10,7,3,4,0,0,1,0,23,14,0,9,2,0,1,12,0,1,22,11,6,9,5,4,0,6,19,0,11,0,0,14,0,0,0,0,0,8,0,1,1,4,1,1,22,14,22,22,0,12,0,22,22,4,12,11,1,0,2,5,0,1,8,22,8,22,9,0,4,21,1,6,12,22,0,22,1,11,15,1,15,0,2,0,19,2,11,0,7,8,4,8,4,4,0,22,14,8,0,18,0,4,8,0,5,0,4,1,0,0,12,4,0,0,1,2,1,8,12,19,10,0,14,24,27,2,12,8,4,14,12,12,0,2,28,0,1,0,0,1,4,4,12,0,22,0,11,0,0,0,3,19,1,14,12,0,0,6,5,1,0,0,6,0,1,6,0,24,2,0,22,0,0,0,7,26,5,6,8,0,22,13,8,6,0,2,0,8,0,11,1,0,0,21,6,12,9,0,4,1,24,2,1,1,4,12,4,0,3,14,0,0,1,6,13,11,0,0,26,16,16,0,4,10,4,1,0,32,0,3,0,9,0,11,17,0,0,11,9,12,4,4,12,11,0,4,21,3,0,4,7,0,12,2,1,2,11,14,0,0,1,0,19,4,11,5,0,11,0,4,8,1,19,0,0,4,9,0,1,6,0,0,2,14,6,1,1,0,2,0,9,5,0,19,2,0,12,5,0,11,5,4,1,0,12,9,0,0,2,4,14,8,19,0,0,12,4,8,3,4,19,22,12,0,1,0,15,0,8,0,11,11,2,2,0,1,0,12,0,2,0,11,0,0,0,0,0,0,0,1,22,4,4,4,0,12,0,0,8,4,8,0,1,31,22,2,6,18,0,0,1,8,13,0,22,0,0,0,22,0,12,1,2,22,1,0,0,6,0,0,2,3,19,9,0,2,0,15,4,0,0,5,8,4,10,14,2,14,0,0,16,0,9,22,0,15,2,8,2,2,0,24,0,5,4,4,0,3,16,2,0,7,4,2,0,7,8,9,0,11,9,10,12,18,1,11,0,8,0,9,12,27,0,8,1,0,0,0,0,12,8,7,0,0,0,4,8,12,12,22,14,4,0,4,1,2,0,5,6,4,28,0,7,6,1,24,0,22,4,1,11,0,1,0,5,2,1,4,4,4,1,10,12,14,1,0,29,24,4,22,4,24,22,21,4,5,1,0,4,0,9,0,0,4,3,1,1,1,12,5,0,0,12,3,0,5,12,8,4,5,4,0,7,0,1,0,0,12,0,0,4,12,0,0,18,4,6,28,0,2,4,1,16,0,0,2,24,0,4,12,0,2,0,0,11,4,12,9,0,1,0,25,4,14,0,2,10,0,9,0,14,0,11,9,0,1,5,7,0,0,0,1,0,2,1,0,15,1,3,0,0,4,2,4,1,14,0,20,0,0,0,6,19,0,6,14,4,19,7,4,0,4,8,0,23,3,0,0,9,0,19,0,21,9,20,0,3,0,0,0,4,2,0,1,2,3,1,22,12,0,14,22,2,10,22,14,1,24,2,5,1,24,11,19,19,8,0,0,29,0,0,0,2,0,23,4,2,5,11,0,12,17,0,29,1,1,6,0,12,1,11,0,0,11,0,8,0,0,0,11,0,11,4,0,3,11,2,0,12,2,1,0,0,0,12,12,5,14,0,14,0,7,12,0,0,31,9,0,0,2,1,12,0,0,11,0,9,0,0,0,1,4,0,1,0,0,0,12,5,0,4,12,0,1,0,0,1,0,0,0,12,14,0,1,10,0,0,2,6,11,10,8,14,0,2,22,4,2,0,12,11,8,0,2,4,7,0,0,0,12,22,5,0,2,12,5,0,9,14,9,1,0,8,14,22,3,19,1,8,8,14,8,4,0,2,11,2,5,22,0,5,2,1,0,24,0,12,0,3,12,1,5,1,14,1,0,22,8,4,14,14,0,0,4,10,8,6,12,12,4,0,11,8,9,0,4,14,0,3,1,0,11,19,22,4,4,22,19,0,0,14,9,4,0,0,7,0,22,0,0,9,0,0,16,4,17,7,1,0,0,14,11,0,11,0,0,1,1,4,0,0,2,8,0,5,0,2,2,0,9,1,4,24,0,0,0,24,0,4,2,0,12,1,10,9,1,12,0,0,0,4,0,0,2,9,0,2,22,0,9,0,1,0,0,4,0,21,0,11,4,14,4,25,6,7,8,4,4,0,7,0,4,8,0,0,11,0,8,0,0,11,0,0,3,0,0,6,10,24,14,1,0,8,2,5,0,0,7,0,0,7,22,0,0,9,22,7,12,0,0,0,0,9,0,0,4,14,1,2,0,2,0,4,14,11,1,8,1,4,0,12,1,24,0,4,0,1,5,9,0,0,12,0,0,7,0,15,1,0,0,0,0,19,2,0,0,0,0,1,4,1,0,1,9,15,16,22,2,0,0,11,7,11,0,14,2,0,9,0,0,19,4,0,6,1,0,14,0,19,0,1,2,12,2,0,7,8,1,0,22,0,0,1,8,0,1,8,0,0,0,2,0,0,11,7,24,15,1,0,9,5,4,2,0,22,9,15,13,0,0,0,0,0,0,4,8,8,6,19,0,5,0,12,0,4,0,14,1,0,11,0,10,7,0,0,2,14,0,0,6,0,22,0,1,11,6,0,6,13,0,0,0,12,0,0,6,1,1,7,0,1,0,5,2,0,0,14,8,14,1,0,12,4,2,26,0,11,4,22,0,6,0,14,9,11,0,14,1,14,2,5,24,0,0,0,1,1,13,0,0,0,5,4,0,0,0,2,0,0,1,9,1,0,0,14,0,7,0,6,2,5,5,2,6,0,6,5,3,0,1,0,2,0,23,3,0,0,1,1,4,13,19,1,0,0,22,0,0,3,0,11,0,19,11,0,2,14,0,0,10,0,0,0,14,14,0,25,11,0,19,22,0,4,7,6,0,22,24,2,5,2,0,8,8,12,0,11,1,22,5,0,0,0,2,0,0,6,4,0,4,8,0,12,14,0,0,0,2,2,0,6,14,1,0,0,0,14,0,14,14,0,2,0,8,10,13,0,0,2,9,9,0,15,0,2,22,0,0,10,0,8,9,2,1,12,0,31,0,9,0,12,14,12,9,19,4,0,9,0,8,26,0,0,0,22,1,0,0,0,0,11,2,4,22,9,12,0,0,3,11,0,13,11,9,11,5,0,14,0,20,6,7,5,9,4,22,0,4,0,2,1,0,6,1,0,4,14,1,30,14,0,0,22,0,0,0,22,0,0,0,1,0,10,14,1,0,24,8,7,1,22,22,0,1,0,24,2,0,9,0,8,10,19,0,4,2,1,0,0,14,0,13,22,10,12,7,14,1,22,0,0,0,12,8,0,12,2,14,19,1,2,22,19,22,0,8,2,13,0,0,3,0,30,1,2,5,0,4,12,7,18,1,0,0,8,1,0,1,0,0,8,0,8,1,11,0,6,0,0,1,4,24,15,0,0,11,13,2,22,3,29,0,0,0,0,8,4,3,0,2,1,0,20,4,4,2,0,32,0,14,14,2,8,15,8,0,0,22,0,7,5,22,14,0,14,8,4,2,0,0,22,6,4,22,0,8,11,12,0,0,2,0,24,0,1,0,8,0,22,2,0,0,0,0,0,0,1,7,4,0,0,14,8,8,22,8,0,12,0,3,12,0,0,0,6,2,4,0,22,14,20,0,1,0,12,0,12,0,0,2,0,0,4,19,12,2,0,4,2,2,10,0,4,0,2,8,18,0,14,8,1,8,24,0,0,20,0,12,12,14,4,0,0,2,19,2,22,8,0,0,19,0,19,4,0,0,19,0,11,0,6,11,2,21,14,9,0,4,9,12,4,22,12,22,0,2,8,0,10,12,0,2,0,0,9,0,0,22,0,11,14,14,12,0,0,2,0,0,6,3,4,10,8,2,0,9,24,2,22,6,2,3,4,2,0,0,11,1,5,0,2,0,1,16,0,1,0,24,5,1,0,0,22,2,4,10,22,22,22,2,4,1,0,0,0,1,0,0,9,0,8,0,0,12,3,6,0,19,0,9,0,0,6,14,3,4,10,3,17,11,22,4,5,8,0,3,8,9,4,6,0,0,0,0,11,0,0,1,0,2,1,1,12,1,0,9,15,0,0,14,22,4,0,14,22,1,24,1,19,1,0,4,22,7,11,22,0,0,12,22,11,15,1,0,9,0,1,8,11,22,1,4,6,4,21,2,8,10,12,22,1,0,13,0,5,4,0,13,0,8,0,9,1,0,24,1,0,8,14,9,24,4,0,0,24,8,0,0,1,0,14,8,1,12,24,1,0,9,29,0,0,0,4,2,9,0,0,0,0,15,0,0,22,0,8,4,24,0,0,0,30,8,14,8,0,1,24,0,2,4,1,2,7,0,5,1,0,1,14,1,0,8,4,8,0,3,1,3,12,0,11,8,12,12,11,7,4,0,0,0,6,29,14,8,4,1,2,8,0,0,0,5,0,4,31,0,9,8,0,1,0,1,12,0,2,16,0,3,0,12,10,14,0,14,2,6,0,2,0,0,8,9,0,0,2,0,19,23,0,8,0,0,31,0,17,8,0,0,12,20,11,0,4,0,2,3,27,0,0,8,0,9,0,0,0,18,4,0,14,0,4,11,12,1,19,8,0,4,0,8,0,0,0,3,1,9,7,0,0,0,1,0,2,0,19,0,0,4,3,13,9,0,9,0,0,0,24,0,22,4,0,0,7,0,1,6,1,22,22,22,0,14,9,8,0,4,0,12,11,5,8,2,0,11,0,0,0,1,0,7,0,0,2,0,0,0,0,6,6,5,9,4,1,1,0,22,2,22,4,0,1,0,4,0,0,0,7,4,0,2,0,5,9,9,0,0,30,1,4,0,2,22,4,0,11,20,0,8,4,0,1,6,8,7,2,20,0,0,0,0,4,4,14,0,5,14,24,22,5,4,0,2,0,6,0,2,8,1,1,0,8,1,2,31,6,0,0,13,0,12,24,9,0,0,0,0,4,12,19,0,0,0,8,4,0,12,9,2,20,18,6,22,0,11,1,8,7,0,0,1,0,0,11,22,9,4,12,22,4,9,1,8,8,0,14,1,8,0,0,24,8,4,0,8,9,1,0,0,22,0,4,1,11,0,0,4,22,1,0,0,4,14,27,3,25,0,0,0,11,9,2,0,0,0,1,8,0,4,22,12,0,1,1,22,0,0,2,4,11,0,0,0,9,0,0,9,4,1,24,8,0,0,22,6,4,10,1,1,0,0,0,9,3,2,2,2,12,5,4,16,9,12,0,7,8,0,0,0,0,0,0,7,0,7,10,24,24,10,0,6,0,0,0,22,1,0,5,0,1,0,8,2,2,0,0,0,4,22,12,0,3,19,0,1,12,19,11,0,3,24,0,0,1,7,12,0,4,0,1,9,8,0,9,1,0,0,7,4,1,0,11,0,10,2,11,0,1,1,7,0,19,10,2,31,6,6,0,9,0,17,3,0,14,0,0,11,12,0,11,5,22,9,0,0,1,0,5,3,18,5,0,4,22,0,2,4,0,0,4,31,11,6,0,1,5,23,0,1,4,0,19,0,10,0,14,0,1,0,5,22,5,9,23,0,0,0,0,0,0,8,5,6,9,0,0,16,1,1,0,15,0,4,7,5,4,0,9,0,5,8,9,0,1,0,16,7,22,1,22,24,14,1,12,4,0,0,14,2,0,0,1,0,12,0,0,0,0,0,11,0,0,28,12,2,2,0,0,24,2,4,0,1,0,0,0,1,7,1,15,0,0,1,0,12,0,1,1,0,0,0,0,1,4,0,5,0,0,4,0,9,9,2,5,7,0,7,4,4,0,14,12,11,1,4,1,6,2,22,0,0,0,14,2,0,0,1,2,14,2,7,0,0,0,1,0,1,1,14,9,4,7,0,7,22,8,8,0,32,4,0,0,3,22,0,0,11,14,7,0,0,1,6,12,0,0,0,2,24,0,0,0,0,1,0,4,0,19,6,0,0,4,4,4,23,0,2,1,0,0,8,6,0,10,5,3,2,22,24,1,3,14,9,4,0,0,0,1,35,9,4,0,1,4,9,22,22,22,8,0,9,2,14,9,8,0,19,8,11,0,10,9,0,11,5,22,6,1,0,24,11,0,22,31,0,0,7,0,0,0,11,0,2,0,9,13,1,9,5,12,3,8,16,24,0,2,0,0,31,9,12,0,2,4,11,0,14,10,19,0,17,22,7,12,0,2,16,0,0,0,3,22,1,11,0,0,9,0,0,8,19,11,9,1,0,22,0,0,2,1,2,0,0,11,22,14,0,0,1,7,0,0,0,31,1,0,19,22,0,0,22,0,1,13,4,22,1,8,8,2,4,0,0,8,19,1,9,5,2,8,0,0,7,19,22,4,1,7,0,0,1,0,6,13,11,16,0,4,25,0,8,0,4,2,0,11,22,0,22,3,14,10,19,0,9,2,10,0,3,18,1,11,7,10,2,0,0,0,9,33,1,14,0,16,8,5,16,4,4,2,2,0,4,12,0,0,6,0,2,0,22,0,9,4,7,5,2,0,14,2,8,4,0,0,0,0,2,1,9,15,8,12,0,5,5,1,0,1,0,1,0,1,0,0,9,11,14,13,11,11,4,1,0,0,1,24,1,0,12,0,8,0,19,22,0,0,9,22,0,0,0,0,0,7,4,2,6,19,0,2,1,4,11,2,11,2,4,4,6,5,2,0,4,0,2,0,12,0,12,2,0,22,4,2,18,22,0,14,14,4,0,0,0,2,6,0,0,0,0,22,0,0,6,0,6,8,2,22,5,0,0,12,0,0,1,19,0,8,0,9,19,25,12,0,14,3,9,0,1,24,14,5,0,2,0,0,5,1,24,32,1,2,22,10,24,0,1,4,1,0,0,0,0,1,5,8,12,0,25,0,0,0,3,0,24,22,1,2,0,2,0,5,24,0,0,3,6,0,4,4,0,8,5,14,1,4,1,8,0,0,2,0,0,0,22,1,4,2,0,5,0,0,16,0,1,0,0,0,19,22,14,4,15,1,4,0,11,0,4,0,0,9,8,0,0,9,2,1,0,3,1,0,22,7,1,24,1,1,19,2,1,0,0,19,4,14,14,0,0,0,8,0,24,14,0,1,24,1,6,1,3,2,0,2,14,0,4,22,24,7,10,0,0,8,5,0,0,2,0,11,6,0,8,0,3,9,2,0,11,11,24,12,11,8,1,2,5,22,14,0,14,0,19,0,6,5,10,11,18,0,14,12,1,2,0,0,23,12,12,1,0,0,0,0,16,22,0,0,5,15,1,11,0,0,3,9,0,2,11,11,12,24,0,0,4,4,22,0,0,19,0,0,4,8,6,10,6,0,5,24,0,0,8,4,1,1,21,0,1,0,8,14,0,4,0,0,4,19,8,0,6,4,2,0,2,0,0,0,0,0,2,15,4,0,13,0,1,8,2,0,1,14,0,4,0,0,0,4,1,7,24,5,0,2,4,0,19,0,11,0,5,12,8,12,0,1,0,1,0,0,1,0,0,12,24,0,0,4,19,4,1,4,0,0,1,8,0,3,4,4,4,14,7,0,14,0,12,12,0,0,1,0,0,0,0,12,4,0,0,1,4,0,0,0,2,30,24,2,0,2,8,7,1,10,12,9,31,14,8,9,0,10,0,10,0,0,0,4,23,2,2,0,4,0,0,4,5,14,13,14,0,21,8,2,0,0,0,6,0,22,11,1,0,0,0,1,0,0,8,0,2,0,9,0,2,0,4,1,8,9,2,6,4,4,23,0,0,0,0,0,0,2,12,16,9,5,14,0,5,12,0,0,26,0,0,2,0,0,0,5,0,0,0,14,13,0,14,15,0,1,0,0,14,9,0,0,22,5,1,2,12,12,24,4,0,16,0,1,4,0,5,2,1,24,20,6,0,0,1,16,3,17,4,4,0,5,0,14,1,4,24,1,1,1,1,9,2,2,11,14,0,14,0,0,0,9,0,7,2,7,0,19,7,9,1,1,15,2,0,1,4,0,22,8,0,6,4,13,3,12,0,2,13,12,5,2,11,0,0,5,6,0,22,0,1,16,9,4,8,8,14,2,26,0,0,14,0,0,4,2,10,0,0,2,8,0,8,2,12,2,1,0,8,0,0,12,1,1,1,3,0,2,12,22,3,0,11,0,0,0,6,0,3,7,1,9,8,1,4,8,12,0,0,0,8,19,4,0,2,0,2,2,1,5,0,22,0,8,24,14,11,14,10,24,0,19,12,0,9,0,22,0,0,8,0,0,9,1,0,0,19,12,19,0,0,1,0,8,0,1,9,2,1,0,0,24,1,10,0,22,12,12,0,14,0,0,8,0,4,0,11,12,6,0,0,4,0,0,22,12,1,6,14,0,13,22,3,0,0,24,5,24,14,0,13,0,0,1,18,31,0,8,0,0,8,1,4,11,0,0,0,8,0,14,2,2,24,8,2,4,0,9,0,22,1,16,0,0,9,1,12,0,11,2,12,0,12,1,2,6,0,0,18,2,4,0,3,0,0,9,0,0,0,0,5,9,24,4,0,1,0,13,2,0,0,29,0,14,15,0,4,0,0,0,3,8,0,22,1,14,2,0,2,4,14,0,5,0,3,0,0,0,1,0,1,6,1,7,2,0,0,0,0,9,0,0,9,0,0,4,6,8,0,9,8,7,11,1,4,12,4,11,12,9,1,22,0,13,19,11,0,13,12,1,0,2,7,14,2,0,0,24,0,0,12,0,4,14,0,8,8,0,23,0,7,6,0,14,22,5,0,0,0,0,9,6,0,19,5,5,21,0,1,13,5,1,0,0,0,1,0,0,18,22,0,6,9,13,6,6,8,0,0,24,3,10,0,9,0,9,0,14,2,14,4,4,5,0,16,22,0,0,4,1,1,0,23,0,4,1,0,0,14,29,7,1,0,0,7,23,5,11,0,2,0,5,1,6,0,0,0,24,18,12,0,9,0,9,0,0,9,0,0,0,8,8,3,0,2,0,0,0,10,22,0,0,5,0,16,24,0,29,14,0,6,0,6,0,12,1,1,5,0,0,5,1,5,5,0,0,1,0,0,0,0,1,1,5,9,0,1,0,0,2,22,1,0,17,32,9,0,6,3,1,0,0,3,4,2,0,0,1,12,3,8,4,25,0,0,0,0,1,21,0,4,24,1,25,25,0,12,1,0,1,12,0,2,1,1,5,11,3,3,2,3,2,8,7,0,8,15,2,3,0,14,11,6,12,0,4,9,14,4,8,0,2,0,3,8,0,18,22,16,6,0,4,9,12,10,3,9,24,2,12,0,0,0,0,0,4,0,8,0,0,0,11,8,0,14,2,0,6,24,1,0,24,11,2,18,0,0,12,11,4,0,0,3,9,1,12,12,18,0,2,11,0,8,0,8,0,2,0,7,0,0,3,1,1,0,0,7,2,8,5,10,0,3,0,12,5,11,0,0,24,1,0,0,11,0,9,9,6,8,0,22,2,4,14,0,0,4,9,0,0,1,9,8,24,5,6,22,4,0,11,0,26,4,30,0,12,0,7,14,16,18,24,0,0,8,0,8,0,8,12,4,0,0,31,2,13,12,0,4,12,5,0,24,0,10,3,15,11,1,21,11,2,0,0,7,0,3,8,8,2,0,0,0,19,0,0,0,8,12,0,0,0,14,8,9,8,0,4,0,0,1,0,8,8,5,4,0,0,2,0,8,1,2,11,11,9,11,11,12,0,0,18,12,0,9,4,6,2,0,0,0,0,9,7,15,1,19,2,0,1,1,25,8,0,13,8,14,0,12,0,7,19,8,0,22,12,0,9,6,1,22,0,0,1,0,0,0,11,0,0,12,0,23,0,0,0,14,0,11,0,4,23,26,11,8,11,0,0,10,0,8,12,2,1,4,0,0,9,0,6,16,1,0,8,0,22,6,0,0,12,0,1,12,0,0,13,0,8,18,19,0,9,11,24,1,22,0,13,4,5,0,12,0,13,0,1,14,12,22,0,0,5,0,4,9,24,0,26,8,22,16,0,5,0,4,14,0,0,0,9,0,0,9,2,1,9,22,14,12,0,0,4,3,4,16,9,22,0,6,5,19,8,0,11,9,1,2,2,14,12,22,0,2,8,2,11,16,9,0,14,4,0,22,1,1,4,0,0,5,0,2,0,2,4,0,2,13,0,11,3,4,1,6,0,4,0,8,0,0,0,9,11,19,1,2,0,15,4,14,0,0,0,33,1,19,12,11,14,18,1,4,2,27,4,11,0,19,12,24,0,24,14,1,4,7,2,24,7,2,12,0,4,0,0,0,0,0,0,0,8,8,22,4,0,8,0,0,2,1,0,11,0,9,0,1,12,1,0,4,0,1,0,3,2,8,0,1,18,0,0,8,1,1,14,0,0,5,0,1,12,10,8,19,6,9,0,4,4,11,16,0,1,16,0,2,0,24,8,2,0,6,4,24,2,0,0,2,0,2,10,0,2,3,0,0,11,0,11,0,11,0,1,0,0,0,1,1,12,8,7,4,12,0,10,2,12,8,14,0,1,1,1,22,0,0,12,0,0,0,7,0,14,0,24,2,4,1,7,12,14,0,18,13,0,8,4,8,4,8,7,0,22,0,2,12,2,10,4,0,0,10,0,0,12,1,2,12,10,14,1,4,4,0,11,0,4,22,1,7,16,1,0,14,8,8,0,12,8,0,4,21,4,0,0,2,1,0,11,16,0,4,22,0,0,6,1,0,9,4,1,9,5,0,12,4,15,0,11,2,0,9,0,5,14,11,11,4,2,18,24,4,8,0,2,11,2,1,14,0,15,0,0,4,24,24,4,2,12,11,9,11,0,0,0,8,9,0,0,22,6,6,0,9,1,0,0,0,6,6,17,0,2,11,4,14,9,0,1,12,7,9,0,1,9,29,2,14,7,0,0,4,24,0,4,1,0,24,24,26,22,12,12,6,0,0,0,8,30,12,30,0,0,7,4,2,4,2,4,13,4,2,0,4,11,3,2,8,14,0,3,0,5,12,0,0,0,12,17,1,14,10,2,2,4,0,5,1,0,0,0,18,0,4,0,0,0,1,14,2,0,12,12,1,0,4,4,4,4,17,11,0,0,0,11,5,0,0,0,0,16,28,0,2,4,0,1,24,19,1,0,0,12,3,7,9,23,22,0,24,12,11,0,4,0,0,0,8,13,0,10,9,2,0,21,10,0,14,0,10,0,3,22,0,9,0,1,0,0,0,4,0,0,6,8,0,0,0,8,12,0,9,0,19,0,8,8,1,0,5,14,0,4,0,0,0,1,15,0,4,21,2,4,5,0,0,4,8,16,19,0,0,0,0,0,2,22,10,2,0,0,0,8,9,6,22,1,2,8,0,0,0,0,4,0,0,0,1,4,0,4,5,0,0,6,2,8,0,0,5,4,14,12,12,1,0,4,0,5,0,0,9,2,4,4,0,25,7,15,0,1,4,0,0,4,4,31,11,0,2,0,0,0,2,30,7,5,14,0,0,9,0,0,0,0,12,11,2,9,10,2,3,0,14,14,0,19,4,4,22,0,19,0,7,11,1,0,2,0,18,8,22,1,0,1,0,8,0,4,9,22,22,7,22,1,4,14,0,9,24,2,4,14,0,0,0,5,1,0,0,0,0,12,0,0,14,4,5,0,0,4,9,5,22,1,0,2,11,8,16,1,1,0,1,7,1,0,8,0,0,1,11,3,0,2,11,0,0,0,12,6,1,0,5,0,2,0,0,8,14,2,0,0,1,0,1,6,19,7,0,6,0,0,4,1,4,9,0,0,1,11,22,0,0,11,0,8,22,8,11,0,0,1,0,9,0,0,0,9,0,1,1,0,0,22,0,18,22,0,7,0,0,4,3,0,22,3,0,4,4,0,0,0,0,1,31,0,4,12,1,2,0,0,1,9,0,24,7,13,6,0,0,13,8,0,22,22,22,29,22,1,8,3,4,0,4,8,0,11,2,6,12,6,0,22,1,6,0,14,2,10,0,4,19,4,0,0,22,14,5,1,1,22,22,0,8,2,0,0,0,6,2,2,0,33,2,1,1,4,9,9,4,2,12,8,0,0,4,0,0,4,0,5,0,12,5,0,10,10,22,0,11,2,0,0,0,14,12,4,14,2,2,4,0,16,13,9,0,1,0,15,0,19,12,0,0,0,4,0,1,0,8,19,3,0,22,0,0,0,12,14,5,0,22,10,11,12,0,0,4,20,0,0,3,0,0,11,0,4,1,14,0,8,5,0,2,0,8,11,0,8,15,0,8,10,2,0,0,7,22,0,33,13,1,22,2,2,0,0,6,22,2,1,0,1,14,8,0,18,4,0,26,0,0,8,14,3,4,0,24,0,1,12,11,12,6,4,5,4,20,4,5,0,9,1,3,12,0,1,0,0,4,2,5,0,9,11,10,0,9,25,0,0,2,5,4,0,14,8,0,0,0,22,14,5,12,14,4,0,0,0,12,9,22,0,4,0,8,11,1,0,1,1,0,0,12,8,14,3,6,14,8,8,15,8,2,0,24,5,0,0,21,0,0,5,0,6,4,1,4,14,8,1,2,3,7,4,14,0,12,0,23,0,4,22,4,2,0,1,22,4,0,0,8,8,15,3,9,0,11,22,0,19,0,0,11,10,2,2,21,0,14,15,0,0,2,7,2,9,4,2,12,15,8,0,0,0,10,8,2,22,0,2,20,22,0,4,1,0,13,4,0,0,0,0,2,0,2,0,1,0,0,0,1,0,0,3,6,19,0,0,1,12,8,4,1,24,0,12,0,0,0,8,0,8,0,11,0,0,12,0,0,16,0,2,13,8,14,27,22,5,24,2,2,2,0,0,6,11,14,23,0,0,2,0,7,0,0,6,2,16,1,11,12,0,0,0,7,6,22,2,1,4,0,2,21,9,0,4,0,4,0,9,1,22,24,2,3,2,0,6,5,1,1,27,0,30,0,6,0,0,18,19,6,14,1,0,0,5,0,0,19,4,17,0,0,0,4,14,0,0,12,1,19,14,5,8,11,0,15,6,0,7,0,0,0,2,0,1,14,2,6,14,22,4,7,0,2,12,0,16,14,0,30,0,4,9,0,5,0,13,2,0,0,6,0,24,1,22,0,3,1,8,2,0,12,11,8,0,1,4,0,9,14,0,2,0,0,0,8,0,2,0,4,5,1,0,0,4,4,4,26,1,1,6,6,4,1,2,1,0,0,3,11,0,7,2,12,12,12,12,5,14,22,22,9,9,12,0,7,1,11,1,0,1,5,15,0,0,0,8,2,15,0,9,0,12,0,22,1,1,11,9,0,8,5,12,24,1,22,0,1,22,6,8,2,13,4,24,0,1,8,9,1,22,2,0,4,24,6,0,0,15,0,2,0,0,4,8,0,0,22,10,18,0,10,1,0,13,1,33,0,14,0,0,2,0,0,1,24,19,1,4,19,12,9,10,0,0,8,1,0,4,14,32,29,0,7,12,6,0,24,0,0,22,0,0,0,0,0,6,0,0,0,0,9,0,3,6,0,7,0,22,4,0,9,0,2,11,4,1,0,0,0,0,1,4,14,0,1,22,0,0,6,0,9,2,7,12,19,0,7,11,0,5,2,2,0,0,0,4,4,8,0,4,0,22,0,0,4,8,12,2,0,6,0,0,24,0,0,2,11,6,0,2,0,1,0,1,0,22,12,1,1,12,0,7,11,14,11,22,9,0,0,10,4,0,1,0,12,0,2,1,8,0,18,1,0,0,0,8,2,4,1,1,0,0,24,24,4,0,2,21,11,2,0,13,1,2,14,1,0,4,0,0,0,22,0,11,8,0,2,5,4,0,0,0,4,0,10,14,10,0,29,0,2,0,0,0,27,5,9,17,0,5,0,12,12,6,0,0,0,11,0,22,0,1,22,0,0,6,1,4,0,8,12,0,0,9,4,4,0,0,1,27,0,5,14,0,12,6,16,0,8,23,2,0,0,4,1,2,23,12,10,4,1,9,0,24,12,9,4,25,15,5,4,0,0,1,11,24,11,22,0,6,4,12,1,12,22,9,0,8,12,0,0,4,1,0,0,0,1,0,6,0,3,8,22,1,12,24,1,11,0,22,0,28,24,19,12,0,30,0,0,0,0,12,7,0,24,0,0,7,5,0,4,0,0,10,0,0,8,0,2,5,5,11,11,2,0,1,4,8,21,27,0,4,1,7,0,22,15,4,5,2,0,2,0,2,29,11,22,0,0,7,0,11,14,0,0,0,0,8,5,0,0,0,13,24,26,0,15,0,0,4,22,6,24,0,11,0,23,0,11,0,22,0,14,8,22,0,14,0,8,5,2,0,27,3,22,14,0,0,14,0,6,4,4,22,2,16,22,4,0,0,21,0,8,1,6,2,14,1,22,8,1,0,0,0,7,12,20,0,1,0,0,15,0,3,1,14,6,0,3,0,3,4,1,18,0,8,0,15,0,24,0,0,5,10,4,4,1,0,24,12,1,2,0,12,0,1,11,0,0,13,14,14,7,13,4,16,4,14,2,12,5,22,0,4,0,12,2,0,6,18,0,5,3,1,0,8,0,14,3,0,11,3,0,8,9,9,5,0,12,7,4,26,4,0,12,1,22,2,8,5,0,17,9,23,10,19,3,11,11,0,4,3,0,0,12,0,5,0,22,0,22,2,0,1,0,1,14,0,19,1,0,4,24,0,4,1,13,0,0,0,0,5,12,2,0,0,17,3,0,4,4,15,0,0,2,15,0,0,0,1,24,0,1,2,0,32,2,11,0,0,0,19,2,2,0,4,9,1,7,0,11,12,1,0,0,11,6,8,0,0,2,0,0,1,0,5,0,22,16,5,2,33,2,12,0,0,7,0,0,11,5,1,0,4,4,12,10,2,0,8,7,4,0,0,11,0,4,0,0,14,0,1,0,6,0,1,0,2,2,4,14,9,4,0,0,1,0,2,1,2,0,2,5,2,2,4,2,1,24,17,2,2,22,9,0,0,12,1,0,0,0,2,2,2,12,19,11,24,1,2,12,5,16,8,12,0,0,0,19,14,2,13,0,12,0,0,2,9,0,8,13,0,6,2,14,5,0,0,0,12,4,19,2,7,0,19,9,0,1,0,0,4,15,19,14,0,22,22,0,19,14,1,10,0,1,11,13,10,1,21,4,14,0,0,2,4,8,0,22,0,9,1,0,0,0,5,8,12,0,0,1,0,0,11,9,0,0,2,2,1,6,12,1,1,10,7,2,8,0,19,9,2,0,14,4,8,5,0,0,2,22,11,3,0,9,4,1,22,6,24,0,10,22,19,2,14,8,0,1,0,1,2,31,22,0,3,1,0,22,2,2,0,25,4,0,9,0,0,0,4,0,19,2,0,7,14,0,0,18,13,0,2,0,0,7,26,8,1,4,4,0,0,12,13,5,7,4,0,19,25,9,1,1,0,0,0,19,0,13,0,1,0,9,4,14,21,7,26,14,0,0,16,2,0,2,22,0,3,0,0,1,5,2,1,14,0,1,5,21,4,0,5,2,0,0,28,0,7,8,2,4,0,22,0,0,12,9,22,0,13,0,11,2,22,0,4,0,0,12,4,2,3,0,4,0,0,8,22,0,11,10,2,13,0,0,14,0,8,22,10,0,5,0,0,24,10,11,0,0,0,2,12,0,14,0,4,0,11,9,19,1,22,12,0,4,1,4,0,21,8,6,29,0,14,8,1,4,2,12,0,0,0,4,0,8,0,6,12,0,3,4,31,0,0,19,0,22,0,8,14,12,12,7,8,22,4,11,9,0,0,0,0,3,12,9,5,2,5,12,18,9,0,6,4,1,9,5,22,0,0,0,0,0,0,0,0,1,0,12,0,11,22,12,17,14,14,7,0,8,2,11,0,24,12,12,2,4,1,12,7,3,12,4,0,0,6,0,16,12,22,1,11,22,6,0,2,4,0,8,1,22,0,2,4,2,2,0,4,2,4,8,1,0,0,9,7,22,0,4,4,6,1,0,0,6,2,17,18,1,0,1,3,2,0,1,2,5,6,12,12,24,0,6,4,1,0,14,14,24,2,8,6,0,0,0,0,1,2,0,15,0,6,24,12,0,0,0,4,7,4,3,10,1,19,1,6,4,1,7,0,5,13,0,5,4,1,12,0,2,10,2,12,12,0,0,1,2,14,2,29,2,4,2,25,16,0,4,31,0,0,9,8,8,11,9,3,7,2,0,11,22,14,0,9,14,1,7,7,0,0,22,2,24,14,1,2,2,19,5,2,12,0,5,6,0,1,0,4,0,22,22,0,11,4,8,22,1,17,7,14,0,5,6,0,0,9,4,0,0,12,22,0,0,26,1,14,4,0,19,14,24,4,2,22,0,12,0,11,15,0,1,2,0,2,11,1,0,0,10,4,1,0,0,1,19,0,0,0,0,8,12,10,22,22,4,6,0,0,8,6,13,14,0,24,0,0,22,12,1,0,12,0,22,0,13,8,2,14,0,11,9,0,0,1,2,0,11,0,1,0,11,1,0,0,0,0,0,14,4,5,0,1,4,6,0,15,0,0,0,0,6,1,11,4,19,3,14,1,0,8,6,10,0,24,12,4,0,14,12,1,9,8,1,2,0,2,0,8,2,0,12,0,19,9,27,0,0,9,0,0,8,6,8,0,0,11,0,4,1,12,0,0,8,4,3,12,0,1,0,2,2,5,14,1,0,12,2,1,15,3,0,9,14,0,12,20,6,0,2,5,8,8,11,19,0,0,8,0,14,2,14,0,4,8,11,0,0,12,7,0,0,0,12,12,9,0,1,0,0,0,4,7,12,8,0,0,1,9,0,1,3,0,0,8,0,0,6,0,0,7,10,6,0,3,1,33,16,0,2,22,24,0,1,1,6,8,11,0,5,2,0,14,0,0,0,21,0,0,7,11,9,0,0,24,0,30,12,1,1,9,1,5,3,0,0,1,14,11,0,2,2,14,0,1,12,16,19,0,0,1,10,0,11,6,0,13,5,2,10,0,2,5,0,6,1,12,0,4,0,4,0,22,8,11,0,6,13,3,0,19,0,5,0,10,1,11,22,0,5,0,13,4,4,0,9,0,0,0,24,4,2,0,1,3,12,5,0,5,0,31,16,1,7,6,22,0,0,0,6,14,21,4,0,0,4,0,0,28,14,2,23,1,22,0,26,9,14,9,4,13,14,0,8,0,5,0,1,3,0,0,0,0,7,0,0,1,3,7,8,9,14,20,12,22,17,1,22,0,22,1,5,6,0,6,1,0,11,12,1,0,9,10,14,0,3,0,0,12,0,0,22,16,8,1,0,8,11,3,2,0,0,0,22,0,0,0,22,24,12,22,1,2,0,4,2,10,0,0,0,3,12,9,0,4,4,4,6,1,4,4,2,8,2,17,9,4,2,6,0,3,0,2,24,2,5,21,1,5,1,2,1,0,0,0,22,9,6,4,12,12,0,0,0,0,0,6,0,4,14,0,0,0,14,3,12,0,14,0,9,3,15,17,1,19,9,33,0,9,5,8,0,0,14,0,1,0,12,9,0,0,2,15,4,2,9,0,1,19,2,2,14,6,7,10,9,0,1,12,0,6,2,0,4,2,22,0,1,0,1,0,5,13,1,5,2,0,24,2,0,1,9,7,16,0,4,2,0,0,0,0,0,9,2,22,8,29,10,0,9,3,13,19,1,11,14,12,26,32,11,2,0,14,0,0,0,2,14,9,1,0,8,24,9,29,0,0,1,19,21,12,5,1,21,22,0,19,4,1,5,15,0,0,7,24,22,30,0,14,6,4,0,11,0,14,2,0,11,0,0,0,0,0,0,0,10,0,7,6,21,12,23,12,0,0,8,14,2,22,11,0,8,0,6,19,22,1,0,10,22,8,22,22,0,16,1,2,22,0,24,6,14,5,2,15,6,7,0,8,12,4,8,14,9,2,2,0,8,0,4,12,9,10,6,1,0,1,0,24,0,0,22,0,12,16,2,12,1,0,0,6,5,0,0,6,2,0,2,0,2,12,0,6,10,1,3,0,0,2,0,0,4,12,0,2,24,1,2,1,4,0,8,19,4,10,3,0,6,31,12,4,24,0,14,19,1,0,8,11,0,0,0,4,0,0,1,5,11,4,1,0,33,24,31,1,0,15,14,22,2,0,0,22,6,0,4,0,2,0,5,8,18,5,1,0,11,7,4,0,6,0,17,12,1,2,0,0,0,24,16,0,6,2,1,4,1,20,0,28,0,2,0,15,12,4,0,0,3,9,0,0,0,0,0,5,2,22,1,9,1,0,0,0,5,7,0,22,14,3,19,15,9,11,4,22,5,2,7,6,0,20,0,1,12,0,11,8,1,14,22,0,14,0,0,12,0,15,14,1,7,0,0,0,3,7,4,2,0,18,7,12,0,5,10,0,0,0,0,12,22,4,0,9,4,0,0,0,16,0,24,0,7,0,19,0,0,0,0,0,0,1,25,15,0,0,12,0,6,22,1,22,22,4,0,11,8,22,0,14,24,3,4,0,0,6,9,22,12,5,0,1,2,0,19,13,20,0,19,0,22,0,0,1,13,16,1,8,0,6,0,1,8,12,6,4,2,0,0,14,9,0,22,7,23,15,0,0,4,0,22,0,0,0,14,0,4,9,0,8,0,0,9,0,5,9,24,0,2,24,13,0,24,8,1,2,11,0,2,24,12,12,5,2,24,5,0,1,3,9,9,4,8,25,22,4,11,0,8,0,3,10,6,0,12,16,1,0,1,0,0,0,0,0,1,24,12,0,4,0,10,0,5,4,2,0,0,5,18,4,22,5,8,14,2,19,22,0,9,8,7,0,22,0,0,0,3,14,2,3,0,26,9,4,0,1,0,0,0,2,24,14,0,0,0,4,11,1,0,27,0,1,2,0,1,18,0,9,0,0,10,0,0,12,24,4,3,5,0,23,10,9,1,0,11,24,14,0,3,4,1,27,1,10,7,0,2,1,0,0,8,0,0,0,14,8,14,4,0,4,14,4,1,0,0,8,4,0,22,8,5,0,15,2,7,0,14,1,5,8,3,0,0,0,22,0,4,14,0,0,28,1,6,4,0,13,0,0,1,29,0,0,0,1,12,8,0,12,14,19,8,0,22,22,11,14,2,0,11,0,4,9,0,22,1,1,7,4,1,3,22,0,9,13,3,2,22,6,0,11,3,11,3,12,0,1,4,0,6,0,1,0,1,2,4,6,0,0,4,11,6,9,9,11,1,14,0,8,12,14,12,22,12,9,7,4,4,10,0,1,19,14,0,5,19,0,21,12,0,0,1,0,0,11,31,2,9,14,3,1,1,9,0,8,3,22,16,1,1,3,5,32,5,31,2,0,4,1,24,2,8,2,2,12,4,4,9,24,0,9,8,0,0,0,0,0,0,15,2,24,1,2,0,1,1,0,0,10,1,0,14,0,0,0,22,4,0,0,0,9,3,0,0,0,0,4,12,0,22,11,0,0,11,1,0,0,1,0,6,7,11,0,0,14,1,0,2,21,0,12,0,9,6,0,0,0,12,0,0,0,4,1,4,0,10,9,0,6,4,0,13,4,16,4,0,0,13,22,6,0,0,5,0,0,24,1,0,22,1,2,2,6,1,8,0,24,14,0,0,24,24,8,1,2,0,11,0,0,0,7,2,8,4,0,12,12,2,4,4,4,19,0,0,2,4,22,16,0,31,2,4,4,0,4,0,0,12,0,0,0,11,2,0,4,0,2,0,22,2,1,23,0,11,1,22,0,14,9,0,24,0,1,0,5,11,2,1,4,0,5,1,0,0,1,12,0,0,10,19,15,25,11,9,4,20,16,5,14,4,0,29,2,0,6,1,0,0,0,19,0,0,0,1,0,2,0,10,11,0,11,1,2,19,6,0,11,2,32,4,11,6,4,13,1,0,0,14,2,4,2,3,0,0,0,0,18,1,0,0,19,22,11,12,4,0,4,0,0,1,14,11,11,11,12,9,22,18,4,24,1,12,0,0,2,6,20,0,6,0,0,3,13,0,0,14,13,0,2,4,6,0,1,0,12,1,0,0,0,11,24,1,6,7,4,0,12,0,8,1,18,4,4,0,0,9,11,4,0,8,5,0,0,0,0,0,0,2,1,4,3,0,5,4,1,4,0,22,16,14,12,4,19,0,0,16,0,4,18,1,8,1,10,0,16,2,0,0,21,6,0,0,22,4,1,0,0,0,6,8,4,14,0,3,4,0,25,4,1,0,14,0,0,0,0,0,1,4,0,0,2,31,0,0,8,19,4,8,4,5,14,11,15,0,0,0,2,0,0,4,5,1,1,1,9,10,9,8,12,9,3,0,20,12,0,10,4,14,0,12,1,5,1,11,0,22,0,18,0,1,1,4,0,5,1,0,0,12,1,19,0,0,8,24,1,0,4,9,6,6,0,0,12,7,8,0,0,0,2,22,18,9,0,4,22,0,19,7,0,19,0,0,2,8,3,0,1,0,0,0,28,4,14,0,7,0,8,16,0,0,0,11,7,0,9,27,24,8,7,13,2,7,0,2,0,2,8,0,0,12,0,11,0,4,2,22,1,11,19,2,2,0,12,2,0,0,24,10,11,0,0,0,19,0,10,0,12,10,0,18,0,1,22,8,4,19,1,1,1,0,10,11,2,14,19,1,8,22,0,0,2,0,14,2,0,16,12,4,0,4,0,0,8,0,19,1,0,11,4,0,4,0,0,15,0,0,0,0,2,12,4,0,0,0,27,0,0,15,1,19,4,8,1,24,8,0,16,4,14,5,0,8,22,0,2,7,23,3,12,0,22,12,4,1,1,14,0,22,0,0,0,8,21,18,22,0,0,0,13,0,1,3,11,22,1,0,0,0,10,11,8,19,0,1,11,5,12,4,8,4,0,0,2,0,12,2,6,12,22,0,0,11,0,28,2,22,0,7,9,8,1,6,0,3,1,8,0,23,0,0,8,0,2,0,2,11,0,23,5,14,11,4,2,0,0,1,1,2,1,0,0,4,0,1,1,0,1,12,1,0,0,0,22,5,4,0,4,4,6,0,0,8,2,4,2,12,19,6,0,4,0,2,5,1,5,2,7,12,1,0,0,1,0,0,5,12,16,12,0,11,18,3,0,12,1,9,10,1,19,0,0,0,0,0,12,0,6,12,8,2,0,4,2,0,5,2,14,22,1,15,0,0,4,4,4,1,2,0,3,24,0,13,22,8,5,14,7,1,0,1,3,2,12,18,4,0,22,0,22,3,0,2,25,12,0,0,0,0,14,9,12,5,0,1,0,5,0,2,8,8,9,11,28,12,2,7,8,14,22,22,0,2,1,9,0,2,0,15,1,1,0,2,22,1,1,13,9,0,1,11,18,0,12,22,1,11,1,4,1,21,12,0,9,9,7,9,31,2,0,4,0,0,4,5,0,4,0,12,4,11,0,19,2,16,14,1,0,0,12,9,22,4,1,24,11,24,0,0,12,1,5,1,2,0,21,5,12,9,0,12,0,3,13,1,11,0,8,2,2,0,1,4,3,0,0,4,0,14,9,22,0,12,8,7,8,0,4,0,0,6,0,0,5,0,0,1,12,1,7,14,8,0,0,1,0,7,0,1,1,0,2,12,0,1,16,22,14,13,1,2,0,14,12,0,0,31,12,11,19,0,4,1,0,1,0,0,2,8,0,6,9,12,19,8,0,0,0,0,4,12,0,8,0,0,12,0,2,8,0,4,12,9,22,9,5,7,4,0,1,8,23,0,22,0,5,8,0,0,12,4,0,4,0,14,20,5,4,4,0,5,2,33,0,0,31,1,18,8,0,0,21,0,16,12,0,1,22,22,9,0,3,6,1,0,4,7,0,0,1,4,2,7,12,0,8,11,12,8,9,4,12,0,11,18,8,0,1,2,20,12,9,0,0,11,0,6,2,4,1,0,1,12,8,0,4,0,0,12,2,1,0,0,2,7,0,2,2,12,16,3,0,14,8,0,22,5,8,1,0,8,11,4,0,5,0,5,8,0,19,6,9,18,0,1,0,1,0,0,1,4,11,6,12,10,0,12,0,0,0,9,6,11,8,0,1,3,2,8,14,0,1,0,1,6,22,15,24,2,0,3,22,4,0,0,11,0,1,14,0,0,22,2,1,24,1,5,1,0,0,14,0,0,14,4,7,6,0,24,5,6,2,0,5,8,6,12,0,0,12,3,9,8,2,1,15,24,0,11,0,8,5,12,12,6,0,0,19,4,0,1,0,8,22,4,7,0,0,2,2,0,22,18,2,0,4,0,0,5,0,4,16,0,4,0,0,0,12,10,12,4,4,0,8,0,20,0,8,9,2,1,16,12,0,14,0,4,0,0,4,0,0,0,8,12,0,0,9,22,0,2,8,8,0,2,9,0,0,19,22,16,30,0,14,2,10,4,4,0,22,0,1,0,1,1,1,0,32,0,0,7,24,4,0,5,0,7,0,4,2,3,12,0,14,0,2,12,0,0,0,1,0,2,0,2,1,4,0,0,30,22,2,1,2,4,6,14,9,0,22,0,10,7,22,0,0,0,24,0,0,0,8,9,15,22,16,4,0,0,2,6,0,0,3,9,0,12,4,4,0,0,4,0,13,1,0,7,0,11,8,14,1,22,13,3,0,1,32,5,2,0,0,0,12,12,0,1,0,0,0,0,9,7,0,0,0,2,4,1,1,6,8,22,0,0,11,8,0,0,0,18,0,12,0,9,4,0,1,0,5,0,1,0,0,0,2,13,5,17,4,0,33,0,1,22,14,5,9,1,14,3,8,3,7,31,5,12,0,2,0,0,0,0,1,1,4,5,0,8,0,12,11,0,2,2,6,0,7,0,0,0,0,2,24,11,5,22,13,0,11,0,2,13,0,2,9,0,21,5,1,8,0,1,14,0,4,0,12,4,19,21,7,0,13,4,0,0,0,9,19,7,4,23,6,2,4,4,19,23,0,22,6,22,24,5,2,5,5,2,9,0,0,0,14,14,0,0,26,3,10,0,0,0,14,12,4,0,0,0,8,0,0,4,22,0,22,1,2,6,7,2,1,1,0,1,0,0,0,4,1,14,7,4,0,9,14,2,22,19,0,1,2,12,12,11,1,12,0,4,12,10,15,9,12,5,2,0,4,12,0,0,1,10,1,0,9,0,7,22,9,0,0,4,22,1,8,2,0,0,0,14,0,4,22,0,0,12,0,9,14,24,6,14,0,22,11,11,24,9,4,18,0,7,19,11,0,4,5,14,0,15,0,14,13,0,11,14,17,11,24,14,22,14,11,0,12,1,8,0,1,0,13,0,0,7,0,1,16,0,0,4,5,8,8,1,0,14,22,1,26,19,0,11,8,0,0,5,4,0,14,24,9,4,0,5,0,1,6,0,17,8,3,1,6,0,10,14,11,0,0,0,1,13,11,4,4,8,0,5,0,10,0,0,8,5,0,2,0,15,22,14,4,8,0,0,0,0,12,0,2,2,0,12,10,21,0,26,1,0,23,0,2,10,24,8,4,0,2,7,4,1,0,29,0,0,5,0,1,19,8,10,1,17,11,22,0,2,1,9,0,0,4,4,2,14,11,8,8,6,0,22,14,9,2,1,5,4,5,0,0,0,11,1,1,14,22,24,0,0,0,0,1,0,1,1,0,1,0,12,2,31,9,4,0,10,2,1,10,0,14,4,3,4,14,8,7,22,14,19,2,5,1,1,12,14,6,0,9,3,1,4,10,0,1,0,2,12,9,0,2,0,12,0,4,19,0,0,15,2,0,22,1,6,0,4,0,0,0,4,0,5,1,5,2,1,22,2,0,0,13,0,15,0,1,6,9,2,17,11,1,2,0,0,10,0,12,5,0,0,4,26,12,4,8,0,22,16,2,8,1,14,0,0,2,9,12,4,4,14,8,22,11,2,1,19,4,0,24,0,12,0,11,2,2,2,0,2,2,2,5,1,0,9,1,2,1,2,0,6,4,0,22,12,0,22,0,1,22,0,0,0,4,19,4,12,7,8,4,11,11,0,9,5,10,0,1,4,3,0,2,36,0,2,0,5,2,24,0,0,0,0,0,0,12,14,0,14,7,0,9,5,7,11,2,11,7,0,24,27,1,1,29,0,1,3,4,24,11,0,0,0,0,0,0,0,1,0,4,0,22,2,0,0,12,4,4,1,0,4,0,2,2,14,0,10,0,5,0,0,0,0,0,9,4,0,4,9,0,1,30,0,0,2,7,4,0,14,0,0,0,0,1,0,22,5,9,7,0,0,15,0,5,24,1,4,10,5,7,12,11,12,5,0,24,0,16,0,14,0,0,21,0,12,4,8,4,9,1,22,0,14,0,11,0,2,5,22,8,2,12,4,0,8,0,8,12,4,0,8,2,9,1,1,12,10,0,8,18,1,23,4,0,0,6,0,1,14,0,4,24,12,1,4,13,0,12,4,0,0,22,12,0,19,18,0,0,17,7,1,0,3,8,9,8,10,12,0,3,2,0,4,6,1,3,0,4,9,4,0,9,0,11,13,0,13,2,15,4,8,1,0,22,0,4,1,0,6,8,14,8,22,0,0,14,0,0,3,24,0,19,22,6,0,11,14,11,2,7,9,0,6,1,8,11,2,1,2,0,23,2,11,10,22,0,18,11,0,8,8,0,22,1,9,0,24,1,6,0,0,1,24,1,1,0,2,0,2,8,0,6,2,0,2,4,14,0,0,20,8,1,9,14,16,0,8,0,12,0,1,0,3,12,2,0,26,0,14,8,2,0,4,17,4,0,1,12,1,2,0,18,2,27,0,0,8,0,11,4,0,0,0,0,14,2,0,0,11,16,19,0,0,19,14,10,8,3,24,1,4,14,0,4,0,14,24,21,0,19,4,10,7,8,0,2,21,0,6,4,9,9,15,1,4,1,0,10,6,0,0,9,0,6,0,14,11,0,1,1,0,0,1,9,5,11,8,2,0,19,0,2,0,4,8,8,0,0,14,2,1,0,1,5,9,9,0,0,1,0,16,6,9,2,0,2,19,1,1,0,0,1,19,0,0,4,14,0,5,0,0,5,8,0,15,0,8,6,0,9,2,10,5,14,1,9,0,2,0,4,14,0,4,3,2,2,0,2,4,2,2,0,22,4,22,0,4,6,22,8,4,1,22,5,0,0,14,14,1,9,0,6,0,0,24,2,1,9,4,1,6,5,0,13,6,2,5,12,1,0,0,0,4,6,0,2,12,12,0,0,1,8,0,0,10,20,4,4,2,18,7,0,4,0,3,4,8,18,4,0,1,0,8,11,16,0,2,22,2,0,0,11,8,0,5,3,4,2,8,9,16,0,0,0,0,14,6,32,11,2,1,9,0,4,0,0,0,14,21,0,8,1,3,1,22,0,0,17,8,14,0,0,11,12,8,22,22,0,4,1,0,13,0,22,6,0,14,4,9,0,11,0,0,1,5,2,7,0,0,1,11,2,3,0,0,5,4,20,0,0,0,0,0,6,2,6,3,0,5,22,0,0,0,24,7,1,19,0,0,12,22,0,0,0,24,3,14,0,2,4,8,5,23,5,12,0,0,22,8,0,1,2,4,0,0,0,8,12,1,2,12,1,0,23,11,22,0,0,0,0,0,0,12,0,0,5,0,4,29,0,9,8,0,2,0,26,1,20,12,0,0,4,4,2,15,0,0,5,4,0,10,0,4,3,0,0,3,12,5,0,32,22,3,4,0,0,2,0,3,9,4,4,1,8,10,3,8,22,0,0,1,1,0,4,0,0,22,0,8,0,2,1,0,0,12,11,5,1,0,6,0,2,4,22,2,0,0,0,0,2,0,0,20,0,14,0,0,0,3,23,4,0,0,18,0,12,6,0,14,0,0,4,0,0,1,30,6,1,1,0,1,0,14,11,5,0,1,1,22,12,7,0,5,18,2,10,6,19,0,9,2,1,0,12,2,11,13,4,0,13,9,13,1,0,19,0,24,12,8,6,0,8,0,7,0,14,0,2,0,1,1,22,4,1,0,14,0,11,3,1,8,0,12,12,24,11,31,29,9,4,2,4,1,0,8,0,21,0,22,22,0,4,0,1,0,2,14,0,2,2,1,0,2,0,14,0,11,7,17,5,1,6,9,7,6,0,4,11,9,2,4,10,15,1,2,1,0,0,1,6,4,0,0,0,11,25,0,14,1,0,0,11,0,0,9,0,7,8,1,0,4,15,10,13,7,9,22,14,0,12,17,11,11,0,14,0,0,0,10,0,4,0,14,4,0,0,1,10,1,0,5,9,0,6,0,5,10,0,0,9,5,4,4,5,2,14,0,12,19,2,3,1,0,5,12,9,9,22,4,13,22,0,4,19,1,22,22,2,12,0,13,13,0,2,2,0,4,0,1,2,9,0,8,1,3,2,0,13,1,12,1,4,1,6,11,16,1,12,5,2,0,1,0,6,4,0,12,0,0,1,16,1,0,4,12,1,4,5,1,0,0,0,1,1,0,5,25,0,0,8,11,0,14,0,11,12,27,0,14,0,2,2,6,1,0,32,6,0,0,12,11,4,20,7,1,4,2,0,8,5,5,2,0,1,24,0,3,0,0,19,22,12,11,22,6,22,5,2,0,0,14,8,11,4,0,0,1,34,0,10,24,0,1,9,0,9,3,19,7,1,18,0,0,12,11,0,6,1,10,4,1,30,12,8,4,19,7,0,4,11,19,4,4,7,0,4,9,19,1,1,6,22,0,9,2,0,1,0,14,0,11,5,11,0,7,19,4,0,27,0,0,12,4,0,1,4,10,19,6,0,0,6,0,16,0,0,3,7,4,1,1,4,0,18,13,12,0,15,21,1,12,15,10,4,1,0,1,0,0,14,25,1,4,0,0,4,1,12,2,7,6,0,8,8,0,12,0,0,4,7,9,31,2,14,0,5,2,11,0,0,13,12,0,1,1,31,11,0,0,1,0,8,10,4,4,2,0,31,22,0,0,0,3,19,0,1,12,0,0,0,0,4,0,0,6,13,2,24,16,1,8,1,0,0,24,0,0,4,17,6,0,14,0,0,0,0,0,13,23,4,23,0,9,1,2,12,12,10,22,2,0,0,0,12,0,7,1,12,9,1,0,0,22,0,9,5,11,0,0,12,0,1,5,0,4,0,2,0,0,1,4,5,0,24,0,8,6,0,2,6,2,0,33,1,6,4,2,0,7,9,0,0,0,0,22,0,5,0,4,1,8,0,1,0,12,2,0,17,26,0,4,6,0,0,11,6,22,7,0,24,24,0,0,24,8,15,3,2,23,24,6,0,0,0,0,0,9,10,0,0,0,12,14,14,0,1,0,6,1,6,0,22,2,2,0,0,0,0,4,0,11,11,0,13,0,0,6,10,1,4,2,0,7,13,0,8,2,31,9,0,21,0,5,2,0,0,12,0,0,2,24,0,18,8,0,4,1,0,8,4,22,0,1,19,2,4,0,2,2,0,0,1,1,6,13,12,0,22,11,0,0,4,4,27,22,0,12,0,0,1,4,0,0,0,0,0,2,3,17,0,12,13,5,0,0,22,0,0,1,0,8,0,0,14,0,1,12,1,24,24,0,0,5,3,22,11,9,1,1,5,0,2,13,1,4,12,0,0,14,1,19,6,0,14,0,14,12,10,5,0,0,8,17,18,0,14,0,4,1,8,8,22,22,4,14,0,1,11,12,0,14,11,4,12,20,0,0,0,0,6,11,5,24,6,0,1,1,9,14,14,4,5,45,0,23,0,9,1,0,2,5,4,9,14,11,0,0,0,17,8,4,22,1,11,11,22,0,0,12,22,0,4,0,0,14,2,12,0,0,2,0,1,4,2,1,0,5,0,12,24,6,2,6,8,0,0,4,18,12,4,0,0,8,26,22,0,24,7,11,4,13,1,1,0,18,14,0,0,0,0,0,0,1,0,26,12,6,0,0,24,1,0,9,8,0,0,11,5,0,6,8,4,24,24,0,0,1,6,11,0,0,1,1,12,0,12,0,14,6,1,1,0,11,0,14,2,0,2,12,0,11,9,19,1,2,22,1,11,13,7,11,1,1,6,24,6,10,0,2,10,11,2,1,8,0,8,8,4,0,0,0,6,6,1,0,10,0,0,4,4,1,6,0,2,8,0,12,11,6,0,0,1,4,8,2,0,0,8,5,0,1,2,21,2,0,22,13,14,16,15,1,19,0,17,15,14,4,3,18,0,24,0,22,4,9,0,14,2,21,0,22,12,14,6,9,0,12,1,16,0,14,17,5,5,0,1,6,7,7,0,2,12,0,0,2,0,0,0,1,1,8,0,1,22,16,0,0,1,0,4,0,7,10,2,3,1,4,14,2,22,0,0,0,0,8,0,1,2,24,0,12,0,2,6,2,0,1,0,12,0,1,9,0,11,11,0,0,1,9,4,11,19,15,5,0,10,4,11,0,0,0,22,8,0,4,2,12,0,1,0,0,2,0,0,0,4,8,0,2,24,0,24,4,8,0,22,9,0,0,0,22,4,12,5,0,22,0,2,0,0,12,0,20,2,4,5,1,12,10,0,16,8,2,0,4,4,9,0,8,0,22,4,0,14,4,4,0,4,0,0,0,5,0,1,0,4,9,2,9,0,7,6,0,8,9,1,14,14,3,0,2,0,0,0,2,0,4,0,24,14,4,0,2,4,4,4,12,2,11,14,5,13,6,2,22,22,11,4,0,5,8,2,0,31,1,1,22,0,0,4,22,0,0,11,22,4,12,18,14,14,2,1,11,0,28,6,1,0,2,0,0,0,0,0,1,0,0,21,18,22,0,0,14,8,24,10,13,0,0,0,12,4,4,22,1,0,13,8,0,8,2,8,2,5,12,1,5,12,0,0,1,0,0,23,12,12,14,1,12,22,3,0,4,7,0,14,14,15,4,0,14,0,9,12,0,2,4,0,8,2,19,0,1,22,14,6,0,1,12,9,0,0,4,0,8,0,6,4,0,0,0,0,0,0,4,0,0,0,12,19,1,0,8,0,0,0,0,0,4,2,22,0,22,0,14,11,12,0,11,0,0,1,0,1,14,1,19,24,14,7,0,8,1,7,0,3,0,5,1,0,1,0,0,14,2,4,0,0,0,4,4,3,0,1,12,9,7,10,12,0,10,0,1,0,3,14,7,0,0,4,7,22,1,4,2,12,12,15,2,13,2,8,0,0,8,10,4,22,2,4,0,4,0,1,4,12,10,11,0,14,5,4,0,0,0,6,11,8,0,22,0,2,20,8,24,0,14,7,5,22,0,30,4,20,4,0,9,1,17,0,12,2,12,0,0,0,0,0,4,8,22,4,0,0,0,5,6,4,4,1,5,0,0,11,24,1,16,1,9,0,12,0,0,1,2,11,0,0,0,9,0,6,12,0,5,19,0,9,7,0,0,14,22,1,0,6,12,2,0,10,0,0,0,4,14,16,13,10,0,4,9,0,14,2,5,0,12,12,0,0,22,0,0,0,8,22,8,30,2,7,0,6,1,11,22,4,1,0,6,1,27,0,24,4,1,1,8,2,12,4,0,13,14,0,1,1,15,0,19,22,6,0,24,4,8,0,2,2,0,0,1,0,0,11,0,0,0,7,0,0,0,0,0,0,0,4,0,7,8,0,0,0,5,0,9,0,4,0,7,0,0,0,0,0,0,0,4,0,0,5,0,0,6,7,0,0,16,0,2,0,11,21,0,7,4,8,7,15,4,0,2,20,0,0,19,0,0,6,9,6,0,6,17,14,0,0,0,10,6,0,0,11,0,10,5,10,0,5,4,4,11,0,1,7,0,0,7,0,0,0,7,0,7,0,0,0,0,0,13,0,0,9,10,0,8,4,0,7,0,0,0,2,12,0,0,8,0,0,0,0,0,4,3,0,1,0,0,8,2,12,13,8,22,10,4,0,4,0,1,0,0,0,7,4,0,1,1,0,0,0,0,4,0,0,0,0,0,0,0,0,0,0,6,0,1,8,0,3,3,6,10,6,4,12,0,27,11,24,0,12,4,0,2,0,0,5,2,0,0,0,0,0,0,5,0,0,0,2,0,7,16,1,13,0,0,0,1,0,0,0,0,6,0,0,13,0,0,0,0,4,0,0,0,7,1,0,3,5,0,0,15,9,0,11,0,5,0,0,5,8,0,0,0,0,9,0,9,9,1,0,0,2,6,0,0,0,3,1,5,0,3,0,13,0,0,0,0,0,5,0,19,0,0,6,6,7,2,0,0,22,5,0,3,2,0,0,13,0,0,0,9,0,4,0,4,10,2,0,0,0,0,0,14,0,8,4,0,9,0,0,0,0,7,0,0,4,11,0,0,17,0,0,10,10,5,5,0,2,0,7,7,16,0,0,2,0,0,10,7,4,0,0,5,10,15,0,0,0,12,0,0,0,0,0,0,0,3,0,0,2,0,0,0,0,0,0,3,0,0,9,4,0,1,0,4,0,0,0,0,0,0,0,2,0,1,5,0,0,0,0,5,0,0,0,0,8,22,11,0,5,9,0,0,0,0,0,5,0,0,0,0,0,8,11,13,0,0,1,0,0,0,0,0,4,0,0,0,0,0,0,5,0,10,6,0,0,0,0,0,4,5,8,0,0,0,0,4,8,4,4,0,11,0,7,0,11,3,0,0,0,9,0,8,0,0,0,0,0,1,11,22,0,2,7,0,0,2,0,8,0,0,1,0,0,4,0,0,4,0,0,4,0,0,1,10,22,0,0,5,0,0,4,0,1,0,0,0,0,0,0,7,0,0,0,18,6,5,0,15,19,0,0,0,5,0,0,11,5,6,0,4,2,7,4,0,0,0,0,1,0,0,0,0,0,0,0,0,6,0,7,5,0,0,0,0,0,7,0,0,0,0,0,11,2,7,0,0,2,3,8,5,1,4,0,4,6,2,0,0,6,0,19,0,4,0,12,0,0,12,5,0,1,7,0,6,1,0,2,0,5,9,3,0,2,0,0,7,0,0,0,0,0,3,0,0,7,7,0,0,1,0,0,0,0,0,0,0,0,12,0,0,9,4,4,5,0,2,1,0,0,0,10,0,0,0,2,7,1,6,0,0,0,0,0,0,0,0,0,1,1,0,7,0,0,0,0,0,0,0,1,0,8,14,0,0,0,0,1,0,0,3,0,0,0,0,5,0,0,1,4,0,0,4,22,0,4,0,6,0,0,0,1,0,0,0,9,1,0,10,0,0,7,0,0,7,0,0,0,0,8,0,4,0,4,1,0,0,5,0,0,0,6,16,1,4,8,0,7,0,0,9,0,5,5,0,4,0,0,0,0,0,0,0,10,2,1,0,0,0,6,10,4,4,4,1,3,5,0,0,11,6,5,0,2,4,14,1,20,11,0,1,23,0,4,0,0,6,5,0,0,0,0,2,0,19,0,3,12,0,0,4,0,0,11,6,5,0,3,5,1,0,0,5,5,0,0,5,9,22,0,4,0,4,0,1,6,6,4,0,2,11,4,0,0,3,13,3,5,1,0,8,0,0,12,0,0,5,0,0,1,0,0,0,6,0,1,0,0,0,0,1,0,0,0,4,10,15,0,0,5,2,0,9,8,11,0,0,3,0,0,0,6,0,0,1,0,12,0,7,3,0,6,0,0,10,0,0,6,3,6,0,12,0,5,1,0,0,0,10,0,7,0,0,0,0,3,0,0,0,0,10,0,0,0,0,21,3,0,1,0,11,0,1,1,0,0,0,0,0,4,0,0,8,0,1,0,3,0,0,17,0,0,0,0,5,4,0,0,3,0,0,6,0,16,1,0,0,0,0,0,5,14,11,0,7,0,0,0,2,12,4,0,7,0,0,0,0,3,12,8,0,6,0,0,0,12,0,0,0,17,0,0,5,0,0,0,9,0,19,0,0,13,0,5,0,0,8,0,4,0,7,0,2,4,0,1,0,0,0,0,0,0,19,4,4,17,0,0,0,0,0,0,3,0,2,0,0,1,3,0,12,0,0,0,0,0,0,0,0,0,6,8,0,1,0,4,0,0,0,0,5,0,0,0,2,0,0,0,0,3,0,10,7,3,0,19,0,0,0,0,0,0,0,3,0,12,0,19,0,0,7,0,1,5,11,0,0,3,12,0,0,6,7,4,15,6,0,4,0,0,0,0,0,0,0,0,7,0,0,6,0,0,0,14,0,0,0,0,0,0,0,0,0,0,5,0,5,0,0,0,0,0,0,0,0,1,0,0,0,0,0,0,0,0,6,0,0,0,2,0,0,0,0,0,3,0,6,16,4,6,18,0,0,0,19,6,0,6,0,0,9,0,0,8,3,0,0,0,0,0,8,12,0,0,0,13,7,7,0,0,3,0,17,10,1,3,8,0,0,0,3,0,0,5,4,5,7,18,0,1,0,0,0,0,5,0,0,0,0,0,0,7,1,0,0,0,0,7,9,0,0,0,0,16,0,0,0,0,7,15,0,5,0,0,0,0,0,0,0,0,13,10,3,0,0,0,0,11,0,7,9,0,0,0,6,0,0,0,8,2,0,0,0,0,3,0,11,0,7,0,0,5,0,0,6,0,1,0,0,0,1,1,0,0,0,0,0,7,5,9,0,0,0,0,0,0,0,0,0,0,15,0,0,0,0,21,2,0,0,5,0,1,0,6,0,3,0,0,0,0,5,4,0,6,0,0,2,4,2,0,9,0,0,0,0,0,0,0,0,5,0,0,0,7,9,2,0,0,0,0,1,2,0,0,10,8,3,8,1,1,2,0,0,4,11,12,5,0,0,0,7,2,1,2,0,0,9,22,0,0,6,15,0,0,0,0,4,0,4,0,0,0,0,0,0,8,0,1,5,16,0,0,0,0,0,0,0,0,0,0,22,0,0,11,0,3,4,4,4,0,0,7,0,4,4,0,0,0,0,1,0,0,7,0,4,0,5,1,0,0,0,0,0,0,8,0,0,2,0,0,0,13,11,0,0,0,8,0,0,0,0,11,0,22,0,7,0,8,0,0,0,2,0,16,0,5,0,0,0,5,0,6,0,5,0,0,9,0,0,2,0,0,0,0,0,1,2,0,0,0,19,5,0,0,1,11,0,12,9,0,3,0,0,0,7,22,0,5,0,1,0,2,0,0,0,0,5,0,0,5,4,8,21,8,0,0,0,2,0,0,2,0,4,15,0,0,7,20,0,5,0,0,0,0,0,0,0,0,0,4,0,0,0,0,5,10,6,0,0,0,0,0,0,3,0,4,0,22,0,3,2,0,0,0,4,11,0,0,0,0,15,0,0,0,4,11,0,0,0,0,0,2,4,8,3,4,3,0,0,0,0,0,0,13,0,3,0,0,0,0,0,0,0,0,0,0,0,2,0,0,8,5,0,19,0,4,0,0,0,4,6,0,0,0,0,11,0,5,2,0,0,11,1,0,0,2,4,1,8,0,0,0,0,0,0,0,10,0,0,0,5,0,0,3,0,0,0,9,6,0,0,0,2,0,0,5,4,0,0,0,0,11,0,0,0,4,10,0,0,11,0,8,0,6,0,0,0,22,0,0,18,0,0,0,2,4,0,0,0,0,0,0,11,0,0,0,5,16,0,0,0,1,2,1,3,0,0,0,0,9,0,0,22,0,1,0,4,0,0,3,0,0,5,0,0,2,3,6,0,0,1,0,0,1,0,0,0,0,5,1,0,0,12,0,0,0,1,0,0,0,0,0,0,10,11,0,0,0,0,4,0,2,0,0,4,0,4,0,8,16,19,0,0,0,3,0,0,0,0,0,1,0,0,0,0,0,0,3,0,0,0,5,0,0,5,0,15,0,0,15,1,0,4,0,0,0,11,0,6,5,10,1,0,0,0,0,5,0,12,4,0,9,0,0,0,0,0,22,7,0,0,0,0,3,0,8,2,9,0,0,0,12,0,4,0,0,0,5,6,9,10,0,12,0,0,0,0,1,0,0,14,0,5,6,0,0,0,9,0,21,19,0,0,0,0,9,3,0,0,1,4,0,0,10,1,0,0,0,9,0,8,0,1,5,0,0,16,10,0,0,0,0,0,8,6,5,14,0,0,0,0,0,3,0,2,0,0,4,4,0,0,0,7,11,0,0,5,17,0,10,0,4,7,0,0,0,0,0,0,2,5,1,0,2,19,0,0,1,3,0,9,0,1,3,0,1,0,16,0,0,0,0,0,15,0,0,7,4,2,18,0,5,0,0,0,0,0,11,0,3,0,8,4,12,14,0,0,0,0,0,0,0,0,10,7,0,0,2,0,1,0,8,0,1,0,0,4,14,1,0,0,8,0,14,0,10,6,4,4,0,0,9,0,0,0,0,17,0,0,0,0,7,1,0,9,0,5,4,0,0,0,0,0,4,0,0,0,0,0,0,0,0,0,0,5,0,0,0,3,0,0,0,1,9,4,0,0,0,0,0,0,0,0,8,0,7,6,0,4,0,0,0,0,0,6,0,0,0,0,0,0,0,5,0,0,0,0,0,0,9,0,0,5,8,13,3,0,0,8,2,0,0,0,0,0,0,0,1,4,0,6,0,0,9,8,0,0,0,0,0,6,0,0,19,2,0,5,0,0,5,0,15,0,0,1,6,0,0,0,2,0,0,0,13,0,3,0,7,0,0,0,4,0,0,11,5,7,5,0,0,0,1,0,2,0,9,0,0,0,0,16,1,6,6,0,0,3,0,0,4,0,0,0,0,0,10,0,0,0,0,0,4,0,0,0,0,5,0,0,4,0,0,0,0,0,5,2,1,0,0,18,0,0,0,0,5,9,5,0,10,17,0,4,0,0,0,0,5,0,4,0,0,0,0,0,18,5,6,0,0,2,1,0,2,15,0,10,0,1,4,0,0,0,3,4,4,0,0,0,13,4,0,0,5,0,12,3,0,0,0,0,9,9,8,8,3,5,0,4,0,0,0,0,18,8,0,0,2,0,14,0,0,14,0,0,0,0,0,0,0,0,6,0,0,4,0,0,0,0,1,0,0,0,0,0,2,2,0,6,0,12,3,10,8,6,0,0,6,0,1,2,8,10,2,0,8,0,0,0,0,9,0,0,0,0,4,0,0,0,0,1,0,5,19,0,0,0,14,0,0,0,0,0,5,0,4,0,0,0,0,14,5,1,0,5,0,0,0,0,1,0,0,0,0,0,0,0,0,0,0,0,0,3,2,8,15,0,0,6,0,13,0,2,0,0,0,0,2,12,0,0,0,0,0,12,7,6,0,0,7,5,12,8,0,15,0,0,1,5,0,0,0,0,0,1,6,0,4,0,9,0,0,0,2,0,10,7,0,0,1,0,0,0,0,0,0,0,0,4,3,5,7,0,0,19,5,0,0,9,0,5,2,25,0,0,0,7,0,13,0,6,0,1,0,1,1,0,7,2,0,0,0,9,0,0,6,0,0,0,3,2,0,0,1,0,0,2,0,1,0,0,0,4,0,0,7,5,0,0,1,0,3,0,8,0,6,0,13,0,0,14,0,0,6,0,17,0,0,0,3,0,0,0,9,10,15,0,0,0,0,0,0,0,0,0,0,1,0,0,0,0,0,2,0,0,0,13,0,18,0,0,0,0,0,12,5,0,0,0,0,0,0,0,0,15,0,0,1,1,4,0,4,0,3,0,0,1,0,0,7,0,2,0,0,3,0,4,0,0,10,0,0,20,0,0,0,0,15,0,10,0,0,8,0,16,10,0,0,0,0,0,0,5,5,0,0,0,4,0,5,4,6,0,0,0,0,0,6,0,0,6,0,0,1,2,6,6,0,0,25,0,6,2,0,0,4,17,0,1,6,4,14,0,0,0,0,0,5,0,4,0,0,7,2,0,0,22,2,0,0,3,0,0,0,0,5,0,9,1,0,4,0,0,0,0,0,1,1,0,0,13,0,4,0,4,0,7,9,0,0,12,11,8,0,3,5,0,9,10,0,7,0,0,10,0,0,12,0,5,5,0,1,0,0,0,0,0,4,0,4,0,6,0,0,0,6,0,0,0,11,9,5,0,6,0,5,8,0,10,0,0,1,0,0,4,12,0,0,2,24,0,0,11,1,4,14,0,3,0,22,0,0,0,0,9,0,0,15,13,0,0,0,0,11,11,7,0,7,0,0,5,0,0,0,0,3,0,5,0,0,0,0,0,0,0,11,4,12,22,0,0,2,0,3,0,5,0,0,2,0,0,0,0,0,0,0,0,2,0,3,0,0,0,0,1,1,0,8,0,0,0,0,0,0,0,3,7,11,0,0,0,0,5,0,0,0,7,3,6,0,0,0,0,0,0,0,0,0,0,4,1,6,3,5,12,12,0,0,0,0,9,3,8,3,3,0,2,0,10,0,7,7,0,4,0,0,0,0,0,0,0,0,0,0,0,1,16,4,0,0,1,17,15,0,0,12,3,0,5,5,12,0,0,0,2,9,0,0,1,0,0,6,0,8,1,1,0,12,0,0,5,0,2,5,7,0,0,0,0,0,6,3,0,0,0,0,16,0,1,4,0,0,10,4,7,0,0,0,2,3,0,4,0,0,0,3,5,0,0,4,2,5,0,0,0,0,0,0,0,2,0,1,9,0,9,0,0,0,5,1,0,11,0,10,5,0,2,0,0,0,0,15,0,0,14,6,4,0,0,12,0,0,4,0,0,0,0,0,0,0,2,10,0,5,0,0,11,0,0,0,12,0,10,0,8,5,14,6,8,0,0,11,0,0,0,19,7,0,1,0,0,0,0,0,0,0,1,0,0,0,9,0,0,0,1,0,2,0,9,6,0,0,0,0,0,22,6,0,0,0,0,0,0,5,5,0,7,3,11,8,1,0,2,0,12,3,0,0,6,5,0,0,0,5,0,0,0,0,0,0,0,0,1,1,0,0,3,0,12,0,0,0,4,9,0,0,0,0,0,0,0,0,4,13,0,0,0,6,0,15,5,0,0,0,0,0,0,0,0,0,0,12,3,0,9,4,0,0,0,2,8,0,0,1,0,1,0,3,1,10,0,0,8,0,1,7,13,1,0,0,0,1,0,0,0,0,0,0,0,2,5,2,0,0,0,0,0,0,0,0,0,7,0,12,0,11,1,2,0,0,0,0,0,0,12,1,0,0,1,0,0,0,0,0,0,0,0,0,7,0,5,0,7,5,0,7,0,0,6,0,5,0,2,1,11,0,0,0,1,5,5,1,4,0,0,0,0,0,0,0,0,0,0,0,0,0,10,4,2,0,2,0,0,2,0,7,10,1,10,0,0,0,0,0,0,0,4,0,0,7,0,1,11,0,0,0,0,0,6,0,0,0,0,1,0,0,5,0,1,0,0,0,0,7,14,16,2,0,4,2,0,13,0,0,6,0,0,0,6,7,0,0,14,3,3,0,0,2,17,0,0,2,0,0,0,0,5,1,0,0,0,0,0,0,0,4,0,0,0,0,3,8,0,0,0,0,0,15,0,0,0,6,0,4,7,18,8,0,0,0,0,2,5,0,0,0,0,0,0,3,0,0,0,0,0,4,0,0,0,7,0,4,10,0,1,0,1,0,0,0,9,0,4,2,0,8,0,19,0,0,0,10,0,0,0,0,0,0,0,0,0,1,2,0,8,0,6,0,2,0,0,22,0,22,8,6,0,0,0,0,3,5,0,0,4,0,6,0,0,0,6,0,4,0,0,6,13,0,3,0,0,18,0,0,9,0,0,0,0,6,0,2,0,2,9,0,13,0,0,0,13,1,0,0,12,3,8,0,4,0,4,0,0,0,2,0,2,1,0,0,0,2,4,0,1,3,6,0,0,8,0,0,0,5,0,0,0,11,0,0,0,4,0,1,0,10,4,2,0,1,4,0,0,0,0,0,0,0,0,0,0,7,0,0,5,0,6,0,0,7,0,0,0,0,0,14,0,0,10,0,5,0,0,0,0,14,14,0,3,0,0,4,0,0,9,7,6,7,0,0,0,0,0,8,9,0,3,0,0,4,4,0,1,0,0,0,0,0,0,0,1,0,0,0,8,4,18,0,8,12,1,0,0,1,0,3,5,0,0,12,7,5,0,5,0,0,0,14,9,0,0,0,8,8,4,3,0,0,0,0,0,0,0,0,0,0,0,9,0,0,0,0,0,0,2,0,1,0,0,0,0,1,0,0,0,0,0,0,0,0,1,0,14,0,0,0,0,0,0,0,0,0,0,0,0,4,5,1,0,0,0,0,0,0,0,1,2,0,0,9,0,0,0,0,4,0,0,0,0,12,0,0,0,0,0,0,21,1,8,0,0,7,0,0,13,14,0,1,0,1,0,0,0,0,0,5,0,0,14,5,4,0,1,16,0,0,0,0,5,0,6,0,0,0,4,10,0,13,7,13,0,0,1,0,0,0,5,0,1,0,0,8,0,0,0,0,0,0,10,0,0,0,0,0,3,0,0,0,12,0,0,0,2,0,1,0,5,10,9,4,0,7,0,7,5,6,10,0,0,0,0,0,1,0,9,2,0,4,2,0,0,0,0,0,4,0,2,0,0,0,0,10,9,0,5,0,0,0,5,0,0,0,0,0,0,5,0,3,0,0,0,3,0,0,0,0,0,0,4,5,0,0,0,11,0,17,0,13,0,0,0,0,0,0,0,8,0,0,4,0,3,4,10,0,0,0,0,0,0,0,1,0,0,0,3,0,0,7,0,5,1,0,0,0,0,7,0,0,0,9,0,0,0,0,15,1,0,0,0,0,0,1,2,4,0,0,7,0,0,0,0,5,2,6,0,0,0,13,0,0,0,1,0,7,0,5,0,0,6,3,1,0,0,7,0,12,0,4,4,0,0,0,0,2,15,0,5,0,0,0,2,0,0,0,0,0,6,13,0,0,14,0,0,0,0,5,0,3,0,0,0,1,0,0,3,0,0,0,10,12,0,0,0,0,1,0,0,0,0,10,0,14,0,0,26,8,7,5,0,0,2,0,0,8,0,0,0,0,9,0,2,8,0,0,0,5,0,5,21,0,0,0,7,0,1,0,5,4,13,0,1,0,7,4,0,0,0,7,0,0,0,0,0,0,8,0,0,0,6,0,0,0,0,7,18,0,0,4,0,11,0,0,3,0,0,0,5,15,0,4,0,1,0,3,0,5,2,0,1,11,0,0,0,0,19,5,9,5,0,0,0,0,0,1,5,19,18,23,0,0,1,5,0,1,0,13,11,5,2,5,0,0,0,0,0,0,0,0,1,0,0,0,6,4,0,0,0,1,5,0,0,0,5,0,0,0,0,10,0,5,13,9,1,5,0,15,0,0,6,0,12,0,5,11,0,11,0,7,1,0,4,0,0,8,0,0,6,0,2,13,0,0,7,9,0,4,8,0,0,6,1,6,0,0,0,22,0,3,0,0,0,5,0,0,0,3,2,0,4,6,4,0,0,0,2,0,8,8,0,0,0,7,3,0,12,0,0,9,0,7,0,0,6,0,3,0,0,0,0,22,12,12,0,2,0,3,5,1,4,0,0,16,2,9,0,0,5,0,9,0,6,6,1,0,0,0,0,0,4,0,0,0,6,0,0,0,0,0,0,0,0,0,13,0,5,5,0,6,8,0,0,1,0,0,14,5,0,0,0,0,0,0,0,0,4,0,14,0,0,0,0,1,0,8,0,8,4,0,5,3,7,0,0,0,7,5,1,4,0,0,0,0,0,8,0,13,0,0,0,7,0,2,0,0,0,0,6,8,0,0,0,4,10,0,7,6,0,0,0,0,0,1,4,2,2,0,0,7,0,17,6,0,8,0,7,0,2,0,0,4,5,0,0,0,3,0,1,2,1,0,0,0,0,0,0,4,0,12,0,0,6,9,0,0,0,0,16,0,0,0,0,0,0,13,10,2,7,7,1,0,3,0,2,0,0,0,0,0,0,0,0,5,0,0,0,1,0,0,0,0,0,0,0,0,0,0,5,0,0,1,2,0,0,0,0,0,5,8,0,0,0,12,0,5,0,0,12,0,0,7,3,8,0,19,0,0,0,0,0,0,0,5,0,0,0,0,2,0,0,4,5,2,0,8,0,0,0,0,7,0,9,0,0,0,11,0,0,11,0,6,22,5,0,0,5,0,22,0,4,4,0,7,0,0,1,1,0,0,0,0,9,7,0,13,0,5,0,5,0,0,0,11,0,0,10,0,0,22,0,0,0,0,11,12,6,0,4,0,9,0,0,0,0,0,0,0,0,0,3,0,1,0,0,0,0,0,2,9,3,4,10,5,0,0,0,5,7,0,0,5,9,0,0,8,7,0,0,12,0,0,9,14,0,2,2,1,0,0,0,0,0,0,0,0,0,0,0,0,0,0,0,5,0,0,0,0,0,0,1,0,0,7,0,0,1,0,0,0,0,0,5,2,6,1,2,0,0,0,1,0,0,0,6,0,5,0,5,0,0,5,0,0,0,10,3,0,0,0,14,13,2,0,9,0,4,0,0,7,0,0,4,0,0,8,0,4,0,5,10,7,0,0,2,4,0,0,0,2,1,5,0,0,0,17,6,0,0,4,1,5,8,0,8,0,0,0,0,0,11,0,3,5,0,0,0,0,16,3,10,4,2,0,0,0,0,0,0,0,0,0,21,0,0,0,8,10,0,4,0,0,3,0,0,0,0,0,9,0,1,0,0,1,1,12,8,3,0,2,6,0,0,0,0,5,7,24,5,0,0,1,0,3,6,0,12,0,0,0,0,0,4,0,0,1,0,8,0,17,8,0,0,0,0,9,4,4,8,0,0,0,0,5,8,11,0,0,11,0,0,0,5,0,14,18,14,0,0,0,3,0,0,1,4,0,0,0,2,5,0,0,7,0,0,8,0,3,0,5,0,4,2,1,0,8,0,0,8,0,0,0,5,5,2,5,0,4,0,0,0,10,0,3,25,0,0,10],\"y\":[6,5,6,7,7,8,5,8,4,7,7,4,6,8,3,5,3,1,5,3,3,4,5,8,3,3,6,8,4,4,5,5,6,4,5,4,3,3,4,3,5,5,5,4,5,2,7,5,4,3,4,5,5,5,5,5,8,8,7,4,3,5,3,7,5,10,3,6,4,3,3,7,5,5,5,6,5,4,8,5,8,4,8,5,5,6,5,5,8,4,5,5,4,8,3,4,5,6,6,5,4,5,4,4,7,4,8,8,5,8,5,5,3,5,5,6,2,5,5,3,5,5,4,8,5,3,8,10,7,3,4,5,6,10,3,3,5,3,4,5,5,3,8,6,3,3,7,5,6,3,5,7,7,6,5,6,5,5,7,5,5,5,6,8,5,2,5,4,5,10,6,8,5,8,2,5,4,7,5,3,5,5,4,5,11,7,4,4,6,5,8,5,5,3,5,10,5,4,8,3,4,5,5,8,3,3,3,5,5,5,5,3,7,3,8,7,5,8,4,5,5,5,2,5,5,5,5,5,2,4,6,5,5,5,3,5,6,8,5,6,5,7,5,6,2,3,5,3,5,2,5,3,8,5,5,8,8,5,5,5,7,8,8,8,5,3,6,3,5,3,8,5,6,3,5,8,4,5,5,4,3,8,3,5,7,5,6,7,11,6,7,3,1,3,5,5,5,7,5,6,3,5,8,5,5,3,3,5,5,6,5,7,3,4,5,5,5,5,3,4,5,5,8,8,8,5,3,3,5,7,7,8,3,5,5,4,3,5,5,3,3,4,7,7,8,7,3,5,5,7,7,6,5,3,6,5,5,5,3,4,3,5,2,8,3,6,7,2,5,4,4,3,5,5,5,4,5,5,4,6,3,5,5,5,5,5,7,7,3,3,5,5,5,2,5,5,3,7,7,4,6,5,6,5,7,3,4,5,5,5,3,5,5,3,5,5,6,3,5,5,8,5,6,13,3,4,4,7,5,3,5,4,5,4,5,5,5,5,4,12,11,7,8,2,5,5,3,5,7,1,5,8,5,7,4,5,5,7,8,9,6,4,18,4,4,5,5,3,7,3,6,7,3,3,4,5,3,7,5,4,5,5,8,5,5,3,5,8,7,7,4,5,9,3,4,5,5,3,5,8,8,5,5,2,4,5,5,5,5,5,3,7,8,4,5,8,4,4,5,6,5,2,5,7,5,5,7,8,4,7,5,6,5,3,6,6,6,5,5,3,5,5,4,3,5,3,5,4,5,8,5,7,8,4,6,7,5,8,3,4,7,8,5,8,3,3,3,6,7,8,3,5,5,7,5,3,5,8,4,5,3,4,5,4,6,3,5,13,5,3,3,5,3,3,6,5,4,4,5,4,4,3,2,5,7,5,3,5,3,3,8,4,8,6,3,5,5,5,5,4,3,2,5,5,7,3,5,3,3,5,3,6,3,6,8,8,5,3,5,5,7,3,7,5,3,5,6,3,1,3,3,8,3,5,5,5,4,8,3,5,5,7,4,7,3,6,8,3,5,7,5,4,7,5,3,5,7,5,8,3,6,8,3,5,8,3,5,5,4,5,5,5,5,3,5,7,6,5,5,4,2,8,6,3,4,5,5,5,8,7,5,6,7,5,4,5,3,4,2,3,6,4,5,5,1,5,2,3,2,3,8,3,6,5,5,4,4,8,5,5,3,7,5,5,3,7,7,8,3,5,5,5,8,5,7,8,6,5,6,3,3,7,6,8,4,5,6,8,7,4,5,5,6,4,18,8,3,8,4,2,6,5,5,8,5,5,6,3,5,5,7,8,5,10,5,5,2,5,5,3,3,6,6,4,5,3,7,5,5,5,4,4,3,5,8,3,4,3,5,4,5,5,4,4,5,8,5,5,3,5,4,6,5,6,5,5,7,5,8,4,4,3,5,7,5,6,3,3,3,6,7,5,3,3,5,7,3,6,4,8,7,8,6,5,6,7,5,3,5,5,8,8,4,7,5,8,3,4,3,5,7,3,6,5,5,5,8,6,4,5,5,5,5,5,5,8,5,8,5,4,4,2,3,7,3,2,5,5,8,7,3,4,5,5,7,5,6,4,5,4,4,3,3,3,6,8,3,2,4,3,5,3,5,5,7,8,4,6,6,4,5,4,5,5,8,8,5,4,5,4,6,3,5,5,5,10,2,7,5,4,3,8,4,3,4,3,6,7,3,4,1,8,5,5,2,3,4,3,5,5,8,3,5,3,7,5,5,5,6,3,8,8,7,4,5,3,3,5,2,5,4,4,6,2,3,5,5,3,5,4,5,6,9,3,5,3,3,4,3,8,5,5,5,3,3,7,8,5,11,10,4,8,3,5,3,6,5,7,6,8,4,5,5,5,4,8,8,5,5,8,6,8,5,5,5,3,2,3,5,4,3,8,8,8,3,5,5,3,3,3,5,4,3,7,8,8,4,5,8,5,5,4,5,2,6,5,5,8,4,5,1,7,3,9,8,3,7,5,5,7,5,3,5,6,7,5,6,5,6,8,2,4,3,5,3,8,8,5,7,19,8,5,2,7,3,3,3,6,5,5,5,5,5,4,3,3,7,6,5,3,4,8,3,3,11,6,3,3,4,5,5,5,5,5,4,8,5,4,5,4,7,3,8,8,2,7,3,3,5,6,5,6,8,3,5,2,5,10,4,4,5,5,5,5,5,5,5,5,3,7,2,5,8,3,5,5,5,3,4,4,3,5,3,5,3,5,8,5,3,4,3,8,5,6,5,9,6,5,4,6,8,4,5,4,5,3,7,4,3,8,4,5,3,3,5,2,7,3,8,6,7,5,6,3,5,7,7,8,4,5,5,7,8,4,5,5,8,5,4,6,3,5,4,4,6,5,5,7,3,3,7,6,3,5,4,7,3,4,5,8,3,8,5,5,8,4,6,3,5,8,5,5,4,7,3,6,3,7,8,4,9,5,3,4,3,5,3,8,5,4,5,4,4,4,4,8,6,8,4,7,3,4,4,5,5,3,4,7,4,5,8,5,6,8,4,6,4,3,7,5,4,5,9,5,4,7,5,5,4,6,8,3,11,8,6,5,4,5,8,8,3,3,8,5,6,8,7,7,8,3,8,5,5,6,7,3,8,3,3,8,5,5,4,3,5,5,5,5,4,1,8,5,3,3,6,6,3,5,3,3,3,5,5,5,6,10,8,5,4,5,3,5,3,3,8,5,1,7,5,4,3,4,3,5,5,5,5,6,5,7,7,5,3,4,5,5,6,5,3,4,8,3,5,3,7,4,5,3,7,4,5,4,5,3,7,5,5,4,2,3,5,5,5,3,7,3,3,7,5,4,8,5,8,6,4,5,3,5,5,6,6,5,8,4,5,5,5,7,4,8,8,5,5,5,3,5,5,4,3,3,4,5,9,7,6,7,3,3,5,7,8,8,3,4,5,8,8,7,5,5,3,5,3,4,6,2,4,8,5,8,4,5,7,5,8,5,5,8,5,8,2,5,5,3,3,5,3,5,8,6,5,4,5,3,7,5,7,7,4,8,7,4,3,4,4,6,5,5,5,4,7,6,3,2,5,7,3,4,4,3,3,5,5,8,3,11,5,3,4,3,5,8,7,5,5,5,3,3,8,5,8,5,3,4,6,4,5,3,8,3,5,5,6,7,3,8,3,7,5,4,3,6,8,3,5,3,5,5,2,5,4,8,4,5,8,5,6,3,10,10,5,8,5,3,8,5,5,8,4,4,4,5,6,5,2,5,1,10,6,5,5,5,7,6,8,3,5,6,7,5,7,5,3,7,5,4,1,5,7,4,4,4,4,4,5,5,7,4,7,5,6,9,6,4,4,5,5,5,6,2,5,5,5,5,7,7,5,4,5,7,8,3,3,5,6,4,5,4,9,3,5,7,3,4,4,3,5,7,5,8,5,5,3,7,5,2,8,4,3,7,4,3,10,11,3,5,13,5,5,10,2,4,4,3,5,7,9,8,3,3,5,5,3,5,8,5,3,5,6,5,5,5,7,7,5,5,8,3,6,5,7,5,4,7,8,8,5,4,5,5,8,3,5,5,5,4,7,3,5,2,3,5,3,5,3,5,4,3,5,7,5,5,5,2,8,7,7,7,3,5,4,3,5,7,4,6,5,5,8,11,6,8,6,5,4,4,5,5,8,5,5,3,8,3,6,3,3,8,9,5,6,5,3,5,4,3,8,5,5,3,3,5,7,3,5,5,4,7,4,5,4,5,7,4,5,4,4,8,5,5,3,5,3,4,5,8,3,4,7,7,5,3,5,5,4,5,7,3,5,5,4,5,5,5,5,3,4,4,2,5,4,5,5,2,5,4,3,5,3,3,3,4,5,4,5,5,5,3,3,4,5,6,5,8,5,7,5,7,7,8,5,5,5,7,11,12,5,8,11,3,4,8,7,4,5,5,3,5,4,5,5,5,7,4,4,3,4,5,5,5,9,8,3,8,7,8,8,5,7,8,5,5,7,5,5,5,3,7,3,6,6,6,5,6,3,7,5,4,3,5,5,5,7,7,6,6,6,6,3,5,3,5,5,4,7,6,6,3,5,7,3,4,5,3,7,6,5,3,4,7,8,5,7,5,5,7,5,5,5,7,4,5,5,10,4,8,7,7,5,3,8,3,5,5,6,3,5,5,5,6,5,5,3,5,5,3,4,6,7,5,5,3,4,4,5,7,3,7,10,5,6,4,5,4,3,5,12,3,4,5,7,8,5,7,6,7,5,5,11,6,5,5,5,6,8,5,4,5,4,5,3,4,5,2,7,3,5,3,9,3,4,8,5,3,7,8,6,5,8,5,4,8,6,6,2,8,5,8,8,5,3,4,7,5,3,4,3,4,8,7,3,8,5,4,5,4,5,7,6,3,8,4,4,2,5,4,5,5,4,6,6,3,4,5,6,5,7,5,3,5,6,5,5,4,3,3,5,3,5,5,6,7,5,7,5,4,5,5,5,5,5,2,2,3,8,4,5,3,5,5,5,4,5,5,4,7,5,3,6,5,5,5,5,3,7,5,5,5,5,3,9,4,3,4,6,5,3,2,8,5,5,3,5,5,5,3,7,5,3,8,6,9,4,5,5,5,3,7,7,4,4,5,3,4,8,4,4,7,4,5,5,5,7,5,4,3,5,5,9,6,10,3,5,5,5,5,7,3,6,5,3,5,8,3,5,3,7,4,8,3,5,4,5,5,8,6,3,5,13,4,8,4,7,5,5,2,5,7,5,5,4,5,5,5,5,5,5,5,3,7,5,3,3,11,3,5,5,8,7,7,8,8,5,5,5,5,7,4,6,5,4,6,3,5,5,6,6,5,5,5,5,3,7,3,7,5,3,5,3,6,9,7,7,5,4,3,4,3,5,5,3,3,3,5,2,7,7,4,3,5,8,3,7,5,3,5,2,4,3,10,4,5,3,14,7,3,3,3,5,3,6,4,3,9,5,4,5,2,7,3,3,3,5,7,5,7,10,8,5,5,7,7,5,8,5,7,5,5,6,4,5,5,5,3,5,5,5,3,3,3,4,4,8,5,6,4,5,7,3,9,4,4,5,3,5,8,5,5,5,8,5,5,5,3,3,5,5,5,5,7,5,2,3,3,4,5,7,5,5,6,5,3,7,3,5,8,8,3,7,3,3,5,5,4,5,6,3,5,3,5,8,9,3,4,5,4,8,6,5,5,5,6,3,5,5,6,3,5,5,6,8,3,3,3,5,3,6,6,7,7,5,5,4,4,8,7,3,5,8,5,5,5,8,3,5,3,5,3,5,4,4,4,5,8,4,3,1,5,3,3,5,3,5,6,3,3,3,5,4,8,5,5,3,6,5,7,5,4,8,4,4,8,7,4,3,5,2,4,7,5,5,4,5,5,5,5,5,3,7,5,5,7,4,5,4,4,6,4,5,3,5,6,4,6,3,8,5,5,5,5,5,6,5,6,3,5,4,3,5,8,2,5,6,4,2,4,5,7,4,5,5,5,5,5,5,5,7,3,10,5,5,5,8,5,6,5,7,5,4,3,5,8,5,3,6,12,4,4,4,12,7,5,5,5,3,8,7,5,5,4,7,3,3,10,4,6,4,3,5,5,4,10,3,3,8,5,7,5,3,6,8,3,4,3,6,8,5,4,5,5,4,2,3,7,21,8,3,3,3,8,12,4,3,3,5,5,8,5,5,6,5,3,5,2,4,5,5,5,5,5,8,5,5,8,8,5,7,7,8,5,9,8,4,4,3,5,6,5,5,4,7,3,8,5,7,5,5,3,5,5,6,7,3,7,5,5,5,5,5,3,3,5,3,5,8,6,2,5,4,3,5,4,5,10,4,3,5,5,8,8,4,5,7,5,5,2,6,5,3,8,5,5,4,5,4,4,7,7,4,5,5,2,4,3,4,5,5,5,8,7,5,5,6,5,3,4,3,8,8,2,8,5,3,5,5,3,7,8,5,6,4,3,5,5,5,5,5,5,5,8,3,5,4,10,6,5,6,5,7,8,5,7,3,3,6,6,8,2,5,7,7,6,8,2,3,3,5,4,3,5,8,5,5,5,6,5,4,5,5,5,8,4,6,2,8,8,3,3,3,8,5,8,5,9,5,8,9,5,7,3,3,5,3,7,4,6,8,4,5,3,5,3,8,3,3,3,5,5,3,5,3,5,5,1,3,8,8,8,5,5,3,5,3,5,3,5,8,2,7,3,6,7,5,5,4,4,5,3,5,6,5,5,3,5,4,3,5,3,5,4,3,4,5,6,7,8,8,5,5,8,4,3,10,5,7,5,5,4,5,5,7,5,3,3,2,3,4,12,5,3,3,8,3,5,7,7,4,8,6,3,5,8,3,4,9,8,6,4,5,5,7,3,2,5,8,5,4,8,3,5,4,5,5,3,3,6,8,4,9,5,4,4,8,3,3,5,5,6,5,3,5,3,7,4,5,7,5,5,5,5,3,5,4,4,5,3,5,3,5,3,7,3,8,7,4,5,5,2,5,5,5,5,5,3,3,3,7,8,5,3,3,7,3,3,5,4,7,3,3,5,4,4,5,5,3,4,8,5,3,3,5,6,5,7,7,3,6,3,5,7,8,5,5,2,8,6,8,5,3,4,8,5,5,2,4,5,5,4,5,5,5,3,5,5,7,8,4,8,3,3,5,3,4,5,3,3,4,5,5,4,5,8,4,5,5,7,4,5,5,3,5,6,5,4,7,4,5,3,5,5,5,3,8,8,3,3,7,3,3,5,5,5,5,5,3,5,6,5,5,3,5,8,5,8,5,5,8,3,7,4,8,6,8,3,5,10,3,5,4,4,3,5,5,3,5,5,4,5,4,8,5,8,5,3,3,5,6,5,5,7,4,6,9,5,8,7,8,3,5,3,4,5,7,4,5,3,5,5,5,4,3,2,3,2,10,8,5,4,5,5,5,4,5,5,8,7,5,5,8,2,8,7,8,10,5,5,8,6,5,8,3,5,5,9,5,6,5,3,5,5,5,3,4,8,6,7,8,7,4,13,5,5,5,8,5,3,4,5,5,7,5,3,5,5,5,5,2,4,8,4,3,5,5,5,8,7,6,3,8,5,3,5,6,5,7,5,2,7,8,6,4,4,7,5,9,5,7,7,5,5,10,5,3,5,5,8,8,6,4,7,8,3,3,3,5,6,7,6,5,8,8,5,3,7,3,6,6,5,6,3,5,4,4,3,5,4,4,4,7,5,2,3,6,6,5,5,5,4,6,5,7,5,3,5,8,7,5,5,7,3,3,5,4,3,5,6,5,7,5,5,5,6,8,7,5,2,5,3,5,5,5,6,8,5,5,7,3,5,3,8,5,3,5,3,5,5,5,3,6,5,8,4,4,4,6,4,5,3,7,5,10,3,5,3,5,3,7,8,3,3,5,3,5,5,3,5,5,3,5,4,7,5,7,5,12,4,5,3,8,7,5,7,3,5,32,4,2,3,3,5,5,6,3,6,5,4,5,5,4,9,5,5,5,4,6,4,5,5,5,3,8,4,8,7,2,4,4,4,4,5,3,8,8,8,6,5,5,5,5,7,5,5,5,5,4,3,5,6,5,5,5,2,5,4,6,3,3,3,3,3,6,4,6,5,5,7,5,11,3,8,3,8,7,3,12,6,7,5,5,8,5,7,3,4,4,5,4,5,5,5,8,2,7,6,3,8,7,8,5,4,3,7,7,3,5,6,5,5,3,6,3,6,5,5,7,7,5,5,5,7,8,8,8,7,3,3,5,8,6,3,5,3,8,5,5,2,3,5,8,5,7,4,3,5,3,4,8,5,5,3,7,5,8,5,3,5,5,7,4,5,5,3,12,4,5,8,5,5,8,5,5,6,3,8,5,6,3,8,5,7,5,8,7,5,3,4,5,5,7,3,4,5,6,8,6,7,9,3,5,13,3,3,8,3,7,8,5,2,5,5,4,8,4,3,7,5,5,3,10,5,8,4,4,8,3,3,3,5,2,4,5,6,8,5,3,4,12,8,5,5,3,4,5,3,5,4,5,5,3,5,5,3,8,5,6,3,8,5,7,4,3,8,5,4,5,5,5,7,3,3,5,6,7,4,3,5,5,5,5,5,4,5,5,5,5,4,5,4,5,5,8,5,8,5,3,3,3,8,6,3,4,2,2,3,5,3,3,5,6,4,7,8,5,5,7,8,5,10,5,8,5,4,7,8,4,3,5,5,5,5,7,5,6,5,4,5,5,5,5,5,8,7,5,5,5,4,5,3,8,5,2,4,5,4,8,5,4,5,8,3,5,4,5,6,3,4,5,4,5,5,5,5,4,5,8,4,3,3,4,5,12,3,5,6,5,7,8,2,3,7,5,5,7,5,4,6,5,2,4,8,6,7,7,5,8,14,5,5,7,5,3,6,3,8,6,5,5,5,3,3,6,3,3,6,8,5,5,3,5,3,2,1,3,4,5,7,5,4,7,7,5,3,4,6,5,7,4,4,5,5,8,3,8,8,7,4,4,5,5,6,5,3,4,2,9,4,5,5,5,5,4,3,5,3,5,8,5,3,7,5,4,8,3,7,3,3,3,3,4,12,4,5,3,5,4,6,5,5,4,2,3,6,5,3,3,12,7,5,8,5,3,7,5,5,4,3,8,5,6,5,7,7,5,7,5,5,5,7,19,3,6,8,5,5,3,5,4,2,3,3,7,7,3,6,4,4,6,5,5,2,2,7,5,7,6,3,5,8,5,3,5,9,7,2,3,3,8,3,3,9,5,5,4,4,1,5,5,4,5,5,3,8,4,5,5,5,3,5,12,6,8,4,4,6,7,7,10,5,3,7,3,5,4,5,8,5,5,5,3,3,8,8,6,4,7,5,3,3,5,3,8,3,5,7,5,2,7,5,8,8,8,5,6,5,14,5,5,5,3,8,7,5,3,6,5,5,5,3,8,8,3,4,9,2,5,8,5,2,2,5,5,5,3,5,5,4,5,4,4,3,4,8,5,5,4,4,5,3,3,4,5,5,5,5,4,3,6,5,6,5,5,8,5,5,8,4,5,4,4,4,5,5,3,6,8,4,3,5,5,5,5,5,8,6,5,5,4,5,8,3,5,3,3,3,4,5,5,8,5,3,8,6,4,3,5,4,5,5,5,8,8,5,5,8,5,3,6,7,8,3,5,4,3,7,3,3,6,8,4,5,5,7,5,5,4,6,8,8,7,11,4,5,5,2,5,8,6,5,5,3,7,10,4,17,3,7,9,4,5,8,1,8,4,5,5,8,5,5,3,4,4,4,4,3,8,5,3,3,2,4,5,4,9,3,7,5,5,4,4,5,7,7,3,4,5,7,5,6,7,5,3,5,3,8,4,5,5,5,4,3,3,5,3,5,7,5,4,4,4,3,3,7,5,5,5,5,5,8,3,3,6,3,8,5,3,5,5,5,5,5,4,5,5,7,2,5,5,4,8,6,6,5,5,4,5,6,8,6,5,5,5,5,5,2,5,5,4,5,3,5,4,5,7,2,7,5,3,5,4,7,7,5,6,3,3,7,5,3,3,5,5,5,3,3,8,5,3,8,8,5,7,7,7,8,3,5,4,5,5,5,5,5,8,3,6,5,5,5,4,3,8,6,5,5,5,3,4,3,8,4,5,6,4,8,10,5,5,5,6,5,5,3,8,7,5,5,4,3,5,8,3,8,9,2,3,8,4,8,3,5,7,6,4,7,6,4,6,4,4,5,1,10,5,5,3,4,3,8,8,6,3,6,7,4,6,8,5,6,2,5,4,7,7,3,5,8,7,12,7,1,5,5,5,6,5,4,3,8,6,7,3,4,5,4,5,5,3,3,3,5,2,8,8,6,7,6,2,7,5,5,3,4,3,5,5,8,3,3,6,3,5,3,5,3,3,8,6,2,8,5,5,8,3,2,3,4,4,7,5,5,5,3,4,5,3,8,5,2,8,8,3,5,8,3,7,5,3,7,5,7,8,8,5,9,5,5,5,4,3,3,4,5,4,5,3,5,5,4,5,3,5,5,5,8,5,8,3,5,3,8,8,5,5,5,6,8,4,8,5,6,5,4,5,5,5,7,7,6,4,9,5,6,4,3,5,5,3,5,8,5,5,5,4,6,5,4,7,4,5,3,3,5,5,5,8,5,5,7,7,8,3,5,5,3,4,4,5,8,4,8,3,5,8,5,4,5,7,5,4,5,7,5,4,4,5,9,7,3,7,7,8,5,8,4,7,4,5,3,5,5,4,4,6,3,5,7,3,4,3,8,5,3,5,2,5,4,6,4,5,5,7,6,5,8,5,3,4,7,5,8,3,5,4,5,5,4,7,5,10,60,7,4,2,5,5,6,5,8,3,5,7,9,7,3,7,3,4,11,4,4,4,6,4,7,5,5,4,5,5,4,5,3,5,3,4,3,7,4,5,7,5,6,2,6,5,5,5,5,5,8,3,5,3,4,5,10,4,5,5,5,5,5,5,3,10,3,4,5,5,4,7,4,3,7,7,7,5,6,7,6,6,4,5,3,5,5,7,3,3,5,5,5,8,6,4,3,5,3,7,6,5,5,4,3,4,5,5,3,10,7,10,5,5,6,8,7,7,4,5,5,3,5,3,3,3,5,5,2,5,5,5,5,5,6,3,9,5,3,3,3,6,3,5,3,3,3,5,6,3,7,5,5,1,5,6,5,5,4,5,8,6,8,3,5,5,8,7,5,5,4,3,7,4,4,3,4,8,9,6,5,5,3,9,9,4,3,7,1,5,6,4,3,7,8,8,3,4,3,5,6,7,5,5,3,5,3,3,5,5,8,6,3,5,3,6,4,4,8,5,5,3,5,6,7,4,8,5,5,5,7,4,4,5,3,7,5,5,5,7,4,5,5,8,3,6,5,6,2,5,5,7,3,5,5,5,8,3,5,7,5,3,7,3,5,3,5,6,4,4,4,3,5,3,8,5,4,7,7,5,7,2,3,3,4,4,4,8,5,5,4,3,4,4,8,5,9,5,10,3,10,3,7,4,5,6,4,6,5,8,7,5,3,5,5,3,4,4,5,8,5,5,8,5,4,5,4,12,3,8,5,3,5,3,9,5,4,4,9,6,5,5,5,3,6,5,8,5,4,4,4,4,6,8,5,3,7,3,5,8,2,7,5,8,17,5,5,5,5,5,4,5,7,5,5,5,5,5,4,7,4,4,8,5,2,6,5,3,7,8,5,5,3,8,4,9,5,4,7,5,6,9,5,5,6,5,6,3,5,3,6,5,5,5,5,5,5,5,3,3,8,6,3,7,4,4,3,8,10,7,5,3,5,6,5,5,5,3,5,5,5,3,7,5,5,6,4,3,4,3,3,3,3,5,4,3,3,5,5,6,8,7,4,12,5,5,3,5,5,9,3,5,8,6,5,5,3,3,4,9,3,8,8,6,3,5,3,7,5,3,5,5,3,4,5,5,5,5,2,5,3,6,3,5,4,5,3,5,5,1,5,4,3,7,8,3,4,5,5,4,5,2,5,5,7,5,6,5,1,8,3,7,8,5,5,6,4,5,5,3,6,3,4,5,3,8,5,5,4,3,7,5,5,5,4,5,8,4,5,11,4,5,8,8,4,3,3,4,5,5,3,11,8,5,6,3,3,8,4,3,3,5,3,2,5,5,8,8,4,3,4,5,8,3,5,6,6,8,4,3,6,9,6,5,5,5,3,5,7,7,5,5,5,5,5,3,7,2,5,3,8,5,7,4,5,3,5,9,3,3,4,4,5,6,3,5,5,3,5,3,3,4,5,5,5,5,6,5,3,5,7,5,5,5,5,4,3,5,4,6,3,5,3,3,3,17,4,8,3,4,4,5,5,3,5,8,8,4,6,4,8,3,4,12,3,8,5,6,5,6,5,5,4,6,2,4,3,5,5,3,2,5,5,6,8,3,3,5,8,4,5,5,10,5,4,8,15,4,5,5,3,7,3,5,4,2,5,5,5,7,10,3,9,5,6,4,4,5,3,8,9,10,8,3,5,6,3,6,5,2,3,7,3,5,5,3,3,3,3,3,5,5,3,6,4,3,3,6,3,4,6,5,6,7,5,5,5,5,5,3,6,6,6,4,4,8,5,5,3,7,5,4,9,5,5,8,3,5,4,5,7,4,5,7,6,5,5,5,4,5,5,8,5,7,3,6,8,7,3,8,5,7,5,4,5,4,5,7,5,5,3,5,10,5,5,5,5,3,5,5,4,5,5,8,3,6,5,3,3,3,3,3,4,4,5,7,5,4,5,3,3,5,5,5,5,3,6,8,6,6,4,5,3,5,4,10,4,3,8,3,7,7,5,5,7,3,3,5,4,5,5,8,8,6,8,7,4,5,4,4,7,8,3,5,6,5,5,5,8,8,5,3,4,5,3,5,5,5,6,4,5,5,3,8,6,6,7,5,5,3,8,6,5,7,5,5,2,4,5,7,3,5,6,5,5,5,5,9,3,5,3,8,5,5,6,5,6,5,4,3,5,4,6,5,4,7,4,4,3,3,5,5,8,5,4,5,5,5,4,6,4,5,5,10,5,4,5,4,5,6,5,3,5,6,5,7,5,5,5,5,4,4,4,10,5,3,3,5,5,8,4,2,6,5,5,5,5,5,5,8,4,5,8,5,5,5,8,6,8,3,5,2,5,5,5,5,3,5,5,3,4,5,4,5,7,3,6,4,7,4,8,4,5,5,5,5,4,5,4,5,3,3,6,3,5,5,3,8,5,2,3,2,5,8,4,5,4,5,3,10,5,5,5,5,8,5,4,8,3,5,5,3,4,8,6,21,7,6,3,4,5,6,5,6,5,5,8,5,6,8,6,7,5,8,4,4,4,8,4,3,8,4,7,5,5,3,5,4,5,3,5,5,5,5,8,7,6,5,2,7,3,7,6,5,8,5,8,5,8,5,3,5,5,10,3,3,5,5,8,5,4,5,3,5,5,5,3,5,7,5,8,3,3,7,5,6,5,6,3,5,6,7,3,7,4,5,5,3,7,6,8,6,7,5,5,5,5,5,3,4,8,3,3,3,3,7,7,2,4,6,9,3,8,5,5,7,4,2,7,7,5,7,5,5,8,4,8,5,8,5,3,3,3,3,8,5,7,5,5,7,5,5,6,4,3,3,5,5,4,8,7,5,5,5,5,6,3,2,5,4,5,3,4,5,2,5,7,5,8,5,4,8,4,5,4,6,3,3,5,1,6,7,1,5,5,4,8,5,5,5,8,8,5,5,7,6,5,5,4,6,5,5,6,5,8,5,3,5,8,7,8,3,3,3,5,3,3,4,4,3,3,5,5,5,5,5,1,5,4,6,5,4,5,4,3,4,4,6,7,7,5,4,6,5,5,7,6,2,11,2,8,3,5,5,3,5,6,5,3,5,4,8,7,7,2,4,5,4,5,8,7,5,4,7,5,6,5,3,6,8,5,4,5,3,4,7,9,3,4,5,7,6,3,7,6,6,5,4,7,7,4,3,3,7,8,3,5,7,2,4,7,5,6,5,5,5,2,7,8,7,5,5,3,6,3,5,9,5,7,8,7,3,5,6,5,4,7,1,5,5,4,4,7,5,3,4,3,5,5,3,4,7,5,5,7,3,4,5,7,5,5,4,5,6,4,5,3,8,5,3,7,8,8,4,2,5,4,6,5,3,3,6,4,5,5,3,4,4,4,5,6,3,3,5,3,8,4,5,3,3,5,7,7,5,5,1,5,5,5,4,11,5,7,5,5,5,4,5,6,8,3,7,2,4,8,8,4,8,6,5,8,3,3,5,8,5,5,5,3,5,4,4,7,7,5,7,6,7,3,3,7,5,3,3,5,7,5,6,3,6,6,4,6,4,5,9,2,5,4,7,3,6,5,5,3,5,3,5,4,5,7,6,5,5,6,5,4,3,6,5,1,5,7,7,7,7,8,5,5,4,5,4,8,5,3,3,4,5,8,3,3,7,8,8,8,8,2,5,3,5,3,5,5,9,5,5,8,5,5,5,5,6,2,5,5,4,5,5,5,3,4,5,5,3,7,3,4,8,5,8,3,4,5,6,8,4,3,5,6,3,5,5,4,5,5,7,5,5,9,4,8,5,4,5,3,5,6,5,3,7,5,6,5,5,5,5,7,8,3,5,5,5,5,4,5,5,8,5,3,5,5,4,5,8,4,7,6,4,5,4,5,8,10,4,3,5,3,6,3,4,7,3,2,5,6,7,5,4,5,3,5,4,7,5,3,3,3,7,5,5,5,2,4,3,5,8,5,5,5,3,4,7,5,10,5,10,5,7,7,3,5,7,7,5,5,3,3,5,3,5,3,3,4,6,5,3,5,5,6,2,4,5,6,5,3,5,4,4,3,5,5,7,3,8,7,7,8,4,8,5,4,5,9,5,3,3,11,4,8,2,5,3,8,4,3,7,4,8,8,5,8,2,7,5,3,3,5,5,7,4,5,3,5,6,7,4,5,3,5,5,4,3,7,7,8,6,3,7,7,4,8,6,6,7,5,5,5,3,10,6,5,5,6,6,5,4,3,3,5,3,3,7,5,4,5,5,5,8,11,5,4,3,3,3,2,5,5,5,3,5,8,5,2,8,8,6,6,5,10,4,7,2,7,5,4,4,6,4,8,3,5,4,5,5,8,5,3,5,5,4,4,6,3,4,4,5,4,4,6,5,3,8,5,4,8,5,3,6,3,7,3,8,8,6,5,7,7,5,4,5,3,1,5,5,7,5,8,5,6,5,3,5,4,8,6,4,3,3,3,8,5,4,9,8,8,7,8,6,5,6,7,3,7,5,3,5,3,8,5,8,4,8,5,12,3,7,3,4,3,7,8,7,3,5,8,5,5,6,3,8,8,5,5,3,5,5,3,8,6,4,5,9,6,6,8,7,5,5,4,3,5,3,5,5,7,5,4,5,4,5,8,5,5,5,5,5,8,3,5,4,6,4,6,7,6,9,5,3,16,6,6,6,7,5,8,2,5,5,4,8,5,5,5,5,7,5,3,4,5,8,3,4,8,1,3,5,5,5,5,3,8,5,5,5,3,5,7,4,3,4,3,3,5,4,5,7,3,7,5,6,3,4,3,6,5,5,3,5,8,5,7,5,3,3,7,5,8,4,9,7,3,8,3,5,5,4,6,9,3,2,5,3,5,5,5,5,7,3,7,5,5,4,7,4,7,3,8,5,3,5,5,5,5,7,4,7,4,7,4,3,5,4,6,5,5,5,5,5,7,3,5,5,5,3,4,10,5,9,4,8,3,6,7,10,7,3,3,5,5,8,5,4,5,6,5,5,3,3,4,5,8,3,7,5,4,5,2,5,2,4,13,5,5,5,7,5,5,5,4,5,4,5,3,4,8,5,3,5,5,3,4,5,3,5,7,2,7,7,5,9,3,3,6,6,7,5,5,5,8,3,7,8,7,7,5,1,8,7,3,4,5,5,4,3,6,3,5,9,5,8,5,5,4,9,3,3,4,3,5,6,5,5,3,5,3,5,7,7,6,5,5,5,3,5,5,5,5,8,3,3,3,8,5,7,4,4,7,7,3,3,4,6,3,8,3,4,3,5,5,5,3,4,5,3,5,8,3,5,3,5,4,4,8,8,5,5,3,6,4,5,3,5,5,4,5,5,5,3,5,4,2,4,4,5,5,7,8,4,8,7,3,3,4,3,5,5,7,4,4,3,3,3,5,5,6,8,6,5,7,5,5,3,4,3,7,5,8,3,11,7,5,3,8,6,4,5,5,6,5,5,6,8,8,3,5,3,4,6,5,2,3,9,5,5,5,8,3,5,4,8,2,5,3,4,5,5,3,5,3,7,8,3,3,4,7,7,5,3,5,3,8,6,8,5,5,5,5,4,8,4,4,4,3,5,9,2,5,3,6,7,8,7,5,5,3,5,8,6,5,2,7,2,7,5,6,5,3,6,3,3,4,8,4,8,2,8,5,5,3,11,3,6,5,5,5,6,5,7,4,6,7,5,3,5,3,5,4,5,3,3,4,3,2,3,4,7,7,7,4,3,8,5,5,7,4,3,2,4,4,3,4,5,4,3,5,5,5,5,5,7,8,8,5,6,5,3,6,4,5,5,5,3,8,4,4,5,4,4,7,5,4,5,5,5,5,3,6,2,5,5,5,5,5,5,8,3,8,5,3,8,5,5,3,5,7,8,3,11,4,5,3,8,6,4,7,8,4,5,5,4,3,3,5,5,7,5,3,3,8,5,5,3,5,1,5,5,8,9,3,5,5,3,3,3,6,6,8,8,3,7,8,5,5,6,5,6,5,8,3,7,5,8,7,10,4,4,14,5,5,3,3,8,7,3,5,3,5,3,3,3,5,3,5,3,3,3,5,4,3,8,7,3,5,5,3,5,7,3,3,3,5,3,3,7,5,5,10,8,3,5,3,3,5,3,4,4,4,2,4,3,3,5,3,3,4,3,3,7,7,5,3,7,3,8,5,5,4,5,6,3,5,5,5,8,8,2,3,3,5,8,3,3,5,5,3,2,5,8,5,3,3,5,4,5,5,5,3,8,5,4,5,4,7,4,2,3,5,5,4,3,4,7,9,5,5,4,12,5,4,7,3,4,5,5,8,8,7,5,3,4,5,7,6,5,2,3,5,6,5,7,5,3,5,8,3,5,5,3,3,6,7,4,5,4,7,5,5,7,5,8,8,5,3,5,1,3,8,5,5,6,3,3,2,5,5,5,4,5,2,5,5,5,6,10,8,5,4,5,3,4,5,5,5,5,5,5,7,7,5,5,3,3,2,5,3,3,5,5,10,4,5,10,3,3,5,7,8,7,5,5,4,7,3,5,5,8,5,5,7,10,5,5,7,3,5,3,5,8,3,8,5,8,7,5,6,4,8,5,5,7,5,3,5,7,8,3,5,5,8,4,8,4,3,5,8,4,4,8,8,5,3,8,5,4,8,8,4,5,5,5,2,5,3,5,5,3,8,5,4,5,8,3,7,5,5,4,4,3,5,5,3,8,5,5,5,3,8,5,7,4,6,26,3,6,1,4,7,8,5,7,11,4,5,4,3,3,8,5,8,5,5,4,3,5,5,4,5,3,2,5,5,5,6,5,6,8,5,7,5,5,6,7,8,6,8,4,4,4,4,4,2,6,8,4,5,5,8,4,5,6,6,5,3,7,9,4,8,4,3,5,5,3,5,7,7,6,3,5,8,6,3,5,5,4,5,5,6,5,5,5,8,5,11,4,3,5,5,5,7,2,3,5,3,5,6,4,4,5,8,5,8,3,6,4,2,8,4,5,4,5,4,8,5,3,6,5,7,7,3,1,5,5,3,3,4,5,4,1,5,5,6,4,5,5,5,7,7,5,5,6,3,5,5,8,5,4,5,5,6,5,5,5,2,9,3,4,2,4,5,7,4,4,5,3,3,8,5,6,4,6,4,5,7,5,7,5,5,5,8,3,5,5,3,4,8,8,5,8,3,5,5,5,7,3,5,4,5,5,4,5,8,5,6,8,4,4,4,6,5,5,8,2,3,7,8,5,7,8,4,5,3,3,4,3,5,7,4,5,4,4,3,7,5,8,10,8,5,5,3,3,5,4,8,4,3,5,3,8,11,5,5,3,3,8,3,7,5,5,5,6,5,4,5,6,6,3,3,5,5,5,5,5,3,64,3,5,3,8,4,8,4,5,4,9,3,5,5,3,5,5,5,5,8,8,4,7,7,5,6,3,4,5,5,7,5,3,5,2,6,4,3,5,4,6,3,6,5,5,3,3,3,5,6,5,7,3,3,1,6,3,3,3,5,3,8,5,3,7,6,1,8,8,7,7,8,5,3,6,5,3,3,3,5,3,6,3,5,8,5,8,10,5,5,5,5,4,5,8,4,3,8,7,3,5,5,5,4,4,3,5,5,5,7,5,5,3,5,5,3,5,3,4,6,8,3,4,5,8,4,5,9,5,3,7,5,8,5,5,8,8,5,8,5,3,3,3,6,5,7,6,5,5,7,5,5,3,4,7,4,4,8,5,5,5,5,5,4,6,4,5,3,3,4,3,6,5,5,4,5,3,3,6,8,5,6,6,4,6,6,5,5,8,5,3,3,5,7,6,4,5,6,5,8,5,5,3,5,7,3,8,6,3,6,6,8,8,3,7,5,5,2,5,8,3,5,8,8,3,12,5,8,9,3,3,10,7,3,5,3,5,3,7,7,8,3,5,6,5,5,5,4,5,5,3,5,4,5,4,5,3,5,7,6,5,5,4,4,7,7,5,8,8,5,4,5,7,5,5,8,5,6,5,3,3,5,5,5,4,5,7,5,4,5,5,6,5,3,8,5,3,8,3,11,8,3,1,5,16,4,4,5,7,5,5,3,5,7,8,5,5,4,3,7,5,8,5,5,5,5,8,8,6,4,5,3,8,3,7,3,5,5,7,2,3,5,5,3,5,5,5,3,5,4,6,5,5,6,7,3,5,5,18,6,5,5,4,9,4,5,5,5,6,3,5,3,7,3,7,5,5,5,8,5,6,5,4,7,6,7,4,8,3,5,8,4,7,5,8,7,3,5,3,5,5,7,5,4,5,8,5,4,5,7,5,3,6,8,5,8,3,3,5,5,5,5,5,8,7,5,5,5,3,5,6,3,5,5,5,6,4,5,8,4,3,5,4,6,5,5,8,5,2,5,3,5,32,5,5,2,7,5,3,8,8,5,5,7,5,5,3,2,3,5,4,8,5,8,5,7,3,5,4,4,5,7,3,5,8,3,10,5,8,7,4,5,5,3,7,7,2,5,4,8,3,3,7,7,3,3,7,3,7,4,3,6,5,5,5,8,5,5,7,5,2,5,5,5,3,5,5,8,4,3,5,4,3,3,3,4,5,5,3,8,5,3,3,6,1,5,5,8,3,4,7,5,4,6,5,8,7,3,5,3,6,8,5,3,5,5,7,5,4,6,8,6,8,2,8,7,3,5,6,6,7,5,5,7,8,5,3,6,6,3,5,5,6,5,7,3,4,3,8,3,7,3,10,5,5,4,5,3,3,6,4,10,6,4,3,5,3,5,5,8,5,5,5,4,3,4,4,3,5,8,7,9,5,2,3,5,8,6,3,5,3,3,5,3,2,3,7,5,8,5,9,5,7,5,8,3,5,4,7,3,8,6,3,5,4,7,3,5,5,8,5,3,8,3,5,7,5,8,7,8,7,3,8,4,5,4,5,4,3,2,3,3,6,3,7,4,5,5,7,5,3,6,4,8,4,5,3,5,7,5,6,8,8,7,8,3,3,5,8,4,5,5,8,5,3,8,6,7,3,3,4,8,4,6,5,3,5,5,5,6,3,5,8,3,8,5,3,8,8,5,2,5,4,5,5,3,6,7,6,5,8,5,5,3,8,6,5,5,6,8,6,4,7,9,3,4,1,6,5,4,14,3,9,4,7,5,5,5,3,5,4,3,3,3,3,5,5,4,6,5,6,8,5,7,5,5,5,4,8,5,8,5,2,5,5,5,7,2,5,3,4,5,6,5,6,3,7,5,3,3,8,5,5,5,5,6,6,5,3,4,5,5,6,5,8,3,3,3,5,5,4,5,8,7,3,6,5,7,4,7,4,7,5,5,5,3,5,3,5,3,5,3,5,5,4,2,1,5,6,6,4,5,5,4,5,4,5,3,3,3,5,3,5,4,4,3,6,3,5,3,15,5,5,8,9,5,3,6,8,8,5,2,10,6,5,5,4,5,3,5,5,5,5,5,6,5,3,5,5,5,5,3,8,5,8,5,2,7,5,1,5,5,3,4,6,7,5,3,5,3,5,5,2,5,10,8,5,5,4,5,2,4,4,4,5,6,6,6,5,3,5,3,6,3,5,3,7,5,7,6,8,5,5,8,5,6,4,5,8,5,8,5,5,4,5,8,3,5,4,5,7,7,2,5,4,4,5,8,7,4,5,3,2,5,5,5,5,3,5,6,5,6,6,8,5,3,5,5,7,5,7,5,3,7,3,3,8,5,3,5,3,8,5,4,5,6,4,3,5,5,5,4,5,4,9,6,3,3,3,5,5,7,5,4,4,5,7,4,5,7,7,5,8,6,3,8,5,8,3,6,4,5,3,4,3,5,4,2,6,5,3,5,4,5,8,5,5,6,3,8,4,4,5,3,5,5,6,3,5,5,4,8,5,4,5,8,8,5,8,5,3,3,7,3,4,5,5,5,5,5,4,3,7,5,7,8,5,7,7,5,4,3,6,5,5,3,6,5,3,4,6,8,4,4,5,6,5,1,3,3,5,3,3,8,5,5,7,5,5,3,5,3,3,3,6,5,7,5,4,5,3,5,5,4,6,5,5,5,3,5,5,3,4,4,9,3,5,5,5,5,3,4,4,6,3,5,5,3,6,7,5,5,3,6,2,8,8,3,3,5,5,5,4,5,5,5,5,4,4,5,5,5,3,8,5,3,6,3,5,4,5,7,6,3,3,8,8,5,2,4,6,11,3,7,6,5,3,7,3,5,5,3,8,5,7,5,5,5,4,7,8,3,4,7,5,4,9,8,3,3,7,1,4,3,3,6,5,2,5,4,8,5,7,3,5,10,8,6,5,8,3,8,8,4,5,7,2,5,4,5,5,5,8,8,8,6,7,8,7,6,5,5,5,3,3,5,3,3,5,13,5,3,5,5,4,6,8,5,5,5,5,5,5,6,5,3,8,5,3,4,5,5,4,6,2,4,4,8,4,8,8,5,5,2,3,8,9,8,5,7,8,3,5,5,5,5,5,5,7,4,5,4,7,3,3,2,5,7,5,4,5,8,3,5,3,5,12,3,5,8,3,5,5,3,4,3,5,4,6,5,4,5,5,7,3,3,5,4,5,3,5,4,2,3,6,5,3,3,3,4,5,5,5,9,8,3,5,7,4,2,8,7,5,6,3,3,5,5,7,8,5,5,6,6,4,5,5,5,5,3,7,5,5,4,8,5,7,3,3,9,5,5,8,6,5,7,8,3,5,3,8,6,5,5,3,3,3,5,5,5,5,3,3,3,4,7,5,3,5,4,5,3,3,3,3,3,8,5,5,3,4,4,7,5,6,5,8,3,4,5,5,5,7,5,3,3,6,5,3,5,5,8,6,7,8,8,5,2,3,5,5,5,5,3,8,5,4,8,5,5,3,7,8,4,3,6,5,4,8,4,11,4,4,5,5,3,7,8,5,7,3,3,5,3,5,7,2,4,5,3,3,3,4,7,8,5,8,5,5,6,5,4,5,3,35,3,6,9,5,3,5,7,4,5,5,8,5,8,4,6,4,8,3,3,5,5,3,5,5,4,5,5,5,4,5,8,8,5,8,8,7,5,4,6,8,4,5,8,3,7,5,5,5,5,8,5,5,4,1,3,3,8,6,5,4,8,3,8,3,3,7,6,6,3,4,5,5,3,12,4,5,6,7,3,5,2,7,5,5,8,5,4,5,5,5,7,5,8,5,5,5,5,3,7,5,3,5,5,4,5,4,6,5,8,3,3,8,5,6,8,4,8,4,5,6,3,8,5,6,5,6,8,8,5,3,3,5,5,5,79,8,8,7,5,5,4,4,4,5,4,4,7,5,3,3,5,3,2,3,3,3,3,8,5,5,7,5,5,2,4,7,3,6,5,8,4,6,8,5,5,7,5,8,8,3,5,5,6,4,8,3,5,4,10,5,3,3,5,5,5,7,5,3,5,5,3,3,3,4,5,3,3,4,6,4,3,4,3,5,3,3,6,5,5,5,5,9,4,5,13,5,8,7,3,8,5,4,6,5,6,3,5,8,6,5,4,7,5,5,6,5,8,5,7,17,5,5,4,3,5,5,5,5,5,7,3,4,5,7,6,5,6,5,7,5,8,5,6,4,5,7,5,3,7,6,5,2,3,3,5,5,8,5,7,5,5,5,5,6,5,4,5,4,3,5,3,7,3,5,4,4,3,5,3,5,7,6,4,5,8,8,5,6,3,3,5,6,6,3,5,8,3,3,7,5,3,9,8,3,5,7,3,5,8,5,5,5,6,4,4,5,5,11,9,6,6,5,10,6,3,7,7,5,3,5,7,4,5,5,5,5,6,5,5,5,4,5,5,8,3,5,5,7,7,3,4,3,8,10,3,5,8,5,4,5,3,4,2,5,6,5,5,3,5,5,11,3,6,5,5,4,4,8,5,3,5,4,8,59,5,5,3,2,7,9,8,7,5,3,3,5,7,7,5,8,4,5,5,5,5,7,5,3,4,5,2,8,5,4,5,3,6,3,5,6,8,3,5,5,3,5,8,7,5,3,2,5,5,4,3,5,3,7,4,5,8,5,3,5,5,4,5,6,1,5,5,5,5,5,3,5,7,5,4,5,5,5,3,5,5,4,4,3,5,5,5,3,7,9,7,6,4,5,6,6,4,4,7,7,5,7,6,5,4,8,4,4,5,8,3,4,8,3,3,8,1,3,3,6,6,5,4,8,5,3,6,8,5,5,4,3,5,4,8,7,6,4,5,5,7,5,5,5,3,5,7,7,8,4,4,3,7,8,5,4,5,3,7,7,6,7,4,3,5,3,6,5,5,7,5,7,7,3,4,8,4,3,5,3,5,7,8,3,5,5,3,9,6,3,5,8,5,4,1,7,3,5,4,3,7,2,4,3,4,5,8,5,8,5,5,7,5,5,8,7,7,5,7,3,5,5,11,5,6,4,9,11,4,6,3,5,3,6,5,5,2,5,5,5,8,8,3,3,3,5,7,5,2,5,5,3,3,4,5,3,7,7,4,5,4,3,5,4,8,5,4,8,8,5,5,3,5,7,6,5,7,7,5,8,5,5,4,8,4,7,4,2,5,4,4,3,3,5,4,5,8,3,5,3,5,3,7,5,5,3,7,7,5,7,5,5,3,5,5,5,5,8,4,6,4,6,5,5,5,5,3,8,7,7,5,3,5,7,7,5,5,10,3,5,6,5,5,5,3,7,5,3,5,5,7,3,7,5,8,5,7,4,7,8,3,5,6,3,6,3,4,5,8,5,4,5,3,5,3,5,6,1,5,8,7,5,5,5,5,8,5,7,5,3,4,3,5,10,7,4,5,7,3,4,4,5,6,5,7,8,3,3,5,4,5,5,8,7,4,7,4,5,8,5,5,3,5,3,6,5,7,5,3,3,9,5,5,5,5,5,4,4,5,6,5,5,5,5,5,3,5,3,8,5,5,4,8,5,8,5,3,6,7,6,5,5,6,3,5,2,8,4,3,5,8,3,5,7,5,4,5,3,3,6,5,5,5,3,5,3,8,4,5,4,5,8,3,8,5,5,5,5,4,6,5,4,5,7,3,3,1,9,7,5,3,6,5,5,5,3,5,5,5,5,5,5,8,8,5,3,8,3,3,5,3,5,3,5,5,4,6,4,5,4,7,3,8,6,5,8,3,3,5,5,7,3,5,8,3,5,5,3,3,8,5,5,4,6,6,7,4,5,5,8,5,7,8,5,4,3,5,4,4,7,5,8,4,5,8,3,5,3,3,7,3,5,5,5,7,6,7,3,3,5,3,8,6,6,5,7,5,7,6,12,5,4,3,3,5,4,5,7,3,5,5,9,5,5,5,4,8,12,5,3,8,4,11,5,7,7,5,5,5,8,5,7,5,9,4,5,3,8,5,7,3,3,4,5,8,8,4,8,6,5,4,8,5,3,5,8,5,6,5,5,8,2,5,5,3,5,5,5,6,4,8,5,5,5,7,5,5,3,3,3,3,5,3,8,5,9,4,5,6,5,4,3,8,5,5,4,5,1,5,5,3,2,5,5,8,5,5,5,3,4,5,3,4,6,5,5,7,5,7,8,6,6,3,6,10,5,5,5,5,5,4,6,5,5,5,11,5,5,3,8,3,7,6,7,7,4,5,3,4,3,7,7,5,8,5,5,7,7,6,5,4,5,3,5,5,6,5,3,4,5,5,5,5,5,5,4,5,4,3,3,5,10,5,4,4,8,3,5,6,5,5,4,5,5,5,5,3,3,7,6,4,6,3,5,8,7,5,5,4,7,7,15,2,7,3,3,8,5,7,8,5,8,5,5,2,5,7,3,7,6,4,7,5,8,6,8,3,5,3,10,5,5,4,5,5,5,6,5,6,5,11,5,5,5,4,5,4,5,4,4,5,3,4,5,5,8,8,5,6,6,5,6,7,2,4,6,3,3,3,8,4,5,4,4,5,3,3,4,5,5,8,7,5,9,7,4,5,9,5,4,5,5,4,5,3,2,7,3,5,7,4,3,7,5,5,7,5,4,8,7,10,7,1,5,3,5,5,8,7,12,8,5,8,6,3,6,3,5,6,3,5,5,8,5,5,5,4,5,3,8,8,5,4,5,3,7,5,3,7,3,5,2,7,3,5,4,8,4,5,5,5,5,5,7,5,5,6,5,5,5,3,5,2,5,3,10,5,5,6,3,6,4,3,3,6,2,3,3,5,4,3,5,9,7,5,5,3,5,7,5,5,4,5,6,5,8,2,7,4,5,5,2,2,3,9,3,4,5,5,8,5,4,10,5,5,5,5,5,5,6,5,5,4,3,4,5,7,4,5,8,5,5,5,7,3,2,5,8,3,8,5,8,5,6,3,5,7,2,7,4,5,5,8,7,7,3,5,7,9,5,5,5,4,6,5,4,4,7,3,10,5,3,5,8,8,5,4,3,8,3,2,7,5,3,5,3,7,3,5,5,6,4,5,5,3,5,7,5,6,5,8,4,5,3,3,5,4,5,3,3,5,3,4,3,7,3,3,2,6,3,5,4,5,5,9,4,6,3,5,3,5,5,3,10,5,3,5,5,5,5,5,8,5,4,3,3,5,5,7,4,5,4,8,4,2,8,6,5,3,5,3,3,3,6,5,4,7,5,5,4,6,5,5,3,3,3,5,4,4,5,6,3,5,3,4,3,3,2,5,3,3,8,8,7,3,2,3,8,7,5,5,6,5,8,5,5,4,8,7,4,8,3,4,4,3,3,5,3,5,5,7,3,2,4,8,5,5,3,6,4,5,8,6,3,4,6,3,5,5,3,3,5,8,6,5,3,3,8,5,5,6,5,3,6,7,4,5,5,6,8,7,5,5,3,3,3,5,8,5,3,3,7,6,3,8,8,7,4,3,7,5,5,5,5,5,5,7,7,5,4,5,5,3,5,5,3,5,10,5,3,5,3,7,3,3,7,3,5,6,5,5,2,4,6,9,5,7,5,6,5,4,4,5,5,8,8,5,8,11,7,6,5,5,7,3,8,3,8,3,6,3,3,5,8,3,5,6,8,7,5,10,5,4,5,7,6,3,5,5,5,4,5,5,3,3,3,8,4,7,5,4,12,4,5,3,5,8,3,3,5,7,8,5,5,5,8,4,4,6,8,3,5,5,8,3,3,4,4,5,4,8,5,7,5,3,5,5,5,3,3,5,6,5,7,7,5,6,7,4,7,3,5,5,6,4,4,5,1,8,6,4,5,12,8,5,8,4,4,5,5,5,5,3,4,5,4,5,5,5,5,6,6,3,5,5,3,8,5,8,5,5,5,5,5,5,4,8,7,5,5,5,4,5,3,1,5,3,6,5,5,4,3,6,8,5,7,5,9,3,5,8,5,5,6,4,5,3,6,6,4,5,5,5,6,3,3,3,3,3,10,2,7,8,5,5,5,5,5,3,3,3,6,6,5,5,5,5,5,3,8,5,5,8,6,4,8,5,5,21,4,3,6,5,8,4,3,5,5,4,5,4,6,5,5,7,8,6,5,3,7,7,5,5,4,5,8,4,6,8,5,4,7,5,8,7,3,8,4,8,8,4,7,3,4,3,5,6,4,5,5,5,5,3,4,5,5,3,5,5,5,4,7,6,5,3,4,3,5,7,8,5,8,8,3,5,5,7,2,3,5,1,5,3,3,7,5,5,6,7,5,5,7,9,8,8,5,3,6,5,5,5,4,5,5,7,5,4,4,5,5,5,3,8,7,5,5,4,3,5,6,5,5,5,4,8,5,4,5,7,8,6,4,3,5,5,3,7,6,7,8,5,5,5,3,5,7,8,8,3,4,8,4,5,8,5,7,4,4,7,4,5,5,7,6,7,5,5,5,7,4,5,5,7,8,4,8,6,10,7,5,4,5,6,5,5,5,10,5,8,5,4,6,2,5,3,8,7,5,5,5,8,3,6,8,3,4,8,5,4,4,4,3,8,6,5,7,8,5,7,5,5,5,6,4,4,4,6,4,4,8,6,5,5,5,5,6,5,4,6,5,7,7,4,5,8,5,6,3,5,3,5,3,7,3,8,8,5,7,2,8,5,5,6,5,3,3,3,3,5,4,9,5,8,2,6,4,6,7,5,8,4,7,6,5,4,7,3,3,8,3,2,4,5,3,8,5,5,2,5,5,8,5,3,8,5,3,5,7,7,3,5,5,4,5,3,3,8,7,5,3,10,5,7,8,5,5,4,3,2,15,5,8,8,5,5,5,3,2,4,6,3,5,2,5,5,3,5,5,7,5,5,3,11,4,5,6,4,4,7,5,5,4,8,5,5,4,5,6,3,5,5,5,5,5,3,4,7,5,5,3,4,3,5,5,4,5,5,6,3,7,6,5,3,8,3,5,8,4,8,5,5,3,3,3,7,3,5,7,8,3,8,8,3,5,5,7,4,3,3,9,5,5,4,5,4,4,5,5,4,4,5,5,8,4,3,4,8,5,5,4,5,8,5,7,5,4,5,3,5,3,5,5,7,7,5,5,8,4,5,5,8,7,5,10,4,5,3,5,4,7,3,5,3,4,3,4,3,4,5,4,3,6,6,3,8,7,5,8,5,3,8,3,3,5,6,5,5,7,8,7,5,4,5,7,5,6,3,4,4,5,4,4,7,3,3,7,8,5,3,4,7,5,8,5,3,3,4,5,5,5,7,5,5,3,3,5,5,5,5,5,5,4,4,8,4,2,3,3,5,5,3,7,8,5,5,3,3,3,5,3,6,3,35,7,3,8,3,3,5,5,5,7,2,5,7,3,3,7,7,5,4,1,5,5,4,4,5,4,4,7,4,7,5,5,5,5,3,3,3,4,7,5,5,4,5,3,5,3,5,8,4,4,5,3,3,5,4,4,8,4,7,5,5,5,5,5,5,5,5,8,5,5,4,5,3,3,5,6,5,7,2,3,5,6,8,4,7,3,5,5,3,6,8,6,3,5,7,3,5,4,4,5,5,5,11,3,5,11,3,5,4,5,5,6,5,4,7,3,5,6,5,3,4,5,7,8,5,3,7,7,5,5,3,4,3,8,5,5,8,4,3,5,3,6,2,6,3,5,5,4,4,4,4,4,3,4,7,6,8,3,5,7,6,7,5,5,5,8,7,3,7,3,4,7,5,3,3,8,4,7,6,5,3,5,5,5,8,4,5,5,3,3,8,8,5,8,8,8,5,5,7,8,3,5,5,6,5,1,4,4,7,6,3,3,5,3,5,7,8,3,7,5,4,5,5,5,8,8,5,3,8,3,5,3,3,5,8,4,1,3,3,5,3,5,5,6,5,5,4,7,5,4,4,3,4,3,5,5,5,5,5,8,5,5,8,3,3,5,7,6,4,5,5,4,3,5,9,5,7,3,3,5,6,4,6,8,3,4,5,5,4,6,6,7,4,6,5,6,7,3,5,3,5,4,8,4,5,8,5,6,3,5,8,8,7,7,4,6,5,5,8,8,3,8,5,5,4,5,5,3,5,5,6,6,2,5,4,2,7,9,3,5,8,3,6,5,3,8,5,7,5,4,4,3,8,5,6,5,5,5,5,7,5,8,3,9,5,7,5,5,5,5,7,3,3,5,2,5,5,5,4,5,5,3,5,6,5,3,4,3,5,1,2,5,5,5,8,5,5,7,7,2,8,5,3,8,5,5,8,3,5,8,5,5,3,9,5,5,10,5,6,7,5,7,5,3,7,4,3,3,3,5,4,7,5,4,8,7,8,5,7,5,8,4,7,5,8,4,5,3,5,5,3,5,3,6,3,6,8,7,5,4,7,6,8,4,5,4,6,3,5,5,8,3,5,3,7,7,5,3,5,5,5,5,2,5,6,3,5,8,7,5,5,4,4,3,7,7,3,6,5,5,7,4,2,5,5,5,5,5,7,8,3,3,3,5,9,5,8,4,7,3,6,5,5,2,4,4,5,7,6,5,5,8,4,8,3,7,3,5,5,5,8,5,4,3,3,6,8,5,5,5,5,5,3,5,5,5,4,8,8,5,7,4,5,2,3,8,5,5,5,7,4,5,5,1,5,6,4,3,4,5,3,5,5,6,3,5,4,8,6,5,5,5,5,5,4,3,3,4,4,3,5,8,4,3,6,8,5,3,8,4,6,5,8,3,5,5,8,3,5,5,5,7,4,5,4,5,5,5,4,8,5,5,6,3,7,5,5,5,5,5,3,6,5,9,5,4,5,8,8,5,6,3,3,5,5,12,3,5,5,7,7,4,6,5,3,3,3,8,5,10,5,4,5,4,7,3,5,5,5,6,7,3,6,2,7,3,4,3,6,5,5,3,9,8,3,7,5,3,7,5,3,5,7,7,5,5,4,5,5,8,5,4,3,2,5,7,3,5,8,4,3,5,3,3,5,5,5,3,8,4,3,8,5,7,7,8,5,4,3,9,3,3,6,5,4,5,7,5,5,3,3,5,7,3,5,3,6,5,5,5,7,3,3,7,5,5,6,8,3,4,5,5,2,1,5,4,8,5,1,3,8,5,3,3,8,4,3,6,6,8,4,4,6,5,7,5,4,6,4,5,5,7,4,6,4,5,4,5,8,5,5,6,5,5,2,5,3,7,5,3,5,5,1,8,7,7,7,5,3,5,3,8,4,3,4,6,5,6,5,7,5,7,3,7,5,4,5,5,3,5,8,8,5,5,3,7,3,3,5,6,3,3,8,5,3,5,5,3,5,4,5,5,6,5,5,5,8,2,7,5,5,3,5,5,8,6,7,8,5,5,7,8,7,5,7,4,4,10,3,5,3,4,5,5,5,5,5,4,4,5,5,4,7,5,5,5,5,5,8,5,5,5,5,5,5,5,5,3,3,5,5,5,6,5,7,7,4,5,2,6,6,3,8,5,5,6,9,5,5,5,6,6,3,7,4,8,3,10,4,5,8,3,4,2,5,3,5,5,5,8,4,8,8,5,7,6,8,8,8,3,5,3,5,8,5,3,5,3,7,4,2,3,6,5,4,5,6,7,3,4,5,5,5,5,2,8,5,1,3,4,4,3,5,2,3,8,7,5,5,5,5,8,5,5,5,7,5,8,7,8,11,4,5,3,2,2,6,5,10,5,5,3,5,3,7,3,5,5,8,3,5,3,3,3,6,9,6,5,5,3,4,5,7,7,3,5,3,7,4,6,5,5,5,3,3,8,8,4,5,5,1,3,8,5,5,8,5,8,5,3,5,4,5,2,5,7,4,5,5,10,6,6,8,4,11,5,4,4,3,8,7,3,5,5,5,5,5,3,6,5,5,7,6,9,5,4,7,8,5,5,5,5,8,7,7,7,5,7,5,8,6,3,6,8,5,6,3,5,2,3,7,6,5,8,5,4,4,8,6,6,8,6,3,5,7,7,1,6,5,8,4,3,3,5,3,10,3,5,4,6,7,4,2,7,4,8,5,5,5,5,12,2,5,5,5,7,6,5,2,4,4,4,4,2,7,4,5,5,4,5,8,6,6,3,5,4,4,5,5,5,7,6,5,5,3,3,5,6,7,8,3,5,6,5,3,3,5,5,5,5,5,6,4,4,4,6,7,7,5,5,8,3,3,5,3,8,5,2,5,5,3,5,5,7,5,4,8,2,15,8,6,6,4,10,5,3,8,5,5,7,5,3,5,7,5,4,6,3,3,6,11,7,9,5,5,3,3,5,5,4,8,3,6,5,5,5,3,5,3,5,4,2,5,3,8,3,5,5,4,5,5,5,4,1,5,4,7,4,6,3,3,8,4,5,7,3,5,5,5,3,3,4,3,5,9,4,3,7,8,5,5,5,5,5,5,5,8,5,5,3,5,5,5,3,3,4,5,5,5,8,11,1,7,5,5,5,5,8,5,3,5,8,8,6,3,8,3,6,3,3,5,8,4,6,5,5,5,3,5,5,3,4,5,5,5,7,6,4,5,5,4,8,5,8,6,3,6,5,5,6,7,5,5,5,3,4,5,3,8,4,5,7,3,5,5,6,6,5,6,5,5,5,5,4,5,3,6,5,6,4,3,7,8,5,8,7,3,7,6,4,4,7,8,5,8,8,3,6,5,8,3,5,4,3,6,8,4,5,3,8,3,3,5,7,7,3,8,5,5,3,5,5,7,3,5,5,4,3,3,4,5,6,5,5,6,5,5,8,4,7,12,5,5,5,5,5,5,5,5,3,8,8,10,3,5,3,5,4,5,8,2,5,5,3,7,4,7,5,5,5,4,3,8,8,5,7,3,5,5,5,5,3,11,4,8,4,3,7,3,7,5,4,4,8,8,6,6,5,5,5,5,6,5,4,7,4,5,6,4,3,3,8,4,5,8,5,4,2,2,3,5,7,3,6,10,3,9,5,4,2,5,3,5,7,5,5,5,5,5,3,5,5,7,8,2,5,6,9,6,5,5,8,5,5,3,3,5,3,5,5,6,4,5,5,7,3,7,3,8,3,5,8,5,7,9,5,5,5,7,3,5,7,4,5,5,8,8,9,8,5,5,7,8,4,3,3,8,5,6,5,3,5,5,5,3,5,7,5,4,4,5,5,2,6,5,5,4,6,5,5,3,5,4,7,5,8,3,3,5,5,5,66,5,5,6,5,3,5,4,5,6,8,2,5,5,5,7,6,5,3,8,9,5,5,4,5,3,8,3,5,5,5,5,9,2,6,8,5,5,8,6,6,5,3,5,5,3,5,5,11,6,5,6,9,3,10,8,5,7,3,7,7,3,6,5,3,5,4,5,5,4,4,5,7,7,5,6,5,5,5,8,3,5,3,5,3,4,8,8,5,5,5,11,8,5,5,5,6,7,3,4,3,8,5,8,7,5,4,7,5,4,3,8,5,5,8,5,3,5,9,5,4,5,5,5,5,5,14,8,6,5,3,3,5,2,5,3,4,5,5,4,5,5,3,3,8,5,5,5,5,3,5,6,3,5,7,4,3,5,7,7,8,6,3,4,3,5,5,7,5,5,5,5,4,7,6,5,5,6,4,5,3,3,5,4,5,5,5,3,7,5,7,5,8,6,5,3,5,6,5,5,5,4,8,4,3,7,3,6,5,3,6,6,3,5,4,5,7,4,4,3,8,3,8,7,5,5,8,5,3,4,5,8,5,5,5,3,8,4,3,5,4,5,5,5,2,7,5,6,5,11,3,4,5,4,5,7,7,8,6,5,3,6,7,3,5,7,7,3,7,4,3,5,5,3,8,8,7,5,3,5,3,4,4,5,8,5,2,7,5,3,6,3,4,3,5,3,6,7,2,8,5,7,4,3,7,7,7,5,3,8,5,8,5,4,3,3,8,5,7,3,5,5,7,5,5,4,10,8,3,5,7,8,5,4,6,8,7,5,5,5,7,6,3,5,4,5,3,2,3,3,5,3,5,6,4,5,3,5,4,8,8,3,5,7,5,8,5,6,3,6,3,7,7,7,10,8,3,4,4,3,5,3,6,3,6,5,3,8,4,5,5,15,3,5,5,5,5,5,3,5,8,3,3,7,4,4,5,7,8,7,3,7,4,5,5,3,5,7,4,3,3,8,5,3,8,5,5,5,6,6,4,4,5,7,3,5,5,4,7,5,5,3,6,3,3,7,3,5,3,5,8,5,5,5,3,3,5,6,3,7,5,8,3,8,5,7,5,5,3,5,5,6,10,5,3,7,6,4,8,5,5,3,5,2,3,6,3,5,4,4,5,4,5,5,8,3,7,6,5,3,7,5,3,3,2,5,4,4,4,5,5,5,5,5,5,4,5,4,3,4,7,5,8,5,7,3,6,4,7,4,7,3,5,5,6,4,4,7,8,4,7,8,7,3,2,7,6,5,4,5,5,4,7,3,5,5,8,5,5,4,8,4,3,6,5,8,5,5,5,6,8,3,8,7,5,7,4,5,5,5,4,5,3,5,5,3,4,3,5,7,5,8,7,5,5,4,5,3,6,7,3,5,4,5,5,8,4,5,4,5,3,5,5,4,3,3,5,5,5,4,8,5,6,6,4,5,8,4,5,5,2,5,5,8,2,5,5,6,3,5,5,5,6,6,7,5,6,4,4,5,7,5,5,7,3,5,3,6,5,3,3,8,8,5,5,5,8,5,5,5,5,8,6,10,5,8,5,2,3,4,6,5,3,8,7,9,3,6,4,5,7,3,4,6,5,6,8,5,3,3,8,8,6,8,3,7,3,5,5,5,3,10,6,5,6,6,6,5,6,2,5,5,1,2,3,4,6,4,4,6,3,5,3,6,4,6,3,5,3,6,5,3,7,2,3,3,3,6,5,6,5,3,3,5,5,2,5,5,3,5,2,6,5,4,6,5,6,4,6,6,3,5,6,6,5,8,5,5,5,6,5,3,6,5,6,3,2,3,5,6,3,3,5,5,6,5,6,5,5,6,6,6,3,6,5,2,5,6,4,5,7,6,6,5,5,2,1,6,4,6,6,3,6,5,3,6,5,5,6,3,1,5,5,5,7,3,5,3,1,1,6,5,7,5,3,5,5,3,6,5,8,6,5,8,6,6,6,6,3,7,4,6,2,5,5,5,5,5,5,3,3,5,6,5,5,3,6,3,3,3,6,5,3,6,1,4,5,5,5,6,5,6,6,7,6,3,5,6,6,6,5,5,6,5,2,6,6,5,1,6,7,3,5,3,6,3,1,1,5,5,6,6,5,6,3,1,8,7,6,5,6,6,6,7,6,6,4,5,3,5,6,6,2,6,5,5,5,5,6,3,5,6,5,3,5,4,5,3,3,6,5,6,2,5,1,6,3,5,6,5,5,3,5,6,3,1,7,5,5,5,3,5,3,5,4,3,3,5,2,5,1,8,5,6,7,5,4,5,5,6,8,5,3,5,5,1,2,5,5,1,7,7,5,5,6,5,5,5,3,3,3,1,5,6,5,7,6,5,6,6,3,1,3,5,5,5,8,6,4,6,5,6,3,7,7,6,6,3,5,3,5,5,6,3,3,5,4,5,5,5,7,6,4,6,8,5,2,5,3,6,4,3,4,1,6,2,4,5,6,4,5,3,3,6,5,3,5,5,10,3,6,5,3,5,3,5,1,3,3,3,3,2,5,5,2,5,5,8,5,3,3,5,4,6,5,5,5,5,6,3,5,6,4,3,4,5,3,6,4,6,5,6,5,6,7,6,3,6,5,3,2,3,3,3,6,5,6,4,4,4,3,6,2,6,5,2,5,6,3,3,5,6,7,3,5,3,5,6,6,6,6,8,6,6,6,3,8,5,3,5,1,5,3,5,3,5,5,5,3,5,6,6,5,5,5,4,2,5,3,6,3,3,5,4,3,5,3,6,5,6,6,5,6,2,5,6,8,5,2,6,3,3,6,4,6,4,2,3,5,6,3,5,4,5,5,4,6,6,4,6,8,6,5,6,5,5,5,5,5,7,5,6,5,5,5,6,5,1,1,5,4,5,6,4,6,7,2,6,6,5,6,6,2,3,3,5,5,5,5,8,6,1,3,11,5,6,4,4,5,5,7,5,5,5,4,6,5,5,3,7,7,6,8,3,7,8,6,4,5,5,5,6,5,6,7,6,5,6,5,1,5,5,5,1,3,5,3,4,2,5,5,3,1,5,5,3,6,6,3,4,5,6,9,3,2,6,4,5,2,5,7,4,5,6,6,6,6,5,5,6,4,5,6,7,3,5,5,5,5,4,7,5,3,2,7,5,6,4,5,5,5,6,6,5,4,1,5,3,4,3,5,4,6,6,5,6,5,3,5,6,2,5,2,3,3,3,6,3,3,7,6,3,7,5,8,5,5,3,7,3,7,3,5,3,6,2,5,5,7,6,3,3,6,5,5,5,3,5,5,5,6,3,5,3,6,5,1,5,5,3,9,6,6,5,5,6,6,3,6,6,4,5,5,6,5,4,6,3,5,5,1,3,7,3,8,5,5,3,1,3,6,6,6,7,6,5,5,5,3,3,6,6,6,3,5,6,7,8,6,6,1,5,8,4,6,3,1,6,6,3,5,6,3,6,3,6,5,5,6,6,3,6,6,3,4,6,5,3,5,5,5,4,2,5,6,3,1,6,5,8,3,5,3,6,4,5,5,5,6,3,5,6,8,1,3,5,6,5,6,5,3,5,7,6,6,3,6,5,3,3,7,5,3,5,5,3,5,2,4,3,2,5,7,5,3,5,5,6,6,6,6,5,2,5,6,6,5,3,5,6,4,3,6,3,6,5,3,6,3,6,5,3,6,6,6,4,5,4,4,9,6,3,4,4,5,6,5,4,3,6,6,6,4,5,5,3,5,3,4,6,3,5,4,3,3,2,7,5,6,5,3,6,5,5,5,5,4,5,2,6,6,3,3,6,3,5,3,5,3,5,5,5,1,5,5,6,6,3,6,5,1,5,6,3,7,5,3,6,4,2,5,5,7,6,5,6,6,2,4,5,6,5,4,7,6,4,6,5,5,6,6,5,7,3,5,5,5,4,5,3,6,6,3,5,6,10,3,6,5,8,3,4,6,5,5,3,3,5,3,6,5,6,6,5,8,5,5,4,7,6,4,6,8,8,6,5,7,6,3,6,6,3,1,5,4,5,6,4,7,5,2,5,3,2,3,1,5,3,3,5,6,6,6,6,5,3,6,5,3,5,3,6,1,3,3,5,2,5,3,1,5,3,5,5,5,3,6,8,1,5,3,3,4,1,5,3,5,3,8,3,5,5,4,5,5,6,6,6,5,6,3,5,6,5,6,5,6,4,6,5,3,7,6,3,1,3,7,6,3,1,5,4,5,5,8,3,3,2,6,5,5,5,7,5,5,5,3,5,6,5,7,3,6,6,5,4,6,5,5,3,5,1,1,1,5,6,4,6,2,5,6,5,3,3,6,5,6,5,6,6,6,4,2,3,5,8,6,2,6,6,1,5,8,3,6,5,3,5,5,5,6,6,5,6,2,6,6,6,6,3,5,5,4,7,5,5,5,6,4,3,3,5,5,6,5,5,6,5,7,1,5,4,5,8,1,6,3,6,6,6,5,1,5,5,5,3,6,3,6,6,6,3,5,3,5,6,1,3,1,5,7,6,4,8,1,4,3,6,4,3,6,6,6,5,3,3,3,3,5,3,5,6,2,3,1,5,5,3,5,6,6,6,2,5,3,5,4,6,1,6,6,3,5,3,4,7,8,5,3,4,4,5,5,6,2,1,4,1,6,6,5,5,5,3,6,3,5,5,6,4,3,5,8,5,3,6,6,6,6,2,5,2,5,1,8,3,5,5,5,4,1,6,6,7,6,3,3,5,5,5,1,5,5,3,1,5,3,3,3,4,5,6,6,3,5,6,5,4,1,5,2,5,5,5,1,5,6,5,6,5,5,5,6,5,6,6,5,6,5,7,5,6,5,5,5,6,12,6,8,3,3,6,6,3,7,3,6,5,5,6,2,7,3,3,5,6,6,1,8,6,5,5,6,5,3,1,5,2,5,5,5,8,3,6,6,3,5,5,8,5,5,3,5,1,6,5,3,3,5,4,5,4,1,6,7,7,6,6,5,5,4,3,7,7,4,6,1,3,5,5,3,1,5,5,7,3,4,7,6,2,8,6,6,1,8,4,7,5,6,3,2,5,5,3,6,3,7,5,6,5,6,3,6,7,6,5,3,7,4,4,5,5,1,1,6,3,5,5,5,6,3,8,5,4,6,8,5,4,5,8,6,5,2,3,5,6,6,3,6,3,5,4,5,5,3,1,3,6,4,1,5,5,5,6,5,3,6,5,5,5,1,6,1,6,5,5,3,5,5,3,5,6,3,5,5,5,7,6,5,3,6,3,5,7,3,6,7,6,5,5,2,7,5,6,5,3,6,4,8,3,6,5,1,3,1,5,5,3,3,4,3,6,5,11,5,5,6,4,3,5,3,4,5,6,6,5,5,5,5,3,1,3,3,6,7,6,5,6,5,5,5,3,4,5,4,5,4,6,5,4,6,8,7,6,8,6,6,5,3,3,6,6,3,2,5,4,5,3,5,5,5,3,6,5,1,5,5,6,5,5,6,5,4,2,6,3,6,6,5,3,3,5,3,3,5,1,5,2,6,5,3,3,6,5,3,3,5,6,1,3,5,5,6,3,3,7,5,6,3,6,6,3,6,4,5,6,6,5,8,5,4,6,5,3,6,5,6,3,7,1,2,3,5,6,4,1,5,5,7,5,3,3,5,5,6,5,1,4,3,3,3,3,4,8,1,5,3,5,4,3,5,1,2,5,3,5,5,6,5,5,1,7,2,3,6,4,7,5,3,4,5,5,5,6,5,5,3,5,6,3,3,6,1,6,6,6,2,2,4,5,6,6,5,22,1,6,3,6,3,6,6,6,2,4,3,6,6,6,5,1,3,5,5,1,1,3,5,4,5,6,3,6,5,6,5,5,5,7,3,4,5,5,3,5,5,4,3,6,3,5,5,5,5,3,5,5,3,6,6,5,5,3,6,4,3,3,3,5,8,5,5,2,4,5,5,3,6,5,6,4,5,4,6,6,6,3,5,5,6,6,4,5,1,6,5,3,5,3,5,3,5,6,4,6,5,5,3,1,6,3,6,8,6,6,4,1,6,5,6,6,5,5,6,4,5,5,6,1,3,5,4,5,3,4,5,1,6,6,8,2,5,2,3,8,6,6,5,5,6,5,3,3,1,5,4,5,3,6,5,5,2,4,3,5,6,3,6,6,5,4,6,4,5,6,4,4,3,3,3,7,6,5,5,5,5,8,1,2,5,5,3,5,7,6,5,5,5,1,6,3,4,5,3,3,6,5,3,6,6,5,6,2,6,2,5,6,3,5,6,3,5,5,6,5,5,6,5,2,4,3,6,3,3,4,6,5,3,3,5,5,6,6,5,5,5,6,5,6,6,5,2,5,7,6,5,6,6,6,5,6,3,3,3,3,1,3,3,6,6,5,3,3,8,5,7,7,3,7,6,6,5,3,6,3,7,2,6,7,1,3,5,5,5,3,3,6,5,6,6,5,4,3,3,8,6,6,4,3,1,5,3,3,1,6,6,3,6,6,6,6,1,6,5,6,3,5,3,3,4,3,6,4,3,5,6,5,5,6,5,1,5,3,3,5,6,6,5,1,1,6,5,5,6,5,5,5,3,5,5,6,6,6,3,1,7,5,1,6,5,3,3,6,6,8,8,5,1,5,3,4,5,5,6,3,5,5,6,3,6,2,5,2,2,5,8,3,5,5,5,5,2,6,5,5,3,6,6,6,5,1,5,1,5,3,5,5,6,3,4,6,3,6,5,6,5,5,6,5,3,7,5,3,5,3,6,4,5,5,3,1,5,4,6,3,3,5,5,6,5,1,6,5,5,1,3,3,6,5,5,5,3,8,3,4,5,3,5,6,6,3,6,6,1,6,5,3,5,3,6,4,5,7,3,6,7,4,7,6,5,5,5,5,5,6,5,8,3,5,1,5,5,5,5,5,5,6,6,5,5,6,6,6,7,5,8,5,6,5,1,5,1,3,7,5,5,6,5,7,2,6,5,3,3,3,6,6,4,3,6,1,5,3,9,6,3,4,5,6,5,5,1,3,5,6,5,7,4,5,8,4,6,3,4,6,3,3,5,5,3,5,4,6,5,6,6,6,5,3,6,5,6,5,7,6,5,5,5,3,7,7,5,5,5,5,1,4,5,3,5,3,7,5,3,6,8,1,5,3,6,3,3,3,3,6,5,1,6,3,3,3,5,6,5,5,5,6,3,5,5,5,5,3,3,3,1,6,5,3,7,5,5,1,4,5,5,6,6,7,5,6,5,6,2,6,2,3,5,5,5,6,7,4,3,6,6,5,6,6,3,5,5,5,6,6,3,6,5,3,5,6,1,5,3,3,5,8,6,2,6,5,5,5,3,3,5,3,5,7,3,3,5,3,4,1,4,1,5,3,3,5,5,6,6,4,1,8,6,3,3,5,3,6,5,6,5,5,6,5,5,7,2,5,7,5,3,5,5,5,5,5,3,5,4,6,5,6,6,3,3,5,5,5,5,5,5,6,2,3,1,6,3,3,5,6,3,5,5,6,3,6,5,3,5,3,5,1,5,3,5,4,4,6,6,6,5,3,6,5,6,5,5,6,6,3,6,6,5,2,2,5,5,3,3,3,6,4,6,5,5,5,5,5,3,5,1,2,3,6,2,6,7,3,5,5,3,6,5,3,1,5,6,1,5,2,6,6,5,3,5,5,7,5,7,1,5,3,3,5,3,3,5,4,8,6,5,5,3,5,1,5,8,7,4,6,3,2,4,2,6,5,6,5,5,6,7,6,6,6,3,5,6,3,5,5,5,5,5,3,5,3,5,7,6,3,5,1,5,5,7,6,1,5,6,3,5,5,6,5,3,6,6,3,5,5,4,7,6,8,3,5,6,6,6,3,6,3,3,3,6,3,5,1,3,6,5,3,6,5,5,3,3,5,1,3,6,3,7,1,6,6,7,5,2,4,6,4,3,5,8,7,3,6,3,6,3,5,6,6,6,1,6,6,5,5,3,5,5,7,6,5,5,5,5,3,6,5,5,6,5,5,6,1,5,2,2,2,5,3,5,6,5,5,6,5,3,2,6,3,5,5,5,3,6,2,5,4,6,5,5,6,5,2,5,3,5,5,5,3,3,5,8,5,4,4,8,5,6,1,5,5,8,5,6,1,6,5,4,3,6,6,7,4,5,4,6,8,5,5,7,2,4,5,5,3,3,2,5,5,6,1,4,5,4,4,4,3,6,5,6,8,1,3,5,5,5,4,6,3,8,5,7,6,6,5,3,6,3,3,5,5,5,2,1,3,4,5,5,1,7,3,4,3,1,4,6,3,5,5,6,5,3,6,3,5,6,3,2,6,5,6,3,3,3,1,3,4,5,3,3,3,6,8,6,5,6,6,5,7,1,1,5,6,5,6,4,5,5,5,5,5,4,5,5,5,5,3,5,1,3,3,6,6,2,5,3,5,5,6,5,7,3,5,6,6,3,6,5,5,5,6,5,5,3,1,8,5,6,3,5,5,7,3,6,6,6,5,5,1,5,5,3,5,5,5,7,6,1,6,2,4,4,6,5,1,5,3,3,5,5,5,6,5,5,5,6,5,3,5,6,5,5,5,5,5,3,7,6,5,1,3,6,5,6,5,3,1,6,5,4,4,3,4,5,6,5,5,5,3,3,5,8,4,7,6,4,6,5,5,6,5,6,3,5,3,6,7,6,6,6,6,5,5,6,5,3,6,5,5,7,3,3,5,5,5,5,5,6,5,7,3,3,6,5,6,1,6,6,5,5,6,3,5,8,3,1,3,8,6,5,5,1,3,6,1,4,5,4,5,7,5,5,6,6,3,4,5,3,5,3,6,5,3,6,7,3,2,8,6,5,6,2,5,4,5,5,5,7,5,5,6,6,5,5,5,3,6,5,6,7,5,5,5,5,5,7,3,6,3,6,1,3,1,3,5,5,2,5,5,5,5,3,5,6,5,5,5,3,5,3,3,5,2,8,5,9,5,4,6,5,3,6,5,1,3,5,4,2,7,1,4,3,2,4,5,3,7,5,3,5,3,5,5,3,5,5,4,5,5,5,5,6,3,3,5,3,5,5,5,7,5,3,3,5,5,3,6,5,6,3,6,5,5,5,9,5,3,3,5,5,3,3,1,6,3,6,6,6,5,5,4,5,4,5,4,3,7,5,5,5,5,5,4,4,3,3,6,4,1,6,7,5,6,6,5,6,1,5,6,7,6,3,5,5,5,5,6,6,1,5,5,6,5,5,6,5,3,3,2,6,3,5,3,6,3,5,6,5,7,6,5,5,5,3,5,5,1,3,5,7,6,3,6,2,3,4,3,1,6,5,6,5,3,5,7,3,5,5,1,3,5,3,4,7,3,5,3,5,5,3,5,4,4,6,6,6,5,5,5,3,6,5,5,5,4,5,6,6,6,3,6,5,3,5,5,5,5,4,6,6,6,5,2,5,5,3,7,6,6,6,3,4,3,3,1,6,1,6,6,6,5,3,6,5,6,5,3,6,4,6,1,2,5,5,3,6,6,6,5,1,3,4,3,5,6,5,3,6,3,3,4,5,3,3,1,5,3,6,7,2,3,6,3,6,6,4,5,3,6,5,3,6,6,6,5,5,3,6,2,8,3,5,1,6,6,1,2,3,4,6,1,3,4,4,5,3,5,7,6,5,5,3,3,8,3,5,5,6,6,6,4,3,6,5,6,5,5,3,5,3,4,7,5,1,6,4,5,5,5,4,5,1,2,6,1,1,6,3,5,3,5,6,3,5,3,5,5,6,5,5,3,5,6,5,3,3,5,5,6,3,7,3,5,3,3,7,5,4,5,5,5,6,4,5,5,5,5,5,6,5,3,5,4,4,5,5,5,3,5,5,5,4,5,7,3,5,5,7,6,6,3,7,5,5,3,3,3,3,5,3,4,3,4,5,5,2,5,4,6,5,3,5,6,4,7,5,6,8,4,5,6,1,5,6,3,5,1,5,15,5,5,5,5,5,5,1,5,7,6,6,1,5,5,5,3,5,5,3,5,5,4,5,6,5,5,3,3,4,3,3,3,5,5,7,6,5,5,6,5,7,6,4,5,6,5,5,6,5,6,1,5,5,6,5,3,5,1,5,3,7,6,6,3,4,6,8,5,5,5,7,4,5,7,3,5,5,1,1,6,5,5,3,5,5,2,3,5,6,5,4,1,2,6,5,5,1,6,3,3,5,3,5,5,3,6,3,6,5,3,2,5,3,3,3,3,2,5,6,5,5,5,3,5,5,6,5,6,5,5,6,7,7,3,5,3,3,6,3,3,3,6,5,5,1,7,1,6,3,5,8,5,3,3,5,5,1,5,6,1,5,5,5,5,7,3,5,3,6,3,3,5,7,6,1,5,6,4,6,3,1,5,6,6,5,5,3,5,5,7,6,6,6,5,3,5,3,3,3,6,3,5,5,1,6,1,3,6,1,5,3,6,6,3,7,5,5,5,3,3,6,5,3,3,3,5,3,5,6,5,6,6,5,3,6,3,6,5,5,6,3,3,6,5,3,5,4,7,5,6,5,5,7,3,3,5,5,6,3,5,5,7,6,6,5,6,3,5,3,6,6,6,7,3,5,1,3,6,5,7,5,3,6,2,5,1,5,1,3,3,6,7,6,6,6,3,6,5,5,3,6,5,5,3,3,4,4,5,5,3,5,7,3,5,6,9,3,7,3,6,5,3,5,8,5,6,3,6,1,4,4,3,6,8,3,5,5,7,5,3,3,2,5,3,5,6,5,7,5,5,5,3,4,5,5,5,5,5,1,5,5,10,3,6,6,5,5,5,3,4,5,5,2,3,8,3,5,6,5,7,2,5,5,5,5,4,5,3,6,3,6,5,5,6,4,8,5,6,5,6,4,5,3,5,3,6,5,5,6,6,5,2,5,7,3,5,3,4,6,5,5,4,6,3,5,5,3,4,3,3,3,6,6,3,5,3,3,5,3,6,5,5,6,5,6,1,6,8,7,5,5,4,5,5,3,3,5,3,6,7,5,6,6,5,4,4,3,5,6,6,6,7,10,2,3,6,4,5,3,5,6,6,5,6,1,6,8,6,5,3,5,1,3,5,3,3,3,6,6,5,5,6,4,3,5,3,5,7,3,2,6,5,5,3,6,6,6,5,3,5,6,5,5,6,8,7,5,3,5,5,4,5,6,3,3,3,6,8,5,5,6,5,3,5,1,3,6,6,8,4,8,3,3,5,6,3,5,1,6,6,6,5,6,2,6,1,5,4,6,3,7,5,3,3,1,6,5,3,5,1,7,5,5,6,3,6,6,5,3,6,6,3,5,9,6,5,6,2,6,8,3,7,6,6,5,5,6,3,5,5,5,5,3,6,1,7,5,7,7,6,3,5,6,3,2,6,5,3,6,7,5,5,5,5,6,1,3,3,8,5,5,6,3,4,6,1,8,2,5,5,4,5,6,6,6,1,3,5,6,7,5,5,3,5,6,5,3,6,5,3,6,6,6,5,3,6,4,5,5,3,4,5,8,6,6,4,5,5,5,5,5,5,6,3,6,5,5,3,3,5,4,7,3,6,5,5,5,5,6,5,5,6,5,1,1,5,5,1,6,5,3,1,2,3,6,5,5,5,5,6,6,5,3,3,5,4,2,6,5,3,2,3,3,3,3,6,6,6,1,6,3,3,3,4,5,3,5,3,6,7,6,5,5,7,5,6,4,5,5,5,6,5,3,7,3,3,5,5,5,3,5,5,5,3,5,3,2,4,1,6,5,5,5,3,6,7,1,7,5,3,6,3,5,7,5,5,3,5,5,3,6,3,5,6,5,5,3,6,5,6,5,5,5,5,5,4,6,6,5,5,5,5,5,5,3,3,3,3,6,3,5,3,6,5,5,5,3,4,4,5,4,1,3,5,3,7,5,5,5,5,7,5,1,5,3,5,5,4,2,3,3,3,1,1,5,6,2,6,7,2,5,2,5,1,3,3,3,3,5,6,3,3,5,5,5,6,4,3,3,5,6,4,3,3,6,1,7,2,2,5,3,1,5,5,6,1,8,5,3,5,3,5,3,4,6,5,5,4,1,5,2,5,5,6,5,5,6,3,6,7,5,6,3,6,5,3,4,6,4,7,6,3,6,8,6,5,5,4,5,8,4,6,5,6,6,5,6,5,5,6,4,4,1,5,5,4,6,1,6,5,5,4,2,3,6,5,3,7,3,3,8,5,6,3,5,6,5,5,3,5,4,3,5,3,3,5,1,3,7,5,5,6,1,11,6,5,6,5,3,5,6,7,7,6,6,5,3,6,5,6,5,4,6,7,5,2,6,5,1,5,6,5,4,6,5,3,5,5,5,3,3,1,3,3,3,4,3,1,4,3,3,5,3,3,5,3,5,7,6,3,6,5,2,8,5,5,6,5,3,7,5,3,4,5,5,6,5,5,4,5,3,6,3,6,6,6,5,5,5,5,3,5,6,3,5,7,5,5,3,6,3,7,4,5,5,5,6,5,3,4,6,3,4,6,5,3,5,3,5,5,5,6,6,3,5,5,8,5,3,4,5,8,5,3,3,5,5,6,3,6,5,5,6,6,2,6,6,2,4,5,5,5,5,6,5,3,3,5,3,8,6,5,6,5,3,5,3,3,3,1,5,3,5,6,5,5,2,6,6,5,6,3,5,6,3,2,3,4,1,7,2,5,5,5,7,9,6,6,5,3,5,6,3,1,3,6,5,6,6,5,3,6,5,2,5,5,3,5,8,6,4,5,3,6,4,3,5,5,6,6,6,4,5,3,5,4,5,6,6,5,5,4,4,3,6,6,5,8,3,5,3,1,3,6,6,6,6,5,6,5,1,6,4,5,6,6,6,5,6,6,6,5,4,8,3,4,5,4,5,5,7,5,5,5,5,5,5,3,4,5,5,3,3,5,6,5,5,5,5,1,3,5,6,3,5,5,4,5,6],\"z\":[0,0,0,0,0,0,0,0,0,0,0,0,0,0,0,0,0,0,0,0,0,0,0,0,0,0,0,0,0,0,0,0,0,0,0,0,0,0,0,0,0,0,0,3,0,0,0,0,0,0,0,0,0,0,0,0,0,0,0,0,0,0,0,0,0,0,0,1,0,0,0,0,0,0,0,0,0,0,0,0,0,0,0,0,0,0,0,0,0,0,0,0,1,0,0,0,0,0,0,1,0,0,0,0,0,0,0,0,0,0,0,0,0,0,0,0,0,0,0,0,0,1,0,0,0,0,0,0,0,0,0,0,0,0,0,0,0,0,0,0,0,0,0,0,0,0,0,0,0,0,0,0,0,0,0,0,0,0,0,0,0,0,0,0,0,0,0,0,0,0,0,0,0,0,0,0,0,0,0,0,0,0,0,0,0,0,0,0,0,0,0,0,0,0,0,0,0,0,0,0,0,0,0,0,0,0,0,0,0,0,0,0,0,0,0,0,0,0,0,0,0,0,0,0,0,0,0,0,0,0,0,0,0,0,0,0,4,0,0,0,0,0,0,0,0,0,0,0,0,0,0,0,0,0,0,0,0,0,0,1,0,0,0,0,0,0,0,0,0,0,0,0,0,0,0,0,0,0,0,0,0,0,0,1,0,0,0,0,0,0,0,0,0,0,0,0,0,0,0,0,0,0,0,0,0,0,0,0,0,0,0,0,0,0,0,0,0,0,0,0,0,0,0,0,0,0,0,0,0,0,0,0,0,0,0,0,0,0,0,0,0,0,0,0,0,0,0,0,0,0,0,0,0,0,0,0,0,0,0,0,0,0,0,0,0,1,0,0,0,0,0,0,0,0,0,0,0,0,0,0,0,0,0,0,0,0,0,0,0,0,0,0,0,0,0,0,0,0,0,0,0,0,0,0,0,0,0,0,0,0,0,0,0,0,0,0,0,0,0,0,0,0,0,0,0,0,0,0,0,0,0,0,0,0,0,0,0,0,0,0,0,0,0,0,0,0,0,0,0,0,0,0,0,0,0,0,0,0,0,0,0,0,0,0,0,0,0,0,0,0,0,0,0,0,1,0,0,0,0,0,0,0,0,0,0,3,0,0,0,0,0,0,0,0,0,0,0,0,0,0,0,0,0,0,0,0,0,0,0,0,0,0,0,0,0,0,0,0,0,0,0,0,0,0,0,0,0,0,0,0,0,0,0,0,0,0,0,0,0,0,0,0,0,0,0,0,0,0,0,0,0,0,0,0,0,0,0,0,3,0,0,0,0,0,0,0,0,0,0,0,0,0,0,0,0,0,0,0,0,0,0,0,0,0,0,0,0,0,0,0,0,0,0,0,0,0,0,0,0,0,0,0,0,0,0,0,0,0,0,0,0,0,0,0,0,0,0,0,0,0,0,0,0,0,0,0,0,0,0,0,0,0,0,0,0,0,0,0,0,0,0,0,0,0,0,0,0,0,0,0,0,0,0,0,0,0,1,0,0,0,0,0,0,0,0,0,0,0,0,0,0,0,0,0,2,0,0,0,0,0,0,0,0,0,0,0,0,0,0,0,0,0,0,0,0,0,0,0,0,0,0,0,0,0,0,0,0,0,0,0,0,0,0,0,0,0,0,0,0,0,0,0,0,0,0,0,0,0,0,0,0,0,0,0,0,0,0,0,0,0,0,0,0,0,3,0,0,0,0,0,0,0,0,0,0,0,0,0,0,0,0,0,0,0,0,0,0,0,0,0,0,0,0,0,0,0,0,0,0,0,0,0,0,0,0,0,0,0,0,0,0,0,0,0,0,0,0,0,0,0,0,0,0,0,0,0,0,0,0,0,0,0,0,0,0,1,0,0,0,0,0,0,0,0,0,0,0,0,0,0,0,0,0,0,0,0,0,0,0,0,0,0,0,0,0,0,0,0,3,4,1,0,0,0,1,0,0,0,0,0,0,0,0,0,0,3,0,0,0,0,0,0,0,0,0,0,0,0,0,0,0,0,0,0,0,0,0,0,0,0,0,0,0,0,0,0,0,0,0,0,0,0,0,0,0,0,0,0,0,0,0,0,0,0,0,0,0,0,0,0,0,0,0,0,0,0,2,0,0,0,0,0,0,0,0,0,0,0,0,0,0,0,0,0,0,0,0,0,0,0,0,0,0,0,0,0,0,0,0,0,0,0,0,0,0,0,0,0,0,0,0,0,0,0,0,0,0,0,0,0,0,0,0,0,0,0,0,0,3,0,0,0,0,0,0,0,0,0,0,0,0,0,0,0,0,0,0,0,0,0,0,0,0,0,0,0,0,0,1,0,0,0,0,0,0,0,0,0,0,0,0,0,0,0,0,0,0,0,0,0,0,0,0,0,0,0,0,0,0,0,0,0,0,0,0,0,0,0,0,0,2,0,0,0,0,0,0,0,0,0,0,0,0,0,0,0,0,0,0,0,0,0,0,0,0,0,0,0,0,0,0,0,0,0,0,0,0,0,0,0,0,0,0,0,0,0,0,0,1,0,0,0,0,0,0,0,0,0,0,0,0,0,0,0,0,0,0,0,0,0,0,0,0,0,1,0,0,0,0,0,0,0,0,0,0,0,0,0,0,0,0,0,0,0,0,0,0,0,0,0,0,0,0,0,0,0,0,0,0,0,0,0,0,0,0,0,0,0,0,0,0,0,0,0,0,0,0,0,0,0,0,0,0,0,0,0,0,0,0,0,0,0,0,0,0,0,0,0,0,0,0,0,0,0,0,0,0,0,0,0,0,0,0,0,0,0,0,0,0,0,0,0,0,0,0,0,0,0,0,0,0,0,0,0,0,0,0,0,0,0,0,0,0,0,0,0,0,0,0,1,0,0,1,0,0,0,0,0,0,0,0,0,0,0,0,0,0,0,0,0,0,0,0,0,0,0,0,0,0,0,0,0,0,0,0,0,0,0,0,0,0,0,0,0,0,0,0,0,0,0,0,0,0,0,0,0,0,0,0,0,0,0,0,0,0,0,0,0,0,0,0,0,0,0,0,0,0,0,0,0,0,0,1,0,0,0,0,0,0,0,0,0,0,0,0,0,0,0,0,0,0,0,0,0,0,0,0,0,0,0,0,0,0,0,0,0,0,0,0,0,0,0,0,0,0,0,0,0,0,0,0,0,0,2,0,0,0,0,0,0,0,0,0,0,0,0,0,0,0,0,0,0,0,0,0,0,0,0,0,0,0,0,0,0,0,0,0,0,0,0,0,0,0,0,0,0,0,0,0,0,0,0,0,0,0,0,0,0,0,0,0,0,0,0,0,0,0,0,0,0,0,0,0,0,0,0,0,0,0,0,0,0,0,0,0,0,0,0,0,0,0,0,0,0,0,0,0,0,0,0,0,0,0,0,0,0,0,0,0,0,0,0,0,0,0,0,0,0,0,0,0,0,0,0,0,0,0,0,0,0,0,0,0,0,0,0,0,0,0,0,0,0,0,0,0,0,0,0,0,0,0,0,0,0,0,0,0,0,0,0,0,0,0,0,0,0,0,0,0,0,0,0,0,0,0,0,0,0,0,0,0,0,0,0,0,0,0,0,0,0,0,0,0,0,1,0,0,0,0,0,0,0,0,0,0,0,0,0,0,0,0,0,0,0,0,0,0,1,0,0,0,0,0,0,0,0,0,0,0,0,0,0,0,0,0,0,0,0,0,0,0,0,0,0,0,0,0,0,0,0,0,0,0,0,0,1,0,0,0,0,0,0,0,0,0,0,0,0,0,0,0,0,0,0,0,0,0,0,0,0,0,0,0,0,0,0,0,0,0,0,1,0,0,0,0,0,0,0,0,0,0,0,0,0,0,0,0,0,1,0,0,0,0,0,0,0,0,0,0,0,0,0,0,0,0,0,0,0,0,0,0,0,0,0,0,0,0,0,0,0,0,0,0,0,0,0,0,0,0,0,0,0,0,0,0,0,0,0,0,0,0,0,0,0,0,0,0,0,2,0,0,0,0,0,0,0,0,0,0,0,0,0,0,0,0,0,0,0,0,0,0,0,0,0,0,0,0,0,0,0,0,0,0,0,0,0,0,0,0,0,0,0,0,0,0,0,0,0,0,0,0,0,0,0,0,0,0,0,0,0,0,0,0,0,0,0,0,0,0,0,0,1,0,0,0,0,1,0,0,0,0,0,0,0,0,0,0,0,0,0,0,0,0,0,0,0,0,0,0,0,0,0,0,0,0,0,0,0,0,0,0,0,0,0,0,0,0,0,0,0,0,0,0,0,0,0,0,0,0,0,0,0,0,0,0,0,0,0,0,0,0,0,1,0,0,0,0,0,0,0,0,0,0,0,0,0,0,0,0,0,0,0,0,0,0,0,0,0,0,2,0,0,0,0,0,0,0,0,0,0,0,0,0,0,0,0,0,0,0,0,0,0,0,0,0,0,0,0,0,0,0,0,0,0,0,0,0,0,0,0,0,0,0,0,0,0,0,0,0,0,0,0,0,0,0,0,0,0,0,0,0,0,0,0,0,0,0,0,0,0,0,0,0,0,0,0,0,0,0,0,0,0,0,0,0,0,1,0,0,0,0,0,0,0,0,0,0,0,0,0,0,0,0,0,0,0,0,0,0,0,0,0,0,0,0,0,0,0,0,0,0,0,0,0,0,0,0,0,0,0,0,0,0,0,0,0,0,0,0,0,0,0,0,0,0,0,0,0,0,0,0,0,0,0,0,0,0,0,0,0,0,0,0,0,0,0,0,0,0,0,0,0,0,0,0,0,0,0,0,0,0,0,0,0,0,0,0,0,0,0,0,0,0,0,0,0,0,0,0,0,0,0,0,0,0,0,0,0,0,0,0,0,0,0,0,0,0,0,0,0,0,0,0,0,0,0,0,0,0,0,0,0,0,0,0,0,0,0,0,0,0,0,0,0,0,0,0,0,0,0,0,0,1,0,0,0,0,0,0,0,0,0,0,0,0,0,0,0,0,0,0,0,0,0,0,0,0,0,0,0,0,0,0,0,0,0,0,0,0,0,0,0,0,0,0,0,0,0,0,0,0,0,0,0,0,0,0,0,0,0,0,0,0,0,1,0,0,0,0,0,0,0,0,0,0,0,0,0,0,0,0,0,0,0,0,0,0,0,0,0,0,0,0,0,0,0,0,0,0,0,0,0,0,0,0,0,0,0,0,0,0,0,0,0,0,0,0,0,0,0,0,0,0,0,0,0,0,0,0,0,0,0,0,0,0,0,0,0,0,0,0,1,0,0,0,0,0,0,0,0,0,0,0,0,0,0,0,0,0,0,0,0,0,0,0,0,0,0,0,0,0,0,0,0,0,0,0,0,0,0,0,0,0,0,0,0,0,0,0,0,0,0,0,0,0,0,0,0,0,0,0,0,0,0,0,0,0,0,0,0,0,0,0,0,0,0,0,0,0,0,0,0,0,0,0,0,0,0,0,0,0,0,0,0,0,0,0,0,0,0,0,0,0,0,0,0,0,0,0,0,0,0,0,0,0,0,0,0,0,0,0,0,0,0,0,0,0,0,0,0,0,1,0,0,0,0,0,0,0,0,0,0,0,0,0,0,0,0,0,0,0,0,0,0,0,0,0,0,0,0,0,0,0,0,0,0,0,0,0,0,0,0,0,0,0,0,0,0,0,0,0,0,0,0,0,0,0,0,0,0,0,0,0,0,0,0,0,0,0,0,0,0,0,0,0,0,0,0,0,0,0,0,0,0,0,0,0,0,0,0,0,0,0,0,0,0,0,0,0,0,0,0,0,0,0,0,0,0,0,0,0,0,0,0,0,0,0,0,0,0,0,0,0,0,0,0,0,0,0,0,1,0,0,0,0,0,0,0,0,0,0,0,0,0,0,0,1,0,0,0,0,0,0,0,0,0,0,0,0,0,0,0,0,0,0,0,0,1,0,0,0,0,0,0,0,0,0,0,0,0,0,0,0,0,0,0,0,0,0,0,0,0,0,0,0,0,0,0,0,0,0,0,0,0,0,0,0,0,0,0,0,0,0,0,0,0,0,0,0,0,0,0,0,0,0,0,0,0,0,0,0,0,0,0,0,0,0,0,0,0,0,0,0,0,0,0,0,0,0,0,0,0,0,0,0,0,0,0,0,0,0,0,0,0,0,0,0,0,0,0,0,0,0,0,0,0,0,0,0,0,0,0,0,0,0,0,0,0,0,0,0,0,0,0,1,0,0,0,0,0,0,0,0,0,0,0,0,0,0,0,0,0,0,0,0,0,0,0,0,0,0,0,0,0,0,0,0,0,0,0,0,0,0,0,0,0,0,0,0,0,0,0,0,0,0,0,0,0,0,0,0,0,0,0,0,0,0,0,0,0,0,0,0,0,0,0,0,0,0,0,0,0,0,0,0,0,0,0,0,0,0,0,0,0,0,0,0,0,0,0,0,0,0,0,0,0,0,0,0,0,0,0,0,0,0,0,0,0,0,0,0,0,0,0,0,0,0,0,0,0,0,0,0,0,0,0,0,0,0,0,0,0,0,0,0,0,0,0,0,0,0,0,0,0,0,0,0,0,0,0,0,0,0,1,0,0,0,0,0,0,0,0,1,0,0,0,0,0,0,0,0,0,0,0,0,0,0,0,0,0,0,0,0,0,0,0,0,0,0,0,0,0,0,0,0,0,0,0,0,0,0,0,0,0,0,0,0,0,0,0,0,0,0,0,0,0,0,0,0,1,0,0,0,0,0,0,0,0,0,0,0,0,0,0,0,0,0,1,0,0,0,0,0,0,0,0,0,0,0,0,0,0,0,0,0,0,0,0,0,0,0,0,0,0,0,0,0,0,0,0,0,0,0,0,0,0,0,1,0,0,0,0,0,0,0,0,0,0,0,0,0,0,0,0,0,0,0,0,0,0,0,0,0,0,0,0,0,0,0,0,0,0,0,0,0,0,0,0,0,0,0,0,0,0,0,0,0,0,1,0,0,0,0,0,0,0,0,0,0,0,0,0,0,0,0,0,0,0,0,0,0,0,0,0,0,0,0,0,0,0,0,0,0,0,0,0,0,0,0,0,0,0,0,0,0,0,0,0,0,0,0,0,0,0,0,0,0,0,1,0,0,0,0,0,0,0,0,0,0,0,0,0,0,0,0,0,0,0,0,0,0,0,0,0,0,0,0,0,0,0,0,0,0,0,0,0,0,0,0,0,0,0,2,0,0,0,0,0,0,0,0,0,0,0,0,0,0,0,0,0,0,0,0,0,0,0,0,0,0,0,0,0,0,0,0,0,0,0,0,0,0,0,0,0,0,0,0,0,0,0,0,0,0,0,0,0,0,0,0,0,0,0,0,0,0,0,0,0,0,0,0,0,0,0,0,0,0,0,0,0,0,0,0,0,0,0,0,0,0,2,0,0,0,0,0,0,0,0,0,0,0,0,0,0,0,0,1,0,0,0,0,0,0,0,0,0,0,0,0,0,0,0,0,0,0,0,0,0,0,0,0,0,0,0,0,1,0,0,0,0,0,0,0,0,0,0,0,0,0,0,0,0,0,0,0,0,0,0,0,0,0,0,0,0,0,0,0,0,0,0,0,0,0,0,0,0,0,0,0,0,0,0,0,0,0,0,0,0,0,0,0,0,0,0,0,0,0,0,0,0,0,0,0,0,0,0,0,0,0,0,0,0,0,0,0,0,0,0,0,0,0,0,0,0,0,0,0,0,0,0,0,0,0,0,0,0,0,0,0,0,0,0,0,0,0,0,0,0,0,0,0,0,0,0,0,0,0,0,0,0,0,0,0,0,0,0,0,0,0,0,0,0,0,0,0,0,0,0,0,0,0,0,0,0,0,0,0,0,0,0,0,0,0,0,0,0,0,0,0,0,0,0,0,0,0,0,0,0,0,0,0,0,0,0,0,0,0,0,0,0,1,0,0,0,0,0,0,0,0,0,0,0,0,0,0,0,0,0,0,0,0,0,0,0,0,0,0,0,0,0,0,0,0,0,0,0,0,0,0,0,0,0,0,0,0,0,0,0,0,0,0,0,0,0,0,0,0,0,0,0,0,0,0,0,0,0,0,0,0,0,0,0,0,0,0,2,0,0,0,0,0,0,0,0,0,0,0,0,3,0,0,0,0,0,0,0,0,0,0,0,0,0,0,0,0,0,0,0,0,0,0,0,0,0,0,0,0,0,0,0,0,0,0,0,0,0,0,0,0,0,0,0,0,0,0,0,0,0,0,0,0,0,0,0,0,0,0,0,0,0,0,0,0,0,0,0,1,0,0,0,0,0,0,0,0,0,0,0,0,0,0,0,0,0,0,0,0,0,0,0,0,0,0,0,0,0,0,0,0,0,0,0,0,0,0,0,0,0,0,0,0,0,0,0,0,0,0,0,0,0,0,0,0,0,0,0,0,0,0,0,0,0,0,0,0,0,0,0,0,0,0,0,0,0,0,0,0,0,0,0,0,0,0,0,0,0,0,0,0,0,0,0,0,0,0,0,0,0,0,0,0,0,0,0,0,0,0,0,0,0,0,0,0,0,0,0,0,0,0,0,0,0,0,0,0,0,0,0,0,0,0,0,0,0,0,0,0,0,0,0,0,0,0,1,0,0,0,0,0,0,0,0,0,0,0,0,0,0,0,0,0,0,0,0,0,0,0,0,0,0,0,0,0,0,0,0,0,0,0,0,0,0,0,0,0,0,0,0,0,0,0,0,0,0,0,0,0,0,0,0,0,0,0,0,0,0,0,0,0,0,0,0,0,0,0,0,0,0,0,0,0,0,0,0,0,0,0,0,0,0,0,0,0,0,0,1,0,0,0,0,0,0,0,0,0,0,0,0,0,0,0,0,0,0,0,0,0,0,0,0,0,0,0,0,0,0,0,0,0,0,0,0,0,0,0,0,0,0,0,0,0,3,0,0,0,0,0,0,0,0,0,0,0,0,0,0,0,0,0,0,0,0,0,0,0,0,0,0,0,0,0,0,0,0,0,0,0,0,0,0,0,0,0,0,0,0,0,0,0,0,0,0,0,0,0,0,0,0,0,0,0,0,0,0,0,0,0,0,0,0,0,0,0,0,0,0,0,0,0,0,0,0,0,0,0,0,0,0,0,0,0,0,0,0,0,0,0,0,0,0,0,0,0,0,0,0,0,0,0,0,0,0,0,0,0,0,0,0,0,0,0,0,0,0,0,0,0,0,0,0,0,0,0,0,0,0,0,0,0,0,0,0,0,0,0,0,0,0,0,0,0,0,0,0,0,0,0,0,0,0,0,0,0,0,0,0,0,0,0,0,0,0,0,0,0,0,0,0,0,0,0,0,0,0,0,0,0,0,0,0,0,0,0,0,0,0,0,0,0,0,0,0,0,0,0,0,0,0,0,0,0,0,0,0,0,0,0,0,0,0,0,0,0,0,0,0,0,0,0,0,0,0,0,0,0,0,0,0,0,0,0,0,0,0,0,0,0,0,0,0,0,0,0,0,1,0,0,0,0,0,0,0,0,0,0,0,0,0,0,0,0,0,0,0,0,0,0,0,0,0,0,0,0,0,0,0,0,0,1,0,0,0,0,0,0,0,0,0,0,0,0,0,0,0,0,0,0,0,0,0,0,0,0,0,0,0,0,0,0,0,0,0,0,0,0,2,0,0,0,0,0,0,0,0,0,0,0,0,0,0,0,0,0,0,0,0,0,0,0,0,0,0,0,0,0,0,0,0,0,0,0,0,0,0,0,0,0,0,0,0,0,0,0,0,0,0,0,0,0,0,0,0,0,0,0,0,0,0,0,0,0,0,0,0,0,0,0,0,0,0,0,0,0,0,0,0,0,0,0,0,0,0,0,0,0,0,0,0,0,0,0,0,0,0,0,0,0,0,0,0,0,0,0,0,0,0,0,0,0,0,0,0,0,0,0,0,0,0,0,0,0,0,0,0,0,0,0,0,0,0,0,0,0,0,0,0,0,0,0,0,0,0,0,0,0,0,0,3,0,0,0,0,0,0,0,0,0,0,0,1,0,0,0,0,0,0,0,0,0,0,0,0,0,0,0,0,0,0,0,0,0,0,0,0,0,0,0,0,0,0,0,0,0,0,0,0,0,0,0,0,0,0,0,0,0,0,0,0,0,0,0,0,0,0,0,0,0,0,0,0,0,0,0,0,0,0,0,0,0,0,0,0,0,0,0,0,0,0,0,0,0,0,0,0,0,0,0,0,0,0,0,0,0,0,3,0,0,0,0,0,0,0,0,0,0,0,0,0,0,0,0,0,0,0,0,0,0,0,0,0,0,0,0,0,0,0,0,0,0,0,0,0,0,0,0,0,0,0,0,0,0,0,0,0,0,0,0,0,0,0,2,0,0,0,0,1,0,0,0,0,0,0,0,0,0,0,0,0,0,0,0,0,0,0,0,0,0,0,0,0,0,0,0,0,0,0,0,0,0,0,0,0,0,0,0,0,0,0,0,0,0,0,0,0,0,0,0,0,0,0,0,0,0,0,0,0,0,0,0,0,0,0,0,0,0,0,0,0,0,0,0,0,0,0,0,0,0,0,0,0,0,0,0,0,1,0,0,0,0,0,0,0,0,0,0,0,0,0,0,0,0,0,0,0,0,0,0,0,0,0,0,0,0,0,0,0,0,0,0,0,0,0,0,0,0,0,0,0,0,0,0,0,0,0,0,0,0,0,0,0,0,0,0,0,0,0,0,0,0,0,0,0,0,0,0,0,0,0,0,0,0,0,0,0,0,0,0,0,0,0,1,0,0,0,0,0,0,0,0,0,0,0,0,0,0,0,0,0,0,0,0,0,0,0,0,0,0,0,0,0,1,0,0,0,0,0,0,0,0,0,0,0,0,0,0,0,0,0,0,0,0,0,0,0,0,0,0,0,0,0,0,0,0,0,0,0,0,0,0,0,0,0,0,0,0,0,0,0,0,0,0,0,0,0,0,0,0,0,0,0,0,0,0,0,0,0,0,0,0,0,0,0,0,0,0,0,1,0,0,0,0,0,0,0,0,0,0,1,0,0,0,0,0,0,0,0,0,0,0,0,0,0,0,0,0,0,0,1,0,4,0,0,0,2,0,0,0,0,0,0,0,0,0,0,0,0,0,0,0,0,0,0,0,0,0,0,0,0,0,0,0,0,0,0,0,0,0,0,0,0,0,0,0,0,0,0,0,0,0,0,0,0,0,0,0,0,0,0,0,0,0,0,0,0,0,0,0,0,0,0,0,0,1,0,0,0,0,0,0,0,0,0,0,0,0,0,0,0,0,0,0,0,0,0,0,0,0,0,0,0,0,0,0,0,0,0,0,0,0,0,0,0,0,0,1,0,0,0,0,0,0,0,0,0,0,0,0,0,0,0,0,0,0,0,0,0,0,0,0,0,0,0,0,0,0,0,0,0,0,0,0,0,0,0,0,0,0,0,0,0,0,0,0,0,0,0,0,0,0,0,0,0,0,0,0,0,0,0,0,0,0,0,0,0,0,0,0,0,0,0,0,0,0,0,0,0,0,0,0,0,0,0,0,0,0,0,0,0,0,0,0,0,0,0,0,0,0,0,0,0,0,0,0,0,0,0,0,0,0,0,0,0,0,0,0,0,0,0,1,0,0,0,0,0,0,0,0,0,0,2,0,0,0,0,0,0,0,0,0,0,0,0,0,0,0,0,0,0,0,0,0,0,0,0,0,0,0,0,0,0,0,0,0,0,0,0,0,0,0,0,0,0,0,0,0,0,0,0,0,0,0,0,0,0,0,0,0,0,0,0,0,0,0,0,0,0,0,0,0,0,0,0,0,0,0,0,0,0,0,0,0,0,0,0,0,0,0,0,0,0,0,0,0,0,0,0,0,0,0,0,0,0,0,0,0,0,0,0,0,0,0,0,0,0,0,0,0,0,0,0,0,0,0,0,0,0,0,0,0,0,0,0,0,0,0,0,0,0,0,0,0,0,0,0,0,0,0,0,0,0,0,0,0,0,0,0,0,0,0,0,0,0,0,0,0,0,0,0,0,0,0,0,0,0,0,0,0,0,0,0,0,0,0,0,0,0,0,0,0,0,0,0,0,0,0,0,0,0,0,0,0,0,0,0,0,0,0,0,0,0,0,0,0,0,0,0,0,0,3,0,0,0,0,0,0,0,0,0,0,0,0,0,0,0,0,0,0,0,0,0,0,0,0,0,0,0,0,0,0,3,0,0,0,0,0,0,0,0,0,0,0,0,0,0,0,0,0,0,0,0,0,0,0,0,0,0,0,0,0,0,0,0,0,0,0,0,0,0,0,0,0,0,0,0,0,0,0,0,0,0,0,0,0,0,0,0,0,0,0,0,0,0,0,0,0,0,0,0,0,0,0,0,0,0,0,0,0,0,0,0,0,0,0,0,0,0,0,0,0,0,0,1,0,0,0,0,0,0,0,0,0,0,0,0,0,0,0,0,0,0,0,0,0,1,0,0,0,0,0,0,0,0,0,0,0,0,0,0,0,0,0,0,0,0,0,0,0,0,0,0,0,0,0,0,0,0,0,0,0,0,0,0,0,0,0,0,0,0,0,0,0,0,0,0,0,0,0,0,1,0,0,3,0,0,0,0,0,0,0,3,0,0,1,0,0,0,0,0,0,0,1,0,0,0,0,0,0,0,0,0,0,0,0,0,0,0,0,0,0,0,0,0,0,0,0,0,0,0,0,0,0,0,0,0,0,0,0,0,0,0,0,0,0,0,0,0,0,0,0,0,0,0,0,0,0,0,0,0,0,0,0,0,0,0,0,0,0,0,0,0,0,0,0,0,0,0,0,0,0,0,0,0,0,0,0,0,0,0,0,0,0,0,0,0,0,0,0,0,0,0,0,0,0,0,0,0,0,0,0,0,0,0,0,0,0,0,0,0,0,0,0,0,0,0,0,0,0,0,0,0,0,0,0,0,0,0,0,0,0,0,0,0,0,0,0,0,0,0,0,0,0,0,0,0,0,0,0,0,0,0,0,0,0,0,0,0,0,2,0,0,0,0,0,0,0,0,0,0,0,0,0,0,0,0,0,0,0,0,0,0,0,0,0,0,0,0,0,0,0,0,0,0,0,0,0,0,0,0,0,0,0,0,0,0,0,0,0,0,0,0,0,0,0,0,0,0,0,0,0,0,0,0,0,0,0,0,0,0,0,0,0,0,0,0,0,0,0,0,0,0,0,1,0,0,0,0,0,0,0,0,0,0,0,0,0,0,0,0,0,0,0,0,0,0,0,0,0,0,0,0,0,0,0,0,0,0,0,0,0,0,0,0,0,0,0,0,0,0,0,0,0,0,0,0,0,0,0,0,0,0,1,0,0,0,0,0,0,0,0,0,0,0,0,0,0,0,0,0,0,0,0,0,0,0,0,0,0,0,0,0,0,0,0,0,0,0,0,0,0,0,0,0,0,0,0,0,0,0,0,0,0,0,0,0,0,0,0,0,0,0,0,0,0,0,0,0,0,0,0,0,0,0,0,0,1,0,0,0,0,0,0,0,0,0,0,0,0,0,0,0,0,0,0,0,0,1,0,0,0,0,0,0,0,0,0,0,0,0,3,0,0,0,0,0,0,0,0,0,0,0,0,0,0,0,0,0,0,0,0,0,0,0,0,0,0,0,0,0,0,0,0,0,0,0,0,0,0,0,0,0,0,0,0,0,0,0,0,0,0,0,0,0,0,0,0,0,0,0,1,0,0,0,0,0,0,0,0,0,0,0,0,0,0,0,0,0,0,0,0,0,0,0,0,0,0,0,0,0,0,0,0,0,0,0,0,0,0,0,0,0,0,0,0,0,0,0,0,0,0,0,0,0,0,0,0,0,0,0,0,0,0,0,0,0,0,0,0,0,0,0,0,0,0,0,0,0,0,0,0,0,0,0,0,0,0,0,0,0,0,0,0,0,0,0,0,0,0,0,0,0,0,0,0,0,0,0,0,0,0,0,0,0,0,0,0,0,0,0,0,0,0,0,0,0,0,0,0,0,0,0,0,0,0,0,0,0,0,0,0,0,0,0,0,0,0,0,0,0,0,0,0,0,0,0,0,0,0,0,0,0,0,0,0,0,0,0,0,0,0,0,0,0,0,0,0,0,0,0,0,0,0,0,0,0,0,0,0,0,0,0,0,0,0,0,0,0,0,0,0,0,0,0,0,0,0,0,1,0,0,0,0,0,0,0,0,0,0,1,0,0,0,0,0,0,0,0,0,0,0,0,0,0,0,0,0,0,0,0,0,0,0,0,0,0,0,0,0,0,0,0,0,0,0,0,0,0,0,0,0,0,0,0,0,0,0,0,0,0,0,0,0,0,0,0,0,1,0,0,0,0,0,0,0,0,0,0,0,0,0,0,0,0,0,0,0,0,0,1,0,0,0,0,0,0,0,0,0,0,0,0,0,0,0,0,0,0,0,0,0,0,0,0,0,0,0,0,0,0,0,0,0,0,0,0,0,0,0,0,0,0,0,0,0,0,0,0,0,0,0,0,0,0,0,0,0,0,0,0,0,0,0,0,0,0,0,0,0,0,0,0,0,0,0,0,0,0,0,0,0,0,0,0,0,0,0,0,0,0,0,0,0,0,0,0,0,0,0,0,0,0,0,0,0,0,0,0,0,0,0,0,0,0,0,0,0,0,0,0,0,0,0,0,0,0,1,0,0,0,0,0,0,0,0,0,0,0,0,0,0,0,0,0,0,0,0,0,0,0,0,0,0,0,0,0,0,0,0,0,0,0,0,0,0,0,0,0,0,0,0,0,0,0,0,0,0,0,0,0,0,0,0,0,0,0,0,0,0,0,0,0,0,0,0,0,0,0,0,0,0,0,0,0,0,0,0,0,0,0,0,0,0,0,0,0,0,0,0,0,0,0,0,0,0,0,0,0,0,0,0,0,0,0,0,0,0,1,0,0,0,0,0,0,0,0,0,0,0,0,1,0,0,0,0,0,0,1,0,0,0,0,0,0,0,0,0,0,0,0,0,1,0,0,0,0,0,0,0,0,0,0,1,0,0,0,0,0,0,0,0,0,0,0,0,0,0,0,0,0,0,0,0,0,0,0,0,0,0,0,0,0,0,0,0,0,0,0,0,0,0,0,0,0,0,0,0,0,0,0,0,0,0,0,0,0,0,0,0,0,0,0,1,0,0,0,0,0,0,0,0,0,0,0,0,0,0,0,0,0,0,0,0,0,0,0,0,0,3,0,0,0,0,0,0,0,0,0,0,0,0,0,0,0,0,0,0,0,0,0,0,0,0,0,0,0,0,0,0,0,0,0,0,1,0,0,0,0,0,0,0,0,0,0,0,0,0,0,0,0,0,0,0,0,0,0,0,0,0,0,0,0,0,0,0,0,0,0,0,0,0,0,0,0,0,0,0,0,0,0,0,0,0,0,0,0,0,0,0,0,0,0,0,0,0,0,0,0,0,0,0,0,0,0,0,0,0,0,0,0,0,0,1,0,0,0,0,0,0,0,0,0,0,0,0,0,0,0,0,0,0,0,0,0,0,0,0,0,0,0,0,0,0,0,0,0,0,0,0,0,0,0,0,0,0,0,0,0,0,0,0,0,0,0,0,0,0,0,0,0,0,0,0,0,0,0,0,0,0,0,0,0,0,0,0,0,0,0,0,0,0,0,0,0,0,0,0,0,0,0,0,0,0,0,0,0,0,0,0,0,0,0,0,0,0,0,0,0,0,0,0,0,0,0,0,0,0,0,0,0,0,0,0,0,0,0,0,0,0,0,0,0,0,0,0,0,0,0,0,0,0,0,0,0,0,0,0,0,0,0,0,0,0,0,0,0,0,0,0,0,0,0,0,0,0,0,0,0,0,0,0,0,0,0,0,0,0,0,0,0,0,0,0,0,0,0,0,0,0,0,0,0,0,0,0,0,0,0,0,0,0,0,0,0,0,0,0,0,0,0,0,0,0,0,0,0,0,0,0,0,0,0,0,0,0,0,0,0,0,0,0,0,0,0,0,0,0,0,0,0,0,0,0,0,0,0,0,0,0,0,0,0,0,0,0,0,0,0,0,0,0,0,0,0,0,0,0,0,0,0,0,0,0,0,0,0,0,0,0,0,0,0,0,0,0,0,0,0,0,0,0,0,0,0,0,0,0,0,0,0,0,0,0,0,0,0,0,0,0,0,0,0,0,0,0,0,0,0,0,0,0,0,0,0,0,0,0,0,0,0,0,0,0,0,0,0,0,0,0,0,0,0,0,0,0,0,0,0,0,0,0,0,0,0,0,0,0,0,0,0,0,0,0,0,0,0,0,0,0,0,0,0,0,0,0,0,0,0,0,0,0,0,0,0,0,0,0,0,0,0,0,0,0,0,0,0,0,0,0,0,0,0,0,0,0,0,0,0,0,0,0,0,0,0,0,0,0,0,0,0,0,0,0,0,0,0,0,0,0,0,0,0,0,0,0,0,0,0,0,0,0,0,0,0,0,0,0,0,0,0,0,0,0,0,0,0,0,0,0,0,0,0,0,0,0,0,0,0,0,0,0,1,0,0,0,0,0,0,0,0,0,0,0,0,0,0,0,0,0,0,0,0,0,0,0,0,0,0,0,0,0,0,0,0,0,0,0,0,0,0,0,0,0,0,0,0,0,0,0,0,0,0,0,0,0,0,0,0,0,0,0,0,0,0,0,0,0,0,0,0,0,0,0,0,0,0,0,0,0,0,0,0,0,0,0,0,0,0,0,0,0,0,0,0,0,0,0,0,0,0,0,0,0,0,0,0,0,0,0,0,0,0,0,0,0,0,0,0,0,0,0,0,1,0,1,0,0,0,0,0,0,0,0,0,0,0,0,0,0,0,0,0,0,0,1,0,3,0,0,0,0,0,0,0,0,0,0,0,0,0,0,0,0,0,0,0,0,0,0,0,0,0,0,0,0,0,0,1,0,0,0,0,0,0,0,0,0,0,0,0,0,0,0,0,0,0,0,0,0,0,0,0,0,0,0,0,0,0,0,0,0,0,0,0,0,0,0,0,0,0,0,0,0,0,0,0,0,0,0,0,0,0,0,0,0,0,0,0,0,0,0,0,0,0,0,0,0,0,0,0,0,0,0,0,0,0,0,0,0,0,0,0,0,0,0,0,0,0,0,0,0,0,0,0,0,0,0,0,0,0,0,1,0,0,0,0,0,0,0,0,0,0,0,0,0,0,0,0,0,0,0,0,0,0,0,0,0,0,0,0,0,0,0,0,0,0,0,0,0,0,0,0,0,0,0,0,0,0,0,0,0,0,0,0,0,0,0,0,0,0,0,0,0,0,0,0,0,0,0,0,0,0,0,0,0,0,0,0,0,0,0,0,0,0,0,0,0,0,0,0,0,0,0,0,0,1,0,0,0,0,0,0,0,0,0,0,0,0,0,0,0,0,0,0,0,0,0,0,0,0,0,0,0,0,0,0,0,0,0,0,0,0,0,0,0,0,0,0,0,0,0,0,0,0,0,0,0,0,0,0,0,0,0,0,0,0,0,0,0,0,0,0,0,0,0,0,0,0,0,0,0,1,0,0,0,0,0,0,0,0,0,0,0,0,0,0,0,0,0,0,0,0,0,0,0,0,0,0,0,0,0,0,0,0,0,0,0,1,0,0,0,0,0,0,0,0,0,0,0,0,0,0,0,0,0,0,0,0,0,0,0,0,0,0,0,0,0,0,0,0,0,0,0,0,0,0,1,0,0,0,0,0,0,0,0,0,0,0,0,0,0,0,0,0,0,0,0,0,0,0,0,0,0,0,0,0,0,0,0,0,0,0,0,0,0,0,0,0,0,0,0,0,0,0,0,0,0,0,0,0,0,0,0,0,0,0,0,0,0,0,0,0,0,0,0,0,0,0,0,0,0,0,0,0,0,0,0,0,0,0,0,0,0,0,0,0,0,0,0,0,0,0,0,0,0,0,0,0,0,0,0,0,0,0,1,0,0,0,0,0,0,0,0,0,0,0,0,0,0,0,0,0,0,0,0,0,0,0,0,0,0,0,0,0,0,0,0,0,0,0,0,0,0,0,0,0,0,0,0,0,0,0,0,0,0,0,0,0,0,0,0,0,0,0,0,0,0,0,0,0,0,0,0,0,0,0,0,0,0,0,0,0,0,0,0,0,0,0,0,0,0,0,0,0,0,0,0,0,0,0,0,0,0,0,0,0,0,0,0,0,0,0,0,0,0,0,0,0,0,0,0,0,0,0,0,0,0,0,0,1,0,0,0,0,0,0,0,0,0,0,0,0,0,0,0,0,0,0,0,0,0,0,0,0,0,0,0,0,0,0,0,0,0,0,0,0,0,0,0,0,0,0,0,0,0,0,0,0,0,0,0,0,0,0,2,0,0,0,0,0,0,0,0,0,0,0,0,0,0,3,0,0,0,0,0,0,0,0,0,0,0,0,0,0,0,0,0,0,0,0,0,0,0,0,0,0,0,0,0,0,0,0,0,0,0,1,0,0,0,0,0,0,0,0,0,0,0,0,0,0,0,0,0,0,0,0,0,0,0,0,0,0,0,0,0,0,0,0,0,0,0,0,0,0,0,0,0,0,0,0,0,0,0,0,0,0,0,1,0,0,0,0,0,0,0,0,0,0,0,0,0,0,0,0,0,0,0,0,0,0,0,0,0,0,0,0,0,0,0,0,0,0,0,0,0,0,0,0,0,0,0,0,0,0,0,0,0,0,0,0,0,0,0,0,0,0,0,0,0,0,0,0,0,0,0,0,0,0,0,0,0,0,0,0,0,0,0,0,0,0,0,0,0,0,0,0,0,0,0,0,0,0,0,0,0,0,1,0,0,0,0,0,0,0,0,0,0,0,0,0,0,0,0,0,0,0,0,0,0,0,0,0,0,0,0,0,0,0,0,0,0,0,0,0,0,0,0,0,0,0,0,0,0,1,0,0,0,0,0,0,0,0,0,0,0,0,0,0,0,0,0,0,0,0,0,0,0,0,0,0,0,0,0,0,0,0,1,0,0,0,0,1,0,0,0,0,0,0,0,0,0,0,0,0,0,0,0,0,0,0,0,0,0,0,0,0,0,0,0,0,2,0,0,0,0,0,0,0,0,0,0,0,0,0,0,0,0,0,0,0,0,0,0,0,0,0,0,0,0,0,0,0,0,0,0,0,0,0,0,0,0,0,0,0,0,0,0,0,0,0,0,0,0,0,0,0,0,0,0,0,0,0,0,0,0,0,0,0,0,0,0,0,0,0,1,0,0,0,0,0,0,0,0,0,0,0,0,0,0,0,0,0,0,0,0,0,0,0,0,0,0,0,0,0,0,0,0,0,0,0,0,0,0,0,0,0,0,0,0,0,0,0,0,0,0,0,0,0,0,0,0,0,0,0,0,0,3,0,0,0,0,0,0,0,0,0,0,0,0,0,0,0,0,0,0,0,0,0,0,0,0,0,0,0,0,0,0,0,0,0,0,0,0,0,0,0,0,0,0,0,0,0,0,0,0,0,0,0,0,0,0,0,0,0,0,0,0,0,0,0,0,0,0,0,0,0,0,0,0,0,0,0,0,0,0,0,0,0,0,0,0,0,0,0,0,0,0,0,0,0,0,0,0,0,0,0,0,0,0,0,0,0,0,0,0,0,0,0,0,0,0,0,0,0,0,0,0,0,0,0,0,0,0,0,0,0,0,0,0,0,0,0,0,0,0,0,0,0,0,0,0,0,0,0,0,0,0,0,0,0,0,0,0,0,0,0,0,0,0,0,0,1,0,0,0,0,0,0,3,0,0,0,0,0,0,0,0,0,0,0,0,0,0,0,0,0,0,0,0,0,0,0,0,0,0,0,0,0,0,0,0,0,0,0,0,0,0,0,0,0,0,0,0,0,0,0,0,0,0,0,0,0,0,0,0,0,0,0,0,0,0,0,0,0,0,0,0,0,0,0,0,0,0,0,0,0,0,0,0,0,0,0,0,0,0,0,0,0,0,0,0,0,0,0,0,0,0,0,0,0,0,1,0,0,0,1,0,0,0,0,0,0,0,0,0,0,0,0,0,0,0,0,0,0,0,0,0,0,0,0,0,0,0,0,0,0,0,0,0,0,0,2,0,0,0,0,0,0,0,0,0,0,0,0,0,0,0,0,0,0,0,0,0,0,0,0,0,0,0,0,0,0,0,0,0,0,0,0,0,0,0,0,0,0,0,0,0,0,0,0,0,0,0,0,0,0,0,0,0,0,0,0,0,0,0,0,0,0,0,0,1,0,0,0,0,0,0,0,0,0,0,0,0,0,0,0,0,0,0,0,0,0,0,0,0,0,0,0,0,0,0,0,0,0,0,0,0,0,0,0,0,0,0,0,0,0,0,0,0,0,0,0,0,0,0,0,0,0,0,0,0,0,0,0,0,0,0,0,0,0,0,0,0,0,0,0,1,0,0,0,0,0,0,0,0,0,0,0,0,0,0,0,0,0,0,0,0,0,0,0,0,0,0,0,0,0,0,0,0,0,0,0,0,0,0,0,0,0,0,0,0,0,0,0,0,0,1,0,0,0,0,0,0,0,0,0,0,0,0,0,0,0,0,0,0,0,0,1,0,0,0,0,0,0,0,0,0,0,0,0,0,0,0,0,0,0,0,0,0,1,0,0,0,0,0,0,0,0,0,0,0,3,0,0,0,0,0,0,0,0,0,0,0,0,0,0,0,0,0,0,0,0,0,0,0,0,0,0,0,0,0,0,0,0,0,0,0,0,0,0,0,0,0,0,0,0,0,0,0,0,0,0,0,0,0,0,0,0,0,0,0,0,0,0,0,0,0,0,0,0,0,0,0,0,0,0,0,0,0,0,0,0,0,0,0,0,0,1,0,0,0,0,0,0,0,0,0,0,0,0,0,0,0,0,0,0,0,0,0,0,0,0,0,0,0,0,0,0,0,0,0,0,0,0,0,0,0,0,0,0,0,0,0,0,1,0,0,0,0,0,3,0,0,0,0,0,0,0,0,0,0,0,0,0,0,0,0,0,0,0,0,0,0,0,0,0,0,0,0,0,0,0,0,0,0,0,0,0,0,0,0,0,0,0,0,0,0,0,0,0,0,0,0,0,0,0,0,0,0,0,0,0,0,0,0,0,0,0,0,0,2,0,0,0,0,0,0,0,0,0,0,0,0,1,1,0,0,0,0,0,0,0,0,0,0,0,0,0,0,0,0,0,0,0,0,0,0,0,0,0,0,0,0,0,0,0,0,0,0,0,0,0,0,0,0,0,0,0,0,0,0,0,0,0,0,0,0,0,0,0,0,0,0,0,0,0,0,0,0,0,0,0,0,0,1,0,0,0,0,0,0,0,0,0,0,0,0,0,0,0,0,0,0,0,0,0,0,0,0,0,0,0,0,0,0,0,0,0,0,0,0,0,0,0,0,0,0,0,0,0,0,0,0,0,0,0,0,0,0,0,0,0,0,0,0,0,0,0,0,0,0,0,0,0,0,0,0,0,0,0,0,0,0,0,0,0,0,0,0,0,0,0,0,0,0,0,0,0,0,0,0,0,0,0,0,0,0,0,0,0,0,0,0,0,0,0,0,0,0,0,0,0,0,0,0,0,0,0,0,0,0,0,0,0,1,0,0,0,0,0,0,0,0,0,0,0,0,0,0,0,0,0,0,0,0,0,0,0,0,0,0,0,0,0,0,0,0,0,2,0,0,0,0,0,0,0,0,0,0,0,0,0,0,0,0,0,0,0,0,0,0,0,0,0,3,0,0,0,0,0,0,0,0,3,0,0,0,0,0,0,0,0,0,3,0,0,0,0,0,0,0,0,0,0,0,0,0,0,0,0,0,0,0,0,0,0,0,0,0,0,0,0,0,0,0,0,0,0,0,0,0,0,0,0,0,0,0,0,0,0,0,0,0,0,0,0,0,0,0,0,0,0,0,0,0,0,0,0,0,0,0,0,0,0,0,0,0,0,0,0,0,0,0,0,0,0,0,0,0,0,0,0,0,0,0,1,0,0,0,0,0,0,0,0,0,0,0,0,0,0,0,0,0,0,0,0,0,0,0,0,0,0,0,0,0,0,0,0,0,0,0,0,0,0,0,0,0,0,0,0,0,0,0,0,0,0,0,0,0,0,0,0,0,0,0,0,0,0,0,0,0,0,0,0,0,0,0,0,0,0,0,0,0,0,0,0,0,0,0,0,0,0,0,0,0,0,0,0,0,0,0,0,0,0,0,0,0,0,0,0,0,0,0,0,0,0,0,1,0,0,0,0,0,0,1,0,0,0,0,0,0,0,0,0,0,0,0,0,0,0,0,0,0,0,0,0,0,0,0,0,0,0,0,0,0,0,0,0,0,0,0,0,0,0,0,0,0,0,0,0,0,0,0,0,0,0,0,0,0,0,0,0,0,0,0,0,0,0,0,0,0,0,0,0,0,0,0,0,0,0,0,0,0,0,0,0,0,0,0,0,0,0,0,0,0,0,0,0,0,0,0,0,0,0,0,0,0,0,0,0,0,0,0,0,0,0,0,0,0,0,0,0,0,0,0,0,0,0,0,0,0,0,0,0,0,0,0,0,0,0,0,0,0,0,0,0,0,0,0,0,0,0,0,0,0,0,0,0,0,0,0,0,0,0,0,0,0,0,0,0,0,0,0,0,0,0,0,0,0,0,0,0,0,0,0,0,0,0,0,0,0,0,0,0,0,0,0,0,0,0,0,0,0,0,0,0,0,0,0,0,0,0,0,0,0,0,0,0,0,0,0,0,0,0,0,0,0,0,0,0,0,0,0,0,0,0,0,1,0,0,0,0,0,0,0,0,0,0,0,0,0,0,0,0,0,0,0,0,0,0,0,0,0,0,0,0,0,0,0,0,0,0,0,0,0,0,0,0,0,0,0,0,0,0,0,0,0,0,0,0,0,0,0,0,0,0,0,0,0,0,0,0,0,0,0,0,0,0,0,0,0,0,0,0,0,0,0,0,0,0,0,0,0,0,0,0,0,0,0,0,0,0,0,0,0,0,0,0,0,0,0,0,0,0,0,0,0,0,0,0,0,0,0,0,0,0,0,0,0,0,0,0,0,0,0,0,0,0,0,0,0,0,0,0,0,0,0,0,0,0,0,0,0,0,0,0,0,0,0,0,0,0,0,0,0,0,0,0,0,0,0,0,0,0,0,0,0,0,0,0,0,0,0,0,0,0,0,0,0,0,0,0,2,0,0,0,0,0,0,0,0,0,0,0,0,0,0,0,0,0,0,0,0,0,0,0,1,0,0,0,0,0,0,0,0,0,0,0,0,0,0,0,0,0,0,0,0,0,0,0,0,0,0,0,0,0,0,0,0,1,0,0,0,0,0,0,0,0,0,0,0,0,0,0,0,0,0,0,0,0,0,0,0,0,0,0,0,0,0,0,0,0,0,0,0,0,0,0,0,0,0,0,0,0,0,0,0,0,0,0,0,0,0,0,0,0,0,0,0,0,0,0,0,0,0,0,0,0,0,0,0,0,0,0,0,0,0,0,0,0,0,0,0,0,0,0,3,0,0,0,0,0,0,0,0,0,0,0,0,0,0,0,0,0,0,0,0,0,0,0,0,0,0,0,0,0,0,0,0,0,0,0,0,0,0,0,0,0,0,0,0,0,0,0,0,0,0,0,0,0,0,0,0,0,0,0,0,0,0,0,0,0,0,0,0,0,0,0,0,0,0,0,0,0,0,0,0,0,0,0,0,0,0,0,0,0,0,0,0,0,0,0,0,0,0,0,3,0,0,0,0,0,0,0,0,0,0,0,0,0,0,0,0,0,0,0,0,0,0,0,0,0,0,0,0,0,0,0,0,0,0,0,0,0,0,0,0,0,0,0,0,0,0,0,0,0,0,0,0,0,0,0,0,0,0,0,0,0,2,0,0,0,0,2,0,0,0,1,0,0,0,0,0,0,0,0,0,0,0,0,0,0,0,0,0,0,0,0,0,0,0,0,0,0,0,0,0,0,0,0,0,0,0,0,0,0,0,0,0,0,0,0,0,0,0,0,0,0,0,0,0,0,0,0,0,0,0,0,0,0,0,0,0,0,0,0,0,0,0,0,0,0,0,0,0,0,0,0,0,0,0,0,0,0,0,0,0,0,0,0,0,0,0,0,0,0,0,0,0,0,0,0,0,0,0,0,0,0,0,0,0,0,0,0,0,0,0,0,0,0,0,0,0,0,0,0,0,0,0,0,0,0,0,0,0,0,0,0,0,0,0,0,0,0,0,0,0,0,0,0,0,0,0,0,0,0,0,0,0,0,0,0,0,0,0,0,1,0,0,0,0,0,0,0,0,0,0,0,0,0,0,0,0,0,0,0,0,0,0,0,0,0,0,0,0,0,0,0,0,0,0,0,0,0,0,0,0,0,0,0,0,0,0,0,0,1,0,0,0,0,0,0,0,0,0,0,0,0,0,0,0,0,0,0,0,0,0,0,0,0,0,0,0,0,0,0,0,0,0,0,0,0,0,0,0,0,0,0,0,0,0,0,0,0,0,0,0,0,0,0,0,0,0,0,0,0,0,0,0,0,0,0,0,0,0,0,0,0,0,0,0,0,0,0,0,0,0,0,0,0,0,0,0,0,0,0,0,0,0,0,0,0,0,0,0,0,0,0,0,0,0,0,0,0,0,0,0,0,0,0,0,0,0,0,0,0,0,0,0,0,0,0,0,0,0,0,0,0,0,1,0,0,0,0,0,0,0,0,0,0,0,0,0,0,0,0,0,0,0,0,0,0,0,0,0,0,0,0,0,0,0,0,0,0,0,0,0,0,0,0,0,0,0,0,0,0,0,0,0,0,0,0,0,0,0,0,0,0,0,0,0,0,0,0,0,0,0,0,0,0,0,0,0,0,0,0,0,0,0,0,0,0,0,0,0,0,0,0,0,0,0,0,0,0,0,0,0,0,0,0,0,0,0,0,0,0,0,0,0,0,0,0,0,0,0,0,0,0,0,0,0,0,0,0,0,1,0,1,0,0,0,0,0,0,0,0,0,0,0,0,0,0,0,0,0,0,0,0,0,0,0,0,0,0,0,0,0,0,0,0,0,0,0,0,0,0,0,0,0,0,0,0,0,0,0,0,0,0,0,0,0,0,0,0,0,0,0,0,0,0,0,0,0,0,0,0,0,0,0,0,0,0,0,0,0,0,0,0,0,0,0,0,0,0,0,0,0,0,0,0,0,0,0,0,0,0,0,0,0,0,0,0,0,0,0,0,0,0,0,0,0,0,0,0,0,0,0,0,0,0,0,0,0,0,0,0,0,0,0,0,0,0,0,0,0,0,0,0,0,0,0,0,0,0,0,0,0,0,0,0,0,0,0,0,0,0,0,0,0,0,0,0,0,0,0,0,0,0,0,0,0,0,0,0,0,0,0,0,0,0,0,0,0,0,0,0,0,0,0,0,0,0,0,0,0,0,0,0,0,0,0,0,0,0,0,0,0,0,0,0,0,0,0,0,0,0,0,0,0,0,0,0,0,0,0,0,0,0,0,0,0,0,0,0,0,0,0,0,0,0,0,0,0,0,0,0,0,0,0,0,0,0,0,0,0,0,0,0,0,0,0,0,0,0,0,0,0,0,3,0,0,0,0,0,0,0,0,0,0,0,0,0,0,0,0,0,0,0,0,0,1,0,0,0,0,0,0,0,0,0,0,0,0,0,0,0,0,0,0,0,0,0,0,0,0,0,0,0,0,0,0,0,0,0,0,0,0,1,0,0,0,0,0,0,0,0,0,0,0,0,0,0,0,0,0,0,0,0,0,0,0,0,0,0,0,0,0,0,0,0,0,0,0,0,0,0,0,0,0,0,0,0,0,1,0,1,0,0,0,0,0,0,0,0,0,0,0,0,0,0,0,0,0,0,0,0,0,0,0,0,0,0,0,0,0,0,0,0,0,0,0,0,0,0,0,0,0,0,0,0,0,0,0,0,0,0,0,0,0,0,0,0,0,0,0,0,0,0,0,0,0,0,1,0,0,0,0,0,0,0,0,0,0,0,0,0,0,0,0,0,0,0,0,0,0,0,0,0,0,0,0,0,0,0,0,0,0,0,0,0,0,0,0,0,0,0,0,0,0,0,0,0,0,0,0,0,0,0,0,0,0,0,0,0,0,0,0,0,0,2,0,0,0,0,0,0,0,0,0,0,0,0,0,0,0,0,0,0,0,0,0,0,0,0,0,0,0,0,0,0,0,0,0,0,0,0,0,0,0,0,0,0,0,0,0,0,0,0,0,0,0,0,0,0,0,0,0,0,0,0,0,0,0,0,0,0,0,0,0,0,0,0,0,0,0,0,0,0,0,0,0,0,0,0,0,0,0,0,0,0,0,0,0,0,0,0,0,0,0,0,0,0,0,0,0,0,0,0,0,0,0,0,0,0,0,0,0,0,0,0,0,0,0,0,0,0,1,0,0,0,0,0,0,0,0,0,0,0,0,0,0,0,0,0,0,0,0,0,0,0,0,0,0,0,0,0,0,0,0,0,0,0,0,0,0,0,0,0,0,0,0,0,0,0,0,0,0,0,0,0,0,0,0,0,0,0,0,0,0,0,0,0,0,0,0,0,0,0,0,0,1,0,0,0,0,0,0,0,0,0,0,0,0,0,0,0,0,0,0,0,0,0,0,0,0,0,0,0,0,0,0,0,0,2,0,0,0,0,0,0,0,0,0,0,1,0,0,0,0,0,0,0,0,2,0,0,0,0,0,0,0,0,0,0,0,0,0,0,0,1,0,0,0,0,0,0,0,0,0,0,0,0,0,0,0,0,0,0,0,0,0,0,0,0,0,0,0,0,0,0,0,0,0,0,0,0,0,0,0,0,0,0,0,0,0,0,2,0,0,0,0,0,0,0,0,0,0,0,0,0,0,0,0,1,0,0,0,0,0,0,0,0,0,0,0,0,0,0,0,0,0,0,0,0,0,0,0,0,0,0,0,0,0,0,0,0,0,0,0,0,0,0,0,0,0,0,1,0,0,0,0,0,0,0,0,0,0,0,0,0,0,0,0,0,0,0,0,0,0,0,0,0,0,0,0,0,0,0,0,0,0,0,0,0,0,0,0,0,0,0,0,0,0,0,0,0,0,0,0,0,0,0,0,0,0,0,0,0,0,0,0,0,0,0,0,0,0,0,0,0,0,0,0,0,0,0,0,0,0,2,0,0,0,0,0,0,0,0,0,0,0,0,0,0,0,0,1,0,0,0,0,0,0,0,0,0,0,0,0,0,0,0,0,0,0,0,0,0,0,0,0,0,0,0,0,0,0,0,0,0,0,0,0,0,0,0,0,0,0,0,0,0,0,0,0,0,1,0,0,0,0,0,0,0,0,0,0,0,0,0,0,0,0,0,0,0,0,0,0,0,0,0,0,0,0,0,0,0,0,0,0,0,0,0,0,0,0,0,0,0,0,0,0,0,0,0,0,0,0,0,0,0,0,0,0,0,0,0,0,0,0,0,0,0,0,0,0,0,0,0,0,0,0,0,0,0,0,0,0,0,0,0,0,0,0,0,0,0,0,0,0,0,0,0,0,0,0,0,0,0,0,0,0,0,0,0,0,2,0,0,0,0,0,0,0,0,0,0,0,0,0,0,0,0,0,0,0,0,0,0,0,0,0,0,0,2,0,0,0,0,0,0,0,0,0,0,0,0,0,0,0,0,0,0,0,0,0,0,1,0,0,0,0,0,0,0,0,0,0,0,0,0,0,0,0,0,0,0,0,0,0,0,0,0,0,0,0,0,0,0,0,0,0,0,0,0,0,0,0,0,0,0,0,0,0,0,0,0,0,0,0,0,0,0,0,0,0,0,0,0,0,0,0,0,0,1,0,0,0,0,0,0,0,0,0,0,0,0,0,0,0,0,0,0,0,0,0,0,0,0,0,0,0,0,0,0,0,0,0,0,0,0,0,0,0,0,0,0,0,0,0,0,0,0,0,0,0,0,0,0,0,0,0,0,0,0,0,0,0,0,0,0,0,0,0,0,0,0,0,0,0,0,0,0,0,0,0,0,0,0,0,0,0,0,0,0,0,0,0,0,0,0,0,0,0,0,0,0,0,0,0,0,0,0,0,0,0,0,0,0,0,0,0,0,0,1,0,0,0,0,0,0,0,0,0,0,0,0,0,0,0,0,0,0,0,0,0,0,0,0,0,0,0,0,0,0,0,0,0,0,0,0,0,0,0,0,0,0,0,0,0,0,0,0,0,0,0,0,0,0,0,0,0,0,0,0,0,0,0,0,2,0,0,0,0,0,0,0,0,0,0,0,0,0,0,0,0,0,0,0,0,0,0,0,0,0,0,0,0,0,0,0,0,0,0,0,0,0,0,0,0,0,0,0,0,0,0,0,0,0,0,0,0,1,0,0,0,0,0,0,0,0,0,0,0,0,0,0,0,0,0,0,0,0,0,0,0,0,0,0,0,0,0,0,0,0,0,0,0,0,0,0,0,0,0,0,0,0,0,0,0,0,0,0,0,0,0,0,0,0,0,0,0,0,0,0,0,0,0,0,0,0,0,0,0,0,0,0,0,0,0,0,0,0,0,0,0,0,0,0,0,0,0,0,0,0,0,0,0,0,0,0,0,0,0,0,0,0,0,0,0,0,0,0,0,0,0,0,0,0,0,0,0,0,0,0,0,0,0,0,0,0,0,0,0,0,0,0,0,0,0,0,0,0,0,0,0,0,0,0,0,0,0,0,1,0,0,0,0,0,0,0,0,0,0,0,0,0,0,0,0,0,0,0,0,0,0,0,0,0,0,0,0,0,0,0,0,0,0,0,0,0,0,0,0,0,0,0,0,0,0,0,0,0,0,0,0,0,0,0,0,0,0,0,0,0,0,0,0,0,0,0,0,0,0,0,0,0,0,0,0,0,0,0,0,0,0,0,0,0,0,0,0,0,0,0,0,0,0,0,0,0,0,0,0,0,0,0,0,0,0,0,0,0,0,2,0,0,0,0,0,0,0,0,0,0,0,0,0,0,0,0,0,0,0,0,0,0,0,0,0,0,0,0,0,0,0,0,0,0,0,0,0,0,0,0,0,0,0,0,0,0,0,0,0,0,0,0,0,0,0,0,0,0,0,0,0,0,0,0,0,0,0,0,0,0,0,0,0,0,0,0,0,0,0,0,0,0,0,0,0,0,0,0,0,0,0,0,0,0,0,0,0,0,0,0,0,0,0,0,0,0,0,0,0,0,0,0,0,0,0,0,0,0,0,0,0,0,0,0,0,0,0,0,0,0,1,0,0,0,0,0,0,0,0,0,0,0,0,0,0,0,0,0,0,1,0,0,0,0,0,0,0,0,0,0,0,0,0,0,0,0,0,0,0,0,0,0,0,0,0,0,0,0,0,0,0,0,0,0,0,0,0,0,0,0,0,0,0,0,0,0,0,0,0,0,0,0,0,0,0,0,0,0,0,0,0,0,0,0,0,0,0,0,0,0,0,0,0,0,0,0,0,0,0,0,0,0,0,0,0,0,0,0,0,0,0,0,0,0,0,1,0,0,0,0,2,0,0,0,0,0,0,0,0,0,0,0,0,0,0,0,0,0,0,0,0,0,0,0,0,0,0,0,0,0,0,0,0,0,0,0,0,0,0,0,0,0,0,0,1,0,0,0,0,0,0,0,0,0,0,0,0,0,0,0,0,0,0,0,0,0,0,0,0,0,0,0,0,0,0,0,0,0,0,0,0,0,0,0,0,0,0,0,0,0,0,0,0,0,0,0,0,0,0,0,0,0,0,0,0,0,0,0,0,0,0,0,0,0,0,0,0,0,0,0,0,0,0,0,0,0,0,0,0,0,0,0,0,0,0,0,0,0,0,0,0,0,0,0,0,0,0,0,0,0,0,0,0,0,0,0,0,1,0,0,0,0,0,0,0,0,0,0,0,0,0,0,0,0,0,0,0,0,0,0,0,0,0,0,0,0,0,0,0,0,0,0,0,0,0,0,0,0,0,0,0,0,0,0,0,0,0,0,0,0,0,0,0,0,0,0,0,0,0,0,0,0,0,0,0,0,0,0,0,0,0,0,0,0,0,0,0,0,0,0,0,0,0,0,0,0,0,0,0,0,0,0,0,0,2,0,0,0,0,0,0,0,0,0,0,0,0,0,0,0,0,0,0,0,0,0,0,0,0,0,0,2,0,0,0,0,0,0,0,0,0,0,0,0,0,0,0,0,0,0,0,0,0,0,0,0,0,0,0,0,0,1,0,0,0,0,0,0,0,0,1,0,0,0,0,0,0,0,0,0,0,0,0,0,0,0,0,0,0,0,0,0,0,0,0,0,0,0,0,0,0,0,0,0,0,0,0,0,0,0,0,0,0,0,0,0,0,0,0,0,0,0,0,0,0,0,0,0,0,0,0,0,0,0,0,2,0,0,0,0,0,0,0,0,0,0,0,0,0,0,0,0,0,0,0,0,0,0,0,0,0,0,0,0,0,0,0,0,0,1,0,0,0,0,0,0,0,0,0,0,0,0,0,0,0,0,0,0,0,0,0,0,0,0,0,1,0,0,0,0,0,0,0,0,0,0,0,0,0,0,0,0,0,0,0,0,0,0,0,0,0,0,0,0,0,0,0,0,0,0,0,0,0,0,0,0,0,0,0,0,0,0,0,0,0,0,0,0,0,0,0,0,0,0,0,0,0,0,0,0,0,0,0,0,0,0,0,0,0,0,0,0,0,0,0,0,0,0,0,0,0,0,0,0,1,0,0,0,0,0,0,1,0,0,0,0,0,0,0,0,0,0,0,0,0,0,0,0,0,0,0,0,0,0,0,0,0,0,0,0,0,0,0,0,0,0,0,0,0,0,0,0,0,0,0,0,0,0,0,0,0,0,0,0,0,0,0,0,0,1,2,0,0,0,0,0,0,0,0,0,0,0,0,0,0,0,0,0,0,0,0,0,0,0,0,0,0,0,0,0,0,0,0,0,0,0,0,0,0,0,0,0,0,0,0,0,0,0,0,0,0,0,0,0,0,0,0,0,0,0,0,0,0,0,0,0,0,0,0,0,0,0,0,0,0,0,0,0,0,0,0,0,0,0,0,0,0,0,0,0,0,0,0,0,0,0,0,0,0,0,0,0,0,0,0,0,0,0,3,0,0,0,0,0,1,0,0,0,0,0,0,0,0,0,0,0,0,0,0,0,0,0,0,0,0,0,0,0,0,0,0,0,0,0,0,0,0,0,0,0,0,0,0,0,0,0,0,0,0,0,0,0,0,0,0,0,0,0,0,0,0,0,0,0,0,0,0,0,0,0,0,2,0,0,0,0,0,0,0,0,0,0,0,0,0,0,0,0,0,0,0,0,0,0,0,0,1,0,0,0,0,0,0,0,0,0,0,0,0,0,0,0,0,0,0,0,0,0,0,0,0,0,0,0,1,0,0,0,0,0,0,0,0,0,0,0,0,0,0,0,0,0,0,0,0,0,0,0,0,0,0,0,0,0,0,0,0,0,0,0,0,0,0,0,0,0,0,0,0,0,0,0,0,1,0,0,0,0,0,0,0,0,0,0,0,0,0,0,0,0,0,0,0,0,0,0,0,0,0,0,0,0,0,0,0,0,0,0,0,0,0,0,0,0,0,0,0,0,4,0,0,0,0,1,0,0,0,0,0,0,0,0,0,0,0,0,0,0,0,0,0,0,0,0,0,0,0,0,0,0,0,0,0,0,0,0,1,0,0,0,0,0,0,0,0,0,0,0,0,0,0,0,0,0,0,0,0,0,0,0,0,0,0,0,0,0,0,0,0,0,0,0,0,1,0,0,0,0,0,0,0,3,0,0,0,0,0,0,0,0,0,0,0,0,0,0,0,0,0,1,0,0,0,0,0,0,0,0,0,0,0,0,0,1,0,0,0,0,0,0,0,1,0,0,0,0,0,0,0,0,0,0,0,0,0,0,0,0,0,0,0,0,0,0,0,0,0,0,0,0,0,0,0,0,0,0,0,0,1,0,0,0,0,0,0,0,0,0,0,0,0,0,0,0,0,0,0,0,0,0,0,0,0,0,0,0,0,0,0,0,0,0,0,0,0,0,0,0,0,0,0,0,0,0,0,0,0,0,0,0,0,0,0,0,0,0,0,0,0,0,0,0,0,0,0,0,0,0,0,0,0,0,0,0,0,0,0,0,0,0,0,0,0,0,0,0,0,0,0,0,0,0,0,0,0,0,0,0,0,0,0,0,0,0,0,0,0,0,0,0,0,0,0,0,0,0,0,0,0,0,0,0,0,0,0,0,0,0,1,0,0,0,0,0,0,0,0,0,0,0,0,0,0,0,0,0,0,0,0,0,0,0,0,0,0,0,0,0,0,0,0,0,0,0,0,0,0,0,0,0,0,0,0,0,0,0,0,0,0,0,1,0,0,0,0,0,0,0,0,0,0,0,0,0,0,0,0,0,0,0,0,0,0,0,0,0,0,0,0,0,0,0,0,0,0,0,0,0,0,0,0,0,0,0,0,0,0,0,0,0,0,0,0,0,0,0,0,0,0,0,0,0,0,0,0,0,0,0,0,0,0,0,0,0,0,0,0,0,0,0,0,0,0,0,0,0,0,0,0,0,0,0,0,0,0,0,0,0,0,0,0,0,0,0,0,0,0,0,0,0,0,0,0,0,0,0,0,0,0,0,0,0,0,0,0,0,0,0,0,0,0,0,0,0,0,0,0,0,0,0,0,0,0,0,0,0,0,0,0,0,0,0,0,0,0,0,0,0,0,0,0,0,0,0,0,0,0,0,0,0,0,0,0,0,0,0,0,0,0,0,0,0,0,0,0,0,0,0,0,0,0,0,0,0,0,0,0,0,0,0,0,0,0,0,0,0,0,0,0,0,0,1,0,0,0,0,0,0,0,0,0,0,0,0,0,0,0,0,0,0,0,0,0,0,0,0,0,0,0,0,0,0,0,0,0,0,0,0,0,0,0,0,0,0,0,0,0,0,0,0,0,0,0,0,0,0,0,0,0,0,0,0,0,0,0,0,0,0,0,0,0,0,0,0,0,0,0,0,0,0,0,0,0,0,0,0,0,0,0,0,0,0,0,0,0,0,0,0,0,0,0,0,0,0,0,0,0,0,0,0,0,0,0,0,0,0,0,0,0,0,0,0,0,0,0,0,0,0,0,0,0,0,0,0,0,0,0,0,0,0,0,0,0,0,0,0,0,0,0,0,0,0,0,0,0,0,0,0,0,0,0,0,0,0,0,0,0,0,0,0,0,0,0,0,0,0,0,0,0,0,0,0,0,0,0,0,0,0,0,0,0,0,0,0,0,0,0,0,0,0,0,0,0,0,0,0,0,0,0,0,0,0,0,0,0,0,0,0,0,0,0,0,0,0,0,0,0,0,0,0,0,0,0,0,0,0,0,0,0,0,0,0,0,0,0,0,0,0,0,0,0,0,0,0,0,0,0,0,0,0,0,0,0,0,0,0,0,0,0,0,0,0,0,0,0,0,0,0,0,0,0,0,0,0,0,0,0,0,0,0,0,0,0,0,0,0,0,0,0,0,0,0,0,0,0,0,0,0,0,0,0,0,0,0,0,0,0,0,0,0,0,0,0,0,0,0,0,0,0,0,0,0,0,0,0,0,0,0,0,0,0,0,0,0,0,0,0,0,0,0,0,0,0,0,0,0,0,0,0,0,0,0,0,0,0,0,0,0,0,0,0,0,0,0,0,0,0,0,0,0,0,0,0,0,0,0,0,0,0,0,0,0,0,0,0,0,0,0,0,0,0,0,0,0,0,0,0,0,0,0,0,0,0,0,0,0,0,0,0,0,0,0,0,0,0,0,0,0,0,0,0,0,0,0,0,0,0,0,0,0,0,0,0,0,0,0,0,0,0,0,0,0,0,0,0,0,0,0,0,0,0,0,0,0,0,0,0,0,0,0,0,0,0,0,0,0,0,0,0,0,0,0,0,0,0,0,0,0,0,0,0,0,0,0,0,0,0,0,0,0,0,0,0,0,0,0,0,0,0,0,0,0,0,0,0,0,0,0,0,0,0,0,0,0,0,0,0,0,0,0,0,0,0,0,0,0,0,0,0,0,0,0,0,0,0,0,0,0,0,0,0,0,0,0,0,0,0,0,0,0,0,0,0,0,0,0,0,0,0,0,0,0,0,0,0,0,0,0,0,0,0,0,0,0,0,0,0,0,0,0,0,0,0,0,0,0,0,0,0,0,0,0,0,0,0,0,0,0,0,0,0,0,0,0,0,0,0,0,0,0,0,0,0,0,0,0,0,0,0,0,0,0,0,0,0,0,0,0,0,0,0,0,0,0,0,0,0,0,0,0,0,0,0,0,0,0,0,0,0,0,0,0,0,0,0,0,0,0,0,0,0,0,0,0,0,0,0,0,0,0,0,0,0,0,0,0,0,0,0,0,0,0,0,0,0,0,0,0,0,0,0,0,0,0,0,0,0,0,0,0,0,0,0,0,0,0,0,0,0,0,0,0,0,0,0,0,0,0,0,0,0,0,0,0,0,0,0,0,0,0,0,0,0,0,0,0,0,0,0,0,0,0,0,0,0,0,0,0,0,0,0,0,0,0,0,0,0,0,0,0,0,0,0,0,0,0,0,0,0,0,0,0,0,0,0,0,0,0,0,0,0,0,0,0,0,0,0,0,0,0,0,0,0,0,0,0,0,0,0,0,0,0,0,0,0,0,0,0,0,0,0,0,0,0,0,0,0,0,0,0,0,0,0,0,0,0,0,0,0,0,0,0,0,0,0,0,0,0,0,0,0,0,0,0,0,0,0,0,0,0,0,0,0,0,0,0,0,0,0,0,0,0,0,0,0,0,0,0,0,0,0,0,0,0,0,0,0,0,0,0,0,0,0,0,0,0,0,0,0,0,0,0,0,0,0,0,0,0,0,0,0,0,0,0,0,0,0,0,0,0,0,0,0,0,0,0,0,0,0,0,0,0,0,0,0,0,0,0,0,0,0,0,0,0,0,0,0,0,0,0,0,0,0,0,0,0,0,0,0,0,0,0,0,0,0,0,0,0,0,0,0,0,0,0,0,0,0,0,0,0,0,0,0,0,0,0,0,0,0,0,0,0,0,0,0,0,0,0,0,0,0,0,0,0,0,0,0,0,0,0,0,0,0,0,0,0,0,0,0,0,0,0,0,0,0,0,0,0,0,0,0,0,0,0,0,0,0,0,0,0,0,0,0,0,0,0,0,0,0,0,0,0,0,0,0,0,0,0,0,0,0,0,0,0,0,0,0,0,0,0,0,0,0,0,0,0,0,0,0,0,0,0,0,0,0,0,0,0,0,0,0,0,0,0,0,0,0,0,0,0,0,0,0,0,0,0,0,0,0,0,0,0,0,0,0,0,0,0,0,0,0,0,0,0,0,0,0,0,0,0,0,0,0,0,0,0,0,0,0,0,0,0,0,0,0,0,0,0,0,0,0,0,0,0,0,0,0,0,0,0,0,0,0,0,0,0,0,0,0,0,0,0,0,0,0,0,0,0,0,0,0,0,0,0,0,0,0,0,0,0,0,0,0,0,0,0,0,0,0,0,0,0,0,0,0,0,0,0,0,0,0,0,0,0,0,0,0,0,0,0,0,0,0,0,0,0,0,0,0,0,0,0,0,0,0,0,0,0,0,0,0,0,0,0,0,0,0,0,0,0,0,0,0,0,0,0,0,0,0,0,0,0,0,0,0,0,0,0,0,0,0,0,0,0,0,0,0,0,0,0,0,0,0,0,0,0,0,0,0,0,0,0,0,0,0,0,0,0,0,0,0,0,0,0,0,0,0,0,0,0,0,0,0,0,0,0,0,0,0,0,0,0,0,0,0,0,0,0,0,0,0,0,0,0,0,0,0,0,0,0,0,0,0,0,0,0,0,0,0,0,0,0,0,0,0,0,0,0,0,0,0,0,0,0,0,0,0,0,0,0,0,0,0,0,0,0,0,0,0,0,0,0,0,0,0,0,0,0,0,0,0,0,0,0,0,0,0,0,0,0,0,0,0,0,0,0,0,0,0,0,0,0,0,0,0,0,0,0,0,0,0,0,0,0,0,0,0,0,0,0,0,0,0,0,0,0,0,0,0,0,0,0,0,0,0,0,0,0,0,0,0,0,0,0,0,0,0,0,0,0,0,0,0,0,0,0,0,0,0,0,0,0,0,0,0,0,0,0,0,0,0,0,0,0,0,0,0,0,0,0,0,0,0,0,0,0,0,0,0,0,0,0,0,0,0,0,0,0,0,0,0,0,0,0,0,0,0,0,0,0,0,0,0,0,0,0,0,0,0,0,0,0,0,0,0,0,0,0,0,0,0,0,0,0,0,0,0,0,0,0,0,0,0,0,0,0,0,0,0,0,0,0,0,0,0,0,0,0,0,0,0,0,0,0,0,0,0,0,0,0,0,0,0,0,0,0,0,0,0,0,0,0,0,0,0,0,0,0,0,0,0,0,0,0,0,0,0,0,0,0,0,0,0,0,0,0,0,0,0,0,0,0,0,0,0,0,0,0,0,0,0,0,0,0,0,0,0,0,0,0,0,0,0,0,0,0,0,0,0,0,0,0,0,0,0,0,0,0,0,0,0,0,0,0,0,0,0,0,0,0,0,0,0,0,0,0,0,0,0,0,0,0,0,0,0,0,0,0,0,0,0,0,0,0,0,0,0,0,0,0,0,0,0,0,0,0,0,0,0,0,0,0,0,0,0,0,0,0,0,0,0,0,0,0,0,0,0,0,0,0,0,0,0,0,0,0,0,0,0,0,0,0,0,0,0,0,0,0,0,0,0,0,0,0,0,0,0,0,0,0,0,0,0,0,0,0,0,0,0,0,0,0,0,0,0,0,0,0,0,0,0,0,0,0,0,0,0,0,0,0,0,0,0,0,0,0,0,0,0,0,0,0,0,0,0,0,0,0,0,0,0,0,0,0,0,0,0,0,0,0,0,0,0,0,0,0,0,0,0,0,0,0,0,0,0,0,0,0,0,0,0,0,0,0,0,0,0,0,0,0,0,0,0,0,0,0,0,0,0,0,0,0,0,0,0,0,0,0,0,0,0,0,0,0,0,0,0,0,0,0,0,0,0,0,0,0,0,0,0,0,0,0,0,0,0,0,0,0,0,0,0,0,0,0,0,0,0,0,0,0,0,0,0,0,0,0,0,0,0,0,0,0,0,0,0,0,0,0,0,0,0,0,0,0,0,0,0,0,0,0,0,0,0,0,0,0,0,0,0,0,0,0,0,0,0,0,0,0,0,0,0,0,0,0,0,0,0,0,0,0,0,0,0,0,0,0,0,0,0,0,0,0,0,0,0,0,0,0,0,0,0,0,0,0,0,0,0,0,0,0,0,0,0,0,0,0,0,0,0,0,0,0,0,0,0,0,0,0,0,0,0,0,0,0,0,0,0,0,0,0,0,0,0,0,0,0,0,0,0,0,0,0,0,0,0,0,0,0,0,0,0,0,0,0,0,0,0,0,0,0,0,0,0,0,0,0,0,0,0,0,0,0,0,0,0,0,0,0,0,0,0,0,0,0,0,0,0,0,0,0,0,0,0,0,0,0,0,0,0,0,0,0,0,0,0,0,0,0,0,0,0,0,0,0,0,0,0,0,0,0,0,0,0,0,0,0,0,0,0,0,0,0,0,0,0,0,0,0,0,0,0,0,0,0,0,0,0,0,0,0,0,0,0,0,0,0,0,0,0,0,0,0,0,0,0,0,0,0,0,0,0,0,0,0,0,0,0,0,0,0,0,0,0,0,0,0,0,0,0,0,0,0,0,0,0,0,0,0,0,0,0,0,0,0,0,0,0,0,0,0,0,0,0,0,0,0,0,0,0,0,0,0,0,0,0,0,0,0,0,0,0,0,0,0,0,0,0,0,0,0,0,0,0,0,0,0,0,0,0,0,0,0,0,0,0,0,0,0,0,0,0,0,0,0,0,0,0,0,0,0,0,0,0,0,0,0,0,0,0,0,0,0,0,0,0,0,0,0,0,0,0,0,0,0,0,0,0,0,0,0,0,0,0,0,0,0,0,0,0,0,0,0,0,0,0,0,0,0,0,0,0,0,0,0,0,0,0,0,0,0,0,0,0,0,0,0,0,0,0,0,0,0,0,0,0,0,0,0,0,0,0,0,0,0,0,0,0,0,0,0,0,0,0,0,0,0,0,0,0,0,0,0,0,0,0,0,0,0,0,0,0,0,0,0,0,0,0,0,0,0,0,0,0,0,0,0,0,0,0,0,0,0,0,0,0,0,0,0,0,0,0,0,0,0,0,0,0,0,0,0,0,0,0,0,0,0,0,0,0,0,0,0,0,0,0,0,0,0,0,0,0,0,0,0,0,0,0,0,0,0,0,0,0,0,0,0,0,0,0,0,0,0,0,0,0,0,0,0,0,0,0,0,0,0,0,0,0,0,0,0,0,0,0,0,0,0,0,0,0,0,0,0,0,0,0,0,0,0,0,0,0,0,0,0,0,0,0,0,0,0,0,0,0,0,0,0,0,0,0,0,0,0,0,0,0,0,0,0,0,0,0,0,0,0,0,0,0,0,0,0,0,0,0,0,0,0,0,0,0,0,0,0,0,0,0,0,0,0,0,0,0,0,0,0,0,0,0,0,0,0,0,0,0,0,0,0,0,0,0,0,0,0,0,0,0,0,0,0,0,0,0,0,0,0,0,0,0,0,0,0,0,0,0,0,0,0,0,0,0,0,0,0,0,0,0,0,0,0,0,0,0,0,0,0,0,0,0,0,0,0,0,0,0,0,0,0,0,0,0,0,0,0,0,0,0,0,0,0,0,0,0,0,0,0,0,0,0,0,0,0,0,0,0,0,0,0,0,0,0,0,0,0,0,0,0,0,0,0,0,0,0,0,0,0,0,0,0,0,0,0,0,0,0,0,0,0,0,0,0,0,0,0,0,0,0,0,0,0,0,0,0,0,0,0,0,0,0,0,0,0,0,0,0,0,0,0,0,0,0,0,0,0,0,0,0,0,0,0,0,0,0,0,0,0,0,0,0,0,0,0,0,0,0,0,0,0,0,0,0,0,0,0,0,0,0,0,0,0,0,0,0,0,0,0,0,0,0,0,0,0,0,0,0,0,0,0,0,0,0,0,0,0,0,0,0,0,0,0,0,0,0,0,0,0,0,0,0,0,0,0,0,0,0,0,0,0,0,0,0,0,0,0,0,0,0,0,0,0,0,0,0,0,0,0,0,0,0,0,0,0,0,0,0,0,0,0,0,0,0,0,0,0,0,0,0,0,0,0,0,0,0,0,0,0,0,0,0,0,0,0,0,0,0,0,0,0,0,0,0,0,0,0,0,0,0,0,0,0,0,0,0,0,0,0,0,0,0,0,0,0,0,0,0,0,0,0,0,0,0,0,0,0,0,0,0,0,0,0,0,0,0,0,0,0,0,0,0,0,0,0,0,0,0,0,0,0,0,0,0,0,0,0,0,0,0,0,0,0,0,0,0,0,0,0,0,0,0,0,0,0,0,0,0,0,0,0,0,0,0,0,0,0,0,0,0,0,0,0,0,0,0,0,0,0,0,0,0,0,0,0,0,0,0,0,0,0,0,0,0,0,0,0,0,0,0,0,0,0,0,0,0,0,0,0,0,0,0,0,0,0,0,0,0,0,0,0,0,0,0,0,0,0,0,0,0,0,0,0,0,0,0,0,0,0,0,0,0,0,0,0,0,0,0,0,0,0,0,0,0,0,0,0,0,0,0,0,0,0,0,0,0,0,0,0,0,0,0,0,0,0,0,0,0,0,0,0,0,0,0,0,0,0,0,0,0,0,0,0,0,0,0,0,0,0,0,0,0,0,0,0,0,0,0,0,0,0,0,0,0,0,0,0,0,0,0,0,0,0,0,0,0,0,0,0,0,0,0,0,0,0,0,0,0,0,0,0,0,0,0,0,0,0,0,0,0,0,0,0,0,0,0,0,0,0,0,0,0,0,0,0,0,0,0,0,0,0,0,0,0,0,0,0,0,0,0,0,0,0,0,0,0,0,0,0,0,0,0,0,0,0,0,0,0,0,0,0,0,0,0,0,0,0,0,0,0,0,0,0,0,0,0,0,0,0,0,0,0,0,0,0,0,0,0,0,0,0,0,0,0,0,0,0,0,0,0,0,0,0,0,0,0,0,0,0,0,0,0,0,0,0,0,0,0,0,0,0,0,0,0,0,0,0,0,0,0,0,0,0,0,0,0,0,0,0,0,0,0,0,0,0,0,0,0,0,0,0,0,0,0,0,0,0,0,0,0,0,0,0,0,0,0,0,0,0,0,0,0,0,0,0,0,0,0,0,0,0,0,0,0,0,0,0,0,0,0,0,0,0,0,0,0,0,0,0,0,0,0,0,0,0,0,0,0,0,0,0,0,0,0,0,0,0,0,0,0,0,0,0,0,0,0,0,0,0,0,0,0,0,0,0,0,0,0,0,0,0,0,0,0,0,0,0,0,0,0,0,0,0,0,0,0,0,0,0,0,0,0,0,0,0,0,0,0,0,0,0,0,0,0,0,0,0,0,0,0,0,0,0,0,0,0,0,0,0,0,0,0,0,0,0,0,0,0,0,0,0,0,0,0,0,0,0,0,0,0,0,0,0,0,0,0,0,0,0,0,0,0,0,0,0,0,0,0,0,0,0,0,0,0,0,0,0,0,0,0,0,0,0,0,0,0,0,0,0,0,0,0,0,0,0,0,0,0,0,0,0,0,0,0,0,0,0,0,0,0,0,0,0,0,0,0,0,0,0,0,0,0,0,0,0,0,0,0,0,0,0,0,0,0,0,0,0,0,0,0,0,0,0,0,0,0,0,0,0,0,0,0,0,0,0,0,0,0,0,0,0,0,0,0,0,0,0,0,0,0,0,0,0,0,0,0,0,0,0,0,0,0,0,0,0,0,0,0,0,0,0,0,0,0,0,0,0,0,0,0,0,0,0,0,0,0,0,0,0,0,0,0,0,0,0,0,0,0,0,0,0,0,0,0,0,0,0,0,0,0,0,0,0,0,0,0,0,0,0,0,0,0,0,0,0,0,0,0,0,0,0,0,0,0,0,0,0,0,0,0,0,0,0,0,0,0,0,0,0,0,0,0,0,0,0,0,0,0,0,0,0,0,0,0,0,0,0,0,0,0,0,0,0,0,0,0,0,0,0,0,0,0,0,0,0,0,0,0,0,0,0,0,0,0,0,0,0,0,0,0,0,0,0,0,0,0,0,0,0,0,0,0,0,0,0,0,0,0,0,0,0,0,0,0,0,0,0,0,0,0,0,0,0,0,0,0,0,0,0,0,0,0,0,0,0,0,0,0,0,0,0,0,0,0,0,0,0,0,0,0,0,0,0,0,0,0,0,0,0,0,0,0,0,0,0,0,0,0,0,0,0,0,0,0,0,0,0,0,0,0,0,0,0,0,0,0,0,0,0,0,0,0,0,0,0,0,0,0,0,0,0,0,0,0,0,0,0,0,0,0,0,0,0,0,0,0,0,0,0,0,0,0,0,0,0,0,0,0,0,0,0,0,0,0,0,0,0,0,0,0,0,0,0,0,0,0,0,0,0,0,0,0,0,0,0,0,0,0,0,0,0,0,0,0,0,0,0,0,0,0,0,0,0,0,0,0,0,0,0,0,0,0,0,0,0,0,0,0,0,0,0,0,0,0,0,0,0,0,0,0,0,0,0,0,0,0,0,0,0,0,0,0,0,0,0,0,0,0,0,0,0,0,0,0,0,0,0,0,0,0,0,0,0,0,0,0,0,0,0,0,0,0,0,0,0,0,0,0,0,0,0,0,0,0,0,0,0,0,0,0,0,0,0,0,0,0,0,0,0,0,0,0,0,0,0,0,0,0,0,0,0,0,0,0,0,0,0,0,0,0,0,0,0,0,0,0,0,0,0,0,0,0,0,0,0,0,0,0,0,0,0,0,0,0,0,0,0,0,0,0,0,0,0,0,0,0,0,0,0,0,0,0,0,0,0,0,0,0,0,0,0,0,0,0,0,0,0,0,0,0,0,0,0,0,0,0,0,0,0,0,0,0,0,0,0,0,0,0,0,0,0,0,0,0,0,0,0,0,0,0,0,0,0,0,0,0,0,0,0,0,0,0,0,0,0,0,0,0,0,0,0,0,0,0,0,0,0,0,0,0,0,0,0,0,0,0,0,0,0,0,0,0,0,0,0,0,0,0,0,0,0,0,0,0,0,0,0,0,0,0,0,0,0,0,0,0,0,0,0,0,0,0,0,0,0,0,0,0,0,0,0,0,0,0,0,0,0,0,0,0,0,0,0,0,0,0,0,0,0,0,0,0,0,0,0,0,0,0,0,0,0,0,0,0,0,0,0,0,0,0,0,0,0,0,0,0,0,0,0,0,0,0,0,0,0,0,0,0,0,0,0,0,0,0,0,0,0,0,0,0,0,0,0,0,0,0,0,0,0,0,0,0,0,0,0,0,0,0,0,0,0,0,0,0,0,0,0,0,0,0,0,0,0,0,0,0,0,0,0,0,0,0,0,0,0,0,0,0,0,0,0,0,0,0,0,0,0,0,0,0,0,0,0,0,0,0,0,0,0,0,0,0,0,0,0,0,0,0,0,0,0,0,0,0,0,0,0,0,0,0,0,0,0,0,0,0,0,0,0,0,0,0,0,0,0,0,0,0,0,0,0,0,0,0,0,0,0,0,0,0,0,0,0,0,0,0,0,0,0,0,0,0,0,0,0,0,0,0,0,0,0,0,0,0,0,0,0,0,0,0,0,0,0,0,0,0,0,0,0,0,0,0,0,0,0,0,0,0,0,0,0,0,0,0,0,0,0,0,0,0,0,0,0,0,0,0,0,0,0,0,0,0,0,0,0,0,0,0,0,0,0,0,0,0,0,0,0,0,0,0,0,0,0,0,0,0,0,0,0,0,0,0,0,0,0,0,0,0,0,0,0,0,0,0,0,0,0,0,0,0,0,0,0,0,0,0,0,0,0,0,0,0,0,0,0,0,0,0,0,0,0,0,0,0,0,0,0,0,0,0,0,0,0,0,0,0,0,0,0,0,0,0,0,0,0,0,0,0,0,0,0,0,0,0,0,0,0,0,0,0,0,0,0,0,0,0,0,0,0,0,0,0,0,0,0,0,0,0,0,0,0,0,0,0,0,0,0,0,0,0,0,0,0,0,0,0,0,0,0,0,0,0,0,0,0,0,0,0,0,0,0,0,0,0,0,0,0,0,0,0,0,0,0,0,0,0,0,0,0,0,0,0,0,0,0,0,0,0,0,0,0,0,0,0,0,0,0,0,0,0,0,0,0,0,0,0,0,0,0,0,0,0,0,0,0,0,0,0,0,0,0,0,0,0,0,0,0,0,0,0,0,0,0,0,0,0,0,0,0,0,0,0,0,0,0,0,0,0,0,0,0,0,0,0,0,0,0,0,0,0,0,0,0,0,0,0,0,0,0,0,0,0,0,0,0,0,0,0,0,0,0,0,0,0,0,0,0,0,0,0,0,0,0,0,0,0,0,0,0,0,0,0,0,0,0,0,0,0,0,0,0,0,0,0,0,0,0,0,0,0,0,0,0,0,0,0,0,0,0,0,0,0,0,0,0,0,0,0,0,0,0,0,0,0,0,0,0,0,0,0,0,0,0,0,0,0,0,0,0,0,0,0,0,0,0,0,0,0,0,0,0,0,0,0,0,0,0,0,0,0,0,0,0,0,0,0,0,0,0,0,0,0,0,0,0,0,0,0,0,0,0,0,0,0,0,0,0,0,0,0,0,0,0,0,0,0,0,0,0,0,0,0,0,0,0,0,0,0,0,0,0,0,0,0,0,0,0,0,0,0,0,0,0,0,0,0,0,0,0,0,0,0,0,0,0,0,0,0,0,0,0,0,0,0,0,0,0,0,0,0,0,0,0,0,0,0,0,0,0,0,0,0,0,0,0,0,0,0,0,0,0,0,0,0,0,0,0,0,0,0,0,0,0,0,0,0,0,0,0,0,0,0,0,0,0,0,0,0,0,0,0,0,0,0,0,0,0,0,0,0,0,0,0,0,0,0,0,0,0,0,0,0,0,0,0,0,0,0,0,0,0,0,0,0,0,0,0,0,0,0,0,0,0,0,0,0,0,0,0,0,0,0,0,0,0,0,0,0,0,0,0,0],\"type\":\"scatter3d\"}],                        {\"template\":{\"data\":{\"histogram2dcontour\":[{\"type\":\"histogram2dcontour\",\"colorbar\":{\"outlinewidth\":0,\"ticks\":\"\"},\"colorscale\":[[0.0,\"#0d0887\"],[0.1111111111111111,\"#46039f\"],[0.2222222222222222,\"#7201a8\"],[0.3333333333333333,\"#9c179e\"],[0.4444444444444444,\"#bd3786\"],[0.5555555555555556,\"#d8576b\"],[0.6666666666666666,\"#ed7953\"],[0.7777777777777778,\"#fb9f3a\"],[0.8888888888888888,\"#fdca26\"],[1.0,\"#f0f921\"]]}],\"choropleth\":[{\"type\":\"choropleth\",\"colorbar\":{\"outlinewidth\":0,\"ticks\":\"\"}}],\"histogram2d\":[{\"type\":\"histogram2d\",\"colorbar\":{\"outlinewidth\":0,\"ticks\":\"\"},\"colorscale\":[[0.0,\"#0d0887\"],[0.1111111111111111,\"#46039f\"],[0.2222222222222222,\"#7201a8\"],[0.3333333333333333,\"#9c179e\"],[0.4444444444444444,\"#bd3786\"],[0.5555555555555556,\"#d8576b\"],[0.6666666666666666,\"#ed7953\"],[0.7777777777777778,\"#fb9f3a\"],[0.8888888888888888,\"#fdca26\"],[1.0,\"#f0f921\"]]}],\"heatmap\":[{\"type\":\"heatmap\",\"colorbar\":{\"outlinewidth\":0,\"ticks\":\"\"},\"colorscale\":[[0.0,\"#0d0887\"],[0.1111111111111111,\"#46039f\"],[0.2222222222222222,\"#7201a8\"],[0.3333333333333333,\"#9c179e\"],[0.4444444444444444,\"#bd3786\"],[0.5555555555555556,\"#d8576b\"],[0.6666666666666666,\"#ed7953\"],[0.7777777777777778,\"#fb9f3a\"],[0.8888888888888888,\"#fdca26\"],[1.0,\"#f0f921\"]]}],\"heatmapgl\":[{\"type\":\"heatmapgl\",\"colorbar\":{\"outlinewidth\":0,\"ticks\":\"\"},\"colorscale\":[[0.0,\"#0d0887\"],[0.1111111111111111,\"#46039f\"],[0.2222222222222222,\"#7201a8\"],[0.3333333333333333,\"#9c179e\"],[0.4444444444444444,\"#bd3786\"],[0.5555555555555556,\"#d8576b\"],[0.6666666666666666,\"#ed7953\"],[0.7777777777777778,\"#fb9f3a\"],[0.8888888888888888,\"#fdca26\"],[1.0,\"#f0f921\"]]}],\"contourcarpet\":[{\"type\":\"contourcarpet\",\"colorbar\":{\"outlinewidth\":0,\"ticks\":\"\"}}],\"contour\":[{\"type\":\"contour\",\"colorbar\":{\"outlinewidth\":0,\"ticks\":\"\"},\"colorscale\":[[0.0,\"#0d0887\"],[0.1111111111111111,\"#46039f\"],[0.2222222222222222,\"#7201a8\"],[0.3333333333333333,\"#9c179e\"],[0.4444444444444444,\"#bd3786\"],[0.5555555555555556,\"#d8576b\"],[0.6666666666666666,\"#ed7953\"],[0.7777777777777778,\"#fb9f3a\"],[0.8888888888888888,\"#fdca26\"],[1.0,\"#f0f921\"]]}],\"surface\":[{\"type\":\"surface\",\"colorbar\":{\"outlinewidth\":0,\"ticks\":\"\"},\"colorscale\":[[0.0,\"#0d0887\"],[0.1111111111111111,\"#46039f\"],[0.2222222222222222,\"#7201a8\"],[0.3333333333333333,\"#9c179e\"],[0.4444444444444444,\"#bd3786\"],[0.5555555555555556,\"#d8576b\"],[0.6666666666666666,\"#ed7953\"],[0.7777777777777778,\"#fb9f3a\"],[0.8888888888888888,\"#fdca26\"],[1.0,\"#f0f921\"]]}],\"mesh3d\":[{\"type\":\"mesh3d\",\"colorbar\":{\"outlinewidth\":0,\"ticks\":\"\"}}],\"scatter\":[{\"fillpattern\":{\"fillmode\":\"overlay\",\"size\":10,\"solidity\":0.2},\"type\":\"scatter\"}],\"parcoords\":[{\"type\":\"parcoords\",\"line\":{\"colorbar\":{\"outlinewidth\":0,\"ticks\":\"\"}}}],\"scatterpolargl\":[{\"type\":\"scatterpolargl\",\"marker\":{\"colorbar\":{\"outlinewidth\":0,\"ticks\":\"\"}}}],\"bar\":[{\"error_x\":{\"color\":\"#2a3f5f\"},\"error_y\":{\"color\":\"#2a3f5f\"},\"marker\":{\"line\":{\"color\":\"#E5ECF6\",\"width\":0.5},\"pattern\":{\"fillmode\":\"overlay\",\"size\":10,\"solidity\":0.2}},\"type\":\"bar\"}],\"scattergeo\":[{\"type\":\"scattergeo\",\"marker\":{\"colorbar\":{\"outlinewidth\":0,\"ticks\":\"\"}}}],\"scatterpolar\":[{\"type\":\"scatterpolar\",\"marker\":{\"colorbar\":{\"outlinewidth\":0,\"ticks\":\"\"}}}],\"histogram\":[{\"marker\":{\"pattern\":{\"fillmode\":\"overlay\",\"size\":10,\"solidity\":0.2}},\"type\":\"histogram\"}],\"scattergl\":[{\"type\":\"scattergl\",\"marker\":{\"colorbar\":{\"outlinewidth\":0,\"ticks\":\"\"}}}],\"scatter3d\":[{\"type\":\"scatter3d\",\"line\":{\"colorbar\":{\"outlinewidth\":0,\"ticks\":\"\"}},\"marker\":{\"colorbar\":{\"outlinewidth\":0,\"ticks\":\"\"}}}],\"scattermapbox\":[{\"type\":\"scattermapbox\",\"marker\":{\"colorbar\":{\"outlinewidth\":0,\"ticks\":\"\"}}}],\"scatterternary\":[{\"type\":\"scatterternary\",\"marker\":{\"colorbar\":{\"outlinewidth\":0,\"ticks\":\"\"}}}],\"scattercarpet\":[{\"type\":\"scattercarpet\",\"marker\":{\"colorbar\":{\"outlinewidth\":0,\"ticks\":\"\"}}}],\"carpet\":[{\"aaxis\":{\"endlinecolor\":\"#2a3f5f\",\"gridcolor\":\"white\",\"linecolor\":\"white\",\"minorgridcolor\":\"white\",\"startlinecolor\":\"#2a3f5f\"},\"baxis\":{\"endlinecolor\":\"#2a3f5f\",\"gridcolor\":\"white\",\"linecolor\":\"white\",\"minorgridcolor\":\"white\",\"startlinecolor\":\"#2a3f5f\"},\"type\":\"carpet\"}],\"table\":[{\"cells\":{\"fill\":{\"color\":\"#EBF0F8\"},\"line\":{\"color\":\"white\"}},\"header\":{\"fill\":{\"color\":\"#C8D4E3\"},\"line\":{\"color\":\"white\"}},\"type\":\"table\"}],\"barpolar\":[{\"marker\":{\"line\":{\"color\":\"#E5ECF6\",\"width\":0.5},\"pattern\":{\"fillmode\":\"overlay\",\"size\":10,\"solidity\":0.2}},\"type\":\"barpolar\"}],\"pie\":[{\"automargin\":true,\"type\":\"pie\"}]},\"layout\":{\"autotypenumbers\":\"strict\",\"colorway\":[\"#636efa\",\"#EF553B\",\"#00cc96\",\"#ab63fa\",\"#FFA15A\",\"#19d3f3\",\"#FF6692\",\"#B6E880\",\"#FF97FF\",\"#FECB52\"],\"font\":{\"color\":\"#2a3f5f\"},\"hovermode\":\"closest\",\"hoverlabel\":{\"align\":\"left\"},\"paper_bgcolor\":\"white\",\"plot_bgcolor\":\"#E5ECF6\",\"polar\":{\"bgcolor\":\"#E5ECF6\",\"angularaxis\":{\"gridcolor\":\"white\",\"linecolor\":\"white\",\"ticks\":\"\"},\"radialaxis\":{\"gridcolor\":\"white\",\"linecolor\":\"white\",\"ticks\":\"\"}},\"ternary\":{\"bgcolor\":\"#E5ECF6\",\"aaxis\":{\"gridcolor\":\"white\",\"linecolor\":\"white\",\"ticks\":\"\"},\"baxis\":{\"gridcolor\":\"white\",\"linecolor\":\"white\",\"ticks\":\"\"},\"caxis\":{\"gridcolor\":\"white\",\"linecolor\":\"white\",\"ticks\":\"\"}},\"coloraxis\":{\"colorbar\":{\"outlinewidth\":0,\"ticks\":\"\"}},\"colorscale\":{\"sequential\":[[0.0,\"#0d0887\"],[0.1111111111111111,\"#46039f\"],[0.2222222222222222,\"#7201a8\"],[0.3333333333333333,\"#9c179e\"],[0.4444444444444444,\"#bd3786\"],[0.5555555555555556,\"#d8576b\"],[0.6666666666666666,\"#ed7953\"],[0.7777777777777778,\"#fb9f3a\"],[0.8888888888888888,\"#fdca26\"],[1.0,\"#f0f921\"]],\"sequentialminus\":[[0.0,\"#0d0887\"],[0.1111111111111111,\"#46039f\"],[0.2222222222222222,\"#7201a8\"],[0.3333333333333333,\"#9c179e\"],[0.4444444444444444,\"#bd3786\"],[0.5555555555555556,\"#d8576b\"],[0.6666666666666666,\"#ed7953\"],[0.7777777777777778,\"#fb9f3a\"],[0.8888888888888888,\"#fdca26\"],[1.0,\"#f0f921\"]],\"diverging\":[[0,\"#8e0152\"],[0.1,\"#c51b7d\"],[0.2,\"#de77ae\"],[0.3,\"#f1b6da\"],[0.4,\"#fde0ef\"],[0.5,\"#f7f7f7\"],[0.6,\"#e6f5d0\"],[0.7,\"#b8e186\"],[0.8,\"#7fbc41\"],[0.9,\"#4d9221\"],[1,\"#276419\"]]},\"xaxis\":{\"gridcolor\":\"white\",\"linecolor\":\"white\",\"ticks\":\"\",\"title\":{\"standoff\":15},\"zerolinecolor\":\"white\",\"automargin\":true,\"zerolinewidth\":2},\"yaxis\":{\"gridcolor\":\"white\",\"linecolor\":\"white\",\"ticks\":\"\",\"title\":{\"standoff\":15},\"zerolinecolor\":\"white\",\"automargin\":true,\"zerolinewidth\":2},\"scene\":{\"xaxis\":{\"backgroundcolor\":\"#E5ECF6\",\"gridcolor\":\"white\",\"linecolor\":\"white\",\"showbackground\":true,\"ticks\":\"\",\"zerolinecolor\":\"white\",\"gridwidth\":2},\"yaxis\":{\"backgroundcolor\":\"#E5ECF6\",\"gridcolor\":\"white\",\"linecolor\":\"white\",\"showbackground\":true,\"ticks\":\"\",\"zerolinecolor\":\"white\",\"gridwidth\":2},\"zaxis\":{\"backgroundcolor\":\"#E5ECF6\",\"gridcolor\":\"white\",\"linecolor\":\"white\",\"showbackground\":true,\"ticks\":\"\",\"zerolinecolor\":\"white\",\"gridwidth\":2}},\"shapedefaults\":{\"line\":{\"color\":\"#2a3f5f\"}},\"annotationdefaults\":{\"arrowcolor\":\"#2a3f5f\",\"arrowhead\":0,\"arrowwidth\":1},\"geo\":{\"bgcolor\":\"white\",\"landcolor\":\"#E5ECF6\",\"subunitcolor\":\"white\",\"showland\":true,\"showlakes\":true,\"lakecolor\":\"white\"},\"title\":{\"x\":0.05},\"mapbox\":{\"style\":\"light\"}}},\"scene\":{\"domain\":{\"x\":[0.0,1.0],\"y\":[0.0,1.0]},\"xaxis\":{\"title\":{\"text\":\"SuspiciousImportFunctions\"}},\"yaxis\":{\"title\":{\"text\":\"SectionsLength\"}},\"zaxis\":{\"title\":{\"text\":\"SuspiciousNameSection\"}}},\"coloraxis\":{\"colorbar\":{\"title\":{\"text\":\"ypred\"}},\"colorscale\":[[0.0,\"#0d0887\"],[0.1111111111111111,\"#46039f\"],[0.2222222222222222,\"#7201a8\"],[0.3333333333333333,\"#9c179e\"],[0.4444444444444444,\"#bd3786\"],[0.5555555555555556,\"#d8576b\"],[0.6666666666666666,\"#ed7953\"],[0.7777777777777778,\"#fb9f3a\"],[0.8888888888888888,\"#fdca26\"],[1.0,\"#f0f921\"]]},\"legend\":{\"tracegroupgap\":0},\"margin\":{\"t\":60}},                        {\"responsive\": true}                    ).then(function(){\n",
              "                            \n",
              "var gd = document.getElementById('cb8fc9c5-d43d-49e7-bbe2-0f8e0ed7281f');\n",
              "var x = new MutationObserver(function (mutations, observer) {{\n",
              "        var display = window.getComputedStyle(gd).display;\n",
              "        if (!display || display === 'none') {{\n",
              "            console.log([gd, 'removed!']);\n",
              "            Plotly.purge(gd);\n",
              "            observer.disconnect();\n",
              "        }}\n",
              "}});\n",
              "\n",
              "// Listen for the removal of the full notebook cells\n",
              "var notebookContainer = gd.closest('#notebook-container');\n",
              "if (notebookContainer) {{\n",
              "    x.observe(notebookContainer, {childList: true});\n",
              "}}\n",
              "\n",
              "// Listen for the clearing of the current output cell\n",
              "var outputEl = gd.closest('.output');\n",
              "if (outputEl) {{\n",
              "    x.observe(outputEl, {childList: true});\n",
              "}}\n",
              "\n",
              "                        })                };                            </script>        </div>\n",
              "</body>\n",
              "</html>"
            ]
          },
          "metadata": {}
        }
      ]
    },
    {
      "cell_type": "markdown",
      "source": [
        "# XGBOOST:\n",
        "\n",
        "**XGBoost** is a fast and powerful machine learning algorithm used for regression and classification tasks. It's popular because it's highly efficient, offers regularization to prevent overfitting, handles different data types well, and provides feature importance scores. Its parallelization capabilities and tree pruning contribute to its speed and performance. With a large community and extensive resources, it's a go-to choice for many data scientists and machine learning practitioners.\n",
        "\n",
        "**Boosting** is a machine learning ensemble technique that combines weak learners sequentially, where each subsequent learner corrects the errors of its previous one, aiming to create a strong learner with improved accuracy. Boosting caption: \"Sequential Improvement: Boosting enhances model performance by iteratively correcting errors.\"\n",
        "\n",
        "Boosting is like a team effort where each member focuses on fixing mistakes made by the previous ones, resulting in a smarter team overall.\n",
        "\n",
        "**Caption: \"Teamwork for Accuracy: Boosting corrects mistakes step by step to improve performance.\"**"
      ],
      "metadata": {
        "id": "NYcSL5FSyElw"
      }
    },
    {
      "cell_type": "code",
      "source": [
        "#import Libraries\n",
        "#dataframe\n",
        "import pandas as pd\n",
        "#sdata splitting\n",
        "from sklearn.model_selection import train_test_split\n",
        "#model selection\n",
        "from xgboost import XGBClassifier\n",
        "\n",
        "#model accuracy\n",
        "from sklearn.metrics import accuracy_score"
      ],
      "metadata": {
        "id": "NA9-HwxFENNV"
      },
      "execution_count": 43,
      "outputs": []
    },
    {
      "cell_type": "code",
      "source": [
        "df = pd.read_csv(\"/content/drive/MyDrive/CyberSecurity with AI /file_pe_headers.csv\", sep = \",\")\n",
        "df.head(3)"
      ],
      "metadata": {
        "colab": {
          "base_uri": "https://localhost:8080/",
          "height": 193
        },
        "id": "CuGKBMF6ziER",
        "outputId": "7a05abfb-e0a8-491b-987f-4cb55af4b8fb"
      },
      "execution_count": 44,
      "outputs": [
        {
          "output_type": "execute_result",
          "data": {
            "text/plain": [
              "                                          Name  e_magic  e_cblp  e_cp  e_crlc  \\\n",
              "0  VirusShare_a878ba26000edaac5c98eff4432723b3    23117     144     3       0   \n",
              "1  VirusShare_ef9130570fddc174b312b2047f5f4cf0    23117     144     3       0   \n",
              "2  VirusShare_ef84cdeba22be72a69b198213dada81a    23117     144     3       0   \n",
              "\n",
              "   e_cparhdr  e_minalloc  e_maxalloc  e_ss  e_sp  ...  SectionMaxChar  \\\n",
              "0          4           0       65535     0   184  ...      3758096608   \n",
              "1          4           0       65535     0   184  ...      3791650880   \n",
              "2          4           0       65535     0   184  ...      3221225536   \n",
              "\n",
              "   SectionMainChar  DirectoryEntryImport  DirectoryEntryImportSize  \\\n",
              "0                0                     7                       152   \n",
              "1                0                    16                       311   \n",
              "2                0                     6                       176   \n",
              "\n",
              "   DirectoryEntryExport  ImageDirectoryEntryExport  ImageDirectoryEntryImport  \\\n",
              "0                     0                          0                      54440   \n",
              "1                     0                          0                     262276   \n",
              "2                     0                          0                      36864   \n",
              "\n",
              "   ImageDirectoryEntryResource  ImageDirectoryEntryException  \\\n",
              "0                        77824                         73728   \n",
              "1                       294912                             0   \n",
              "2                        40960                             0   \n",
              "\n",
              "   ImageDirectoryEntrySecurity  \n",
              "0                            0  \n",
              "1                       346112  \n",
              "2                            0  \n",
              "\n",
              "[3 rows x 79 columns]"
            ],
            "text/html": [
              "\n",
              "  <div id=\"df-05dec8ba-a8de-4599-8e47-6c8ee1584948\" class=\"colab-df-container\">\n",
              "    <div>\n",
              "<style scoped>\n",
              "    .dataframe tbody tr th:only-of-type {\n",
              "        vertical-align: middle;\n",
              "    }\n",
              "\n",
              "    .dataframe tbody tr th {\n",
              "        vertical-align: top;\n",
              "    }\n",
              "\n",
              "    .dataframe thead th {\n",
              "        text-align: right;\n",
              "    }\n",
              "</style>\n",
              "<table border=\"1\" class=\"dataframe\">\n",
              "  <thead>\n",
              "    <tr style=\"text-align: right;\">\n",
              "      <th></th>\n",
              "      <th>Name</th>\n",
              "      <th>e_magic</th>\n",
              "      <th>e_cblp</th>\n",
              "      <th>e_cp</th>\n",
              "      <th>e_crlc</th>\n",
              "      <th>e_cparhdr</th>\n",
              "      <th>e_minalloc</th>\n",
              "      <th>e_maxalloc</th>\n",
              "      <th>e_ss</th>\n",
              "      <th>e_sp</th>\n",
              "      <th>...</th>\n",
              "      <th>SectionMaxChar</th>\n",
              "      <th>SectionMainChar</th>\n",
              "      <th>DirectoryEntryImport</th>\n",
              "      <th>DirectoryEntryImportSize</th>\n",
              "      <th>DirectoryEntryExport</th>\n",
              "      <th>ImageDirectoryEntryExport</th>\n",
              "      <th>ImageDirectoryEntryImport</th>\n",
              "      <th>ImageDirectoryEntryResource</th>\n",
              "      <th>ImageDirectoryEntryException</th>\n",
              "      <th>ImageDirectoryEntrySecurity</th>\n",
              "    </tr>\n",
              "  </thead>\n",
              "  <tbody>\n",
              "    <tr>\n",
              "      <th>0</th>\n",
              "      <td>VirusShare_a878ba26000edaac5c98eff4432723b3</td>\n",
              "      <td>23117</td>\n",
              "      <td>144</td>\n",
              "      <td>3</td>\n",
              "      <td>0</td>\n",
              "      <td>4</td>\n",
              "      <td>0</td>\n",
              "      <td>65535</td>\n",
              "      <td>0</td>\n",
              "      <td>184</td>\n",
              "      <td>...</td>\n",
              "      <td>3758096608</td>\n",
              "      <td>0</td>\n",
              "      <td>7</td>\n",
              "      <td>152</td>\n",
              "      <td>0</td>\n",
              "      <td>0</td>\n",
              "      <td>54440</td>\n",
              "      <td>77824</td>\n",
              "      <td>73728</td>\n",
              "      <td>0</td>\n",
              "    </tr>\n",
              "    <tr>\n",
              "      <th>1</th>\n",
              "      <td>VirusShare_ef9130570fddc174b312b2047f5f4cf0</td>\n",
              "      <td>23117</td>\n",
              "      <td>144</td>\n",
              "      <td>3</td>\n",
              "      <td>0</td>\n",
              "      <td>4</td>\n",
              "      <td>0</td>\n",
              "      <td>65535</td>\n",
              "      <td>0</td>\n",
              "      <td>184</td>\n",
              "      <td>...</td>\n",
              "      <td>3791650880</td>\n",
              "      <td>0</td>\n",
              "      <td>16</td>\n",
              "      <td>311</td>\n",
              "      <td>0</td>\n",
              "      <td>0</td>\n",
              "      <td>262276</td>\n",
              "      <td>294912</td>\n",
              "      <td>0</td>\n",
              "      <td>346112</td>\n",
              "    </tr>\n",
              "    <tr>\n",
              "      <th>2</th>\n",
              "      <td>VirusShare_ef84cdeba22be72a69b198213dada81a</td>\n",
              "      <td>23117</td>\n",
              "      <td>144</td>\n",
              "      <td>3</td>\n",
              "      <td>0</td>\n",
              "      <td>4</td>\n",
              "      <td>0</td>\n",
              "      <td>65535</td>\n",
              "      <td>0</td>\n",
              "      <td>184</td>\n",
              "      <td>...</td>\n",
              "      <td>3221225536</td>\n",
              "      <td>0</td>\n",
              "      <td>6</td>\n",
              "      <td>176</td>\n",
              "      <td>0</td>\n",
              "      <td>0</td>\n",
              "      <td>36864</td>\n",
              "      <td>40960</td>\n",
              "      <td>0</td>\n",
              "      <td>0</td>\n",
              "    </tr>\n",
              "  </tbody>\n",
              "</table>\n",
              "<p>3 rows × 79 columns</p>\n",
              "</div>\n",
              "    <div class=\"colab-df-buttons\">\n",
              "\n",
              "  <div class=\"colab-df-container\">\n",
              "    <button class=\"colab-df-convert\" onclick=\"convertToInteractive('df-05dec8ba-a8de-4599-8e47-6c8ee1584948')\"\n",
              "            title=\"Convert this dataframe to an interactive table.\"\n",
              "            style=\"display:none;\">\n",
              "\n",
              "  <svg xmlns=\"http://www.w3.org/2000/svg\" height=\"24px\" viewBox=\"0 -960 960 960\">\n",
              "    <path d=\"M120-120v-720h720v720H120Zm60-500h600v-160H180v160Zm220 220h160v-160H400v160Zm0 220h160v-160H400v160ZM180-400h160v-160H180v160Zm440 0h160v-160H620v160ZM180-180h160v-160H180v160Zm440 0h160v-160H620v160Z\"/>\n",
              "  </svg>\n",
              "    </button>\n",
              "\n",
              "  <style>\n",
              "    .colab-df-container {\n",
              "      display:flex;\n",
              "      gap: 12px;\n",
              "    }\n",
              "\n",
              "    .colab-df-convert {\n",
              "      background-color: #E8F0FE;\n",
              "      border: none;\n",
              "      border-radius: 50%;\n",
              "      cursor: pointer;\n",
              "      display: none;\n",
              "      fill: #1967D2;\n",
              "      height: 32px;\n",
              "      padding: 0 0 0 0;\n",
              "      width: 32px;\n",
              "    }\n",
              "\n",
              "    .colab-df-convert:hover {\n",
              "      background-color: #E2EBFA;\n",
              "      box-shadow: 0px 1px 2px rgba(60, 64, 67, 0.3), 0px 1px 3px 1px rgba(60, 64, 67, 0.15);\n",
              "      fill: #174EA6;\n",
              "    }\n",
              "\n",
              "    .colab-df-buttons div {\n",
              "      margin-bottom: 4px;\n",
              "    }\n",
              "\n",
              "    [theme=dark] .colab-df-convert {\n",
              "      background-color: #3B4455;\n",
              "      fill: #D2E3FC;\n",
              "    }\n",
              "\n",
              "    [theme=dark] .colab-df-convert:hover {\n",
              "      background-color: #434B5C;\n",
              "      box-shadow: 0px 1px 3px 1px rgba(0, 0, 0, 0.15);\n",
              "      filter: drop-shadow(0px 1px 2px rgba(0, 0, 0, 0.3));\n",
              "      fill: #FFFFFF;\n",
              "    }\n",
              "  </style>\n",
              "\n",
              "    <script>\n",
              "      const buttonEl =\n",
              "        document.querySelector('#df-05dec8ba-a8de-4599-8e47-6c8ee1584948 button.colab-df-convert');\n",
              "      buttonEl.style.display =\n",
              "        google.colab.kernel.accessAllowed ? 'block' : 'none';\n",
              "\n",
              "      async function convertToInteractive(key) {\n",
              "        const element = document.querySelector('#df-05dec8ba-a8de-4599-8e47-6c8ee1584948');\n",
              "        const dataTable =\n",
              "          await google.colab.kernel.invokeFunction('convertToInteractive',\n",
              "                                                    [key], {});\n",
              "        if (!dataTable) return;\n",
              "\n",
              "        const docLinkHtml = 'Like what you see? Visit the ' +\n",
              "          '<a target=\"_blank\" href=https://colab.research.google.com/notebooks/data_table.ipynb>data table notebook</a>'\n",
              "          + ' to learn more about interactive tables.';\n",
              "        element.innerHTML = '';\n",
              "        dataTable['output_type'] = 'display_data';\n",
              "        await google.colab.output.renderOutput(dataTable, element);\n",
              "        const docLink = document.createElement('div');\n",
              "        docLink.innerHTML = docLinkHtml;\n",
              "        element.appendChild(docLink);\n",
              "      }\n",
              "    </script>\n",
              "  </div>\n",
              "\n",
              "\n",
              "<div id=\"df-48e39bf7-1344-40d7-ba7e-816a94d63356\">\n",
              "  <button class=\"colab-df-quickchart\" onclick=\"quickchart('df-48e39bf7-1344-40d7-ba7e-816a94d63356')\"\n",
              "            title=\"Suggest charts\"\n",
              "            style=\"display:none;\">\n",
              "\n",
              "<svg xmlns=\"http://www.w3.org/2000/svg\" height=\"24px\"viewBox=\"0 0 24 24\"\n",
              "     width=\"24px\">\n",
              "    <g>\n",
              "        <path d=\"M19 3H5c-1.1 0-2 .9-2 2v14c0 1.1.9 2 2 2h14c1.1 0 2-.9 2-2V5c0-1.1-.9-2-2-2zM9 17H7v-7h2v7zm4 0h-2V7h2v10zm4 0h-2v-4h2v4z\"/>\n",
              "    </g>\n",
              "</svg>\n",
              "  </button>\n",
              "\n",
              "<style>\n",
              "  .colab-df-quickchart {\n",
              "      --bg-color: #E8F0FE;\n",
              "      --fill-color: #1967D2;\n",
              "      --hover-bg-color: #E2EBFA;\n",
              "      --hover-fill-color: #174EA6;\n",
              "      --disabled-fill-color: #AAA;\n",
              "      --disabled-bg-color: #DDD;\n",
              "  }\n",
              "\n",
              "  [theme=dark] .colab-df-quickchart {\n",
              "      --bg-color: #3B4455;\n",
              "      --fill-color: #D2E3FC;\n",
              "      --hover-bg-color: #434B5C;\n",
              "      --hover-fill-color: #FFFFFF;\n",
              "      --disabled-bg-color: #3B4455;\n",
              "      --disabled-fill-color: #666;\n",
              "  }\n",
              "\n",
              "  .colab-df-quickchart {\n",
              "    background-color: var(--bg-color);\n",
              "    border: none;\n",
              "    border-radius: 50%;\n",
              "    cursor: pointer;\n",
              "    display: none;\n",
              "    fill: var(--fill-color);\n",
              "    height: 32px;\n",
              "    padding: 0;\n",
              "    width: 32px;\n",
              "  }\n",
              "\n",
              "  .colab-df-quickchart:hover {\n",
              "    background-color: var(--hover-bg-color);\n",
              "    box-shadow: 0 1px 2px rgba(60, 64, 67, 0.3), 0 1px 3px 1px rgba(60, 64, 67, 0.15);\n",
              "    fill: var(--button-hover-fill-color);\n",
              "  }\n",
              "\n",
              "  .colab-df-quickchart-complete:disabled,\n",
              "  .colab-df-quickchart-complete:disabled:hover {\n",
              "    background-color: var(--disabled-bg-color);\n",
              "    fill: var(--disabled-fill-color);\n",
              "    box-shadow: none;\n",
              "  }\n",
              "\n",
              "  .colab-df-spinner {\n",
              "    border: 2px solid var(--fill-color);\n",
              "    border-color: transparent;\n",
              "    border-bottom-color: var(--fill-color);\n",
              "    animation:\n",
              "      spin 1s steps(1) infinite;\n",
              "  }\n",
              "\n",
              "  @keyframes spin {\n",
              "    0% {\n",
              "      border-color: transparent;\n",
              "      border-bottom-color: var(--fill-color);\n",
              "      border-left-color: var(--fill-color);\n",
              "    }\n",
              "    20% {\n",
              "      border-color: transparent;\n",
              "      border-left-color: var(--fill-color);\n",
              "      border-top-color: var(--fill-color);\n",
              "    }\n",
              "    30% {\n",
              "      border-color: transparent;\n",
              "      border-left-color: var(--fill-color);\n",
              "      border-top-color: var(--fill-color);\n",
              "      border-right-color: var(--fill-color);\n",
              "    }\n",
              "    40% {\n",
              "      border-color: transparent;\n",
              "      border-right-color: var(--fill-color);\n",
              "      border-top-color: var(--fill-color);\n",
              "    }\n",
              "    60% {\n",
              "      border-color: transparent;\n",
              "      border-right-color: var(--fill-color);\n",
              "    }\n",
              "    80% {\n",
              "      border-color: transparent;\n",
              "      border-right-color: var(--fill-color);\n",
              "      border-bottom-color: var(--fill-color);\n",
              "    }\n",
              "    90% {\n",
              "      border-color: transparent;\n",
              "      border-bottom-color: var(--fill-color);\n",
              "    }\n",
              "  }\n",
              "</style>\n",
              "\n",
              "  <script>\n",
              "    async function quickchart(key) {\n",
              "      const quickchartButtonEl =\n",
              "        document.querySelector('#' + key + ' button');\n",
              "      quickchartButtonEl.disabled = true;  // To prevent multiple clicks.\n",
              "      quickchartButtonEl.classList.add('colab-df-spinner');\n",
              "      try {\n",
              "        const charts = await google.colab.kernel.invokeFunction(\n",
              "            'suggestCharts', [key], {});\n",
              "      } catch (error) {\n",
              "        console.error('Error during call to suggestCharts:', error);\n",
              "      }\n",
              "      quickchartButtonEl.classList.remove('colab-df-spinner');\n",
              "      quickchartButtonEl.classList.add('colab-df-quickchart-complete');\n",
              "    }\n",
              "    (() => {\n",
              "      let quickchartButtonEl =\n",
              "        document.querySelector('#df-48e39bf7-1344-40d7-ba7e-816a94d63356 button');\n",
              "      quickchartButtonEl.style.display =\n",
              "        google.colab.kernel.accessAllowed ? 'block' : 'none';\n",
              "    })();\n",
              "  </script>\n",
              "</div>\n",
              "\n",
              "    </div>\n",
              "  </div>\n"
            ],
            "application/vnd.google.colaboratory.intrinsic+json": {
              "type": "dataframe",
              "variable_name": "df"
            }
          },
          "metadata": {},
          "execution_count": 44
        }
      ]
    },
    {
      "cell_type": "code",
      "source": [
        "#column details\n",
        "print(f'numbers of col: {len(df.columns)}')\n",
        "print(f'column names: \\n {df.columns}')\n"
      ],
      "metadata": {
        "colab": {
          "base_uri": "https://localhost:8080/"
        },
        "id": "RDwE5seq0R7G",
        "outputId": "c848754c-cef4-4d82-e8fc-7151501fb31b"
      },
      "execution_count": 45,
      "outputs": [
        {
          "output_type": "stream",
          "name": "stdout",
          "text": [
            "numbers of col: 79\n",
            "column names: \n",
            " Index(['Name', 'e_magic', 'e_cblp', 'e_cp', 'e_crlc', 'e_cparhdr',\n",
            "       'e_minalloc', 'e_maxalloc', 'e_ss', 'e_sp', 'e_csum', 'e_ip', 'e_cs',\n",
            "       'e_lfarlc', 'e_ovno', 'e_oemid', 'e_oeminfo', 'e_lfanew', 'Machine',\n",
            "       'NumberOfSections', 'TimeDateStamp', 'PointerToSymbolTable',\n",
            "       'NumberOfSymbols', 'SizeOfOptionalHeader', 'Characteristics', 'Magic',\n",
            "       'MajorLinkerVersion', 'MinorLinkerVersion', 'SizeOfCode',\n",
            "       'SizeOfInitializedData', 'SizeOfUninitializedData',\n",
            "       'AddressOfEntryPoint', 'BaseOfCode', 'ImageBase', 'SectionAlignment',\n",
            "       'FileAlignment', 'MajorOperatingSystemVersion',\n",
            "       'MinorOperatingSystemVersion', 'MajorImageVersion', 'MinorImageVersion',\n",
            "       'MajorSubsystemVersion', 'MinorSubsystemVersion', 'SizeOfHeaders',\n",
            "       'CheckSum', 'SizeOfImage', 'Subsystem', 'DllCharacteristics',\n",
            "       'SizeOfStackReserve', 'SizeOfStackCommit', 'SizeOfHeapReserve',\n",
            "       'SizeOfHeapCommit', 'LoaderFlags', 'NumberOfRvaAndSizes', 'Malware',\n",
            "       'SuspiciousImportFunctions', 'SuspiciousNameSection', 'SectionsLength',\n",
            "       'SectionMinEntropy', 'SectionMaxEntropy', 'SectionMinRawsize',\n",
            "       'SectionMaxRawsize', 'SectionMinVirtualsize', 'SectionMaxVirtualsize',\n",
            "       'SectionMaxPhysical', 'SectionMinPhysical', 'SectionMaxVirtual',\n",
            "       'SectionMinVirtual', 'SectionMaxPointerData', 'SectionMinPointerData',\n",
            "       'SectionMaxChar', 'SectionMainChar', 'DirectoryEntryImport',\n",
            "       'DirectoryEntryImportSize', 'DirectoryEntryExport',\n",
            "       'ImageDirectoryEntryExport', 'ImageDirectoryEntryImport',\n",
            "       'ImageDirectoryEntryResource', 'ImageDirectoryEntryException',\n",
            "       'ImageDirectoryEntrySecurity'],\n",
            "      dtype='object')\n"
          ]
        }
      ]
    },
    {
      "cell_type": "code",
      "source": [
        "#target\n",
        "y = df['Malware']\n",
        "print(f'target classes: {y.value_counts()}')\n",
        "\n",
        "#features\n",
        "#print(f'value of Name col {df['Name']}')\n",
        "X = df.drop(['Name', 'Malware'], axis = 1)\n",
        "print(f\"shape of X: {X.shape}\")"
      ],
      "metadata": {
        "colab": {
          "base_uri": "https://localhost:8080/"
        },
        "id": "uh6irGc50qGV",
        "outputId": "c8bbd3ee-afca-49b2-9815-4ab2ccde7fdd"
      },
      "execution_count": 46,
      "outputs": [
        {
          "output_type": "stream",
          "name": "stdout",
          "text": [
            "target classes: Malware\n",
            "1    14599\n",
            "0     5012\n",
            "Name: count, dtype: int64\n",
            "shape of X: (19611, 77)\n"
          ]
        }
      ]
    },
    {
      "cell_type": "code",
      "source": [
        "#train test split\n",
        "\n",
        "X_train, X_test, y_train, y_test = train_test_split(X, y, test_size = 0.3, random_state = 42)"
      ],
      "metadata": {
        "id": "8T2Wksiv2fL8"
      },
      "execution_count": 47,
      "outputs": []
    },
    {
      "cell_type": "code",
      "source": [
        "print(f'shape of train: {X_train.shape}')\n",
        "print(f'shape of test: {X_test.shape}')"
      ],
      "metadata": {
        "colab": {
          "base_uri": "https://localhost:8080/"
        },
        "id": "rNFRYQbz4-mA",
        "outputId": "153799d4-ac4a-43ed-e17d-2ce4afea9444"
      },
      "execution_count": 48,
      "outputs": [
        {
          "output_type": "stream",
          "name": "stdout",
          "text": [
            "shape of train: (13727, 77)\n",
            "shape of test: (5884, 77)\n"
          ]
        }
      ]
    },
    {
      "cell_type": "code",
      "source": [
        "#model training\n",
        "xgb_model = XGBClassifier()\n",
        "xgb_model.fit(X_train, y_train)"
      ],
      "metadata": {
        "colab": {
          "base_uri": "https://localhost:8080/",
          "height": 248
        },
        "id": "KG0BRbiM5iTl",
        "outputId": "0a7a0dd2-5d68-428d-f40b-43250917d8b1"
      },
      "execution_count": 49,
      "outputs": [
        {
          "output_type": "execute_result",
          "data": {
            "text/plain": [
              "XGBClassifier(base_score=None, booster=None, callbacks=None,\n",
              "              colsample_bylevel=None, colsample_bynode=None,\n",
              "              colsample_bytree=None, device=None, early_stopping_rounds=None,\n",
              "              enable_categorical=False, eval_metric=None, feature_types=None,\n",
              "              gamma=None, grow_policy=None, importance_type=None,\n",
              "              interaction_constraints=None, learning_rate=None, max_bin=None,\n",
              "              max_cat_threshold=None, max_cat_to_onehot=None,\n",
              "              max_delta_step=None, max_depth=None, max_leaves=None,\n",
              "              min_child_weight=None, missing=nan, monotone_constraints=None,\n",
              "              multi_strategy=None, n_estimators=None, n_jobs=None,\n",
              "              num_parallel_tree=None, random_state=None, ...)"
            ],
            "text/html": [
              "<style>#sk-container-id-2 {color: black;background-color: white;}#sk-container-id-2 pre{padding: 0;}#sk-container-id-2 div.sk-toggleable {background-color: white;}#sk-container-id-2 label.sk-toggleable__label {cursor: pointer;display: block;width: 100%;margin-bottom: 0;padding: 0.3em;box-sizing: border-box;text-align: center;}#sk-container-id-2 label.sk-toggleable__label-arrow:before {content: \"▸\";float: left;margin-right: 0.25em;color: #696969;}#sk-container-id-2 label.sk-toggleable__label-arrow:hover:before {color: black;}#sk-container-id-2 div.sk-estimator:hover label.sk-toggleable__label-arrow:before {color: black;}#sk-container-id-2 div.sk-toggleable__content {max-height: 0;max-width: 0;overflow: hidden;text-align: left;background-color: #f0f8ff;}#sk-container-id-2 div.sk-toggleable__content pre {margin: 0.2em;color: black;border-radius: 0.25em;background-color: #f0f8ff;}#sk-container-id-2 input.sk-toggleable__control:checked~div.sk-toggleable__content {max-height: 200px;max-width: 100%;overflow: auto;}#sk-container-id-2 input.sk-toggleable__control:checked~label.sk-toggleable__label-arrow:before {content: \"▾\";}#sk-container-id-2 div.sk-estimator input.sk-toggleable__control:checked~label.sk-toggleable__label {background-color: #d4ebff;}#sk-container-id-2 div.sk-label input.sk-toggleable__control:checked~label.sk-toggleable__label {background-color: #d4ebff;}#sk-container-id-2 input.sk-hidden--visually {border: 0;clip: rect(1px 1px 1px 1px);clip: rect(1px, 1px, 1px, 1px);height: 1px;margin: -1px;overflow: hidden;padding: 0;position: absolute;width: 1px;}#sk-container-id-2 div.sk-estimator {font-family: monospace;background-color: #f0f8ff;border: 1px dotted black;border-radius: 0.25em;box-sizing: border-box;margin-bottom: 0.5em;}#sk-container-id-2 div.sk-estimator:hover {background-color: #d4ebff;}#sk-container-id-2 div.sk-parallel-item::after {content: \"\";width: 100%;border-bottom: 1px solid gray;flex-grow: 1;}#sk-container-id-2 div.sk-label:hover label.sk-toggleable__label {background-color: #d4ebff;}#sk-container-id-2 div.sk-serial::before {content: \"\";position: absolute;border-left: 1px solid gray;box-sizing: border-box;top: 0;bottom: 0;left: 50%;z-index: 0;}#sk-container-id-2 div.sk-serial {display: flex;flex-direction: column;align-items: center;background-color: white;padding-right: 0.2em;padding-left: 0.2em;position: relative;}#sk-container-id-2 div.sk-item {position: relative;z-index: 1;}#sk-container-id-2 div.sk-parallel {display: flex;align-items: stretch;justify-content: center;background-color: white;position: relative;}#sk-container-id-2 div.sk-item::before, #sk-container-id-2 div.sk-parallel-item::before {content: \"\";position: absolute;border-left: 1px solid gray;box-sizing: border-box;top: 0;bottom: 0;left: 50%;z-index: -1;}#sk-container-id-2 div.sk-parallel-item {display: flex;flex-direction: column;z-index: 1;position: relative;background-color: white;}#sk-container-id-2 div.sk-parallel-item:first-child::after {align-self: flex-end;width: 50%;}#sk-container-id-2 div.sk-parallel-item:last-child::after {align-self: flex-start;width: 50%;}#sk-container-id-2 div.sk-parallel-item:only-child::after {width: 0;}#sk-container-id-2 div.sk-dashed-wrapped {border: 1px dashed gray;margin: 0 0.4em 0.5em 0.4em;box-sizing: border-box;padding-bottom: 0.4em;background-color: white;}#sk-container-id-2 div.sk-label label {font-family: monospace;font-weight: bold;display: inline-block;line-height: 1.2em;}#sk-container-id-2 div.sk-label-container {text-align: center;}#sk-container-id-2 div.sk-container {/* jupyter's `normalize.less` sets `[hidden] { display: none; }` but bootstrap.min.css set `[hidden] { display: none !important; }` so we also need the `!important` here to be able to override the default hidden behavior on the sphinx rendered scikit-learn.org. See: https://github.com/scikit-learn/scikit-learn/issues/21755 */display: inline-block !important;position: relative;}#sk-container-id-2 div.sk-text-repr-fallback {display: none;}</style><div id=\"sk-container-id-2\" class=\"sk-top-container\"><div class=\"sk-text-repr-fallback\"><pre>XGBClassifier(base_score=None, booster=None, callbacks=None,\n",
              "              colsample_bylevel=None, colsample_bynode=None,\n",
              "              colsample_bytree=None, device=None, early_stopping_rounds=None,\n",
              "              enable_categorical=False, eval_metric=None, feature_types=None,\n",
              "              gamma=None, grow_policy=None, importance_type=None,\n",
              "              interaction_constraints=None, learning_rate=None, max_bin=None,\n",
              "              max_cat_threshold=None, max_cat_to_onehot=None,\n",
              "              max_delta_step=None, max_depth=None, max_leaves=None,\n",
              "              min_child_weight=None, missing=nan, monotone_constraints=None,\n",
              "              multi_strategy=None, n_estimators=None, n_jobs=None,\n",
              "              num_parallel_tree=None, random_state=None, ...)</pre><b>In a Jupyter environment, please rerun this cell to show the HTML representation or trust the notebook. <br />On GitHub, the HTML representation is unable to render, please try loading this page with nbviewer.org.</b></div><div class=\"sk-container\" hidden><div class=\"sk-item\"><div class=\"sk-estimator sk-toggleable\"><input class=\"sk-toggleable__control sk-hidden--visually\" id=\"sk-estimator-id-2\" type=\"checkbox\" checked><label for=\"sk-estimator-id-2\" class=\"sk-toggleable__label sk-toggleable__label-arrow\">XGBClassifier</label><div class=\"sk-toggleable__content\"><pre>XGBClassifier(base_score=None, booster=None, callbacks=None,\n",
              "              colsample_bylevel=None, colsample_bynode=None,\n",
              "              colsample_bytree=None, device=None, early_stopping_rounds=None,\n",
              "              enable_categorical=False, eval_metric=None, feature_types=None,\n",
              "              gamma=None, grow_policy=None, importance_type=None,\n",
              "              interaction_constraints=None, learning_rate=None, max_bin=None,\n",
              "              max_cat_threshold=None, max_cat_to_onehot=None,\n",
              "              max_delta_step=None, max_depth=None, max_leaves=None,\n",
              "              min_child_weight=None, missing=nan, monotone_constraints=None,\n",
              "              multi_strategy=None, n_estimators=None, n_jobs=None,\n",
              "              num_parallel_tree=None, random_state=None, ...)</pre></div></div></div></div></div>"
            ]
          },
          "metadata": {},
          "execution_count": 49
        }
      ]
    },
    {
      "cell_type": "code",
      "source": [
        "#model prediction and accuracy\n",
        "\n",
        "y_test_pred = xgb_model.predict(X_test)\n",
        "\n",
        "print(f'y_test_pred: {y_test_pred}')\n",
        "\n",
        "#check accuracy\n",
        "accuracy = accuracy_score(y_test, y_test_pred)\n",
        "\n",
        "print(f'model accuracy after prediction: {accuracy}')"
      ],
      "metadata": {
        "colab": {
          "base_uri": "https://localhost:8080/"
        },
        "id": "8ksm9KUg54Rk",
        "outputId": "3db92445-54a2-4865-afc3-0e798be849e1"
      },
      "execution_count": 50,
      "outputs": [
        {
          "output_type": "stream",
          "name": "stdout",
          "text": [
            "y_test_pred: [0 0 1 ... 1 1 1]\n",
            "model accuracy after prediction: 0.9945615227736234\n"
          ]
        }
      ]
    },
    {
      "cell_type": "markdown",
      "source": [
        "# Time Series Analysis\n",
        "\n",
        "**Studying data points over time for patterns & forecasts.**\n",
        "\n",
        "Time Series Analysis involves studying and modeling data points collected over time to understand patterns, trends, and make forecasts. For example, analyzing monthly sales data to identify seasonal trends and predict future sales volumes.\n",
        "\n",
        "\n",
        "Time Series Analysis in the stock market involves analyzing historical price and volume data to identify patterns, trends, and seasonality, helping investors make informed decisions about buying, selling, or holding stocks. For instance, studying daily stock prices to detect patterns like trends, cycles, or anomalies, aiding in predicting future price movements.\n",
        "\n",
        "**Time series analysis in cybersecurity** involves analyzing sequential data to detect patterns and anomalies, aiding in threat detection and risk assessment. For instance, analyzing network traffic logs to identify abnormal patterns indicative of potential cyber attacks, such as DDoS attacks or malware infections."
      ],
      "metadata": {
        "id": "oq8U-HL97bq3"
      }
    },
    {
      "cell_type": "code",
      "source": [
        "#install statmodel\n",
        "#!pip install statsmodels scipy"
      ],
      "metadata": {
        "id": "q5qZLprg6bVH"
      },
      "execution_count": 51,
      "outputs": []
    },
    {
      "cell_type": "code",
      "source": [
        "#import Libraries\n",
        "\n",
        "#for timeseries\n",
        "from random import random\n",
        "\n",
        "# Plotting\n",
        "#%matplotlib inline  # Magic function\n",
        "\n",
        "import matplotlib.pyplot as plt\n",
        "\n",
        "#model selection for time series (AutoRegression (AR))\n",
        "from statsmodels.tsa.ar_model import AutoReg\n",
        "\n",
        "# Import ARMA (AutoRegressive Moving Average) model\n",
        "from statsmodels.tsa.arima.model import ARIMA\n",
        "\n",
        "# Simple exponential smoothing for noise reduction\n",
        "from statsmodels.tsa.holtwinters import SimpleExpSmoothing\n",
        "\n",
        "\n",
        "\n",
        "\n"
      ],
      "metadata": {
        "id": "uHJLB6OOAKNy"
      },
      "execution_count": 52,
      "outputs": []
    },
    {
      "cell_type": "code",
      "source": [
        "# to create a linear relationship (y = mx +c)\n",
        "time_series = [2*x + random() for x in range(1,100)]\n",
        "\n",
        "print(f'values of time_series: {time_series}')"
      ],
      "metadata": {
        "colab": {
          "base_uri": "https://localhost:8080/"
        },
        "id": "r8CP52hfAS9w",
        "outputId": "5c872ac0-02b2-48ba-a6ba-06d31f3d3fea"
      },
      "execution_count": 53,
      "outputs": [
        {
          "output_type": "stream",
          "name": "stdout",
          "text": [
            "values of time_series: [2.0442556706574457, 4.213518651916827, 6.633868292043109, 8.32002046853053, 10.89962817182741, 12.266894010831145, 14.193530720189658, 16.695646284363484, 18.48379443093716, 20.273813599050694, 22.631856499452287, 24.916699779111116, 26.286127957686844, 28.230562249567722, 30.298497910465006, 32.613554918343105, 34.82125919921297, 36.72437166031007, 38.54884589051229, 40.789441995740006, 42.28957136311568, 44.85047401895801, 46.898737996054784, 48.183355904552215, 50.374468389416606, 52.969849948846644, 54.73591073292239, 56.0306291889802, 58.66355930145694, 60.32681024268196, 62.9524376036075, 64.0423029017884, 66.03134712781221, 68.36411232130754, 70.34698843477452, 72.22453098698092, 74.77325301507832, 76.38347324109247, 78.69529740502406, 80.38814761289292, 82.29765517125293, 84.12176810101124, 86.86250471541757, 88.98737950215198, 90.3737120838549, 92.84950809009297, 94.44757436896165, 96.15416814064567, 98.58067744495183, 100.23851973505356, 102.37818587799661, 104.72608194063763, 106.29975282145544, 108.82710058331584, 110.0647727318716, 112.43406573891828, 114.08603054061484, 116.46215330541735, 118.8951790629948, 120.26471268995122, 122.60142266198362, 124.22902710722576, 126.47792188311989, 128.2903493819446, 130.16191149486443, 132.82620751353664, 134.825200602814, 136.43773657054726, 138.06184293694352, 140.18069062788874, 142.16962575098935, 144.89897490992686, 146.0917156728999, 148.44059811967338, 150.9164301496613, 152.09382834694648, 154.7414934445871, 156.0063388750004, 158.58272953320167, 160.22157775971746, 162.28776786380803, 164.42511210103865, 166.6917273187294, 168.87667564009, 170.76319143896566, 172.8910502813378, 174.42076344274628, 176.4594524256346, 178.40339080690373, 180.00777284934452, 182.0814236591034, 184.50561112561877, 186.4772551625776, 188.72181579251784, 190.22702352407094, 192.68808534966823, 194.62985746316167, 196.6162609076773, 198.19657378558415]\n"
          ]
        }
      ]
    },
    {
      "cell_type": "code",
      "source": [
        "# visualization\n",
        "plt.plot(time_series)\n",
        "plt.show()"
      ],
      "metadata": {
        "colab": {
          "base_uri": "https://localhost:8080/",
          "height": 430
        },
        "id": "Ed8JzENJBqlL",
        "outputId": "57cc66c5-a945-4ff4-d763-b2e3c8fead06"
      },
      "execution_count": 54,
      "outputs": [
        {
          "output_type": "display_data",
          "data": {
            "text/plain": [
              "<Figure size 640x480 with 1 Axes>"
            ],
            "image/png": "[encoded data removed]"
          },
          "metadata": {}
        }
      ]
    },
    {
      "cell_type": "markdown",
      "source": [
        "### Model Selection for Time Series\n",
        "\n",
        "AutoRegression (AR) models in time series predict future values based on past observations, capturing the relationship between an observation and a number of lagged observations (previous time steps). Benefits include capturing temporal dependencies, adaptability to various data patterns, and simplicity in implementation. 📈⏳🔍"
      ],
      "metadata": {
        "id": "e5hAke1iDat1"
      }
    },
    {
      "cell_type": "code",
      "source": [
        "#apply AutoRegression\n",
        "\n",
        "# Fit the AutoReg model\n",
        "lag = 2  # two previous time points to predict the current time point\n",
        "model = AutoReg(time_series, lags=lag)\n",
        "model_fit = model.fit()\n",
        "\n",
        "# Forecast future values\n",
        "forecast = model_fit.predict(start=len(time_series), end=len(time_series))\n",
        "print(forecast)"
      ],
      "metadata": {
        "colab": {
          "base_uri": "https://localhost:8080/"
        },
        "id": "8kbFN5xYDv8K",
        "outputId": "7c03a847-51a9-4ea8-e451-acaf629d1aae"
      },
      "execution_count": 55,
      "outputs": [
        {
          "output_type": "stream",
          "name": "stdout",
          "text": [
            "[200.39844587]\n"
          ]
        }
      ]
    },
    {
      "cell_type": "markdown",
      "source": [
        "**Moving Average (MA)** in time series calculates the average of a fixed number of consecutive data points, smoothing out short-term fluctuations to reveal underlying trends. 📊✨\n",
        "\n",
        "**Simple Exponential Smoothing (SES)** in time series assigns exponentially decreasing weights to past observations, giving more importance to recent data while smoothing out noise. 📉🔍\n",
        "\n",
        "\n",
        "**Moving Average (MA) in time series:** Averages out short-term fluctuations to reveal underlying trends, aiding in identifying patterns over time. 📈🔄\n",
        "\n",
        "**Simple Exponential Smoothing (SES) in time series:** Emphasizes recent observations while smoothing out noise, useful for short-term forecasting and trend detection. 📊🔍"
      ],
      "metadata": {
        "id": "w-Dwn6hFIAgs"
      }
    },
    {
      "cell_type": "code",
      "source": [
        "#moving avg\n",
        "\n",
        "# Fitting the moving average model\n",
        "model_moving_avg = ARIMA(time_series, order=(0, 0, 1))  # ARIMA(p, d, q), set p=0 (no AR terms), d=1 (one differencing), q=1 (one MA term)\n",
        "model_ma_fit = model_moving_avg.fit()\n",
        "\n",
        "# Forecast future values\n",
        "forecast1 = model_ma_fit.predict(start=len(time_series), end=len(time_series))\n",
        "print(forecast1)"
      ],
      "metadata": {
        "colab": {
          "base_uri": "https://localhost:8080/"
        },
        "id": "KnvLbbCQF7D8",
        "outputId": "135c343a-1a83-4415-d73a-0175ab34bc4a"
      },
      "execution_count": 56,
      "outputs": [
        {
          "output_type": "stream",
          "name": "stdout",
          "text": [
            "[149.10064654]\n"
          ]
        },
        {
          "output_type": "stream",
          "name": "stderr",
          "text": [
            "/usr/local/lib/python3.10/dist-packages/statsmodels/tsa/statespace/sarimax.py:978: UserWarning:\n",
            "\n",
            "Non-invertible starting MA parameters found. Using zeros as starting parameters.\n",
            "\n"
          ]
        }
      ]
    },
    {
      "cell_type": "code",
      "source": [
        "# Simple exponential smoothing\n",
        "model_ses = SimpleExpSmoothing(time_series)\n",
        "\n",
        "model_ses_fit = model_ses.fit()\n",
        "\n",
        "# Forecast future values\n",
        "forecast2 = model_ses_fit.predict(start=len(time_series), end=len(time_series))\n",
        "print(forecast2)"
      ],
      "metadata": {
        "colab": {
          "base_uri": "https://localhost:8080/"
        },
        "id": "vM6Z-WqbH0Tw",
        "outputId": "f636314a-b44c-4c67-d31d-2874e0a0ce67"
      },
      "execution_count": 57,
      "outputs": [
        {
          "output_type": "stream",
          "name": "stdout",
          "text": [
            "[198.19657376]\n"
          ]
        }
      ]
    },
    {
      "cell_type": "markdown",
      "source": [],
      "metadata": {
        "id": "bGcyB1beUaKr"
      }
    },
    {
      "cell_type": "code",
      "source": [],
      "metadata": {
        "id": "JUz19UT9Tf4f"
      },
      "execution_count": null,
      "outputs": []
    }
  ]
}